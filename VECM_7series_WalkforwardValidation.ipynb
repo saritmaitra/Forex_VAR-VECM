{
  "nbformat": 4,
  "nbformat_minor": 0,
  "metadata": {
    "colab": {
      "name": "VECM_7series_WalkforwardValidation.ipynb",
      "provenance": [],
      "collapsed_sections": [],
      "toc_visible": true,
      "authorship_tag": "ABX9TyND634m8w1ePCLyYQrsiy0M",
      "include_colab_link": true
    },
    "kernelspec": {
      "name": "python3",
      "display_name": "Python 3"
    }
  },
  "cells": [
    {
      "cell_type": "markdown",
      "metadata": {
        "id": "view-in-github",
        "colab_type": "text"
      },
      "source": [
        "<a href=\"https://colab.research.google.com/github/saritmaitra/Forex_VAR-VECM/blob/main/VECM_7series_WalkforwardValidation.ipynb\" target=\"_parent\"><img src=\"https://colab.research.google.com/assets/colab-badge.svg\" alt=\"Open In Colab\"/></a>"
      ]
    },
    {
      "cell_type": "markdown",
      "metadata": {
        "id": "ThO4o9-umbWn"
      },
      "source": [
        "author: @ Sarit Maitra\n",
        "\n",
        "Fitting VECM with half of data to validate; \n",
        "\n",
        "-> Step 5: Estimating the VECM model by maximum likelihood method, test validations by visual diagnostic or correlogram, and checking that residuals from the model are white noise.\n"
      ]
    },
    {
      "cell_type": "code",
      "metadata": {
        "id": "mW3OU8vXLgfY"
      },
      "source": [
        "print('Necessary libraries & dependencies')\n",
        "!pip install pyforest\n",
        "from pyforest import *\n",
        "import datetime, pickle, copy, warnings, math\n",
        "from pandas import DataFrame, merge, concat\n",
        "plt.style.use('dark_background')\n",
        "from google.colab import files\n",
        "!pip install arch\n",
        "from arch.unitroot import DFGLS\n",
        "pd.set_option('display.max_rows', 500)\n",
        "pd.set_option('display.max_columns', 500)\n",
        "pd.set_option('display.width', 150)\n",
        "from sklearn.metrics import mean_absolute_error, mean_squared_error\n",
        "from math import sqrt\n",
        "from numpy import sqrt\n",
        "from statsmodels.tsa.stattools import grangercausalitytests, adfuller\n",
        "from statsmodels.stats.stattools import durbin_watson\n",
        "from statsmodels.tsa.vector_ar import vecm\n",
        "import statsmodels.stats.api as sms\n",
        "from statsmodels.compat import lzip "
      ],
      "execution_count": null,
      "outputs": []
    },
    {
      "cell_type": "code",
      "metadata": {
        "id": "_cyL89QVLxaw",
        "colab": {
          "resources": {
            "http://localhost:8080/nbextensions/google.colab/files.js": {
              "data": "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",
              "ok": true,
              "headers": [
                [
                  "content-type",
                  "application/javascript"
                ]
              ],
              "status": 200,
              "status_text": ""
            }
          },
          "base_uri": "https://localhost:8080/",
          "height": 90
        },
        "outputId": "f33a1669-5683-4974-c06d-ab7a8a305ae2"
      },
      "source": [
        "uploaded = files.upload()\n",
        "print('view data...')\n",
        "original = pd.read_csv(\"series_7_1.csv\")\n",
        "original = original.set_index('timestamp')\n",
        "original = original.sort_index(ascending=True)"
      ],
      "execution_count": null,
      "outputs": [
        {
          "output_type": "display_data",
          "data": {
            "text/html": [
              "\n",
              "     <input type=\"file\" id=\"files-ab9acb68-bfd5-4e6b-a162-de5272b62a6f\" name=\"files[]\" multiple disabled\n",
              "        style=\"border:none\" />\n",
              "     <output id=\"result-ab9acb68-bfd5-4e6b-a162-de5272b62a6f\">\n",
              "      Upload widget is only available when the cell has been executed in the\n",
              "      current browser session. Please rerun this cell to enable.\n",
              "      </output>\n",
              "      <script src=\"/nbextensions/google.colab/files.js\"></script> "
            ],
            "text/plain": [
              "<IPython.core.display.HTML object>"
            ]
          },
          "metadata": {
            "tags": []
          }
        },
        {
          "output_type": "stream",
          "text": [
            "Saving series_7_1.csv to series_7_1.csv\n",
            "view data...\n"
          ],
          "name": "stdout"
        },
        {
          "output_type": "display_data",
          "data": {
            "application/javascript": [
              "\n",
              "        if (window._pyforest_update_imports_cell) { window._pyforest_update_imports_cell('import pandas as pd\\nimport matplotlib.pyplot as plt'); }\n",
              "    "
            ],
            "text/plain": [
              "<IPython.core.display.Javascript object>"
            ]
          },
          "metadata": {
            "tags": []
          }
        }
      ]
    },
    {
      "cell_type": "code",
      "metadata": {
        "id": "DrjfnjwXj047"
      },
      "source": [
        "#original_log = np.log(original)\n",
        "#original_log"
      ],
      "execution_count": null,
      "outputs": []
    },
    {
      "cell_type": "code",
      "metadata": {
        "colab": {
          "base_uri": "https://localhost:8080/",
          "height": 431
        },
        "id": "1-xyIKkbSpxT",
        "outputId": "b533f189-f340-4981-c3a1-a67d91a17350"
      },
      "source": [
        "original"
      ],
      "execution_count": null,
      "outputs": [
        {
          "output_type": "execute_result",
          "data": {
            "text/html": [
              "<div>\n",
              "<style scoped>\n",
              "    .dataframe tbody tr th:only-of-type {\n",
              "        vertical-align: middle;\n",
              "    }\n",
              "\n",
              "    .dataframe tbody tr th {\n",
              "        vertical-align: top;\n",
              "    }\n",
              "\n",
              "    .dataframe thead th {\n",
              "        text-align: right;\n",
              "    }\n",
              "</style>\n",
              "<table border=\"1\" class=\"dataframe\">\n",
              "  <thead>\n",
              "    <tr style=\"text-align: right;\">\n",
              "      <th></th>\n",
              "      <th>es</th>\n",
              "      <th>eurusd</th>\n",
              "      <th>gbpusd</th>\n",
              "      <th>gc</th>\n",
              "      <th>usdjpy</th>\n",
              "      <th>zbm0</th>\n",
              "      <th>eurchf</th>\n",
              "    </tr>\n",
              "    <tr>\n",
              "      <th>timestamp</th>\n",
              "      <th></th>\n",
              "      <th></th>\n",
              "      <th></th>\n",
              "      <th></th>\n",
              "      <th></th>\n",
              "      <th></th>\n",
              "      <th></th>\n",
              "    </tr>\n",
              "  </thead>\n",
              "  <tbody>\n",
              "    <tr>\n",
              "      <th>2020-04-01 00:00:00</th>\n",
              "      <td>2540.375</td>\n",
              "      <td>1102770.0</td>\n",
              "      <td>1241055.0</td>\n",
              "      <td>1591.90</td>\n",
              "      <td>107463000.0</td>\n",
              "      <td>179.953125</td>\n",
              "      <td>1060370.0</td>\n",
              "    </tr>\n",
              "    <tr>\n",
              "      <th>2020-04-01 00:01:00</th>\n",
              "      <td>2538.125</td>\n",
              "      <td>1103015.0</td>\n",
              "      <td>1241150.0</td>\n",
              "      <td>1590.90</td>\n",
              "      <td>107419500.0</td>\n",
              "      <td>179.953125</td>\n",
              "      <td>1060435.0</td>\n",
              "    </tr>\n",
              "    <tr>\n",
              "      <th>2020-04-01 00:02:00</th>\n",
              "      <td>2538.375</td>\n",
              "      <td>1102830.0</td>\n",
              "      <td>1241100.0</td>\n",
              "      <td>1591.55</td>\n",
              "      <td>107437000.0</td>\n",
              "      <td>179.921875</td>\n",
              "      <td>1060055.0</td>\n",
              "    </tr>\n",
              "    <tr>\n",
              "      <th>2020-04-01 00:03:00</th>\n",
              "      <td>2537.750</td>\n",
              "      <td>1102735.0</td>\n",
              "      <td>1241100.0</td>\n",
              "      <td>1591.00</td>\n",
              "      <td>107382500.0</td>\n",
              "      <td>179.921875</td>\n",
              "      <td>1059870.0</td>\n",
              "    </tr>\n",
              "    <tr>\n",
              "      <th>2020-04-01 00:04:00</th>\n",
              "      <td>2535.250</td>\n",
              "      <td>1102780.0</td>\n",
              "      <td>1241860.0</td>\n",
              "      <td>1590.60</td>\n",
              "      <td>107356500.0</td>\n",
              "      <td>179.921875</td>\n",
              "      <td>1059870.0</td>\n",
              "    </tr>\n",
              "    <tr>\n",
              "      <th>...</th>\n",
              "      <td>...</td>\n",
              "      <td>...</td>\n",
              "      <td>...</td>\n",
              "      <td>...</td>\n",
              "      <td>...</td>\n",
              "      <td>...</td>\n",
              "      <td>...</td>\n",
              "    </tr>\n",
              "    <tr>\n",
              "      <th>2020-04-30 23:55:00</th>\n",
              "      <td>2870.625</td>\n",
              "      <td>1094390.0</td>\n",
              "      <td>1258030.0</td>\n",
              "      <td>1695.50</td>\n",
              "      <td>107279500.0</td>\n",
              "      <td>180.921875</td>\n",
              "      <td>1057785.0</td>\n",
              "    </tr>\n",
              "    <tr>\n",
              "      <th>2020-04-30 23:56:00</th>\n",
              "      <td>2872.125</td>\n",
              "      <td>1094390.0</td>\n",
              "      <td>1257990.0</td>\n",
              "      <td>1695.35</td>\n",
              "      <td>107304000.0</td>\n",
              "      <td>180.890625</td>\n",
              "      <td>1057920.0</td>\n",
              "    </tr>\n",
              "    <tr>\n",
              "      <th>2020-04-30 23:57:00</th>\n",
              "      <td>2872.500</td>\n",
              "      <td>1094465.0</td>\n",
              "      <td>1258085.0</td>\n",
              "      <td>1695.45</td>\n",
              "      <td>107295500.0</td>\n",
              "      <td>180.906250</td>\n",
              "      <td>1057905.0</td>\n",
              "    </tr>\n",
              "    <tr>\n",
              "      <th>2020-04-30 23:58:00</th>\n",
              "      <td>2874.375</td>\n",
              "      <td>1094485.0</td>\n",
              "      <td>1258040.0</td>\n",
              "      <td>1695.40</td>\n",
              "      <td>107287000.0</td>\n",
              "      <td>180.921875</td>\n",
              "      <td>1057805.0</td>\n",
              "    </tr>\n",
              "    <tr>\n",
              "      <th>2020-04-30 23:59:00</th>\n",
              "      <td>2874.375</td>\n",
              "      <td>1094490.0</td>\n",
              "      <td>1258140.0</td>\n",
              "      <td>1695.40</td>\n",
              "      <td>107284500.0</td>\n",
              "      <td>180.921875</td>\n",
              "      <td>1057870.0</td>\n",
              "    </tr>\n",
              "  </tbody>\n",
              "</table>\n",
              "<p>30967 rows × 7 columns</p>\n",
              "</div>"
            ],
            "text/plain": [
              "                           es     eurusd     gbpusd       gc       usdjpy        zbm0     eurchf\n",
              "timestamp                                                                                       \n",
              "2020-04-01 00:00:00  2540.375  1102770.0  1241055.0  1591.90  107463000.0  179.953125  1060370.0\n",
              "2020-04-01 00:01:00  2538.125  1103015.0  1241150.0  1590.90  107419500.0  179.953125  1060435.0\n",
              "2020-04-01 00:02:00  2538.375  1102830.0  1241100.0  1591.55  107437000.0  179.921875  1060055.0\n",
              "2020-04-01 00:03:00  2537.750  1102735.0  1241100.0  1591.00  107382500.0  179.921875  1059870.0\n",
              "2020-04-01 00:04:00  2535.250  1102780.0  1241860.0  1590.60  107356500.0  179.921875  1059870.0\n",
              "...                       ...        ...        ...      ...          ...         ...        ...\n",
              "2020-04-30 23:55:00  2870.625  1094390.0  1258030.0  1695.50  107279500.0  180.921875  1057785.0\n",
              "2020-04-30 23:56:00  2872.125  1094390.0  1257990.0  1695.35  107304000.0  180.890625  1057920.0\n",
              "2020-04-30 23:57:00  2872.500  1094465.0  1258085.0  1695.45  107295500.0  180.906250  1057905.0\n",
              "2020-04-30 23:58:00  2874.375  1094485.0  1258040.0  1695.40  107287000.0  180.921875  1057805.0\n",
              "2020-04-30 23:59:00  2874.375  1094490.0  1258140.0  1695.40  107284500.0  180.921875  1057870.0\n",
              "\n",
              "[30967 rows x 7 columns]"
            ]
          },
          "metadata": {
            "tags": []
          },
          "execution_count": 7
        }
      ]
    },
    {
      "cell_type": "code",
      "metadata": {
        "colab": {
          "base_uri": "https://localhost:8080/",
          "height": 254
        },
        "id": "oFJ96R0CV2p4",
        "outputId": "1d7939fc-d61e-4fba-f44d-aad01bb0bbec"
      },
      "source": [
        "max_lag = 6\n",
        "test = 'ssr_chi2test'\n",
        "def causation_matrix(data, variables, test='ssr_chi2test', verbose=False):    \n",
        "  X = DataFrame(np.zeros((len(variables), len(variables))), columns=variables, index=variables)\n",
        "  for c in X.columns:\n",
        "    for r in X.index:\n",
        "      test_result = grangercausalitytests(data[[r, c]], maxlag = max_lag, verbose = False)\n",
        "      p_values = [round(test_result[i+1][0][test][1],4) for i in range(max_lag)]\n",
        "      if verbose: print(f'Y = {r}, X = {c}, P Values = {p_values}')\n",
        "      min_p_value = np.min(p_values)\n",
        "      X.loc[r, c] = min_p_value\n",
        "    X.columns = [var + '-x axis' for var in variables]\n",
        "    X.index = [var + '-y axis' for var in variables]\n",
        "    return X\n",
        "causation_matrix(original, variables = original.columns) "
      ],
      "execution_count": null,
      "outputs": [
        {
          "output_type": "display_data",
          "data": {
            "application/javascript": [
              "\n",
              "        if (window._pyforest_update_imports_cell) { window._pyforest_update_imports_cell('import pandas as pd\\nimport numpy as np\\nimport matplotlib.pyplot as plt'); }\n",
              "    "
            ],
            "text/plain": [
              "<IPython.core.display.Javascript object>"
            ]
          },
          "metadata": {
            "tags": []
          }
        },
        {
          "output_type": "display_data",
          "data": {
            "application/javascript": [
              "\n",
              "        if (window._pyforest_update_imports_cell) { window._pyforest_update_imports_cell('import pandas as pd\\nimport numpy as np\\nimport matplotlib.pyplot as plt'); }\n",
              "    "
            ],
            "text/plain": [
              "<IPython.core.display.Javascript object>"
            ]
          },
          "metadata": {
            "tags": []
          }
        },
        {
          "output_type": "display_data",
          "data": {
            "application/javascript": [
              "\n",
              "        if (window._pyforest_update_imports_cell) { window._pyforest_update_imports_cell('import pandas as pd\\nimport numpy as np\\nimport matplotlib.pyplot as plt'); }\n",
              "    "
            ],
            "text/plain": [
              "<IPython.core.display.Javascript object>"
            ]
          },
          "metadata": {
            "tags": []
          }
        },
        {
          "output_type": "display_data",
          "data": {
            "application/javascript": [
              "\n",
              "        if (window._pyforest_update_imports_cell) { window._pyforest_update_imports_cell('import pandas as pd\\nimport numpy as np\\nimport matplotlib.pyplot as plt'); }\n",
              "    "
            ],
            "text/plain": [
              "<IPython.core.display.Javascript object>"
            ]
          },
          "metadata": {
            "tags": []
          }
        },
        {
          "output_type": "display_data",
          "data": {
            "application/javascript": [
              "\n",
              "        if (window._pyforest_update_imports_cell) { window._pyforest_update_imports_cell('import pandas as pd\\nimport numpy as np\\nimport matplotlib.pyplot as plt'); }\n",
              "    "
            ],
            "text/plain": [
              "<IPython.core.display.Javascript object>"
            ]
          },
          "metadata": {
            "tags": []
          }
        },
        {
          "output_type": "display_data",
          "data": {
            "application/javascript": [
              "\n",
              "        if (window._pyforest_update_imports_cell) { window._pyforest_update_imports_cell('import pandas as pd\\nimport numpy as np\\nimport matplotlib.pyplot as plt'); }\n",
              "    "
            ],
            "text/plain": [
              "<IPython.core.display.Javascript object>"
            ]
          },
          "metadata": {
            "tags": []
          }
        },
        {
          "output_type": "display_data",
          "data": {
            "application/javascript": [
              "\n",
              "        if (window._pyforest_update_imports_cell) { window._pyforest_update_imports_cell('import pandas as pd\\nimport numpy as np\\nimport matplotlib.pyplot as plt'); }\n",
              "    "
            ],
            "text/plain": [
              "<IPython.core.display.Javascript object>"
            ]
          },
          "metadata": {
            "tags": []
          }
        },
        {
          "output_type": "display_data",
          "data": {
            "application/javascript": [
              "\n",
              "        if (window._pyforest_update_imports_cell) { window._pyforest_update_imports_cell('import pandas as pd\\nimport numpy as np\\nimport matplotlib.pyplot as plt'); }\n",
              "    "
            ],
            "text/plain": [
              "<IPython.core.display.Javascript object>"
            ]
          },
          "metadata": {
            "tags": []
          }
        },
        {
          "output_type": "execute_result",
          "data": {
            "text/html": [
              "<div>\n",
              "<style scoped>\n",
              "    .dataframe tbody tr th:only-of-type {\n",
              "        vertical-align: middle;\n",
              "    }\n",
              "\n",
              "    .dataframe tbody tr th {\n",
              "        vertical-align: top;\n",
              "    }\n",
              "\n",
              "    .dataframe thead th {\n",
              "        text-align: right;\n",
              "    }\n",
              "</style>\n",
              "<table border=\"1\" class=\"dataframe\">\n",
              "  <thead>\n",
              "    <tr style=\"text-align: right;\">\n",
              "      <th></th>\n",
              "      <th>es-x axis</th>\n",
              "      <th>eurusd-x axis</th>\n",
              "      <th>gbpusd-x axis</th>\n",
              "      <th>gc-x axis</th>\n",
              "      <th>usdjpy-x axis</th>\n",
              "      <th>zbm0-x axis</th>\n",
              "      <th>eurchf-x axis</th>\n",
              "    </tr>\n",
              "  </thead>\n",
              "  <tbody>\n",
              "    <tr>\n",
              "      <th>es-y axis</th>\n",
              "      <td>1.0000</td>\n",
              "      <td>0.0</td>\n",
              "      <td>0.0</td>\n",
              "      <td>0.0</td>\n",
              "      <td>0.0</td>\n",
              "      <td>0.0</td>\n",
              "      <td>0.0</td>\n",
              "    </tr>\n",
              "    <tr>\n",
              "      <th>eurusd-y axis</th>\n",
              "      <td>0.0000</td>\n",
              "      <td>0.0</td>\n",
              "      <td>0.0</td>\n",
              "      <td>0.0</td>\n",
              "      <td>0.0</td>\n",
              "      <td>0.0</td>\n",
              "      <td>0.0</td>\n",
              "    </tr>\n",
              "    <tr>\n",
              "      <th>gbpusd-y axis</th>\n",
              "      <td>0.0000</td>\n",
              "      <td>0.0</td>\n",
              "      <td>0.0</td>\n",
              "      <td>0.0</td>\n",
              "      <td>0.0</td>\n",
              "      <td>0.0</td>\n",
              "      <td>0.0</td>\n",
              "    </tr>\n",
              "    <tr>\n",
              "      <th>gc-y axis</th>\n",
              "      <td>0.0008</td>\n",
              "      <td>0.0</td>\n",
              "      <td>0.0</td>\n",
              "      <td>0.0</td>\n",
              "      <td>0.0</td>\n",
              "      <td>0.0</td>\n",
              "      <td>0.0</td>\n",
              "    </tr>\n",
              "    <tr>\n",
              "      <th>usdjpy-y axis</th>\n",
              "      <td>0.0001</td>\n",
              "      <td>0.0</td>\n",
              "      <td>0.0</td>\n",
              "      <td>0.0</td>\n",
              "      <td>0.0</td>\n",
              "      <td>0.0</td>\n",
              "      <td>0.0</td>\n",
              "    </tr>\n",
              "    <tr>\n",
              "      <th>zbm0-y axis</th>\n",
              "      <td>0.0000</td>\n",
              "      <td>0.0</td>\n",
              "      <td>0.0</td>\n",
              "      <td>0.0</td>\n",
              "      <td>0.0</td>\n",
              "      <td>0.0</td>\n",
              "      <td>0.0</td>\n",
              "    </tr>\n",
              "    <tr>\n",
              "      <th>eurchf-y axis</th>\n",
              "      <td>0.0001</td>\n",
              "      <td>0.0</td>\n",
              "      <td>0.0</td>\n",
              "      <td>0.0</td>\n",
              "      <td>0.0</td>\n",
              "      <td>0.0</td>\n",
              "      <td>0.0</td>\n",
              "    </tr>\n",
              "  </tbody>\n",
              "</table>\n",
              "</div>"
            ],
            "text/plain": [
              "               es-x axis  eurusd-x axis  gbpusd-x axis  gc-x axis  usdjpy-x axis  zbm0-x axis  eurchf-x axis\n",
              "es-y axis         1.0000            0.0            0.0        0.0            0.0          0.0            0.0\n",
              "eurusd-y axis     0.0000            0.0            0.0        0.0            0.0          0.0            0.0\n",
              "gbpusd-y axis     0.0000            0.0            0.0        0.0            0.0          0.0            0.0\n",
              "gc-y axis         0.0008            0.0            0.0        0.0            0.0          0.0            0.0\n",
              "usdjpy-y axis     0.0001            0.0            0.0        0.0            0.0          0.0            0.0\n",
              "zbm0-y axis       0.0000            0.0            0.0        0.0            0.0          0.0            0.0\n",
              "eurchf-y axis     0.0001            0.0            0.0        0.0            0.0          0.0            0.0"
            ]
          },
          "metadata": {
            "tags": []
          },
          "execution_count": 8
        }
      ]
    },
    {
      "cell_type": "markdown",
      "metadata": {
        "id": "xRn5LzAih-Im"
      },
      "source": [
        "# 1 Vector error correction model:\n",
        "\n",
        "VECM allows to model jointly short-term dynamics (variables in first difference) and long-term dynamics (variables at level).\n",
        "\n",
        "We have determined the lag length earlier, trend specification and the number of cointegrating relationships, we can fit the VECM model."
      ]
    },
    {
      "cell_type": "code",
      "metadata": {
        "id": "bijOsToEiBVJ",
        "colab": {
          "base_uri": "https://localhost:8080/"
        },
        "outputId": "49c2097c-3d35-41a8-aa1f-825aa2a31cfa"
      },
      "source": [
        "# VECM\n",
        "model = vecm.VECM(original[:15000].values, k_ar_diff = 6, coint_rank = 5, deterministic='co')\n",
        "\n",
        "\"\"\"\n",
        "k_ar_diff = lag length\n",
        "set the deterministic argument to \"co\", meaning that there\n",
        "is a constant inside the cointegrating relationship\n",
        "\"\"\"\n",
        "res = model.fit()\n",
        "print(res.summary())"
      ],
      "execution_count": null,
      "outputs": [
        {
          "output_type": "stream",
          "text": [
            "Det. terms outside the coint. relation & lagged endog. parameters for equation y1\n",
            "==============================================================================\n",
            "                 coef    std err          z      P>|z|      [0.025      0.975]\n",
            "------------------------------------------------------------------------------\n",
            "const        -23.8553     33.263     -0.717      0.473     -89.050      41.340\n",
            "L1.y1          0.0016      0.010      0.165      0.869      -0.017       0.020\n",
            "L1.y2         -0.0002   6.29e-05     -3.691      0.000      -0.000      -0.000\n",
            "L1.y3      -9.356e-05   3.48e-05     -2.692      0.007      -0.000   -2.54e-05\n",
            "L1.y4          0.0283      0.019      1.455      0.146      -0.010       0.066\n",
            "L1.y5      -3.159e-06   6.68e-07     -4.730      0.000   -4.47e-06   -1.85e-06\n",
            "L1.y6         -0.2000      0.517     -0.387      0.699      -1.213       0.813\n",
            "L1.y7          0.0010      0.000      8.426      0.000       0.001       0.001\n",
            "L2.y1          0.0042      0.010      0.440      0.660      -0.015       0.023\n",
            "L2.y2         -0.0007   6.86e-05    -10.412      0.000      -0.001      -0.001\n",
            "L2.y3         -0.0001   3.95e-05     -3.296      0.001      -0.000   -5.28e-05\n",
            "L2.y4          0.0101      0.019      0.516      0.606      -0.028       0.048\n",
            "L2.y5      -1.035e-05   6.88e-07    -15.049      0.000   -1.17e-05      -9e-06\n",
            "L2.y6         -0.1468      0.518     -0.284      0.777      -1.161       0.868\n",
            "L2.y7          0.0009      0.000      7.014      0.000       0.001       0.001\n",
            "L3.y1          0.0030      0.010      0.310      0.756      -0.016       0.022\n",
            "L3.y2         -0.0005   7.14e-05     -6.399      0.000      -0.001      -0.000\n",
            "L3.y3      -1.498e-05   4.09e-05     -0.366      0.714   -9.52e-05    6.52e-05\n",
            "L3.y4         -0.0052      0.019     -0.265      0.791      -0.043       0.033\n",
            "L3.y5      -3.334e-06   6.92e-07     -4.821      0.000   -4.69e-06   -1.98e-06\n",
            "L3.y6          0.1659      0.518      0.320      0.749      -0.849       1.181\n",
            "L3.y7          0.0004      0.000      3.306      0.001       0.000       0.001\n",
            "L4.y1          0.0126      0.010      1.310      0.190      -0.006       0.031\n",
            "L4.y2         -0.0004    7.1e-05     -5.418      0.000      -0.001      -0.000\n",
            "L4.y3       2.039e-05    4.1e-05      0.498      0.619   -5.99e-05       0.000\n",
            "L4.y4         -0.0052      0.019     -0.266      0.790      -0.043       0.033\n",
            "L4.y5          -9e-07   6.86e-07     -1.311      0.190   -2.25e-06    4.45e-07\n",
            "L4.y6          1.2838      0.518      2.479      0.013       0.269       2.299\n",
            "L4.y7          0.0004      0.000      3.398      0.001       0.000       0.001\n",
            "L5.y1          0.0062      0.010      0.650      0.516      -0.013       0.025\n",
            "L5.y2         -0.0002   6.82e-05     -3.118      0.002      -0.000    -7.9e-05\n",
            "L5.y3      -1.241e-05   3.97e-05     -0.312      0.755   -9.03e-05    6.55e-05\n",
            "L5.y4          0.0165      0.019      0.850      0.395      -0.022       0.055\n",
            "L5.y5      -5.145e-07   6.86e-07     -0.750      0.453   -1.86e-06     8.3e-07\n",
            "L5.y6          0.8083      0.518      1.560      0.119      -0.207       1.824\n",
            "L5.y7          0.0005      0.000      4.066      0.000       0.000       0.001\n",
            "L6.y1          0.0073      0.010      0.771      0.441      -0.011       0.026\n",
            "L6.y2         -0.0002   6.32e-05     -2.702      0.007      -0.000   -4.69e-05\n",
            "L6.y3      -7.355e-06   3.48e-05     -0.211      0.833   -7.56e-05    6.09e-05\n",
            "L6.y4          0.0129      0.019      0.665      0.506      -0.025       0.051\n",
            "L6.y5       4.508e-06   6.62e-07      6.811      0.000    3.21e-06     5.8e-06\n",
            "L6.y6          0.5817      0.517      1.125      0.261      -0.432       1.596\n",
            "L6.y7          0.0004      0.000      3.146      0.002       0.000       0.001\n",
            "Det. terms outside the coint. relation & lagged endog. parameters for equation y2\n",
            "==============================================================================\n",
            "                 coef    std err          z      P>|z|      [0.025      0.975]\n",
            "------------------------------------------------------------------------------\n",
            "const       6392.4832   4499.316      1.421      0.155   -2426.014    1.52e+04\n",
            "L1.y1         11.2577      1.289      8.733      0.000       8.731      13.784\n",
            "L1.y2         -0.3743      0.009    -44.028      0.000      -0.391      -0.358\n",
            "L1.y3          0.0689      0.005     14.654      0.000       0.060       0.078\n",
            "L1.y4         10.3615      2.632      3.936      0.000       5.202      15.521\n",
            "L1.y5         -0.0011   9.03e-05    -12.231      0.000      -0.001      -0.001\n",
            "L1.y6          7.4890     69.932      0.107      0.915    -129.575     144.553\n",
            "L1.y7         -0.1215      0.017     -7.289      0.000      -0.154      -0.089\n",
            "L2.y1          7.5276      1.296      5.810      0.000       4.988      10.067\n",
            "L2.y2         -0.3480      0.009    -37.496      0.000      -0.366      -0.330\n",
            "L2.y3          0.0570      0.005     10.659      0.000       0.047       0.067\n",
            "L2.y4          5.7841      2.636      2.194      0.028       0.617      10.951\n",
            "L2.y5         -0.0005    9.3e-05     -5.162      0.000      -0.001      -0.000\n",
            "L2.y6       -148.6957     70.016     -2.124      0.034    -285.924     -11.468\n",
            "L2.y7          0.0319      0.017      1.861      0.063      -0.002       0.065\n",
            "L3.y1          3.1792      1.298      2.449      0.014       0.635       5.723\n",
            "L3.y2         -0.1807      0.010    -18.711      0.000      -0.200      -0.162\n",
            "L3.y3          0.0173      0.006      3.133      0.002       0.006       0.028\n",
            "L3.y4          4.0904      2.637      1.551      0.121      -1.079       9.260\n",
            "L3.y5          0.0001   9.35e-05      1.162      0.245   -7.47e-05       0.000\n",
            "L3.y6        121.1816     70.061      1.730      0.084     -16.135     258.498\n",
            "L3.y7          0.1841      0.017     10.904      0.000       0.151       0.217\n",
            "L4.y1          3.3718      1.298      2.598      0.009       0.828       5.916\n",
            "L4.y2         -0.1188      0.010    -12.362      0.000      -0.138      -0.100\n",
            "L4.y3          0.0235      0.006      4.245      0.000       0.013       0.034\n",
            "L4.y4          1.6412      2.637      0.622      0.534      -3.528       6.810\n",
            "L4.y5       6.204e-05   9.28e-05      0.668      0.504      -0.000       0.000\n",
            "L4.y6         32.8385     70.060      0.469      0.639    -104.476     170.153\n",
            "L4.y7          0.0738      0.017      4.353      0.000       0.041       0.107\n",
            "L5.y1          2.9492      1.295      2.278      0.023       0.412       5.487\n",
            "L5.y2         -0.0881      0.009     -9.558      0.000      -0.106      -0.070\n",
            "L5.y3          0.0182      0.005      3.380      0.001       0.008       0.029\n",
            "L5.y4          1.0425      2.631      0.396      0.692      -4.115       6.200\n",
            "L5.y5          0.0002   9.28e-05      2.033      0.042    6.73e-06       0.000\n",
            "L5.y6         75.7268     70.079      1.081      0.280     -61.626     213.080\n",
            "L5.y7          0.0265      0.017      1.546      0.122      -0.007       0.060\n",
            "L6.y1          0.6189      1.286      0.481      0.630      -1.901       3.139\n",
            "L6.y2         -0.0481      0.009     -5.627      0.000      -0.065      -0.031\n",
            "L6.y3          0.0091      0.005      1.925      0.054      -0.000       0.018\n",
            "L6.y4         -0.9618      2.627     -0.366      0.714      -6.110       4.186\n",
            "L6.y5          0.0002   8.95e-05      2.031      0.042    6.34e-06       0.000\n",
            "L6.y6        -39.2687     69.968     -0.561      0.575    -176.404      97.867\n",
            "L6.y7          0.0114      0.016      0.692      0.489      -0.021       0.044\n",
            "Det. terms outside the coint. relation & lagged endog. parameters for equation y3\n",
            "==============================================================================\n",
            "                 coef    std err          z      P>|z|      [0.025      0.975]\n",
            "------------------------------------------------------------------------------\n",
            "const       2.119e+04   8399.651      2.523      0.012    4727.472    3.77e+04\n",
            "L1.y1         13.6210      2.407      5.660      0.000       8.904      18.338\n",
            "L1.y2          0.1773      0.016     11.172      0.000       0.146       0.208\n",
            "L1.y3         -0.5451      0.009    -62.108      0.000      -0.562      -0.528\n",
            "L1.y4         21.3483      4.914      4.344      0.000      11.716      30.980\n",
            "L1.y5         -0.0009      0.000     -5.620      0.000      -0.001      -0.001\n",
            "L1.y6        -99.0520    130.554     -0.759      0.448    -354.933     156.829\n",
            "L1.y7         -0.2142      0.031     -6.886      0.000      -0.275      -0.153\n",
            "L2.y1          9.0148      2.419      3.727      0.000       4.274      13.756\n",
            "L2.y2          0.0457      0.017      2.638      0.008       0.012       0.080\n",
            "L2.y3         -0.3433      0.010    -34.392      0.000      -0.363      -0.324\n",
            "L2.y4         13.9559      4.922      2.835      0.005       4.309      23.603\n",
            "L2.y5         -0.0004      0.000     -2.361      0.018      -0.001   -6.97e-05\n",
            "L2.y6        -33.7762    130.710     -0.258      0.796    -289.964     222.411\n",
            "L2.y7         -0.1331      0.032     -4.164      0.000      -0.196      -0.070\n",
            "L3.y1          3.2851      2.423      1.356      0.175      -1.464       8.035\n",
            "L3.y2          0.0936      0.018      5.190      0.000       0.058       0.129\n",
            "L3.y3         -0.2641      0.010    -25.558      0.000      -0.284      -0.244\n",
            "L3.y4          6.2614      4.924      1.272      0.204      -3.389      15.912\n",
            "L3.y5          0.0006      0.000      3.324      0.001       0.000       0.001\n",
            "L3.y6         43.9441    130.795      0.336      0.737    -212.409     300.297\n",
            "L3.y7          0.0692      0.032      2.194      0.028       0.007       0.131\n",
            "L4.y1          5.4506      2.423      2.249      0.024       0.701      10.200\n",
            "L4.y2          0.0900      0.018      5.019      0.000       0.055       0.125\n",
            "L4.y3         -0.1790      0.010    -17.298      0.000      -0.199      -0.159\n",
            "L4.y4          7.7937      4.924      1.583      0.113      -1.856      17.444\n",
            "L4.y5         -0.0001      0.000     -0.784      0.433      -0.000       0.000\n",
            "L4.y6        -40.3524    130.792     -0.309      0.758    -296.701     215.996\n",
            "L4.y7          0.0149      0.032      0.471      0.638      -0.047       0.077\n",
            "L5.y1          3.5369      2.417      1.463      0.143      -1.200       8.274\n",
            "L5.y2          0.0723      0.017      4.201      0.000       0.039       0.106\n",
            "L5.y3         -0.1165      0.010    -11.605      0.000      -0.136      -0.097\n",
            "L5.y4          7.5357      4.912      1.534      0.125      -2.092      17.164\n",
            "L5.y5          0.0003      0.000      1.966      0.049    1.04e-06       0.001\n",
            "L5.y6        -16.2149    130.829     -0.124      0.901    -272.635     240.205\n",
            "L5.y7          0.0025      0.032      0.077      0.938      -0.060       0.065\n",
            "L6.y1          1.1571      2.400      0.482      0.630      -3.548       5.862\n",
            "L6.y2          0.0245      0.016      1.532      0.126      -0.007       0.056\n",
            "L6.y3         -0.0578      0.009     -6.572      0.000      -0.075      -0.041\n",
            "L6.y4          2.4441      4.904      0.498      0.618      -7.167      12.055\n",
            "L6.y5          0.0003      0.000      1.948      0.051   -2.01e-06       0.001\n",
            "L6.y6        -41.3819    130.622     -0.317      0.751    -297.397     214.633\n",
            "L6.y7         -0.0207      0.031     -0.674      0.501      -0.081       0.040\n",
            "Det. terms outside the coint. relation & lagged endog. parameters for equation y4\n",
            "==============================================================================\n",
            "                 coef    std err          z      P>|z|      [0.025      0.975]\n",
            "------------------------------------------------------------------------------\n",
            "const         37.0007     16.092      2.299      0.021       5.461      68.540\n",
            "L1.y1          0.0039      0.005      0.843      0.399      -0.005       0.013\n",
            "L1.y2          0.0001   3.04e-05      4.836      0.000    8.75e-05       0.000\n",
            "L1.y3       4.034e-05   1.68e-05      2.399      0.016    7.38e-06    7.33e-05\n",
            "L1.y4         -0.0058      0.009     -0.620      0.535      -0.024       0.013\n",
            "L1.y5       6.082e-07   3.23e-07      1.882      0.060   -2.51e-08    1.24e-06\n",
            "L1.y6         -0.3195      0.250     -1.278      0.201      -0.810       0.171\n",
            "L1.y7         -0.0005   5.96e-05     -8.478      0.000      -0.001      -0.000\n",
            "L2.y1         -0.0160      0.005     -3.449      0.001      -0.025      -0.007\n",
            "L2.y2          0.0003   3.32e-05     10.401      0.000       0.000       0.000\n",
            "L2.y3       1.422e-05   1.91e-05      0.744      0.457   -2.33e-05    5.17e-05\n",
            "L2.y4         -0.0190      0.009     -2.010      0.044      -0.037      -0.000\n",
            "L2.y5       2.622e-06   3.33e-07      7.880      0.000    1.97e-06    3.27e-06\n",
            "L2.y6          0.2327      0.250      0.929      0.353      -0.258       0.723\n",
            "L2.y7         -0.0004   6.12e-05     -6.107      0.000      -0.000      -0.000\n",
            "L3.y1         -0.0036      0.005     -0.766      0.444      -0.013       0.006\n",
            "L3.y2          0.0002   3.45e-05      5.894      0.000       0.000       0.000\n",
            "L3.y3      -3.467e-05   1.98e-05     -1.751      0.080   -7.35e-05    4.13e-06\n",
            "L3.y4         -0.0015      0.009     -0.158      0.874      -0.020       0.017\n",
            "L3.y5       8.953e-07   3.35e-07      2.676      0.007     2.4e-07    1.55e-06\n",
            "L3.y6          0.2626      0.251      1.048      0.295      -0.229       0.754\n",
            "L3.y7         -0.0001   6.04e-05     -1.961      0.050      -0.000   -6.74e-08\n",
            "L4.y1         -0.0049      0.005     -1.059      0.289      -0.014       0.004\n",
            "L4.y2          0.0001   3.44e-05      4.352      0.000    8.22e-05       0.000\n",
            "L4.y3      -2.166e-05   1.98e-05     -1.093      0.274   -6.05e-05    1.72e-05\n",
            "L4.y4          0.0006      0.009      0.064      0.949      -0.018       0.019\n",
            "L4.y5      -5.292e-08   3.32e-07     -0.159      0.873   -7.04e-07    5.98e-07\n",
            "L4.y6          0.0177      0.251      0.071      0.944      -0.473       0.509\n",
            "L4.y7      -9.927e-05   6.07e-05     -1.637      0.102      -0.000    1.96e-05\n",
            "L5.y1         -0.0006      0.005     -0.127      0.899      -0.010       0.008\n",
            "L5.y2       7.146e-05    3.3e-05      2.167      0.030    6.82e-06       0.000\n",
            "L5.y3      -6.495e-07   1.92e-05     -0.034      0.973   -3.83e-05     3.7e-05\n",
            "L5.y4         -0.0009      0.009     -0.094      0.925      -0.019       0.018\n",
            "L5.y5      -2.074e-07   3.32e-07     -0.625      0.532   -8.58e-07    4.43e-07\n",
            "L5.y6         -0.0930      0.251     -0.371      0.711      -0.584       0.398\n",
            "L5.y7         -0.0002   6.12e-05     -2.800      0.005      -0.000   -5.14e-05\n",
            "L6.y1          0.0014      0.005      0.301      0.764      -0.008       0.010\n",
            "L6.y2       5.178e-05   3.06e-05      1.693      0.090   -8.15e-06       0.000\n",
            "L6.y3      -9.764e-08   1.68e-05     -0.006      0.995   -3.31e-05    3.29e-05\n",
            "L6.y4         -0.0069      0.009     -0.732      0.464      -0.025       0.012\n",
            "L6.y5      -1.629e-06    3.2e-07     -5.086      0.000   -2.26e-06      -1e-06\n",
            "L6.y6          0.1259      0.250      0.503      0.615      -0.365       0.616\n",
            "L6.y7         -0.0001    5.9e-05     -1.950      0.051      -0.000    6.08e-07\n",
            "Det. terms outside the coint. relation & lagged endog. parameters for equation y5\n",
            "==============================================================================\n",
            "                 coef    std err          z      P>|z|      [0.025      0.975]\n",
            "------------------------------------------------------------------------------\n",
            "const       2.077e+06   4.22e+05      4.919      0.000    1.25e+06     2.9e+06\n",
            "L1.y1        542.9127    120.983      4.488      0.000     305.791     780.034\n",
            "L1.y2        -16.0013      0.798    -20.053      0.000     -17.565     -14.437\n",
            "L1.y3         -0.8785      0.441     -1.991      0.046      -1.743      -0.014\n",
            "L1.y4        518.1749    247.054      2.097      0.036      33.958    1002.392\n",
            "L1.y5         -0.2263      0.008    -26.686      0.000      -0.243      -0.210\n",
            "L1.y6      -2.375e+04   6563.021     -3.619      0.000   -3.66e+04   -1.09e+04\n",
            "L1.y7          3.2967      1.564      2.108      0.035       0.232       6.362\n",
            "L2.y1         -9.1759    121.602     -0.075      0.940    -247.511     229.159\n",
            "L2.y2          0.8697      0.871      0.999      0.318      -0.837       2.577\n",
            "L2.y3         -1.9388      0.502     -3.863      0.000      -2.922      -0.955\n",
            "L2.y4        285.2601    247.430      1.153      0.249    -199.693     770.213\n",
            "L2.y5         -0.1845      0.009    -21.128      0.000      -0.202      -0.167\n",
            "L2.y6      -2.139e+04   6570.884     -3.255      0.001   -3.43e+04   -8506.424\n",
            "L2.y7         -1.2025      1.607     -0.748      0.454      -4.352       1.947\n",
            "L3.y1        136.3353    121.817      1.119      0.263    -102.422     375.093\n",
            "L3.y2         -4.9382      0.906     -5.448      0.000      -6.715      -3.162\n",
            "L3.y3         -3.7740      0.519     -7.266      0.000      -4.792      -2.756\n",
            "L3.y4        511.3661    247.526      2.066      0.039      26.223     996.509\n",
            "L3.y5         -0.1036      0.009    -11.799      0.000      -0.121      -0.086\n",
            "L3.y6      -6551.3294   6575.137     -0.996      0.319   -1.94e+04    6335.702\n",
            "L3.y7         15.6307      1.585      9.864      0.000      12.525      18.737\n",
            "L4.y1        313.9037    121.820      2.577      0.010      75.141     552.666\n",
            "L4.y2         -7.9458      0.902     -8.812      0.000      -9.713      -6.179\n",
            "L4.y3         -4.8473      0.520     -9.319      0.000      -5.867      -3.828\n",
            "L4.y4        366.1635    247.514      1.479      0.139    -118.955     851.282\n",
            "L4.y5         -0.1156      0.009    -13.263      0.000      -0.133      -0.098\n",
            "L4.y6      -1.028e+04   6575.010     -1.564      0.118   -2.32e+04    2602.666\n",
            "L4.y7         17.7389      1.592     11.145      0.000      14.619      20.858\n",
            "L5.y1        133.8996    121.506      1.102      0.270    -104.247     372.047\n",
            "L5.y2         -3.3629      0.865     -3.886      0.000      -5.059      -1.667\n",
            "L5.y3         -3.0828      0.505     -6.110      0.000      -4.072      -2.094\n",
            "L5.y4        350.1065    246.942      1.418      0.156    -133.890     834.103\n",
            "L5.y5         -0.0650      0.009     -7.462      0.000      -0.082      -0.048\n",
            "L5.y6       1480.3017   6576.857      0.225      0.822   -1.14e+04    1.44e+04\n",
            "L5.y7         12.1160      1.606      7.543      0.000       8.968      15.264\n",
            "L6.y1       -139.3423    120.671     -1.155      0.248    -375.853      97.169\n",
            "L6.y2          6.5500      0.802      8.162      0.000       4.977       8.123\n",
            "L6.y3         -2.2686      0.442     -5.132      0.000      -3.135      -1.402\n",
            "L6.y4        231.5980    246.514      0.939      0.347    -251.560     714.756\n",
            "L6.y5          0.0147      0.008      1.749      0.080      -0.002       0.031\n",
            "L6.y6        394.3524   6566.456      0.060      0.952   -1.25e+04    1.33e+04\n",
            "L6.y7          5.2937      1.548      3.420      0.001       2.260       8.327\n",
            "Det. terms outside the coint. relation & lagged endog. parameters for equation y6\n",
            "==============================================================================\n",
            "                 coef    std err          z      P>|z|      [0.025      0.975]\n",
            "------------------------------------------------------------------------------\n",
            "const          0.9624      0.536      1.796      0.072      -0.088       2.013\n",
            "L1.y1         -0.0007      0.000     -4.444      0.000      -0.001      -0.000\n",
            "L1.y2        2.57e-06   1.01e-06      2.538      0.011    5.85e-07    4.55e-06\n",
            "L1.y3      -3.696e-07    5.6e-07     -0.660      0.509   -1.47e-06    7.28e-07\n",
            "L1.y4         -0.0011      0.000     -3.546      0.000      -0.002      -0.000\n",
            "L1.y5       5.031e-09   1.08e-08      0.468      0.640   -1.61e-08    2.61e-08\n",
            "L1.y6         -0.0316      0.008     -3.795      0.000      -0.048      -0.015\n",
            "L1.y7       3.722e-06   1.98e-06      1.875      0.061   -1.68e-07    7.61e-06\n",
            "L2.y1         -0.0003      0.000     -1.762      0.078      -0.001    3.06e-05\n",
            "L2.y2       2.042e-06   1.11e-06      1.848      0.065   -1.24e-07    4.21e-06\n",
            "L2.y3      -1.755e-07   6.37e-07     -0.276      0.783   -1.42e-06    1.07e-06\n",
            "L2.y4         -0.0002      0.000     -0.494      0.621      -0.001       0.000\n",
            "L2.y5       2.181e-08   1.11e-08      1.969      0.049       1e-10    4.35e-08\n",
            "L2.y6          0.0074      0.008      0.893      0.372      -0.009       0.024\n",
            "L2.y7       5.637e-07   2.04e-06      0.276      0.782   -3.43e-06    4.56e-06\n",
            "L3.y1         -0.0002      0.000     -1.498      0.134      -0.001    7.14e-05\n",
            "L3.y2       4.583e-07   1.15e-06      0.398      0.690    -1.8e-06    2.71e-06\n",
            "L3.y3      -2.447e-09   6.59e-07     -0.004      0.997   -1.29e-06    1.29e-06\n",
            "L3.y4         -0.0003      0.000     -0.977      0.328      -0.001       0.000\n",
            "L3.y5       1.309e-08   1.11e-08      1.175      0.240   -8.75e-09    3.49e-08\n",
            "L3.y6         -0.0105      0.008     -1.258      0.209      -0.027       0.006\n",
            "L3.y7      -1.804e-06   2.01e-06     -0.897      0.370   -5.75e-06    2.14e-06\n",
            "L4.y1         -0.0003      0.000     -1.858      0.063      -0.001    1.58e-05\n",
            "L4.y2        1.75e-06   1.14e-06      1.530      0.126   -4.93e-07    3.99e-06\n",
            "L4.y3       3.299e-07    6.6e-07      0.500      0.617   -9.64e-07    1.62e-06\n",
            "L4.y4         -0.0004      0.000     -1.428      0.153      -0.001       0.000\n",
            "L4.y5       3.927e-09   1.11e-08      0.355      0.722   -1.77e-08    2.56e-08\n",
            "L4.y6         -0.0127      0.008     -1.520      0.128      -0.029       0.004\n",
            "L4.y7      -1.698e-06   2.02e-06     -0.841      0.401   -5.66e-06    2.26e-06\n",
            "L5.y1         -0.0002      0.000     -1.130      0.258      -0.000       0.000\n",
            "L5.y2        6.71e-07    1.1e-06      0.611      0.541   -1.48e-06    2.82e-06\n",
            "L5.y3      -2.079e-07    6.4e-07     -0.325      0.745   -1.46e-06    1.05e-06\n",
            "L5.y4      -8.779e-05      0.000     -0.280      0.779      -0.001       0.001\n",
            "L5.y5        8.46e-09    1.1e-08      0.766      0.444   -1.32e-08    3.01e-08\n",
            "L5.y6          0.0095      0.008      1.137      0.256      -0.007       0.026\n",
            "L5.y7       9.135e-07   2.04e-06      0.448      0.654   -3.08e-06    4.91e-06\n",
            "L6.y1       2.829e-05      0.000      0.185      0.853      -0.000       0.000\n",
            "L6.y2        1.47e-06   1.02e-06      1.444      0.149   -5.26e-07    3.47e-06\n",
            "L6.y3       2.409e-08   5.61e-07      0.043      0.966   -1.08e-06    1.12e-06\n",
            "L6.y4      -9.704e-05      0.000     -0.310      0.756      -0.001       0.001\n",
            "L6.y5      -1.915e-08   1.07e-08     -1.796      0.073      -4e-08    1.75e-09\n",
            "L6.y6         -0.0055      0.008     -0.657      0.511      -0.022       0.011\n",
            "L6.y7       1.353e-06   1.96e-06      0.689      0.491    -2.5e-06     5.2e-06\n",
            "Det. terms outside the coint. relation & lagged endog. parameters for equation y7\n",
            "==============================================================================\n",
            "                 coef    std err          z      P>|z|      [0.025      0.975]\n",
            "------------------------------------------------------------------------------\n",
            "const       8944.9679   2316.430      3.862      0.000    4404.849    1.35e+04\n",
            "L1.y1          3.9143      0.664      5.898      0.000       2.613       5.215\n",
            "L1.y2         -0.0318      0.004     -7.276      0.000      -0.040      -0.023\n",
            "L1.y3         -0.0497      0.002    -20.550      0.000      -0.054      -0.045\n",
            "L1.y4          3.8234      1.355      2.821      0.005       1.167       6.480\n",
            "L1.y5       9.675e-05   4.65e-05      2.080      0.038    5.59e-06       0.000\n",
            "L1.y6        -83.6869     36.004     -2.324      0.020    -154.253     -13.121\n",
            "L1.y7         -0.2356      0.009    -27.456      0.000      -0.252      -0.219\n",
            "L2.y1          2.5987      0.667      3.896      0.000       1.291       3.906\n",
            "L2.y2          0.0078      0.005      1.637      0.102      -0.002       0.017\n",
            "L2.y3         -0.0436      0.003    -15.834      0.000      -0.049      -0.038\n",
            "L2.y4          0.6331      1.357      0.466      0.641      -2.027       3.293\n",
            "L2.y5         -0.0006   4.79e-05    -12.036      0.000      -0.001      -0.000\n",
            "L2.y6       -105.7438     36.047     -2.934      0.003    -176.394     -35.093\n",
            "L2.y7         -0.0837      0.009     -9.494      0.000      -0.101      -0.066\n",
            "L3.y1          0.7990      0.668      1.196      0.232      -0.511       2.109\n",
            "L3.y2          0.0242      0.005      4.857      0.000       0.014       0.034\n",
            "L3.y3         -0.0297      0.003    -10.417      0.000      -0.035      -0.024\n",
            "L3.y4          0.0450      1.358      0.033      0.974      -2.616       2.706\n",
            "L3.y5         -0.0004   4.82e-05     -7.584      0.000      -0.000      -0.000\n",
            "L3.y6        -59.3575     36.070     -1.646      0.100    -130.054      11.339\n",
            "L3.y7         -0.0460      0.009     -5.295      0.000      -0.063      -0.029\n",
            "L4.y1          0.5545      0.668      0.830      0.407      -0.755       1.864\n",
            "L4.y2          0.0194      0.005      3.915      0.000       0.010       0.029\n",
            "L4.y3         -0.0013      0.003     -0.451      0.652      -0.007       0.004\n",
            "L4.y4          1.2773      1.358      0.941      0.347      -1.384       3.939\n",
            "L4.y5          0.0004   4.78e-05      9.104      0.000       0.000       0.001\n",
            "L4.y6         -9.2799     36.069     -0.257      0.797     -79.975      61.415\n",
            "L4.y7         -0.1630      0.009    -18.665      0.000      -0.180      -0.146\n",
            "L5.y1          0.8043      0.667      1.207      0.228      -0.502       2.111\n",
            "L5.y2          0.0086      0.005      1.818      0.069      -0.001       0.018\n",
            "L5.y3         -0.0155      0.003     -5.598      0.000      -0.021      -0.010\n",
            "L5.y4          0.0927      1.355      0.068      0.945      -2.562       2.748\n",
            "L5.y5         -0.0004   4.78e-05     -8.195      0.000      -0.000      -0.000\n",
            "L5.y6        -15.4844     36.080     -0.429      0.668     -86.199      55.230\n",
            "L5.y7         -0.0048      0.009     -0.542      0.588      -0.022       0.012\n",
            "L6.y1          0.5720      0.662      0.864      0.388      -0.725       1.870\n",
            "L6.y2          0.0188      0.004      4.279      0.000       0.010       0.027\n",
            "L6.y3         -0.0074      0.002     -3.066      0.002      -0.012      -0.003\n",
            "L6.y4          2.4780      1.352      1.832      0.067      -0.173       5.129\n",
            "L6.y5       7.534e-05   4.61e-05      1.635      0.102    -1.5e-05       0.000\n",
            "L6.y6        -12.6806     36.023     -0.352      0.725     -83.284      57.922\n",
            "L6.y7         -0.0295      0.008     -3.469      0.001      -0.046      -0.013\n",
            "                 Loading coefficients (alpha) for equation y1                 \n",
            "==============================================================================\n",
            "                 coef    std err          z      P>|z|      [0.025      0.975]\n",
            "------------------------------------------------------------------------------\n",
            "ec1           -0.0020      0.000     -3.936      0.000      -0.003      -0.001\n",
            "ec2         2.979e-06      1e-05      0.298      0.766   -1.66e-05    2.26e-05\n",
            "ec3         8.372e-06   7.55e-06      1.109      0.268   -6.43e-06    2.32e-05\n",
            "ec4            0.0027      0.001      2.676      0.007       0.001       0.005\n",
            "ec5         1.701e-07   1.09e-07      1.560      0.119   -4.36e-08    3.84e-07\n",
            "                 Loading coefficients (alpha) for equation y2                 \n",
            "==============================================================================\n",
            "                 coef    std err          z      P>|z|      [0.025      0.975]\n",
            "------------------------------------------------------------------------------\n",
            "ec1            0.0596      0.068      0.881      0.378      -0.073       0.192\n",
            "ec2           -0.0063      0.001     -4.620      0.000      -0.009      -0.004\n",
            "ec3           -0.0005      0.001     -0.502      0.616      -0.003       0.001\n",
            "ec4           -0.1765      0.135     -1.311      0.190      -0.440       0.087\n",
            "ec5         -4.32e-05   1.47e-05     -2.929      0.003   -7.21e-05   -1.43e-05\n",
            "                 Loading coefficients (alpha) for equation y3                 \n",
            "==============================================================================\n",
            "                 coef    std err          z      P>|z|      [0.025      0.975]\n",
            "------------------------------------------------------------------------------\n",
            "ec1            0.1566      0.126      1.241      0.214      -0.091       0.404\n",
            "ec2            0.0019      0.003      0.751      0.452      -0.003       0.007\n",
            "ec3           -0.0074      0.002     -3.903      0.000      -0.011      -0.004\n",
            "ec4            0.1848      0.251      0.735      0.462      -0.308       0.677\n",
            "ec5        -6.852e-05   2.75e-05     -2.489      0.013      -0.000   -1.46e-05\n",
            "                 Loading coefficients (alpha) for equation y4                 \n",
            "==============================================================================\n",
            "                 coef    std err          z      P>|z|      [0.025      0.975]\n",
            "------------------------------------------------------------------------------\n",
            "ec1            0.0008      0.000      3.220      0.001       0.000       0.001\n",
            "ec2        -1.184e-05   4.84e-06     -2.448      0.014   -2.13e-05   -2.36e-06\n",
            "ec3        -2.628e-06   3.65e-06     -0.719      0.472   -9.79e-06    4.53e-06\n",
            "ec4           -0.0018      0.000     -3.695      0.000      -0.003      -0.001\n",
            "ec5        -1.148e-07   5.27e-08     -2.177      0.030   -2.18e-07   -1.14e-08\n",
            "                 Loading coefficients (alpha) for equation y5                 \n",
            "==============================================================================\n",
            "                 coef    std err          z      P>|z|      [0.025      0.975]\n",
            "------------------------------------------------------------------------------\n",
            "ec1           23.7444      6.343      3.743      0.000      11.313      36.176\n",
            "ec2           -0.3509      0.127     -2.763      0.006      -0.600      -0.102\n",
            "ec3           -0.4446      0.096     -4.638      0.000      -0.632      -0.257\n",
            "ec4          -38.8913     12.638     -3.077      0.002     -63.661     -14.122\n",
            "ec5           -0.0076      0.001     -5.490      0.000      -0.010      -0.005\n",
            "                 Loading coefficients (alpha) for equation y6                 \n",
            "==============================================================================\n",
            "                 coef    std err          z      P>|z|      [0.025      0.975]\n",
            "------------------------------------------------------------------------------\n",
            "ec1        -8.818e-06   8.05e-06     -1.095      0.273   -2.46e-05    6.96e-06\n",
            "ec2        -8.607e-08   1.61e-07     -0.534      0.593   -4.02e-07     2.3e-07\n",
            "ec3        -6.784e-08   1.22e-07     -0.558      0.577   -3.06e-07    1.71e-07\n",
            "ec4        -3.001e-05    1.6e-05     -1.871      0.061   -6.14e-05    1.42e-06\n",
            "ec5        -2.411e-09   1.76e-09     -1.373      0.170   -5.85e-09    1.03e-09\n",
            "                 Loading coefficients (alpha) for equation y7                 \n",
            "==============================================================================\n",
            "                 coef    std err          z      P>|z|      [0.025      0.975]\n",
            "------------------------------------------------------------------------------\n",
            "ec1            0.0421      0.035      1.210      0.226      -0.026       0.110\n",
            "ec2            0.0010      0.001      1.387      0.166      -0.000       0.002\n",
            "ec3           -0.0013      0.001     -2.398      0.016      -0.002      -0.000\n",
            "ec4           -0.1093      0.069     -1.576      0.115      -0.245       0.027\n",
            "ec5        -5.828e-06   7.59e-06     -0.768      0.443   -2.07e-05    9.05e-06\n",
            "          Cointegration relations for loading-coefficients-column 1           \n",
            "==============================================================================\n",
            "                 coef    std err          z      P>|z|      [0.025      0.975]\n",
            "------------------------------------------------------------------------------\n",
            "beta.1         1.0000          0          0      0.000       1.000       1.000\n",
            "beta.2      7.807e-17          0          0      0.000    7.81e-17    7.81e-17\n",
            "beta.3     -1.784e-17          0          0      0.000   -1.78e-17   -1.78e-17\n",
            "beta.4      2.299e-17          0          0      0.000     2.3e-17     2.3e-17\n",
            "beta.5      2.661e-19          0          0      0.000    2.66e-19    2.66e-19\n",
            "beta.6        81.3686      8.138      9.998      0.000      65.418      97.319\n",
            "beta.7         0.0166   1068.254   1.55e-05      1.000   -2093.722    2093.755\n",
            "          Cointegration relations for loading-coefficients-column 2           \n",
            "==============================================================================\n",
            "                 coef    std err          z      P>|z|      [0.025      0.975]\n",
            "------------------------------------------------------------------------------\n",
            "beta.1     -9.539e-15          0          0      0.000   -9.54e-15   -9.54e-15\n",
            "beta.2         1.0000          0          0      0.000       1.000       1.000\n",
            "beta.3      6.874e-16          0          0      0.000    6.87e-16    6.87e-16\n",
            "beta.4      1.565e-15          0          0      0.000    1.56e-15    1.56e-15\n",
            "beta.5     -1.874e-17          0          0      0.000   -1.87e-17   -1.87e-17\n",
            "beta.6       722.3733   1975.210      0.366      0.715   -3148.966    4593.713\n",
            "beta.7         2.1832      4.286      0.509      0.611      -6.218      10.584\n",
            "          Cointegration relations for loading-coefficients-column 3           \n",
            "==============================================================================\n",
            "                 coef    std err          z      P>|z|      [0.025      0.975]\n",
            "------------------------------------------------------------------------------\n",
            "beta.1     -1.301e-14          0          0      0.000    -1.3e-14    -1.3e-14\n",
            "beta.2      7.333e-15          0          0      0.000    7.33e-15    7.33e-15\n",
            "beta.3         1.0000          0          0      0.000       1.000       1.000\n",
            "beta.4      5.483e-15          0          0      0.000    5.48e-15    5.48e-15\n",
            "beta.5      3.843e-17          0          0      0.000    3.84e-17    3.84e-17\n",
            "beta.6      1370.2685   1.68e+05      0.008      0.994   -3.29e+05    3.32e+05\n",
            "beta.7         8.6971      0.008   1033.976      0.000       8.681       8.714\n",
            "          Cointegration relations for loading-coefficients-column 4           \n",
            "==============================================================================\n",
            "                 coef    std err          z      P>|z|      [0.025      0.975]\n",
            "------------------------------------------------------------------------------\n",
            "beta.1       5.46e-17          0          0      0.000    5.46e-17    5.46e-17\n",
            "beta.2      2.895e-17          0          0      0.000    2.89e-17    2.89e-17\n",
            "beta.3       -1.6e-17          0          0      0.000    -1.6e-17    -1.6e-17\n",
            "beta.4         1.0000          0          0      0.000       1.000       1.000\n",
            "beta.5     -2.159e-20          0          0      0.000   -2.16e-20   -2.16e-20\n",
            "beta.6        20.0160      1.104     18.129      0.000      17.852      22.180\n",
            "beta.7         0.0274      2.042      0.013      0.989      -3.974       4.029\n",
            "          Cointegration relations for loading-coefficients-column 5           \n",
            "==============================================================================\n",
            "                 coef    std err          z      P>|z|      [0.025      0.975]\n",
            "------------------------------------------------------------------------------\n",
            "beta.1      2.267e-12          0          0      0.000    2.27e-12    2.27e-12\n",
            "beta.2       3.55e-13          0          0      0.000    3.55e-13    3.55e-13\n",
            "beta.3      1.633e-13          0          0      0.000    1.63e-13    1.63e-13\n",
            "beta.4      1.901e-13          0          0      0.000     1.9e-13     1.9e-13\n",
            "beta.5         1.0000          0          0      0.000       1.000       1.000\n",
            "beta.6      2.711e+05      0.004   6.12e+07      0.000    2.71e+05    2.71e+05\n",
            "beta.7      -698.1265    174.125     -4.009      0.000   -1039.405    -356.848\n",
            "==============================================================================\n"
          ],
          "name": "stdout"
        }
      ]
    },
    {
      "cell_type": "markdown",
      "metadata": {
        "id": "6uBFFgXxZC3e"
      },
      "source": [
        "## 1.2 Residuals diagonistics:"
      ]
    },
    {
      "cell_type": "code",
      "metadata": {
        "colab": {
          "base_uri": "https://localhost:8080/"
        },
        "id": "WKGwRkhzF1HL",
        "outputId": "fb49e7df-1ce2-411d-b070-2b4886f65a21"
      },
      "source": [
        "print(res.test_normality())"
      ],
      "execution_count": null,
      "outputs": [
        {
          "output_type": "stream",
          "text": [
            "<statsmodels.tsa.vector_ar.hypothesis_test_results.NormalityTestResults object. H_0: data generated by normally-distributed process: reject at 5% significance level. Test statistic: 12362958858.065, critical value: 23.685>, p-value: 0.000>\n"
          ],
          "name": "stdout"
        }
      ]
    },
    {
      "cell_type": "markdown",
      "metadata": {
        "id": "_6pVUPCiZMsD"
      },
      "source": [
        "### 1.2.1 Durbin Watson:"
      ]
    },
    {
      "cell_type": "code",
      "metadata": {
        "id": "iQDyXdSPIuX6",
        "colab": {
          "base_uri": "https://localhost:8080/"
        },
        "outputId": "f3e879f7-b67c-4b61-b1d0-7dd12d7b9448"
      },
      "source": [
        "out = durbin_watson(res.resid)\n",
        "for col, val in zip(original.columns, out):\n",
        "    print((col), ':', round(val, 2))"
      ],
      "execution_count": null,
      "outputs": [
        {
          "output_type": "stream",
          "text": [
            "es : 2.0\n",
            "eurusd : 2.0\n",
            "gbpusd : 2.0\n",
            "gc : 2.0\n",
            "usdjpy : 1.99\n",
            "zbm0 : 2.0\n",
            "eurchf : 2.0\n"
          ],
          "name": "stdout"
        }
      ]
    },
    {
      "cell_type": "code",
      "metadata": {
        "id": "vQXG_wFwJ_Qk",
        "colab": {
          "base_uri": "https://localhost:8080/"
        },
        "outputId": "c4e33f75-9823-4e96-9d77-058bd5a8dee0"
      },
      "source": [
        "residuals = res.resid\n",
        "\n",
        "name = ['Jarque-Bera', 'Chi^2 two-tail prob.', 'Skew', 'Kurtosis']\n",
        "test = sms.jarque_bera(residuals)\n",
        "print(lzip(name, test)); print()\n",
        "print('Correlation matrix:')\n",
        "residuals = DataFrame(residuals, columns = original.columns)\n",
        "print(residuals.corr()); print() # correlation matrix\n",
        "print('Summary statistic:')\n",
        "print(residuals.describe().transpose()) # statistic\n"
      ],
      "execution_count": null,
      "outputs": [
        {
          "output_type": "stream",
          "text": [
            "[('Jarque-Bera', array([4.74752060e+08, 2.27949822e+08, 9.95752645e+09, 2.37818206e+09,\n",
            "       1.11272827e+08, 3.62785471e+05, 1.43439764e+08])), ('Chi^2 two-tail prob.', array([0., 0., 0., 0., 0., 0., 0.])), ('Skew', array([ -5.8424667 , -10.13995971,  39.8071159 ,   1.96292222,\n",
            "         7.39906363,  -0.06607541,   6.6475093 ])), ('Kurtosis', array([ 874.67735157,  606.72073169, 3994.6340415 , 1954.11568691,\n",
            "        424.78271749,   27.09793137,  481.99271023]))]\n",
            "\n",
            "Correlation matrix:\n",
            "              es    eurusd    gbpusd        gc    usdjpy      zbm0    eurchf\n",
            "es      1.000000  0.111852  0.042207 -0.477015  0.103354 -0.073002  0.114396\n",
            "eurusd  0.111852  1.000000  0.189732 -0.007412 -0.145593 -0.022712  0.086581\n",
            "gbpusd  0.042207  0.189732  1.000000  0.034666 -0.131951 -0.011842  0.249142\n",
            "gc     -0.477015 -0.007412  0.034666  1.000000 -0.040614 -0.091623 -0.020806\n",
            "usdjpy  0.103354 -0.145593 -0.131951 -0.040614  1.000000 -0.110769  0.079401\n",
            "zbm0   -0.073002 -0.022712 -0.011842 -0.091623 -0.110769  1.000000 -0.040653\n",
            "eurchf  0.114396  0.086581  0.249142 -0.020806  0.079401 -0.040653  1.000000\n",
            "\n",
            "Summary statistic:\n",
            "          count          mean           std            min          25%         50%          75%           max\n",
            "es      14993.0 -6.824395e-15      2.537800    -117.427095    -0.889860    0.051186     0.846815  1.069205e+02\n",
            "eurusd  14993.0 -1.987749e-12    343.270902  -16289.894356   -97.524693    0.418332    99.932725  1.011925e+04\n",
            "gbpusd  14993.0  5.683720e-12    640.843166  -23555.744584  -149.751342    1.589423   152.128047  5.584323e+04\n",
            "gc      14993.0 -1.217775e-14      1.227719     -72.883886    -0.322732   -0.022698     0.329499  7.611241e+01\n",
            "usdjpy  14993.0 -2.931930e-10  32215.584424 -756972.449641 -9595.760139 -112.473928  9624.554727  1.330362e+06\n",
            "zbm0    14993.0 -6.824395e-17      0.040883      -0.783061    -0.016453    0.000115     0.016494  8.098375e-01\n",
            "eurchf  14993.0 -1.024933e-12    176.729739   -5474.150324   -48.180548   -0.176422    46.036673  6.227318e+03\n"
          ],
          "name": "stdout"
        }
      ]
    },
    {
      "cell_type": "code",
      "metadata": {
        "colab": {
          "base_uri": "https://localhost:8080/",
          "height": 590
        },
        "id": "YVVcX2CkisCp",
        "outputId": "f8a1a63d-163a-4d1e-bf3b-0779b64cac37"
      },
      "source": [
        "plt.style.use('ggplot')\n",
        "# Histogram plot of the forecast residual errors\n",
        "plt.figure(figsize=(15,10))\n",
        "residuals.hist()\n",
        "plt.tight_layout()\n",
        "\n",
        "from statsmodels.graphics.gofplots import qqplot\n",
        "residuals = np.array(residuals)\n",
        "qqplot(residuals, line='r')\n",
        "plt.show()"
      ],
      "execution_count": null,
      "outputs": [
        {
          "output_type": "display_data",
          "data": {
            "application/javascript": [
              "\n",
              "        if (window._pyforest_update_imports_cell) { window._pyforest_update_imports_cell('import pandas as pd\\nimport numpy as np\\nimport matplotlib.pyplot as plt'); }\n",
              "    "
            ],
            "text/plain": [
              "<IPython.core.display.Javascript object>"
            ]
          },
          "metadata": {
            "tags": []
          }
        },
        {
          "output_type": "display_data",
          "data": {
            "application/javascript": [
              "\n",
              "        if (window._pyforest_update_imports_cell) { window._pyforest_update_imports_cell('import pandas as pd\\nimport numpy as np\\nimport matplotlib.pyplot as plt'); }\n",
              "    "
            ],
            "text/plain": [
              "<IPython.core.display.Javascript object>"
            ]
          },
          "metadata": {
            "tags": []
          }
        },
        {
          "output_type": "display_data",
          "data": {
            "application/javascript": [
              "\n",
              "        if (window._pyforest_update_imports_cell) { window._pyforest_update_imports_cell('import pandas as pd\\nimport numpy as np\\nimport matplotlib.pyplot as plt'); }\n",
              "    "
            ],
            "text/plain": [
              "<IPython.core.display.Javascript object>"
            ]
          },
          "metadata": {
            "tags": []
          }
        },
        {
          "output_type": "display_data",
          "data": {
            "application/javascript": [
              "\n",
              "        if (window._pyforest_update_imports_cell) { window._pyforest_update_imports_cell('import pandas as pd\\nimport numpy as np\\nimport matplotlib.pyplot as plt'); }\n",
              "    "
            ],
            "text/plain": [
              "<IPython.core.display.Javascript object>"
            ]
          },
          "metadata": {
            "tags": []
          }
        },
        {
          "output_type": "display_data",
          "data": {
            "application/javascript": [
              "\n",
              "        if (window._pyforest_update_imports_cell) { window._pyforest_update_imports_cell('import pandas as pd\\nimport numpy as np\\nimport matplotlib.pyplot as plt'); }\n",
              "    "
            ],
            "text/plain": [
              "<IPython.core.display.Javascript object>"
            ]
          },
          "metadata": {
            "tags": []
          }
        },
        {
          "output_type": "display_data",
          "data": {
            "text/plain": [
              "<Figure size 1080x720 with 0 Axes>"
            ]
          },
          "metadata": {
            "tags": []
          }
        },
        {
          "output_type": "display_data",
          "data": {
            "image/png": "[encoded data removed]",
            "text/plain": [
              "<Figure size 432x288 with 9 Axes>"
            ]
          },
          "metadata": {
            "tags": []
          }
        },
        {
          "output_type": "display_data",
          "data": {
            "image/png": "[encoded data removed]",
            "text/plain": [
              "<Figure size 432x288 with 1 Axes>"
            ]
          },
          "metadata": {
            "tags": []
          }
        }
      ]
    },
    {
      "cell_type": "code",
      "metadata": {
        "id": "MebmtNHrjpiG"
      },
      "source": [
        "#from pandas.plotting import lag_plot\n",
        "#lag_plot(original)"
      ],
      "execution_count": null,
      "outputs": []
    },
    {
      "cell_type": "code",
      "metadata": {
        "id": "ZPzY6dfBVJBK",
        "colab": {
          "base_uri": "https://localhost:8080/"
        },
        "outputId": "17aa898c-82ae-4a84-a7e8-ba1cae199dc4"
      },
      "source": [
        "residuals = DataFrame(residuals, columns = original.columns)\n",
        "def adfuller_test(series, signif=0.05, name='', verbose=False):\n",
        "    \"\"\"Perform ADFuller to test for Stationarity of given series and print report\"\"\"\n",
        "    r = adfuller(series, autolag='AIC')\n",
        "    output = {'test_statistic':round(r[0], 4), 'pvalue':round(r[1], 4), 'n_lags':round(r[2], 4), 'n_obs':r[3]}\n",
        "    p_value = output['pvalue'] \n",
        "    def adjust(val, length= 6): return str(val).ljust(length)\n",
        "\n",
        "    # Print Summary\n",
        "    print(f'    Augmented Dickey-Fuller Test on \"{name}\"', \"\\n   \", '-'*47)\n",
        "    print(f' Null Hypothesis: Data has unit root. Non-Stationary.')\n",
        "    print(f' Significance Level    = {signif}')\n",
        "    print(f' Test Statistic        = {output[\"test_statistic\"]}')\n",
        "    print(f' No. Lags Chosen       = {output[\"n_lags\"]}')\n",
        "\n",
        "    for key,val in r[4].items():\n",
        "        print(f' Critical value {adjust(key)} = {round(val, 3)}')\n",
        "\n",
        "    if p_value <= signif:\n",
        "        print(f\" => P-Value = {p_value}. Rejecting Null Hypothesis.\")\n",
        "        print(f\" => Series is Stationary.\")\n",
        "    else:\n",
        "        print(f\" => P-Value = {p_value}. Weak evidence to reject the Null Hypothesis.\")\n",
        "        print(f\" => Series is Non-Stationary.\")\n",
        "        \n",
        "# ADF Test on each column\n",
        "for name, column in residuals.iteritems():\n",
        "    adfuller_test(column, name=column.name)\n",
        "    print()"
      ],
      "execution_count": null,
      "outputs": [
        {
          "output_type": "stream",
          "text": [
            "    Augmented Dickey-Fuller Test on \"es\" \n",
            "    -----------------------------------------------\n",
            " Null Hypothesis: Data has unit root. Non-Stationary.\n",
            " Significance Level    = 0.05\n",
            " Test Statistic        = -32.3005\n",
            " No. Lags Chosen       = 18\n",
            " Critical value 1%     = -3.431\n",
            " Critical value 5%     = -2.862\n",
            " Critical value 10%    = -2.567\n",
            " => P-Value = 0.0. Rejecting Null Hypothesis.\n",
            " => Series is Stationary.\n",
            "\n",
            "    Augmented Dickey-Fuller Test on \"eurusd\" \n",
            "    -----------------------------------------------\n",
            " Null Hypothesis: Data has unit root. Non-Stationary.\n",
            " Significance Level    = 0.05\n",
            " Test Statistic        = -46.9339\n",
            " No. Lags Chosen       = 7\n",
            " Critical value 1%     = -3.431\n",
            " Critical value 5%     = -2.862\n",
            " Critical value 10%    = -2.567\n",
            " => P-Value = 0.0. Rejecting Null Hypothesis.\n",
            " => Series is Stationary.\n",
            "\n",
            "    Augmented Dickey-Fuller Test on \"gbpusd\" \n",
            "    -----------------------------------------------\n",
            " Null Hypothesis: Data has unit root. Non-Stationary.\n",
            " Significance Level    = 0.05\n",
            " Test Statistic        = -47.4249\n",
            " No. Lags Chosen       = 7\n",
            " Critical value 1%     = -3.431\n",
            " Critical value 5%     = -2.862\n",
            " Critical value 10%    = -2.567\n",
            " => P-Value = 0.0. Rejecting Null Hypothesis.\n",
            " => Series is Stationary.\n",
            "\n",
            "    Augmented Dickey-Fuller Test on \"gc\" \n",
            "    -----------------------------------------------\n",
            " Null Hypothesis: Data has unit root. Non-Stationary.\n",
            " Significance Level    = 0.05\n",
            " Test Statistic        = -22.7442\n",
            " No. Lags Chosen       = 37\n",
            " Critical value 1%     = -3.431\n",
            " Critical value 5%     = -2.862\n",
            " Critical value 10%    = -2.567\n",
            " => P-Value = 0.0. Rejecting Null Hypothesis.\n",
            " => Series is Stationary.\n",
            "\n",
            "    Augmented Dickey-Fuller Test on \"usdjpy\" \n",
            "    -----------------------------------------------\n",
            " Null Hypothesis: Data has unit root. Non-Stationary.\n",
            " Significance Level    = 0.05\n",
            " Test Statistic        = -20.8677\n",
            " No. Lags Chosen       = 41\n",
            " Critical value 1%     = -3.431\n",
            " Critical value 5%     = -2.862\n",
            " Critical value 10%    = -2.567\n",
            " => P-Value = 0.0. Rejecting Null Hypothesis.\n",
            " => Series is Stationary.\n",
            "\n",
            "    Augmented Dickey-Fuller Test on \"zbm0\" \n",
            "    -----------------------------------------------\n",
            " Null Hypothesis: Data has unit root. Non-Stationary.\n",
            " Significance Level    = 0.05\n",
            " Test Statistic        = -30.2309\n",
            " No. Lags Chosen       = 18\n",
            " Critical value 1%     = -3.431\n",
            " Critical value 5%     = -2.862\n",
            " Critical value 10%    = -2.567\n",
            " => P-Value = 0.0. Rejecting Null Hypothesis.\n",
            " => Series is Stationary.\n",
            "\n",
            "    Augmented Dickey-Fuller Test on \"eurchf\" \n",
            "    -----------------------------------------------\n",
            " Null Hypothesis: Data has unit root. Non-Stationary.\n",
            " Significance Level    = 0.05\n",
            " Test Statistic        = -39.5467\n",
            " No. Lags Chosen       = 10\n",
            " Critical value 1%     = -3.431\n",
            " Critical value 5%     = -2.862\n",
            " Critical value 10%    = -2.567\n",
            " => P-Value = 0.0. Rejecting Null Hypothesis.\n",
            " => Series is Stationary.\n",
            "\n"
          ],
          "name": "stdout"
        }
      ]
    },
    {
      "cell_type": "markdown",
      "metadata": {
        "id": "v6RLU6YHtsjC"
      },
      "source": [
        "## 1.3 Forecast:"
      ]
    },
    {
      "cell_type": "code",
      "metadata": {
        "id": "A5WC8U5rrbir",
        "colab": {
          "base_uri": "https://localhost:8080/",
          "height": 470
        },
        "outputId": "17f84359-008f-4f76-a2eb-8be1886ac206"
      },
      "source": [
        "n_obs = 2\n",
        "pd.options.display.float_format = \"{:.2f}\".format\n",
        "fcast, lower, upper = res.predict(n_obs, 0.01)\n",
        "print(\"lower bounds of confidence intervals:\")\n",
        "print(lower.round(2))\n",
        "print(\"\\npoint forecasts:\")\n",
        "print(fcast.round(2))\n",
        "print(\"\\nupper bounds of confidence intervals:\")\n",
        "print(upper.round(2)); print()\n",
        "\n",
        "fcast = DataFrame(fcast, columns = original.columns)\n",
        "fcast.index = original[15000:15002].index\n",
        "print(fcast); print()\n",
        "print(original[15000:15002])"
      ],
      "execution_count": null,
      "outputs": [
        {
          "output_type": "display_data",
          "data": {
            "application/javascript": [
              "\n",
              "        if (window._pyforest_update_imports_cell) { window._pyforest_update_imports_cell('import pandas as pd\\nimport numpy as np\\nimport matplotlib.pyplot as plt'); }\n",
              "    "
            ],
            "text/plain": [
              "<IPython.core.display.Javascript object>"
            ]
          },
          "metadata": {
            "tags": []
          }
        },
        {
          "output_type": "stream",
          "text": [
            "lower bounds of confidence intervals:\n",
            "[[2.75326000e+03 1.09039027e+06 1.25027583e+06 1.73596000e+03\n",
            "  1.07344541e+08 1.80660000e+02 1.05205349e+06]\n",
            " [2.75052000e+03 1.09015015e+06 1.25002373e+06 1.73468000e+03\n",
            "  1.07318640e+08 1.80610000e+02 1.05195999e+06]]\n",
            "\n",
            "point forecasts:\n",
            "[[2.75979000e+03 1.09127445e+06 1.25192648e+06 1.73912000e+03\n",
            "  1.07427520e+08 1.80760000e+02 1.05250870e+06]\n",
            " [2.75975000e+03 1.09122376e+06 1.25185554e+06 1.73914000e+03\n",
            "  1.07426134e+08 1.80760000e+02 1.05252724e+06]]\n",
            "\n",
            "upper bounds of confidence intervals:\n",
            "[[2.76633000e+03 1.09215863e+06 1.25357713e+06 1.74229000e+03\n",
            "  1.07510499e+08 1.80870000e+02 1.05296391e+06]\n",
            " [2.76897000e+03 1.09229738e+06 1.25368735e+06 1.74360000e+03\n",
            "  1.07533629e+08 1.80910000e+02 1.05309449e+06]]\n",
            "\n",
            "                         es     eurusd     gbpusd      gc       usdjpy   zbm0     eurchf\n",
            "timestamp                                                                               \n",
            "2020-04-15 15:58:00 2759.79 1091274.45 1251926.48 1739.12 107427520.16 180.76 1052508.70\n",
            "2020-04-15 15:59:00 2759.75 1091223.76 1251855.54 1739.14 107426134.38 180.76 1052527.24\n",
            "\n",
            "                         es     eurusd     gbpusd      gc       usdjpy   zbm0     eurchf\n",
            "timestamp                                                                               \n",
            "2020-04-15 15:58:00 2758.88 1091050.00 1252260.00 1739.60 107431500.00 180.77 1052555.00\n",
            "2020-04-15 15:59:00 2758.38 1090825.00 1252310.00 1739.50 107427000.00 180.80 1052505.00\n"
          ],
          "name": "stdout"
        }
      ]
    },
    {
      "cell_type": "code",
      "metadata": {
        "id": "wllqb1EUr4mX"
      },
      "source": [
        "# reversing forecast at original level\n",
        "#fcast_org = np.exp(fcast)\n",
        "#fcast_org.index = original[15000:15002].index\n",
        "#fcast_org"
      ],
      "execution_count": null,
      "outputs": []
    },
    {
      "cell_type": "markdown",
      "metadata": {
        "id": "3lgxjmUNFnLV"
      },
      "source": [
        "## 1.4 Back-testing:"
      ]
    },
    {
      "cell_type": "code",
      "metadata": {
        "colab": {
          "base_uri": "https://localhost:8080/"
        },
        "id": "DqmDuXymdRUH",
        "outputId": "8f9ed537-1ea9-4944-fc55-e791e08c7353"
      },
      "source": [
        "train = original[:15000]; test = original[15000:15015]\n",
        "\n",
        "# VECM\n",
        "model = vecm.VECM(train.values, k_ar_diff = 6, coint_rank = 5, deterministic='co')\n",
        "model_fit = model.fit()\n",
        "print('Lag: %s' % model_fit.k_ar)\n",
        "# make predictions\n",
        "predictions = model_fit.predict(len(test))\n",
        "predictions = DataFrame(predictions, columns = original.columns)\n",
        "for i in range(len(predictions)):\n",
        "  print('predicted -> %f, expected -> %f' % (predictions.eurusd[i], test.eurusd[i]))\n",
        "rmse = sqrt(mean_squared_error(test.eurusd, predictions.eurusd))\n",
        "print('Test RMSE: %.3f' % rmse)"
      ],
      "execution_count": null,
      "outputs": [
        {
          "output_type": "stream",
          "text": [
            "Lag: 7\n",
            "predicted -> 1091274.450408, expected -> 1091050.000000\n",
            "predicted -> 1091223.763795, expected -> 1090825.000000\n",
            "predicted -> 1091202.318809, expected -> 1090825.000000\n",
            "predicted -> 1091186.186249, expected -> 1090775.000000\n",
            "predicted -> 1091158.553923, expected -> 1090705.000000\n",
            "predicted -> 1091140.300259, expected -> 1090645.000000\n",
            "predicted -> 1091129.355595, expected -> 1090600.000000\n",
            "predicted -> 1091115.459455, expected -> 1090475.000000\n",
            "predicted -> 1091099.898031, expected -> 1090300.000000\n",
            "predicted -> 1091084.374839, expected -> 1090585.000000\n",
            "predicted -> 1091068.300607, expected -> 1090515.000000\n",
            "predicted -> 1091052.937929, expected -> 1090505.000000\n",
            "predicted -> 1091037.411101, expected -> 1090510.000000\n",
            "predicted -> 1091021.890172, expected -> 1090835.000000\n",
            "predicted -> 1091006.827815, expected -> 1090850.000000\n",
            "Test RMSE: 482.739\n"
          ],
          "name": "stdout"
        }
      ]
    },
    {
      "cell_type": "markdown",
      "metadata": {
        "id": "QNnxyKb_BhQb"
      },
      "source": [
        "Our 2 options here to perform roll forward validation -\n",
        "- re-train the model each time as new data become available\n",
        "- use the learned coe\u000ecients and manually make predictions. \n",
        "\n",
        "1st option is computationaly expensive but a valid apporach as per as my knowledge is concern and I have opted for the same as below."
      ]
    },
    {
      "cell_type": "code",
      "metadata": {
        "id": "t9TW8Q7nfosF"
      },
      "source": [
        "# walk forward validation: the train set expanding each time step and the test set fixed at one time step ahead\n",
        "# setting the formula for walk forward validation\n",
        "X = original[15000:16000].values\n",
        "n_train = 1\n",
        "n_records = len(X)\n",
        "\n",
        "for i in range(n_train, n_records):\n",
        "    train, test = X[0:i], X[i:i+1]\n",
        "    print('train=%d, test=%d' % (len(train), len(test)))"
      ],
      "execution_count": null,
      "outputs": []
    },
    {
      "cell_type": "code",
      "metadata": {
        "colab": {
          "base_uri": "https://localhost:8080/"
        },
        "id": "DulbIiJA-exK",
        "outputId": "563efe9a-6d66-49ed-a209-b89fe8bf4155"
      },
      "source": [
        "# re-train the model each time as new observations available\n",
        "n_obs = int(15000) # number of initial observation\n",
        "train = original[:n_obs]; test = original[n_obs:len(train)+1]\n",
        "model = vecm.VECM(train.values, k_ar_diff = 6, coint_rank = 5, deterministic='co')\n",
        "model_fit = model.fit()\n",
        "print('Lag: %s' % model_fit.k_ar)\n",
        "# predictions\n",
        "pred_1 = model_fit.predict(len(test))\n",
        "pred_1 = DataFrame(pred_1, columns = original.columns)\n",
        "print('\\033[4mEURUSD :: 1st prediction:\\033[0m')\n",
        "for i in range(len(pred_1)):\n",
        "  print('predicted -> %f, actual -> %f' % (pred_1.eurusd[i], test.eurusd[i])); print()\n",
        "\n",
        "tr1 = original[:len(train)+1]; te1 = original[len(tr1):len(tr1)+1]\n",
        "model = vecm.VECM(tr1.values, k_ar_diff = 6, coint_rank = 5, deterministic='co')\n",
        "model_fit = model.fit()\n",
        "# predictions\n",
        "pred_2 = model_fit.predict(len(te1))\n",
        "pred_2 = DataFrame(pred_2, columns = original.columns)\n",
        "print('\\033[4mEURUSD :: 2nd prediction:\\033[0m')\n",
        "for i in range(len(pred_2)):\n",
        "  print('predicted -> %f, actual -> %f' % (pred_2.eurusd[i], te1.eurusd[i])); print()\n",
        "\n",
        "tr2 = original[:len(train)+2]; te2 = original[len(tr2):len(tr2)+1]\n",
        "model = vecm.VECM(tr2.values, k_ar_diff = 6, coint_rank = 5, deterministic='co')\n",
        "model_fit = model.fit()\n",
        "# predictions\n",
        "pred_3 = model_fit.predict(len(te2))\n",
        "pred_3 = DataFrame(pred_3, columns = original.columns)\n",
        "print('\\033[4mEURUSD :: 3rd prediction:\\033[0m')\n",
        "for i in range(len(pred_3)):\n",
        "  print('predicted -> %f, actual -> %f' % (pred_3.eurusd[i], te2.eurusd[i])); print()\n",
        "\n",
        "tr3 = original[:len(train)+3]; te3 = original[len(tr3):len(tr3)+1]\n",
        "model = vecm.VECM(tr3.values, k_ar_diff = 6, coint_rank = 5, deterministic='co')\n",
        "model_fit = model.fit()\n",
        "# predictions\n",
        "pred_4 = model_fit.predict(len(te3))\n",
        "pred_4 = DataFrame(pred_4, columns = original.columns)\n",
        "print('\\033[4mEURUSD :: 4th prediction:\\033[0m')\n",
        "for i in range(len(pred_4)):\n",
        "  print('predicted -> %f, actual -> %f' % (pred_4.eurusd[i], te3.eurusd[i])); print()\n",
        "\n",
        "tr4 = original[:len(train)+4]; te4 = original[len(tr4):len(tr4)+1]\n",
        "model = vecm.VECM(tr4.values, k_ar_diff = 6, coint_rank = 5, deterministic='co')\n",
        "model_fit = model.fit()\n",
        "# predictions\n",
        "pred_5 = model_fit.predict(len(te4))\n",
        "pred_5 = DataFrame(pred_5, columns = original.columns)\n",
        "print('\\033[4mEURUSD :: 5th prediction:\\033[0m')\n",
        "for i in range(len(pred_5)):\n",
        "  print('predicted -> %f, actual -> %f' % (pred_5.eurusd[i], te4.eurusd[i])); print()\n",
        "\n",
        "tr5 = original[:len(train)+5]; te5 = original[len(tr5):len(tr5)+1]\n",
        "model = vecm.VECM(tr5.values, k_ar_diff = 6, coint_rank = 5, deterministic='co')\n",
        "model_fit = model.fit()\n",
        "# predictions\n",
        "pred_6 = model_fit.predict(len(te5))\n",
        "pred_6 = DataFrame(pred_6, columns = original.columns)\n",
        "print('\\033[4mEURUSD :: 6th prediction:\\033[0m')\n",
        "for i in range(len(pred_6)):\n",
        "  print('predicted -> %f, actual -> %f' % (pred_6.eurusd[i], te5.eurusd[i])); print()\n",
        "\n",
        "tr6 = original[:len(train)+6]; te6 = original[len(tr6):len(tr6)+1]\n",
        "model = vecm.VECM(tr6.values, k_ar_diff = 6, coint_rank = 5, deterministic='co')\n",
        "model_fit = model.fit()\n",
        "# predictions\n",
        "pred_7 = model_fit.predict(len(te6))\n",
        "pred_7 = DataFrame(pred_7, columns = original.columns)\n",
        "print('\\033[4mEURUSD :: 7th prediction:\\033[0m')\n",
        "for i in range(len(pred_7)):\n",
        "  print('predicted -> %f, actual -> %f' % (pred_7.eurusd[i], te6.eurusd[i])); print()\n",
        "\n",
        "tr7 = original[:len(train)+7]; te7 = original[len(tr7):len(tr7)+1]\n",
        "model = vecm.VECM(tr7.values, k_ar_diff = 6, coint_rank = 5, deterministic='co')\n",
        "model_fit = model.fit()\n",
        "# predictions\n",
        "pred_8 = model_fit.predict(len(te7))\n",
        "pred_8 = DataFrame(pred_8, columns = original.columns)\n",
        "print('\\033[4mEURUSD :: 8th prediction:\\033[0m')\n",
        "for i in range(len(pred_8)):\n",
        "  print('predicted -> %f, actual -> %f' % (pred_8.eurusd[i], te7.eurusd[i])); print()\n",
        "\n",
        "tr8 = original[:len(train)+8]; te8 = original[len(tr8):len(tr8)+1]\n",
        "model = vecm.VECM(tr8.values, k_ar_diff = 6, coint_rank = 5, deterministic='co')\n",
        "model_fit = model.fit()\n",
        "# predictions\n",
        "pred_9 = model_fit.predict(len(te8))\n",
        "pred_9 = DataFrame(pred_9, columns = original.columns)\n",
        "print('\\033[4mEURUSD :: 9th prediction:\\033[0m')\n",
        "for i in range(len(pred_9)):\n",
        "  print('predicted -> %f, actual -> %f' % (pred_9.eurusd[i], te8.eurusd[i])); print()\n",
        "\n",
        "tr9 = original[:len(train)+9]; te9 = original[len(tr9):len(tr9)+1]\n",
        "model = vecm.VECM(tr9.values, k_ar_diff = 6, coint_rank = 5, deterministic='co')\n",
        "model_fit = model.fit()\n",
        "# predictions\n",
        "pred_10 = model_fit.predict(len(te9))\n",
        "pred_10 = DataFrame(pred_10, columns = original.columns)\n",
        "print('\\033[4mEURUSD :: 10th prediction:\\033[0m')\n",
        "for i in range(len(pred_10)):\n",
        "  print('predicted -> %f, actual -> %f' % (pred_10.eurusd[i], te9.eurusd[i])); print()\n",
        "\n",
        "tr10 = original[:len(train)+10]; te10 = original[len(tr10):len(tr10)+1]\n",
        "model = vecm.VECM(tr10.values, k_ar_diff = 6, coint_rank = 5, deterministic='co')\n",
        "model_fit = model.fit()\n",
        "# predictions\n",
        "pred_11 = model_fit.predict(len(te10))\n",
        "pred_11 = DataFrame(predictions, columns = original.columns)\n",
        "print('\\033[4mEURUSD :: 11th prediction:\\033[0m')\n",
        "for i in range(len(pred_11)):\n",
        "  print('predicted -> %f, actual -> %f' % (pred_11.eurusd[i], te10.eurusd[i])); print()\n",
        "\n",
        "tr11 = original[:len(train)+11]; te11 = original[len(tr11):len(tr11)+1]\n",
        "model = vecm.VECM(tr11.values, k_ar_diff = 6, coint_rank = 5, deterministic='co')\n",
        "model_fit = model.fit()\n",
        "# predictions\n",
        "pred_12 = model_fit.predict(len(te11))\n",
        "pred_12 = DataFrame(pred_12, columns = original.columns)\n",
        "print('\\033[4mEURUSD :: 12th prediction:\\033[0m')\n",
        "for i in range(len(pred_12)):\n",
        "  print('predicted -> %f, actual -> %f' % (pred_12.eurusd[i], te11.eurusd[i])); print()\n",
        "\n",
        "tr12 = original[:len(train)+12]; te12 = original[len(tr12):len(tr12)+1]\n",
        "model = vecm.VECM(tr12.values, k_ar_diff = 6, coint_rank = 5, deterministic='co')\n",
        "model_fit = model.fit()\n",
        "# predictions\n",
        "pred_13 = model_fit.predict(len(te12))\n",
        "pred_13 = DataFrame(pred_13, columns = original.columns)\n",
        "print('\\033[4mEURUSD :: 13th prediction:\\033[0m')\n",
        "for i in range(len(pred_13)):\n",
        "  print('predicted -> %f, actual -> %f' % (pred_13.eurusd[i], te12.eurusd[i])); print()\n",
        "\n",
        "tr13 = original[:len(train)+13]; te13 = original[len(tr13):len(tr13)+1]\n",
        "model = vecm.VECM(tr13.values, k_ar_diff = 6, coint_rank = 5, deterministic='co')\n",
        "model_fit = model.fit()\n",
        "# predictions\n",
        "pred_14 = model_fit.predict(len(te13))\n",
        "pred_14 = DataFrame(pred_14, columns = original.columns)\n",
        "print('\\033[4mEURUSD :: 14th prediction:\\033[0m')\n",
        "for i in range(len(pred_14)):\n",
        "  print('predicted -> %f, actual -> %f' % (pred_14.eurusd[i], te13.eurusd[i])); print()\n",
        "\n",
        "tr14 = original[:len(train)+14]; te14 = original[len(tr14):len(tr14)+1]\n",
        "model = vecm.VECM(tr14.values, k_ar_diff = 6, coint_rank = 5, deterministic='co')\n",
        "model_fit = model.fit()\n",
        "# predictions\n",
        "pred_15 = model_fit.predict(len(te14))\n",
        "pred_15 = DataFrame(pred_15, columns = original.columns)\n",
        "print('\\033[4mEURUSD :: 15th prediction:\\033[0m')\n",
        "for i in range(len(pred_15)):\n",
        "  print('predicted -> %f, actual -> %f' % (pred_15.eurusd[i], te14.eurusd[i])); print()"
      ],
      "execution_count": null,
      "outputs": [
        {
          "output_type": "stream",
          "text": [
            "Lag: 7\n",
            "\u001b[4mEURUSD :: 1st prediction:\u001b[0m\n",
            "predicted -> 1091274.450408, actual -> 1091050.000000\n",
            "\n",
            "\u001b[4mEURUSD :: 2nd prediction:\u001b[0m\n",
            "predicted -> 1091091.750036, actual -> 1090825.000000\n",
            "\n",
            "\u001b[4mEURUSD :: 3rd prediction:\u001b[0m\n",
            "predicted -> 1090975.619986, actual -> 1090825.000000\n",
            "\n",
            "\u001b[4mEURUSD :: 4th prediction:\u001b[0m\n",
            "predicted -> 1090904.927227, actual -> 1090775.000000\n",
            "\n",
            "\u001b[4mEURUSD :: 5th prediction:\u001b[0m\n",
            "predicted -> 1090813.626906, actual -> 1090705.000000\n",
            "\n",
            "\u001b[4mEURUSD :: 6th prediction:\u001b[0m\n",
            "predicted -> 1090802.475576, actual -> 1090645.000000\n",
            "\n",
            "\u001b[4mEURUSD :: 7th prediction:\u001b[0m\n",
            "predicted -> 1090720.183543, actual -> 1090600.000000\n",
            "\n",
            "\u001b[4mEURUSD :: 8th prediction:\u001b[0m\n",
            "predicted -> 1090639.749487, actual -> 1090475.000000\n",
            "\n",
            "\u001b[4mEURUSD :: 9th prediction:\u001b[0m\n",
            "predicted -> 1090518.503120, actual -> 1090300.000000\n",
            "\n",
            "\u001b[4mEURUSD :: 10th prediction:\u001b[0m\n",
            "predicted -> 1090377.332967, actual -> 1090585.000000\n",
            "\n",
            "\u001b[4mEURUSD :: 11th prediction:\u001b[0m\n",
            "predicted -> 1090438.036185, actual -> 1090515.000000\n",
            "\n",
            "\u001b[4mEURUSD :: 12th prediction:\u001b[0m\n",
            "predicted -> 1090464.745764, actual -> 1090505.000000\n",
            "\n",
            "\u001b[4mEURUSD :: 13th prediction:\u001b[0m\n",
            "predicted -> 1090426.908274, actual -> 1090510.000000\n",
            "\n",
            "\u001b[4mEURUSD :: 14th prediction:\u001b[0m\n",
            "predicted -> 1090438.036185, actual -> 1090835.000000\n",
            "\n",
            "\u001b[4mEURUSD :: 15th prediction:\u001b[0m\n",
            "predicted -> 1090698.415585, actual -> 1090850.000000\n",
            "\n"
          ],
          "name": "stdout"
        }
      ]
    },
    {
      "cell_type": "code",
      "metadata": {
        "colab": {
          "base_uri": "https://localhost:8080/"
        },
        "id": "GOUFpwoi8fhE",
        "outputId": "89761d06-be99-4834-e2e5-83cb5692cb2d"
      },
      "source": [
        "print('\\033[4mEURCHF :: 1st prediction:\\033[0m')\n",
        "for i in range(len(pred_1)):\n",
        "  print('predicted -> %f, actual -> %f' % (pred_1.eurchf[i], test.eurchf[i])); print()\n",
        "\n",
        "print('\\033[4mEURCHF :: 2nd prediction:\\033[0m')\n",
        "for i in range(len(pred_2)):\n",
        "  print('predicted -> %f, actual -> %f' % (pred_2.eurchf[i], te1.eurchf[i])); print()\n",
        "\n",
        "print('\\033[4mEURCHF :: 3rd prediction:\\033[0m')\n",
        "for i in range(len(pred_3)):\n",
        "  print('predicted -> %f, actual -> %f' % (pred_3.eurchf[i], te2.eurchf[i])); print()\n",
        "\n",
        "print('\\033[4mEURCHF :: 4th prediction:\\033[0m')\n",
        "for i in range(len(pred_4)):\n",
        "  print('predicted -> %f, actual -> %f' % (pred_4.eurchf[i], te3.eurchf[i])); print()\n",
        "\n",
        "print('\\033[4mEURCHF :: 5th prediction:\\033[0m')\n",
        "for i in range(len(pred_5)):\n",
        "  print('predicted -> %f, actual -> %f' % (pred_5.eurchf[i], te4.eurchf[i])); print()\n",
        "\n",
        "print('\\033[4mEURCHF :: 6th prediction:\\033[0m')\n",
        "for i in range(len(pred_6)):\n",
        "  print('predicted -> %f, actual -> %f' % (pred_6.eurchf[i], te5.eurchf[i])); print()\n",
        "\n",
        "print('\\033[4mEURCHF :: 7th prediction:\\033[0m')\n",
        "for i in range(len(pred_7)):\n",
        "  print('predicted -> %f, actual -> %f' % (pred_7.eurchf[i], te6.eurchf[i])); print()\n",
        "\n",
        "print('\\033[4mEURCHF :: 8th prediction:\\033[0m')\n",
        "for i in range(len(pred_8)):\n",
        "  print('predicted -> %f, actual -> %f' % (pred_8.eurchf[i], te7.eurchf[i])); print()\n",
        "\n",
        "print('\\033[4mEURCHF :: 9th prediction:\\033[0m')\n",
        "for i in range(len(pred_8)):\n",
        "  print('predicted -> %f, actual -> %f' % (pred_9.eurchf[i], te8.eurchf[i])); print()\n",
        "\n",
        "print('\\033[4mEURCHF :: 10th prediction:\\033[0m')\n",
        "for i in range(len(pred_10)):\n",
        "  print('predicted -> %f, actual -> %f' % (pred_10.eurchf[i], te9.eurchf[i])); print()\n",
        "\n",
        "print('\\033[4mEURCHF :: 11th prediction:\\033[0m')\n",
        "for i in range(len(pred_11)):\n",
        "  print('predicted -> %f, actual -> %f' % (pred_11.eurchf[i], te10.eurchf[i])); print()\n",
        "\n",
        "print('\\033[4mEURCHF :: 12th prediction:\\033[0m')\n",
        "for i in range(len(pred_12)):\n",
        "  print('predicted -> %f, actual -> %f' % (pred_12.eurchf[i], te11.eurchf[i])); print()\n",
        "\n",
        "print('\\033[4mEURCHF :: 13th prediction:\\033[0m')\n",
        "for i in range(len(pred_13)):\n",
        "  print('predicted -> %f, actual -> %f' % (pred_13.eurchf[i], te12.eurchf[i])); print()\n",
        "\n",
        "print('\\033[4mEURCHF :: 14th prediction:\\033[0m')\n",
        "for i in range(len(pred_14)):\n",
        "  print('predicted -> %f, actual -> %f' % (pred_14.eurchf[i], te13.eurchf[i])); print()\n",
        "\n",
        "print('\\033[4mEURCHF :: 15th prediction:\\033[0m')\n",
        "for i in range(len(pred_15)):\n",
        "  print('predicted -> %f, actual -> %f' % (pred_15.eurchf[i], te14.eurchf[i])); print()"
      ],
      "execution_count": null,
      "outputs": [
        {
          "output_type": "stream",
          "text": [
            "\u001b[4mEURCHF :: 1st prediction:\u001b[0m\n",
            "predicted -> 1052508.701807, actual -> 1052555.000000\n",
            "\n",
            "\u001b[4mEURCHF :: 2nd prediction:\u001b[0m\n",
            "predicted -> 1052550.620714, actual -> 1052505.000000\n",
            "\n",
            "\u001b[4mEURCHF :: 3rd prediction:\u001b[0m\n",
            "predicted -> 1052492.822786, actual -> 1052510.000000\n",
            "\n",
            "\u001b[4mEURCHF :: 4th prediction:\u001b[0m\n",
            "predicted -> 1052500.535771, actual -> 1052505.000000\n",
            "\n",
            "\u001b[4mEURCHF :: 5th prediction:\u001b[0m\n",
            "predicted -> 1052481.313653, actual -> 1052455.000000\n",
            "\n",
            "\u001b[4mEURCHF :: 6th prediction:\u001b[0m\n",
            "predicted -> 1052482.032535, actual -> 1052505.000000\n",
            "\n",
            "\u001b[4mEURCHF :: 7th prediction:\u001b[0m\n",
            "predicted -> 1052496.620563, actual -> 1052505.000000\n",
            "\n",
            "\u001b[4mEURCHF :: 8th prediction:\u001b[0m\n",
            "predicted -> 1052530.586904, actual -> 1052505.000000\n",
            "\n",
            "\u001b[4mEURCHF :: 9th prediction:\u001b[0m\n",
            "predicted -> 1052522.480733, actual -> 1052505.000000\n",
            "\n",
            "\u001b[4mEURCHF :: 10th prediction:\u001b[0m\n",
            "predicted -> 1052520.325578, actual -> 1052535.000000\n",
            "\n",
            "\u001b[4mEURCHF :: 11th prediction:\u001b[0m\n",
            "predicted -> 1052504.763960, actual -> 1052505.000000\n",
            "\n",
            "\u001b[4mEURCHF :: 12th prediction:\u001b[0m\n",
            "predicted -> 1052492.324704, actual -> 1052505.000000\n",
            "\n",
            "\u001b[4mEURCHF :: 13th prediction:\u001b[0m\n",
            "predicted -> 1052501.620289, actual -> 1052505.000000\n",
            "\n",
            "\u001b[4mEURCHF :: 14th prediction:\u001b[0m\n",
            "predicted -> 1052504.763960, actual -> 1052505.000000\n",
            "\n",
            "\u001b[4mEURCHF :: 15th prediction:\u001b[0m\n",
            "predicted -> 1052482.641532, actual -> 1052505.000000\n",
            "\n"
          ],
          "name": "stdout"
        }
      ]
    },
    {
      "cell_type": "markdown",
      "metadata": {
        "id": "05gZnU42HmfB"
      },
      "source": [
        "# Clubbing all:"
      ]
    },
    {
      "cell_type": "code",
      "metadata": {
        "colab": {
          "resources": {
            "http://localhost:8080/nbextensions/google.colab/files.js": {
              "data": "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",
              "ok": true,
              "headers": [
                [
                  "content-type",
                  "application/javascript"
                ]
              ],
              "status": 200,
              "status_text": ""
            }
          },
          "base_uri": "https://localhost:8080/",
          "height": 1000
        },
        "id": "h5WbSLKxAH8U",
        "outputId": "f4c7ae65-894d-43a8-99f1-c345a61a76a0"
      },
      "source": [
        "print('Necessary libraries & dependencies')\n",
        "!pip install pyforest\n",
        "from pyforest import *\n",
        "import datetime, pickle, copy, warnings, math\n",
        "from pandas import DataFrame, merge, concat\n",
        "plt.style.use('dark_background')\n",
        "from google.colab import files\n",
        "!pip install arch\n",
        "from arch.unitroot import DFGLS\n",
        "pd.set_option('display.max_rows', 500)\n",
        "pd.set_option('display.max_columns', 500)\n",
        "pd.set_option('display.width', 150)\n",
        "from sklearn.metrics import mean_absolute_error, mean_squared_error\n",
        "from math import sqrt\n",
        "from numpy import sqrt\n",
        "from statsmodels.tsa.stattools import grangercausalitytests, adfuller\n",
        "from statsmodels.stats.stattools import durbin_watson\n",
        "from statsmodels.tsa.vector_ar import vecm\n",
        "import statsmodels.stats.api as sms\n",
        "from statsmodels.compat import lzip \n",
        "\n",
        "uploaded = files.upload()\n",
        "print('view data...')\n",
        "original = pd.read_csv(\"series_7_1.csv\")\n",
        "original = original.set_index('timestamp')\n",
        "original = original.sort_index(ascending=True)\n",
        "\n",
        "print('Granger Causality:')\n",
        "max_lag = 6\n",
        "test = 'ssr_chi2test'\n",
        "def causation_matrix(data, variables, test='ssr_chi2test', verbose=False):    \n",
        "  X = DataFrame(np.zeros((len(variables), len(variables))), columns=variables, index=variables)\n",
        "  for c in X.columns:\n",
        "    for r in X.index:\n",
        "      test_result = grangercausalitytests(data[[r, c]], maxlag = max_lag, verbose = False)\n",
        "      p_values = [round(test_result[i+1][0][test][1],4) for i in range(max_lag)]\n",
        "      if verbose: print(f'Y = {r}, X = {c}, P Values = {p_values}')\n",
        "      min_p_value = np.min(p_values)\n",
        "      X.loc[r, c] = min_p_value\n",
        "    X.columns = [var + '-x axis' for var in variables]\n",
        "    X.index = [var + '-y axis' for var in variables]\n",
        "    return X\n",
        "print(causation_matrix(original, variables = original.columns)); print()\n",
        "\n",
        "# re-train the model each time as new observations available\n",
        "n_obs = int(15000) # number of initial observation\n",
        "train_df = original[:n_obs]; test_df = original[n_obs:len(train_df)+1]\n",
        "model = vecm.VECM(train_df.values, k_ar_diff = 6, coint_rank = 5, deterministic='co')\n",
        "model_fit = model.fit()\n",
        "print('Lag: %s' % model_fit.k_ar); print()\n",
        "\n",
        "# Durbin-Watson\n",
        "print('Durbin-Watson test:)')\n",
        "out = durbin_watson(model_fit.resid)\n",
        "for col, val in zip(original.columns, out):\n",
        "    print((col), ':', round(val, 2))\n",
        "\n",
        "# Residuals test\n",
        "residuals = model_fit.resid\n",
        "name = ['Jarque-Bera', 'Chi^2 two-tail prob.', 'Skew', 'Kurtosis']\n",
        "test = sms.jarque_bera(residuals)\n",
        "print(lzip(name, test)); print()\n",
        "print('Correlation matrix:')\n",
        "residuals = DataFrame(residuals, columns = original.columns)\n",
        "print(residuals.corr()); print() # correlation matrix\n",
        "print('Summary statistic:')\n",
        "print(residuals.describe().transpose()) # statistic\n",
        "\n",
        "# predictions\n",
        "pred_1 = model_fit.predict(len(test_df))\n",
        "pred_1 = DataFrame(pred_1, columns = original.columns)\n",
        "print('\\033[4mEURUSD :: 1st prediction:\\033[0m')\n",
        "for i in range(len(pred_1)):\n",
        "  print('predicted -> %f, actual -> %f' % (pred_1.eurusd[i], test_df.eurusd[i])); print()\n",
        "\n",
        "tr1 = original[:len(train_df)+1]; te1 = original[len(tr1):len(tr1)+1]\n",
        "model = vecm.VECM(tr1.values, k_ar_diff = 6, coint_rank = 5, deterministic='co')\n",
        "model_fit = model.fit()\n",
        "# predictions\n",
        "pred_2 = model_fit.predict(len(te1))\n",
        "pred_2 = DataFrame(pred_2, columns = original.columns)\n",
        "print('\\033[4mEURUSD :: 2nd prediction:\\033[0m')\n",
        "for i in range(len(pred_2)):\n",
        "  print('predicted -> %f, actual -> %f' % (pred_2.eurusd[i], te1.eurusd[i])); print()\n",
        "\n",
        "tr2 = original[:len(train_df)+2]; te2 = original[len(tr2):len(tr2)+1]\n",
        "model = vecm.VECM(tr2.values, k_ar_diff = 6, coint_rank = 5, deterministic='co')\n",
        "model_fit = model.fit()\n",
        "# predictions\n",
        "pred_3 = model_fit.predict(len(te2))\n",
        "pred_3 = DataFrame(pred_3, columns = original.columns)\n",
        "print('\\033[4mEURUSD :: 3rd prediction:\\033[0m')\n",
        "for i in range(len(pred_3)):\n",
        "  print('predicted -> %f, actual -> %f' % (pred_3.eurusd[i], te2.eurusd[i])); print()\n",
        "\n",
        "tr3 = original[:len(train_df)+3]; te3 = original[len(tr3):len(tr3)+1]\n",
        "model = vecm.VECM(tr3.values, k_ar_diff = 6, coint_rank = 5, deterministic='co')\n",
        "model_fit = model.fit()\n",
        "# predictions\n",
        "pred_4 = model_fit.predict(len(te3))\n",
        "pred_4 = DataFrame(pred_4, columns = original.columns)\n",
        "print('\\033[4mEURUSD :: 4th prediction:\\033[0m')\n",
        "for i in range(len(pred_4)):\n",
        "  print('predicted -> %f, actual -> %f' % (pred_4.eurusd[i], te3.eurusd[i])); print()\n",
        "\n",
        "tr4 = original[:len(train_df)+4]; te4 = original[len(tr4):len(tr4)+1]\n",
        "model = vecm.VECM(tr4.values, k_ar_diff = 6, coint_rank = 5, deterministic='co')\n",
        "model_fit = model.fit()\n",
        "# predictions\n",
        "pred_5 = model_fit.predict(len(te4))\n",
        "pred_5 = DataFrame(pred_5, columns = original.columns)\n",
        "print('\\033[4mEURUSD :: 5th prediction:\\033[0m')\n",
        "for i in range(len(pred_5)):\n",
        "  print('predicted -> %f, actual -> %f' % (pred_5.eurusd[i], te4.eurusd[i])); print()\n",
        "\n",
        "tr5 = original[:len(train_df)+5]; te5 = original[len(tr5):len(tr5)+1]\n",
        "model = vecm.VECM(tr5.values, k_ar_diff = 6, coint_rank = 5, deterministic='co')\n",
        "model_fit = model.fit()\n",
        "# predictions\n",
        "pred_6 = model_fit.predict(len(te5))\n",
        "pred_6 = DataFrame(pred_6, columns = original.columns)\n",
        "print('\\033[4mEURUSD :: 6th prediction:\\033[0m')\n",
        "for i in range(len(pred_6)):\n",
        "  print('predicted -> %f, actual -> %f' % (pred_6.eurusd[i], te5.eurusd[i])); print()\n",
        "\n",
        "tr6 = original[:len(train_df)+6]; te6 = original[len(tr6):len(tr6)+1]\n",
        "model = vecm.VECM(tr6.values, k_ar_diff = 6, coint_rank = 5, deterministic='co')\n",
        "model_fit = model.fit()\n",
        "# predictions\n",
        "pred_7 = model_fit.predict(len(te6))\n",
        "pred_7 = DataFrame(pred_7, columns = original.columns)\n",
        "print('\\033[4mEURUSD :: 7th prediction:\\033[0m')\n",
        "for i in range(len(pred_7)):\n",
        "  print('predicted -> %f, actual -> %f' % (pred_7.eurusd[i], te6.eurusd[i])); print()\n",
        "\n",
        "tr7 = original[:len(train_df)+7]; te7 = original[len(tr7):len(tr7)+1]\n",
        "model = vecm.VECM(tr7.values, k_ar_diff = 6, coint_rank = 5, deterministic='co')\n",
        "model_fit = model.fit()\n",
        "# predictions\n",
        "pred_8 = model_fit.predict(len(te7))\n",
        "pred_8 = DataFrame(pred_8, columns = original.columns)\n",
        "print('\\033[4mEURUSD :: 8th prediction:\\033[0m')\n",
        "for i in range(len(pred_8)):\n",
        "  print('predicted -> %f, actual -> %f' % (pred_8.eurusd[i], te7.eurusd[i])); print()\n",
        "\n",
        "tr8 = original[:len(train_df)+8]; te8 = original[len(tr8):len(tr8)+1]\n",
        "model = vecm.VECM(tr8.values, k_ar_diff = 6, coint_rank = 5, deterministic='co')\n",
        "model_fit = model.fit()\n",
        "# predictions\n",
        "pred_9 = model_fit.predict(len(te8))\n",
        "pred_9 = DataFrame(pred_9, columns = original.columns)\n",
        "print('\\033[4mEURUSD :: 9th prediction:\\033[0m')\n",
        "for i in range(len(pred_9)):\n",
        "  print('predicted -> %f, actual -> %f' % (pred_9.eurusd[i], te8.eurusd[i])); print()\n",
        "\n",
        "tr9 = original[:len(train_df)+9]; te9 = original[len(tr9):len(tr9)+1]\n",
        "model = vecm.VECM(tr9.values, k_ar_diff = 6, coint_rank = 5, deterministic='co')\n",
        "model_fit = model.fit()\n",
        "# predictions\n",
        "pred_10 = model_fit.predict(len(te9))\n",
        "pred_10 = DataFrame(pred_10, columns = original.columns)\n",
        "print('\\033[4mEURUSD :: 10th prediction:\\033[0m')\n",
        "for i in range(len(pred_10)):\n",
        "  print('predicted -> %f, actual -> %f' % (pred_10.eurusd[i], te9.eurusd[i])); print()\n",
        "\n",
        "tr10 = original[:len(train_df)+10]; te10 = original[len(tr10):len(tr10)+1]\n",
        "model = vecm.VECM(tr10.values, k_ar_diff = 6, coint_rank = 5, deterministic='co')\n",
        "model_fit = model.fit()\n",
        "# predictions\n",
        "pred_11 = model_fit.predict(len(te10))\n",
        "pred_11 = DataFrame(pred_11, columns = original.columns)\n",
        "print('\\033[4mEURUSD :: 11th prediction:\\033[0m')\n",
        "for i in range(len(pred_11)):\n",
        "  print('predicted -> %f, actual -> %f' % (pred_11.eurusd[i], te10.eurusd[i])); print()\n",
        "\n",
        "tr11 = original[:len(train_df)+11]; te11 = original[len(tr11):len(tr11)+1]\n",
        "model = vecm.VECM(tr11.values, k_ar_diff = 6, coint_rank = 5, deterministic='co')\n",
        "model_fit = model.fit()\n",
        "# predictions\n",
        "pred_12 = model_fit.predict(len(te11))\n",
        "pred_12 = DataFrame(pred_12, columns = original.columns)\n",
        "print('\\033[4mEURUSD :: 12th prediction:\\033[0m')\n",
        "for i in range(len(pred_12)):\n",
        "  print('predicted -> %f, actual -> %f' % (pred_12.eurusd[i], te11.eurusd[i])); print()\n",
        "\n",
        "tr12 = original[:len(train_df)+12]; te12 = original[len(tr12):len(tr12)+1]\n",
        "model = vecm.VECM(tr12.values, k_ar_diff = 6, coint_rank = 5, deterministic='co')\n",
        "model_fit = model.fit()\n",
        "# predictions\n",
        "pred_13 = model_fit.predict(len(te12))\n",
        "pred_13 = DataFrame(pred_13, columns = original.columns)\n",
        "print('\\033[4mEURUSD :: 13th prediction:\\033[0m')\n",
        "for i in range(len(pred_13)):\n",
        "  print('predicted -> %f, actual -> %f' % (pred_13.eurusd[i], te12.eurusd[i])); print()\n",
        "\n",
        "tr13 = original[:len(train_df)+13]; te13 = original[len(tr13):len(tr13)+1]\n",
        "model = vecm.VECM(tr13.values, k_ar_diff = 6, coint_rank = 5, deterministic='co')\n",
        "model_fit = model.fit()\n",
        "# predictions\n",
        "pred_14 = model_fit.predict(len(te13))\n",
        "pred_14 = DataFrame(pred_14, columns = original.columns)\n",
        "print('\\033[4mEURUSD :: 14th prediction:\\033[0m')\n",
        "for i in range(len(pred_14)):\n",
        "  print('predicted -> %f, actual -> %f' % (pred_14.eurusd[i], te13.eurusd[i])); print()\n",
        "\n",
        "tr14 = original[:len(train_df)+14]; te14 = original[len(tr14):len(tr14)+1]\n",
        "model = vecm.VECM(tr14.values, k_ar_diff = 6, coint_rank = 5, deterministic='co')\n",
        "model_fit = model.fit()\n",
        "# predictions\n",
        "pred_15 = model_fit.predict(len(te14))\n",
        "pred_15 = DataFrame(pred_15, columns = original.columns)\n",
        "print('\\033[4mEURUSD :: 15th prediction:\\033[0m')\n",
        "for i in range(len(pred_15)):\n",
        "  print('predicted -> %f, actual -> %f' % (pred_15.eurusd[i], te14.eurusd[i])); print()\n",
        "print(\"####################################################################\")\n",
        "\n",
        "print('\\033[4mEURCHF :: 1st prediction:\\033[0m')\n",
        "for i in range(len(pred_1)):\n",
        "  print('predicted -> %f, actual -> %f' % (pred_1.eurchf[i], test_df.eurchf[i])); print()\n",
        "\n",
        "print('\\033[4mEURCHF :: 2nd prediction:\\033[0m')\n",
        "for i in range(len(pred_2)):\n",
        "  print('predicted -> %f, actual -> %f' % (pred_2.eurchf[i], te1.eurchf[i])); print()\n",
        "\n",
        "print('\\033[4mEURCHF :: 3rd prediction:\\033[0m')\n",
        "for i in range(len(pred_3)):\n",
        "  print('predicted -> %f, actual -> %f' % (pred_3.eurchf[i], te2.eurchf[i])); print()\n",
        "\n",
        "print('\\033[4mEURCHF :: 4th prediction:\\033[0m')\n",
        "for i in range(len(pred_4)):\n",
        "  print('predicted -> %f, actual -> %f' % (pred_4.eurchf[i], te3.eurchf[i])); print()\n",
        "\n",
        "print('\\033[4mEURCHF :: 5th prediction:\\033[0m')\n",
        "for i in range(len(pred_5)):\n",
        "  print('predicted -> %f, actual -> %f' % (pred_5.eurchf[i], te4.eurchf[i])); print()\n",
        "\n",
        "print('\\033[4mEURCHF :: 6th prediction:\\033[0m')\n",
        "for i in range(len(pred_6)):\n",
        "  print('predicted -> %f, actual -> %f' % (pred_6.eurchf[i], te5.eurchf[i])); print()\n",
        "\n",
        "print('\\033[4mEURCHF :: 7th prediction:\\033[0m')\n",
        "for i in range(len(pred_7)):\n",
        "  print('predicted -> %f, actual -> %f' % (pred_7.eurchf[i], te6.eurchf[i])); print()\n",
        "\n",
        "print('\\033[4mEURCHF :: 8th prediction:\\033[0m')\n",
        "for i in range(len(pred_8)):\n",
        "  print('predicted -> %f, actual -> %f' % (pred_8.eurchf[i], te7.eurchf[i])); print()\n",
        "\n",
        "print('\\033[4mEURCHF :: 9th prediction:\\033[0m')\n",
        "for i in range(len(pred_8)):\n",
        "  print('predicted -> %f, actual -> %f' % (pred_9.eurchf[i], te8.eurchf[i])); print()\n",
        "\n",
        "print('\\033[4mEURCHF :: 10th prediction:\\033[0m')\n",
        "for i in range(len(pred_10)):\n",
        "  print('predicted -> %f, actual -> %f' % (pred_10.eurchf[i], te9.eurchf[i])); print()\n",
        "\n",
        "print('\\033[4mEURCHF :: 11th prediction:\\033[0m')\n",
        "for i in range(len(pred_11)):\n",
        "  print('predicted -> %f, actual -> %f' % (pred_11.eurchf[i], te10.eurchf[i])); print()\n",
        "\n",
        "print('\\033[4mEURCHF :: 12th prediction:\\033[0m')\n",
        "for i in range(len(pred_12)):\n",
        "  print('predicted -> %f, actual -> %f' % (pred_12.eurchf[i], te11.eurchf[i])); print()\n",
        "\n",
        "print('\\033[4mEURCHF :: 13th prediction:\\033[0m')\n",
        "for i in range(len(pred_13)):\n",
        "  print('predicted -> %f, actual -> %f' % (pred_13.eurchf[i], te12.eurchf[i])); print()\n",
        "\n",
        "print('\\033[4mEURCHF :: 14th prediction:\\033[0m')\n",
        "for i in range(len(pred_14)):\n",
        "  print('predicted -> %f, actual -> %f' % (pred_14.eurchf[i], te13.eurchf[i])); print()\n",
        "\n",
        "print('\\033[4mEURCHF :: 15th prediction:\\033[0m')\n",
        "for i in range(len(pred_15)):\n",
        "  print('predicted -> %f, actual -> %f' % (pred_15.eurchf[i], te14.eurchf[i])); print()"
      ],
      "execution_count": null,
      "outputs": [
        {
          "output_type": "stream",
          "text": [
            "Necessary libraries & dependencies\n",
            "Requirement already satisfied: pyforest in /usr/local/lib/python3.6/dist-packages (1.0.3)\n"
          ],
          "name": "stdout"
        },
        {
          "output_type": "display_data",
          "data": {
            "application/javascript": [
              "\n",
              "        if (window._pyforest_update_imports_cell) { window._pyforest_update_imports_cell('from sklearn.model_selection import train_test_split\\nimport pydot\\nimport tensorflow as tf\\nimport tqdm\\nimport plotly.express as px\\nimport matplotlib.pyplot as plt\\nimport pandas as pd\\nimport plotly as py\\nimport numpy as np'); }\n",
              "    "
            ],
            "text/plain": [
              "<IPython.core.display.Javascript object>"
            ]
          },
          "metadata": {
            "tags": []
          }
        },
        {
          "output_type": "stream",
          "text": [
            "Requirement already satisfied: arch in /usr/local/lib/python3.6/dist-packages (4.15)\n",
            "Requirement already satisfied: pandas>=0.23 in /usr/local/lib/python3.6/dist-packages (from arch) (1.1.4)\n",
            "Requirement already satisfied: statsmodels>=0.9 in /usr/local/lib/python3.6/dist-packages (from arch) (0.10.2)\n",
            "Requirement already satisfied: cython>=0.29.14 in /usr/local/lib/python3.6/dist-packages (from arch) (0.29.21)\n",
            "Requirement already satisfied: numpy>=1.14 in /usr/local/lib/python3.6/dist-packages (from arch) (1.18.5)\n",
            "Requirement already satisfied: property-cached>=1.6.3 in /usr/local/lib/python3.6/dist-packages (from arch) (1.6.4)\n",
            "Requirement already satisfied: scipy>=1.0.1 in /usr/local/lib/python3.6/dist-packages (from arch) (1.4.1)\n",
            "Requirement already satisfied: python-dateutil>=2.7.3 in /usr/local/lib/python3.6/dist-packages (from pandas>=0.23->arch) (2.8.1)\n",
            "Requirement already satisfied: pytz>=2017.2 in /usr/local/lib/python3.6/dist-packages (from pandas>=0.23->arch) (2018.9)\n",
            "Requirement already satisfied: patsy>=0.4.0 in /usr/local/lib/python3.6/dist-packages (from statsmodels>=0.9->arch) (0.5.1)\n",
            "Requirement already satisfied: six>=1.5 in /usr/local/lib/python3.6/dist-packages (from python-dateutil>=2.7.3->pandas>=0.23->arch) (1.15.0)\n"
          ],
          "name": "stdout"
        },
        {
          "output_type": "display_data",
          "data": {
            "application/javascript": [
              "\n",
              "        if (window._pyforest_update_imports_cell) { window._pyforest_update_imports_cell('from sklearn.model_selection import train_test_split\\nimport pydot\\nimport tensorflow as tf\\nimport tqdm\\nimport plotly.express as px\\nimport matplotlib.pyplot as plt\\nimport pandas as pd\\nimport plotly as py\\nimport numpy as np'); }\n",
              "    "
            ],
            "text/plain": [
              "<IPython.core.display.Javascript object>"
            ]
          },
          "metadata": {
            "tags": []
          }
        },
        {
          "output_type": "display_data",
          "data": {
            "application/javascript": [
              "\n",
              "        if (window._pyforest_update_imports_cell) { window._pyforest_update_imports_cell('from sklearn.model_selection import train_test_split\\nimport pydot\\nimport tensorflow as tf\\nimport tqdm\\nimport plotly.express as px\\nimport matplotlib.pyplot as plt\\nimport pandas as pd\\nimport plotly as py\\nimport numpy as np'); }\n",
              "    "
            ],
            "text/plain": [
              "<IPython.core.display.Javascript object>"
            ]
          },
          "metadata": {
            "tags": []
          }
        },
        {
          "output_type": "display_data",
          "data": {
            "application/javascript": [
              "\n",
              "        if (window._pyforest_update_imports_cell) { window._pyforest_update_imports_cell('from sklearn.model_selection import train_test_split\\nimport pydot\\nimport tensorflow as tf\\nimport tqdm\\nimport plotly.express as px\\nimport matplotlib.pyplot as plt\\nimport pandas as pd\\nimport plotly as py\\nimport numpy as np'); }\n",
              "    "
            ],
            "text/plain": [
              "<IPython.core.display.Javascript object>"
            ]
          },
          "metadata": {
            "tags": []
          }
        },
        {
          "output_type": "display_data",
          "data": {
            "text/html": [
              "\n",
              "     <input type=\"file\" id=\"files-6bda6910-1b5f-4c2c-81de-02bea674ca31\" name=\"files[]\" multiple disabled\n",
              "        style=\"border:none\" />\n",
              "     <output id=\"result-6bda6910-1b5f-4c2c-81de-02bea674ca31\">\n",
              "      Upload widget is only available when the cell has been executed in the\n",
              "      current browser session. Please rerun this cell to enable.\n",
              "      </output>\n",
              "      <script src=\"/nbextensions/google.colab/files.js\"></script> "
            ],
            "text/plain": [
              "<IPython.core.display.HTML object>"
            ]
          },
          "metadata": {
            "tags": []
          }
        },
        {
          "output_type": "stream",
          "text": [
            "Saving series_7_1.csv to series_7_1 (1).csv\n",
            "view data...\n"
          ],
          "name": "stdout"
        },
        {
          "output_type": "display_data",
          "data": {
            "application/javascript": [
              "\n",
              "        if (window._pyforest_update_imports_cell) { window._pyforest_update_imports_cell('from sklearn.model_selection import train_test_split\\nimport pydot\\nimport tensorflow as tf\\nimport tqdm\\nimport plotly.express as px\\nimport matplotlib.pyplot as plt\\nimport pandas as pd\\nimport plotly as py\\nimport numpy as np'); }\n",
              "    "
            ],
            "text/plain": [
              "<IPython.core.display.Javascript object>"
            ]
          },
          "metadata": {
            "tags": []
          }
        },
        {
          "output_type": "stream",
          "text": [
            "Granger Causality:\n"
          ],
          "name": "stdout"
        },
        {
          "output_type": "display_data",
          "data": {
            "application/javascript": [
              "\n",
              "        if (window._pyforest_update_imports_cell) { window._pyforest_update_imports_cell('from sklearn.model_selection import train_test_split\\nimport pydot\\nimport tensorflow as tf\\nimport tqdm\\nimport plotly.express as px\\nimport matplotlib.pyplot as plt\\nimport pandas as pd\\nimport plotly as py\\nimport numpy as np'); }\n",
              "    "
            ],
            "text/plain": [
              "<IPython.core.display.Javascript object>"
            ]
          },
          "metadata": {
            "tags": []
          }
        },
        {
          "output_type": "display_data",
          "data": {
            "application/javascript": [
              "\n",
              "        if (window._pyforest_update_imports_cell) { window._pyforest_update_imports_cell('from sklearn.model_selection import train_test_split\\nimport pydot\\nimport tensorflow as tf\\nimport tqdm\\nimport plotly.express as px\\nimport matplotlib.pyplot as plt\\nimport pandas as pd\\nimport plotly as py\\nimport numpy as np'); }\n",
              "    "
            ],
            "text/plain": [
              "<IPython.core.display.Javascript object>"
            ]
          },
          "metadata": {
            "tags": []
          }
        },
        {
          "output_type": "display_data",
          "data": {
            "application/javascript": [
              "\n",
              "        if (window._pyforest_update_imports_cell) { window._pyforest_update_imports_cell('from sklearn.model_selection import train_test_split\\nimport pydot\\nimport tensorflow as tf\\nimport tqdm\\nimport plotly.express as px\\nimport matplotlib.pyplot as plt\\nimport pandas as pd\\nimport plotly as py\\nimport numpy as np'); }\n",
              "    "
            ],
            "text/plain": [
              "<IPython.core.display.Javascript object>"
            ]
          },
          "metadata": {
            "tags": []
          }
        },
        {
          "output_type": "display_data",
          "data": {
            "application/javascript": [
              "\n",
              "        if (window._pyforest_update_imports_cell) { window._pyforest_update_imports_cell('from sklearn.model_selection import train_test_split\\nimport pydot\\nimport tensorflow as tf\\nimport tqdm\\nimport plotly.express as px\\nimport matplotlib.pyplot as plt\\nimport pandas as pd\\nimport plotly as py\\nimport numpy as np'); }\n",
              "    "
            ],
            "text/plain": [
              "<IPython.core.display.Javascript object>"
            ]
          },
          "metadata": {
            "tags": []
          }
        },
        {
          "output_type": "display_data",
          "data": {
            "application/javascript": [
              "\n",
              "        if (window._pyforest_update_imports_cell) { window._pyforest_update_imports_cell('from sklearn.model_selection import train_test_split\\nimport pydot\\nimport tensorflow as tf\\nimport tqdm\\nimport plotly.express as px\\nimport matplotlib.pyplot as plt\\nimport pandas as pd\\nimport plotly as py\\nimport numpy as np'); }\n",
              "    "
            ],
            "text/plain": [
              "<IPython.core.display.Javascript object>"
            ]
          },
          "metadata": {
            "tags": []
          }
        },
        {
          "output_type": "display_data",
          "data": {
            "application/javascript": [
              "\n",
              "        if (window._pyforest_update_imports_cell) { window._pyforest_update_imports_cell('from sklearn.model_selection import train_test_split\\nimport pydot\\nimport tensorflow as tf\\nimport tqdm\\nimport plotly.express as px\\nimport matplotlib.pyplot as plt\\nimport pandas as pd\\nimport plotly as py\\nimport numpy as np'); }\n",
              "    "
            ],
            "text/plain": [
              "<IPython.core.display.Javascript object>"
            ]
          },
          "metadata": {
            "tags": []
          }
        },
        {
          "output_type": "display_data",
          "data": {
            "application/javascript": [
              "\n",
              "        if (window._pyforest_update_imports_cell) { window._pyforest_update_imports_cell('from sklearn.model_selection import train_test_split\\nimport pydot\\nimport tensorflow as tf\\nimport tqdm\\nimport plotly.express as px\\nimport matplotlib.pyplot as plt\\nimport pandas as pd\\nimport plotly as py\\nimport numpy as np'); }\n",
              "    "
            ],
            "text/plain": [
              "<IPython.core.display.Javascript object>"
            ]
          },
          "metadata": {
            "tags": []
          }
        },
        {
          "output_type": "display_data",
          "data": {
            "application/javascript": [
              "\n",
              "        if (window._pyforest_update_imports_cell) { window._pyforest_update_imports_cell('from sklearn.model_selection import train_test_split\\nimport pydot\\nimport tensorflow as tf\\nimport tqdm\\nimport plotly.express as px\\nimport matplotlib.pyplot as plt\\nimport pandas as pd\\nimport plotly as py\\nimport numpy as np'); }\n",
              "    "
            ],
            "text/plain": [
              "<IPython.core.display.Javascript object>"
            ]
          },
          "metadata": {
            "tags": []
          }
        },
        {
          "output_type": "stream",
          "text": [
            "               es-x axis  eurusd-x axis  gbpusd-x axis  gc-x axis  usdjpy-x axis  zbm0-x axis  eurchf-x axis\n",
            "es-y axis         1.0000            0.0            0.0        0.0            0.0          0.0            0.0\n",
            "eurusd-y axis     0.0000            0.0            0.0        0.0            0.0          0.0            0.0\n",
            "gbpusd-y axis     0.0000            0.0            0.0        0.0            0.0          0.0            0.0\n",
            "gc-y axis         0.0008            0.0            0.0        0.0            0.0          0.0            0.0\n",
            "usdjpy-y axis     0.0001            0.0            0.0        0.0            0.0          0.0            0.0\n",
            "zbm0-y axis       0.0000            0.0            0.0        0.0            0.0          0.0            0.0\n",
            "eurchf-y axis     0.0001            0.0            0.0        0.0            0.0          0.0            0.0\n",
            "\n",
            "Lag: 7\n",
            "\n",
            "Durbin-Watson test:)\n",
            "es : 2.0\n",
            "eurusd : 2.0\n",
            "gbpusd : 2.0\n",
            "gc : 2.0\n",
            "usdjpy : 1.99\n",
            "zbm0 : 2.0\n",
            "eurchf : 2.0\n",
            "[('Jarque-Bera', array([4.74752060e+08, 2.27949822e+08, 9.95752645e+09, 2.37818206e+09,\n",
            "       1.11272827e+08, 3.62785471e+05, 1.43439764e+08])), ('Chi^2 two-tail prob.', array([0., 0., 0., 0., 0., 0., 0.])), ('Skew', array([ -5.8424667 , -10.13995971,  39.8071159 ,   1.96292222,\n",
            "         7.39906363,  -0.06607541,   6.6475093 ])), ('Kurtosis', array([ 874.67735157,  606.72073169, 3994.6340415 , 1954.11568691,\n",
            "        424.78271749,   27.09793137,  481.99271023]))]\n",
            "\n",
            "Correlation matrix:\n",
            "              es    eurusd    gbpusd        gc    usdjpy      zbm0    eurchf\n",
            "es      1.000000  0.111852  0.042207 -0.477015  0.103354 -0.073002  0.114396\n",
            "eurusd  0.111852  1.000000  0.189732 -0.007412 -0.145593 -0.022712  0.086581\n",
            "gbpusd  0.042207  0.189732  1.000000  0.034666 -0.131951 -0.011842  0.249142\n",
            "gc     -0.477015 -0.007412  0.034666  1.000000 -0.040614 -0.091623 -0.020806\n",
            "usdjpy  0.103354 -0.145593 -0.131951 -0.040614  1.000000 -0.110769  0.079401\n",
            "zbm0   -0.073002 -0.022712 -0.011842 -0.091623 -0.110769  1.000000 -0.040653\n",
            "eurchf  0.114396  0.086581  0.249142 -0.020806  0.079401 -0.040653  1.000000\n",
            "\n",
            "Summary statistic:\n",
            "          count          mean           std            min          25%         50%          75%           max\n",
            "es      14993.0 -6.824395e-15      2.537800    -117.427095    -0.889860    0.051186     0.846815  1.069205e+02\n",
            "eurusd  14993.0 -1.987749e-12    343.270902  -16289.894356   -97.524693    0.418332    99.932725  1.011925e+04\n",
            "gbpusd  14993.0  5.683720e-12    640.843166  -23555.744584  -149.751342    1.589423   152.128047  5.584323e+04\n",
            "gc      14993.0 -1.217775e-14      1.227719     -72.883886    -0.322732   -0.022698     0.329499  7.611241e+01\n",
            "usdjpy  14993.0 -2.931930e-10  32215.584424 -756972.449641 -9595.760139 -112.473928  9624.554727  1.330362e+06\n",
            "zbm0    14993.0 -6.824395e-17      0.040883      -0.783061    -0.016453    0.000115     0.016494  8.098375e-01\n",
            "eurchf  14993.0 -1.024933e-12    176.729739   -5474.150324   -48.180548   -0.176422    46.036673  6.227318e+03\n",
            "\u001b[4mEURUSD :: 1st prediction:\u001b[0m\n",
            "predicted -> 1091274.450408, actual -> 1091050.000000\n",
            "\n",
            "\u001b[4mEURUSD :: 2nd prediction:\u001b[0m\n",
            "predicted -> 1091091.750036, actual -> 1090825.000000\n",
            "\n",
            "\u001b[4mEURUSD :: 3rd prediction:\u001b[0m\n",
            "predicted -> 1090975.619986, actual -> 1090825.000000\n",
            "\n",
            "\u001b[4mEURUSD :: 4th prediction:\u001b[0m\n",
            "predicted -> 1090904.927227, actual -> 1090775.000000\n",
            "\n",
            "\u001b[4mEURUSD :: 5th prediction:\u001b[0m\n",
            "predicted -> 1090813.626906, actual -> 1090705.000000\n",
            "\n",
            "\u001b[4mEURUSD :: 6th prediction:\u001b[0m\n",
            "predicted -> 1090802.475576, actual -> 1090645.000000\n",
            "\n",
            "\u001b[4mEURUSD :: 7th prediction:\u001b[0m\n",
            "predicted -> 1090720.183543, actual -> 1090600.000000\n",
            "\n",
            "\u001b[4mEURUSD :: 8th prediction:\u001b[0m\n",
            "predicted -> 1090639.749487, actual -> 1090475.000000\n",
            "\n",
            "\u001b[4mEURUSD :: 9th prediction:\u001b[0m\n",
            "predicted -> 1090518.503120, actual -> 1090300.000000\n",
            "\n",
            "\u001b[4mEURUSD :: 10th prediction:\u001b[0m\n",
            "predicted -> 1090377.332967, actual -> 1090585.000000\n",
            "\n",
            "\u001b[4mEURUSD :: 11th prediction:\u001b[0m\n",
            "predicted -> 1090545.141618, actual -> 1090515.000000\n",
            "\n",
            "\u001b[4mEURUSD :: 12th prediction:\u001b[0m\n",
            "predicted -> 1090464.745764, actual -> 1090505.000000\n",
            "\n",
            "\u001b[4mEURUSD :: 13th prediction:\u001b[0m\n",
            "predicted -> 1090426.908274, actual -> 1090510.000000\n",
            "\n",
            "\u001b[4mEURUSD :: 14th prediction:\u001b[0m\n",
            "predicted -> 1090438.036185, actual -> 1090835.000000\n",
            "\n",
            "\u001b[4mEURUSD :: 15th prediction:\u001b[0m\n",
            "predicted -> 1090698.415585, actual -> 1090850.000000\n",
            "\n",
            "####################################################################\n",
            "\u001b[4mEURCHF :: 1st prediction:\u001b[0m\n",
            "predicted -> 1052508.701807, actual -> 1052555.000000\n",
            "\n",
            "\u001b[4mEURCHF :: 2nd prediction:\u001b[0m\n",
            "predicted -> 1052550.620714, actual -> 1052505.000000\n",
            "\n",
            "\u001b[4mEURCHF :: 3rd prediction:\u001b[0m\n",
            "predicted -> 1052492.822786, actual -> 1052510.000000\n",
            "\n",
            "\u001b[4mEURCHF :: 4th prediction:\u001b[0m\n",
            "predicted -> 1052500.535771, actual -> 1052505.000000\n",
            "\n",
            "\u001b[4mEURCHF :: 5th prediction:\u001b[0m\n",
            "predicted -> 1052481.313653, actual -> 1052455.000000\n",
            "\n",
            "\u001b[4mEURCHF :: 6th prediction:\u001b[0m\n",
            "predicted -> 1052482.032535, actual -> 1052505.000000\n",
            "\n",
            "\u001b[4mEURCHF :: 7th prediction:\u001b[0m\n",
            "predicted -> 1052496.620563, actual -> 1052505.000000\n",
            "\n",
            "\u001b[4mEURCHF :: 8th prediction:\u001b[0m\n",
            "predicted -> 1052530.586904, actual -> 1052505.000000\n",
            "\n",
            "\u001b[4mEURCHF :: 9th prediction:\u001b[0m\n",
            "predicted -> 1052522.480733, actual -> 1052505.000000\n",
            "\n",
            "\u001b[4mEURCHF :: 10th prediction:\u001b[0m\n",
            "predicted -> 1052520.325578, actual -> 1052535.000000\n",
            "\n",
            "\u001b[4mEURCHF :: 11th prediction:\u001b[0m\n",
            "predicted -> 1052516.455994, actual -> 1052505.000000\n",
            "\n",
            "\u001b[4mEURCHF :: 12th prediction:\u001b[0m\n",
            "predicted -> 1052492.324704, actual -> 1052505.000000\n",
            "\n",
            "\u001b[4mEURCHF :: 13th prediction:\u001b[0m\n",
            "predicted -> 1052501.620289, actual -> 1052505.000000\n",
            "\n",
            "\u001b[4mEURCHF :: 14th prediction:\u001b[0m\n",
            "predicted -> 1052504.763960, actual -> 1052505.000000\n",
            "\n",
            "\u001b[4mEURCHF :: 15th prediction:\u001b[0m\n",
            "predicted -> 1052482.641532, actual -> 1052505.000000\n",
            "\n"
          ],
          "name": "stdout"
        }
      ]
    }
  ]
}