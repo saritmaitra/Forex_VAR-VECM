{
  "nbformat": 4,
  "nbformat_minor": 0,
  "metadata": {
    "colab": {
      "name": "exception_handling.ipynb",
      "provenance": [],
      "authorship_tag": "ABX9TyO8ja+Qa/Pldp+HhkIMVIbn",
      "include_colab_link": true
    },
    "kernelspec": {
      "name": "python3",
      "display_name": "Python 3"
    }
  },
  "cells": [
    {
      "cell_type": "markdown",
      "metadata": {
        "id": "view-in-github",
        "colab_type": "text"
      },
      "source": [
        "<a href=\"https://colab.research.google.com/github/saritmaitra/AL-VAR-VECM-/blob/main/exception_handling.ipynb\" target=\"_parent\"><img src=\"https://colab.research.google.com/assets/colab-badge.svg\" alt=\"Open In Colab\"/></a>"
      ]
    },
    {
      "cell_type": "code",
      "metadata": {
        "id": "N2KjVi2dAIy0",
        "outputId": "185cddfc-becc-4366-cd65-be2bac1fde95",
        "colab": {
          "resources": {
            "http://localhost:8080/nbextensions/google.colab/files.js": {
              "data": "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",
              "ok": true,
              "headers": [
                [
                  "content-type",
                  "application/javascript"
                ]
              ],
              "status": 200,
              "status_text": ""
            }
          },
          "base_uri": "https://localhost:8080/",
          "height": 224
        }
      },
      "source": [
        "!pip install pyforest\n",
        "from pyforest import *\n",
        "import datetime, pickle, copy, warnings\n",
        "from pandas import DataFrame, merge, concat\n",
        "pd.set_option('display.max_rows', 500)\n",
        "pd.set_option('display.max_columns', 500)\n",
        "pd.set_option('display.width', 150)\n",
        "\n",
        "from google.colab import files\n",
        "uploaded = files.upload()"
      ],
      "execution_count": 1,
      "outputs": [
        {
          "output_type": "stream",
          "text": [
            "Collecting pyforest\n",
            "  Downloading https://files.pythonhosted.org/packages/8f/85/77a9d2d9ff240822039f3dfd7a3b374d0621a0df5feb5d270a2151f6bb6d/pyforest-1.0.3.tar.gz\n",
            "Building wheels for collected packages: pyforest\n",
            "  Building wheel for pyforest (setup.py) ... \u001b[?25l\u001b[?25hdone\n",
            "  Created wheel for pyforest: filename=pyforest-1.0.3-py2.py3-none-any.whl size=13716 sha256=212a34bb7b8782936330d0502b0bf8de042b6c27a44bb36330b625e37874704a\n",
            "  Stored in directory: /root/.cache/pip/wheels/af/0b/39/340a7f15fc8d4ff5ab50847b28789afea04452a9d51b9721b5\n",
            "Successfully built pyforest\n",
            "Installing collected packages: pyforest\n",
            "Successfully installed pyforest-1.0.3\n"
          ],
          "name": "stdout"
        },
        {
          "output_type": "display_data",
          "data": {
            "application/javascript": [
              "\n",
              "        if (window._pyforest_update_imports_cell) { window._pyforest_update_imports_cell('import pandas as pd'); }\n",
              "    "
            ],
            "text/plain": [
              "<IPython.core.display.Javascript object>"
            ]
          },
          "metadata": {
            "tags": []
          }
        },
        {
          "output_type": "display_data",
          "data": {
            "application/javascript": [
              "\n",
              "        if (window._pyforest_update_imports_cell) { window._pyforest_update_imports_cell('import pandas as pd'); }\n",
              "    "
            ],
            "text/plain": [
              "<IPython.core.display.Javascript object>"
            ]
          },
          "metadata": {
            "tags": []
          }
        },
        {
          "output_type": "display_data",
          "data": {
            "application/javascript": [
              "\n",
              "        if (window._pyforest_update_imports_cell) { window._pyforest_update_imports_cell('import pandas as pd'); }\n",
              "    "
            ],
            "text/plain": [
              "<IPython.core.display.Javascript object>"
            ]
          },
          "metadata": {
            "tags": []
          }
        },
        {
          "output_type": "display_data",
          "data": {
            "text/html": [
              "\n",
              "     <input type=\"file\" id=\"files-1238cc14-d195-403d-aa93-96611b19835a\" name=\"files[]\" multiple disabled\n",
              "        style=\"border:none\" />\n",
              "     <output id=\"result-1238cc14-d195-403d-aa93-96611b19835a\">\n",
              "      Upload widget is only available when the cell has been executed in the\n",
              "      current browser session. Please rerun this cell to enable.\n",
              "      </output>\n",
              "      <script src=\"/nbextensions/google.colab/files.js\"></script> "
            ],
            "text/plain": [
              "<IPython.core.display.HTML object>"
            ]
          },
          "metadata": {
            "tags": []
          }
        },
        {
          "output_type": "stream",
          "text": [
            "Saving AL_final_data.csv to AL_final_data.csv\n"
          ],
          "name": "stdout"
        }
      ]
    },
    {
      "cell_type": "code",
      "metadata": {
        "id": "PVhzPRNIASjG",
        "outputId": "99a31d1f-625c-4d34-9dd8-d97db06c76ca",
        "colab": {
          "base_uri": "https://localhost:8080/",
          "height": 185
        }
      },
      "source": [
        "df = pd.read_csv(\"AL_final_data.csv\")\n",
        "df.drop(columns = ['Unnamed: 0'], axis=1, inplace=True)\n",
        "df = df.set_index('timestamp')\n",
        "df.index = pd.to_datetime(df.index)\n",
        "\n",
        "# spliting train/test\n",
        "nobs = 10 # keeping 10 mins observations aside for validation\n",
        "train, test = df[0:- nobs], df[- nobs:]\n",
        "\n",
        "train_log = np.log(train)\n",
        "train_trans = train_log.diff().dropna()\n",
        "print('Description of diff data:'); print(train_trans.describe());\n",
        "\n",
        "import statsmodels.tsa.api as smt\n",
        "from statsmodels.tsa.api import VAR\n",
        "\n",
        "#train_trans = train_trans.reset_index()"
      ],
      "execution_count": 9,
      "outputs": [
        {
          "output_type": "display_data",
          "data": {
            "application/javascript": [
              "\n",
              "        if (window._pyforest_update_imports_cell) { window._pyforest_update_imports_cell('from sklearn.model_selection import train_test_split\\nimport pandas as pd\\nimport tqdm\\nimport nltk\\nimport numpy as np\\nimport tensorflow as tf'); }\n",
              "    "
            ],
            "text/plain": [
              "<IPython.core.display.Javascript object>"
            ]
          },
          "metadata": {
            "tags": []
          }
        },
        {
          "output_type": "display_data",
          "data": {
            "application/javascript": [
              "\n",
              "        if (window._pyforest_update_imports_cell) { window._pyforest_update_imports_cell('from sklearn.model_selection import train_test_split\\nimport pandas as pd\\nimport tqdm\\nimport nltk\\nimport numpy as np\\nimport tensorflow as tf'); }\n",
              "    "
            ],
            "text/plain": [
              "<IPython.core.display.Javascript object>"
            ]
          },
          "metadata": {
            "tags": []
          }
        },
        {
          "output_type": "display_data",
          "data": {
            "application/javascript": [
              "\n",
              "        if (window._pyforest_update_imports_cell) { window._pyforest_update_imports_cell('from sklearn.model_selection import train_test_split\\nimport pandas as pd\\nimport tqdm\\nimport nltk\\nimport numpy as np\\nimport tensorflow as tf'); }\n",
              "    "
            ],
            "text/plain": [
              "<IPython.core.display.Javascript object>"
            ]
          },
          "metadata": {
            "tags": []
          }
        },
        {
          "output_type": "stream",
          "text": [
            "Description of diff data:\n",
            "                 es        eurusd        gbpusd            gc            nq        usdjpy\n",
            "count  29334.000000  2.933400e+04  2.933400e+04  2.933400e+04  29334.000000  2.933400e+04\n",
            "mean       0.000002  5.045788e-07 -6.211018e-07  7.151169e-07      0.000003  1.505771e-07\n",
            "std        0.000387  2.640747e-04  2.716109e-04  3.004687e-04      0.000408  4.423934e-04\n",
            "min       -0.013492 -1.688387e-02 -1.482272e-02 -5.309362e-03     -0.015196 -4.359512e-02\n",
            "25%       -0.000171 -4.628531e-05 -8.107760e-05 -1.172024e-04     -0.000168 -5.114816e-05\n",
            "50%        0.000000  0.000000e+00  0.000000e+00  0.000000e+00      0.000000  0.000000e+00\n",
            "75%        0.000172  4.634403e-05  8.076134e-05  1.177804e-04      0.000178  5.112694e-05\n",
            "max        0.008889  1.659153e-02  1.446320e-02  6.787581e-03      0.009019  4.335270e-02\n"
          ],
          "name": "stdout"
        }
      ]
    },
    {
      "cell_type": "code",
      "metadata": {
        "id": "zY3KsvSbJxVD"
      },
      "source": [
        "#train_trans = train_trans[['es', 'eurusd', 'gbpusd', 'gc', 'nq', 'usdjpy']]\n",
        "#train_trans"
      ],
      "execution_count": 3,
      "outputs": []
    },
    {
      "cell_type": "code",
      "metadata": {
        "id": "zNcv8KgjEBNx",
        "outputId": "605aec6c-e76e-483d-bb9c-3b1dd8b9c467",
        "colab": {
          "base_uri": "https://localhost:8080/"
        }
      },
      "source": [
        "# pass \"1min\" frequency\n",
        "#train_trans.index = pd.DatetimeIndex(train_trans.index).to_period('1min')\n",
        "\n",
        "# fitting VAR model with associated freq & lags\n",
        "model = VAR(endog = train_trans.values).fit(maxlags = 8)\n",
        "# model.summary()\n",
        "\n",
        "#pd.options.display.float_format = \"{:.2f}\".format\n",
        "# Get the lag order\n",
        "lag_order = model.k_ar\n",
        "print(lag_order) \n",
        "\n",
        "# Input data for forecasting\n",
        "input_data = train_trans.values[-lag_order:]\n",
        "print(input_data)\n",
        "\n",
        "fc = model.forecast(y = input_data, steps = nobs)\n",
        "#predict = DataFrame(fc, columns = train.columns + '_trans')\n",
        "#print(predict)"
      ],
      "execution_count": 4,
      "outputs": [
        {
          "output_type": "stream",
          "text": [
            "8\n",
            "[[-2.47739379e-04  1.35066993e-04  6.47387992e-05  1.73190163e-04\n",
            "  -5.08610526e-04 -1.29818347e-04]\n",
            " [-4.12958642e-05 -2.25098987e-05  4.04596213e-05  5.77233895e-05\n",
            "  -6.52251900e-05 -2.78204100e-05]\n",
            " [ 2.06462270e-04  7.65315884e-05  1.17323646e-04 -1.73180166e-04\n",
            "   5.47759417e-04 -4.63681025e-06]\n",
            " [-4.12890440e-05  7.65257318e-05 -2.42727284e-05  5.77300543e-05\n",
            "   3.91141939e-05 -5.56434000e-05]\n",
            " [-2.06470795e-04 -8.55291441e-05 -2.38713216e-04 -2.88646105e-05\n",
            "  -3.65125320e-04 -1.85484881e-05]\n",
            " [ 0.00000000e+00  9.00304754e-05  1.61857476e-05 -5.77317207e-05\n",
            "  -7.82584878e-05 -1.25211294e-04]\n",
            " [ 1.23887593e-04 -2.29593733e-04 -1.13305735e-04 -8.66038308e-05\n",
            "   1.56510852e-04 -6.95686051e-05]\n",
            " [ 0.00000000e+00  2.29593733e-04 -8.09405290e-05 -8.66113317e-05\n",
            "   2.73835062e-04 -2.55126301e-04]]\n"
          ],
          "name": "stdout"
        }
      ]
    },
    {
      "cell_type": "code",
      "metadata": {
        "id": "X35wnhdIkX24",
        "outputId": "970ce110-c720-47e8-f095-0af042919b69",
        "colab": {
          "base_uri": "https://localhost:8080/"
        }
      },
      "source": [
        "df_pred = DataFrame(fc, columns = train_trans.columns + '_1d')\n",
        "print(df_pred)"
      ],
      "execution_count": 5,
      "outputs": [
        {
          "output_type": "stream",
          "text": [
            "          es_1d     eurusd_1d     gbpusd_1d         gc_1d         nq_1d     usdjpy_1d\n",
            "0 -1.646280e-06 -8.113920e-05  6.653467e-05  1.635449e-05 -1.289316e-05  2.966394e-05\n",
            "1  1.885735e-05 -9.256758e-06 -4.914509e-06  4.620398e-06  1.947670e-05  1.453923e-06\n",
            "2 -2.130770e-05 -7.664500e-06 -1.333770e-05  7.872353e-06 -2.344931e-05 -3.167380e-06\n",
            "3  7.631417e-06 -2.117638e-06  1.501031e-05 -1.015070e-05  1.453891e-05  5.078959e-06\n",
            "4 -9.063476e-06  7.432817e-06  1.176830e-05  6.442872e-06 -1.747693e-06  3.753441e-06\n",
            "5  2.358650e-07 -2.208459e-06 -2.039585e-06  5.041519e-06  5.635129e-07 -3.746885e-07\n",
            "6 -8.249336e-06  4.292135e-07 -4.889857e-06  6.726524e-06 -2.081102e-06 -5.706839e-07\n",
            "7  1.333822e-06 -2.298150e-06 -6.124405e-06 -4.141979e-07 -1.056524e-06  7.148391e-07\n",
            "8  4.274447e-06  5.701885e-06  3.459421e-07  7.223630e-07  5.373410e-06  1.092963e-07\n",
            "9  2.417483e-06 -9.720897e-07  3.215604e-07  6.417956e-07  3.386466e-06 -1.829519e-07\n"
          ],
          "name": "stdout"
        }
      ]
    },
    {
      "cell_type": "code",
      "metadata": {
        "id": "-206n1eBkhc3",
        "outputId": "e47483d2-18ef-4afb-f211-db2cdb8664ec",
        "colab": {
          "base_uri": "https://localhost:8080/"
        }
      },
      "source": [
        "# inverse differenced data\n",
        "def inverse_diff(train_trans, df_pred):\n",
        "    \"\"\"Revert back the differencing to get the forecast to original scale.\"\"\"\n",
        "    df_fc = df_pred.copy()\n",
        "    columns = train_trans.columns\n",
        "    for col in columns:        \n",
        "        # Roll back 1st Diff\n",
        "        df_fc[str(col)+'_fcast'] = train_log[col].iloc[-1] + df_fc[str(col)+'_1d'].cumsum()\n",
        "    return df_fc\n",
        "\n",
        "df_results = inverse_diff(train, df_pred)        \n",
        "z = df_results.loc[:, ['eurusd_fcast', 'gbpusd_fcast', 'es_fcast',\n",
        "                       'gc_fcast','nq_fcast', 'usdjpy_fcast']]\n",
        "print('Predicted 10 values:')\n",
        "print(z)"
      ],
      "execution_count": 11,
      "outputs": [
        {
          "output_type": "stream",
          "text": [
            "Predicted 10 values:\n",
            "   eurusd_fcast  gbpusd_fcast  es_fcast  gc_fcast  nq_fcast  usdjpy_fcast\n",
            "0     13.920496     14.026992  8.015367  7.456933  9.168190     18.495595\n",
            "1     13.920487     14.026987  8.015386  7.456938  9.168209     18.495597\n",
            "2     13.920479     14.026974  8.015365  7.456945  9.168186     18.495594\n",
            "3     13.920477     14.026989  8.015372  7.456935  9.168200     18.495599\n",
            "4     13.920485     14.027001  8.015363  7.456942  9.168198     18.495602\n",
            "5     13.920483     14.026999  8.015363  7.456947  9.168199     18.495602\n",
            "6     13.920483     14.026994  8.015355  7.456954  9.168197     18.495601\n",
            "7     13.920481     14.026988  8.015356  7.456953  9.168196     18.495602\n",
            "8     13.920486     14.026988  8.015361  7.456954  9.168201     18.495602\n",
            "9     13.920485     14.026988  8.015363  7.456954  9.168205     18.495602\n"
          ],
          "name": "stdout"
        }
      ]
    },
    {
      "cell_type": "code",
      "metadata": {
        "id": "ku2nYr8Qkzrl",
        "outputId": "b97285d2-d25c-4963-d142-70ed6d230a01",
        "colab": {
          "base_uri": "https://localhost:8080/",
          "height": 343
        }
      },
      "source": [
        "# inverse log transformation\n",
        "pd.options.display.float_format = \"{:.2f}\".format\n",
        "np.exp(z)"
      ],
      "execution_count": 13,
      "outputs": [
        {
          "output_type": "display_data",
          "data": {
            "application/javascript": [
              "\n",
              "        if (window._pyforest_update_imports_cell) { window._pyforest_update_imports_cell('from sklearn.model_selection import train_test_split\\nimport pandas as pd\\nimport lightgbm as lgb\\nimport tqdm\\nimport tensorflow as tf\\nimport nltk\\nimport numpy as np\\nfrom openpyxl import load_workbook'); }\n",
              "    "
            ],
            "text/plain": [
              "<IPython.core.display.Javascript object>"
            ]
          },
          "metadata": {
            "tags": []
          }
        },
        {
          "output_type": "display_data",
          "data": {
            "application/javascript": [
              "\n",
              "        if (window._pyforest_update_imports_cell) { window._pyforest_update_imports_cell('from sklearn.model_selection import train_test_split\\nimport pandas as pd\\nimport lightgbm as lgb\\nimport tqdm\\nimport tensorflow as tf\\nimport nltk\\nimport numpy as np\\nfrom openpyxl import load_workbook'); }\n",
              "    "
            ],
            "text/plain": [
              "<IPython.core.display.Javascript object>"
            ]
          },
          "metadata": {
            "tags": []
          }
        },
        {
          "output_type": "execute_result",
          "data": {
            "text/html": [
              "<div>\n",
              "<style scoped>\n",
              "    .dataframe tbody tr th:only-of-type {\n",
              "        vertical-align: middle;\n",
              "    }\n",
              "\n",
              "    .dataframe tbody tr th {\n",
              "        vertical-align: top;\n",
              "    }\n",
              "\n",
              "    .dataframe thead th {\n",
              "        text-align: right;\n",
              "    }\n",
              "</style>\n",
              "<table border=\"1\" class=\"dataframe\">\n",
              "  <thead>\n",
              "    <tr style=\"text-align: right;\">\n",
              "      <th></th>\n",
              "      <th>eurusd_fcast</th>\n",
              "      <th>gbpusd_fcast</th>\n",
              "      <th>es_fcast</th>\n",
              "      <th>gc_fcast</th>\n",
              "      <th>nq_fcast</th>\n",
              "      <th>usdjpy_fcast</th>\n",
              "    </tr>\n",
              "  </thead>\n",
              "  <tbody>\n",
              "    <tr>\n",
              "      <th>0</th>\n",
              "      <td>1110694.88</td>\n",
              "      <td>1235507.20</td>\n",
              "      <td>3027.12</td>\n",
              "      <td>1731.83</td>\n",
              "      <td>9587.25</td>\n",
              "      <td>107779197.11</td>\n",
              "    </tr>\n",
              "    <tr>\n",
              "      <th>1</th>\n",
              "      <td>1110684.59</td>\n",
              "      <td>1235501.13</td>\n",
              "      <td>3027.18</td>\n",
              "      <td>1731.84</td>\n",
              "      <td>9587.44</td>\n",
              "      <td>107779353.81</td>\n",
              "    </tr>\n",
              "    <tr>\n",
              "      <th>2</th>\n",
              "      <td>1110676.08</td>\n",
              "      <td>1235484.65</td>\n",
              "      <td>3027.11</td>\n",
              "      <td>1731.85</td>\n",
              "      <td>9587.21</td>\n",
              "      <td>107779012.43</td>\n",
              "    </tr>\n",
              "    <tr>\n",
              "      <th>3</th>\n",
              "      <td>1110673.73</td>\n",
              "      <td>1235503.20</td>\n",
              "      <td>3027.14</td>\n",
              "      <td>1731.83</td>\n",
              "      <td>9587.35</td>\n",
              "      <td>107779559.84</td>\n",
              "    </tr>\n",
              "    <tr>\n",
              "      <th>4</th>\n",
              "      <td>1110681.98</td>\n",
              "      <td>1235517.74</td>\n",
              "      <td>3027.11</td>\n",
              "      <td>1731.84</td>\n",
              "      <td>9587.34</td>\n",
              "      <td>107779964.38</td>\n",
              "    </tr>\n",
              "    <tr>\n",
              "      <th>5</th>\n",
              "      <td>1110679.53</td>\n",
              "      <td>1235515.22</td>\n",
              "      <td>3027.11</td>\n",
              "      <td>1731.85</td>\n",
              "      <td>9587.34</td>\n",
              "      <td>107779924.00</td>\n",
              "    </tr>\n",
              "    <tr>\n",
              "      <th>6</th>\n",
              "      <td>1110680.01</td>\n",
              "      <td>1235509.17</td>\n",
              "      <td>3027.08</td>\n",
              "      <td>1731.86</td>\n",
              "      <td>9587.32</td>\n",
              "      <td>107779862.49</td>\n",
              "    </tr>\n",
              "    <tr>\n",
              "      <th>7</th>\n",
              "      <td>1110677.46</td>\n",
              "      <td>1235501.61</td>\n",
              "      <td>3027.09</td>\n",
              "      <td>1731.86</td>\n",
              "      <td>9587.31</td>\n",
              "      <td>107779939.54</td>\n",
              "    </tr>\n",
              "    <tr>\n",
              "      <th>8</th>\n",
              "      <td>1110683.79</td>\n",
              "      <td>1235502.04</td>\n",
              "      <td>3027.10</td>\n",
              "      <td>1731.86</td>\n",
              "      <td>9587.36</td>\n",
              "      <td>107779951.32</td>\n",
              "    </tr>\n",
              "    <tr>\n",
              "      <th>9</th>\n",
              "      <td>1110682.71</td>\n",
              "      <td>1235502.43</td>\n",
              "      <td>3027.11</td>\n",
              "      <td>1731.87</td>\n",
              "      <td>9587.40</td>\n",
              "      <td>107779931.60</td>\n",
              "    </tr>\n",
              "  </tbody>\n",
              "</table>\n",
              "</div>"
            ],
            "text/plain": [
              "   eurusd_fcast  gbpusd_fcast  es_fcast  gc_fcast  nq_fcast  usdjpy_fcast\n",
              "0    1110694.88    1235507.20   3027.12   1731.83   9587.25  107779197.11\n",
              "1    1110684.59    1235501.13   3027.18   1731.84   9587.44  107779353.81\n",
              "2    1110676.08    1235484.65   3027.11   1731.85   9587.21  107779012.43\n",
              "3    1110673.73    1235503.20   3027.14   1731.83   9587.35  107779559.84\n",
              "4    1110681.98    1235517.74   3027.11   1731.84   9587.34  107779964.38\n",
              "5    1110679.53    1235515.22   3027.11   1731.85   9587.34  107779924.00\n",
              "6    1110680.01    1235509.17   3027.08   1731.86   9587.32  107779862.49\n",
              "7    1110677.46    1235501.61   3027.09   1731.86   9587.31  107779939.54\n",
              "8    1110683.79    1235502.04   3027.10   1731.86   9587.36  107779951.32\n",
              "9    1110682.71    1235502.43   3027.11   1731.87   9587.40  107779931.60"
            ]
          },
          "metadata": {
            "tags": []
          },
          "execution_count": 13
        }
      ]
    }
  ]
}
