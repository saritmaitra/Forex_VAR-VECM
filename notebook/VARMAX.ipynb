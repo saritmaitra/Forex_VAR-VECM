{
  "nbformat": 4,
  "nbformat_minor": 0,
  "metadata": {
    "colab": {
      "name": "VARMAX.ipynb",
      "provenance": [],
      "authorship_tag": "ABX9TyNw/jIWNENARIv8dcqfxuXj",
      "include_colab_link": true
    },
    "kernelspec": {
      "name": "python3",
      "display_name": "Python 3"
    },
    "accelerator": "GPU"
  },
  "cells": [
    {
      "cell_type": "markdown",
      "metadata": {
        "id": "view-in-github",
        "colab_type": "text"
      },
      "source": [
        "<a href=\"https://colab.research.google.com/github/saritmaitra/AL-VAR-VECM-/blob/main/VARMAX.ipynb\" target=\"_parent\"><img src=\"https://colab.research.google.com/assets/colab-badge.svg\" alt=\"Open In Colab\"/></a>"
      ]
    },
    {
      "cell_type": "code",
      "metadata": {
        "id": "nkrWOoSoqvJm",
        "outputId": "0265cb37-b98c-459a-e235-b69c4008b831",
        "colab": {
          "base_uri": "https://localhost:8080/"
        }
      },
      "source": [
        "import pandas as pd\n",
        "import numpy as np \n",
        "import matplotlib.pyplot as plt \n",
        "import datetime as dt\n",
        "import seaborn as sns\n",
        "%matplotlib inline\n",
        "from statsmodels.tsa.statespace.varmax import VARMAX\n",
        "from statsmodels.tsa.stattools import adfuller\n",
        "from sklearn import metrics\n",
        "from timeit import default_timer as timer\n",
        "import warnings\n",
        "warnings.filterwarnings(\"ignore\")"
      ],
      "execution_count": 1,
      "outputs": [
        {
          "output_type": "stream",
          "text": [
            "/usr/local/lib/python3.6/dist-packages/statsmodels/tools/_testing.py:19: FutureWarning: pandas.util.testing is deprecated. Use the functions in the public API at pandas.testing instead.\n",
            "  import pandas.util.testing as tm\n"
          ],
          "name": "stderr"
        }
      ]
    },
    {
      "cell_type": "code",
      "metadata": {
        "id": "FH4EJ_QUq6df",
        "outputId": "0941bba3-7ec7-4bd3-ca2e-f579753b69cb",
        "colab": {
          "resources": {
            "http://localhost:8080/nbextensions/google.colab/files.js": {
              "data": "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",
              "ok": true,
              "headers": [
                [
                  "content-type",
                  "application/javascript"
                ]
              ],
              "status": 200,
              "status_text": ""
            }
          },
          "base_uri": "https://localhost:8080/",
          "height": 73
        }
      },
      "source": [
        "from google.colab import files\n",
        "uploaded = files.upload()"
      ],
      "execution_count": 2,
      "outputs": [
        {
          "output_type": "display_data",
          "data": {
            "text/html": [
              "\n",
              "     <input type=\"file\" id=\"files-061c7249-a0e5-47e1-8a1f-ff9832c95060\" name=\"files[]\" multiple disabled\n",
              "        style=\"border:none\" />\n",
              "     <output id=\"result-061c7249-a0e5-47e1-8a1f-ff9832c95060\">\n",
              "      Upload widget is only available when the cell has been executed in the\n",
              "      current browser session. Please rerun this cell to enable.\n",
              "      </output>\n",
              "      <script src=\"/nbextensions/google.colab/files.js\"></script> "
            ],
            "text/plain": [
              "<IPython.core.display.HTML object>"
            ]
          },
          "metadata": {
            "tags": []
          }
        },
        {
          "output_type": "stream",
          "text": [
            "Saving AL_final_data.csv to AL_final_data.csv\n"
          ],
          "name": "stdout"
        }
      ]
    },
    {
      "cell_type": "code",
      "metadata": {
        "id": "DWipFczGrIOy",
        "outputId": "678b2676-2df8-47a2-924c-f1f7284975ac",
        "colab": {
          "base_uri": "https://localhost:8080/",
          "height": 195
        }
      },
      "source": [
        "# Import Gold data in panda and passed to a variable name \"df1\"\n",
        "data = pd.read_csv(\"AL_final_data.csv\")\n",
        "data.head()"
      ],
      "execution_count": 3,
      "outputs": [
        {
          "output_type": "execute_result",
          "data": {
            "text/html": [
              "<div>\n",
              "<style scoped>\n",
              "    .dataframe tbody tr th:only-of-type {\n",
              "        vertical-align: middle;\n",
              "    }\n",
              "\n",
              "    .dataframe tbody tr th {\n",
              "        vertical-align: top;\n",
              "    }\n",
              "\n",
              "    .dataframe thead th {\n",
              "        text-align: right;\n",
              "    }\n",
              "</style>\n",
              "<table border=\"1\" class=\"dataframe\">\n",
              "  <thead>\n",
              "    <tr style=\"text-align: right;\">\n",
              "      <th></th>\n",
              "      <th>Unnamed: 0</th>\n",
              "      <th>timestamp</th>\n",
              "      <th>es</th>\n",
              "      <th>eur_usd</th>\n",
              "      <th>gbp_usd</th>\n",
              "      <th>gc</th>\n",
              "      <th>nq</th>\n",
              "      <th>usd_jpy</th>\n",
              "    </tr>\n",
              "  </thead>\n",
              "  <tbody>\n",
              "    <tr>\n",
              "      <th>0</th>\n",
              "      <td>0</td>\n",
              "      <td>2020-05-01 00:00:00</td>\n",
              "      <td>2877.125</td>\n",
              "      <td>1094465.0</td>\n",
              "      <td>1258140.0</td>\n",
              "      <td>1695.85</td>\n",
              "      <td>8846.125</td>\n",
              "      <td>107301000.0</td>\n",
              "    </tr>\n",
              "    <tr>\n",
              "      <th>1</th>\n",
              "      <td>1</td>\n",
              "      <td>2020-05-01 00:01:00</td>\n",
              "      <td>2875.375</td>\n",
              "      <td>1094215.0</td>\n",
              "      <td>1257935.0</td>\n",
              "      <td>1695.60</td>\n",
              "      <td>8841.250</td>\n",
              "      <td>107368000.0</td>\n",
              "    </tr>\n",
              "    <tr>\n",
              "      <th>2</th>\n",
              "      <td>2</td>\n",
              "      <td>2020-05-01 00:02:00</td>\n",
              "      <td>2874.625</td>\n",
              "      <td>1094165.0</td>\n",
              "      <td>1257765.0</td>\n",
              "      <td>1695.65</td>\n",
              "      <td>8837.750</td>\n",
              "      <td>107376500.0</td>\n",
              "    </tr>\n",
              "    <tr>\n",
              "      <th>3</th>\n",
              "      <td>3</td>\n",
              "      <td>2020-05-01 00:03:00</td>\n",
              "      <td>2874.125</td>\n",
              "      <td>1094115.0</td>\n",
              "      <td>1257565.0</td>\n",
              "      <td>1695.40</td>\n",
              "      <td>8836.750</td>\n",
              "      <td>107381500.0</td>\n",
              "    </tr>\n",
              "    <tr>\n",
              "      <th>4</th>\n",
              "      <td>4</td>\n",
              "      <td>2020-05-01 00:04:00</td>\n",
              "      <td>2875.250</td>\n",
              "      <td>1094190.0</td>\n",
              "      <td>1257535.0</td>\n",
              "      <td>1694.85</td>\n",
              "      <td>8841.125</td>\n",
              "      <td>107376500.0</td>\n",
              "    </tr>\n",
              "  </tbody>\n",
              "</table>\n",
              "</div>"
            ],
            "text/plain": [
              "   Unnamed: 0            timestamp        es  ...       gc        nq      usd_jpy\n",
              "0           0  2020-05-01 00:00:00  2877.125  ...  1695.85  8846.125  107301000.0\n",
              "1           1  2020-05-01 00:01:00  2875.375  ...  1695.60  8841.250  107368000.0\n",
              "2           2  2020-05-01 00:02:00  2874.625  ...  1695.65  8837.750  107376500.0\n",
              "3           3  2020-05-01 00:03:00  2874.125  ...  1695.40  8836.750  107381500.0\n",
              "4           4  2020-05-01 00:04:00  2875.250  ...  1694.85  8841.125  107376500.0\n",
              "\n",
              "[5 rows x 8 columns]"
            ]
          },
          "metadata": {
            "tags": []
          },
          "execution_count": 3
        }
      ]
    },
    {
      "cell_type": "code",
      "metadata": {
        "id": "UwHpk7MCrmcR",
        "outputId": "9d855ef7-64d4-4c2f-9022-d09213bfbce2",
        "colab": {
          "base_uri": "https://localhost:8080/",
          "height": 195
        }
      },
      "source": [
        "data.drop(['Unnamed: 0'], axis=1, inplace=True)\n",
        "data.tail()"
      ],
      "execution_count": 4,
      "outputs": [
        {
          "output_type": "execute_result",
          "data": {
            "text/html": [
              "<div>\n",
              "<style scoped>\n",
              "    .dataframe tbody tr th:only-of-type {\n",
              "        vertical-align: middle;\n",
              "    }\n",
              "\n",
              "    .dataframe tbody tr th {\n",
              "        vertical-align: top;\n",
              "    }\n",
              "\n",
              "    .dataframe thead th {\n",
              "        text-align: right;\n",
              "    }\n",
              "</style>\n",
              "<table border=\"1\" class=\"dataframe\">\n",
              "  <thead>\n",
              "    <tr style=\"text-align: right;\">\n",
              "      <th></th>\n",
              "      <th>timestamp</th>\n",
              "      <th>es</th>\n",
              "      <th>eur_usd</th>\n",
              "      <th>gbp_usd</th>\n",
              "      <th>gc</th>\n",
              "      <th>nq</th>\n",
              "      <th>usd_jpy</th>\n",
              "    </tr>\n",
              "  </thead>\n",
              "  <tbody>\n",
              "    <tr>\n",
              "      <th>29340</th>\n",
              "      <td>2020-05-29 20:56:00</td>\n",
              "      <td>3027.25</td>\n",
              "      <td>1111740.0</td>\n",
              "      <td>1235400.0</td>\n",
              "      <td>1731.50</td>\n",
              "      <td>9588.625</td>\n",
              "      <td>107675000.0</td>\n",
              "    </tr>\n",
              "    <tr>\n",
              "      <th>29341</th>\n",
              "      <td>2020-05-29 20:57:00</td>\n",
              "      <td>3027.25</td>\n",
              "      <td>1111750.0</td>\n",
              "      <td>1235450.0</td>\n",
              "      <td>1731.20</td>\n",
              "      <td>9588.500</td>\n",
              "      <td>107830000.0</td>\n",
              "    </tr>\n",
              "    <tr>\n",
              "      <th>29342</th>\n",
              "      <td>2020-05-29 20:58:00</td>\n",
              "      <td>3027.25</td>\n",
              "      <td>1111650.0</td>\n",
              "      <td>1235450.0</td>\n",
              "      <td>1731.45</td>\n",
              "      <td>9588.625</td>\n",
              "      <td>107830000.0</td>\n",
              "    </tr>\n",
              "    <tr>\n",
              "      <th>29343</th>\n",
              "      <td>2020-05-29 20:59:00</td>\n",
              "      <td>3027.25</td>\n",
              "      <td>1113400.0</td>\n",
              "      <td>1235450.0</td>\n",
              "      <td>1731.30</td>\n",
              "      <td>9587.375</td>\n",
              "      <td>107835000.0</td>\n",
              "    </tr>\n",
              "    <tr>\n",
              "      <th>29344</th>\n",
              "      <td>2020-05-29 21:00:00</td>\n",
              "      <td>3027.25</td>\n",
              "      <td>1113400.0</td>\n",
              "      <td>1237150.0</td>\n",
              "      <td>1731.35</td>\n",
              "      <td>9591.125</td>\n",
              "      <td>107835000.0</td>\n",
              "    </tr>\n",
              "  </tbody>\n",
              "</table>\n",
              "</div>"
            ],
            "text/plain": [
              "                 timestamp       es    eur_usd  ...       gc        nq      usd_jpy\n",
              "29340  2020-05-29 20:56:00  3027.25  1111740.0  ...  1731.50  9588.625  107675000.0\n",
              "29341  2020-05-29 20:57:00  3027.25  1111750.0  ...  1731.20  9588.500  107830000.0\n",
              "29342  2020-05-29 20:58:00  3027.25  1111650.0  ...  1731.45  9588.625  107830000.0\n",
              "29343  2020-05-29 20:59:00  3027.25  1113400.0  ...  1731.30  9587.375  107835000.0\n",
              "29344  2020-05-29 21:00:00  3027.25  1113400.0  ...  1731.35  9591.125  107835000.0\n",
              "\n",
              "[5 rows x 7 columns]"
            ]
          },
          "metadata": {
            "tags": []
          },
          "execution_count": 4
        }
      ]
    },
    {
      "cell_type": "code",
      "metadata": {
        "id": "6thyyyl1sQ4E"
      },
      "source": [
        "# time-series evaluation function, as shown here:\n",
        "def timeseries_evaluation_metrics_func(y_true, y_pred):\n",
        "    def mean_absolute_percentage_error(y_true, y_pred):\n",
        "        y_true, y_pred = np.array(y_true), np.array(y_pred)\n",
        "        return np.mean(np.abs((y_true - y_pred) / y_true)) * 100\n",
        "    print('Evaluation metric results:-')\n",
        "    print(f'MSE is : {metrics.mean_squared_error(y_true,y_pred)}')\n",
        "    print(f'MAE is : {metrics.mean_absolute_error(y_true,y_pred)}')"
      ],
      "execution_count": 5,
      "outputs": []
    },
    {
      "cell_type": "code",
      "metadata": {
        "id": "lD_wPGGzsVEx",
        "outputId": "4f7863af-59a4-4b97-b10a-7d7df5d0ac74",
        "colab": {
          "base_uri": "https://localhost:8080/"
        }
      },
      "source": [
        "# ADF test function to check for stationary data\n",
        "\n",
        "def Augmented_Dickey_Fuller_Test_func(series , column_name):\n",
        "    print (f'Results of Dickey-Fuller Test for column:{column_name}')\n",
        "    dftest = adfuller(series, autolag='AIC')\n",
        "    dfoutput = pd.Series(dftest[0:4], index=['Test Statistic',\n",
        "                                             'p-value','No Lags Used','Number of Observations Used'])\n",
        "    for key,value in dftest[4].items():\n",
        "           dfoutput['Critical Value (%s)'%key] = value\n",
        "    print (dfoutput)\n",
        "    if dftest[1] <= 0.05:\n",
        "           print(\"Conclusion:====>\")\n",
        "           print(\"Reject the null hypothesis\")\n",
        "           print(\"Data is stationary\")\n",
        "    else:\n",
        "           print(\"Conclusion:====>\")\n",
        "           print(\"Fail to reject the null hypothesis\")\n",
        "           print(\"Data is non-stationary\")\n",
        "           \n",
        "for name, column in data[['eur_usd', 'gbp_usd', 'usd_jpy','gc', 'nq', 'es']].iteritems():\n",
        "           Augmented_Dickey_Fuller_Test_func(data[name],name)\n",
        "           print('\\n')"
      ],
      "execution_count": 7,
      "outputs": [
        {
          "output_type": "stream",
          "text": [
            "Results of Dickey-Fuller Test for column:eur_usd\n",
            "Test Statistic                    -0.131445\n",
            "p-value                            0.946215\n",
            "No Lags Used                       8.000000\n",
            "Number of Observations Used    29336.000000\n",
            "Critical Value (1%)               -3.430573\n",
            "Critical Value (5%)               -2.861639\n",
            "Critical Value (10%)              -2.566822\n",
            "dtype: float64\n",
            "Conclusion:====>\n",
            "Fail to reject the null hypothesis\n",
            "Data is non-stationary\n",
            "\n",
            "\n",
            "Results of Dickey-Fuller Test for column:gbp_usd\n",
            "Test Statistic                    -2.671934\n",
            "p-value                            0.079022\n",
            "No Lags Used                       8.000000\n",
            "Number of Observations Used    29336.000000\n",
            "Critical Value (1%)               -3.430573\n",
            "Critical Value (5%)               -2.861639\n",
            "Critical Value (10%)              -2.566822\n",
            "dtype: float64\n",
            "Conclusion:====>\n",
            "Fail to reject the null hypothesis\n",
            "Data is non-stationary\n",
            "\n",
            "\n",
            "Results of Dickey-Fuller Test for column:usd_jpy\n",
            "Test Statistic                    -1.989365\n",
            "p-value                            0.291255\n",
            "No Lags Used                      50.000000\n",
            "Number of Observations Used    29294.000000\n",
            "Critical Value (1%)               -3.430573\n",
            "Critical Value (5%)               -2.861639\n",
            "Critical Value (10%)              -2.566823\n",
            "dtype: float64\n",
            "Conclusion:====>\n",
            "Fail to reject the null hypothesis\n",
            "Data is non-stationary\n",
            "\n",
            "\n",
            "Results of Dickey-Fuller Test for column:gc\n",
            "Test Statistic                    -2.255968\n",
            "p-value                            0.186562\n",
            "No Lags Used                      47.000000\n",
            "Number of Observations Used    29297.000000\n",
            "Critical Value (1%)               -3.430573\n",
            "Critical Value (5%)               -2.861639\n",
            "Critical Value (10%)              -2.566823\n",
            "dtype: float64\n",
            "Conclusion:====>\n",
            "Fail to reject the null hypothesis\n",
            "Data is non-stationary\n",
            "\n",
            "\n",
            "Results of Dickey-Fuller Test for column:nq\n",
            "Test Statistic                    -1.395125\n",
            "p-value                            0.584611\n",
            "No Lags Used                      37.000000\n",
            "Number of Observations Used    29307.000000\n",
            "Critical Value (1%)               -3.430573\n",
            "Critical Value (5%)               -2.861639\n",
            "Critical Value (10%)              -2.566822\n",
            "dtype: float64\n",
            "Conclusion:====>\n",
            "Fail to reject the null hypothesis\n",
            "Data is non-stationary\n",
            "\n",
            "\n",
            "Results of Dickey-Fuller Test for column:es\n",
            "Test Statistic                    -0.975139\n",
            "p-value                            0.762224\n",
            "No Lags Used                      30.000000\n",
            "Number of Observations Used    29314.000000\n",
            "Critical Value (1%)               -3.430573\n",
            "Critical Value (5%)               -2.861639\n",
            "Critical Value (10%)              -2.566822\n",
            "dtype: float64\n",
            "Conclusion:====>\n",
            "Fail to reject the null hypothesis\n",
            "Data is non-stationary\n",
            "\n",
            "\n"
          ],
          "name": "stdout"
        }
      ]
    },
    {
      "cell_type": "code",
      "metadata": {
        "id": "3KH7TQtytbvq"
      },
      "source": [
        "data = data[['es','eur_usd','gbp_usd','gc','nq','usd_jpy']]"
      ],
      "execution_count": 8,
      "outputs": []
    },
    {
      "cell_type": "code",
      "metadata": {
        "id": "YDGXc9IvspZb",
        "outputId": "2f3950b6-2d17-4f51-cdf3-9a3b613acd73",
        "colab": {
          "base_uri": "https://localhost:8080/"
        }
      },
      "source": [
        "nobs = 15\n",
        "X = data[:15000]\n",
        "train, test = X[0:-nobs], X[-nobs:]\n",
        "\n",
        "# Check size\n",
        "print(train.shape)  \n",
        "print(test.shape)"
      ],
      "execution_count": 16,
      "outputs": [
        {
          "output_type": "stream",
          "text": [
            "(14985, 6)\n",
            "(15, 6)\n"
          ],
          "name": "stdout"
        }
      ]
    },
    {
      "cell_type": "code",
      "metadata": {
        "id": "zb6bXvQgswB2",
        "outputId": "fb1b996d-cbab-4c6c-a92c-26a3cf0798ed",
        "colab": {
          "base_uri": "https://localhost:8080/"
        }
      },
      "source": [
        "# Make the data stationary by using Pandas differencing.\n",
        "train_diff = train.diff().dropna()\n",
        "\n",
        "# Check whether the variables are stationary after first differencing.\n",
        "for name, column in train_diff[['eur_usd', 'gbp_usd', 'usd_jpy','gc', 'nq', 'es']].iteritems():\n",
        "    Augmented_Dickey_Fuller_Test_func(train_diff[name],name)\n",
        "    print('\\n')"
      ],
      "execution_count": 17,
      "outputs": [
        {
          "output_type": "stream",
          "text": [
            "Results of Dickey-Fuller Test for column:eur_usd\n",
            "Test Statistic                   -50.535424\n",
            "p-value                            0.000000\n",
            "No Lags Used                       7.000000\n",
            "Number of Observations Used    14976.000000\n",
            "Critical Value (1%)               -3.430787\n",
            "Critical Value (5%)               -2.861733\n",
            "Critical Value (10%)              -2.566873\n",
            "dtype: float64\n",
            "Conclusion:====>\n",
            "Reject the null hypothesis\n",
            "Data is stationary\n",
            "\n",
            "\n",
            "Results of Dickey-Fuller Test for column:gbp_usd\n",
            "Test Statistic                   -49.852516\n",
            "p-value                            0.000000\n",
            "No Lags Used                       7.000000\n",
            "Number of Observations Used    14976.000000\n",
            "Critical Value (1%)               -3.430787\n",
            "Critical Value (5%)               -2.861733\n",
            "Critical Value (10%)              -2.566873\n",
            "dtype: float64\n",
            "Conclusion:====>\n",
            "Reject the null hypothesis\n",
            "Data is stationary\n",
            "\n",
            "\n",
            "Results of Dickey-Fuller Test for column:usd_jpy\n",
            "Test Statistic                   -28.626331\n",
            "p-value                            0.000000\n",
            "No Lags Used                      42.000000\n",
            "Number of Observations Used    14941.000000\n",
            "Critical Value (1%)               -3.430788\n",
            "Critical Value (5%)               -2.861733\n",
            "Critical Value (10%)              -2.566873\n",
            "dtype: float64\n",
            "Conclusion:====>\n",
            "Reject the null hypothesis\n",
            "Data is stationary\n",
            "\n",
            "\n",
            "Results of Dickey-Fuller Test for column:gc\n",
            "Test Statistic                   -52.840346\n",
            "p-value                            0.000000\n",
            "No Lags Used                       5.000000\n",
            "Number of Observations Used    14978.000000\n",
            "Critical Value (1%)               -3.430787\n",
            "Critical Value (5%)               -2.861733\n",
            "Critical Value (10%)              -2.566873\n",
            "dtype: float64\n",
            "Conclusion:====>\n",
            "Reject the null hypothesis\n",
            "Data is stationary\n",
            "\n",
            "\n",
            "Results of Dickey-Fuller Test for column:nq\n",
            "Test Statistic                -1.808994e+01\n",
            "p-value                        2.571916e-30\n",
            "No Lags Used                   3.600000e+01\n",
            "Number of Observations Used    1.494700e+04\n",
            "Critical Value (1%)           -3.430788e+00\n",
            "Critical Value (5%)           -2.861733e+00\n",
            "Critical Value (10%)          -2.566873e+00\n",
            "dtype: float64\n",
            "Conclusion:====>\n",
            "Reject the null hypothesis\n",
            "Data is stationary\n",
            "\n",
            "\n",
            "Results of Dickey-Fuller Test for column:es\n",
            "Test Statistic                   -21.506865\n",
            "p-value                            0.000000\n",
            "No Lags Used                      28.000000\n",
            "Number of Observations Used    14955.000000\n",
            "Critical Value (1%)               -3.430787\n",
            "Critical Value (5%)               -2.861733\n",
            "Critical Value (10%)              -2.566873\n",
            "dtype: float64\n",
            "Conclusion:====>\n",
            "Reject the null hypothesis\n",
            "Data is stationary\n",
            "\n",
            "\n"
          ],
          "name": "stdout"
        }
      ]
    },
    {
      "cell_type": "code",
      "metadata": {
        "id": "pWFOAGeTt256",
        "outputId": "821879a2-f69a-4289-bb07-76e7e5c45a60",
        "colab": {
          "base_uri": "https://localhost:8080/"
        }
      },
      "source": [
        "# cointegraion test\n",
        "\n",
        "from statsmodels.tsa.vector_ar.vecm import coint_johansen\n",
        "def cointegration_test(df):\n",
        "    res = coint_johansen(df,-1,5)\n",
        "    d = {'0.90':0, '0.95':1, '0.99':2}\n",
        "    traces = res.lr1\n",
        "    cvts = res.cvt[:, d[str(1-0.05)]]\n",
        "    def adjust(val, length= 6):\n",
        "        return str(val).ljust(length)\n",
        "    print('Column Name > Test Stat > C(95%) => Signif \\n','--'*20)\n",
        "    for col, trace, cvt in zip(df.columns, traces, cvts):\n",
        "        print(adjust(col), '> ', adjust(round(trace,2), 9), \">\",adjust(cvt, 8), ' => ' , trace > cvt)\n",
        "\n",
        "cointegration_test(train_diff[['eur_usd', 'gbp_usd', 'usd_jpy','gc', 'nq', 'es']])"
      ],
      "execution_count": 11,
      "outputs": [
        {
          "output_type": "stream",
          "text": [
            "Column Name > Test Stat > C(95%) => Signif \n",
            " ----------------------------------------\n",
            "eur_usd >  16357.01  > 83.9383   =>  True\n",
            "gbp_usd >  12808.71  > 60.0627   =>  True\n",
            "usd_jpy >  9682.09   > 40.1749   =>  True\n",
            "gc     >  7059.77   > 24.2761   =>  True\n",
            "nq     >  4622.5    > 12.3212   =>  True\n",
            "es     >  2241.16   > 4.1296    =>  True\n"
          ],
          "name": "stdout"
        }
      ]
    },
    {
      "cell_type": "code",
      "metadata": {
        "id": "IgV1W2Tat6-K"
      },
      "source": [
        "# inverse differencing function.\n",
        "def inverse_diff(actual_df, pred_df):\n",
        "    df_res = pred_df.copy()\n",
        "    columns = actual_df.columns\n",
        "    for col in columns:\n",
        "        df_res[str(col)+'_1st_inv_diff'] = actual_df[col].iloc[-1] + df_res[str(col)].cumsum()\n",
        "    return df_res"
      ],
      "execution_count": 12,
      "outputs": []
    },
    {
      "cell_type": "code",
      "metadata": {
        "id": "5Yy83cgtt-sN",
        "outputId": "349ed340-3d67-4abd-b2ef-e734c69d82e9",
        "colab": {
          "base_uri": "https://localhost:8080/"
        }
      },
      "source": [
        "from statsmodels.tsa.statespace.varmax import VARMAX\n",
        "from sklearn.model_selection import ParameterGrid\n",
        "\n",
        "\"\"\"\n",
        "Let’s define a parameter grid for selecting p, q, and trend.\n",
        "\"\"\"\n",
        "param_grid = {'p': [1,2,3], 'q':[1,2,3], 'tr': ['n','c','t','ct']}\n",
        "pg = list(ParameterGrid(param_grid))\n",
        "pg"
      ],
      "execution_count": 13,
      "outputs": [
        {
          "output_type": "execute_result",
          "data": {
            "text/plain": [
              "[{'p': 1, 'q': 1, 'tr': 'n'},\n",
              " {'p': 1, 'q': 1, 'tr': 'c'},\n",
              " {'p': 1, 'q': 1, 'tr': 't'},\n",
              " {'p': 1, 'q': 1, 'tr': 'ct'},\n",
              " {'p': 1, 'q': 2, 'tr': 'n'},\n",
              " {'p': 1, 'q': 2, 'tr': 'c'},\n",
              " {'p': 1, 'q': 2, 'tr': 't'},\n",
              " {'p': 1, 'q': 2, 'tr': 'ct'},\n",
              " {'p': 1, 'q': 3, 'tr': 'n'},\n",
              " {'p': 1, 'q': 3, 'tr': 'c'},\n",
              " {'p': 1, 'q': 3, 'tr': 't'},\n",
              " {'p': 1, 'q': 3, 'tr': 'ct'},\n",
              " {'p': 2, 'q': 1, 'tr': 'n'},\n",
              " {'p': 2, 'q': 1, 'tr': 'c'},\n",
              " {'p': 2, 'q': 1, 'tr': 't'},\n",
              " {'p': 2, 'q': 1, 'tr': 'ct'},\n",
              " {'p': 2, 'q': 2, 'tr': 'n'},\n",
              " {'p': 2, 'q': 2, 'tr': 'c'},\n",
              " {'p': 2, 'q': 2, 'tr': 't'},\n",
              " {'p': 2, 'q': 2, 'tr': 'ct'},\n",
              " {'p': 2, 'q': 3, 'tr': 'n'},\n",
              " {'p': 2, 'q': 3, 'tr': 'c'},\n",
              " {'p': 2, 'q': 3, 'tr': 't'},\n",
              " {'p': 2, 'q': 3, 'tr': 'ct'},\n",
              " {'p': 3, 'q': 1, 'tr': 'n'},\n",
              " {'p': 3, 'q': 1, 'tr': 'c'},\n",
              " {'p': 3, 'q': 1, 'tr': 't'},\n",
              " {'p': 3, 'q': 1, 'tr': 'ct'},\n",
              " {'p': 3, 'q': 2, 'tr': 'n'},\n",
              " {'p': 3, 'q': 2, 'tr': 'c'},\n",
              " {'p': 3, 'q': 2, 'tr': 't'},\n",
              " {'p': 3, 'q': 2, 'tr': 'ct'},\n",
              " {'p': 3, 'q': 3, 'tr': 'n'},\n",
              " {'p': 3, 'q': 3, 'tr': 'c'},\n",
              " {'p': 3, 'q': 3, 'tr': 't'},\n",
              " {'p': 3, 'q': 3, 'tr': 'ct'}]"
            ]
          },
          "metadata": {
            "tags": []
          },
          "execution_count": 13
        }
      ]
    },
    {
      "cell_type": "code",
      "metadata": {
        "id": "cQ9BPjGcuDnB",
        "outputId": "16a79d89-1b0f-48db-cc66-d3cc804161c0",
        "colab": {
          "base_uri": "https://localhost:8080/"
        }
      },
      "source": [
        "\"\"\"\n",
        "TIME EXPENSIVE PROCESS\n",
        "\n",
        "Evaluating all possible combinations of p, q, and trend, and storing the results in a df_results_moni DataFrame for further\n",
        "reference\n",
        "\"\"\"\n",
        "df_results_moni = pd.DataFrame(columns=['p', 'q', 'tr','RMSE_EURUSD','RMSE_GBPUSD','RMSE_USDJPY',\n",
        "                                        'RMSE_GC', 'RMSE_NQ', 'RMSE_ES'])\n",
        "print('starting grid search')\n",
        "start = timer()\n",
        "for a,b in enumerate(pg):\n",
        "    p = b.get('p')\n",
        "    q = b.get('q')\n",
        "    tr = b.get('tr')\n",
        "    model = VARMAX(train_diff, order=(p,q), trend=tr).fit()\n",
        "    z = model.forecast(y=train_diff[['eur_usd', 'gbp_usd', 'usd_jpy','gc', 'nq', 'es']].values, steps=nobs)\n",
        "    df_pred = pd.DataFrame(z, columns=['eur_usd', 'gbp_usd', 'usd_jpy','gc', 'nq', 'es'])\n",
        "    res = inverse_diff(data[['eur_usd', 'gbp_usd', 'usd_jpy','gc', 'nq', 'es']],df_pred)\n",
        "    eur_usd_rmse = np.sqrt(metrics.mean_squared_error(test.eur_usd, res.eur_usd_1st_inv_diff))\n",
        "    gbp_usd_rmse = np.sqrt(metrics.mean_squared_error(test.gbp_usd, res.gbp_usd_1st_inv_diff))\n",
        "    usd_jpy_rmse = np.sqrt(metrics.mean_squared_error(test.usd_jpy, res.usd_jpy_1st_inv_diff))\n",
        "    gc_rmse = np.sqrt(metrics.mean_squared_error(test.gc, res.gc_1st_inv_diff))\n",
        "    nq_rmse = np.sqrt(metrics.mean_squared_error(test.nq, res.nq_1st_inv_diff))\n",
        "    es_rmse = np.sqrt(metrics.mean_squared_error(test.es, res.es_1st_inv_diff))\n",
        "    df_results_moni = df_results_moni.append({'p': p, 'q': q,'tr': tr,'RMSE_EURUSD': eur_usd_rmse,\n",
        "                                              'RMSE_GBPUSD':gbp_usd_rmse,'RMSE_USDJPY':usd_jpy_rmse,\n",
        "                                              'RMSE_GC':gc_rmse,'RMSE_NQ': nq_rmse, \n",
        "                                              'RMSE_ES': es_rmse}, ignore_index=True)\n",
        "end = timer()\n",
        "print(f' Total time taken to complete grid search in seconds:{(end - start)}')"
      ],
      "execution_count": null,
      "outputs": [
        {
          "output_type": "stream",
          "text": [
            "starting grid search\n"
          ],
          "name": "stdout"
        }
      ]
    },
    {
      "cell_type": "code",
      "metadata": {
        "id": "JvE7T4cluUBf"
      },
      "source": [
        "df_results_moni.sort_values(by = ['RMSE_EURUSD','RMSE_GBPUSD','RMSE_USDJPY',\n",
        "                                        'RMSE_GC', 'RMSE_NQ', 'RMSE_ES'] )"
      ],
      "execution_count": null,
      "outputs": []
    },
    {
      "cell_type": "code",
      "metadata": {
        "id": "4N6EEGbIuzrd"
      },
      "source": [
        "varmax_model = VARMAX(train_diff[['eur_usd', 'gbp_usd', 'usd_jpy','gc', 'nq', 'es']],\n",
        "               order=(1,2),trends = 'n').fit( disp=False)\n",
        "result = varmax_model.forecast(steps = 15)\n",
        "\n",
        "varmax_res = inverse_diff(train[['eur_usd', 'gbp_usd', 'usd_jpy','gc', 'nq', 'es']], result)\n",
        "varmax_res"
      ],
      "execution_count": null,
      "outputs": []
    }
  ]
}
