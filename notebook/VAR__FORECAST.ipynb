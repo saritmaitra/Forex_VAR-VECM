{
  "nbformat": 4,
  "nbformat_minor": 0,
  "metadata": {
    "colab": {
      "name": "AL_VAR_ FORECAST.ipynb",
      "provenance": [],
      "collapsed_sections": [],
      "toc_visible": true,
      "authorship_tag": "ABX9TyNsOTtlGAcEOFDJaFV0P1OO",
      "include_colab_link": true
    },
    "kernelspec": {
      "name": "python3",
      "display_name": "Python 3"
    },
    "accelerator": "GPU"
  },
  "cells": [
    {
      "cell_type": "markdown",
      "metadata": {
        "id": "view-in-github",
        "colab_type": "text"
      },
      "source": [
        "<a href=\"https://colab.research.google.com/github/saritmaitra/AL-VAR-VECM-/blob/main/AL_VAR__FORECAST.ipynb\" target=\"_parent\"><img src=\"https://colab.research.google.com/assets/colab-badge.svg\" alt=\"Open In Colab\"/></a>"
      ]
    },
    {
      "cell_type": "code",
      "metadata": {
        "id": "m4S1KhHqeKqi",
        "outputId": "3dce73fd-aab4-4833-eb49-d07811c3fbfb",
        "colab": {
          "base_uri": "https://localhost:8080/",
          "height": 34
        }
      },
      "source": [
        "!pip install pyforest\n",
        "from pyforest import *\n",
        "import datetime, pickle, copy, warnings\n",
        "from pandas import DataFrame, merge, concat\n",
        "pd.set_option('display.max_rows', 500)\n",
        "pd.set_option('display.max_columns', 500)\n",
        "pd.set_option('display.width', 150)"
      ],
      "execution_count": 50,
      "outputs": [
        {
          "output_type": "stream",
          "text": [
            "Requirement already satisfied: pyforest in /usr/local/lib/python3.6/dist-packages (1.0.3)\n"
          ],
          "name": "stdout"
        },
        {
          "output_type": "display_data",
          "data": {
            "application/javascript": [
              "\n",
              "        if (window._pyforest_update_imports_cell) { window._pyforest_update_imports_cell('import plotly.express as px\\nimport pydot\\nimport re\\nimport pandas as pd\\nimport sklearn\\nimport matplotlib.pyplot as plt\\nimport numpy as np\\nimport plotly as py'); }\n",
              "    "
            ],
            "text/plain": [
              "<IPython.core.display.Javascript object>"
            ]
          },
          "metadata": {
            "tags": []
          }
        },
        {
          "output_type": "display_data",
          "data": {
            "application/javascript": [
              "\n",
              "        if (window._pyforest_update_imports_cell) { window._pyforest_update_imports_cell('import plotly.express as px\\nimport pydot\\nimport re\\nimport pandas as pd\\nimport sklearn\\nimport matplotlib.pyplot as plt\\nimport numpy as np\\nimport plotly as py'); }\n",
              "    "
            ],
            "text/plain": [
              "<IPython.core.display.Javascript object>"
            ]
          },
          "metadata": {
            "tags": []
          }
        },
        {
          "output_type": "display_data",
          "data": {
            "application/javascript": [
              "\n",
              "        if (window._pyforest_update_imports_cell) { window._pyforest_update_imports_cell('import plotly.express as px\\nimport pydot\\nimport re\\nimport pandas as pd\\nimport sklearn\\nimport matplotlib.pyplot as plt\\nimport numpy as np\\nimport plotly as py'); }\n",
              "    "
            ],
            "text/plain": [
              "<IPython.core.display.Javascript object>"
            ]
          },
          "metadata": {
            "tags": []
          }
        }
      ]
    },
    {
      "cell_type": "markdown",
      "metadata": {
        "id": "HvqjrHf1LTjn"
      },
      "source": [
        "# 1. Data loading and initial preprocessing:"
      ]
    },
    {
      "cell_type": "code",
      "metadata": {
        "id": "Vk1Qu4zreWjK",
        "outputId": "8285c692-db3d-4f9a-e2c2-8214ea4c3fd4",
        "colab": {
          "resources": {
            "http://localhost:8080/nbextensions/google.colab/files.js": {
              "data": "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",
              "ok": true,
              "headers": [
                [
                  "content-type",
                  "application/javascript"
                ]
              ],
              "status": 200,
              "status_text": ""
            }
          },
          "base_uri": "https://localhost:8080/",
          "height": 73
        }
      },
      "source": [
        "from google.colab import files\n",
        "uploaded = files.upload()"
      ],
      "execution_count": 98,
      "outputs": [
        {
          "output_type": "display_data",
          "data": {
            "text/html": [
              "\n",
              "     <input type=\"file\" id=\"files-58e61e8a-1ad2-4f16-83bc-1aca31364d53\" name=\"files[]\" multiple disabled\n",
              "        style=\"border:none\" />\n",
              "     <output id=\"result-58e61e8a-1ad2-4f16-83bc-1aca31364d53\">\n",
              "      Upload widget is only available when the cell has been executed in the\n",
              "      current browser session. Please rerun this cell to enable.\n",
              "      </output>\n",
              "      <script src=\"/nbextensions/google.colab/files.js\"></script> "
            ],
            "text/plain": [
              "<IPython.core.display.HTML object>"
            ]
          },
          "metadata": {
            "tags": []
          }
        },
        {
          "output_type": "stream",
          "text": [
            "Saving AL_final_data.csv to AL_final_data (2).csv\n"
          ],
          "name": "stdout"
        }
      ]
    },
    {
      "cell_type": "code",
      "metadata": {
        "id": "7CJe5av0ea1B",
        "outputId": "c7fe7253-328c-4c52-ee74-3eb4d0874e14",
        "colab": {
          "base_uri": "https://localhost:8080/",
          "height": 195
        }
      },
      "source": [
        "df = pd.read_csv(\"AL_final_data.csv\")\n",
        "df.head()"
      ],
      "execution_count": 99,
      "outputs": [
        {
          "output_type": "display_data",
          "data": {
            "application/javascript": [
              "\n",
              "        if (window._pyforest_update_imports_cell) { window._pyforest_update_imports_cell('import lightgbm as lgb\\nimport plotly.express as px\\nimport pydot\\nimport tensorflow as tf\\nimport re\\nimport pandas as pd\\nimport sklearn\\nimport tqdm\\nimport matplotlib.pyplot as plt\\nfrom openpyxl import load_workbook\\nfrom sklearn.model_selection import train_test_split\\nimport numpy as np\\nimport plotly as py'); }\n",
              "    "
            ],
            "text/plain": [
              "<IPython.core.display.Javascript object>"
            ]
          },
          "metadata": {
            "tags": []
          }
        },
        {
          "output_type": "execute_result",
          "data": {
            "text/html": [
              "<div>\n",
              "<style scoped>\n",
              "    .dataframe tbody tr th:only-of-type {\n",
              "        vertical-align: middle;\n",
              "    }\n",
              "\n",
              "    .dataframe tbody tr th {\n",
              "        vertical-align: top;\n",
              "    }\n",
              "\n",
              "    .dataframe thead th {\n",
              "        text-align: right;\n",
              "    }\n",
              "</style>\n",
              "<table border=\"1\" class=\"dataframe\">\n",
              "  <thead>\n",
              "    <tr style=\"text-align: right;\">\n",
              "      <th></th>\n",
              "      <th>Unnamed: 0</th>\n",
              "      <th>timestamp</th>\n",
              "      <th>es</th>\n",
              "      <th>eurusd</th>\n",
              "      <th>gbpusd</th>\n",
              "      <th>gc</th>\n",
              "      <th>nq</th>\n",
              "      <th>usdjpy</th>\n",
              "    </tr>\n",
              "  </thead>\n",
              "  <tbody>\n",
              "    <tr>\n",
              "      <th>0</th>\n",
              "      <td>0</td>\n",
              "      <td>2020-05-01 00:00:00</td>\n",
              "      <td>2877.12</td>\n",
              "      <td>1094465.00</td>\n",
              "      <td>1258140.00</td>\n",
              "      <td>1695.85</td>\n",
              "      <td>8846.12</td>\n",
              "      <td>107301000.00</td>\n",
              "    </tr>\n",
              "    <tr>\n",
              "      <th>1</th>\n",
              "      <td>1</td>\n",
              "      <td>2020-05-01 00:01:00</td>\n",
              "      <td>2875.38</td>\n",
              "      <td>1094215.00</td>\n",
              "      <td>1257935.00</td>\n",
              "      <td>1695.60</td>\n",
              "      <td>8841.25</td>\n",
              "      <td>107368000.00</td>\n",
              "    </tr>\n",
              "    <tr>\n",
              "      <th>2</th>\n",
              "      <td>2</td>\n",
              "      <td>2020-05-01 00:02:00</td>\n",
              "      <td>2874.62</td>\n",
              "      <td>1094165.00</td>\n",
              "      <td>1257765.00</td>\n",
              "      <td>1695.65</td>\n",
              "      <td>8837.75</td>\n",
              "      <td>107376500.00</td>\n",
              "    </tr>\n",
              "    <tr>\n",
              "      <th>3</th>\n",
              "      <td>3</td>\n",
              "      <td>2020-05-01 00:03:00</td>\n",
              "      <td>2874.12</td>\n",
              "      <td>1094115.00</td>\n",
              "      <td>1257565.00</td>\n",
              "      <td>1695.40</td>\n",
              "      <td>8836.75</td>\n",
              "      <td>107381500.00</td>\n",
              "    </tr>\n",
              "    <tr>\n",
              "      <th>4</th>\n",
              "      <td>4</td>\n",
              "      <td>2020-05-01 00:04:00</td>\n",
              "      <td>2875.25</td>\n",
              "      <td>1094190.00</td>\n",
              "      <td>1257535.00</td>\n",
              "      <td>1694.85</td>\n",
              "      <td>8841.12</td>\n",
              "      <td>107376500.00</td>\n",
              "    </tr>\n",
              "  </tbody>\n",
              "</table>\n",
              "</div>"
            ],
            "text/plain": [
              "   Unnamed: 0            timestamp      es     eurusd     gbpusd      gc      nq       usdjpy\n",
              "0           0  2020-05-01 00:00:00 2877.12 1094465.00 1258140.00 1695.85 8846.12 107301000.00\n",
              "1           1  2020-05-01 00:01:00 2875.38 1094215.00 1257935.00 1695.60 8841.25 107368000.00\n",
              "2           2  2020-05-01 00:02:00 2874.62 1094165.00 1257765.00 1695.65 8837.75 107376500.00\n",
              "3           3  2020-05-01 00:03:00 2874.12 1094115.00 1257565.00 1695.40 8836.75 107381500.00\n",
              "4           4  2020-05-01 00:04:00 2875.25 1094190.00 1257535.00 1694.85 8841.12 107376500.00"
            ]
          },
          "metadata": {
            "tags": []
          },
          "execution_count": 99
        }
      ]
    },
    {
      "cell_type": "code",
      "metadata": {
        "id": "udYxZAQoelBs",
        "outputId": "83a6bbaf-f94d-46f4-c1e5-42b22309c621",
        "colab": {
          "base_uri": "https://localhost:8080/",
          "height": 195
        }
      },
      "source": [
        "df.drop(columns = ['Unnamed: 0'], axis=1, inplace=True)\n",
        "df.tail()"
      ],
      "execution_count": 100,
      "outputs": [
        {
          "output_type": "execute_result",
          "data": {
            "text/html": [
              "<div>\n",
              "<style scoped>\n",
              "    .dataframe tbody tr th:only-of-type {\n",
              "        vertical-align: middle;\n",
              "    }\n",
              "\n",
              "    .dataframe tbody tr th {\n",
              "        vertical-align: top;\n",
              "    }\n",
              "\n",
              "    .dataframe thead th {\n",
              "        text-align: right;\n",
              "    }\n",
              "</style>\n",
              "<table border=\"1\" class=\"dataframe\">\n",
              "  <thead>\n",
              "    <tr style=\"text-align: right;\">\n",
              "      <th></th>\n",
              "      <th>timestamp</th>\n",
              "      <th>es</th>\n",
              "      <th>eurusd</th>\n",
              "      <th>gbpusd</th>\n",
              "      <th>gc</th>\n",
              "      <th>nq</th>\n",
              "      <th>usdjpy</th>\n",
              "    </tr>\n",
              "  </thead>\n",
              "  <tbody>\n",
              "    <tr>\n",
              "      <th>29340</th>\n",
              "      <td>2020-05-29 20:56:00</td>\n",
              "      <td>3027.25</td>\n",
              "      <td>1111740.00</td>\n",
              "      <td>1235400.00</td>\n",
              "      <td>1731.50</td>\n",
              "      <td>9588.62</td>\n",
              "      <td>107675000.00</td>\n",
              "    </tr>\n",
              "    <tr>\n",
              "      <th>29341</th>\n",
              "      <td>2020-05-29 20:57:00</td>\n",
              "      <td>3027.25</td>\n",
              "      <td>1111750.00</td>\n",
              "      <td>1235450.00</td>\n",
              "      <td>1731.20</td>\n",
              "      <td>9588.50</td>\n",
              "      <td>107830000.00</td>\n",
              "    </tr>\n",
              "    <tr>\n",
              "      <th>29342</th>\n",
              "      <td>2020-05-29 20:58:00</td>\n",
              "      <td>3027.25</td>\n",
              "      <td>1111650.00</td>\n",
              "      <td>1235450.00</td>\n",
              "      <td>1731.45</td>\n",
              "      <td>9588.62</td>\n",
              "      <td>107830000.00</td>\n",
              "    </tr>\n",
              "    <tr>\n",
              "      <th>29343</th>\n",
              "      <td>2020-05-29 20:59:00</td>\n",
              "      <td>3027.25</td>\n",
              "      <td>1113400.00</td>\n",
              "      <td>1235450.00</td>\n",
              "      <td>1731.30</td>\n",
              "      <td>9587.38</td>\n",
              "      <td>107835000.00</td>\n",
              "    </tr>\n",
              "    <tr>\n",
              "      <th>29344</th>\n",
              "      <td>2020-05-29 21:00:00</td>\n",
              "      <td>3027.25</td>\n",
              "      <td>1113400.00</td>\n",
              "      <td>1237150.00</td>\n",
              "      <td>1731.35</td>\n",
              "      <td>9591.12</td>\n",
              "      <td>107835000.00</td>\n",
              "    </tr>\n",
              "  </tbody>\n",
              "</table>\n",
              "</div>"
            ],
            "text/plain": [
              "                 timestamp      es     eurusd     gbpusd      gc      nq       usdjpy\n",
              "29340  2020-05-29 20:56:00 3027.25 1111740.00 1235400.00 1731.50 9588.62 107675000.00\n",
              "29341  2020-05-29 20:57:00 3027.25 1111750.00 1235450.00 1731.20 9588.50 107830000.00\n",
              "29342  2020-05-29 20:58:00 3027.25 1111650.00 1235450.00 1731.45 9588.62 107830000.00\n",
              "29343  2020-05-29 20:59:00 3027.25 1113400.00 1235450.00 1731.30 9587.38 107835000.00\n",
              "29344  2020-05-29 21:00:00 3027.25 1113400.00 1237150.00 1731.35 9591.12 107835000.00"
            ]
          },
          "metadata": {
            "tags": []
          },
          "execution_count": 100
        }
      ]
    },
    {
      "cell_type": "code",
      "metadata": {
        "id": "p7O-bZ7me2dh",
        "outputId": "fc7f7616-9a0b-43d6-98ba-f0b5722cb34b",
        "colab": {
          "base_uri": "https://localhost:8080/",
          "height": 235
        }
      },
      "source": [
        "df = df.set_index('timestamp')\n",
        "df.index = pd.to_datetime(df.index)\n",
        "df.info()"
      ],
      "execution_count": 101,
      "outputs": [
        {
          "output_type": "display_data",
          "data": {
            "application/javascript": [
              "\n",
              "        if (window._pyforest_update_imports_cell) { window._pyforest_update_imports_cell('import lightgbm as lgb\\nimport plotly.express as px\\nimport pydot\\nimport tensorflow as tf\\nimport re\\nimport pandas as pd\\nimport sklearn\\nimport tqdm\\nimport matplotlib.pyplot as plt\\nfrom openpyxl import load_workbook\\nfrom sklearn.model_selection import train_test_split\\nimport numpy as np\\nimport plotly as py'); }\n",
              "    "
            ],
            "text/plain": [
              "<IPython.core.display.Javascript object>"
            ]
          },
          "metadata": {
            "tags": []
          }
        },
        {
          "output_type": "stream",
          "text": [
            "<class 'pandas.core.frame.DataFrame'>\n",
            "DatetimeIndex: 29345 entries, 2020-05-01 00:00:00 to 2020-05-29 21:00:00\n",
            "Data columns (total 6 columns):\n",
            " #   Column  Non-Null Count  Dtype  \n",
            "---  ------  --------------  -----  \n",
            " 0   es      29345 non-null  float64\n",
            " 1   eurusd  29345 non-null  float64\n",
            " 2   gbpusd  29345 non-null  float64\n",
            " 3   gc      29345 non-null  float64\n",
            " 4   nq      29345 non-null  float64\n",
            " 5   usdjpy  29345 non-null  float64\n",
            "dtypes: float64(6)\n",
            "memory usage: 1.6 MB\n"
          ],
          "name": "stdout"
        }
      ]
    },
    {
      "cell_type": "code",
      "metadata": {
        "id": "Iplew6NFeEdY",
        "outputId": "9518ef5c-880b-4174-aef3-2c68b731c797",
        "colab": {
          "base_uri": "https://localhost:8080/"
        }
      },
      "source": [
        "df.drop_duplicates(keep=False)\n",
        "df.info()"
      ],
      "execution_count": 145,
      "outputs": [
        {
          "output_type": "stream",
          "text": [
            "<class 'pandas.core.frame.DataFrame'>\n",
            "DatetimeIndex: 29345 entries, 2020-05-01 00:00:00 to 2020-05-29 21:00:00\n",
            "Data columns (total 6 columns):\n",
            " #   Column  Non-Null Count  Dtype  \n",
            "---  ------  --------------  -----  \n",
            " 0   es      29345 non-null  float64\n",
            " 1   eurusd  29345 non-null  float64\n",
            " 2   gbpusd  29345 non-null  float64\n",
            " 3   gc      29345 non-null  float64\n",
            " 4   nq      29345 non-null  float64\n",
            " 5   usdjpy  29345 non-null  float64\n",
            "dtypes: float64(6)\n",
            "memory usage: 1.6 MB\n"
          ],
          "name": "stdout"
        }
      ]
    },
    {
      "cell_type": "code",
      "metadata": {
        "id": "HG1vsFyQSfLZ",
        "outputId": "0cdebd44-2c6f-4f6e-9bfb-9c6bc6fe97ef",
        "colab": {
          "base_uri": "https://localhost:8080/"
        }
      },
      "source": [
        "# spliting train/test\n",
        "nobs = 10 # keeping 10 mins observations aside for validation\n",
        "train_var, test_var = df[0:- nobs], df[- nobs:]\n",
        "\n",
        "# Check size\n",
        "print(train_var.shape); print(test_var.shape);\n",
        "\n",
        "# transfoming training data set\n",
        "train_trans = train_var.diff().dropna() # differencing\n",
        "print('Description of diff data:'); print(train_trans.describe());"
      ],
      "execution_count": 102,
      "outputs": [
        {
          "output_type": "stream",
          "text": [
            "(29335, 6)\n",
            "(10, 6)\n",
            "Description of diff data:\n",
            "            es    eurusd    gbpusd       gc       nq      usdjpy\n",
            "count 29334.00  29334.00  29334.00 29334.00 29334.00    29334.00\n",
            "mean      0.01      0.56     -0.77     0.00     0.03       16.19\n",
            "std       1.12    288.72    334.81     0.52     3.72    47921.86\n",
            "min     -37.75 -18615.00 -18420.00    -9.15  -131.50 -4778500.00\n",
            "25%      -0.50    -50.00   -100.00    -0.20    -1.50    -5500.00\n",
            "50%       0.00      0.00      0.00     0.00     0.00        0.00\n",
            "75%       0.50     50.00    100.00     0.20     1.62     5500.00\n",
            "max      26.88  18290.00  17970.00    11.95    84.75  4752500.00\n"
          ],
          "name": "stdout"
        }
      ]
    },
    {
      "cell_type": "code",
      "metadata": {
        "id": "H0XL9P3WPD2a",
        "outputId": "df35940a-1258-4a0b-e3c5-ac091cc95af2",
        "colab": {
          "base_uri": "https://localhost:8080/"
        }
      },
      "source": [
        "print(train_trans.corr())"
      ],
      "execution_count": 103,
      "outputs": [
        {
          "output_type": "stream",
          "text": [
            "         es  eurusd  gbpusd    gc   nq  usdjpy\n",
            "es     1.00    0.06    0.17  0.09 0.88    0.05\n",
            "eurusd 0.06    1.00    0.15  0.06 0.05   -0.02\n",
            "gbpusd 0.17    0.15    1.00  0.08 0.16   -0.03\n",
            "gc     0.09    0.06    0.08  1.00 0.11   -0.04\n",
            "nq     0.88    0.05    0.16  0.11 1.00    0.04\n",
            "usdjpy 0.05   -0.02   -0.03 -0.04 0.04    1.00\n"
          ],
          "name": "stdout"
        }
      ]
    },
    {
      "cell_type": "markdown",
      "metadata": {
        "id": "kZWZ3pC4CVLz"
      },
      "source": [
        "## 1.1 Lag order selection:"
      ]
    },
    {
      "cell_type": "markdown",
      "metadata": {
        "id": "3yIt64CbBnOe"
      },
      "source": [
        "### 1.1.1 Checking required lags through ACF/PACF:\n"
      ]
    },
    {
      "cell_type": "code",
      "metadata": {
        "id": "yW2cjntpScQJ",
        "outputId": "1bf674c1-6b9c-4dca-c8ad-bdfcce3778d8",
        "colab": {
          "base_uri": "https://localhost:8080/",
          "height": 369
        }
      },
      "source": [
        "from statsmodels.tsa.stattools import acf, pacf\n",
        "import pandas.util.testing as tm\n",
        "\n",
        "lag_acf = acf(train_trans.eurusd, nlags=36, fft=False)\n",
        "lag_pacf = pacf(train_trans.eurusd, method = 'ols', nlags=36) \n",
        "\n",
        "plt.figure(figsize=(14,5))\n",
        "plt.style.use('dark_background')\n",
        "#Plot ACF:\n",
        "plt.subplot(121)\n",
        "plt.plot(lag_acf)\n",
        "plt.axhline(y=0,linestyle='--',color='gray')\n",
        "plt.axhline(y=-1.96/np.sqrt(len(train_trans.eurusd)),linestyle='--',color='gray')\n",
        "plt.axhline(y=1.96/np.sqrt(len(train_trans.eurusd)),linestyle='--',color='gray')\n",
        "plt.title('ACF:EURUSD')\n",
        "\n",
        "#Plot PACF:\n",
        "plt.subplot(122)\n",
        "plt.plot(lag_pacf)\n",
        "plt.axhline(y=0,linestyle='--',color='gray')\n",
        "plt.axhline(y=-1.96/np.sqrt(len(train_trans.eurusd)),linestyle='--',color='gray')\n",
        "plt.axhline(y=1.96/np.sqrt(len(train_trans.eurusd)),linestyle='--',color='gray')\n",
        "plt.title('PACF:EURUSD')\n",
        "plt.tight_layout()"
      ],
      "execution_count": 104,
      "outputs": [
        {
          "output_type": "display_data",
          "data": {
            "application/javascript": [
              "\n",
              "        if (window._pyforest_update_imports_cell) { window._pyforest_update_imports_cell('import lightgbm as lgb\\nimport plotly.express as px\\nimport pydot\\nimport tensorflow as tf\\nimport re\\nimport pandas as pd\\nimport sklearn\\nimport tqdm\\nimport matplotlib.pyplot as plt\\nfrom openpyxl import load_workbook\\nfrom sklearn.model_selection import train_test_split\\nimport numpy as np\\nimport plotly as py'); }\n",
              "    "
            ],
            "text/plain": [
              "<IPython.core.display.Javascript object>"
            ]
          },
          "metadata": {
            "tags": []
          }
        },
        {
          "output_type": "display_data",
          "data": {
            "application/javascript": [
              "\n",
              "        if (window._pyforest_update_imports_cell) { window._pyforest_update_imports_cell('import lightgbm as lgb\\nimport plotly.express as px\\nimport pydot\\nimport tensorflow as tf\\nimport re\\nimport pandas as pd\\nimport sklearn\\nimport tqdm\\nimport matplotlib.pyplot as plt\\nfrom openpyxl import load_workbook\\nfrom sklearn.model_selection import train_test_split\\nimport numpy as np\\nimport plotly as py'); }\n",
              "    "
            ],
            "text/plain": [
              "<IPython.core.display.Javascript object>"
            ]
          },
          "metadata": {
            "tags": []
          }
        },
        {
          "output_type": "display_data",
          "data": {
            "application/javascript": [
              "\n",
              "        if (window._pyforest_update_imports_cell) { window._pyforest_update_imports_cell('import lightgbm as lgb\\nimport plotly.express as px\\nimport pydot\\nimport tensorflow as tf\\nimport re\\nimport pandas as pd\\nimport sklearn\\nimport tqdm\\nimport matplotlib.pyplot as plt\\nfrom openpyxl import load_workbook\\nfrom sklearn.model_selection import train_test_split\\nimport numpy as np\\nimport plotly as py'); }\n",
              "    "
            ],
            "text/plain": [
              "<IPython.core.display.Javascript object>"
            ]
          },
          "metadata": {
            "tags": []
          }
        },
        {
          "output_type": "display_data",
          "data": {
            "application/javascript": [
              "\n",
              "        if (window._pyforest_update_imports_cell) { window._pyforest_update_imports_cell('import lightgbm as lgb\\nimport plotly.express as px\\nimport pydot\\nimport tensorflow as tf\\nimport re\\nimport pandas as pd\\nimport sklearn\\nimport tqdm\\nimport matplotlib.pyplot as plt\\nfrom openpyxl import load_workbook\\nfrom sklearn.model_selection import train_test_split\\nimport numpy as np\\nimport plotly as py'); }\n",
              "    "
            ],
            "text/plain": [
              "<IPython.core.display.Javascript object>"
            ]
          },
          "metadata": {
            "tags": []
          }
        },
        {
          "output_type": "display_data",
          "data": {
            "application/javascript": [
              "\n",
              "        if (window._pyforest_update_imports_cell) { window._pyforest_update_imports_cell('import lightgbm as lgb\\nimport plotly.express as px\\nimport pydot\\nimport tensorflow as tf\\nimport re\\nimport pandas as pd\\nimport sklearn\\nimport tqdm\\nimport matplotlib.pyplot as plt\\nfrom openpyxl import load_workbook\\nfrom sklearn.model_selection import train_test_split\\nimport numpy as np\\nimport plotly as py'); }\n",
              "    "
            ],
            "text/plain": [
              "<IPython.core.display.Javascript object>"
            ]
          },
          "metadata": {
            "tags": []
          }
        },
        {
          "output_type": "display_data",
          "data": {
            "application/javascript": [
              "\n",
              "        if (window._pyforest_update_imports_cell) { window._pyforest_update_imports_cell('import lightgbm as lgb\\nimport plotly.express as px\\nimport pydot\\nimport tensorflow as tf\\nimport re\\nimport pandas as pd\\nimport sklearn\\nimport tqdm\\nimport matplotlib.pyplot as plt\\nfrom openpyxl import load_workbook\\nfrom sklearn.model_selection import train_test_split\\nimport numpy as np\\nimport plotly as py'); }\n",
              "    "
            ],
            "text/plain": [
              "<IPython.core.display.Javascript object>"
            ]
          },
          "metadata": {
            "tags": []
          }
        },
        {
          "output_type": "display_data",
          "data": {
            "application/javascript": [
              "\n",
              "        if (window._pyforest_update_imports_cell) { window._pyforest_update_imports_cell('import lightgbm as lgb\\nimport plotly.express as px\\nimport pydot\\nimport tensorflow as tf\\nimport re\\nimport pandas as pd\\nimport sklearn\\nimport tqdm\\nimport matplotlib.pyplot as plt\\nfrom openpyxl import load_workbook\\nfrom sklearn.model_selection import train_test_split\\nimport numpy as np\\nimport plotly as py'); }\n",
              "    "
            ],
            "text/plain": [
              "<IPython.core.display.Javascript object>"
            ]
          },
          "metadata": {
            "tags": []
          }
        },
        {
          "output_type": "display_data",
          "data": {
            "application/javascript": [
              "\n",
              "        if (window._pyforest_update_imports_cell) { window._pyforest_update_imports_cell('import lightgbm as lgb\\nimport plotly.express as px\\nimport pydot\\nimport tensorflow as tf\\nimport re\\nimport pandas as pd\\nimport sklearn\\nimport tqdm\\nimport matplotlib.pyplot as plt\\nfrom openpyxl import load_workbook\\nfrom sklearn.model_selection import train_test_split\\nimport numpy as np\\nimport plotly as py'); }\n",
              "    "
            ],
            "text/plain": [
              "<IPython.core.display.Javascript object>"
            ]
          },
          "metadata": {
            "tags": []
          }
        },
        {
          "output_type": "display_data",
          "data": {
            "application/javascript": [
              "\n",
              "        if (window._pyforest_update_imports_cell) { window._pyforest_update_imports_cell('import lightgbm as lgb\\nimport plotly.express as px\\nimport pydot\\nimport tensorflow as tf\\nimport re\\nimport pandas as pd\\nimport sklearn\\nimport tqdm\\nimport matplotlib.pyplot as plt\\nfrom openpyxl import load_workbook\\nfrom sklearn.model_selection import train_test_split\\nimport numpy as np\\nimport plotly as py'); }\n",
              "    "
            ],
            "text/plain": [
              "<IPython.core.display.Javascript object>"
            ]
          },
          "metadata": {
            "tags": []
          }
        },
        {
          "output_type": "display_data",
          "data": {
            "application/javascript": [
              "\n",
              "        if (window._pyforest_update_imports_cell) { window._pyforest_update_imports_cell('import lightgbm as lgb\\nimport plotly.express as px\\nimport pydot\\nimport tensorflow as tf\\nimport re\\nimport pandas as pd\\nimport sklearn\\nimport tqdm\\nimport matplotlib.pyplot as plt\\nfrom openpyxl import load_workbook\\nfrom sklearn.model_selection import train_test_split\\nimport numpy as np\\nimport plotly as py'); }\n",
              "    "
            ],
            "text/plain": [
              "<IPython.core.display.Javascript object>"
            ]
          },
          "metadata": {
            "tags": []
          }
        },
        {
          "output_type": "display_data",
          "data": {
            "application/javascript": [
              "\n",
              "        if (window._pyforest_update_imports_cell) { window._pyforest_update_imports_cell('import lightgbm as lgb\\nimport plotly.express as px\\nimport pydot\\nimport tensorflow as tf\\nimport re\\nimport pandas as pd\\nimport sklearn\\nimport tqdm\\nimport matplotlib.pyplot as plt\\nfrom openpyxl import load_workbook\\nfrom sklearn.model_selection import train_test_split\\nimport numpy as np\\nimport plotly as py'); }\n",
              "    "
            ],
            "text/plain": [
              "<IPython.core.display.Javascript object>"
            ]
          },
          "metadata": {
            "tags": []
          }
        },
        {
          "output_type": "display_data",
          "data": {
            "application/javascript": [
              "\n",
              "        if (window._pyforest_update_imports_cell) { window._pyforest_update_imports_cell('import lightgbm as lgb\\nimport plotly.express as px\\nimport pydot\\nimport tensorflow as tf\\nimport re\\nimport pandas as pd\\nimport sklearn\\nimport tqdm\\nimport matplotlib.pyplot as plt\\nfrom openpyxl import load_workbook\\nfrom sklearn.model_selection import train_test_split\\nimport numpy as np\\nimport plotly as py'); }\n",
              "    "
            ],
            "text/plain": [
              "<IPython.core.display.Javascript object>"
            ]
          },
          "metadata": {
            "tags": []
          }
        },
        {
          "output_type": "display_data",
          "data": {
            "application/javascript": [
              "\n",
              "        if (window._pyforest_update_imports_cell) { window._pyforest_update_imports_cell('import lightgbm as lgb\\nimport plotly.express as px\\nimport pydot\\nimport tensorflow as tf\\nimport re\\nimport pandas as pd\\nimport sklearn\\nimport tqdm\\nimport matplotlib.pyplot as plt\\nfrom openpyxl import load_workbook\\nfrom sklearn.model_selection import train_test_split\\nimport numpy as np\\nimport plotly as py'); }\n",
              "    "
            ],
            "text/plain": [
              "<IPython.core.display.Javascript object>"
            ]
          },
          "metadata": {
            "tags": []
          }
        },
        {
          "output_type": "display_data",
          "data": {
            "application/javascript": [
              "\n",
              "        if (window._pyforest_update_imports_cell) { window._pyforest_update_imports_cell('import lightgbm as lgb\\nimport plotly.express as px\\nimport pydot\\nimport tensorflow as tf\\nimport re\\nimport pandas as pd\\nimport sklearn\\nimport tqdm\\nimport matplotlib.pyplot as plt\\nfrom openpyxl import load_workbook\\nfrom sklearn.model_selection import train_test_split\\nimport numpy as np\\nimport plotly as py'); }\n",
              "    "
            ],
            "text/plain": [
              "<IPython.core.display.Javascript object>"
            ]
          },
          "metadata": {
            "tags": []
          }
        },
        {
          "output_type": "display_data",
          "data": {
            "application/javascript": [
              "\n",
              "        if (window._pyforest_update_imports_cell) { window._pyforest_update_imports_cell('import lightgbm as lgb\\nimport plotly.express as px\\nimport pydot\\nimport tensorflow as tf\\nimport re\\nimport pandas as pd\\nimport sklearn\\nimport tqdm\\nimport matplotlib.pyplot as plt\\nfrom openpyxl import load_workbook\\nfrom sklearn.model_selection import train_test_split\\nimport numpy as np\\nimport plotly as py'); }\n",
              "    "
            ],
            "text/plain": [
              "<IPython.core.display.Javascript object>"
            ]
          },
          "metadata": {
            "tags": []
          }
        },
        {
          "output_type": "display_data",
          "data": {
            "application/javascript": [
              "\n",
              "        if (window._pyforest_update_imports_cell) { window._pyforest_update_imports_cell('import lightgbm as lgb\\nimport plotly.express as px\\nimport pydot\\nimport tensorflow as tf\\nimport re\\nimport pandas as pd\\nimport sklearn\\nimport tqdm\\nimport matplotlib.pyplot as plt\\nfrom openpyxl import load_workbook\\nfrom sklearn.model_selection import train_test_split\\nimport numpy as np\\nimport plotly as py'); }\n",
              "    "
            ],
            "text/plain": [
              "<IPython.core.display.Javascript object>"
            ]
          },
          "metadata": {
            "tags": []
          }
        },
        {
          "output_type": "display_data",
          "data": {
            "application/javascript": [
              "\n",
              "        if (window._pyforest_update_imports_cell) { window._pyforest_update_imports_cell('import lightgbm as lgb\\nimport plotly.express as px\\nimport pydot\\nimport tensorflow as tf\\nimport re\\nimport pandas as pd\\nimport sklearn\\nimport tqdm\\nimport matplotlib.pyplot as plt\\nfrom openpyxl import load_workbook\\nfrom sklearn.model_selection import train_test_split\\nimport numpy as np\\nimport plotly as py'); }\n",
              "    "
            ],
            "text/plain": [
              "<IPython.core.display.Javascript object>"
            ]
          },
          "metadata": {
            "tags": []
          }
        },
        {
          "output_type": "display_data",
          "data": {
            "application/javascript": [
              "\n",
              "        if (window._pyforest_update_imports_cell) { window._pyforest_update_imports_cell('import lightgbm as lgb\\nimport plotly.express as px\\nimport pydot\\nimport tensorflow as tf\\nimport re\\nimport pandas as pd\\nimport sklearn\\nimport tqdm\\nimport matplotlib.pyplot as plt\\nfrom openpyxl import load_workbook\\nfrom sklearn.model_selection import train_test_split\\nimport numpy as np\\nimport plotly as py'); }\n",
              "    "
            ],
            "text/plain": [
              "<IPython.core.display.Javascript object>"
            ]
          },
          "metadata": {
            "tags": []
          }
        },
        {
          "output_type": "display_data",
          "data": {
            "application/javascript": [
              "\n",
              "        if (window._pyforest_update_imports_cell) { window._pyforest_update_imports_cell('import lightgbm as lgb\\nimport plotly.express as px\\nimport pydot\\nimport tensorflow as tf\\nimport re\\nimport pandas as pd\\nimport sklearn\\nimport tqdm\\nimport matplotlib.pyplot as plt\\nfrom openpyxl import load_workbook\\nfrom sklearn.model_selection import train_test_split\\nimport numpy as np\\nimport plotly as py'); }\n",
              "    "
            ],
            "text/plain": [
              "<IPython.core.display.Javascript object>"
            ]
          },
          "metadata": {
            "tags": []
          }
        },
        {
          "output_type": "display_data",
          "data": {
            "image/png": "[encoded data removed]",
            "text/plain": [
              "<Figure size 1008x360 with 2 Axes>"
            ]
          },
          "metadata": {
            "tags": []
          }
        }
      ]
    },
    {
      "cell_type": "code",
      "metadata": {
        "id": "yWs8q-nUTmkN",
        "outputId": "c7b04d69-f18f-403a-c0de-b88516cd54e0",
        "colab": {
          "base_uri": "https://localhost:8080/",
          "height": 369
        }
      },
      "source": [
        "plt.figure(figsize=(14,5))\n",
        "\n",
        "lag_acf = acf(train_trans.gbpusd, nlags=36, fft=False)\n",
        "lag_pacf = pacf(train_trans.gbpusd, method = 'ols', nlags=36) \n",
        "\n",
        "#Plot ACF:\n",
        "plt.subplot(121)\n",
        "plt.plot(lag_acf)\n",
        "plt.axhline(y=0,linestyle='--',color='gray')\n",
        "plt.axhline(y=-1.96/np.sqrt(len(train_trans.gbpusd)),linestyle='--',color='gray')\n",
        "plt.axhline(y=1.96/np.sqrt(len(train_trans.gbpusd)),linestyle='--',color='gray')\n",
        "plt.title('ACF:GBPUSD')\n",
        "\n",
        "#Plot PACF:\n",
        "plt.subplot(122)\n",
        "plt.plot(lag_pacf)\n",
        "plt.axhline(y=0,linestyle='--',color='gray')\n",
        "plt.axhline(y=-1.96/np.sqrt(len(train_trans.gbpusd)),linestyle='--',color='gray')\n",
        "plt.axhline(y=1.96/np.sqrt(len(train_trans.gbpusd)),linestyle='--',color='gray')\n",
        "plt.title('PACF:GBPUSD')\n",
        "plt.tight_layout()"
      ],
      "execution_count": 105,
      "outputs": [
        {
          "output_type": "display_data",
          "data": {
            "application/javascript": [
              "\n",
              "        if (window._pyforest_update_imports_cell) { window._pyforest_update_imports_cell('import lightgbm as lgb\\nimport plotly.express as px\\nimport pydot\\nimport tensorflow as tf\\nimport re\\nimport pandas as pd\\nimport sklearn\\nimport tqdm\\nimport matplotlib.pyplot as plt\\nfrom openpyxl import load_workbook\\nfrom sklearn.model_selection import train_test_split\\nimport numpy as np\\nimport plotly as py'); }\n",
              "    "
            ],
            "text/plain": [
              "<IPython.core.display.Javascript object>"
            ]
          },
          "metadata": {
            "tags": []
          }
        },
        {
          "output_type": "display_data",
          "data": {
            "application/javascript": [
              "\n",
              "        if (window._pyforest_update_imports_cell) { window._pyforest_update_imports_cell('import lightgbm as lgb\\nimport plotly.express as px\\nimport pydot\\nimport tensorflow as tf\\nimport re\\nimport pandas as pd\\nimport sklearn\\nimport tqdm\\nimport matplotlib.pyplot as plt\\nfrom openpyxl import load_workbook\\nfrom sklearn.model_selection import train_test_split\\nimport numpy as np\\nimport plotly as py'); }\n",
              "    "
            ],
            "text/plain": [
              "<IPython.core.display.Javascript object>"
            ]
          },
          "metadata": {
            "tags": []
          }
        },
        {
          "output_type": "display_data",
          "data": {
            "application/javascript": [
              "\n",
              "        if (window._pyforest_update_imports_cell) { window._pyforest_update_imports_cell('import lightgbm as lgb\\nimport plotly.express as px\\nimport pydot\\nimport tensorflow as tf\\nimport re\\nimport pandas as pd\\nimport sklearn\\nimport tqdm\\nimport matplotlib.pyplot as plt\\nfrom openpyxl import load_workbook\\nfrom sklearn.model_selection import train_test_split\\nimport numpy as np\\nimport plotly as py'); }\n",
              "    "
            ],
            "text/plain": [
              "<IPython.core.display.Javascript object>"
            ]
          },
          "metadata": {
            "tags": []
          }
        },
        {
          "output_type": "display_data",
          "data": {
            "application/javascript": [
              "\n",
              "        if (window._pyforest_update_imports_cell) { window._pyforest_update_imports_cell('import lightgbm as lgb\\nimport plotly.express as px\\nimport pydot\\nimport tensorflow as tf\\nimport re\\nimport pandas as pd\\nimport sklearn\\nimport tqdm\\nimport matplotlib.pyplot as plt\\nfrom openpyxl import load_workbook\\nfrom sklearn.model_selection import train_test_split\\nimport numpy as np\\nimport plotly as py'); }\n",
              "    "
            ],
            "text/plain": [
              "<IPython.core.display.Javascript object>"
            ]
          },
          "metadata": {
            "tags": []
          }
        },
        {
          "output_type": "display_data",
          "data": {
            "application/javascript": [
              "\n",
              "        if (window._pyforest_update_imports_cell) { window._pyforest_update_imports_cell('import lightgbm as lgb\\nimport plotly.express as px\\nimport pydot\\nimport tensorflow as tf\\nimport re\\nimport pandas as pd\\nimport sklearn\\nimport tqdm\\nimport matplotlib.pyplot as plt\\nfrom openpyxl import load_workbook\\nfrom sklearn.model_selection import train_test_split\\nimport numpy as np\\nimport plotly as py'); }\n",
              "    "
            ],
            "text/plain": [
              "<IPython.core.display.Javascript object>"
            ]
          },
          "metadata": {
            "tags": []
          }
        },
        {
          "output_type": "display_data",
          "data": {
            "application/javascript": [
              "\n",
              "        if (window._pyforest_update_imports_cell) { window._pyforest_update_imports_cell('import lightgbm as lgb\\nimport plotly.express as px\\nimport pydot\\nimport tensorflow as tf\\nimport re\\nimport pandas as pd\\nimport sklearn\\nimport tqdm\\nimport matplotlib.pyplot as plt\\nfrom openpyxl import load_workbook\\nfrom sklearn.model_selection import train_test_split\\nimport numpy as np\\nimport plotly as py'); }\n",
              "    "
            ],
            "text/plain": [
              "<IPython.core.display.Javascript object>"
            ]
          },
          "metadata": {
            "tags": []
          }
        },
        {
          "output_type": "display_data",
          "data": {
            "application/javascript": [
              "\n",
              "        if (window._pyforest_update_imports_cell) { window._pyforest_update_imports_cell('import lightgbm as lgb\\nimport plotly.express as px\\nimport pydot\\nimport tensorflow as tf\\nimport re\\nimport pandas as pd\\nimport sklearn\\nimport tqdm\\nimport matplotlib.pyplot as plt\\nfrom openpyxl import load_workbook\\nfrom sklearn.model_selection import train_test_split\\nimport numpy as np\\nimport plotly as py'); }\n",
              "    "
            ],
            "text/plain": [
              "<IPython.core.display.Javascript object>"
            ]
          },
          "metadata": {
            "tags": []
          }
        },
        {
          "output_type": "display_data",
          "data": {
            "application/javascript": [
              "\n",
              "        if (window._pyforest_update_imports_cell) { window._pyforest_update_imports_cell('import lightgbm as lgb\\nimport plotly.express as px\\nimport pydot\\nimport tensorflow as tf\\nimport re\\nimport pandas as pd\\nimport sklearn\\nimport tqdm\\nimport matplotlib.pyplot as plt\\nfrom openpyxl import load_workbook\\nfrom sklearn.model_selection import train_test_split\\nimport numpy as np\\nimport plotly as py'); }\n",
              "    "
            ],
            "text/plain": [
              "<IPython.core.display.Javascript object>"
            ]
          },
          "metadata": {
            "tags": []
          }
        },
        {
          "output_type": "display_data",
          "data": {
            "application/javascript": [
              "\n",
              "        if (window._pyforest_update_imports_cell) { window._pyforest_update_imports_cell('import lightgbm as lgb\\nimport plotly.express as px\\nimport pydot\\nimport tensorflow as tf\\nimport re\\nimport pandas as pd\\nimport sklearn\\nimport tqdm\\nimport matplotlib.pyplot as plt\\nfrom openpyxl import load_workbook\\nfrom sklearn.model_selection import train_test_split\\nimport numpy as np\\nimport plotly as py'); }\n",
              "    "
            ],
            "text/plain": [
              "<IPython.core.display.Javascript object>"
            ]
          },
          "metadata": {
            "tags": []
          }
        },
        {
          "output_type": "display_data",
          "data": {
            "application/javascript": [
              "\n",
              "        if (window._pyforest_update_imports_cell) { window._pyforest_update_imports_cell('import lightgbm as lgb\\nimport plotly.express as px\\nimport pydot\\nimport tensorflow as tf\\nimport re\\nimport pandas as pd\\nimport sklearn\\nimport tqdm\\nimport matplotlib.pyplot as plt\\nfrom openpyxl import load_workbook\\nfrom sklearn.model_selection import train_test_split\\nimport numpy as np\\nimport plotly as py'); }\n",
              "    "
            ],
            "text/plain": [
              "<IPython.core.display.Javascript object>"
            ]
          },
          "metadata": {
            "tags": []
          }
        },
        {
          "output_type": "display_data",
          "data": {
            "application/javascript": [
              "\n",
              "        if (window._pyforest_update_imports_cell) { window._pyforest_update_imports_cell('import lightgbm as lgb\\nimport plotly.express as px\\nimport pydot\\nimport tensorflow as tf\\nimport re\\nimport pandas as pd\\nimport sklearn\\nimport tqdm\\nimport matplotlib.pyplot as plt\\nfrom openpyxl import load_workbook\\nfrom sklearn.model_selection import train_test_split\\nimport numpy as np\\nimport plotly as py'); }\n",
              "    "
            ],
            "text/plain": [
              "<IPython.core.display.Javascript object>"
            ]
          },
          "metadata": {
            "tags": []
          }
        },
        {
          "output_type": "display_data",
          "data": {
            "application/javascript": [
              "\n",
              "        if (window._pyforest_update_imports_cell) { window._pyforest_update_imports_cell('import lightgbm as lgb\\nimport plotly.express as px\\nimport pydot\\nimport tensorflow as tf\\nimport re\\nimport pandas as pd\\nimport sklearn\\nimport tqdm\\nimport matplotlib.pyplot as plt\\nfrom openpyxl import load_workbook\\nfrom sklearn.model_selection import train_test_split\\nimport numpy as np\\nimport plotly as py'); }\n",
              "    "
            ],
            "text/plain": [
              "<IPython.core.display.Javascript object>"
            ]
          },
          "metadata": {
            "tags": []
          }
        },
        {
          "output_type": "display_data",
          "data": {
            "application/javascript": [
              "\n",
              "        if (window._pyforest_update_imports_cell) { window._pyforest_update_imports_cell('import lightgbm as lgb\\nimport plotly.express as px\\nimport pydot\\nimport tensorflow as tf\\nimport re\\nimport pandas as pd\\nimport sklearn\\nimport tqdm\\nimport matplotlib.pyplot as plt\\nfrom openpyxl import load_workbook\\nfrom sklearn.model_selection import train_test_split\\nimport numpy as np\\nimport plotly as py'); }\n",
              "    "
            ],
            "text/plain": [
              "<IPython.core.display.Javascript object>"
            ]
          },
          "metadata": {
            "tags": []
          }
        },
        {
          "output_type": "display_data",
          "data": {
            "application/javascript": [
              "\n",
              "        if (window._pyforest_update_imports_cell) { window._pyforest_update_imports_cell('import lightgbm as lgb\\nimport plotly.express as px\\nimport pydot\\nimport tensorflow as tf\\nimport re\\nimport pandas as pd\\nimport sklearn\\nimport tqdm\\nimport matplotlib.pyplot as plt\\nfrom openpyxl import load_workbook\\nfrom sklearn.model_selection import train_test_split\\nimport numpy as np\\nimport plotly as py'); }\n",
              "    "
            ],
            "text/plain": [
              "<IPython.core.display.Javascript object>"
            ]
          },
          "metadata": {
            "tags": []
          }
        },
        {
          "output_type": "display_data",
          "data": {
            "application/javascript": [
              "\n",
              "        if (window._pyforest_update_imports_cell) { window._pyforest_update_imports_cell('import lightgbm as lgb\\nimport plotly.express as px\\nimport pydot\\nimport tensorflow as tf\\nimport re\\nimport pandas as pd\\nimport sklearn\\nimport tqdm\\nimport matplotlib.pyplot as plt\\nfrom openpyxl import load_workbook\\nfrom sklearn.model_selection import train_test_split\\nimport numpy as np\\nimport plotly as py'); }\n",
              "    "
            ],
            "text/plain": [
              "<IPython.core.display.Javascript object>"
            ]
          },
          "metadata": {
            "tags": []
          }
        },
        {
          "output_type": "display_data",
          "data": {
            "application/javascript": [
              "\n",
              "        if (window._pyforest_update_imports_cell) { window._pyforest_update_imports_cell('import lightgbm as lgb\\nimport plotly.express as px\\nimport pydot\\nimport tensorflow as tf\\nimport re\\nimport pandas as pd\\nimport sklearn\\nimport tqdm\\nimport matplotlib.pyplot as plt\\nfrom openpyxl import load_workbook\\nfrom sklearn.model_selection import train_test_split\\nimport numpy as np\\nimport plotly as py'); }\n",
              "    "
            ],
            "text/plain": [
              "<IPython.core.display.Javascript object>"
            ]
          },
          "metadata": {
            "tags": []
          }
        },
        {
          "output_type": "display_data",
          "data": {
            "application/javascript": [
              "\n",
              "        if (window._pyforest_update_imports_cell) { window._pyforest_update_imports_cell('import lightgbm as lgb\\nimport plotly.express as px\\nimport pydot\\nimport tensorflow as tf\\nimport re\\nimport pandas as pd\\nimport sklearn\\nimport tqdm\\nimport matplotlib.pyplot as plt\\nfrom openpyxl import load_workbook\\nfrom sklearn.model_selection import train_test_split\\nimport numpy as np\\nimport plotly as py'); }\n",
              "    "
            ],
            "text/plain": [
              "<IPython.core.display.Javascript object>"
            ]
          },
          "metadata": {
            "tags": []
          }
        },
        {
          "output_type": "display_data",
          "data": {
            "application/javascript": [
              "\n",
              "        if (window._pyforest_update_imports_cell) { window._pyforest_update_imports_cell('import lightgbm as lgb\\nimport plotly.express as px\\nimport pydot\\nimport tensorflow as tf\\nimport re\\nimport pandas as pd\\nimport sklearn\\nimport tqdm\\nimport matplotlib.pyplot as plt\\nfrom openpyxl import load_workbook\\nfrom sklearn.model_selection import train_test_split\\nimport numpy as np\\nimport plotly as py'); }\n",
              "    "
            ],
            "text/plain": [
              "<IPython.core.display.Javascript object>"
            ]
          },
          "metadata": {
            "tags": []
          }
        },
        {
          "output_type": "display_data",
          "data": {
            "image/png": "[encoded data removed]",
            "text/plain": [
              "<Figure size 1008x360 with 2 Axes>"
            ]
          },
          "metadata": {
            "tags": []
          }
        }
      ]
    },
    {
      "cell_type": "code",
      "metadata": {
        "id": "LEAvvaBET0Qy",
        "outputId": "3dad7daa-6de8-4708-bc8e-fab063e435ee",
        "colab": {
          "base_uri": "https://localhost:8080/",
          "height": 369
        }
      },
      "source": [
        "plt.figure(figsize=(14,5))\n",
        "\n",
        "lag_acf = acf(train_trans.usdjpy, nlags=36, fft=False)\n",
        "lag_pacf = pacf(train_trans.eurusd, method = 'ols', nlags=36)\n",
        "\n",
        "#Plot ACF:\n",
        "plt.subplot(121)\n",
        "plt.plot(lag_acf)\n",
        "plt.axhline(y=0,linestyle='--',color='gray')\n",
        "plt.axhline(y=-1.96/np.sqrt(len(train_trans.usdjpy)),linestyle='--',color='gray')\n",
        "plt.axhline(y=1.96/np.sqrt(len(train_trans.usdjpy)),linestyle='--',color='gray')\n",
        "plt.title('ACF: USDJPY')\n",
        "\n",
        "#Plot PACF:\n",
        "plt.subplot(122)\n",
        "plt.plot(lag_pacf)\n",
        "plt.axhline(y=0,linestyle='--',color='gray')\n",
        "plt.axhline(y=-1.96/np.sqrt(len(train_trans.usdjpy)),linestyle='--',color='gray')\n",
        "plt.axhline(y=1.96/np.sqrt(len(train_trans.usdjpy)),linestyle='--',color='gray')\n",
        "plt.title('PACF: USDJPY')\n",
        "plt.tight_layout()"
      ],
      "execution_count": 106,
      "outputs": [
        {
          "output_type": "display_data",
          "data": {
            "application/javascript": [
              "\n",
              "        if (window._pyforest_update_imports_cell) { window._pyforest_update_imports_cell('import lightgbm as lgb\\nimport plotly.express as px\\nimport pydot\\nimport tensorflow as tf\\nimport re\\nimport pandas as pd\\nimport sklearn\\nimport tqdm\\nimport matplotlib.pyplot as plt\\nfrom openpyxl import load_workbook\\nfrom sklearn.model_selection import train_test_split\\nimport numpy as np\\nimport plotly as py'); }\n",
              "    "
            ],
            "text/plain": [
              "<IPython.core.display.Javascript object>"
            ]
          },
          "metadata": {
            "tags": []
          }
        },
        {
          "output_type": "display_data",
          "data": {
            "application/javascript": [
              "\n",
              "        if (window._pyforest_update_imports_cell) { window._pyforest_update_imports_cell('import lightgbm as lgb\\nimport plotly.express as px\\nimport pydot\\nimport tensorflow as tf\\nimport re\\nimport pandas as pd\\nimport sklearn\\nimport tqdm\\nimport matplotlib.pyplot as plt\\nfrom openpyxl import load_workbook\\nfrom sklearn.model_selection import train_test_split\\nimport numpy as np\\nimport plotly as py'); }\n",
              "    "
            ],
            "text/plain": [
              "<IPython.core.display.Javascript object>"
            ]
          },
          "metadata": {
            "tags": []
          }
        },
        {
          "output_type": "display_data",
          "data": {
            "application/javascript": [
              "\n",
              "        if (window._pyforest_update_imports_cell) { window._pyforest_update_imports_cell('import lightgbm as lgb\\nimport plotly.express as px\\nimport pydot\\nimport tensorflow as tf\\nimport re\\nimport pandas as pd\\nimport sklearn\\nimport tqdm\\nimport matplotlib.pyplot as plt\\nfrom openpyxl import load_workbook\\nfrom sklearn.model_selection import train_test_split\\nimport numpy as np\\nimport plotly as py'); }\n",
              "    "
            ],
            "text/plain": [
              "<IPython.core.display.Javascript object>"
            ]
          },
          "metadata": {
            "tags": []
          }
        },
        {
          "output_type": "display_data",
          "data": {
            "application/javascript": [
              "\n",
              "        if (window._pyforest_update_imports_cell) { window._pyforest_update_imports_cell('import lightgbm as lgb\\nimport plotly.express as px\\nimport pydot\\nimport tensorflow as tf\\nimport re\\nimport pandas as pd\\nimport sklearn\\nimport tqdm\\nimport matplotlib.pyplot as plt\\nfrom openpyxl import load_workbook\\nfrom sklearn.model_selection import train_test_split\\nimport numpy as np\\nimport plotly as py'); }\n",
              "    "
            ],
            "text/plain": [
              "<IPython.core.display.Javascript object>"
            ]
          },
          "metadata": {
            "tags": []
          }
        },
        {
          "output_type": "display_data",
          "data": {
            "application/javascript": [
              "\n",
              "        if (window._pyforest_update_imports_cell) { window._pyforest_update_imports_cell('import lightgbm as lgb\\nimport plotly.express as px\\nimport pydot\\nimport tensorflow as tf\\nimport re\\nimport pandas as pd\\nimport sklearn\\nimport tqdm\\nimport matplotlib.pyplot as plt\\nfrom openpyxl import load_workbook\\nfrom sklearn.model_selection import train_test_split\\nimport numpy as np\\nimport plotly as py'); }\n",
              "    "
            ],
            "text/plain": [
              "<IPython.core.display.Javascript object>"
            ]
          },
          "metadata": {
            "tags": []
          }
        },
        {
          "output_type": "display_data",
          "data": {
            "application/javascript": [
              "\n",
              "        if (window._pyforest_update_imports_cell) { window._pyforest_update_imports_cell('import lightgbm as lgb\\nimport plotly.express as px\\nimport pydot\\nimport tensorflow as tf\\nimport re\\nimport pandas as pd\\nimport sklearn\\nimport tqdm\\nimport matplotlib.pyplot as plt\\nfrom openpyxl import load_workbook\\nfrom sklearn.model_selection import train_test_split\\nimport numpy as np\\nimport plotly as py'); }\n",
              "    "
            ],
            "text/plain": [
              "<IPython.core.display.Javascript object>"
            ]
          },
          "metadata": {
            "tags": []
          }
        },
        {
          "output_type": "display_data",
          "data": {
            "application/javascript": [
              "\n",
              "        if (window._pyforest_update_imports_cell) { window._pyforest_update_imports_cell('import lightgbm as lgb\\nimport plotly.express as px\\nimport pydot\\nimport tensorflow as tf\\nimport re\\nimport pandas as pd\\nimport sklearn\\nimport tqdm\\nimport matplotlib.pyplot as plt\\nfrom openpyxl import load_workbook\\nfrom sklearn.model_selection import train_test_split\\nimport numpy as np\\nimport plotly as py'); }\n",
              "    "
            ],
            "text/plain": [
              "<IPython.core.display.Javascript object>"
            ]
          },
          "metadata": {
            "tags": []
          }
        },
        {
          "output_type": "display_data",
          "data": {
            "application/javascript": [
              "\n",
              "        if (window._pyforest_update_imports_cell) { window._pyforest_update_imports_cell('import lightgbm as lgb\\nimport plotly.express as px\\nimport pydot\\nimport tensorflow as tf\\nimport re\\nimport pandas as pd\\nimport sklearn\\nimport tqdm\\nimport matplotlib.pyplot as plt\\nfrom openpyxl import load_workbook\\nfrom sklearn.model_selection import train_test_split\\nimport numpy as np\\nimport plotly as py'); }\n",
              "    "
            ],
            "text/plain": [
              "<IPython.core.display.Javascript object>"
            ]
          },
          "metadata": {
            "tags": []
          }
        },
        {
          "output_type": "display_data",
          "data": {
            "application/javascript": [
              "\n",
              "        if (window._pyforest_update_imports_cell) { window._pyforest_update_imports_cell('import lightgbm as lgb\\nimport plotly.express as px\\nimport pydot\\nimport tensorflow as tf\\nimport re\\nimport pandas as pd\\nimport sklearn\\nimport tqdm\\nimport matplotlib.pyplot as plt\\nfrom openpyxl import load_workbook\\nfrom sklearn.model_selection import train_test_split\\nimport numpy as np\\nimport plotly as py'); }\n",
              "    "
            ],
            "text/plain": [
              "<IPython.core.display.Javascript object>"
            ]
          },
          "metadata": {
            "tags": []
          }
        },
        {
          "output_type": "display_data",
          "data": {
            "application/javascript": [
              "\n",
              "        if (window._pyforest_update_imports_cell) { window._pyforest_update_imports_cell('import lightgbm as lgb\\nimport plotly.express as px\\nimport pydot\\nimport tensorflow as tf\\nimport re\\nimport pandas as pd\\nimport sklearn\\nimport tqdm\\nimport matplotlib.pyplot as plt\\nfrom openpyxl import load_workbook\\nfrom sklearn.model_selection import train_test_split\\nimport numpy as np\\nimport plotly as py'); }\n",
              "    "
            ],
            "text/plain": [
              "<IPython.core.display.Javascript object>"
            ]
          },
          "metadata": {
            "tags": []
          }
        },
        {
          "output_type": "display_data",
          "data": {
            "application/javascript": [
              "\n",
              "        if (window._pyforest_update_imports_cell) { window._pyforest_update_imports_cell('import lightgbm as lgb\\nimport plotly.express as px\\nimport pydot\\nimport tensorflow as tf\\nimport re\\nimport pandas as pd\\nimport sklearn\\nimport tqdm\\nimport matplotlib.pyplot as plt\\nfrom openpyxl import load_workbook\\nfrom sklearn.model_selection import train_test_split\\nimport numpy as np\\nimport plotly as py'); }\n",
              "    "
            ],
            "text/plain": [
              "<IPython.core.display.Javascript object>"
            ]
          },
          "metadata": {
            "tags": []
          }
        },
        {
          "output_type": "display_data",
          "data": {
            "application/javascript": [
              "\n",
              "        if (window._pyforest_update_imports_cell) { window._pyforest_update_imports_cell('import lightgbm as lgb\\nimport plotly.express as px\\nimport pydot\\nimport tensorflow as tf\\nimport re\\nimport pandas as pd\\nimport sklearn\\nimport tqdm\\nimport matplotlib.pyplot as plt\\nfrom openpyxl import load_workbook\\nfrom sklearn.model_selection import train_test_split\\nimport numpy as np\\nimport plotly as py'); }\n",
              "    "
            ],
            "text/plain": [
              "<IPython.core.display.Javascript object>"
            ]
          },
          "metadata": {
            "tags": []
          }
        },
        {
          "output_type": "display_data",
          "data": {
            "application/javascript": [
              "\n",
              "        if (window._pyforest_update_imports_cell) { window._pyforest_update_imports_cell('import lightgbm as lgb\\nimport plotly.express as px\\nimport pydot\\nimport tensorflow as tf\\nimport re\\nimport pandas as pd\\nimport sklearn\\nimport tqdm\\nimport matplotlib.pyplot as plt\\nfrom openpyxl import load_workbook\\nfrom sklearn.model_selection import train_test_split\\nimport numpy as np\\nimport plotly as py'); }\n",
              "    "
            ],
            "text/plain": [
              "<IPython.core.display.Javascript object>"
            ]
          },
          "metadata": {
            "tags": []
          }
        },
        {
          "output_type": "display_data",
          "data": {
            "application/javascript": [
              "\n",
              "        if (window._pyforest_update_imports_cell) { window._pyforest_update_imports_cell('import lightgbm as lgb\\nimport plotly.express as px\\nimport pydot\\nimport tensorflow as tf\\nimport re\\nimport pandas as pd\\nimport sklearn\\nimport tqdm\\nimport matplotlib.pyplot as plt\\nfrom openpyxl import load_workbook\\nfrom sklearn.model_selection import train_test_split\\nimport numpy as np\\nimport plotly as py'); }\n",
              "    "
            ],
            "text/plain": [
              "<IPython.core.display.Javascript object>"
            ]
          },
          "metadata": {
            "tags": []
          }
        },
        {
          "output_type": "display_data",
          "data": {
            "application/javascript": [
              "\n",
              "        if (window._pyforest_update_imports_cell) { window._pyforest_update_imports_cell('import lightgbm as lgb\\nimport plotly.express as px\\nimport pydot\\nimport tensorflow as tf\\nimport re\\nimport pandas as pd\\nimport sklearn\\nimport tqdm\\nimport matplotlib.pyplot as plt\\nfrom openpyxl import load_workbook\\nfrom sklearn.model_selection import train_test_split\\nimport numpy as np\\nimport plotly as py'); }\n",
              "    "
            ],
            "text/plain": [
              "<IPython.core.display.Javascript object>"
            ]
          },
          "metadata": {
            "tags": []
          }
        },
        {
          "output_type": "display_data",
          "data": {
            "application/javascript": [
              "\n",
              "        if (window._pyforest_update_imports_cell) { window._pyforest_update_imports_cell('import lightgbm as lgb\\nimport plotly.express as px\\nimport pydot\\nimport tensorflow as tf\\nimport re\\nimport pandas as pd\\nimport sklearn\\nimport tqdm\\nimport matplotlib.pyplot as plt\\nfrom openpyxl import load_workbook\\nfrom sklearn.model_selection import train_test_split\\nimport numpy as np\\nimport plotly as py'); }\n",
              "    "
            ],
            "text/plain": [
              "<IPython.core.display.Javascript object>"
            ]
          },
          "metadata": {
            "tags": []
          }
        },
        {
          "output_type": "display_data",
          "data": {
            "application/javascript": [
              "\n",
              "        if (window._pyforest_update_imports_cell) { window._pyforest_update_imports_cell('import lightgbm as lgb\\nimport plotly.express as px\\nimport pydot\\nimport tensorflow as tf\\nimport re\\nimport pandas as pd\\nimport sklearn\\nimport tqdm\\nimport matplotlib.pyplot as plt\\nfrom openpyxl import load_workbook\\nfrom sklearn.model_selection import train_test_split\\nimport numpy as np\\nimport plotly as py'); }\n",
              "    "
            ],
            "text/plain": [
              "<IPython.core.display.Javascript object>"
            ]
          },
          "metadata": {
            "tags": []
          }
        },
        {
          "output_type": "display_data",
          "data": {
            "application/javascript": [
              "\n",
              "        if (window._pyforest_update_imports_cell) { window._pyforest_update_imports_cell('import lightgbm as lgb\\nimport plotly.express as px\\nimport pydot\\nimport tensorflow as tf\\nimport re\\nimport pandas as pd\\nimport sklearn\\nimport tqdm\\nimport matplotlib.pyplot as plt\\nfrom openpyxl import load_workbook\\nfrom sklearn.model_selection import train_test_split\\nimport numpy as np\\nimport plotly as py'); }\n",
              "    "
            ],
            "text/plain": [
              "<IPython.core.display.Javascript object>"
            ]
          },
          "metadata": {
            "tags": []
          }
        },
        {
          "output_type": "display_data",
          "data": {
            "image/png": "[encoded data removed]",
            "text/plain": [
              "<Figure size 1008x360 with 2 Axes>"
            ]
          },
          "metadata": {
            "tags": []
          }
        }
      ]
    },
    {
      "cell_type": "code",
      "metadata": {
        "id": "BTRbiXFOUF0P",
        "outputId": "923baa2a-9ca9-41d8-caff-44c4fa66f5e6",
        "colab": {
          "base_uri": "https://localhost:8080/",
          "height": 369
        }
      },
      "source": [
        "plt.figure(figsize=(14,5))\n",
        "\n",
        "lag_acf = acf(train_trans.es, nlags=36, fft=False) \n",
        "lag_pacf = pacf(train_trans.es, method = 'ols', nlags=36)\n",
        "\n",
        "#Plot ACF:\n",
        "plt.subplot(121)\n",
        "plt.plot(lag_acf)\n",
        "plt.axhline(y=0,linestyle='--',color='gray')\n",
        "plt.axhline(y=-1.96/np.sqrt(len(train_trans.es)),linestyle='--',color='gray')\n",
        "plt.axhline(y=1.96/np.sqrt(len(train_trans.es)),linestyle='--',color='gray')\n",
        "plt.title('ACF: ES')\n",
        "\n",
        "#Plot PACF:\n",
        "plt.subplot(122)\n",
        "plt.plot(lag_pacf)\n",
        "plt.axhline(y=0,linestyle='--',color='gray')\n",
        "plt.axhline(y=-1.96/np.sqrt(len(train_trans.es)),linestyle='--',color='gray')\n",
        "plt.axhline(y=1.96/np.sqrt(len(train_trans.es)),linestyle='--',color='gray')\n",
        "plt.title('PACF:ES')\n",
        "plt.tight_layout()"
      ],
      "execution_count": 107,
      "outputs": [
        {
          "output_type": "display_data",
          "data": {
            "application/javascript": [
              "\n",
              "        if (window._pyforest_update_imports_cell) { window._pyforest_update_imports_cell('import lightgbm as lgb\\nimport plotly.express as px\\nimport pydot\\nimport tensorflow as tf\\nimport re\\nimport pandas as pd\\nimport sklearn\\nimport tqdm\\nimport matplotlib.pyplot as plt\\nfrom openpyxl import load_workbook\\nfrom sklearn.model_selection import train_test_split\\nimport numpy as np\\nimport plotly as py'); }\n",
              "    "
            ],
            "text/plain": [
              "<IPython.core.display.Javascript object>"
            ]
          },
          "metadata": {
            "tags": []
          }
        },
        {
          "output_type": "display_data",
          "data": {
            "application/javascript": [
              "\n",
              "        if (window._pyforest_update_imports_cell) { window._pyforest_update_imports_cell('import lightgbm as lgb\\nimport plotly.express as px\\nimport pydot\\nimport tensorflow as tf\\nimport re\\nimport pandas as pd\\nimport sklearn\\nimport tqdm\\nimport matplotlib.pyplot as plt\\nfrom openpyxl import load_workbook\\nfrom sklearn.model_selection import train_test_split\\nimport numpy as np\\nimport plotly as py'); }\n",
              "    "
            ],
            "text/plain": [
              "<IPython.core.display.Javascript object>"
            ]
          },
          "metadata": {
            "tags": []
          }
        },
        {
          "output_type": "display_data",
          "data": {
            "application/javascript": [
              "\n",
              "        if (window._pyforest_update_imports_cell) { window._pyforest_update_imports_cell('import lightgbm as lgb\\nimport plotly.express as px\\nimport pydot\\nimport tensorflow as tf\\nimport re\\nimport pandas as pd\\nimport sklearn\\nimport tqdm\\nimport matplotlib.pyplot as plt\\nfrom openpyxl import load_workbook\\nfrom sklearn.model_selection import train_test_split\\nimport numpy as np\\nimport plotly as py'); }\n",
              "    "
            ],
            "text/plain": [
              "<IPython.core.display.Javascript object>"
            ]
          },
          "metadata": {
            "tags": []
          }
        },
        {
          "output_type": "display_data",
          "data": {
            "application/javascript": [
              "\n",
              "        if (window._pyforest_update_imports_cell) { window._pyforest_update_imports_cell('import lightgbm as lgb\\nimport plotly.express as px\\nimport pydot\\nimport tensorflow as tf\\nimport re\\nimport pandas as pd\\nimport sklearn\\nimport tqdm\\nimport matplotlib.pyplot as plt\\nfrom openpyxl import load_workbook\\nfrom sklearn.model_selection import train_test_split\\nimport numpy as np\\nimport plotly as py'); }\n",
              "    "
            ],
            "text/plain": [
              "<IPython.core.display.Javascript object>"
            ]
          },
          "metadata": {
            "tags": []
          }
        },
        {
          "output_type": "display_data",
          "data": {
            "application/javascript": [
              "\n",
              "        if (window._pyforest_update_imports_cell) { window._pyforest_update_imports_cell('import lightgbm as lgb\\nimport plotly.express as px\\nimport pydot\\nimport tensorflow as tf\\nimport re\\nimport pandas as pd\\nimport sklearn\\nimport tqdm\\nimport matplotlib.pyplot as plt\\nfrom openpyxl import load_workbook\\nfrom sklearn.model_selection import train_test_split\\nimport numpy as np\\nimport plotly as py'); }\n",
              "    "
            ],
            "text/plain": [
              "<IPython.core.display.Javascript object>"
            ]
          },
          "metadata": {
            "tags": []
          }
        },
        {
          "output_type": "display_data",
          "data": {
            "application/javascript": [
              "\n",
              "        if (window._pyforest_update_imports_cell) { window._pyforest_update_imports_cell('import lightgbm as lgb\\nimport plotly.express as px\\nimport pydot\\nimport tensorflow as tf\\nimport re\\nimport pandas as pd\\nimport sklearn\\nimport tqdm\\nimport matplotlib.pyplot as plt\\nfrom openpyxl import load_workbook\\nfrom sklearn.model_selection import train_test_split\\nimport numpy as np\\nimport plotly as py'); }\n",
              "    "
            ],
            "text/plain": [
              "<IPython.core.display.Javascript object>"
            ]
          },
          "metadata": {
            "tags": []
          }
        },
        {
          "output_type": "display_data",
          "data": {
            "application/javascript": [
              "\n",
              "        if (window._pyforest_update_imports_cell) { window._pyforest_update_imports_cell('import lightgbm as lgb\\nimport plotly.express as px\\nimport pydot\\nimport tensorflow as tf\\nimport re\\nimport pandas as pd\\nimport sklearn\\nimport tqdm\\nimport matplotlib.pyplot as plt\\nfrom openpyxl import load_workbook\\nfrom sklearn.model_selection import train_test_split\\nimport numpy as np\\nimport plotly as py'); }\n",
              "    "
            ],
            "text/plain": [
              "<IPython.core.display.Javascript object>"
            ]
          },
          "metadata": {
            "tags": []
          }
        },
        {
          "output_type": "display_data",
          "data": {
            "application/javascript": [
              "\n",
              "        if (window._pyforest_update_imports_cell) { window._pyforest_update_imports_cell('import lightgbm as lgb\\nimport plotly.express as px\\nimport pydot\\nimport tensorflow as tf\\nimport re\\nimport pandas as pd\\nimport sklearn\\nimport tqdm\\nimport matplotlib.pyplot as plt\\nfrom openpyxl import load_workbook\\nfrom sklearn.model_selection import train_test_split\\nimport numpy as np\\nimport plotly as py'); }\n",
              "    "
            ],
            "text/plain": [
              "<IPython.core.display.Javascript object>"
            ]
          },
          "metadata": {
            "tags": []
          }
        },
        {
          "output_type": "display_data",
          "data": {
            "application/javascript": [
              "\n",
              "        if (window._pyforest_update_imports_cell) { window._pyforest_update_imports_cell('import lightgbm as lgb\\nimport plotly.express as px\\nimport pydot\\nimport tensorflow as tf\\nimport re\\nimport pandas as pd\\nimport sklearn\\nimport tqdm\\nimport matplotlib.pyplot as plt\\nfrom openpyxl import load_workbook\\nfrom sklearn.model_selection import train_test_split\\nimport numpy as np\\nimport plotly as py'); }\n",
              "    "
            ],
            "text/plain": [
              "<IPython.core.display.Javascript object>"
            ]
          },
          "metadata": {
            "tags": []
          }
        },
        {
          "output_type": "display_data",
          "data": {
            "application/javascript": [
              "\n",
              "        if (window._pyforest_update_imports_cell) { window._pyforest_update_imports_cell('import lightgbm as lgb\\nimport plotly.express as px\\nimport pydot\\nimport tensorflow as tf\\nimport re\\nimport pandas as pd\\nimport sklearn\\nimport tqdm\\nimport matplotlib.pyplot as plt\\nfrom openpyxl import load_workbook\\nfrom sklearn.model_selection import train_test_split\\nimport numpy as np\\nimport plotly as py'); }\n",
              "    "
            ],
            "text/plain": [
              "<IPython.core.display.Javascript object>"
            ]
          },
          "metadata": {
            "tags": []
          }
        },
        {
          "output_type": "display_data",
          "data": {
            "application/javascript": [
              "\n",
              "        if (window._pyforest_update_imports_cell) { window._pyforest_update_imports_cell('import lightgbm as lgb\\nimport plotly.express as px\\nimport pydot\\nimport tensorflow as tf\\nimport re\\nimport pandas as pd\\nimport sklearn\\nimport tqdm\\nimport matplotlib.pyplot as plt\\nfrom openpyxl import load_workbook\\nfrom sklearn.model_selection import train_test_split\\nimport numpy as np\\nimport plotly as py'); }\n",
              "    "
            ],
            "text/plain": [
              "<IPython.core.display.Javascript object>"
            ]
          },
          "metadata": {
            "tags": []
          }
        },
        {
          "output_type": "display_data",
          "data": {
            "application/javascript": [
              "\n",
              "        if (window._pyforest_update_imports_cell) { window._pyforest_update_imports_cell('import lightgbm as lgb\\nimport plotly.express as px\\nimport pydot\\nimport tensorflow as tf\\nimport re\\nimport pandas as pd\\nimport sklearn\\nimport tqdm\\nimport matplotlib.pyplot as plt\\nfrom openpyxl import load_workbook\\nfrom sklearn.model_selection import train_test_split\\nimport numpy as np\\nimport plotly as py'); }\n",
              "    "
            ],
            "text/plain": [
              "<IPython.core.display.Javascript object>"
            ]
          },
          "metadata": {
            "tags": []
          }
        },
        {
          "output_type": "display_data",
          "data": {
            "application/javascript": [
              "\n",
              "        if (window._pyforest_update_imports_cell) { window._pyforest_update_imports_cell('import lightgbm as lgb\\nimport plotly.express as px\\nimport pydot\\nimport tensorflow as tf\\nimport re\\nimport pandas as pd\\nimport sklearn\\nimport tqdm\\nimport matplotlib.pyplot as plt\\nfrom openpyxl import load_workbook\\nfrom sklearn.model_selection import train_test_split\\nimport numpy as np\\nimport plotly as py'); }\n",
              "    "
            ],
            "text/plain": [
              "<IPython.core.display.Javascript object>"
            ]
          },
          "metadata": {
            "tags": []
          }
        },
        {
          "output_type": "display_data",
          "data": {
            "application/javascript": [
              "\n",
              "        if (window._pyforest_update_imports_cell) { window._pyforest_update_imports_cell('import lightgbm as lgb\\nimport plotly.express as px\\nimport pydot\\nimport tensorflow as tf\\nimport re\\nimport pandas as pd\\nimport sklearn\\nimport tqdm\\nimport matplotlib.pyplot as plt\\nfrom openpyxl import load_workbook\\nfrom sklearn.model_selection import train_test_split\\nimport numpy as np\\nimport plotly as py'); }\n",
              "    "
            ],
            "text/plain": [
              "<IPython.core.display.Javascript object>"
            ]
          },
          "metadata": {
            "tags": []
          }
        },
        {
          "output_type": "display_data",
          "data": {
            "application/javascript": [
              "\n",
              "        if (window._pyforest_update_imports_cell) { window._pyforest_update_imports_cell('import lightgbm as lgb\\nimport plotly.express as px\\nimport pydot\\nimport tensorflow as tf\\nimport re\\nimport pandas as pd\\nimport sklearn\\nimport tqdm\\nimport matplotlib.pyplot as plt\\nfrom openpyxl import load_workbook\\nfrom sklearn.model_selection import train_test_split\\nimport numpy as np\\nimport plotly as py'); }\n",
              "    "
            ],
            "text/plain": [
              "<IPython.core.display.Javascript object>"
            ]
          },
          "metadata": {
            "tags": []
          }
        },
        {
          "output_type": "display_data",
          "data": {
            "application/javascript": [
              "\n",
              "        if (window._pyforest_update_imports_cell) { window._pyforest_update_imports_cell('import lightgbm as lgb\\nimport plotly.express as px\\nimport pydot\\nimport tensorflow as tf\\nimport re\\nimport pandas as pd\\nimport sklearn\\nimport tqdm\\nimport matplotlib.pyplot as plt\\nfrom openpyxl import load_workbook\\nfrom sklearn.model_selection import train_test_split\\nimport numpy as np\\nimport plotly as py'); }\n",
              "    "
            ],
            "text/plain": [
              "<IPython.core.display.Javascript object>"
            ]
          },
          "metadata": {
            "tags": []
          }
        },
        {
          "output_type": "display_data",
          "data": {
            "application/javascript": [
              "\n",
              "        if (window._pyforest_update_imports_cell) { window._pyforest_update_imports_cell('import lightgbm as lgb\\nimport plotly.express as px\\nimport pydot\\nimport tensorflow as tf\\nimport re\\nimport pandas as pd\\nimport sklearn\\nimport tqdm\\nimport matplotlib.pyplot as plt\\nfrom openpyxl import load_workbook\\nfrom sklearn.model_selection import train_test_split\\nimport numpy as np\\nimport plotly as py'); }\n",
              "    "
            ],
            "text/plain": [
              "<IPython.core.display.Javascript object>"
            ]
          },
          "metadata": {
            "tags": []
          }
        },
        {
          "output_type": "display_data",
          "data": {
            "application/javascript": [
              "\n",
              "        if (window._pyforest_update_imports_cell) { window._pyforest_update_imports_cell('import lightgbm as lgb\\nimport plotly.express as px\\nimport pydot\\nimport tensorflow as tf\\nimport re\\nimport pandas as pd\\nimport sklearn\\nimport tqdm\\nimport matplotlib.pyplot as plt\\nfrom openpyxl import load_workbook\\nfrom sklearn.model_selection import train_test_split\\nimport numpy as np\\nimport plotly as py'); }\n",
              "    "
            ],
            "text/plain": [
              "<IPython.core.display.Javascript object>"
            ]
          },
          "metadata": {
            "tags": []
          }
        },
        {
          "output_type": "display_data",
          "data": {
            "image/png": "[encoded data removed]",
            "text/plain": [
              "<Figure size 1008x360 with 2 Axes>"
            ]
          },
          "metadata": {
            "tags": []
          }
        }
      ]
    },
    {
      "cell_type": "code",
      "metadata": {
        "id": "0wgHQZ7VUTeb",
        "outputId": "fb3c24f7-1514-4dbd-9c20-c23342eca6c1",
        "colab": {
          "base_uri": "https://localhost:8080/",
          "height": 369
        }
      },
      "source": [
        "plt.figure(figsize=(14,5))\n",
        "\n",
        "lag_acf = acf(train_trans.gc, nlags=36, fft=False) \n",
        "lag_pacf = pacf(train_trans.gc, method = 'ols', nlags=36)\n",
        "\n",
        "#Plot ACF:\n",
        "plt.subplot(121)\n",
        "plt.plot(lag_acf)\n",
        "plt.axhline(y=0,linestyle='--',color='gray')\n",
        "plt.axhline(y=-1.96/np.sqrt(len(train_trans.gc)),linestyle='--',color='gray')\n",
        "plt.axhline(y=1.96/np.sqrt(len(train_trans.gc)),linestyle='--',color='gray')\n",
        "plt.title('ACF:GC')\n",
        "\n",
        "#Plot PACF:\n",
        "plt.subplot(122)\n",
        "plt.plot(lag_pacf)\n",
        "plt.axhline(y=0,linestyle='--',color='gray')\n",
        "plt.axhline(y=-1.96/np.sqrt(len(train_trans.gc)),linestyle='--',color='gray')\n",
        "plt.axhline(y=1.96/np.sqrt(len(train_trans.gc)),linestyle='--',color='gray')\n",
        "plt.title('PACF:GC')\n",
        "plt.tight_layout()"
      ],
      "execution_count": 108,
      "outputs": [
        {
          "output_type": "display_data",
          "data": {
            "application/javascript": [
              "\n",
              "        if (window._pyforest_update_imports_cell) { window._pyforest_update_imports_cell('import lightgbm as lgb\\nimport plotly.express as px\\nimport pydot\\nimport tensorflow as tf\\nimport re\\nimport pandas as pd\\nimport sklearn\\nimport tqdm\\nimport matplotlib.pyplot as plt\\nfrom openpyxl import load_workbook\\nfrom sklearn.model_selection import train_test_split\\nimport numpy as np\\nimport plotly as py'); }\n",
              "    "
            ],
            "text/plain": [
              "<IPython.core.display.Javascript object>"
            ]
          },
          "metadata": {
            "tags": []
          }
        },
        {
          "output_type": "display_data",
          "data": {
            "application/javascript": [
              "\n",
              "        if (window._pyforest_update_imports_cell) { window._pyforest_update_imports_cell('import lightgbm as lgb\\nimport plotly.express as px\\nimport pydot\\nimport tensorflow as tf\\nimport re\\nimport pandas as pd\\nimport sklearn\\nimport tqdm\\nimport matplotlib.pyplot as plt\\nfrom openpyxl import load_workbook\\nfrom sklearn.model_selection import train_test_split\\nimport numpy as np\\nimport plotly as py'); }\n",
              "    "
            ],
            "text/plain": [
              "<IPython.core.display.Javascript object>"
            ]
          },
          "metadata": {
            "tags": []
          }
        },
        {
          "output_type": "display_data",
          "data": {
            "application/javascript": [
              "\n",
              "        if (window._pyforest_update_imports_cell) { window._pyforest_update_imports_cell('import lightgbm as lgb\\nimport plotly.express as px\\nimport pydot\\nimport tensorflow as tf\\nimport re\\nimport pandas as pd\\nimport sklearn\\nimport tqdm\\nimport matplotlib.pyplot as plt\\nfrom openpyxl import load_workbook\\nfrom sklearn.model_selection import train_test_split\\nimport numpy as np\\nimport plotly as py'); }\n",
              "    "
            ],
            "text/plain": [
              "<IPython.core.display.Javascript object>"
            ]
          },
          "metadata": {
            "tags": []
          }
        },
        {
          "output_type": "display_data",
          "data": {
            "application/javascript": [
              "\n",
              "        if (window._pyforest_update_imports_cell) { window._pyforest_update_imports_cell('import lightgbm as lgb\\nimport plotly.express as px\\nimport pydot\\nimport tensorflow as tf\\nimport re\\nimport pandas as pd\\nimport sklearn\\nimport tqdm\\nimport matplotlib.pyplot as plt\\nfrom openpyxl import load_workbook\\nfrom sklearn.model_selection import train_test_split\\nimport numpy as np\\nimport plotly as py'); }\n",
              "    "
            ],
            "text/plain": [
              "<IPython.core.display.Javascript object>"
            ]
          },
          "metadata": {
            "tags": []
          }
        },
        {
          "output_type": "display_data",
          "data": {
            "application/javascript": [
              "\n",
              "        if (window._pyforest_update_imports_cell) { window._pyforest_update_imports_cell('import lightgbm as lgb\\nimport plotly.express as px\\nimport pydot\\nimport tensorflow as tf\\nimport re\\nimport pandas as pd\\nimport sklearn\\nimport tqdm\\nimport matplotlib.pyplot as plt\\nfrom openpyxl import load_workbook\\nfrom sklearn.model_selection import train_test_split\\nimport numpy as np\\nimport plotly as py'); }\n",
              "    "
            ],
            "text/plain": [
              "<IPython.core.display.Javascript object>"
            ]
          },
          "metadata": {
            "tags": []
          }
        },
        {
          "output_type": "display_data",
          "data": {
            "application/javascript": [
              "\n",
              "        if (window._pyforest_update_imports_cell) { window._pyforest_update_imports_cell('import lightgbm as lgb\\nimport plotly.express as px\\nimport pydot\\nimport tensorflow as tf\\nimport re\\nimport pandas as pd\\nimport sklearn\\nimport tqdm\\nimport matplotlib.pyplot as plt\\nfrom openpyxl import load_workbook\\nfrom sklearn.model_selection import train_test_split\\nimport numpy as np\\nimport plotly as py'); }\n",
              "    "
            ],
            "text/plain": [
              "<IPython.core.display.Javascript object>"
            ]
          },
          "metadata": {
            "tags": []
          }
        },
        {
          "output_type": "display_data",
          "data": {
            "application/javascript": [
              "\n",
              "        if (window._pyforest_update_imports_cell) { window._pyforest_update_imports_cell('import lightgbm as lgb\\nimport plotly.express as px\\nimport pydot\\nimport tensorflow as tf\\nimport re\\nimport pandas as pd\\nimport sklearn\\nimport tqdm\\nimport matplotlib.pyplot as plt\\nfrom openpyxl import load_workbook\\nfrom sklearn.model_selection import train_test_split\\nimport numpy as np\\nimport plotly as py'); }\n",
              "    "
            ],
            "text/plain": [
              "<IPython.core.display.Javascript object>"
            ]
          },
          "metadata": {
            "tags": []
          }
        },
        {
          "output_type": "display_data",
          "data": {
            "application/javascript": [
              "\n",
              "        if (window._pyforest_update_imports_cell) { window._pyforest_update_imports_cell('import lightgbm as lgb\\nimport plotly.express as px\\nimport pydot\\nimport tensorflow as tf\\nimport re\\nimport pandas as pd\\nimport sklearn\\nimport tqdm\\nimport matplotlib.pyplot as plt\\nfrom openpyxl import load_workbook\\nfrom sklearn.model_selection import train_test_split\\nimport numpy as np\\nimport plotly as py'); }\n",
              "    "
            ],
            "text/plain": [
              "<IPython.core.display.Javascript object>"
            ]
          },
          "metadata": {
            "tags": []
          }
        },
        {
          "output_type": "display_data",
          "data": {
            "application/javascript": [
              "\n",
              "        if (window._pyforest_update_imports_cell) { window._pyforest_update_imports_cell('import lightgbm as lgb\\nimport plotly.express as px\\nimport pydot\\nimport tensorflow as tf\\nimport re\\nimport pandas as pd\\nimport sklearn\\nimport tqdm\\nimport matplotlib.pyplot as plt\\nfrom openpyxl import load_workbook\\nfrom sklearn.model_selection import train_test_split\\nimport numpy as np\\nimport plotly as py'); }\n",
              "    "
            ],
            "text/plain": [
              "<IPython.core.display.Javascript object>"
            ]
          },
          "metadata": {
            "tags": []
          }
        },
        {
          "output_type": "display_data",
          "data": {
            "application/javascript": [
              "\n",
              "        if (window._pyforest_update_imports_cell) { window._pyforest_update_imports_cell('import lightgbm as lgb\\nimport plotly.express as px\\nimport pydot\\nimport tensorflow as tf\\nimport re\\nimport pandas as pd\\nimport sklearn\\nimport tqdm\\nimport matplotlib.pyplot as plt\\nfrom openpyxl import load_workbook\\nfrom sklearn.model_selection import train_test_split\\nimport numpy as np\\nimport plotly as py'); }\n",
              "    "
            ],
            "text/plain": [
              "<IPython.core.display.Javascript object>"
            ]
          },
          "metadata": {
            "tags": []
          }
        },
        {
          "output_type": "display_data",
          "data": {
            "application/javascript": [
              "\n",
              "        if (window._pyforest_update_imports_cell) { window._pyforest_update_imports_cell('import lightgbm as lgb\\nimport plotly.express as px\\nimport pydot\\nimport tensorflow as tf\\nimport re\\nimport pandas as pd\\nimport sklearn\\nimport tqdm\\nimport matplotlib.pyplot as plt\\nfrom openpyxl import load_workbook\\nfrom sklearn.model_selection import train_test_split\\nimport numpy as np\\nimport plotly as py'); }\n",
              "    "
            ],
            "text/plain": [
              "<IPython.core.display.Javascript object>"
            ]
          },
          "metadata": {
            "tags": []
          }
        },
        {
          "output_type": "display_data",
          "data": {
            "application/javascript": [
              "\n",
              "        if (window._pyforest_update_imports_cell) { window._pyforest_update_imports_cell('import lightgbm as lgb\\nimport plotly.express as px\\nimport pydot\\nimport tensorflow as tf\\nimport re\\nimport pandas as pd\\nimport sklearn\\nimport tqdm\\nimport matplotlib.pyplot as plt\\nfrom openpyxl import load_workbook\\nfrom sklearn.model_selection import train_test_split\\nimport numpy as np\\nimport plotly as py'); }\n",
              "    "
            ],
            "text/plain": [
              "<IPython.core.display.Javascript object>"
            ]
          },
          "metadata": {
            "tags": []
          }
        },
        {
          "output_type": "display_data",
          "data": {
            "application/javascript": [
              "\n",
              "        if (window._pyforest_update_imports_cell) { window._pyforest_update_imports_cell('import lightgbm as lgb\\nimport plotly.express as px\\nimport pydot\\nimport tensorflow as tf\\nimport re\\nimport pandas as pd\\nimport sklearn\\nimport tqdm\\nimport matplotlib.pyplot as plt\\nfrom openpyxl import load_workbook\\nfrom sklearn.model_selection import train_test_split\\nimport numpy as np\\nimport plotly as py'); }\n",
              "    "
            ],
            "text/plain": [
              "<IPython.core.display.Javascript object>"
            ]
          },
          "metadata": {
            "tags": []
          }
        },
        {
          "output_type": "display_data",
          "data": {
            "application/javascript": [
              "\n",
              "        if (window._pyforest_update_imports_cell) { window._pyforest_update_imports_cell('import lightgbm as lgb\\nimport plotly.express as px\\nimport pydot\\nimport tensorflow as tf\\nimport re\\nimport pandas as pd\\nimport sklearn\\nimport tqdm\\nimport matplotlib.pyplot as plt\\nfrom openpyxl import load_workbook\\nfrom sklearn.model_selection import train_test_split\\nimport numpy as np\\nimport plotly as py'); }\n",
              "    "
            ],
            "text/plain": [
              "<IPython.core.display.Javascript object>"
            ]
          },
          "metadata": {
            "tags": []
          }
        },
        {
          "output_type": "display_data",
          "data": {
            "application/javascript": [
              "\n",
              "        if (window._pyforest_update_imports_cell) { window._pyforest_update_imports_cell('import lightgbm as lgb\\nimport plotly.express as px\\nimport pydot\\nimport tensorflow as tf\\nimport re\\nimport pandas as pd\\nimport sklearn\\nimport tqdm\\nimport matplotlib.pyplot as plt\\nfrom openpyxl import load_workbook\\nfrom sklearn.model_selection import train_test_split\\nimport numpy as np\\nimport plotly as py'); }\n",
              "    "
            ],
            "text/plain": [
              "<IPython.core.display.Javascript object>"
            ]
          },
          "metadata": {
            "tags": []
          }
        },
        {
          "output_type": "display_data",
          "data": {
            "application/javascript": [
              "\n",
              "        if (window._pyforest_update_imports_cell) { window._pyforest_update_imports_cell('import lightgbm as lgb\\nimport plotly.express as px\\nimport pydot\\nimport tensorflow as tf\\nimport re\\nimport pandas as pd\\nimport sklearn\\nimport tqdm\\nimport matplotlib.pyplot as plt\\nfrom openpyxl import load_workbook\\nfrom sklearn.model_selection import train_test_split\\nimport numpy as np\\nimport plotly as py'); }\n",
              "    "
            ],
            "text/plain": [
              "<IPython.core.display.Javascript object>"
            ]
          },
          "metadata": {
            "tags": []
          }
        },
        {
          "output_type": "display_data",
          "data": {
            "application/javascript": [
              "\n",
              "        if (window._pyforest_update_imports_cell) { window._pyforest_update_imports_cell('import lightgbm as lgb\\nimport plotly.express as px\\nimport pydot\\nimport tensorflow as tf\\nimport re\\nimport pandas as pd\\nimport sklearn\\nimport tqdm\\nimport matplotlib.pyplot as plt\\nfrom openpyxl import load_workbook\\nfrom sklearn.model_selection import train_test_split\\nimport numpy as np\\nimport plotly as py'); }\n",
              "    "
            ],
            "text/plain": [
              "<IPython.core.display.Javascript object>"
            ]
          },
          "metadata": {
            "tags": []
          }
        },
        {
          "output_type": "display_data",
          "data": {
            "application/javascript": [
              "\n",
              "        if (window._pyforest_update_imports_cell) { window._pyforest_update_imports_cell('import lightgbm as lgb\\nimport plotly.express as px\\nimport pydot\\nimport tensorflow as tf\\nimport re\\nimport pandas as pd\\nimport sklearn\\nimport tqdm\\nimport matplotlib.pyplot as plt\\nfrom openpyxl import load_workbook\\nfrom sklearn.model_selection import train_test_split\\nimport numpy as np\\nimport plotly as py'); }\n",
              "    "
            ],
            "text/plain": [
              "<IPython.core.display.Javascript object>"
            ]
          },
          "metadata": {
            "tags": []
          }
        },
        {
          "output_type": "display_data",
          "data": {
            "image/png": "[encoded data removed]",
            "text/plain": [
              "<Figure size 1008x360 with 2 Axes>"
            ]
          },
          "metadata": {
            "tags": []
          }
        }
      ]
    },
    {
      "cell_type": "code",
      "metadata": {
        "id": "739QbXT1Ufob",
        "outputId": "e74a8ff1-8f52-44b0-8427-a737ae0d211b",
        "colab": {
          "base_uri": "https://localhost:8080/",
          "height": 369
        }
      },
      "source": [
        "plt.figure(figsize=(14,5))\n",
        "\n",
        "lag_acf = acf(train_trans.nq, nlags=36,fft=False) \n",
        "lag_pacf = pacf(train_trans.nq, method = 'ols', nlags=36)\n",
        "\n",
        "#Plot ACF:\n",
        "plt.subplot(121)\n",
        "plt.plot(lag_acf)\n",
        "plt.axhline(y=0,linestyle='--',color='gray')\n",
        "plt.axhline(y=-1.96/np.sqrt(len(train_trans.nq)),linestyle='--',color='gray')\n",
        "plt.axhline(y=1.96/np.sqrt(len(train_trans.nq)),linestyle='--',color='gray')\n",
        "plt.title('ACF:NQ')\n",
        "\n",
        "#Plot PACF:\n",
        "plt.subplot(122)\n",
        "plt.plot(lag_pacf)\n",
        "plt.axhline(y=0,linestyle='--',color='gray')\n",
        "plt.axhline(y=-1.96/np.sqrt(len(train_trans.nq)),linestyle='--',color='gray')\n",
        "plt.axhline(y=1.96/np.sqrt(len(train_trans.nq)),linestyle='--',color='gray')\n",
        "plt.title('PACF:NQ')\n",
        "plt.tight_layout()"
      ],
      "execution_count": 109,
      "outputs": [
        {
          "output_type": "display_data",
          "data": {
            "application/javascript": [
              "\n",
              "        if (window._pyforest_update_imports_cell) { window._pyforest_update_imports_cell('import lightgbm as lgb\\nimport plotly.express as px\\nimport pydot\\nimport tensorflow as tf\\nimport re\\nimport pandas as pd\\nimport sklearn\\nimport tqdm\\nimport matplotlib.pyplot as plt\\nfrom openpyxl import load_workbook\\nfrom sklearn.model_selection import train_test_split\\nimport numpy as np\\nimport plotly as py'); }\n",
              "    "
            ],
            "text/plain": [
              "<IPython.core.display.Javascript object>"
            ]
          },
          "metadata": {
            "tags": []
          }
        },
        {
          "output_type": "display_data",
          "data": {
            "application/javascript": [
              "\n",
              "        if (window._pyforest_update_imports_cell) { window._pyforest_update_imports_cell('import lightgbm as lgb\\nimport plotly.express as px\\nimport pydot\\nimport tensorflow as tf\\nimport re\\nimport pandas as pd\\nimport sklearn\\nimport tqdm\\nimport matplotlib.pyplot as plt\\nfrom openpyxl import load_workbook\\nfrom sklearn.model_selection import train_test_split\\nimport numpy as np\\nimport plotly as py'); }\n",
              "    "
            ],
            "text/plain": [
              "<IPython.core.display.Javascript object>"
            ]
          },
          "metadata": {
            "tags": []
          }
        },
        {
          "output_type": "display_data",
          "data": {
            "application/javascript": [
              "\n",
              "        if (window._pyforest_update_imports_cell) { window._pyforest_update_imports_cell('import lightgbm as lgb\\nimport plotly.express as px\\nimport pydot\\nimport tensorflow as tf\\nimport re\\nimport pandas as pd\\nimport sklearn\\nimport tqdm\\nimport matplotlib.pyplot as plt\\nfrom openpyxl import load_workbook\\nfrom sklearn.model_selection import train_test_split\\nimport numpy as np\\nimport plotly as py'); }\n",
              "    "
            ],
            "text/plain": [
              "<IPython.core.display.Javascript object>"
            ]
          },
          "metadata": {
            "tags": []
          }
        },
        {
          "output_type": "display_data",
          "data": {
            "application/javascript": [
              "\n",
              "        if (window._pyforest_update_imports_cell) { window._pyforest_update_imports_cell('import lightgbm as lgb\\nimport plotly.express as px\\nimport pydot\\nimport tensorflow as tf\\nimport re\\nimport pandas as pd\\nimport sklearn\\nimport tqdm\\nimport matplotlib.pyplot as plt\\nfrom openpyxl import load_workbook\\nfrom sklearn.model_selection import train_test_split\\nimport numpy as np\\nimport plotly as py'); }\n",
              "    "
            ],
            "text/plain": [
              "<IPython.core.display.Javascript object>"
            ]
          },
          "metadata": {
            "tags": []
          }
        },
        {
          "output_type": "display_data",
          "data": {
            "application/javascript": [
              "\n",
              "        if (window._pyforest_update_imports_cell) { window._pyforest_update_imports_cell('import lightgbm as lgb\\nimport plotly.express as px\\nimport pydot\\nimport tensorflow as tf\\nimport re\\nimport pandas as pd\\nimport sklearn\\nimport tqdm\\nimport matplotlib.pyplot as plt\\nfrom openpyxl import load_workbook\\nfrom sklearn.model_selection import train_test_split\\nimport numpy as np\\nimport plotly as py'); }\n",
              "    "
            ],
            "text/plain": [
              "<IPython.core.display.Javascript object>"
            ]
          },
          "metadata": {
            "tags": []
          }
        },
        {
          "output_type": "display_data",
          "data": {
            "application/javascript": [
              "\n",
              "        if (window._pyforest_update_imports_cell) { window._pyforest_update_imports_cell('import lightgbm as lgb\\nimport plotly.express as px\\nimport pydot\\nimport tensorflow as tf\\nimport re\\nimport pandas as pd\\nimport sklearn\\nimport tqdm\\nimport matplotlib.pyplot as plt\\nfrom openpyxl import load_workbook\\nfrom sklearn.model_selection import train_test_split\\nimport numpy as np\\nimport plotly as py'); }\n",
              "    "
            ],
            "text/plain": [
              "<IPython.core.display.Javascript object>"
            ]
          },
          "metadata": {
            "tags": []
          }
        },
        {
          "output_type": "display_data",
          "data": {
            "application/javascript": [
              "\n",
              "        if (window._pyforest_update_imports_cell) { window._pyforest_update_imports_cell('import lightgbm as lgb\\nimport plotly.express as px\\nimport pydot\\nimport tensorflow as tf\\nimport re\\nimport pandas as pd\\nimport sklearn\\nimport tqdm\\nimport matplotlib.pyplot as plt\\nfrom openpyxl import load_workbook\\nfrom sklearn.model_selection import train_test_split\\nimport numpy as np\\nimport plotly as py'); }\n",
              "    "
            ],
            "text/plain": [
              "<IPython.core.display.Javascript object>"
            ]
          },
          "metadata": {
            "tags": []
          }
        },
        {
          "output_type": "display_data",
          "data": {
            "application/javascript": [
              "\n",
              "        if (window._pyforest_update_imports_cell) { window._pyforest_update_imports_cell('import lightgbm as lgb\\nimport plotly.express as px\\nimport pydot\\nimport tensorflow as tf\\nimport re\\nimport pandas as pd\\nimport sklearn\\nimport tqdm\\nimport matplotlib.pyplot as plt\\nfrom openpyxl import load_workbook\\nfrom sklearn.model_selection import train_test_split\\nimport numpy as np\\nimport plotly as py'); }\n",
              "    "
            ],
            "text/plain": [
              "<IPython.core.display.Javascript object>"
            ]
          },
          "metadata": {
            "tags": []
          }
        },
        {
          "output_type": "display_data",
          "data": {
            "application/javascript": [
              "\n",
              "        if (window._pyforest_update_imports_cell) { window._pyforest_update_imports_cell('import lightgbm as lgb\\nimport plotly.express as px\\nimport pydot\\nimport tensorflow as tf\\nimport re\\nimport pandas as pd\\nimport sklearn\\nimport tqdm\\nimport matplotlib.pyplot as plt\\nfrom openpyxl import load_workbook\\nfrom sklearn.model_selection import train_test_split\\nimport numpy as np\\nimport plotly as py'); }\n",
              "    "
            ],
            "text/plain": [
              "<IPython.core.display.Javascript object>"
            ]
          },
          "metadata": {
            "tags": []
          }
        },
        {
          "output_type": "display_data",
          "data": {
            "application/javascript": [
              "\n",
              "        if (window._pyforest_update_imports_cell) { window._pyforest_update_imports_cell('import lightgbm as lgb\\nimport plotly.express as px\\nimport pydot\\nimport tensorflow as tf\\nimport re\\nimport pandas as pd\\nimport sklearn\\nimport tqdm\\nimport matplotlib.pyplot as plt\\nfrom openpyxl import load_workbook\\nfrom sklearn.model_selection import train_test_split\\nimport numpy as np\\nimport plotly as py'); }\n",
              "    "
            ],
            "text/plain": [
              "<IPython.core.display.Javascript object>"
            ]
          },
          "metadata": {
            "tags": []
          }
        },
        {
          "output_type": "display_data",
          "data": {
            "application/javascript": [
              "\n",
              "        if (window._pyforest_update_imports_cell) { window._pyforest_update_imports_cell('import lightgbm as lgb\\nimport plotly.express as px\\nimport pydot\\nimport tensorflow as tf\\nimport re\\nimport pandas as pd\\nimport sklearn\\nimport tqdm\\nimport matplotlib.pyplot as plt\\nfrom openpyxl import load_workbook\\nfrom sklearn.model_selection import train_test_split\\nimport numpy as np\\nimport plotly as py'); }\n",
              "    "
            ],
            "text/plain": [
              "<IPython.core.display.Javascript object>"
            ]
          },
          "metadata": {
            "tags": []
          }
        },
        {
          "output_type": "display_data",
          "data": {
            "application/javascript": [
              "\n",
              "        if (window._pyforest_update_imports_cell) { window._pyforest_update_imports_cell('import lightgbm as lgb\\nimport plotly.express as px\\nimport pydot\\nimport tensorflow as tf\\nimport re\\nimport pandas as pd\\nimport sklearn\\nimport tqdm\\nimport matplotlib.pyplot as plt\\nfrom openpyxl import load_workbook\\nfrom sklearn.model_selection import train_test_split\\nimport numpy as np\\nimport plotly as py'); }\n",
              "    "
            ],
            "text/plain": [
              "<IPython.core.display.Javascript object>"
            ]
          },
          "metadata": {
            "tags": []
          }
        },
        {
          "output_type": "display_data",
          "data": {
            "application/javascript": [
              "\n",
              "        if (window._pyforest_update_imports_cell) { window._pyforest_update_imports_cell('import lightgbm as lgb\\nimport plotly.express as px\\nimport pydot\\nimport tensorflow as tf\\nimport re\\nimport pandas as pd\\nimport sklearn\\nimport tqdm\\nimport matplotlib.pyplot as plt\\nfrom openpyxl import load_workbook\\nfrom sklearn.model_selection import train_test_split\\nimport numpy as np\\nimport plotly as py'); }\n",
              "    "
            ],
            "text/plain": [
              "<IPython.core.display.Javascript object>"
            ]
          },
          "metadata": {
            "tags": []
          }
        },
        {
          "output_type": "display_data",
          "data": {
            "application/javascript": [
              "\n",
              "        if (window._pyforest_update_imports_cell) { window._pyforest_update_imports_cell('import lightgbm as lgb\\nimport plotly.express as px\\nimport pydot\\nimport tensorflow as tf\\nimport re\\nimport pandas as pd\\nimport sklearn\\nimport tqdm\\nimport matplotlib.pyplot as plt\\nfrom openpyxl import load_workbook\\nfrom sklearn.model_selection import train_test_split\\nimport numpy as np\\nimport plotly as py'); }\n",
              "    "
            ],
            "text/plain": [
              "<IPython.core.display.Javascript object>"
            ]
          },
          "metadata": {
            "tags": []
          }
        },
        {
          "output_type": "display_data",
          "data": {
            "application/javascript": [
              "\n",
              "        if (window._pyforest_update_imports_cell) { window._pyforest_update_imports_cell('import lightgbm as lgb\\nimport plotly.express as px\\nimport pydot\\nimport tensorflow as tf\\nimport re\\nimport pandas as pd\\nimport sklearn\\nimport tqdm\\nimport matplotlib.pyplot as plt\\nfrom openpyxl import load_workbook\\nfrom sklearn.model_selection import train_test_split\\nimport numpy as np\\nimport plotly as py'); }\n",
              "    "
            ],
            "text/plain": [
              "<IPython.core.display.Javascript object>"
            ]
          },
          "metadata": {
            "tags": []
          }
        },
        {
          "output_type": "display_data",
          "data": {
            "application/javascript": [
              "\n",
              "        if (window._pyforest_update_imports_cell) { window._pyforest_update_imports_cell('import lightgbm as lgb\\nimport plotly.express as px\\nimport pydot\\nimport tensorflow as tf\\nimport re\\nimport pandas as pd\\nimport sklearn\\nimport tqdm\\nimport matplotlib.pyplot as plt\\nfrom openpyxl import load_workbook\\nfrom sklearn.model_selection import train_test_split\\nimport numpy as np\\nimport plotly as py'); }\n",
              "    "
            ],
            "text/plain": [
              "<IPython.core.display.Javascript object>"
            ]
          },
          "metadata": {
            "tags": []
          }
        },
        {
          "output_type": "display_data",
          "data": {
            "application/javascript": [
              "\n",
              "        if (window._pyforest_update_imports_cell) { window._pyforest_update_imports_cell('import lightgbm as lgb\\nimport plotly.express as px\\nimport pydot\\nimport tensorflow as tf\\nimport re\\nimport pandas as pd\\nimport sklearn\\nimport tqdm\\nimport matplotlib.pyplot as plt\\nfrom openpyxl import load_workbook\\nfrom sklearn.model_selection import train_test_split\\nimport numpy as np\\nimport plotly as py'); }\n",
              "    "
            ],
            "text/plain": [
              "<IPython.core.display.Javascript object>"
            ]
          },
          "metadata": {
            "tags": []
          }
        },
        {
          "output_type": "display_data",
          "data": {
            "application/javascript": [
              "\n",
              "        if (window._pyforest_update_imports_cell) { window._pyforest_update_imports_cell('import lightgbm as lgb\\nimport plotly.express as px\\nimport pydot\\nimport tensorflow as tf\\nimport re\\nimport pandas as pd\\nimport sklearn\\nimport tqdm\\nimport matplotlib.pyplot as plt\\nfrom openpyxl import load_workbook\\nfrom sklearn.model_selection import train_test_split\\nimport numpy as np\\nimport plotly as py'); }\n",
              "    "
            ],
            "text/plain": [
              "<IPython.core.display.Javascript object>"
            ]
          },
          "metadata": {
            "tags": []
          }
        },
        {
          "output_type": "display_data",
          "data": {
            "image/png": "[encoded data removed]",
            "text/plain": [
              "<Figure size 1008x360 with 2 Axes>"
            ]
          },
          "metadata": {
            "tags": []
          }
        }
      ]
    },
    {
      "cell_type": "markdown",
      "metadata": {
        "id": "3NTh_AiMSPvz"
      },
      "source": [
        "We can conclude that the time series is correlated with itself shifted by 2 minutes.\n",
        "\n",
        "\n",
        "### 1.1.2 Checking required lags through iteratively fitting:\n"
      ]
    },
    {
      "cell_type": "code",
      "metadata": {
        "id": "E58XvXn6SQuw",
        "outputId": "99eb6e5b-ac8f-4d6a-b9aa-258cfda418d7",
        "colab": {
          "base_uri": "https://localhost:8080/",
          "height": 924
        }
      },
      "source": [
        "from statsmodels.tsa.api import VAR\n",
        "pd.options.display.float_format = \"{:.2f}\".format\n",
        "model = VAR(train_trans.values)\n",
        "for i in [1,2,3,4,5,6,7,8,9]:\n",
        "    res = model.fit(i)\n",
        "    print('Lag Order =', i)\n",
        "    print('AIC : ', res.aic)\n",
        "    print('BIC : ', res.bic)\n",
        "    print('FPE : ', res.fpe)\n",
        "    print('HQIC: ', res.hqic, '\\n')"
      ],
      "execution_count": 110,
      "outputs": [
        {
          "output_type": "display_data",
          "data": {
            "application/javascript": [
              "\n",
              "        if (window._pyforest_update_imports_cell) { window._pyforest_update_imports_cell('import lightgbm as lgb\\nimport plotly.express as px\\nimport pydot\\nimport tensorflow as tf\\nimport re\\nimport pandas as pd\\nimport sklearn\\nimport tqdm\\nimport matplotlib.pyplot as plt\\nfrom openpyxl import load_workbook\\nfrom sklearn.model_selection import train_test_split\\nimport numpy as np\\nimport plotly as py'); }\n",
              "    "
            ],
            "text/plain": [
              "<IPython.core.display.Javascript object>"
            ]
          },
          "metadata": {
            "tags": []
          }
        },
        {
          "output_type": "stream",
          "text": [
            "Lag Order = 1\n",
            "AIC :  44.195319520382874\n",
            "BIC :  44.20718437138775\n",
            "FPE :  1.5623682101238008e+19\n",
            "HQIC:  44.199130574833035 \n",
            "\n",
            "Lag Order = 2\n",
            "AIC :  44.13389889116869\n",
            "BIC :  44.15593427502382\n",
            "FPE :  1.4692941635557024e+19\n",
            "HQIC:  44.14097678738766 \n",
            "\n",
            "Lag Order = 3\n",
            "AIC :  44.115701655798134\n",
            "BIC :  44.147908182312875\n",
            "FPE :  1.4427988745461723e+19\n",
            "HQIC:  44.12604660027063 \n",
            "\n",
            "Lag Order = 4\n",
            "AIC :  44.108376492227464\n",
            "BIC :  44.150754771269256\n",
            "FPE :  1.432268753304119e+19\n",
            "HQIC:  44.1219886914584 \n",
            "\n",
            "Lag Order = 5\n",
            "AIC :  44.10577923991063\n",
            "BIC :  44.15832988140502\n",
            "FPE :  1.4285536198373157e+19\n",
            "HQIC:  44.122658900425144 \n",
            "\n",
            "Lag Order = 6\n",
            "AIC :  44.104630351501534\n",
            "BIC :  44.16735396543217\n",
            "FPE :  1.426913318307516e+19\n",
            "HQIC:  44.12477767984497 \n",
            "\n",
            "Lag Order = 7\n",
            "AIC :  44.10362232986803\n",
            "BIC :  44.176519526276685\n",
            "FPE :  1.425475690042564e+19\n",
            "HQIC:  44.12703753260595 \n",
            "\n",
            "Lag Order = 8\n",
            "AIC :  44.10343356586692\n",
            "BIC :  44.18650495485348\n",
            "FPE :  1.4252066455657558e+19\n",
            "HQIC:  44.13011684958509 \n",
            "\n",
            "Lag Order = 9\n",
            "AIC :  44.104458254834256\n",
            "BIC :  44.19770444655675\n",
            "FPE :  1.42666779860088e+19\n",
            "HQIC:  44.13440982613868 \n",
            "\n"
          ],
          "name": "stdout"
        }
      ]
    },
    {
      "cell_type": "markdown",
      "metadata": {
        "id": "LHLoJfwPS35e"
      },
      "source": [
        "- AIC drops to lowest at lag 8, then increases at lag 9 and then keeps increrasing. We will fo with lag 8 model.\n",
        "- BIC drops to lowest at lag 3\n",
        "- FPE drops to lowest at lag 8\n",
        "- HQIC drops to lowest at lag 4\n",
        "\n",
        "We shall try with lag 8 and lag3 to check which models proves better output.\n",
        "\n",
        "### 1.1.3 Checking throgh VAR order selection:"
      ]
    },
    {
      "cell_type": "code",
      "metadata": {
        "id": "z7HkN165S5Wu",
        "outputId": "c085241d-b7c7-4282-f406-198ebc861c30",
        "colab": {
          "base_uri": "https://localhost:8080/",
          "height": 332
        }
      },
      "source": [
        "x = model.select_order(maxlags=12)\n",
        "x.summary()"
      ],
      "execution_count": 111,
      "outputs": [
        {
          "output_type": "execute_result",
          "data": {
            "text/html": [
              "<table class=\"simpletable\">\n",
              "<caption>VAR Order Selection (* highlights the minimums)</caption>\n",
              "<tr>\n",
              "   <td></td>      <th>AIC</th>         <th>BIC</th>         <th>FPE</th>        <th>HQIC</th>    \n",
              "</tr>\n",
              "<tr>\n",
              "  <th>0</th>  <td>     44.45</td>  <td>     44.45</td>  <td> 2.015e+19</td>  <td>     44.45</td> \n",
              "</tr>\n",
              "<tr>\n",
              "  <th>1</th>  <td>     44.20</td>  <td>     44.21</td>  <td> 1.564e+19</td>  <td>     44.20</td> \n",
              "</tr>\n",
              "<tr>\n",
              "  <th>2</th>  <td>     44.13</td>  <td>     44.16</td>  <td> 1.471e+19</td>  <td>     44.14</td> \n",
              "</tr>\n",
              "<tr>\n",
              "  <th>3</th>  <td>     44.12</td>  <td>     44.15</td>  <td> 1.444e+19</td>  <td>     44.13</td> \n",
              "</tr>\n",
              "<tr>\n",
              "  <th>4</th>  <td>     44.11</td>  <td>     44.15</td>  <td> 1.433e+19</td>  <td>     44.12</td> \n",
              "</tr>\n",
              "<tr>\n",
              "  <th>5</th>  <td>     44.11</td>  <td>     44.16</td>  <td> 1.429e+19</td>  <td>     44.12</td> \n",
              "</tr>\n",
              "<tr>\n",
              "  <th>6</th>  <td>     44.11</td>  <td>     44.17</td>  <td> 1.428e+19</td>  <td>     44.13</td> \n",
              "</tr>\n",
              "<tr>\n",
              "  <th>7</th>  <td>     44.10</td>  <td>     44.18</td>  <td> 1.426e+19</td>  <td>     44.13</td> \n",
              "</tr>\n",
              "<tr>\n",
              "  <th>8</th>  <td>     44.10</td>  <td>     44.19</td>  <td> 1.426e+19</td>  <td>     44.13</td> \n",
              "</tr>\n",
              "<tr>\n",
              "  <th>9</th>  <td>     44.10</td>  <td>     44.20</td>  <td> 1.427e+19</td>  <td>     44.13</td> \n",
              "</tr>\n",
              "<tr>\n",
              "  <th>10</th> <td>     43.98</td>  <td>     44.08*</td> <td> 1.255e+19</td>  <td>     44.01</td> \n",
              "</tr>\n",
              "<tr>\n",
              "  <th>11</th> <td>     43.97</td>  <td>     44.08</td>  <td> 1.244e+19</td>  <td>     44.00*</td>\n",
              "</tr>\n",
              "<tr>\n",
              "  <th>12</th> <td>     43.96*</td> <td>     44.09</td>  <td> 1.240e+19*</td> <td>     44.00</td> \n",
              "</tr>\n",
              "</table>"
            ],
            "text/plain": [
              "<class 'statsmodels.iolib.table.SimpleTable'>"
            ]
          },
          "metadata": {
            "tags": []
          },
          "execution_count": 111
        }
      ]
    },
    {
      "cell_type": "markdown",
      "metadata": {
        "id": "6kJ2vH8FDFzR"
      },
      "source": [
        "This givex AIC & FPE as 12, BIC as 10, HQIC as 11"
      ]
    },
    {
      "cell_type": "code",
      "metadata": {
        "id": "gsW9ij4XmUxI",
        "outputId": "a0d2e752-f84f-448b-b9c5-c0663a0c945d",
        "colab": {
          "base_uri": "https://localhost:8080/",
          "height": 351
        }
      },
      "source": [
        "### FIND BEST VAR ORDER ###\n",
        "AIC = {}\n",
        "best_aic, best_order = np.inf, 0\n",
        "\n",
        "for i in range(1,50):\n",
        "    model = VAR(endog=train_trans.values)\n",
        "    model_result = model.fit(maxlags=i)\n",
        "    AIC[i] = model_result.aic\n",
        "    \n",
        "    if AIC[i] < best_aic:\n",
        "        best_aic = AIC[i]\n",
        "        best_order = i\n",
        "        \n",
        "print('BEST ORDER', best_order, 'BEST AIC:', best_aic)\n",
        "\n",
        "### PLOT AICs ### \n",
        "plt.style.use('dark_background')\n",
        "plt.figure(figsize=(14,5))\n",
        "plt.plot(range(len(AIC)), list(AIC.values()))\n",
        "plt.plot([best_order-1], [best_aic], marker='o', markersize=8, color=\"red\")\n",
        "plt.xticks(range(len(AIC)), range(1,50))\n",
        "plt.xlabel('lags'); plt.ylabel('AIC')\n",
        "np.set_printoptions(False)"
      ],
      "execution_count": 112,
      "outputs": [
        {
          "output_type": "display_data",
          "data": {
            "application/javascript": [
              "\n",
              "        if (window._pyforest_update_imports_cell) { window._pyforest_update_imports_cell('import lightgbm as lgb\\nimport plotly.express as px\\nimport pydot\\nimport tensorflow as tf\\nimport re\\nimport pandas as pd\\nimport sklearn\\nimport tqdm\\nimport matplotlib.pyplot as plt\\nfrom openpyxl import load_workbook\\nfrom sklearn.model_selection import train_test_split\\nimport numpy as np\\nimport plotly as py'); }\n",
              "    "
            ],
            "text/plain": [
              "<IPython.core.display.Javascript object>"
            ]
          },
          "metadata": {
            "tags": []
          }
        },
        {
          "output_type": "stream",
          "text": [
            "BEST ORDER 31 BEST AIC: 43.93692031249492\n"
          ],
          "name": "stdout"
        },
        {
          "output_type": "display_data",
          "data": {
            "application/javascript": [
              "\n",
              "        if (window._pyforest_update_imports_cell) { window._pyforest_update_imports_cell('import lightgbm as lgb\\nimport plotly.express as px\\nimport pydot\\nimport tensorflow as tf\\nimport re\\nimport pandas as pd\\nimport sklearn\\nimport tqdm\\nimport matplotlib.pyplot as plt\\nfrom openpyxl import load_workbook\\nfrom sklearn.model_selection import train_test_split\\nimport numpy as np\\nimport plotly as py'); }\n",
              "    "
            ],
            "text/plain": [
              "<IPython.core.display.Javascript object>"
            ]
          },
          "metadata": {
            "tags": []
          }
        },
        {
          "output_type": "display_data",
          "data": {
            "application/javascript": [
              "\n",
              "        if (window._pyforest_update_imports_cell) { window._pyforest_update_imports_cell('import lightgbm as lgb\\nimport plotly.express as px\\nimport pydot\\nimport tensorflow as tf\\nimport re\\nimport pandas as pd\\nimport sklearn\\nimport tqdm\\nimport matplotlib.pyplot as plt\\nfrom openpyxl import load_workbook\\nfrom sklearn.model_selection import train_test_split\\nimport numpy as np\\nimport plotly as py'); }\n",
              "    "
            ],
            "text/plain": [
              "<IPython.core.display.Javascript object>"
            ]
          },
          "metadata": {
            "tags": []
          }
        },
        {
          "output_type": "display_data",
          "data": {
            "application/javascript": [
              "\n",
              "        if (window._pyforest_update_imports_cell) { window._pyforest_update_imports_cell('import lightgbm as lgb\\nimport plotly.express as px\\nimport pydot\\nimport tensorflow as tf\\nimport re\\nimport pandas as pd\\nimport sklearn\\nimport tqdm\\nimport matplotlib.pyplot as plt\\nfrom openpyxl import load_workbook\\nfrom sklearn.model_selection import train_test_split\\nimport numpy as np\\nimport plotly as py'); }\n",
              "    "
            ],
            "text/plain": [
              "<IPython.core.display.Javascript object>"
            ]
          },
          "metadata": {
            "tags": []
          }
        },
        {
          "output_type": "display_data",
          "data": {
            "application/javascript": [
              "\n",
              "        if (window._pyforest_update_imports_cell) { window._pyforest_update_imports_cell('import lightgbm as lgb\\nimport plotly.express as px\\nimport pydot\\nimport tensorflow as tf\\nimport re\\nimport pandas as pd\\nimport sklearn\\nimport tqdm\\nimport matplotlib.pyplot as plt\\nfrom openpyxl import load_workbook\\nfrom sklearn.model_selection import train_test_split\\nimport numpy as np\\nimport plotly as py'); }\n",
              "    "
            ],
            "text/plain": [
              "<IPython.core.display.Javascript object>"
            ]
          },
          "metadata": {
            "tags": []
          }
        },
        {
          "output_type": "display_data",
          "data": {
            "application/javascript": [
              "\n",
              "        if (window._pyforest_update_imports_cell) { window._pyforest_update_imports_cell('import lightgbm as lgb\\nimport plotly.express as px\\nimport pydot\\nimport tensorflow as tf\\nimport re\\nimport pandas as pd\\nimport sklearn\\nimport tqdm\\nimport matplotlib.pyplot as plt\\nfrom openpyxl import load_workbook\\nfrom sklearn.model_selection import train_test_split\\nimport numpy as np\\nimport plotly as py'); }\n",
              "    "
            ],
            "text/plain": [
              "<IPython.core.display.Javascript object>"
            ]
          },
          "metadata": {
            "tags": []
          }
        },
        {
          "output_type": "display_data",
          "data": {
            "application/javascript": [
              "\n",
              "        if (window._pyforest_update_imports_cell) { window._pyforest_update_imports_cell('import lightgbm as lgb\\nimport plotly.express as px\\nimport pydot\\nimport tensorflow as tf\\nimport re\\nimport pandas as pd\\nimport sklearn\\nimport tqdm\\nimport matplotlib.pyplot as plt\\nfrom openpyxl import load_workbook\\nfrom sklearn.model_selection import train_test_split\\nimport numpy as np\\nimport plotly as py'); }\n",
              "    "
            ],
            "text/plain": [
              "<IPython.core.display.Javascript object>"
            ]
          },
          "metadata": {
            "tags": []
          }
        },
        {
          "output_type": "display_data",
          "data": {
            "application/javascript": [
              "\n",
              "        if (window._pyforest_update_imports_cell) { window._pyforest_update_imports_cell('import lightgbm as lgb\\nimport plotly.express as px\\nimport pydot\\nimport tensorflow as tf\\nimport re\\nimport pandas as pd\\nimport sklearn\\nimport tqdm\\nimport matplotlib.pyplot as plt\\nfrom openpyxl import load_workbook\\nfrom sklearn.model_selection import train_test_split\\nimport numpy as np\\nimport plotly as py'); }\n",
              "    "
            ],
            "text/plain": [
              "<IPython.core.display.Javascript object>"
            ]
          },
          "metadata": {
            "tags": []
          }
        },
        {
          "output_type": "display_data",
          "data": {
            "application/javascript": [
              "\n",
              "        if (window._pyforest_update_imports_cell) { window._pyforest_update_imports_cell('import lightgbm as lgb\\nimport plotly.express as px\\nimport pydot\\nimport tensorflow as tf\\nimport re\\nimport pandas as pd\\nimport sklearn\\nimport tqdm\\nimport matplotlib.pyplot as plt\\nfrom openpyxl import load_workbook\\nfrom sklearn.model_selection import train_test_split\\nimport numpy as np\\nimport plotly as py'); }\n",
              "    "
            ],
            "text/plain": [
              "<IPython.core.display.Javascript object>"
            ]
          },
          "metadata": {
            "tags": []
          }
        },
        {
          "output_type": "display_data",
          "data": {
            "image/png": "[encoded data removed]",
            "text/plain": [
              "<Figure size 1008x360 with 1 Axes>"
            ]
          },
          "metadata": {
            "tags": []
          }
        }
      ]
    },
    {
      "cell_type": "markdown",
      "metadata": {
        "id": "PA6UG-h5zg2s"
      },
      "source": [
        "We have few lag values, let us try with 2 lags.\n",
        "\n",
        "# **2 VAR model fitting with lags 2:**"
      ]
    },
    {
      "cell_type": "code",
      "metadata": {
        "id": "hodp-ydpTBDM",
        "outputId": "ebb94005-d7e6-4d53-e758-4dee7f6c38c2",
        "colab": {
          "base_uri": "https://localhost:8080/",
          "height": 1000
        }
      },
      "source": [
        "import statsmodels.tsa.api as smt\n",
        "from statsmodels.tsa.api import VAR\n",
        "\n",
        "# pass \"1min\" frequency\n",
        "train_trans.index = pd.DatetimeIndex(train_trans.index).to_period('1min')\n",
        "\n",
        "# fitting VAR model with associated freq & lags\n",
        "model_l_2 = VAR(endog = train_trans).fit(maxlags = 2)\n",
        "model_l_2.summary()"
      ],
      "execution_count": 113,
      "outputs": [
        {
          "output_type": "display_data",
          "data": {
            "application/javascript": [
              "\n",
              "        if (window._pyforest_update_imports_cell) { window._pyforest_update_imports_cell('import lightgbm as lgb\\nimport plotly.express as px\\nimport pydot\\nimport tensorflow as tf\\nimport re\\nimport pandas as pd\\nimport sklearn\\nimport tqdm\\nimport matplotlib.pyplot as plt\\nfrom openpyxl import load_workbook\\nfrom sklearn.model_selection import train_test_split\\nimport numpy as np\\nimport plotly as py'); }\n",
              "    "
            ],
            "text/plain": [
              "<IPython.core.display.Javascript object>"
            ]
          },
          "metadata": {
            "tags": []
          }
        },
        {
          "output_type": "execute_result",
          "data": {
            "text/plain": [
              "  Summary of Regression Results   \n",
              "==================================\n",
              "Model:                         VAR\n",
              "Method:                        OLS\n",
              "Date:           Thu, 05, Nov, 2020\n",
              "Time:                     07:37:15\n",
              "--------------------------------------------------------------------\n",
              "No. of Equations:         6.00000    BIC:                    44.1559\n",
              "Nobs:                     29332.0    HQIC:                   44.1410\n",
              "Log likelihood:          -896912.    FPE:                1.46929e+19\n",
              "AIC:                      44.1339    Det(Omega_mle):     1.46539e+19\n",
              "--------------------------------------------------------------------\n",
              "Results for equation es\n",
              "============================================================================\n",
              "               coefficient       std. error           t-stat            prob\n",
              "----------------------------------------------------------------------------\n",
              "const             0.004950         0.006520            0.759           0.448\n",
              "L1.es             0.011154         0.012509            0.892           0.373\n",
              "L1.eurusd         0.000092         0.000025            3.745           0.000\n",
              "L1.gbpusd         0.000013         0.000021            0.602           0.547\n",
              "L1.gc            -0.003764         0.012740           -0.295           0.768\n",
              "L1.nq             0.003276         0.003760            0.871           0.383\n",
              "L1.usdjpy        -0.000001         0.000000           -5.062           0.000\n",
              "L2.es            -0.041618         0.012512           -3.326           0.001\n",
              "L2.eurusd         0.000244         0.000025            9.951           0.000\n",
              "L2.gbpusd         0.000003         0.000021            0.121           0.904\n",
              "L2.gc            -0.010429         0.012732           -0.819           0.413\n",
              "L2.nq             0.006963         0.003758            1.853           0.064\n",
              "L2.usdjpy        -0.000000         0.000000           -0.571           0.568\n",
              "============================================================================\n",
              "\n",
              "Results for equation eurusd\n",
              "============================================================================\n",
              "               coefficient       std. error           t-stat            prob\n",
              "----------------------------------------------------------------------------\n",
              "const             0.935323         1.560024            0.600           0.549\n",
              "L1.es             0.836115         2.993106            0.279           0.780\n",
              "L1.eurusd        -0.410436         0.005873          -69.880           0.000\n",
              "L1.gbpusd         0.081754         0.005059           16.161           0.000\n",
              "L1.gc             5.244818         3.048531            1.720           0.085\n",
              "L1.nq             1.344410         0.899623            1.494           0.135\n",
              "L1.usdjpy        -0.000083         0.000033           -2.520           0.012\n",
              "L2.es            -4.706473         2.993938           -1.572           0.116\n",
              "L2.eurusd        -0.174093         0.005868          -29.667           0.000\n",
              "L2.gbpusd         0.047227         0.005063            9.327           0.000\n",
              "L2.gc             4.824965         3.046588            1.584           0.113\n",
              "L2.nq             1.161994         0.899211            1.292           0.196\n",
              "L2.usdjpy         0.000016         0.000033            0.471           0.638\n",
              "============================================================================\n",
              "\n",
              "Results for equation gbpusd\n",
              "============================================================================\n",
              "               coefficient       std. error           t-stat            prob\n",
              "----------------------------------------------------------------------------\n",
              "const            -1.393088         1.850022           -0.753           0.451\n",
              "L1.es            23.852580         3.549505            6.720           0.000\n",
              "L1.eurusd         0.086295         0.006965           12.389           0.000\n",
              "L1.gbpusd        -0.348773         0.005999          -58.138           0.000\n",
              "L1.gc             8.353111         3.615232            2.311           0.021\n",
              "L1.nq            -0.064765         1.066857           -0.061           0.952\n",
              "L1.usdjpy        -0.000135         0.000039           -3.463           0.001\n",
              "L2.es             9.489689         3.550491            2.673           0.008\n",
              "L2.eurusd         0.067753         0.006959            9.736           0.000\n",
              "L2.gbpusd        -0.138000         0.006005          -22.982           0.000\n",
              "L2.gc             8.949069         3.612928            2.477           0.013\n",
              "L2.nq            -0.606097         1.066368           -0.568           0.570\n",
              "L2.usdjpy        -0.000045         0.000039           -1.150           0.250\n",
              "============================================================================\n",
              "\n",
              "Results for equation gc\n",
              "============================================================================\n",
              "               coefficient       std. error           t-stat            prob\n",
              "----------------------------------------------------------------------------\n",
              "const             0.001342         0.003018            0.445           0.656\n",
              "L1.es            -0.011333         0.005790           -1.957           0.050\n",
              "L1.eurusd         0.000014         0.000011            1.219           0.223\n",
              "L1.gbpusd         0.000022         0.000010            2.272           0.023\n",
              "L1.gc            -0.009783         0.005897           -1.659           0.097\n",
              "L1.nq             0.002690         0.001740            1.546           0.122\n",
              "L1.usdjpy         0.000000         0.000000            1.692           0.091\n",
              "L2.es             0.000589         0.005792            0.102           0.919\n",
              "L2.eurusd         0.000003         0.000011            0.255           0.799\n",
              "L2.gbpusd        -0.000002         0.000010           -0.166           0.868\n",
              "L2.gc            -0.027166         0.005894           -4.610           0.000\n",
              "L2.nq            -0.002994         0.001739           -1.721           0.085\n",
              "L2.usdjpy         0.000000         0.000000            2.983           0.003\n",
              "============================================================================\n",
              "\n",
              "Results for equation nq\n",
              "============================================================================\n",
              "               coefficient       std. error           t-stat            prob\n",
              "----------------------------------------------------------------------------\n",
              "const             0.024602         0.021690            1.134           0.257\n",
              "L1.es             0.145447         0.041616            3.495           0.000\n",
              "L1.eurusd         0.000244         0.000082            2.987           0.003\n",
              "L1.gbpusd        -0.000043         0.000070           -0.615           0.539\n",
              "L1.gc            -0.028380         0.042386           -0.670           0.503\n",
              "L1.nq            -0.012430         0.012508           -0.994           0.320\n",
              "L1.usdjpy        -0.000002         0.000000           -4.050           0.000\n",
              "L2.es            -0.096089         0.041627           -2.308           0.021\n",
              "L2.eurusd         0.000820         0.000082           10.055           0.000\n",
              "L2.gbpusd        -0.000042         0.000070           -0.590           0.555\n",
              "L2.gc             0.005087         0.042359            0.120           0.904\n",
              "L2.nq             0.016353         0.012503            1.308           0.191\n",
              "L2.usdjpy        -0.000000         0.000000           -0.524           0.601\n",
              "============================================================================\n",
              "\n",
              "Results for equation usdjpy\n",
              "============================================================================\n",
              "               coefficient       std. error           t-stat            prob\n",
              "----------------------------------------------------------------------------\n",
              "const            14.731982       277.583961            0.053           0.958\n",
              "L1.es          1378.801661       532.580553            2.589           0.010\n",
              "L1.eurusd        -1.471649         1.045096           -1.408           0.159\n",
              "L1.gbpusd        -1.849921         0.900120           -2.055           0.040\n",
              "L1.gc         -1209.936995       542.442578           -2.231           0.026\n",
              "L1.nq          -183.464533       160.075106           -1.146           0.252\n",
              "L1.usdjpy        -0.127831         0.005857          -21.827           0.000\n",
              "L2.es           -14.939351       532.728465           -0.028           0.978\n",
              "L2.eurusd        -0.146379         1.044172           -0.140           0.889\n",
              "L2.gbpusd        -0.032281         0.900951           -0.036           0.971\n",
              "L2.gc           -68.557636       542.096841           -0.126           0.899\n",
              "L2.nq            -7.905097       160.001724           -0.049           0.961\n",
              "L2.usdjpy        -0.021628         0.005858           -3.692           0.000\n",
              "============================================================================\n",
              "\n",
              "Correlation matrix of residuals\n",
              "                es    eurusd    gbpusd        gc        nq    usdjpy\n",
              "es        1.000000  0.073009  0.178859  0.089150  0.883768  0.044200\n",
              "eurusd    0.073009  1.000000  0.210585  0.065290  0.063749 -0.030233\n",
              "gbpusd    0.178859  0.210585  1.000000  0.087237  0.169544 -0.033281\n",
              "gc        0.089150  0.065290  0.087237  1.000000  0.109016 -0.041313\n",
              "nq        0.883768  0.063749  0.169544  0.109016  1.000000  0.039836\n",
              "usdjpy    0.044200 -0.030233 -0.033281 -0.041313  0.039836  1.000000\n",
              "\n"
            ]
          },
          "metadata": {
            "tags": []
          },
          "execution_count": 113
        }
      ]
    },
    {
      "cell_type": "markdown",
      "metadata": {
        "id": "WVyTsoTmTif2"
      },
      "source": [
        "- Top of the table shows the information for the model as a whole, including values of the information criteria, \n",
        "- Further down we shows the coefficient estimates and goodness-of-fit measures for each of the equations separately. \n",
        "- Each regression equation is separated by a horizontal line.\n",
        "\n",
        "## 2.1 Durbin Watson Statistic:\n",
        "Checking for Serial Correlation of Residuals (Errors) using Durbin Watson Statistic. If there is any correlation left in the residuals, then, there is some pattern in the time series that is still left to be explained by the model. In that case, the typical course of action is to either increase the order of the model or induce more predictors into the system or look for a different algorithm to model the time series. So, checking for serial correlation is to ensure that the model is sufficiently able to explain the variances and patterns in the time series.\n"
      ]
    },
    {
      "cell_type": "code",
      "metadata": {
        "id": "5YcoIc9oTkEx",
        "outputId": "28495816-99c3-463e-d475-a71e090e191e",
        "colab": {
          "base_uri": "https://localhost:8080/"
        }
      },
      "source": [
        "from statsmodels.stats.stattools import durbin_watson\n",
        "out = durbin_watson(model_l_2.resid)\n",
        "\n",
        "for col, val in zip(train_var.columns, out):\n",
        "    print((col), ':', round(val, 2))"
      ],
      "execution_count": 114,
      "outputs": [
        {
          "output_type": "stream",
          "text": [
            "es : 2.0\n",
            "eurusd : 2.04\n",
            "gbpusd : 2.01\n",
            "gc : 2.0\n",
            "nq : 2.0\n",
            "usdjpy : 2.0\n"
          ],
          "name": "stdout"
        }
      ]
    },
    {
      "cell_type": "markdown",
      "metadata": {
        "id": "eYbQuDGzTrE1"
      },
      "source": [
        "This is to determine the existence of multi-colinearity where variables are highly correlated. The statistic is a values between 0-4 and value 2 is idea, which means there is ni auto-correlation among the variables in the model.\n",
        "\n",
        "The serial correlation looks alright. \n",
        "\n",
        "## 2.2 Resuals plot:"
      ]
    },
    {
      "cell_type": "code",
      "metadata": {
        "id": "U2-db3475BJr",
        "outputId": "e2b37b96-b0d1-4e8e-b626-ed8af4b3e89b",
        "colab": {
          "base_uri": "https://localhost:8080/",
          "height": 383
        }
      },
      "source": [
        "residuals = model_l_2.resid\n",
        "residuals.plot(figsize=(14,5))\n",
        "plt.title('Residuals plot = VAR lag 2')\n",
        "plt.show()"
      ],
      "execution_count": 115,
      "outputs": [
        {
          "output_type": "display_data",
          "data": {
            "application/javascript": [
              "\n",
              "        if (window._pyforest_update_imports_cell) { window._pyforest_update_imports_cell('import lightgbm as lgb\\nimport plotly.express as px\\nimport pydot\\nimport tensorflow as tf\\nimport re\\nimport pandas as pd\\nimport sklearn\\nimport tqdm\\nimport matplotlib.pyplot as plt\\nfrom openpyxl import load_workbook\\nfrom sklearn.model_selection import train_test_split\\nimport numpy as np\\nimport plotly as py'); }\n",
              "    "
            ],
            "text/plain": [
              "<IPython.core.display.Javascript object>"
            ]
          },
          "metadata": {
            "tags": []
          }
        },
        {
          "output_type": "display_data",
          "data": {
            "application/javascript": [
              "\n",
              "        if (window._pyforest_update_imports_cell) { window._pyforest_update_imports_cell('import lightgbm as lgb\\nimport plotly.express as px\\nimport pydot\\nimport tensorflow as tf\\nimport re\\nimport pandas as pd\\nimport sklearn\\nimport tqdm\\nimport matplotlib.pyplot as plt\\nfrom openpyxl import load_workbook\\nfrom sklearn.model_selection import train_test_split\\nimport numpy as np\\nimport plotly as py'); }\n",
              "    "
            ],
            "text/plain": [
              "<IPython.core.display.Javascript object>"
            ]
          },
          "metadata": {
            "tags": []
          }
        },
        {
          "output_type": "display_data",
          "data": {
            "image/png": "[encoded data removed]",
            "text/plain": [
              "<Figure size 1008x360 with 1 Axes>"
            ]
          },
          "metadata": {
            "tags": []
          }
        }
      ]
    },
    {
      "cell_type": "code",
      "metadata": {
        "id": "7v6qlrtCTr8S",
        "outputId": "863761f9-674a-4623-bad6-a8ad68768c24",
        "colab": {
          "base_uri": "https://localhost:8080/"
        }
      },
      "source": [
        "print('GBPUSD-> EURUSD')\n",
        "ca_1 = model_l_2.test_causality(causing=['gbpusd'], caused=['eurusd'], kind='wald',signif=0.05 )\n",
        "print(ca_1)\n",
        "print(\"**********************\")\n",
        "print('GBPUSD-> USDJPY')\n",
        "ca_2 = model_l_2.test_causality(causing=['gbpusd'], caused=['usdjpy'], kind='wald',signif=0.05 )\n",
        "print(ca_2)\n",
        "print(\"**********************\")\n",
        "print('GBPUSD -> USDJPY, EURUSD')\n",
        "ca_3 = model_l_2.test_causality(causing=['gbpusd'], caused=['usdjpy', 'eurusd'], kind='wald',signif=0.05 )\n",
        "print(ca_3)\n",
        "print(\"**********************\")\n",
        "print('EURUSD -> USDJPY')\n",
        "ca_4 = model_l_2.test_causality(causing=['eurusd'], caused=['usdjpy'], kind='wald',signif=0.05 )\n",
        "print(ca_4)\n",
        "print(\"**********************\")\n",
        "print('EURUSD -> GBPUSD, USDJPY')\n",
        "ca_5 = model_l_2.test_causality(causing=['eurusd'], caused=['gbpusd', 'usdjpy'], kind='wald',signif=0.05 )\n",
        "print(ca_4)\n",
        "print(\"**********************\")"
      ],
      "execution_count": 116,
      "outputs": [
        {
          "output_type": "stream",
          "text": [
            "GBPUSD-> EURUSD\n",
            "<statsmodels.tsa.vector_ar.hypothesis_test_results.CausalityTestResults object. H_0: gbpusd does not Granger-cause eurusd: reject at 5% significance level. Test statistic: 280.803, critical value: 5.991>, p-value: 0.000>\n",
            "**********************\n",
            "GBPUSD-> USDJPY\n",
            "<statsmodels.tsa.vector_ar.hypothesis_test_results.CausalityTestResults object. H_0: gbpusd does not Granger-cause usdjpy: fail to reject at 5% significance level. Test statistic: 4.646, critical value: 5.991>, p-value: 0.098>\n",
            "**********************\n",
            "GBPUSD -> USDJPY, EURUSD\n",
            "<statsmodels.tsa.vector_ar.hypothesis_test_results.CausalityTestResults object. H_0: gbpusd does not Granger-cause [usdjpy, eurusd]: reject at 5% significance level. Test statistic: 283.874, critical value: 9.488>, p-value: 0.000>\n",
            "**********************\n",
            "EURUSD -> USDJPY\n",
            "<statsmodels.tsa.vector_ar.hypothesis_test_results.CausalityTestResults object. H_0: eurusd does not Granger-cause usdjpy: fail to reject at 5% significance level. Test statistic: 2.132, critical value: 5.991>, p-value: 0.344>\n",
            "**********************\n",
            "EURUSD -> GBPUSD, USDJPY\n",
            "<statsmodels.tsa.vector_ar.hypothesis_test_results.CausalityTestResults object. H_0: eurusd does not Granger-cause usdjpy: fail to reject at 5% significance level. Test statistic: 2.132, critical value: 5.991>, p-value: 0.344>\n",
            "**********************\n"
          ],
          "name": "stdout"
        }
      ]
    },
    {
      "cell_type": "markdown",
      "metadata": {
        "id": "iJBiqj5DT6PB"
      },
      "source": [
        "Let’s proceed with the forecast.\n",
        "\n",
        "## 2.3 Forecasting:"
      ]
    },
    {
      "cell_type": "code",
      "metadata": {
        "id": "SXONXOXVT7GN",
        "outputId": "c810625d-4bfc-4935-af90-1c34658c493f",
        "colab": {
          "base_uri": "https://localhost:8080/",
          "height": 67
        }
      },
      "source": [
        "pd.options.display.float_format = \"{:.2f}\".format\n",
        "# Get the lag order\n",
        "lag_order = model_l_2.k_ar\n",
        "print(lag_order) \n",
        "\n",
        "# Input data for forecasting\n",
        "input_data = train_trans.values[-lag_order:]\n",
        "print(input_data)"
      ],
      "execution_count": 117,
      "outputs": [
        {
          "output_type": "display_data",
          "data": {
            "application/javascript": [
              "\n",
              "        if (window._pyforest_update_imports_cell) { window._pyforest_update_imports_cell('import lightgbm as lgb\\nimport plotly.express as px\\nimport pydot\\nimport tensorflow as tf\\nimport re\\nimport pandas as pd\\nimport sklearn\\nimport tqdm\\nimport matplotlib.pyplot as plt\\nfrom openpyxl import load_workbook\\nfrom sklearn.model_selection import train_test_split\\nimport numpy as np\\nimport plotly as py'); }\n",
              "    "
            ],
            "text/plain": [
              "<IPython.core.display.Javascript object>"
            ]
          },
          "metadata": {
            "tags": []
          }
        },
        {
          "output_type": "stream",
          "text": [
            "2\n",
            "[[ 4.e-01 -3.e+02 -1.e+02 -2.e-01  2.e+00 -8.e+03]\n",
            " [ 0.e+00  3.e+02 -1.e+02 -1.e-01  3.e+00 -3.e+04]]\n"
          ],
          "name": "stdout"
        }
      ]
    },
    {
      "cell_type": "code",
      "metadata": {
        "id": "wmr2OwkzUBgN",
        "outputId": "854b4b2e-a957-4f05-ecf0-2b71329f8066",
        "colab": {
          "base_uri": "https://localhost:8080/"
        }
      },
      "source": [
        "fc = model_l_2.forecast(y = input_data, steps = nobs)\n",
        "df_pred = DataFrame(fc, columns = train_var.columns + '_1d')\n",
        "print(df_pred)"
      ],
      "execution_count": 119,
      "outputs": [
        {
          "output_type": "stream",
          "text": [
            "   es_1d  eurusd_1d  gbpusd_1d  gc_1d  nq_1d  usdjpy_1d\n",
            "0  -0.01     -69.96      61.47   0.01  -0.10    3236.57\n",
            "1   0.08     -12.92      -0.11  -0.01   0.26     137.41\n",
            "2  -0.01      21.70     -13.98   0.00  -0.03      25.99\n",
            "3   0.00      -7.02       4.76   0.00   0.01     -11.20\n",
            "4   0.01      -0.18      -0.29   0.00   0.04      13.60\n",
            "5   0.00       2.51      -2.18   0.00   0.02      18.97\n",
            "6   0.01      -0.21      -0.22   0.00   0.03      11.52\n",
            "7   0.01       0.52      -0.71   0.00   0.03      13.92\n",
            "8   0.01       0.75      -0.90   0.00   0.02      14.21\n",
            "9   0.01       0.48      -0.71   0.00   0.03      13.61\n"
          ],
          "name": "stdout"
        }
      ]
    },
    {
      "cell_type": "markdown",
      "metadata": {
        "id": "tOGzfT3TXA5W"
      },
      "source": [
        "### 2.3.1 Inverse transformation:"
      ]
    },
    {
      "cell_type": "code",
      "metadata": {
        "id": "cRNIlAPVqoBk",
        "outputId": "e34f8e39-bef5-4482-a5c9-299b621339ab",
        "colab": {
          "base_uri": "https://localhost:8080/"
        }
      },
      "source": [
        "def inverse_diff(train, df_pred):\n",
        "    \"\"\"Revert back the differencing to get the forecast to original scale.\"\"\"\n",
        "    df_fc = df_pred.copy()\n",
        "    columns = train_var.columns\n",
        "    for col in columns:        \n",
        "        # Roll back 1st Diff\n",
        "        df_fc[str(col)+'_fcast'] = train_var[col].iloc[-1] + df_fc[str(col)+'_1d'].cumsum()\n",
        "    return df_fc\n",
        "\n",
        "df_results = inverse_diff(train_var, df_pred)        \n",
        "z = df_results.loc[:, ['es_fcast', 'eurusd_fcast', 'gbpusd_fcast', \n",
        "                       'gc_fcast','nq_fcast', 'usdjpy_fcast']]\n",
        "print(z)"
      ],
      "execution_count": 120,
      "outputs": [
        {
          "output_type": "stream",
          "text": [
            "   es_fcast  eurusd_fcast  gbpusd_fcast  gc_fcast  nq_fcast  usdjpy_fcast\n",
            "0   3027.11    1110715.04    1235486.47   1731.81   9587.27  107779236.57\n",
            "1   3027.20    1110702.12    1235486.36   1731.80   9587.54  107779373.99\n",
            "2   3027.18    1110723.82    1235472.37   1731.80   9587.50  107779399.98\n",
            "3   3027.19    1110716.80    1235477.14   1731.80   9587.52  107779388.78\n",
            "4   3027.20    1110716.62    1235476.84   1731.80   9587.56  107779402.38\n",
            "5   3027.20    1110719.13    1235474.67   1731.80   9587.58  107779421.35\n",
            "6   3027.20    1110718.92    1235474.45   1731.81   9587.61  107779432.87\n",
            "7   3027.21    1110719.44    1235473.74   1731.81   9587.63  107779446.79\n",
            "8   3027.21    1110720.19    1235472.84   1731.81   9587.66  107779461.00\n",
            "9   3027.22    1110720.67    1235472.13   1731.81   9587.68  107779474.61\n"
          ],
          "name": "stdout"
        }
      ]
    },
    {
      "cell_type": "code",
      "metadata": {
        "id": "W6BzicM-trAp",
        "outputId": "6f076d0a-763f-40b2-f8a1-1c520bde29c8",
        "colab": {
          "base_uri": "https://localhost:8080/",
          "height": 614
        }
      },
      "source": [
        "z.index = test_var.index\n",
        "lag2 = pd.concat([test_var, z], axis=1)\n",
        "lag2 = lag2[['eurusd','eurusd_fcast','gbpusd','gbpusd_fcast','usdjpy','usdjpy_fcast',\n",
        "                 'es','es_fcast','gc','gc_fcast','nq','nq_fcast']]\n",
        "lag2 = lag2.sort_values(by='timestamp', ascending=False)\n",
        "def highlight_cols(s):\n",
        "    color = 'yellow'\n",
        "    return 'background-color: %s' % color\n",
        "lag2.style.applymap(highlight_cols, subset=pd.IndexSlice[:, ['eurusd_fcast','gbpusd_fcast','usdjpy_fcast',\n",
        "                                                               'nq_fcast','es_fcast','gc_fcast']])"
      ],
      "execution_count": 121,
      "outputs": [
        {
          "output_type": "display_data",
          "data": {
            "application/javascript": [
              "\n",
              "        if (window._pyforest_update_imports_cell) { window._pyforest_update_imports_cell('import lightgbm as lgb\\nimport plotly.express as px\\nimport pydot\\nimport tensorflow as tf\\nimport re\\nimport pandas as pd\\nimport sklearn\\nimport tqdm\\nimport matplotlib.pyplot as plt\\nfrom openpyxl import load_workbook\\nfrom sklearn.model_selection import train_test_split\\nimport numpy as np\\nimport plotly as py'); }\n",
              "    "
            ],
            "text/plain": [
              "<IPython.core.display.Javascript object>"
            ]
          },
          "metadata": {
            "tags": []
          }
        },
        {
          "output_type": "display_data",
          "data": {
            "application/javascript": [
              "\n",
              "        if (window._pyforest_update_imports_cell) { window._pyforest_update_imports_cell('import lightgbm as lgb\\nimport plotly.express as px\\nimport pydot\\nimport tensorflow as tf\\nimport re\\nimport pandas as pd\\nimport sklearn\\nimport tqdm\\nimport matplotlib.pyplot as plt\\nfrom openpyxl import load_workbook\\nfrom sklearn.model_selection import train_test_split\\nimport numpy as np\\nimport plotly as py'); }\n",
              "    "
            ],
            "text/plain": [
              "<IPython.core.display.Javascript object>"
            ]
          },
          "metadata": {
            "tags": []
          }
        },
        {
          "output_type": "execute_result",
          "data": {
            "text/html": [
              "<style  type=\"text/css\" >\n",
              "#T_0a7cd0a8_1f3a_11eb_9b24_0242ac1c0002row0_col1,#T_0a7cd0a8_1f3a_11eb_9b24_0242ac1c0002row0_col3,#T_0a7cd0a8_1f3a_11eb_9b24_0242ac1c0002row0_col5,#T_0a7cd0a8_1f3a_11eb_9b24_0242ac1c0002row0_col7,#T_0a7cd0a8_1f3a_11eb_9b24_0242ac1c0002row0_col9,#T_0a7cd0a8_1f3a_11eb_9b24_0242ac1c0002row0_col11,#T_0a7cd0a8_1f3a_11eb_9b24_0242ac1c0002row1_col1,#T_0a7cd0a8_1f3a_11eb_9b24_0242ac1c0002row1_col3,#T_0a7cd0a8_1f3a_11eb_9b24_0242ac1c0002row1_col5,#T_0a7cd0a8_1f3a_11eb_9b24_0242ac1c0002row1_col7,#T_0a7cd0a8_1f3a_11eb_9b24_0242ac1c0002row1_col9,#T_0a7cd0a8_1f3a_11eb_9b24_0242ac1c0002row1_col11,#T_0a7cd0a8_1f3a_11eb_9b24_0242ac1c0002row2_col1,#T_0a7cd0a8_1f3a_11eb_9b24_0242ac1c0002row2_col3,#T_0a7cd0a8_1f3a_11eb_9b24_0242ac1c0002row2_col5,#T_0a7cd0a8_1f3a_11eb_9b24_0242ac1c0002row2_col7,#T_0a7cd0a8_1f3a_11eb_9b24_0242ac1c0002row2_col9,#T_0a7cd0a8_1f3a_11eb_9b24_0242ac1c0002row2_col11,#T_0a7cd0a8_1f3a_11eb_9b24_0242ac1c0002row3_col1,#T_0a7cd0a8_1f3a_11eb_9b24_0242ac1c0002row3_col3,#T_0a7cd0a8_1f3a_11eb_9b24_0242ac1c0002row3_col5,#T_0a7cd0a8_1f3a_11eb_9b24_0242ac1c0002row3_col7,#T_0a7cd0a8_1f3a_11eb_9b24_0242ac1c0002row3_col9,#T_0a7cd0a8_1f3a_11eb_9b24_0242ac1c0002row3_col11,#T_0a7cd0a8_1f3a_11eb_9b24_0242ac1c0002row4_col1,#T_0a7cd0a8_1f3a_11eb_9b24_0242ac1c0002row4_col3,#T_0a7cd0a8_1f3a_11eb_9b24_0242ac1c0002row4_col5,#T_0a7cd0a8_1f3a_11eb_9b24_0242ac1c0002row4_col7,#T_0a7cd0a8_1f3a_11eb_9b24_0242ac1c0002row4_col9,#T_0a7cd0a8_1f3a_11eb_9b24_0242ac1c0002row4_col11,#T_0a7cd0a8_1f3a_11eb_9b24_0242ac1c0002row5_col1,#T_0a7cd0a8_1f3a_11eb_9b24_0242ac1c0002row5_col3,#T_0a7cd0a8_1f3a_11eb_9b24_0242ac1c0002row5_col5,#T_0a7cd0a8_1f3a_11eb_9b24_0242ac1c0002row5_col7,#T_0a7cd0a8_1f3a_11eb_9b24_0242ac1c0002row5_col9,#T_0a7cd0a8_1f3a_11eb_9b24_0242ac1c0002row5_col11,#T_0a7cd0a8_1f3a_11eb_9b24_0242ac1c0002row6_col1,#T_0a7cd0a8_1f3a_11eb_9b24_0242ac1c0002row6_col3,#T_0a7cd0a8_1f3a_11eb_9b24_0242ac1c0002row6_col5,#T_0a7cd0a8_1f3a_11eb_9b24_0242ac1c0002row6_col7,#T_0a7cd0a8_1f3a_11eb_9b24_0242ac1c0002row6_col9,#T_0a7cd0a8_1f3a_11eb_9b24_0242ac1c0002row6_col11,#T_0a7cd0a8_1f3a_11eb_9b24_0242ac1c0002row7_col1,#T_0a7cd0a8_1f3a_11eb_9b24_0242ac1c0002row7_col3,#T_0a7cd0a8_1f3a_11eb_9b24_0242ac1c0002row7_col5,#T_0a7cd0a8_1f3a_11eb_9b24_0242ac1c0002row7_col7,#T_0a7cd0a8_1f3a_11eb_9b24_0242ac1c0002row7_col9,#T_0a7cd0a8_1f3a_11eb_9b24_0242ac1c0002row7_col11,#T_0a7cd0a8_1f3a_11eb_9b24_0242ac1c0002row8_col1,#T_0a7cd0a8_1f3a_11eb_9b24_0242ac1c0002row8_col3,#T_0a7cd0a8_1f3a_11eb_9b24_0242ac1c0002row8_col5,#T_0a7cd0a8_1f3a_11eb_9b24_0242ac1c0002row8_col7,#T_0a7cd0a8_1f3a_11eb_9b24_0242ac1c0002row8_col9,#T_0a7cd0a8_1f3a_11eb_9b24_0242ac1c0002row8_col11,#T_0a7cd0a8_1f3a_11eb_9b24_0242ac1c0002row9_col1,#T_0a7cd0a8_1f3a_11eb_9b24_0242ac1c0002row9_col3,#T_0a7cd0a8_1f3a_11eb_9b24_0242ac1c0002row9_col5,#T_0a7cd0a8_1f3a_11eb_9b24_0242ac1c0002row9_col7,#T_0a7cd0a8_1f3a_11eb_9b24_0242ac1c0002row9_col9,#T_0a7cd0a8_1f3a_11eb_9b24_0242ac1c0002row9_col11{\n",
              "            background-color:  yellow;\n",
              "        }</style><table id=\"T_0a7cd0a8_1f3a_11eb_9b24_0242ac1c0002\" ><thead>    <tr>        <th class=\"blank level0\" ></th>        <th class=\"col_heading level0 col0\" >eurusd</th>        <th class=\"col_heading level0 col1\" >eurusd_fcast</th>        <th class=\"col_heading level0 col2\" >gbpusd</th>        <th class=\"col_heading level0 col3\" >gbpusd_fcast</th>        <th class=\"col_heading level0 col4\" >usdjpy</th>        <th class=\"col_heading level0 col5\" >usdjpy_fcast</th>        <th class=\"col_heading level0 col6\" >es</th>        <th class=\"col_heading level0 col7\" >es_fcast</th>        <th class=\"col_heading level0 col8\" >gc</th>        <th class=\"col_heading level0 col9\" >gc_fcast</th>        <th class=\"col_heading level0 col10\" >nq</th>        <th class=\"col_heading level0 col11\" >nq_fcast</th>    </tr>    <tr>        <th class=\"index_name level0\" >timestamp</th>        <th class=\"blank\" ></th>        <th class=\"blank\" ></th>        <th class=\"blank\" ></th>        <th class=\"blank\" ></th>        <th class=\"blank\" ></th>        <th class=\"blank\" ></th>        <th class=\"blank\" ></th>        <th class=\"blank\" ></th>        <th class=\"blank\" ></th>        <th class=\"blank\" ></th>        <th class=\"blank\" ></th>        <th class=\"blank\" ></th>    </tr></thead><tbody>\n",
              "                <tr>\n",
              "                        <th id=\"T_0a7cd0a8_1f3a_11eb_9b24_0242ac1c0002level0_row0\" class=\"row_heading level0 row0\" >2020-05-29 21:00:00</th>\n",
              "                        <td id=\"T_0a7cd0a8_1f3a_11eb_9b24_0242ac1c0002row0_col0\" class=\"data row0 col0\" >1113400.000000</td>\n",
              "                        <td id=\"T_0a7cd0a8_1f3a_11eb_9b24_0242ac1c0002row0_col1\" class=\"data row0 col1\" >1110720.673475</td>\n",
              "                        <td id=\"T_0a7cd0a8_1f3a_11eb_9b24_0242ac1c0002row0_col2\" class=\"data row0 col2\" >1237150.000000</td>\n",
              "                        <td id=\"T_0a7cd0a8_1f3a_11eb_9b24_0242ac1c0002row0_col3\" class=\"data row0 col3\" >1235472.134980</td>\n",
              "                        <td id=\"T_0a7cd0a8_1f3a_11eb_9b24_0242ac1c0002row0_col4\" class=\"data row0 col4\" >107835000.000000</td>\n",
              "                        <td id=\"T_0a7cd0a8_1f3a_11eb_9b24_0242ac1c0002row0_col5\" class=\"data row0 col5\" >107779474.610216</td>\n",
              "                        <td id=\"T_0a7cd0a8_1f3a_11eb_9b24_0242ac1c0002row0_col6\" class=\"data row0 col6\" >3027.250000</td>\n",
              "                        <td id=\"T_0a7cd0a8_1f3a_11eb_9b24_0242ac1c0002row0_col7\" class=\"data row0 col7\" >3027.219550</td>\n",
              "                        <td id=\"T_0a7cd0a8_1f3a_11eb_9b24_0242ac1c0002row0_col8\" class=\"data row0 col8\" >1731.350000</td>\n",
              "                        <td id=\"T_0a7cd0a8_1f3a_11eb_9b24_0242ac1c0002row0_col9\" class=\"data row0 col9\" >1731.809730</td>\n",
              "                        <td id=\"T_0a7cd0a8_1f3a_11eb_9b24_0242ac1c0002row0_col10\" class=\"data row0 col10\" >9591.125000</td>\n",
              "                        <td id=\"T_0a7cd0a8_1f3a_11eb_9b24_0242ac1c0002row0_col11\" class=\"data row0 col11\" >9587.682855</td>\n",
              "            </tr>\n",
              "            <tr>\n",
              "                        <th id=\"T_0a7cd0a8_1f3a_11eb_9b24_0242ac1c0002level0_row1\" class=\"row_heading level0 row1\" >2020-05-29 20:59:00</th>\n",
              "                        <td id=\"T_0a7cd0a8_1f3a_11eb_9b24_0242ac1c0002row1_col0\" class=\"data row1 col0\" >1113400.000000</td>\n",
              "                        <td id=\"T_0a7cd0a8_1f3a_11eb_9b24_0242ac1c0002row1_col1\" class=\"data row1 col1\" >1110720.189034</td>\n",
              "                        <td id=\"T_0a7cd0a8_1f3a_11eb_9b24_0242ac1c0002row1_col2\" class=\"data row1 col2\" >1235450.000000</td>\n",
              "                        <td id=\"T_0a7cd0a8_1f3a_11eb_9b24_0242ac1c0002row1_col3\" class=\"data row1 col3\" >1235472.841678</td>\n",
              "                        <td id=\"T_0a7cd0a8_1f3a_11eb_9b24_0242ac1c0002row1_col4\" class=\"data row1 col4\" >107835000.000000</td>\n",
              "                        <td id=\"T_0a7cd0a8_1f3a_11eb_9b24_0242ac1c0002row1_col5\" class=\"data row1 col5\" >107779461.003842</td>\n",
              "                        <td id=\"T_0a7cd0a8_1f3a_11eb_9b24_0242ac1c0002row1_col6\" class=\"data row1 col6\" >3027.250000</td>\n",
              "                        <td id=\"T_0a7cd0a8_1f3a_11eb_9b24_0242ac1c0002row1_col7\" class=\"data row1 col7\" >3027.214354</td>\n",
              "                        <td id=\"T_0a7cd0a8_1f3a_11eb_9b24_0242ac1c0002row1_col8\" class=\"data row1 col8\" >1731.300000</td>\n",
              "                        <td id=\"T_0a7cd0a8_1f3a_11eb_9b24_0242ac1c0002row1_col9\" class=\"data row1 col9\" >1731.808504</td>\n",
              "                        <td id=\"T_0a7cd0a8_1f3a_11eb_9b24_0242ac1c0002row1_col10\" class=\"data row1 col10\" >9587.375000</td>\n",
              "                        <td id=\"T_0a7cd0a8_1f3a_11eb_9b24_0242ac1c0002row1_col11\" class=\"data row1 col11\" >9587.657311</td>\n",
              "            </tr>\n",
              "            <tr>\n",
              "                        <th id=\"T_0a7cd0a8_1f3a_11eb_9b24_0242ac1c0002level0_row2\" class=\"row_heading level0 row2\" >2020-05-29 20:58:00</th>\n",
              "                        <td id=\"T_0a7cd0a8_1f3a_11eb_9b24_0242ac1c0002row2_col0\" class=\"data row2 col0\" >1111650.000000</td>\n",
              "                        <td id=\"T_0a7cd0a8_1f3a_11eb_9b24_0242ac1c0002row2_col1\" class=\"data row2 col1\" >1110719.440317</td>\n",
              "                        <td id=\"T_0a7cd0a8_1f3a_11eb_9b24_0242ac1c0002row2_col2\" class=\"data row2 col2\" >1235450.000000</td>\n",
              "                        <td id=\"T_0a7cd0a8_1f3a_11eb_9b24_0242ac1c0002row2_col3\" class=\"data row2 col3\" >1235473.743868</td>\n",
              "                        <td id=\"T_0a7cd0a8_1f3a_11eb_9b24_0242ac1c0002row2_col4\" class=\"data row2 col4\" >107830000.000000</td>\n",
              "                        <td id=\"T_0a7cd0a8_1f3a_11eb_9b24_0242ac1c0002row2_col5\" class=\"data row2 col5\" >107779446.790772</td>\n",
              "                        <td id=\"T_0a7cd0a8_1f3a_11eb_9b24_0242ac1c0002row2_col6\" class=\"data row2 col6\" >3027.250000</td>\n",
              "                        <td id=\"T_0a7cd0a8_1f3a_11eb_9b24_0242ac1c0002row2_col7\" class=\"data row2 col7\" >3027.209330</td>\n",
              "                        <td id=\"T_0a7cd0a8_1f3a_11eb_9b24_0242ac1c0002row2_col8\" class=\"data row2 col8\" >1731.450000</td>\n",
              "                        <td id=\"T_0a7cd0a8_1f3a_11eb_9b24_0242ac1c0002row2_col9\" class=\"data row2 col9\" >1731.807275</td>\n",
              "                        <td id=\"T_0a7cd0a8_1f3a_11eb_9b24_0242ac1c0002row2_col10\" class=\"data row2 col10\" >9588.625000</td>\n",
              "                        <td id=\"T_0a7cd0a8_1f3a_11eb_9b24_0242ac1c0002row2_col11\" class=\"data row2 col11\" >9587.632369</td>\n",
              "            </tr>\n",
              "            <tr>\n",
              "                        <th id=\"T_0a7cd0a8_1f3a_11eb_9b24_0242ac1c0002level0_row3\" class=\"row_heading level0 row3\" >2020-05-29 20:57:00</th>\n",
              "                        <td id=\"T_0a7cd0a8_1f3a_11eb_9b24_0242ac1c0002row3_col0\" class=\"data row3 col0\" >1111750.000000</td>\n",
              "                        <td id=\"T_0a7cd0a8_1f3a_11eb_9b24_0242ac1c0002row3_col1\" class=\"data row3 col1\" >1110718.919549</td>\n",
              "                        <td id=\"T_0a7cd0a8_1f3a_11eb_9b24_0242ac1c0002row3_col2\" class=\"data row3 col2\" >1235450.000000</td>\n",
              "                        <td id=\"T_0a7cd0a8_1f3a_11eb_9b24_0242ac1c0002row3_col3\" class=\"data row3 col3\" >1235474.450519</td>\n",
              "                        <td id=\"T_0a7cd0a8_1f3a_11eb_9b24_0242ac1c0002row3_col4\" class=\"data row3 col4\" >107830000.000000</td>\n",
              "                        <td id=\"T_0a7cd0a8_1f3a_11eb_9b24_0242ac1c0002row3_col5\" class=\"data row3 col5\" >107779432.871366</td>\n",
              "                        <td id=\"T_0a7cd0a8_1f3a_11eb_9b24_0242ac1c0002row3_col6\" class=\"data row3 col6\" >3027.250000</td>\n",
              "                        <td id=\"T_0a7cd0a8_1f3a_11eb_9b24_0242ac1c0002row3_col7\" class=\"data row3 col7\" >3027.203692</td>\n",
              "                        <td id=\"T_0a7cd0a8_1f3a_11eb_9b24_0242ac1c0002row3_col8\" class=\"data row3 col8\" >1731.200000</td>\n",
              "                        <td id=\"T_0a7cd0a8_1f3a_11eb_9b24_0242ac1c0002row3_col9\" class=\"data row3 col9\" >1731.806015</td>\n",
              "                        <td id=\"T_0a7cd0a8_1f3a_11eb_9b24_0242ac1c0002row3_col10\" class=\"data row3 col10\" >9588.500000</td>\n",
              "                        <td id=\"T_0a7cd0a8_1f3a_11eb_9b24_0242ac1c0002row3_col11\" class=\"data row3 col11\" >9587.605301</td>\n",
              "            </tr>\n",
              "            <tr>\n",
              "                        <th id=\"T_0a7cd0a8_1f3a_11eb_9b24_0242ac1c0002level0_row4\" class=\"row_heading level0 row4\" >2020-05-29 20:56:00</th>\n",
              "                        <td id=\"T_0a7cd0a8_1f3a_11eb_9b24_0242ac1c0002row4_col0\" class=\"data row4 col0\" >1111740.000000</td>\n",
              "                        <td id=\"T_0a7cd0a8_1f3a_11eb_9b24_0242ac1c0002row4_col1\" class=\"data row4 col1\" >1110719.134196</td>\n",
              "                        <td id=\"T_0a7cd0a8_1f3a_11eb_9b24_0242ac1c0002row4_col2\" class=\"data row4 col2\" >1235400.000000</td>\n",
              "                        <td id=\"T_0a7cd0a8_1f3a_11eb_9b24_0242ac1c0002row4_col3\" class=\"data row4 col3\" >1235474.667358</td>\n",
              "                        <td id=\"T_0a7cd0a8_1f3a_11eb_9b24_0242ac1c0002row4_col4\" class=\"data row4 col4\" >107675000.000000</td>\n",
              "                        <td id=\"T_0a7cd0a8_1f3a_11eb_9b24_0242ac1c0002row4_col5\" class=\"data row4 col5\" >107779421.346578</td>\n",
              "                        <td id=\"T_0a7cd0a8_1f3a_11eb_9b24_0242ac1c0002row4_col6\" class=\"data row4 col6\" >3027.250000</td>\n",
              "                        <td id=\"T_0a7cd0a8_1f3a_11eb_9b24_0242ac1c0002row4_col7\" class=\"data row4 col7\" >3027.198638</td>\n",
              "                        <td id=\"T_0a7cd0a8_1f3a_11eb_9b24_0242ac1c0002row4_col8\" class=\"data row4 col8\" >1731.500000</td>\n",
              "                        <td id=\"T_0a7cd0a8_1f3a_11eb_9b24_0242ac1c0002row4_col9\" class=\"data row4 col9\" >1731.804841</td>\n",
              "                        <td id=\"T_0a7cd0a8_1f3a_11eb_9b24_0242ac1c0002row4_col10\" class=\"data row4 col10\" >9588.625000</td>\n",
              "                        <td id=\"T_0a7cd0a8_1f3a_11eb_9b24_0242ac1c0002row4_col11\" class=\"data row4 col11\" >9587.580201</td>\n",
              "            </tr>\n",
              "            <tr>\n",
              "                        <th id=\"T_0a7cd0a8_1f3a_11eb_9b24_0242ac1c0002level0_row5\" class=\"row_heading level0 row5\" >2020-05-29 20:55:00</th>\n",
              "                        <td id=\"T_0a7cd0a8_1f3a_11eb_9b24_0242ac1c0002row5_col0\" class=\"data row5 col0\" >1110660.000000</td>\n",
              "                        <td id=\"T_0a7cd0a8_1f3a_11eb_9b24_0242ac1c0002row5_col1\" class=\"data row5 col1\" >1110716.619451</td>\n",
              "                        <td id=\"T_0a7cd0a8_1f3a_11eb_9b24_0242ac1c0002row5_col2\" class=\"data row5 col2\" >1234990.000000</td>\n",
              "                        <td id=\"T_0a7cd0a8_1f3a_11eb_9b24_0242ac1c0002row5_col3\" class=\"data row5 col3\" >1235476.844851</td>\n",
              "                        <td id=\"T_0a7cd0a8_1f3a_11eb_9b24_0242ac1c0002row5_col4\" class=\"data row5 col4\" >107766500.000000</td>\n",
              "                        <td id=\"T_0a7cd0a8_1f3a_11eb_9b24_0242ac1c0002row5_col5\" class=\"data row5 col5\" >107779402.377704</td>\n",
              "                        <td id=\"T_0a7cd0a8_1f3a_11eb_9b24_0242ac1c0002row5_col6\" class=\"data row5 col6\" >3027.000000</td>\n",
              "                        <td id=\"T_0a7cd0a8_1f3a_11eb_9b24_0242ac1c0002row5_col7\" class=\"data row5 col7\" >3027.195158</td>\n",
              "                        <td id=\"T_0a7cd0a8_1f3a_11eb_9b24_0242ac1c0002row5_col8\" class=\"data row5 col8\" >1731.550000</td>\n",
              "                        <td id=\"T_0a7cd0a8_1f3a_11eb_9b24_0242ac1c0002row5_col9\" class=\"data row5 col9\" >1731.803617</td>\n",
              "                        <td id=\"T_0a7cd0a8_1f3a_11eb_9b24_0242ac1c0002row5_col10\" class=\"data row5 col10\" >9587.875000</td>\n",
              "                        <td id=\"T_0a7cd0a8_1f3a_11eb_9b24_0242ac1c0002row5_col11\" class=\"data row5 col11\" >9587.560653</td>\n",
              "            </tr>\n",
              "            <tr>\n",
              "                        <th id=\"T_0a7cd0a8_1f3a_11eb_9b24_0242ac1c0002level0_row6\" class=\"row_heading level0 row6\" >2020-05-29 20:54:00</th>\n",
              "                        <td id=\"T_0a7cd0a8_1f3a_11eb_9b24_0242ac1c0002row6_col0\" class=\"data row6 col0\" >1110785.000000</td>\n",
              "                        <td id=\"T_0a7cd0a8_1f3a_11eb_9b24_0242ac1c0002row6_col1\" class=\"data row6 col1\" >1110716.796679</td>\n",
              "                        <td id=\"T_0a7cd0a8_1f3a_11eb_9b24_0242ac1c0002row6_col2\" class=\"data row6 col2\" >1235090.000000</td>\n",
              "                        <td id=\"T_0a7cd0a8_1f3a_11eb_9b24_0242ac1c0002row6_col3\" class=\"data row6 col3\" >1235477.137286</td>\n",
              "                        <td id=\"T_0a7cd0a8_1f3a_11eb_9b24_0242ac1c0002row6_col4\" class=\"data row6 col4\" >107788500.000000</td>\n",
              "                        <td id=\"T_0a7cd0a8_1f3a_11eb_9b24_0242ac1c0002row6_col5\" class=\"data row6 col5\" >107779388.780687</td>\n",
              "                        <td id=\"T_0a7cd0a8_1f3a_11eb_9b24_0242ac1c0002row6_col6\" class=\"data row6 col6\" >3026.625000</td>\n",
              "                        <td id=\"T_0a7cd0a8_1f3a_11eb_9b24_0242ac1c0002row6_col7\" class=\"data row6 col7\" >3027.185194</td>\n",
              "                        <td id=\"T_0a7cd0a8_1f3a_11eb_9b24_0242ac1c0002row6_col8\" class=\"data row6 col8\" >1731.750000</td>\n",
              "                        <td id=\"T_0a7cd0a8_1f3a_11eb_9b24_0242ac1c0002row6_col9\" class=\"data row6 col9\" >1731.802118</td>\n",
              "                        <td id=\"T_0a7cd0a8_1f3a_11eb_9b24_0242ac1c0002row6_col10\" class=\"data row6 col10\" >9586.375000</td>\n",
              "                        <td id=\"T_0a7cd0a8_1f3a_11eb_9b24_0242ac1c0002row6_col11\" class=\"data row6 col11\" >9587.518859</td>\n",
              "            </tr>\n",
              "            <tr>\n",
              "                        <th id=\"T_0a7cd0a8_1f3a_11eb_9b24_0242ac1c0002level0_row7\" class=\"row_heading level0 row7\" >2020-05-29 20:53:00</th>\n",
              "                        <td id=\"T_0a7cd0a8_1f3a_11eb_9b24_0242ac1c0002row7_col0\" class=\"data row7 col0\" >1110845.000000</td>\n",
              "                        <td id=\"T_0a7cd0a8_1f3a_11eb_9b24_0242ac1c0002row7_col1\" class=\"data row7 col1\" >1110723.816640</td>\n",
              "                        <td id=\"T_0a7cd0a8_1f3a_11eb_9b24_0242ac1c0002row7_col2\" class=\"data row7 col2\" >1234890.000000</td>\n",
              "                        <td id=\"T_0a7cd0a8_1f3a_11eb_9b24_0242ac1c0002row7_col3\" class=\"data row7 col3\" >1235472.373105</td>\n",
              "                        <td id=\"T_0a7cd0a8_1f3a_11eb_9b24_0242ac1c0002row7_col4\" class=\"data row7 col4\" >107784500.000000</td>\n",
              "                        <td id=\"T_0a7cd0a8_1f3a_11eb_9b24_0242ac1c0002row7_col5\" class=\"data row7 col5\" >107779399.978182</td>\n",
              "                        <td id=\"T_0a7cd0a8_1f3a_11eb_9b24_0242ac1c0002row7_col6\" class=\"data row7 col6\" >3027.000000</td>\n",
              "                        <td id=\"T_0a7cd0a8_1f3a_11eb_9b24_0242ac1c0002row7_col7\" class=\"data row7 col7\" >3027.183327</td>\n",
              "                        <td id=\"T_0a7cd0a8_1f3a_11eb_9b24_0242ac1c0002row7_col8\" class=\"data row7 col8\" >1731.750000</td>\n",
              "                        <td id=\"T_0a7cd0a8_1f3a_11eb_9b24_0242ac1c0002row7_col9\" class=\"data row7 col9\" >1731.801320</td>\n",
              "                        <td id=\"T_0a7cd0a8_1f3a_11eb_9b24_0242ac1c0002row7_col10\" class=\"data row7 col10\" >9587.875000</td>\n",
              "                        <td id=\"T_0a7cd0a8_1f3a_11eb_9b24_0242ac1c0002row7_col11\" class=\"data row7 col11\" >9587.503955</td>\n",
              "            </tr>\n",
              "            <tr>\n",
              "                        <th id=\"T_0a7cd0a8_1f3a_11eb_9b24_0242ac1c0002level0_row8\" class=\"row_heading level0 row8\" >2020-05-29 20:52:00</th>\n",
              "                        <td id=\"T_0a7cd0a8_1f3a_11eb_9b24_0242ac1c0002row8_col0\" class=\"data row8 col0\" >1110745.000000</td>\n",
              "                        <td id=\"T_0a7cd0a8_1f3a_11eb_9b24_0242ac1c0002row8_col1\" class=\"data row8 col1\" >1110702.119943</td>\n",
              "                        <td id=\"T_0a7cd0a8_1f3a_11eb_9b24_0242ac1c0002row8_col2\" class=\"data row8 col2\" >1235140.000000</td>\n",
              "                        <td id=\"T_0a7cd0a8_1f3a_11eb_9b24_0242ac1c0002row8_col3\" class=\"data row8 col3\" >1235486.357076</td>\n",
              "                        <td id=\"T_0a7cd0a8_1f3a_11eb_9b24_0242ac1c0002row8_col4\" class=\"data row8 col4\" >107779000.000000</td>\n",
              "                        <td id=\"T_0a7cd0a8_1f3a_11eb_9b24_0242ac1c0002row8_col5\" class=\"data row8 col5\" >107779373.988008</td>\n",
              "                        <td id=\"T_0a7cd0a8_1f3a_11eb_9b24_0242ac1c0002row8_col6\" class=\"data row8 col6\" >3027.000000</td>\n",
              "                        <td id=\"T_0a7cd0a8_1f3a_11eb_9b24_0242ac1c0002row8_col7\" class=\"data row8 col7\" >3027.195394</td>\n",
              "                        <td id=\"T_0a7cd0a8_1f3a_11eb_9b24_0242ac1c0002row8_col8\" class=\"data row8 col8\" >1731.500000</td>\n",
              "                        <td id=\"T_0a7cd0a8_1f3a_11eb_9b24_0242ac1c0002row8_col9\" class=\"data row8 col9\" >1731.799854</td>\n",
              "                        <td id=\"T_0a7cd0a8_1f3a_11eb_9b24_0242ac1c0002row8_col10\" class=\"data row8 col10\" >9586.875000</td>\n",
              "                        <td id=\"T_0a7cd0a8_1f3a_11eb_9b24_0242ac1c0002row8_col11\" class=\"data row8 col11\" >9587.535450</td>\n",
              "            </tr>\n",
              "            <tr>\n",
              "                        <th id=\"T_0a7cd0a8_1f3a_11eb_9b24_0242ac1c0002level0_row9\" class=\"row_heading level0 row9\" >2020-05-29 20:51:00</th>\n",
              "                        <td id=\"T_0a7cd0a8_1f3a_11eb_9b24_0242ac1c0002row9_col0\" class=\"data row9 col0\" >1110660.000000</td>\n",
              "                        <td id=\"T_0a7cd0a8_1f3a_11eb_9b24_0242ac1c0002row9_col1\" class=\"data row9 col1\" >1110715.042027</td>\n",
              "                        <td id=\"T_0a7cd0a8_1f3a_11eb_9b24_0242ac1c0002row9_col2\" class=\"data row9 col2\" >1235245.000000</td>\n",
              "                        <td id=\"T_0a7cd0a8_1f3a_11eb_9b24_0242ac1c0002row9_col3\" class=\"data row9 col3\" >1235486.470572</td>\n",
              "                        <td id=\"T_0a7cd0a8_1f3a_11eb_9b24_0242ac1c0002row9_col4\" class=\"data row9 col4\" >107773500.000000</td>\n",
              "                        <td id=\"T_0a7cd0a8_1f3a_11eb_9b24_0242ac1c0002row9_col5\" class=\"data row9 col5\" >107779236.574187</td>\n",
              "                        <td id=\"T_0a7cd0a8_1f3a_11eb_9b24_0242ac1c0002row9_col6\" class=\"data row9 col6\" >3027.125000</td>\n",
              "                        <td id=\"T_0a7cd0a8_1f3a_11eb_9b24_0242ac1c0002row9_col7\" class=\"data row9 col7\" >3027.114832</td>\n",
              "                        <td id=\"T_0a7cd0a8_1f3a_11eb_9b24_0242ac1c0002row9_col8\" class=\"data row9 col8\" >1731.850000</td>\n",
              "                        <td id=\"T_0a7cd0a8_1f3a_11eb_9b24_0242ac1c0002row9_col9\" class=\"data row9 col9\" >1731.806088</td>\n",
              "                        <td id=\"T_0a7cd0a8_1f3a_11eb_9b24_0242ac1c0002row9_col10\" class=\"data row9 col10\" >9587.375000</td>\n",
              "                        <td id=\"T_0a7cd0a8_1f3a_11eb_9b24_0242ac1c0002row9_col11\" class=\"data row9 col11\" >9587.274870</td>\n",
              "            </tr>\n",
              "    </tbody></table>"
            ],
            "text/plain": [
              "<pandas.io.formats.style.Styler at 0x7f6a1ba97588>"
            ]
          },
          "metadata": {
            "tags": []
          },
          "execution_count": 121
        }
      ]
    },
    {
      "cell_type": "code",
      "metadata": {
        "id": "yXtAufHnmey_"
      },
      "source": [
        "#def inverse_diff(actual_df, pred_df):\n",
        "  #df_res = pred_df.copy()\n",
        "  #columns = actual_df.columns\n",
        "  #for col in columns:\n",
        "    #df_res[str(col)+'_pred'] = actual_\n",
        "    #df[col].iloc[-1] + df_res[str(col)].cumsum()\n",
        "  #return df_res\n",
        "\n",
        "#res = inverse_diff(df[['es','eurusd','gbpusd','gc','nq', 'usdjpy']], df_pred)\n",
        "#res"
      ],
      "execution_count": 122,
      "outputs": []
    },
    {
      "cell_type": "markdown",
      "metadata": {
        "id": "u2IMo52oW31v"
      },
      "source": [
        "### 2.3.2 Forcast validation:"
      ]
    },
    {
      "cell_type": "code",
      "metadata": {
        "id": "gKXyWq45UJ0t",
        "outputId": "9cda1dbe-89d2-40eb-99bf-0fc7207aabc4",
        "colab": {
          "base_uri": "https://localhost:8080/",
          "height": 527
        }
      },
      "source": [
        "# EURUSD forcast validation\n",
        "m = lag2[['eurusd', 'eurusd_fcast']]\n",
        "m['accuracy'] = round(m.apply(lambda row: row.eurusd_fcast / \n",
        "                                            row.eurusd *100, axis = 1),2)\n",
        "m['accuracy'] = pd.Series([\"{0:.2f}%\".format(val) for val in m['accuracy']], \n",
        "                                     index = m.index)\n",
        "m = m.round(decimals=3)\n",
        "m = m.head(10)\n",
        "def highlight_cols(s):\n",
        "    color = 'yellow'\n",
        "    return 'background-color: %s' % color\n",
        "m.style.applymap(highlight_cols, subset=pd.IndexSlice[:, ['eurusd_fcast']])\n"
      ],
      "execution_count": 123,
      "outputs": [
        {
          "output_type": "stream",
          "text": [
            "/usr/local/lib/python3.6/dist-packages/pyforest/__init__.py:4: SettingWithCopyWarning:\n",
            "\n",
            "\n",
            "A value is trying to be set on a copy of a slice from a DataFrame.\n",
            "Try using .loc[row_indexer,col_indexer] = value instead\n",
            "\n",
            "See the caveats in the documentation: https://pandas.pydata.org/pandas-docs/stable/user_guide/indexing.html#returning-a-view-versus-a-copy\n",
            "\n"
          ],
          "name": "stderr"
        },
        {
          "output_type": "display_data",
          "data": {
            "application/javascript": [
              "\n",
              "        if (window._pyforest_update_imports_cell) { window._pyforest_update_imports_cell('import lightgbm as lgb\\nimport plotly.express as px\\nimport pydot\\nimport tensorflow as tf\\nimport re\\nimport pandas as pd\\nimport sklearn\\nimport tqdm\\nimport matplotlib.pyplot as plt\\nfrom openpyxl import load_workbook\\nfrom sklearn.model_selection import train_test_split\\nimport numpy as np\\nimport plotly as py'); }\n",
              "    "
            ],
            "text/plain": [
              "<IPython.core.display.Javascript object>"
            ]
          },
          "metadata": {
            "tags": []
          }
        },
        {
          "output_type": "stream",
          "text": [
            "/usr/local/lib/python3.6/dist-packages/pyforest/__init__.py:6: SettingWithCopyWarning:\n",
            "\n",
            "\n",
            "A value is trying to be set on a copy of a slice from a DataFrame.\n",
            "Try using .loc[row_indexer,col_indexer] = value instead\n",
            "\n",
            "See the caveats in the documentation: https://pandas.pydata.org/pandas-docs/stable/user_guide/indexing.html#returning-a-view-versus-a-copy\n",
            "\n"
          ],
          "name": "stderr"
        },
        {
          "output_type": "display_data",
          "data": {
            "application/javascript": [
              "\n",
              "        if (window._pyforest_update_imports_cell) { window._pyforest_update_imports_cell('import lightgbm as lgb\\nimport plotly.express as px\\nimport pydot\\nimport tensorflow as tf\\nimport re\\nimport pandas as pd\\nimport sklearn\\nimport tqdm\\nimport matplotlib.pyplot as plt\\nfrom openpyxl import load_workbook\\nfrom sklearn.model_selection import train_test_split\\nimport numpy as np\\nimport plotly as py'); }\n",
              "    "
            ],
            "text/plain": [
              "<IPython.core.display.Javascript object>"
            ]
          },
          "metadata": {
            "tags": []
          }
        },
        {
          "output_type": "execute_result",
          "data": {
            "text/html": [
              "<style  type=\"text/css\" >\n",
              "#T_0a836670_1f3a_11eb_9b24_0242ac1c0002row0_col1,#T_0a836670_1f3a_11eb_9b24_0242ac1c0002row1_col1,#T_0a836670_1f3a_11eb_9b24_0242ac1c0002row2_col1,#T_0a836670_1f3a_11eb_9b24_0242ac1c0002row3_col1,#T_0a836670_1f3a_11eb_9b24_0242ac1c0002row4_col1,#T_0a836670_1f3a_11eb_9b24_0242ac1c0002row5_col1,#T_0a836670_1f3a_11eb_9b24_0242ac1c0002row6_col1,#T_0a836670_1f3a_11eb_9b24_0242ac1c0002row7_col1,#T_0a836670_1f3a_11eb_9b24_0242ac1c0002row8_col1,#T_0a836670_1f3a_11eb_9b24_0242ac1c0002row9_col1{\n",
              "            background-color:  yellow;\n",
              "        }</style><table id=\"T_0a836670_1f3a_11eb_9b24_0242ac1c0002\" ><thead>    <tr>        <th class=\"blank level0\" ></th>        <th class=\"col_heading level0 col0\" >eurusd</th>        <th class=\"col_heading level0 col1\" >eurusd_fcast</th>        <th class=\"col_heading level0 col2\" >accuracy</th>    </tr>    <tr>        <th class=\"index_name level0\" >timestamp</th>        <th class=\"blank\" ></th>        <th class=\"blank\" ></th>        <th class=\"blank\" ></th>    </tr></thead><tbody>\n",
              "                <tr>\n",
              "                        <th id=\"T_0a836670_1f3a_11eb_9b24_0242ac1c0002level0_row0\" class=\"row_heading level0 row0\" >2020-05-29 21:00:00</th>\n",
              "                        <td id=\"T_0a836670_1f3a_11eb_9b24_0242ac1c0002row0_col0\" class=\"data row0 col0\" >1113400.000000</td>\n",
              "                        <td id=\"T_0a836670_1f3a_11eb_9b24_0242ac1c0002row0_col1\" class=\"data row0 col1\" >1110720.673000</td>\n",
              "                        <td id=\"T_0a836670_1f3a_11eb_9b24_0242ac1c0002row0_col2\" class=\"data row0 col2\" >99.76%</td>\n",
              "            </tr>\n",
              "            <tr>\n",
              "                        <th id=\"T_0a836670_1f3a_11eb_9b24_0242ac1c0002level0_row1\" class=\"row_heading level0 row1\" >2020-05-29 20:59:00</th>\n",
              "                        <td id=\"T_0a836670_1f3a_11eb_9b24_0242ac1c0002row1_col0\" class=\"data row1 col0\" >1113400.000000</td>\n",
              "                        <td id=\"T_0a836670_1f3a_11eb_9b24_0242ac1c0002row1_col1\" class=\"data row1 col1\" >1110720.189000</td>\n",
              "                        <td id=\"T_0a836670_1f3a_11eb_9b24_0242ac1c0002row1_col2\" class=\"data row1 col2\" >99.76%</td>\n",
              "            </tr>\n",
              "            <tr>\n",
              "                        <th id=\"T_0a836670_1f3a_11eb_9b24_0242ac1c0002level0_row2\" class=\"row_heading level0 row2\" >2020-05-29 20:58:00</th>\n",
              "                        <td id=\"T_0a836670_1f3a_11eb_9b24_0242ac1c0002row2_col0\" class=\"data row2 col0\" >1111650.000000</td>\n",
              "                        <td id=\"T_0a836670_1f3a_11eb_9b24_0242ac1c0002row2_col1\" class=\"data row2 col1\" >1110719.440000</td>\n",
              "                        <td id=\"T_0a836670_1f3a_11eb_9b24_0242ac1c0002row2_col2\" class=\"data row2 col2\" >99.92%</td>\n",
              "            </tr>\n",
              "            <tr>\n",
              "                        <th id=\"T_0a836670_1f3a_11eb_9b24_0242ac1c0002level0_row3\" class=\"row_heading level0 row3\" >2020-05-29 20:57:00</th>\n",
              "                        <td id=\"T_0a836670_1f3a_11eb_9b24_0242ac1c0002row3_col0\" class=\"data row3 col0\" >1111750.000000</td>\n",
              "                        <td id=\"T_0a836670_1f3a_11eb_9b24_0242ac1c0002row3_col1\" class=\"data row3 col1\" >1110718.920000</td>\n",
              "                        <td id=\"T_0a836670_1f3a_11eb_9b24_0242ac1c0002row3_col2\" class=\"data row3 col2\" >99.91%</td>\n",
              "            </tr>\n",
              "            <tr>\n",
              "                        <th id=\"T_0a836670_1f3a_11eb_9b24_0242ac1c0002level0_row4\" class=\"row_heading level0 row4\" >2020-05-29 20:56:00</th>\n",
              "                        <td id=\"T_0a836670_1f3a_11eb_9b24_0242ac1c0002row4_col0\" class=\"data row4 col0\" >1111740.000000</td>\n",
              "                        <td id=\"T_0a836670_1f3a_11eb_9b24_0242ac1c0002row4_col1\" class=\"data row4 col1\" >1110719.134000</td>\n",
              "                        <td id=\"T_0a836670_1f3a_11eb_9b24_0242ac1c0002row4_col2\" class=\"data row4 col2\" >99.91%</td>\n",
              "            </tr>\n",
              "            <tr>\n",
              "                        <th id=\"T_0a836670_1f3a_11eb_9b24_0242ac1c0002level0_row5\" class=\"row_heading level0 row5\" >2020-05-29 20:55:00</th>\n",
              "                        <td id=\"T_0a836670_1f3a_11eb_9b24_0242ac1c0002row5_col0\" class=\"data row5 col0\" >1110660.000000</td>\n",
              "                        <td id=\"T_0a836670_1f3a_11eb_9b24_0242ac1c0002row5_col1\" class=\"data row5 col1\" >1110716.619000</td>\n",
              "                        <td id=\"T_0a836670_1f3a_11eb_9b24_0242ac1c0002row5_col2\" class=\"data row5 col2\" >100.01%</td>\n",
              "            </tr>\n",
              "            <tr>\n",
              "                        <th id=\"T_0a836670_1f3a_11eb_9b24_0242ac1c0002level0_row6\" class=\"row_heading level0 row6\" >2020-05-29 20:54:00</th>\n",
              "                        <td id=\"T_0a836670_1f3a_11eb_9b24_0242ac1c0002row6_col0\" class=\"data row6 col0\" >1110785.000000</td>\n",
              "                        <td id=\"T_0a836670_1f3a_11eb_9b24_0242ac1c0002row6_col1\" class=\"data row6 col1\" >1110716.797000</td>\n",
              "                        <td id=\"T_0a836670_1f3a_11eb_9b24_0242ac1c0002row6_col2\" class=\"data row6 col2\" >99.99%</td>\n",
              "            </tr>\n",
              "            <tr>\n",
              "                        <th id=\"T_0a836670_1f3a_11eb_9b24_0242ac1c0002level0_row7\" class=\"row_heading level0 row7\" >2020-05-29 20:53:00</th>\n",
              "                        <td id=\"T_0a836670_1f3a_11eb_9b24_0242ac1c0002row7_col0\" class=\"data row7 col0\" >1110845.000000</td>\n",
              "                        <td id=\"T_0a836670_1f3a_11eb_9b24_0242ac1c0002row7_col1\" class=\"data row7 col1\" >1110723.817000</td>\n",
              "                        <td id=\"T_0a836670_1f3a_11eb_9b24_0242ac1c0002row7_col2\" class=\"data row7 col2\" >99.99%</td>\n",
              "            </tr>\n",
              "            <tr>\n",
              "                        <th id=\"T_0a836670_1f3a_11eb_9b24_0242ac1c0002level0_row8\" class=\"row_heading level0 row8\" >2020-05-29 20:52:00</th>\n",
              "                        <td id=\"T_0a836670_1f3a_11eb_9b24_0242ac1c0002row8_col0\" class=\"data row8 col0\" >1110745.000000</td>\n",
              "                        <td id=\"T_0a836670_1f3a_11eb_9b24_0242ac1c0002row8_col1\" class=\"data row8 col1\" >1110702.120000</td>\n",
              "                        <td id=\"T_0a836670_1f3a_11eb_9b24_0242ac1c0002row8_col2\" class=\"data row8 col2\" >100.00%</td>\n",
              "            </tr>\n",
              "            <tr>\n",
              "                        <th id=\"T_0a836670_1f3a_11eb_9b24_0242ac1c0002level0_row9\" class=\"row_heading level0 row9\" >2020-05-29 20:51:00</th>\n",
              "                        <td id=\"T_0a836670_1f3a_11eb_9b24_0242ac1c0002row9_col0\" class=\"data row9 col0\" >1110660.000000</td>\n",
              "                        <td id=\"T_0a836670_1f3a_11eb_9b24_0242ac1c0002row9_col1\" class=\"data row9 col1\" >1110715.042000</td>\n",
              "                        <td id=\"T_0a836670_1f3a_11eb_9b24_0242ac1c0002row9_col2\" class=\"data row9 col2\" >100.00%</td>\n",
              "            </tr>\n",
              "    </tbody></table>"
            ],
            "text/plain": [
              "<pandas.io.formats.style.Styler at 0x7f6a1bc44320>"
            ]
          },
          "metadata": {
            "tags": []
          },
          "execution_count": 123
        }
      ]
    },
    {
      "cell_type": "markdown",
      "metadata": {
        "id": "UNoVI8PpWw5S"
      },
      "source": [
        "## 2.3.3 Accuracy Metrics: VAR Lag 2"
      ]
    },
    {
      "cell_type": "code",
      "metadata": {
        "id": "u7I1z987VTek",
        "outputId": "1be6babc-5608-4955-bdb9-84753cba0b9d",
        "colab": {
          "base_uri": "https://localhost:8080/",
          "height": 195
        }
      },
      "source": [
        "from sklearn.metrics import r2_score, mean_absolute_error, mean_squared_error, mean_absolute_error, mean_squared_log_error\n",
        "\n",
        "# score EURUSD\n",
        "mae = mean_absolute_error(lag2.eurusd, lag2.eurusd_fcast)\n",
        "mse = mean_squared_error(lag2.eurusd, lag2.eurusd_fcast)\n",
        "rmse = np.sqrt(mse)\n",
        "mape = np.mean(np.abs((lag2['eurusd'].values - lag2['eurusd_fcast'].values) / lag2['eurusd'].values)) * 100\n",
        "msle = mean_squared_log_error(concat.eurusd, concat.eurusd_fcast)\n",
        "sum = DataFrame(index = ['Mean Absolute Error', 'Mean squared error', 'Root mean squared error',\n",
        "                            'Mean absolute % error','Mean squared log Error'])\n",
        "sum['Accuracy metrics :    EURUSD'] = [mae, mse, rmse, mape, msle]\n",
        "\n",
        "# score GBPUSD\n",
        "mae = mean_absolute_error(lag2.gbpusd, lag2.gbpusd_fcast)\n",
        "mse = mean_squared_error(lag2.gbpusd, lag2.gbpusd_fcast)\n",
        "rmse = np.sqrt(mse)\n",
        "mape = np.mean(np.abs((lag2['gbpusd'].values - lag2['gbpusd_fcast'].values) / lag2['gbpusd'].values)) * 100\n",
        "msle = mean_squared_log_error(lag2.gbpusd, lag2.gbpusd_fcast)\n",
        "sum['GBPUSD'] = [mae, mse, rmse, mape, msle]\n",
        "\n",
        "# score USDJPY\n",
        "mae = mean_absolute_error(lag2.usdjpy, lag2.usdjpy_fcast)\n",
        "mse = mean_squared_error(lag2.usdjpy, lag2.usdjpy_fcast)\n",
        "rmse = np.sqrt(mse)\n",
        "mape = np.mean(np.abs((lag2['usdjpy'].values - lag2['usdjpy_fcast'].values) / lag2['usdjpy'].values)) * 100\n",
        "msle = mean_squared_log_error(concat.usdjpy, concat.usdjpy_fcast)\n",
        "sum['USDJPY'] = [mae, mse, rmse, mape, msle]\n",
        "\n",
        "# score NQ\n",
        "mae = mean_absolute_error(lag2.nq, lag2.nq_fcast)\n",
        "mse = mean_squared_error(lag2.nq, lag2.nq_fcast)\n",
        "rmse = np.sqrt(mse)\n",
        "mape = np.mean(np.abs((lag2['nq'].values - lag2['nq_fcast'].values) / lag2['nq'].values)) * 100\n",
        "msle = mean_squared_log_error(lag2.nq, lag2.nq_fcast)\n",
        "sum['NQ'] = [mae, mse, rmse, mape, msle]\n",
        "\n",
        "# score ES\n",
        "mae = mean_absolute_error(lag2.es, lag2.es_fcast)\n",
        "mse = mean_squared_error(lag2.es, lag2.es_fcast)\n",
        "rmse = np.sqrt(mse)\n",
        "mape = np.mean(np.abs((lag2['es'].values - lag2['es_fcast'].values) / lag2['es'].values)) * 100\n",
        "msle = mean_squared_log_error(lag2.es, lag2.es_fcast)\n",
        "sum['ES'] = [mae, mse, rmse, mape, msle]\n",
        "\n",
        "# score GC\n",
        "mae = mean_absolute_error(lag2.gc, lag2.gc_fcast)\n",
        "mse = mean_squared_error(lag2.gc, lag2.gc_fcast)\n",
        "rmse = np.sqrt(mse)\n",
        "mape = np.mean(np.abs((lag2['gc'].values - lag2['gc_fcast'].values) / lag2['gc'].values)) * 100\n",
        "msle = mean_squared_log_error(lag2.gc, lag2.gc_fcast)\n",
        "sum['GC'] = [mae, mse, rmse, mape, msle]\n",
        "sum\n"
      ],
      "execution_count": 124,
      "outputs": [
        {
          "output_type": "display_data",
          "data": {
            "application/javascript": [
              "\n",
              "        if (window._pyforest_update_imports_cell) { window._pyforest_update_imports_cell('import lightgbm as lgb\\nimport plotly.express as px\\nimport pydot\\nimport tensorflow as tf\\nimport re\\nimport pandas as pd\\nimport sklearn\\nimport tqdm\\nimport matplotlib.pyplot as plt\\nfrom openpyxl import load_workbook\\nfrom sklearn.model_selection import train_test_split\\nimport numpy as np\\nimport plotly as py'); }\n",
              "    "
            ],
            "text/plain": [
              "<IPython.core.display.Javascript object>"
            ]
          },
          "metadata": {
            "tags": []
          }
        },
        {
          "output_type": "display_data",
          "data": {
            "application/javascript": [
              "\n",
              "        if (window._pyforest_update_imports_cell) { window._pyforest_update_imports_cell('import lightgbm as lgb\\nimport plotly.express as px\\nimport pydot\\nimport tensorflow as tf\\nimport re\\nimport pandas as pd\\nimport sklearn\\nimport tqdm\\nimport matplotlib.pyplot as plt\\nfrom openpyxl import load_workbook\\nfrom sklearn.model_selection import train_test_split\\nimport numpy as np\\nimport plotly as py'); }\n",
              "    "
            ],
            "text/plain": [
              "<IPython.core.display.Javascript object>"
            ]
          },
          "metadata": {
            "tags": []
          }
        },
        {
          "output_type": "display_data",
          "data": {
            "application/javascript": [
              "\n",
              "        if (window._pyforest_update_imports_cell) { window._pyforest_update_imports_cell('import lightgbm as lgb\\nimport plotly.express as px\\nimport pydot\\nimport tensorflow as tf\\nimport re\\nimport pandas as pd\\nimport sklearn\\nimport tqdm\\nimport matplotlib.pyplot as plt\\nfrom openpyxl import load_workbook\\nfrom sklearn.model_selection import train_test_split\\nimport numpy as np\\nimport plotly as py'); }\n",
              "    "
            ],
            "text/plain": [
              "<IPython.core.display.Javascript object>"
            ]
          },
          "metadata": {
            "tags": []
          }
        },
        {
          "output_type": "display_data",
          "data": {
            "application/javascript": [
              "\n",
              "        if (window._pyforest_update_imports_cell) { window._pyforest_update_imports_cell('import lightgbm as lgb\\nimport plotly.express as px\\nimport pydot\\nimport tensorflow as tf\\nimport re\\nimport pandas as pd\\nimport sklearn\\nimport tqdm\\nimport matplotlib.pyplot as plt\\nfrom openpyxl import load_workbook\\nfrom sklearn.model_selection import train_test_split\\nimport numpy as np\\nimport plotly as py'); }\n",
              "    "
            ],
            "text/plain": [
              "<IPython.core.display.Javascript object>"
            ]
          },
          "metadata": {
            "tags": []
          }
        },
        {
          "output_type": "display_data",
          "data": {
            "application/javascript": [
              "\n",
              "        if (window._pyforest_update_imports_cell) { window._pyforest_update_imports_cell('import lightgbm as lgb\\nimport plotly.express as px\\nimport pydot\\nimport tensorflow as tf\\nimport re\\nimport pandas as pd\\nimport sklearn\\nimport tqdm\\nimport matplotlib.pyplot as plt\\nfrom openpyxl import load_workbook\\nfrom sklearn.model_selection import train_test_split\\nimport numpy as np\\nimport plotly as py'); }\n",
              "    "
            ],
            "text/plain": [
              "<IPython.core.display.Javascript object>"
            ]
          },
          "metadata": {
            "tags": []
          }
        },
        {
          "output_type": "display_data",
          "data": {
            "application/javascript": [
              "\n",
              "        if (window._pyforest_update_imports_cell) { window._pyforest_update_imports_cell('import lightgbm as lgb\\nimport plotly.express as px\\nimport pydot\\nimport tensorflow as tf\\nimport re\\nimport pandas as pd\\nimport sklearn\\nimport tqdm\\nimport matplotlib.pyplot as plt\\nfrom openpyxl import load_workbook\\nfrom sklearn.model_selection import train_test_split\\nimport numpy as np\\nimport plotly as py'); }\n",
              "    "
            ],
            "text/plain": [
              "<IPython.core.display.Javascript object>"
            ]
          },
          "metadata": {
            "tags": []
          }
        },
        {
          "output_type": "display_data",
          "data": {
            "application/javascript": [
              "\n",
              "        if (window._pyforest_update_imports_cell) { window._pyforest_update_imports_cell('import lightgbm as lgb\\nimport plotly.express as px\\nimport pydot\\nimport tensorflow as tf\\nimport re\\nimport pandas as pd\\nimport sklearn\\nimport tqdm\\nimport matplotlib.pyplot as plt\\nfrom openpyxl import load_workbook\\nfrom sklearn.model_selection import train_test_split\\nimport numpy as np\\nimport plotly as py'); }\n",
              "    "
            ],
            "text/plain": [
              "<IPython.core.display.Javascript object>"
            ]
          },
          "metadata": {
            "tags": []
          }
        },
        {
          "output_type": "display_data",
          "data": {
            "application/javascript": [
              "\n",
              "        if (window._pyforest_update_imports_cell) { window._pyforest_update_imports_cell('import lightgbm as lgb\\nimport plotly.express as px\\nimport pydot\\nimport tensorflow as tf\\nimport re\\nimport pandas as pd\\nimport sklearn\\nimport tqdm\\nimport matplotlib.pyplot as plt\\nfrom openpyxl import load_workbook\\nfrom sklearn.model_selection import train_test_split\\nimport numpy as np\\nimport plotly as py'); }\n",
              "    "
            ],
            "text/plain": [
              "<IPython.core.display.Javascript object>"
            ]
          },
          "metadata": {
            "tags": []
          }
        },
        {
          "output_type": "display_data",
          "data": {
            "application/javascript": [
              "\n",
              "        if (window._pyforest_update_imports_cell) { window._pyforest_update_imports_cell('import lightgbm as lgb\\nimport plotly.express as px\\nimport pydot\\nimport tensorflow as tf\\nimport re\\nimport pandas as pd\\nimport sklearn\\nimport tqdm\\nimport matplotlib.pyplot as plt\\nfrom openpyxl import load_workbook\\nfrom sklearn.model_selection import train_test_split\\nimport numpy as np\\nimport plotly as py'); }\n",
              "    "
            ],
            "text/plain": [
              "<IPython.core.display.Javascript object>"
            ]
          },
          "metadata": {
            "tags": []
          }
        },
        {
          "output_type": "display_data",
          "data": {
            "application/javascript": [
              "\n",
              "        if (window._pyforest_update_imports_cell) { window._pyforest_update_imports_cell('import lightgbm as lgb\\nimport plotly.express as px\\nimport pydot\\nimport tensorflow as tf\\nimport re\\nimport pandas as pd\\nimport sklearn\\nimport tqdm\\nimport matplotlib.pyplot as plt\\nfrom openpyxl import load_workbook\\nfrom sklearn.model_selection import train_test_split\\nimport numpy as np\\nimport plotly as py'); }\n",
              "    "
            ],
            "text/plain": [
              "<IPython.core.display.Javascript object>"
            ]
          },
          "metadata": {
            "tags": []
          }
        },
        {
          "output_type": "display_data",
          "data": {
            "application/javascript": [
              "\n",
              "        if (window._pyforest_update_imports_cell) { window._pyforest_update_imports_cell('import lightgbm as lgb\\nimport plotly.express as px\\nimport pydot\\nimport tensorflow as tf\\nimport re\\nimport pandas as pd\\nimport sklearn\\nimport tqdm\\nimport matplotlib.pyplot as plt\\nfrom openpyxl import load_workbook\\nfrom sklearn.model_selection import train_test_split\\nimport numpy as np\\nimport plotly as py'); }\n",
              "    "
            ],
            "text/plain": [
              "<IPython.core.display.Javascript object>"
            ]
          },
          "metadata": {
            "tags": []
          }
        },
        {
          "output_type": "display_data",
          "data": {
            "application/javascript": [
              "\n",
              "        if (window._pyforest_update_imports_cell) { window._pyforest_update_imports_cell('import lightgbm as lgb\\nimport plotly.express as px\\nimport pydot\\nimport tensorflow as tf\\nimport re\\nimport pandas as pd\\nimport sklearn\\nimport tqdm\\nimport matplotlib.pyplot as plt\\nfrom openpyxl import load_workbook\\nfrom sklearn.model_selection import train_test_split\\nimport numpy as np\\nimport plotly as py'); }\n",
              "    "
            ],
            "text/plain": [
              "<IPython.core.display.Javascript object>"
            ]
          },
          "metadata": {
            "tags": []
          }
        },
        {
          "output_type": "display_data",
          "data": {
            "application/javascript": [
              "\n",
              "        if (window._pyforest_update_imports_cell) { window._pyforest_update_imports_cell('import lightgbm as lgb\\nimport plotly.express as px\\nimport pydot\\nimport tensorflow as tf\\nimport re\\nimport pandas as pd\\nimport sklearn\\nimport tqdm\\nimport matplotlib.pyplot as plt\\nfrom openpyxl import load_workbook\\nfrom sklearn.model_selection import train_test_split\\nimport numpy as np\\nimport plotly as py'); }\n",
              "    "
            ],
            "text/plain": [
              "<IPython.core.display.Javascript object>"
            ]
          },
          "metadata": {
            "tags": []
          }
        },
        {
          "output_type": "display_data",
          "data": {
            "application/javascript": [
              "\n",
              "        if (window._pyforest_update_imports_cell) { window._pyforest_update_imports_cell('import lightgbm as lgb\\nimport plotly.express as px\\nimport pydot\\nimport tensorflow as tf\\nimport re\\nimport pandas as pd\\nimport sklearn\\nimport tqdm\\nimport matplotlib.pyplot as plt\\nfrom openpyxl import load_workbook\\nfrom sklearn.model_selection import train_test_split\\nimport numpy as np\\nimport plotly as py'); }\n",
              "    "
            ],
            "text/plain": [
              "<IPython.core.display.Javascript object>"
            ]
          },
          "metadata": {
            "tags": []
          }
        },
        {
          "output_type": "display_data",
          "data": {
            "application/javascript": [
              "\n",
              "        if (window._pyforest_update_imports_cell) { window._pyforest_update_imports_cell('import lightgbm as lgb\\nimport plotly.express as px\\nimport pydot\\nimport tensorflow as tf\\nimport re\\nimport pandas as pd\\nimport sklearn\\nimport tqdm\\nimport matplotlib.pyplot as plt\\nfrom openpyxl import load_workbook\\nfrom sklearn.model_selection import train_test_split\\nimport numpy as np\\nimport plotly as py'); }\n",
              "    "
            ],
            "text/plain": [
              "<IPython.core.display.Javascript object>"
            ]
          },
          "metadata": {
            "tags": []
          }
        },
        {
          "output_type": "display_data",
          "data": {
            "application/javascript": [
              "\n",
              "        if (window._pyforest_update_imports_cell) { window._pyforest_update_imports_cell('import lightgbm as lgb\\nimport plotly.express as px\\nimport pydot\\nimport tensorflow as tf\\nimport re\\nimport pandas as pd\\nimport sklearn\\nimport tqdm\\nimport matplotlib.pyplot as plt\\nfrom openpyxl import load_workbook\\nfrom sklearn.model_selection import train_test_split\\nimport numpy as np\\nimport plotly as py'); }\n",
              "    "
            ],
            "text/plain": [
              "<IPython.core.display.Javascript object>"
            ]
          },
          "metadata": {
            "tags": []
          }
        },
        {
          "output_type": "display_data",
          "data": {
            "application/javascript": [
              "\n",
              "        if (window._pyforest_update_imports_cell) { window._pyforest_update_imports_cell('import lightgbm as lgb\\nimport plotly.express as px\\nimport pydot\\nimport tensorflow as tf\\nimport re\\nimport pandas as pd\\nimport sklearn\\nimport tqdm\\nimport matplotlib.pyplot as plt\\nfrom openpyxl import load_workbook\\nfrom sklearn.model_selection import train_test_split\\nimport numpy as np\\nimport plotly as py'); }\n",
              "    "
            ],
            "text/plain": [
              "<IPython.core.display.Javascript object>"
            ]
          },
          "metadata": {
            "tags": []
          }
        },
        {
          "output_type": "display_data",
          "data": {
            "application/javascript": [
              "\n",
              "        if (window._pyforest_update_imports_cell) { window._pyforest_update_imports_cell('import lightgbm as lgb\\nimport plotly.express as px\\nimport pydot\\nimport tensorflow as tf\\nimport re\\nimport pandas as pd\\nimport sklearn\\nimport tqdm\\nimport matplotlib.pyplot as plt\\nfrom openpyxl import load_workbook\\nfrom sklearn.model_selection import train_test_split\\nimport numpy as np\\nimport plotly as py'); }\n",
              "    "
            ],
            "text/plain": [
              "<IPython.core.display.Javascript object>"
            ]
          },
          "metadata": {
            "tags": []
          }
        },
        {
          "output_type": "execute_result",
          "data": {
            "text/html": [
              "<div>\n",
              "<style scoped>\n",
              "    .dataframe tbody tr th:only-of-type {\n",
              "        vertical-align: middle;\n",
              "    }\n",
              "\n",
              "    .dataframe tbody tr th {\n",
              "        vertical-align: top;\n",
              "    }\n",
              "\n",
              "    .dataframe thead th {\n",
              "        text-align: right;\n",
              "    }\n",
              "</style>\n",
              "<table border=\"1\" class=\"dataframe\">\n",
              "  <thead>\n",
              "    <tr style=\"text-align: right;\">\n",
              "      <th></th>\n",
              "      <th>Accuracy metrics :    EURUSD</th>\n",
              "      <th>GBPUSD</th>\n",
              "      <th>USDJPY</th>\n",
              "      <th>NQ</th>\n",
              "      <th>ES</th>\n",
              "      <th>GC</th>\n",
              "    </tr>\n",
              "  </thead>\n",
              "  <tbody>\n",
              "    <tr>\n",
              "      <th>Mean Absolute Error</th>\n",
              "      <td>868.56</td>\n",
              "      <td>386.78</td>\n",
              "      <td>34983.03</td>\n",
              "      <td>0.92</td>\n",
              "      <td>0.13</td>\n",
              "      <td>0.29</td>\n",
              "    </tr>\n",
              "    <tr>\n",
              "      <th>Mean squared error</th>\n",
              "      <td>1735882.38</td>\n",
              "      <td>372681.25</td>\n",
              "      <td>2249267212.82</td>\n",
              "      <td>1.68</td>\n",
              "      <td>0.04</td>\n",
              "      <td>0.12</td>\n",
              "    </tr>\n",
              "    <tr>\n",
              "      <th>Root mean squared error</th>\n",
              "      <td>1317.53</td>\n",
              "      <td>610.48</td>\n",
              "      <td>47426.44</td>\n",
              "      <td>1.30</td>\n",
              "      <td>0.21</td>\n",
              "      <td>0.35</td>\n",
              "    </tr>\n",
              "    <tr>\n",
              "      <th>Mean absolute % error</th>\n",
              "      <td>0.08</td>\n",
              "      <td>0.03</td>\n",
              "      <td>0.03</td>\n",
              "      <td>0.01</td>\n",
              "      <td>0.00</td>\n",
              "      <td>0.02</td>\n",
              "    </tr>\n",
              "    <tr>\n",
              "      <th>Mean squared log Error</th>\n",
              "      <td>0.00</td>\n",
              "      <td>0.00</td>\n",
              "      <td>0.00</td>\n",
              "      <td>0.00</td>\n",
              "      <td>0.00</td>\n",
              "      <td>0.00</td>\n",
              "    </tr>\n",
              "  </tbody>\n",
              "</table>\n",
              "</div>"
            ],
            "text/plain": [
              "                         Accuracy metrics :    EURUSD    GBPUSD        USDJPY   NQ   ES   GC\n",
              "Mean Absolute Error                            868.56    386.78      34983.03 0.92 0.13 0.29\n",
              "Mean squared error                         1735882.38 372681.25 2249267212.82 1.68 0.04 0.12\n",
              "Root mean squared error                       1317.53    610.48      47426.44 1.30 0.21 0.35\n",
              "Mean absolute % error                            0.08      0.03          0.03 0.01 0.00 0.02\n",
              "Mean squared log Error                           0.00      0.00          0.00 0.00 0.00 0.00"
            ]
          },
          "metadata": {
            "tags": []
          },
          "execution_count": 124
        }
      ]
    },
    {
      "cell_type": "markdown",
      "metadata": {
        "id": "gao0mam4GI46"
      },
      "source": [
        "# **3 VAR model fitting with lag 8:**"
      ]
    },
    {
      "cell_type": "code",
      "metadata": {
        "id": "X1WtF60FGYd3",
        "outputId": "7933a6c1-3db1-49bd-861d-f8faebd12150",
        "colab": {
          "base_uri": "https://localhost:8080/",
          "height": 534
        }
      },
      "source": [
        "df = pd.read_csv(\"AL_final_data.csv\")\n",
        "df.drop(columns = ['Unnamed: 0'], axis=1, inplace=True)\n",
        "df = df.set_index('timestamp')\n",
        "df.index = pd.to_datetime(df.index)\n",
        "\n",
        "# spliting train/test\n",
        "nobs = 10 # keeping 10 mins observations aside for validation\n",
        "train_var, test_var = df[0:- nobs], df[- nobs:]\n",
        "\n",
        "# Check size\n",
        "#print(train_var.shape); print(test_var.shape);\n",
        "\n",
        "# transfoming training data set\n",
        "train_trans = train_var.diff().dropna() # differencing\n",
        "#print('Description of diff data:'); print(train_trans.describe());\n",
        "\n",
        "import statsmodels.tsa.api as smt\n",
        "from statsmodels.tsa.api import VAR\n",
        "\n",
        "# pass \"1min\" frequency\n",
        "train_trans.index = pd.DatetimeIndex(train_trans.index).to_period('1min')\n",
        "\n",
        "# fitting VAR model with associated freq & lags\n",
        "model_l_8 = VAR(endog = train_trans).fit(maxlags = 8)\n",
        "\n",
        "from statsmodels.stats.stattools import durbin_watson\n",
        "print('Durbin Watson statistic:')\n",
        "out = durbin_watson(model_l_8.resid)\n",
        "\n",
        "for col, val in zip(train_var.columns, out):\n",
        "    print((col), ':', round(val, 2))\n",
        "print()\n",
        "\n",
        "residuals = model_l_8.resid\n",
        "residuals.plot(figsize=(14,5))\n",
        "plt.title('Residuals plot = VAR lag 8')\n",
        "plt.show()\n",
        "print()\n",
        "\n",
        "# Forecasting\n",
        "pd.options.display.float_format = \"{:.2f}\".format\n",
        "# Get the lag order\n",
        "lag_order = model_l_8.k_ar\n",
        "#print(lag_order) \n",
        "\n",
        "# Input data for forecasting\n",
        "input_data = train_trans.values[-lag_order:]\n",
        "#print(input_data)\n",
        "\n",
        "# Inversing difference\n",
        "def inverse_diff(train, df_pred):\n",
        "    \"\"\"Revert back the differencing to get the forecast to original scale.\"\"\"\n",
        "    df_fc = df_pred.copy()\n",
        "    columns = train_var.columns\n",
        "    for col in columns:        \n",
        "        # Roll back 1st Diff\n",
        "        df_fc[str(col)+'_fcast'] = train_var[col].iloc[-1] + df_fc[str(col)+'_1d'].cumsum()\n",
        "    return df_fc\n",
        "\n",
        "df_results = inverse_diff(train_var, df_pred)        \n",
        "z = df_results.loc[:, ['es_fcast', 'eurusd_fcast', 'gbpusd_fcast', \n",
        "                       'gc_fcast','nq_fcast', 'usdjpy_fcast']]"
      ],
      "execution_count": 125,
      "outputs": [
        {
          "output_type": "display_data",
          "data": {
            "application/javascript": [
              "\n",
              "        if (window._pyforest_update_imports_cell) { window._pyforest_update_imports_cell('import lightgbm as lgb\\nimport plotly.express as px\\nimport pydot\\nimport tensorflow as tf\\nimport re\\nimport pandas as pd\\nimport sklearn\\nimport tqdm\\nimport matplotlib.pyplot as plt\\nfrom openpyxl import load_workbook\\nfrom sklearn.model_selection import train_test_split\\nimport numpy as np\\nimport plotly as py'); }\n",
              "    "
            ],
            "text/plain": [
              "<IPython.core.display.Javascript object>"
            ]
          },
          "metadata": {
            "tags": []
          }
        },
        {
          "output_type": "display_data",
          "data": {
            "application/javascript": [
              "\n",
              "        if (window._pyforest_update_imports_cell) { window._pyforest_update_imports_cell('import lightgbm as lgb\\nimport plotly.express as px\\nimport pydot\\nimport tensorflow as tf\\nimport re\\nimport pandas as pd\\nimport sklearn\\nimport tqdm\\nimport matplotlib.pyplot as plt\\nfrom openpyxl import load_workbook\\nfrom sklearn.model_selection import train_test_split\\nimport numpy as np\\nimport plotly as py'); }\n",
              "    "
            ],
            "text/plain": [
              "<IPython.core.display.Javascript object>"
            ]
          },
          "metadata": {
            "tags": []
          }
        },
        {
          "output_type": "display_data",
          "data": {
            "application/javascript": [
              "\n",
              "        if (window._pyforest_update_imports_cell) { window._pyforest_update_imports_cell('import lightgbm as lgb\\nimport plotly.express as px\\nimport pydot\\nimport tensorflow as tf\\nimport re\\nimport pandas as pd\\nimport sklearn\\nimport tqdm\\nimport matplotlib.pyplot as plt\\nfrom openpyxl import load_workbook\\nfrom sklearn.model_selection import train_test_split\\nimport numpy as np\\nimport plotly as py'); }\n",
              "    "
            ],
            "text/plain": [
              "<IPython.core.display.Javascript object>"
            ]
          },
          "metadata": {
            "tags": []
          }
        },
        {
          "output_type": "stream",
          "text": [
            "Durbin Watson statistic:\n",
            "es : 2.0\n",
            "eurusd : 2.0\n",
            "gbpusd : 2.0\n",
            "gc : 2.0\n",
            "nq : 2.0\n",
            "usdjpy : 2.0\n",
            "\n"
          ],
          "name": "stdout"
        },
        {
          "output_type": "display_data",
          "data": {
            "application/javascript": [
              "\n",
              "        if (window._pyforest_update_imports_cell) { window._pyforest_update_imports_cell('import lightgbm as lgb\\nimport plotly.express as px\\nimport pydot\\nimport tensorflow as tf\\nimport re\\nimport pandas as pd\\nimport sklearn\\nimport tqdm\\nimport matplotlib.pyplot as plt\\nfrom openpyxl import load_workbook\\nfrom sklearn.model_selection import train_test_split\\nimport numpy as np\\nimport plotly as py'); }\n",
              "    "
            ],
            "text/plain": [
              "<IPython.core.display.Javascript object>"
            ]
          },
          "metadata": {
            "tags": []
          }
        },
        {
          "output_type": "display_data",
          "data": {
            "application/javascript": [
              "\n",
              "        if (window._pyforest_update_imports_cell) { window._pyforest_update_imports_cell('import lightgbm as lgb\\nimport plotly.express as px\\nimport pydot\\nimport tensorflow as tf\\nimport re\\nimport pandas as pd\\nimport sklearn\\nimport tqdm\\nimport matplotlib.pyplot as plt\\nfrom openpyxl import load_workbook\\nfrom sklearn.model_selection import train_test_split\\nimport numpy as np\\nimport plotly as py'); }\n",
              "    "
            ],
            "text/plain": [
              "<IPython.core.display.Javascript object>"
            ]
          },
          "metadata": {
            "tags": []
          }
        },
        {
          "output_type": "display_data",
          "data": {
            "image/png": "[encoded data removed]",
            "text/plain": [
              "<Figure size 1008x360 with 1 Axes>"
            ]
          },
          "metadata": {
            "tags": []
          }
        },
        {
          "output_type": "stream",
          "text": [
            "\n"
          ],
          "name": "stdout"
        },
        {
          "output_type": "display_data",
          "data": {
            "application/javascript": [
              "\n",
              "        if (window._pyforest_update_imports_cell) { window._pyforest_update_imports_cell('import lightgbm as lgb\\nimport plotly.express as px\\nimport pydot\\nimport tensorflow as tf\\nimport re\\nimport pandas as pd\\nimport sklearn\\nimport tqdm\\nimport matplotlib.pyplot as plt\\nfrom openpyxl import load_workbook\\nfrom sklearn.model_selection import train_test_split\\nimport numpy as np\\nimport plotly as py'); }\n",
              "    "
            ],
            "text/plain": [
              "<IPython.core.display.Javascript object>"
            ]
          },
          "metadata": {
            "tags": []
          }
        }
      ]
    },
    {
      "cell_type": "code",
      "metadata": {
        "id": "DdL3JniuJdVF",
        "outputId": "54f752b8-d7fd-4aa4-fc10-c42520a30a18",
        "colab": {
          "base_uri": "https://localhost:8080/",
          "height": 631
        }
      },
      "source": [
        "print('Actual vs forecast:')\n",
        "z.index = test_var.index\n",
        "lag8 = pd.concat([test_var, z], axis=1)\n",
        "lag8 = lag8[['eurusd','eurusd_fcast','gbpusd','gbpusd_fcast','usdjpy','usdjpy_fcast',\n",
        "                 'es','es_fcast','gc','gc_fcast','nq','nq_fcast']]\n",
        "lag8 = lag8.sort_values(by='timestamp', ascending=False)\n",
        "def highlight_cols(s):\n",
        "    color = 'yellow'\n",
        "    return 'background-color: %s' % color\n",
        "lag8.style.applymap(highlight_cols, subset=pd.IndexSlice[:, ['eurusd_fcast','gbpusd_fcast','usdjpy_fcast',\n",
        "                                                               'nq_fcast','es_fcast','gc_fcast']])\n",
        "\n"
      ],
      "execution_count": 126,
      "outputs": [
        {
          "output_type": "stream",
          "text": [
            "Actual vs forecast:\n"
          ],
          "name": "stdout"
        },
        {
          "output_type": "display_data",
          "data": {
            "application/javascript": [
              "\n",
              "        if (window._pyforest_update_imports_cell) { window._pyforest_update_imports_cell('import lightgbm as lgb\\nimport plotly.express as px\\nimport pydot\\nimport tensorflow as tf\\nimport re\\nimport pandas as pd\\nimport sklearn\\nimport tqdm\\nimport matplotlib.pyplot as plt\\nfrom openpyxl import load_workbook\\nfrom sklearn.model_selection import train_test_split\\nimport numpy as np\\nimport plotly as py'); }\n",
              "    "
            ],
            "text/plain": [
              "<IPython.core.display.Javascript object>"
            ]
          },
          "metadata": {
            "tags": []
          }
        },
        {
          "output_type": "display_data",
          "data": {
            "application/javascript": [
              "\n",
              "        if (window._pyforest_update_imports_cell) { window._pyforest_update_imports_cell('import lightgbm as lgb\\nimport plotly.express as px\\nimport pydot\\nimport tensorflow as tf\\nimport re\\nimport pandas as pd\\nimport sklearn\\nimport tqdm\\nimport matplotlib.pyplot as plt\\nfrom openpyxl import load_workbook\\nfrom sklearn.model_selection import train_test_split\\nimport numpy as np\\nimport plotly as py'); }\n",
              "    "
            ],
            "text/plain": [
              "<IPython.core.display.Javascript object>"
            ]
          },
          "metadata": {
            "tags": []
          }
        },
        {
          "output_type": "execute_result",
          "data": {
            "text/html": [
              "<style  type=\"text/css\" >\n",
              "#T_0b4b7156_1f3a_11eb_9b24_0242ac1c0002row0_col1,#T_0b4b7156_1f3a_11eb_9b24_0242ac1c0002row0_col3,#T_0b4b7156_1f3a_11eb_9b24_0242ac1c0002row0_col5,#T_0b4b7156_1f3a_11eb_9b24_0242ac1c0002row0_col7,#T_0b4b7156_1f3a_11eb_9b24_0242ac1c0002row0_col9,#T_0b4b7156_1f3a_11eb_9b24_0242ac1c0002row0_col11,#T_0b4b7156_1f3a_11eb_9b24_0242ac1c0002row1_col1,#T_0b4b7156_1f3a_11eb_9b24_0242ac1c0002row1_col3,#T_0b4b7156_1f3a_11eb_9b24_0242ac1c0002row1_col5,#T_0b4b7156_1f3a_11eb_9b24_0242ac1c0002row1_col7,#T_0b4b7156_1f3a_11eb_9b24_0242ac1c0002row1_col9,#T_0b4b7156_1f3a_11eb_9b24_0242ac1c0002row1_col11,#T_0b4b7156_1f3a_11eb_9b24_0242ac1c0002row2_col1,#T_0b4b7156_1f3a_11eb_9b24_0242ac1c0002row2_col3,#T_0b4b7156_1f3a_11eb_9b24_0242ac1c0002row2_col5,#T_0b4b7156_1f3a_11eb_9b24_0242ac1c0002row2_col7,#T_0b4b7156_1f3a_11eb_9b24_0242ac1c0002row2_col9,#T_0b4b7156_1f3a_11eb_9b24_0242ac1c0002row2_col11,#T_0b4b7156_1f3a_11eb_9b24_0242ac1c0002row3_col1,#T_0b4b7156_1f3a_11eb_9b24_0242ac1c0002row3_col3,#T_0b4b7156_1f3a_11eb_9b24_0242ac1c0002row3_col5,#T_0b4b7156_1f3a_11eb_9b24_0242ac1c0002row3_col7,#T_0b4b7156_1f3a_11eb_9b24_0242ac1c0002row3_col9,#T_0b4b7156_1f3a_11eb_9b24_0242ac1c0002row3_col11,#T_0b4b7156_1f3a_11eb_9b24_0242ac1c0002row4_col1,#T_0b4b7156_1f3a_11eb_9b24_0242ac1c0002row4_col3,#T_0b4b7156_1f3a_11eb_9b24_0242ac1c0002row4_col5,#T_0b4b7156_1f3a_11eb_9b24_0242ac1c0002row4_col7,#T_0b4b7156_1f3a_11eb_9b24_0242ac1c0002row4_col9,#T_0b4b7156_1f3a_11eb_9b24_0242ac1c0002row4_col11,#T_0b4b7156_1f3a_11eb_9b24_0242ac1c0002row5_col1,#T_0b4b7156_1f3a_11eb_9b24_0242ac1c0002row5_col3,#T_0b4b7156_1f3a_11eb_9b24_0242ac1c0002row5_col5,#T_0b4b7156_1f3a_11eb_9b24_0242ac1c0002row5_col7,#T_0b4b7156_1f3a_11eb_9b24_0242ac1c0002row5_col9,#T_0b4b7156_1f3a_11eb_9b24_0242ac1c0002row5_col11,#T_0b4b7156_1f3a_11eb_9b24_0242ac1c0002row6_col1,#T_0b4b7156_1f3a_11eb_9b24_0242ac1c0002row6_col3,#T_0b4b7156_1f3a_11eb_9b24_0242ac1c0002row6_col5,#T_0b4b7156_1f3a_11eb_9b24_0242ac1c0002row6_col7,#T_0b4b7156_1f3a_11eb_9b24_0242ac1c0002row6_col9,#T_0b4b7156_1f3a_11eb_9b24_0242ac1c0002row6_col11,#T_0b4b7156_1f3a_11eb_9b24_0242ac1c0002row7_col1,#T_0b4b7156_1f3a_11eb_9b24_0242ac1c0002row7_col3,#T_0b4b7156_1f3a_11eb_9b24_0242ac1c0002row7_col5,#T_0b4b7156_1f3a_11eb_9b24_0242ac1c0002row7_col7,#T_0b4b7156_1f3a_11eb_9b24_0242ac1c0002row7_col9,#T_0b4b7156_1f3a_11eb_9b24_0242ac1c0002row7_col11,#T_0b4b7156_1f3a_11eb_9b24_0242ac1c0002row8_col1,#T_0b4b7156_1f3a_11eb_9b24_0242ac1c0002row8_col3,#T_0b4b7156_1f3a_11eb_9b24_0242ac1c0002row8_col5,#T_0b4b7156_1f3a_11eb_9b24_0242ac1c0002row8_col7,#T_0b4b7156_1f3a_11eb_9b24_0242ac1c0002row8_col9,#T_0b4b7156_1f3a_11eb_9b24_0242ac1c0002row8_col11,#T_0b4b7156_1f3a_11eb_9b24_0242ac1c0002row9_col1,#T_0b4b7156_1f3a_11eb_9b24_0242ac1c0002row9_col3,#T_0b4b7156_1f3a_11eb_9b24_0242ac1c0002row9_col5,#T_0b4b7156_1f3a_11eb_9b24_0242ac1c0002row9_col7,#T_0b4b7156_1f3a_11eb_9b24_0242ac1c0002row9_col9,#T_0b4b7156_1f3a_11eb_9b24_0242ac1c0002row9_col11{\n",
              "            background-color:  yellow;\n",
              "        }</style><table id=\"T_0b4b7156_1f3a_11eb_9b24_0242ac1c0002\" ><thead>    <tr>        <th class=\"blank level0\" ></th>        <th class=\"col_heading level0 col0\" >eurusd</th>        <th class=\"col_heading level0 col1\" >eurusd_fcast</th>        <th class=\"col_heading level0 col2\" >gbpusd</th>        <th class=\"col_heading level0 col3\" >gbpusd_fcast</th>        <th class=\"col_heading level0 col4\" >usdjpy</th>        <th class=\"col_heading level0 col5\" >usdjpy_fcast</th>        <th class=\"col_heading level0 col6\" >es</th>        <th class=\"col_heading level0 col7\" >es_fcast</th>        <th class=\"col_heading level0 col8\" >gc</th>        <th class=\"col_heading level0 col9\" >gc_fcast</th>        <th class=\"col_heading level0 col10\" >nq</th>        <th class=\"col_heading level0 col11\" >nq_fcast</th>    </tr>    <tr>        <th class=\"index_name level0\" >timestamp</th>        <th class=\"blank\" ></th>        <th class=\"blank\" ></th>        <th class=\"blank\" ></th>        <th class=\"blank\" ></th>        <th class=\"blank\" ></th>        <th class=\"blank\" ></th>        <th class=\"blank\" ></th>        <th class=\"blank\" ></th>        <th class=\"blank\" ></th>        <th class=\"blank\" ></th>        <th class=\"blank\" ></th>        <th class=\"blank\" ></th>    </tr></thead><tbody>\n",
              "                <tr>\n",
              "                        <th id=\"T_0b4b7156_1f3a_11eb_9b24_0242ac1c0002level0_row0\" class=\"row_heading level0 row0\" >2020-05-29 21:00:00</th>\n",
              "                        <td id=\"T_0b4b7156_1f3a_11eb_9b24_0242ac1c0002row0_col0\" class=\"data row0 col0\" >1113400.000000</td>\n",
              "                        <td id=\"T_0b4b7156_1f3a_11eb_9b24_0242ac1c0002row0_col1\" class=\"data row0 col1\" >1110720.673475</td>\n",
              "                        <td id=\"T_0b4b7156_1f3a_11eb_9b24_0242ac1c0002row0_col2\" class=\"data row0 col2\" >1237150.000000</td>\n",
              "                        <td id=\"T_0b4b7156_1f3a_11eb_9b24_0242ac1c0002row0_col3\" class=\"data row0 col3\" >1235472.134980</td>\n",
              "                        <td id=\"T_0b4b7156_1f3a_11eb_9b24_0242ac1c0002row0_col4\" class=\"data row0 col4\" >107835000.000000</td>\n",
              "                        <td id=\"T_0b4b7156_1f3a_11eb_9b24_0242ac1c0002row0_col5\" class=\"data row0 col5\" >107779474.610216</td>\n",
              "                        <td id=\"T_0b4b7156_1f3a_11eb_9b24_0242ac1c0002row0_col6\" class=\"data row0 col6\" >3027.250000</td>\n",
              "                        <td id=\"T_0b4b7156_1f3a_11eb_9b24_0242ac1c0002row0_col7\" class=\"data row0 col7\" >3027.219550</td>\n",
              "                        <td id=\"T_0b4b7156_1f3a_11eb_9b24_0242ac1c0002row0_col8\" class=\"data row0 col8\" >1731.350000</td>\n",
              "                        <td id=\"T_0b4b7156_1f3a_11eb_9b24_0242ac1c0002row0_col9\" class=\"data row0 col9\" >1731.809730</td>\n",
              "                        <td id=\"T_0b4b7156_1f3a_11eb_9b24_0242ac1c0002row0_col10\" class=\"data row0 col10\" >9591.125000</td>\n",
              "                        <td id=\"T_0b4b7156_1f3a_11eb_9b24_0242ac1c0002row0_col11\" class=\"data row0 col11\" >9587.682855</td>\n",
              "            </tr>\n",
              "            <tr>\n",
              "                        <th id=\"T_0b4b7156_1f3a_11eb_9b24_0242ac1c0002level0_row1\" class=\"row_heading level0 row1\" >2020-05-29 20:59:00</th>\n",
              "                        <td id=\"T_0b4b7156_1f3a_11eb_9b24_0242ac1c0002row1_col0\" class=\"data row1 col0\" >1113400.000000</td>\n",
              "                        <td id=\"T_0b4b7156_1f3a_11eb_9b24_0242ac1c0002row1_col1\" class=\"data row1 col1\" >1110720.189034</td>\n",
              "                        <td id=\"T_0b4b7156_1f3a_11eb_9b24_0242ac1c0002row1_col2\" class=\"data row1 col2\" >1235450.000000</td>\n",
              "                        <td id=\"T_0b4b7156_1f3a_11eb_9b24_0242ac1c0002row1_col3\" class=\"data row1 col3\" >1235472.841678</td>\n",
              "                        <td id=\"T_0b4b7156_1f3a_11eb_9b24_0242ac1c0002row1_col4\" class=\"data row1 col4\" >107835000.000000</td>\n",
              "                        <td id=\"T_0b4b7156_1f3a_11eb_9b24_0242ac1c0002row1_col5\" class=\"data row1 col5\" >107779461.003842</td>\n",
              "                        <td id=\"T_0b4b7156_1f3a_11eb_9b24_0242ac1c0002row1_col6\" class=\"data row1 col6\" >3027.250000</td>\n",
              "                        <td id=\"T_0b4b7156_1f3a_11eb_9b24_0242ac1c0002row1_col7\" class=\"data row1 col7\" >3027.214354</td>\n",
              "                        <td id=\"T_0b4b7156_1f3a_11eb_9b24_0242ac1c0002row1_col8\" class=\"data row1 col8\" >1731.300000</td>\n",
              "                        <td id=\"T_0b4b7156_1f3a_11eb_9b24_0242ac1c0002row1_col9\" class=\"data row1 col9\" >1731.808504</td>\n",
              "                        <td id=\"T_0b4b7156_1f3a_11eb_9b24_0242ac1c0002row1_col10\" class=\"data row1 col10\" >9587.375000</td>\n",
              "                        <td id=\"T_0b4b7156_1f3a_11eb_9b24_0242ac1c0002row1_col11\" class=\"data row1 col11\" >9587.657311</td>\n",
              "            </tr>\n",
              "            <tr>\n",
              "                        <th id=\"T_0b4b7156_1f3a_11eb_9b24_0242ac1c0002level0_row2\" class=\"row_heading level0 row2\" >2020-05-29 20:58:00</th>\n",
              "                        <td id=\"T_0b4b7156_1f3a_11eb_9b24_0242ac1c0002row2_col0\" class=\"data row2 col0\" >1111650.000000</td>\n",
              "                        <td id=\"T_0b4b7156_1f3a_11eb_9b24_0242ac1c0002row2_col1\" class=\"data row2 col1\" >1110719.440317</td>\n",
              "                        <td id=\"T_0b4b7156_1f3a_11eb_9b24_0242ac1c0002row2_col2\" class=\"data row2 col2\" >1235450.000000</td>\n",
              "                        <td id=\"T_0b4b7156_1f3a_11eb_9b24_0242ac1c0002row2_col3\" class=\"data row2 col3\" >1235473.743868</td>\n",
              "                        <td id=\"T_0b4b7156_1f3a_11eb_9b24_0242ac1c0002row2_col4\" class=\"data row2 col4\" >107830000.000000</td>\n",
              "                        <td id=\"T_0b4b7156_1f3a_11eb_9b24_0242ac1c0002row2_col5\" class=\"data row2 col5\" >107779446.790772</td>\n",
              "                        <td id=\"T_0b4b7156_1f3a_11eb_9b24_0242ac1c0002row2_col6\" class=\"data row2 col6\" >3027.250000</td>\n",
              "                        <td id=\"T_0b4b7156_1f3a_11eb_9b24_0242ac1c0002row2_col7\" class=\"data row2 col7\" >3027.209330</td>\n",
              "                        <td id=\"T_0b4b7156_1f3a_11eb_9b24_0242ac1c0002row2_col8\" class=\"data row2 col8\" >1731.450000</td>\n",
              "                        <td id=\"T_0b4b7156_1f3a_11eb_9b24_0242ac1c0002row2_col9\" class=\"data row2 col9\" >1731.807275</td>\n",
              "                        <td id=\"T_0b4b7156_1f3a_11eb_9b24_0242ac1c0002row2_col10\" class=\"data row2 col10\" >9588.625000</td>\n",
              "                        <td id=\"T_0b4b7156_1f3a_11eb_9b24_0242ac1c0002row2_col11\" class=\"data row2 col11\" >9587.632369</td>\n",
              "            </tr>\n",
              "            <tr>\n",
              "                        <th id=\"T_0b4b7156_1f3a_11eb_9b24_0242ac1c0002level0_row3\" class=\"row_heading level0 row3\" >2020-05-29 20:57:00</th>\n",
              "                        <td id=\"T_0b4b7156_1f3a_11eb_9b24_0242ac1c0002row3_col0\" class=\"data row3 col0\" >1111750.000000</td>\n",
              "                        <td id=\"T_0b4b7156_1f3a_11eb_9b24_0242ac1c0002row3_col1\" class=\"data row3 col1\" >1110718.919549</td>\n",
              "                        <td id=\"T_0b4b7156_1f3a_11eb_9b24_0242ac1c0002row3_col2\" class=\"data row3 col2\" >1235450.000000</td>\n",
              "                        <td id=\"T_0b4b7156_1f3a_11eb_9b24_0242ac1c0002row3_col3\" class=\"data row3 col3\" >1235474.450519</td>\n",
              "                        <td id=\"T_0b4b7156_1f3a_11eb_9b24_0242ac1c0002row3_col4\" class=\"data row3 col4\" >107830000.000000</td>\n",
              "                        <td id=\"T_0b4b7156_1f3a_11eb_9b24_0242ac1c0002row3_col5\" class=\"data row3 col5\" >107779432.871366</td>\n",
              "                        <td id=\"T_0b4b7156_1f3a_11eb_9b24_0242ac1c0002row3_col6\" class=\"data row3 col6\" >3027.250000</td>\n",
              "                        <td id=\"T_0b4b7156_1f3a_11eb_9b24_0242ac1c0002row3_col7\" class=\"data row3 col7\" >3027.203692</td>\n",
              "                        <td id=\"T_0b4b7156_1f3a_11eb_9b24_0242ac1c0002row3_col8\" class=\"data row3 col8\" >1731.200000</td>\n",
              "                        <td id=\"T_0b4b7156_1f3a_11eb_9b24_0242ac1c0002row3_col9\" class=\"data row3 col9\" >1731.806015</td>\n",
              "                        <td id=\"T_0b4b7156_1f3a_11eb_9b24_0242ac1c0002row3_col10\" class=\"data row3 col10\" >9588.500000</td>\n",
              "                        <td id=\"T_0b4b7156_1f3a_11eb_9b24_0242ac1c0002row3_col11\" class=\"data row3 col11\" >9587.605301</td>\n",
              "            </tr>\n",
              "            <tr>\n",
              "                        <th id=\"T_0b4b7156_1f3a_11eb_9b24_0242ac1c0002level0_row4\" class=\"row_heading level0 row4\" >2020-05-29 20:56:00</th>\n",
              "                        <td id=\"T_0b4b7156_1f3a_11eb_9b24_0242ac1c0002row4_col0\" class=\"data row4 col0\" >1111740.000000</td>\n",
              "                        <td id=\"T_0b4b7156_1f3a_11eb_9b24_0242ac1c0002row4_col1\" class=\"data row4 col1\" >1110719.134196</td>\n",
              "                        <td id=\"T_0b4b7156_1f3a_11eb_9b24_0242ac1c0002row4_col2\" class=\"data row4 col2\" >1235400.000000</td>\n",
              "                        <td id=\"T_0b4b7156_1f3a_11eb_9b24_0242ac1c0002row4_col3\" class=\"data row4 col3\" >1235474.667358</td>\n",
              "                        <td id=\"T_0b4b7156_1f3a_11eb_9b24_0242ac1c0002row4_col4\" class=\"data row4 col4\" >107675000.000000</td>\n",
              "                        <td id=\"T_0b4b7156_1f3a_11eb_9b24_0242ac1c0002row4_col5\" class=\"data row4 col5\" >107779421.346578</td>\n",
              "                        <td id=\"T_0b4b7156_1f3a_11eb_9b24_0242ac1c0002row4_col6\" class=\"data row4 col6\" >3027.250000</td>\n",
              "                        <td id=\"T_0b4b7156_1f3a_11eb_9b24_0242ac1c0002row4_col7\" class=\"data row4 col7\" >3027.198638</td>\n",
              "                        <td id=\"T_0b4b7156_1f3a_11eb_9b24_0242ac1c0002row4_col8\" class=\"data row4 col8\" >1731.500000</td>\n",
              "                        <td id=\"T_0b4b7156_1f3a_11eb_9b24_0242ac1c0002row4_col9\" class=\"data row4 col9\" >1731.804841</td>\n",
              "                        <td id=\"T_0b4b7156_1f3a_11eb_9b24_0242ac1c0002row4_col10\" class=\"data row4 col10\" >9588.625000</td>\n",
              "                        <td id=\"T_0b4b7156_1f3a_11eb_9b24_0242ac1c0002row4_col11\" class=\"data row4 col11\" >9587.580201</td>\n",
              "            </tr>\n",
              "            <tr>\n",
              "                        <th id=\"T_0b4b7156_1f3a_11eb_9b24_0242ac1c0002level0_row5\" class=\"row_heading level0 row5\" >2020-05-29 20:55:00</th>\n",
              "                        <td id=\"T_0b4b7156_1f3a_11eb_9b24_0242ac1c0002row5_col0\" class=\"data row5 col0\" >1110660.000000</td>\n",
              "                        <td id=\"T_0b4b7156_1f3a_11eb_9b24_0242ac1c0002row5_col1\" class=\"data row5 col1\" >1110716.619451</td>\n",
              "                        <td id=\"T_0b4b7156_1f3a_11eb_9b24_0242ac1c0002row5_col2\" class=\"data row5 col2\" >1234990.000000</td>\n",
              "                        <td id=\"T_0b4b7156_1f3a_11eb_9b24_0242ac1c0002row5_col3\" class=\"data row5 col3\" >1235476.844851</td>\n",
              "                        <td id=\"T_0b4b7156_1f3a_11eb_9b24_0242ac1c0002row5_col4\" class=\"data row5 col4\" >107766500.000000</td>\n",
              "                        <td id=\"T_0b4b7156_1f3a_11eb_9b24_0242ac1c0002row5_col5\" class=\"data row5 col5\" >107779402.377704</td>\n",
              "                        <td id=\"T_0b4b7156_1f3a_11eb_9b24_0242ac1c0002row5_col6\" class=\"data row5 col6\" >3027.000000</td>\n",
              "                        <td id=\"T_0b4b7156_1f3a_11eb_9b24_0242ac1c0002row5_col7\" class=\"data row5 col7\" >3027.195158</td>\n",
              "                        <td id=\"T_0b4b7156_1f3a_11eb_9b24_0242ac1c0002row5_col8\" class=\"data row5 col8\" >1731.550000</td>\n",
              "                        <td id=\"T_0b4b7156_1f3a_11eb_9b24_0242ac1c0002row5_col9\" class=\"data row5 col9\" >1731.803617</td>\n",
              "                        <td id=\"T_0b4b7156_1f3a_11eb_9b24_0242ac1c0002row5_col10\" class=\"data row5 col10\" >9587.875000</td>\n",
              "                        <td id=\"T_0b4b7156_1f3a_11eb_9b24_0242ac1c0002row5_col11\" class=\"data row5 col11\" >9587.560653</td>\n",
              "            </tr>\n",
              "            <tr>\n",
              "                        <th id=\"T_0b4b7156_1f3a_11eb_9b24_0242ac1c0002level0_row6\" class=\"row_heading level0 row6\" >2020-05-29 20:54:00</th>\n",
              "                        <td id=\"T_0b4b7156_1f3a_11eb_9b24_0242ac1c0002row6_col0\" class=\"data row6 col0\" >1110785.000000</td>\n",
              "                        <td id=\"T_0b4b7156_1f3a_11eb_9b24_0242ac1c0002row6_col1\" class=\"data row6 col1\" >1110716.796679</td>\n",
              "                        <td id=\"T_0b4b7156_1f3a_11eb_9b24_0242ac1c0002row6_col2\" class=\"data row6 col2\" >1235090.000000</td>\n",
              "                        <td id=\"T_0b4b7156_1f3a_11eb_9b24_0242ac1c0002row6_col3\" class=\"data row6 col3\" >1235477.137286</td>\n",
              "                        <td id=\"T_0b4b7156_1f3a_11eb_9b24_0242ac1c0002row6_col4\" class=\"data row6 col4\" >107788500.000000</td>\n",
              "                        <td id=\"T_0b4b7156_1f3a_11eb_9b24_0242ac1c0002row6_col5\" class=\"data row6 col5\" >107779388.780687</td>\n",
              "                        <td id=\"T_0b4b7156_1f3a_11eb_9b24_0242ac1c0002row6_col6\" class=\"data row6 col6\" >3026.625000</td>\n",
              "                        <td id=\"T_0b4b7156_1f3a_11eb_9b24_0242ac1c0002row6_col7\" class=\"data row6 col7\" >3027.185194</td>\n",
              "                        <td id=\"T_0b4b7156_1f3a_11eb_9b24_0242ac1c0002row6_col8\" class=\"data row6 col8\" >1731.750000</td>\n",
              "                        <td id=\"T_0b4b7156_1f3a_11eb_9b24_0242ac1c0002row6_col9\" class=\"data row6 col9\" >1731.802118</td>\n",
              "                        <td id=\"T_0b4b7156_1f3a_11eb_9b24_0242ac1c0002row6_col10\" class=\"data row6 col10\" >9586.375000</td>\n",
              "                        <td id=\"T_0b4b7156_1f3a_11eb_9b24_0242ac1c0002row6_col11\" class=\"data row6 col11\" >9587.518859</td>\n",
              "            </tr>\n",
              "            <tr>\n",
              "                        <th id=\"T_0b4b7156_1f3a_11eb_9b24_0242ac1c0002level0_row7\" class=\"row_heading level0 row7\" >2020-05-29 20:53:00</th>\n",
              "                        <td id=\"T_0b4b7156_1f3a_11eb_9b24_0242ac1c0002row7_col0\" class=\"data row7 col0\" >1110845.000000</td>\n",
              "                        <td id=\"T_0b4b7156_1f3a_11eb_9b24_0242ac1c0002row7_col1\" class=\"data row7 col1\" >1110723.816640</td>\n",
              "                        <td id=\"T_0b4b7156_1f3a_11eb_9b24_0242ac1c0002row7_col2\" class=\"data row7 col2\" >1234890.000000</td>\n",
              "                        <td id=\"T_0b4b7156_1f3a_11eb_9b24_0242ac1c0002row7_col3\" class=\"data row7 col3\" >1235472.373105</td>\n",
              "                        <td id=\"T_0b4b7156_1f3a_11eb_9b24_0242ac1c0002row7_col4\" class=\"data row7 col4\" >107784500.000000</td>\n",
              "                        <td id=\"T_0b4b7156_1f3a_11eb_9b24_0242ac1c0002row7_col5\" class=\"data row7 col5\" >107779399.978182</td>\n",
              "                        <td id=\"T_0b4b7156_1f3a_11eb_9b24_0242ac1c0002row7_col6\" class=\"data row7 col6\" >3027.000000</td>\n",
              "                        <td id=\"T_0b4b7156_1f3a_11eb_9b24_0242ac1c0002row7_col7\" class=\"data row7 col7\" >3027.183327</td>\n",
              "                        <td id=\"T_0b4b7156_1f3a_11eb_9b24_0242ac1c0002row7_col8\" class=\"data row7 col8\" >1731.750000</td>\n",
              "                        <td id=\"T_0b4b7156_1f3a_11eb_9b24_0242ac1c0002row7_col9\" class=\"data row7 col9\" >1731.801320</td>\n",
              "                        <td id=\"T_0b4b7156_1f3a_11eb_9b24_0242ac1c0002row7_col10\" class=\"data row7 col10\" >9587.875000</td>\n",
              "                        <td id=\"T_0b4b7156_1f3a_11eb_9b24_0242ac1c0002row7_col11\" class=\"data row7 col11\" >9587.503955</td>\n",
              "            </tr>\n",
              "            <tr>\n",
              "                        <th id=\"T_0b4b7156_1f3a_11eb_9b24_0242ac1c0002level0_row8\" class=\"row_heading level0 row8\" >2020-05-29 20:52:00</th>\n",
              "                        <td id=\"T_0b4b7156_1f3a_11eb_9b24_0242ac1c0002row8_col0\" class=\"data row8 col0\" >1110745.000000</td>\n",
              "                        <td id=\"T_0b4b7156_1f3a_11eb_9b24_0242ac1c0002row8_col1\" class=\"data row8 col1\" >1110702.119943</td>\n",
              "                        <td id=\"T_0b4b7156_1f3a_11eb_9b24_0242ac1c0002row8_col2\" class=\"data row8 col2\" >1235140.000000</td>\n",
              "                        <td id=\"T_0b4b7156_1f3a_11eb_9b24_0242ac1c0002row8_col3\" class=\"data row8 col3\" >1235486.357076</td>\n",
              "                        <td id=\"T_0b4b7156_1f3a_11eb_9b24_0242ac1c0002row8_col4\" class=\"data row8 col4\" >107779000.000000</td>\n",
              "                        <td id=\"T_0b4b7156_1f3a_11eb_9b24_0242ac1c0002row8_col5\" class=\"data row8 col5\" >107779373.988008</td>\n",
              "                        <td id=\"T_0b4b7156_1f3a_11eb_9b24_0242ac1c0002row8_col6\" class=\"data row8 col6\" >3027.000000</td>\n",
              "                        <td id=\"T_0b4b7156_1f3a_11eb_9b24_0242ac1c0002row8_col7\" class=\"data row8 col7\" >3027.195394</td>\n",
              "                        <td id=\"T_0b4b7156_1f3a_11eb_9b24_0242ac1c0002row8_col8\" class=\"data row8 col8\" >1731.500000</td>\n",
              "                        <td id=\"T_0b4b7156_1f3a_11eb_9b24_0242ac1c0002row8_col9\" class=\"data row8 col9\" >1731.799854</td>\n",
              "                        <td id=\"T_0b4b7156_1f3a_11eb_9b24_0242ac1c0002row8_col10\" class=\"data row8 col10\" >9586.875000</td>\n",
              "                        <td id=\"T_0b4b7156_1f3a_11eb_9b24_0242ac1c0002row8_col11\" class=\"data row8 col11\" >9587.535450</td>\n",
              "            </tr>\n",
              "            <tr>\n",
              "                        <th id=\"T_0b4b7156_1f3a_11eb_9b24_0242ac1c0002level0_row9\" class=\"row_heading level0 row9\" >2020-05-29 20:51:00</th>\n",
              "                        <td id=\"T_0b4b7156_1f3a_11eb_9b24_0242ac1c0002row9_col0\" class=\"data row9 col0\" >1110660.000000</td>\n",
              "                        <td id=\"T_0b4b7156_1f3a_11eb_9b24_0242ac1c0002row9_col1\" class=\"data row9 col1\" >1110715.042027</td>\n",
              "                        <td id=\"T_0b4b7156_1f3a_11eb_9b24_0242ac1c0002row9_col2\" class=\"data row9 col2\" >1235245.000000</td>\n",
              "                        <td id=\"T_0b4b7156_1f3a_11eb_9b24_0242ac1c0002row9_col3\" class=\"data row9 col3\" >1235486.470572</td>\n",
              "                        <td id=\"T_0b4b7156_1f3a_11eb_9b24_0242ac1c0002row9_col4\" class=\"data row9 col4\" >107773500.000000</td>\n",
              "                        <td id=\"T_0b4b7156_1f3a_11eb_9b24_0242ac1c0002row9_col5\" class=\"data row9 col5\" >107779236.574187</td>\n",
              "                        <td id=\"T_0b4b7156_1f3a_11eb_9b24_0242ac1c0002row9_col6\" class=\"data row9 col6\" >3027.125000</td>\n",
              "                        <td id=\"T_0b4b7156_1f3a_11eb_9b24_0242ac1c0002row9_col7\" class=\"data row9 col7\" >3027.114832</td>\n",
              "                        <td id=\"T_0b4b7156_1f3a_11eb_9b24_0242ac1c0002row9_col8\" class=\"data row9 col8\" >1731.850000</td>\n",
              "                        <td id=\"T_0b4b7156_1f3a_11eb_9b24_0242ac1c0002row9_col9\" class=\"data row9 col9\" >1731.806088</td>\n",
              "                        <td id=\"T_0b4b7156_1f3a_11eb_9b24_0242ac1c0002row9_col10\" class=\"data row9 col10\" >9587.375000</td>\n",
              "                        <td id=\"T_0b4b7156_1f3a_11eb_9b24_0242ac1c0002row9_col11\" class=\"data row9 col11\" >9587.274870</td>\n",
              "            </tr>\n",
              "    </tbody></table>"
            ],
            "text/plain": [
              "<pandas.io.formats.style.Styler at 0x7f6a1bd02240>"
            ]
          },
          "metadata": {
            "tags": []
          },
          "execution_count": 126
        }
      ]
    },
    {
      "cell_type": "code",
      "metadata": {
        "id": "gOR6SHcQJSkW",
        "outputId": "74783a9f-0914-4ef0-9de1-3196b9463778",
        "colab": {
          "base_uri": "https://localhost:8080/",
          "height": 544
        }
      },
      "source": [
        "# EURUSD forcast validation\n",
        "print('EURUSD forcast validation:')\n",
        "m = lag8[['eurusd', 'eurusd_fcast']]\n",
        "m['accuracy'] = round(m.apply(lambda row: row.eurusd_fcast / \n",
        "                                            row.eurusd *100, axis = 1),2)\n",
        "m['accuracy'] = pd.Series([\"{0:.2f}%\".format(val) for val in m['accuracy']], \n",
        "                                     index = m.index)\n",
        "m = m.round(decimals=3)\n",
        "m = m.head(10)\n",
        "def highlight_cols(s):\n",
        "    color = 'yellow'\n",
        "    return 'background-color: %s' % color\n",
        "m.style.applymap(highlight_cols, subset=pd.IndexSlice[:, ['eurusd_fcast']])"
      ],
      "execution_count": 127,
      "outputs": [
        {
          "output_type": "stream",
          "text": [
            "EURUSD forcast validation:\n"
          ],
          "name": "stdout"
        },
        {
          "output_type": "stream",
          "text": [
            "/usr/local/lib/python3.6/dist-packages/pyforest/__init__.py:5: SettingWithCopyWarning:\n",
            "\n",
            "\n",
            "A value is trying to be set on a copy of a slice from a DataFrame.\n",
            "Try using .loc[row_indexer,col_indexer] = value instead\n",
            "\n",
            "See the caveats in the documentation: https://pandas.pydata.org/pandas-docs/stable/user_guide/indexing.html#returning-a-view-versus-a-copy\n",
            "\n"
          ],
          "name": "stderr"
        },
        {
          "output_type": "display_data",
          "data": {
            "application/javascript": [
              "\n",
              "        if (window._pyforest_update_imports_cell) { window._pyforest_update_imports_cell('import lightgbm as lgb\\nimport plotly.express as px\\nimport pydot\\nimport tensorflow as tf\\nimport re\\nimport pandas as pd\\nimport sklearn\\nimport tqdm\\nimport matplotlib.pyplot as plt\\nfrom openpyxl import load_workbook\\nfrom sklearn.model_selection import train_test_split\\nimport numpy as np\\nimport plotly as py'); }\n",
              "    "
            ],
            "text/plain": [
              "<IPython.core.display.Javascript object>"
            ]
          },
          "metadata": {
            "tags": []
          }
        },
        {
          "output_type": "stream",
          "text": [
            "/usr/local/lib/python3.6/dist-packages/pyforest/__init__.py:7: SettingWithCopyWarning:\n",
            "\n",
            "\n",
            "A value is trying to be set on a copy of a slice from a DataFrame.\n",
            "Try using .loc[row_indexer,col_indexer] = value instead\n",
            "\n",
            "See the caveats in the documentation: https://pandas.pydata.org/pandas-docs/stable/user_guide/indexing.html#returning-a-view-versus-a-copy\n",
            "\n"
          ],
          "name": "stderr"
        },
        {
          "output_type": "display_data",
          "data": {
            "application/javascript": [
              "\n",
              "        if (window._pyforest_update_imports_cell) { window._pyforest_update_imports_cell('import lightgbm as lgb\\nimport plotly.express as px\\nimport pydot\\nimport tensorflow as tf\\nimport re\\nimport pandas as pd\\nimport sklearn\\nimport tqdm\\nimport matplotlib.pyplot as plt\\nfrom openpyxl import load_workbook\\nfrom sklearn.model_selection import train_test_split\\nimport numpy as np\\nimport plotly as py'); }\n",
              "    "
            ],
            "text/plain": [
              "<IPython.core.display.Javascript object>"
            ]
          },
          "metadata": {
            "tags": []
          }
        },
        {
          "output_type": "execute_result",
          "data": {
            "text/html": [
              "<style  type=\"text/css\" >\n",
              "#T_0b5110ca_1f3a_11eb_9b24_0242ac1c0002row0_col1,#T_0b5110ca_1f3a_11eb_9b24_0242ac1c0002row1_col1,#T_0b5110ca_1f3a_11eb_9b24_0242ac1c0002row2_col1,#T_0b5110ca_1f3a_11eb_9b24_0242ac1c0002row3_col1,#T_0b5110ca_1f3a_11eb_9b24_0242ac1c0002row4_col1,#T_0b5110ca_1f3a_11eb_9b24_0242ac1c0002row5_col1,#T_0b5110ca_1f3a_11eb_9b24_0242ac1c0002row6_col1,#T_0b5110ca_1f3a_11eb_9b24_0242ac1c0002row7_col1,#T_0b5110ca_1f3a_11eb_9b24_0242ac1c0002row8_col1,#T_0b5110ca_1f3a_11eb_9b24_0242ac1c0002row9_col1{\n",
              "            background-color:  yellow;\n",
              "        }</style><table id=\"T_0b5110ca_1f3a_11eb_9b24_0242ac1c0002\" ><thead>    <tr>        <th class=\"blank level0\" ></th>        <th class=\"col_heading level0 col0\" >eurusd</th>        <th class=\"col_heading level0 col1\" >eurusd_fcast</th>        <th class=\"col_heading level0 col2\" >accuracy</th>    </tr>    <tr>        <th class=\"index_name level0\" >timestamp</th>        <th class=\"blank\" ></th>        <th class=\"blank\" ></th>        <th class=\"blank\" ></th>    </tr></thead><tbody>\n",
              "                <tr>\n",
              "                        <th id=\"T_0b5110ca_1f3a_11eb_9b24_0242ac1c0002level0_row0\" class=\"row_heading level0 row0\" >2020-05-29 21:00:00</th>\n",
              "                        <td id=\"T_0b5110ca_1f3a_11eb_9b24_0242ac1c0002row0_col0\" class=\"data row0 col0\" >1113400.000000</td>\n",
              "                        <td id=\"T_0b5110ca_1f3a_11eb_9b24_0242ac1c0002row0_col1\" class=\"data row0 col1\" >1110720.673000</td>\n",
              "                        <td id=\"T_0b5110ca_1f3a_11eb_9b24_0242ac1c0002row0_col2\" class=\"data row0 col2\" >99.76%</td>\n",
              "            </tr>\n",
              "            <tr>\n",
              "                        <th id=\"T_0b5110ca_1f3a_11eb_9b24_0242ac1c0002level0_row1\" class=\"row_heading level0 row1\" >2020-05-29 20:59:00</th>\n",
              "                        <td id=\"T_0b5110ca_1f3a_11eb_9b24_0242ac1c0002row1_col0\" class=\"data row1 col0\" >1113400.000000</td>\n",
              "                        <td id=\"T_0b5110ca_1f3a_11eb_9b24_0242ac1c0002row1_col1\" class=\"data row1 col1\" >1110720.189000</td>\n",
              "                        <td id=\"T_0b5110ca_1f3a_11eb_9b24_0242ac1c0002row1_col2\" class=\"data row1 col2\" >99.76%</td>\n",
              "            </tr>\n",
              "            <tr>\n",
              "                        <th id=\"T_0b5110ca_1f3a_11eb_9b24_0242ac1c0002level0_row2\" class=\"row_heading level0 row2\" >2020-05-29 20:58:00</th>\n",
              "                        <td id=\"T_0b5110ca_1f3a_11eb_9b24_0242ac1c0002row2_col0\" class=\"data row2 col0\" >1111650.000000</td>\n",
              "                        <td id=\"T_0b5110ca_1f3a_11eb_9b24_0242ac1c0002row2_col1\" class=\"data row2 col1\" >1110719.440000</td>\n",
              "                        <td id=\"T_0b5110ca_1f3a_11eb_9b24_0242ac1c0002row2_col2\" class=\"data row2 col2\" >99.92%</td>\n",
              "            </tr>\n",
              "            <tr>\n",
              "                        <th id=\"T_0b5110ca_1f3a_11eb_9b24_0242ac1c0002level0_row3\" class=\"row_heading level0 row3\" >2020-05-29 20:57:00</th>\n",
              "                        <td id=\"T_0b5110ca_1f3a_11eb_9b24_0242ac1c0002row3_col0\" class=\"data row3 col0\" >1111750.000000</td>\n",
              "                        <td id=\"T_0b5110ca_1f3a_11eb_9b24_0242ac1c0002row3_col1\" class=\"data row3 col1\" >1110718.920000</td>\n",
              "                        <td id=\"T_0b5110ca_1f3a_11eb_9b24_0242ac1c0002row3_col2\" class=\"data row3 col2\" >99.91%</td>\n",
              "            </tr>\n",
              "            <tr>\n",
              "                        <th id=\"T_0b5110ca_1f3a_11eb_9b24_0242ac1c0002level0_row4\" class=\"row_heading level0 row4\" >2020-05-29 20:56:00</th>\n",
              "                        <td id=\"T_0b5110ca_1f3a_11eb_9b24_0242ac1c0002row4_col0\" class=\"data row4 col0\" >1111740.000000</td>\n",
              "                        <td id=\"T_0b5110ca_1f3a_11eb_9b24_0242ac1c0002row4_col1\" class=\"data row4 col1\" >1110719.134000</td>\n",
              "                        <td id=\"T_0b5110ca_1f3a_11eb_9b24_0242ac1c0002row4_col2\" class=\"data row4 col2\" >99.91%</td>\n",
              "            </tr>\n",
              "            <tr>\n",
              "                        <th id=\"T_0b5110ca_1f3a_11eb_9b24_0242ac1c0002level0_row5\" class=\"row_heading level0 row5\" >2020-05-29 20:55:00</th>\n",
              "                        <td id=\"T_0b5110ca_1f3a_11eb_9b24_0242ac1c0002row5_col0\" class=\"data row5 col0\" >1110660.000000</td>\n",
              "                        <td id=\"T_0b5110ca_1f3a_11eb_9b24_0242ac1c0002row5_col1\" class=\"data row5 col1\" >1110716.619000</td>\n",
              "                        <td id=\"T_0b5110ca_1f3a_11eb_9b24_0242ac1c0002row5_col2\" class=\"data row5 col2\" >100.01%</td>\n",
              "            </tr>\n",
              "            <tr>\n",
              "                        <th id=\"T_0b5110ca_1f3a_11eb_9b24_0242ac1c0002level0_row6\" class=\"row_heading level0 row6\" >2020-05-29 20:54:00</th>\n",
              "                        <td id=\"T_0b5110ca_1f3a_11eb_9b24_0242ac1c0002row6_col0\" class=\"data row6 col0\" >1110785.000000</td>\n",
              "                        <td id=\"T_0b5110ca_1f3a_11eb_9b24_0242ac1c0002row6_col1\" class=\"data row6 col1\" >1110716.797000</td>\n",
              "                        <td id=\"T_0b5110ca_1f3a_11eb_9b24_0242ac1c0002row6_col2\" class=\"data row6 col2\" >99.99%</td>\n",
              "            </tr>\n",
              "            <tr>\n",
              "                        <th id=\"T_0b5110ca_1f3a_11eb_9b24_0242ac1c0002level0_row7\" class=\"row_heading level0 row7\" >2020-05-29 20:53:00</th>\n",
              "                        <td id=\"T_0b5110ca_1f3a_11eb_9b24_0242ac1c0002row7_col0\" class=\"data row7 col0\" >1110845.000000</td>\n",
              "                        <td id=\"T_0b5110ca_1f3a_11eb_9b24_0242ac1c0002row7_col1\" class=\"data row7 col1\" >1110723.817000</td>\n",
              "                        <td id=\"T_0b5110ca_1f3a_11eb_9b24_0242ac1c0002row7_col2\" class=\"data row7 col2\" >99.99%</td>\n",
              "            </tr>\n",
              "            <tr>\n",
              "                        <th id=\"T_0b5110ca_1f3a_11eb_9b24_0242ac1c0002level0_row8\" class=\"row_heading level0 row8\" >2020-05-29 20:52:00</th>\n",
              "                        <td id=\"T_0b5110ca_1f3a_11eb_9b24_0242ac1c0002row8_col0\" class=\"data row8 col0\" >1110745.000000</td>\n",
              "                        <td id=\"T_0b5110ca_1f3a_11eb_9b24_0242ac1c0002row8_col1\" class=\"data row8 col1\" >1110702.120000</td>\n",
              "                        <td id=\"T_0b5110ca_1f3a_11eb_9b24_0242ac1c0002row8_col2\" class=\"data row8 col2\" >100.00%</td>\n",
              "            </tr>\n",
              "            <tr>\n",
              "                        <th id=\"T_0b5110ca_1f3a_11eb_9b24_0242ac1c0002level0_row9\" class=\"row_heading level0 row9\" >2020-05-29 20:51:00</th>\n",
              "                        <td id=\"T_0b5110ca_1f3a_11eb_9b24_0242ac1c0002row9_col0\" class=\"data row9 col0\" >1110660.000000</td>\n",
              "                        <td id=\"T_0b5110ca_1f3a_11eb_9b24_0242ac1c0002row9_col1\" class=\"data row9 col1\" >1110715.042000</td>\n",
              "                        <td id=\"T_0b5110ca_1f3a_11eb_9b24_0242ac1c0002row9_col2\" class=\"data row9 col2\" >100.00%</td>\n",
              "            </tr>\n",
              "    </tbody></table>"
            ],
            "text/plain": [
              "<pandas.io.formats.style.Styler at 0x7f6a570b05c0>"
            ]
          },
          "metadata": {
            "tags": []
          },
          "execution_count": 127
        }
      ]
    },
    {
      "cell_type": "code",
      "metadata": {
        "id": "a_qAIc8RIu1I",
        "outputId": "f5e34933-d545-4c4e-e84d-1e2fb76d0dc0",
        "colab": {
          "base_uri": "https://localhost:8080/",
          "height": 134
        }
      },
      "source": [
        "# Accuracy metrics\n",
        "from sklearn.metrics import r2_score, mean_absolute_error, mean_squared_error, mean_absolute_error, mean_squared_log_error\n",
        "\n",
        "# score EURUSD\n",
        "mae = mean_absolute_error(lag8.eurusd, lag8.eurusd_fcast)\n",
        "mse = mean_squared_error(lag8.eurusd, lag8.eurusd_fcast)\n",
        "rmse = np.sqrt(mse)\n",
        "mape = np.mean(np.abs((lag8['eurusd'].values - lag8['eurusd_fcast'].values) / lag8['eurusd'].values)) * 100\n",
        "msle = mean_squared_log_error(lag8.eurusd, lag8.eurusd_fcast)\n",
        "sum = DataFrame(index = ['Mean Absolute Error', 'Mean squared error', 'Root mean squared error',\n",
        "                            'Mean absolute % error','Mean squared log Error'])\n",
        "sum['Accuracy metrics :    EURUSD'] = [mae, mse, rmse, mape, msle]\n",
        "\n",
        "# score GBPUSD\n",
        "mae = mean_absolute_error(lag8.gbpusd, lag8.gbpusd_fcast)\n",
        "mse = mean_squared_error(lag8.gbpusd, lag8.gbpusd_fcast)\n",
        "rmse = np.sqrt(mse)\n",
        "mape = np.mean(np.abs((lag8['gbpusd'].values - lag8['gbpusd_fcast'].values) / lag8['gbpusd'].values)) * 100\n",
        "msle = mean_squared_log_error(lag8.gbpusd, lag8.gbpusd_fcast)\n",
        "sum['GBPUSD'] = [mae, mse, rmse, mape, msle]\n",
        "\n",
        "# score USDJPY\n",
        "mae = mean_absolute_error(lag8.usdjpy, lag8.usdjpy_fcast)\n",
        "mse = mean_squared_error(lag8.usdjpy, lag8.usdjpy_fcast)\n",
        "rmse = np.sqrt(mse)\n",
        "mape = np.mean(np.abs((lag8['usdjpy'].values - lag8['usdjpy_fcast'].values) / lag8['usdjpy'].values)) * 100\n",
        "msle = mean_squared_log_error(lag8.usdjpy, lag8.usdjpy_fcast)\n",
        "sum['USDJPY'] = [mae, mse, rmse, mape, msle]\n",
        "\n",
        "# score NQ\n",
        "mae = mean_absolute_error(lag8.nq, lag8.nq_fcast)\n",
        "mse = mean_squared_error(lag8.nq, lag8.nq_fcast)\n",
        "rmse = np.sqrt(mse)\n",
        "mape = np.mean(np.abs((lag8['nq'].values - lag8['nq_fcast'].values) / lag8['nq'].values)) * 100\n",
        "msle = mean_squared_log_error(lag8.nq, lag8.nq_fcast)\n",
        "sum['NQ'] = [mae, mse, rmse, mape, msle]\n",
        "\n",
        "# score ES\n",
        "mae = mean_absolute_error(lag8.es, lag8.es_fcast)\n",
        "mse = mean_squared_error(lag8.es, lag8.es_fcast)\n",
        "rmse = np.sqrt(mse)\n",
        "mape = np.mean(np.abs((lag8['es'].values - lag8['es_fcast'].values) / lag8['es'].values)) * 100\n",
        "msle = mean_squared_log_error(lag8.es, lag8.es_fcast)\n",
        "sum['ES'] = [mae, mse, rmse, mape, msle]\n",
        "\n",
        "# score GC\n",
        "mae = mean_absolute_error(lag8.gc, lag8.gc_fcast)\n",
        "mse = mean_squared_error(lag8.gc, lag8.gc_fcast)\n",
        "rmse = np.sqrt(mse)\n",
        "mape = np.mean(np.abs((lag8['gc'].values - lag8['gc_fcast'].values) /lag8['gc'].values)) * 100\n",
        "msle = mean_squared_log_error(lag8.gc, lag8.gc_fcast)\n",
        "sum['GC'] = [mae, mse, rmse, mape, msle]\n",
        "print('Accuracy metrics:')\n",
        "print(sum)"
      ],
      "execution_count": 129,
      "outputs": [
        {
          "output_type": "display_data",
          "data": {
            "application/javascript": [
              "\n",
              "        if (window._pyforest_update_imports_cell) { window._pyforest_update_imports_cell('import lightgbm as lgb\\nimport plotly.express as px\\nimport pydot\\nimport tensorflow as tf\\nimport re\\nimport pandas as pd\\nimport sklearn\\nimport tqdm\\nimport matplotlib.pyplot as plt\\nfrom openpyxl import load_workbook\\nfrom sklearn.model_selection import train_test_split\\nimport numpy as np\\nimport plotly as py'); }\n",
              "    "
            ],
            "text/plain": [
              "<IPython.core.display.Javascript object>"
            ]
          },
          "metadata": {
            "tags": []
          }
        },
        {
          "output_type": "display_data",
          "data": {
            "application/javascript": [
              "\n",
              "        if (window._pyforest_update_imports_cell) { window._pyforest_update_imports_cell('import lightgbm as lgb\\nimport plotly.express as px\\nimport pydot\\nimport tensorflow as tf\\nimport re\\nimport pandas as pd\\nimport sklearn\\nimport tqdm\\nimport matplotlib.pyplot as plt\\nfrom openpyxl import load_workbook\\nfrom sklearn.model_selection import train_test_split\\nimport numpy as np\\nimport plotly as py'); }\n",
              "    "
            ],
            "text/plain": [
              "<IPython.core.display.Javascript object>"
            ]
          },
          "metadata": {
            "tags": []
          }
        },
        {
          "output_type": "display_data",
          "data": {
            "application/javascript": [
              "\n",
              "        if (window._pyforest_update_imports_cell) { window._pyforest_update_imports_cell('import lightgbm as lgb\\nimport plotly.express as px\\nimport pydot\\nimport tensorflow as tf\\nimport re\\nimport pandas as pd\\nimport sklearn\\nimport tqdm\\nimport matplotlib.pyplot as plt\\nfrom openpyxl import load_workbook\\nfrom sklearn.model_selection import train_test_split\\nimport numpy as np\\nimport plotly as py'); }\n",
              "    "
            ],
            "text/plain": [
              "<IPython.core.display.Javascript object>"
            ]
          },
          "metadata": {
            "tags": []
          }
        },
        {
          "output_type": "display_data",
          "data": {
            "application/javascript": [
              "\n",
              "        if (window._pyforest_update_imports_cell) { window._pyforest_update_imports_cell('import lightgbm as lgb\\nimport plotly.express as px\\nimport pydot\\nimport tensorflow as tf\\nimport re\\nimport pandas as pd\\nimport sklearn\\nimport tqdm\\nimport matplotlib.pyplot as plt\\nfrom openpyxl import load_workbook\\nfrom sklearn.model_selection import train_test_split\\nimport numpy as np\\nimport plotly as py'); }\n",
              "    "
            ],
            "text/plain": [
              "<IPython.core.display.Javascript object>"
            ]
          },
          "metadata": {
            "tags": []
          }
        },
        {
          "output_type": "display_data",
          "data": {
            "application/javascript": [
              "\n",
              "        if (window._pyforest_update_imports_cell) { window._pyforest_update_imports_cell('import lightgbm as lgb\\nimport plotly.express as px\\nimport pydot\\nimport tensorflow as tf\\nimport re\\nimport pandas as pd\\nimport sklearn\\nimport tqdm\\nimport matplotlib.pyplot as plt\\nfrom openpyxl import load_workbook\\nfrom sklearn.model_selection import train_test_split\\nimport numpy as np\\nimport plotly as py'); }\n",
              "    "
            ],
            "text/plain": [
              "<IPython.core.display.Javascript object>"
            ]
          },
          "metadata": {
            "tags": []
          }
        },
        {
          "output_type": "display_data",
          "data": {
            "application/javascript": [
              "\n",
              "        if (window._pyforest_update_imports_cell) { window._pyforest_update_imports_cell('import lightgbm as lgb\\nimport plotly.express as px\\nimport pydot\\nimport tensorflow as tf\\nimport re\\nimport pandas as pd\\nimport sklearn\\nimport tqdm\\nimport matplotlib.pyplot as plt\\nfrom openpyxl import load_workbook\\nfrom sklearn.model_selection import train_test_split\\nimport numpy as np\\nimport plotly as py'); }\n",
              "    "
            ],
            "text/plain": [
              "<IPython.core.display.Javascript object>"
            ]
          },
          "metadata": {
            "tags": []
          }
        },
        {
          "output_type": "display_data",
          "data": {
            "application/javascript": [
              "\n",
              "        if (window._pyforest_update_imports_cell) { window._pyforest_update_imports_cell('import lightgbm as lgb\\nimport plotly.express as px\\nimport pydot\\nimport tensorflow as tf\\nimport re\\nimport pandas as pd\\nimport sklearn\\nimport tqdm\\nimport matplotlib.pyplot as plt\\nfrom openpyxl import load_workbook\\nfrom sklearn.model_selection import train_test_split\\nimport numpy as np\\nimport plotly as py'); }\n",
              "    "
            ],
            "text/plain": [
              "<IPython.core.display.Javascript object>"
            ]
          },
          "metadata": {
            "tags": []
          }
        },
        {
          "output_type": "display_data",
          "data": {
            "application/javascript": [
              "\n",
              "        if (window._pyforest_update_imports_cell) { window._pyforest_update_imports_cell('import lightgbm as lgb\\nimport plotly.express as px\\nimport pydot\\nimport tensorflow as tf\\nimport re\\nimport pandas as pd\\nimport sklearn\\nimport tqdm\\nimport matplotlib.pyplot as plt\\nfrom openpyxl import load_workbook\\nfrom sklearn.model_selection import train_test_split\\nimport numpy as np\\nimport plotly as py'); }\n",
              "    "
            ],
            "text/plain": [
              "<IPython.core.display.Javascript object>"
            ]
          },
          "metadata": {
            "tags": []
          }
        },
        {
          "output_type": "display_data",
          "data": {
            "application/javascript": [
              "\n",
              "        if (window._pyforest_update_imports_cell) { window._pyforest_update_imports_cell('import lightgbm as lgb\\nimport plotly.express as px\\nimport pydot\\nimport tensorflow as tf\\nimport re\\nimport pandas as pd\\nimport sklearn\\nimport tqdm\\nimport matplotlib.pyplot as plt\\nfrom openpyxl import load_workbook\\nfrom sklearn.model_selection import train_test_split\\nimport numpy as np\\nimport plotly as py'); }\n",
              "    "
            ],
            "text/plain": [
              "<IPython.core.display.Javascript object>"
            ]
          },
          "metadata": {
            "tags": []
          }
        },
        {
          "output_type": "display_data",
          "data": {
            "application/javascript": [
              "\n",
              "        if (window._pyforest_update_imports_cell) { window._pyforest_update_imports_cell('import lightgbm as lgb\\nimport plotly.express as px\\nimport pydot\\nimport tensorflow as tf\\nimport re\\nimport pandas as pd\\nimport sklearn\\nimport tqdm\\nimport matplotlib.pyplot as plt\\nfrom openpyxl import load_workbook\\nfrom sklearn.model_selection import train_test_split\\nimport numpy as np\\nimport plotly as py'); }\n",
              "    "
            ],
            "text/plain": [
              "<IPython.core.display.Javascript object>"
            ]
          },
          "metadata": {
            "tags": []
          }
        },
        {
          "output_type": "display_data",
          "data": {
            "application/javascript": [
              "\n",
              "        if (window._pyforest_update_imports_cell) { window._pyforest_update_imports_cell('import lightgbm as lgb\\nimport plotly.express as px\\nimport pydot\\nimport tensorflow as tf\\nimport re\\nimport pandas as pd\\nimport sklearn\\nimport tqdm\\nimport matplotlib.pyplot as plt\\nfrom openpyxl import load_workbook\\nfrom sklearn.model_selection import train_test_split\\nimport numpy as np\\nimport plotly as py'); }\n",
              "    "
            ],
            "text/plain": [
              "<IPython.core.display.Javascript object>"
            ]
          },
          "metadata": {
            "tags": []
          }
        },
        {
          "output_type": "display_data",
          "data": {
            "application/javascript": [
              "\n",
              "        if (window._pyforest_update_imports_cell) { window._pyforest_update_imports_cell('import lightgbm as lgb\\nimport plotly.express as px\\nimport pydot\\nimport tensorflow as tf\\nimport re\\nimport pandas as pd\\nimport sklearn\\nimport tqdm\\nimport matplotlib.pyplot as plt\\nfrom openpyxl import load_workbook\\nfrom sklearn.model_selection import train_test_split\\nimport numpy as np\\nimport plotly as py'); }\n",
              "    "
            ],
            "text/plain": [
              "<IPython.core.display.Javascript object>"
            ]
          },
          "metadata": {
            "tags": []
          }
        },
        {
          "output_type": "display_data",
          "data": {
            "application/javascript": [
              "\n",
              "        if (window._pyforest_update_imports_cell) { window._pyforest_update_imports_cell('import lightgbm as lgb\\nimport plotly.express as px\\nimport pydot\\nimport tensorflow as tf\\nimport re\\nimport pandas as pd\\nimport sklearn\\nimport tqdm\\nimport matplotlib.pyplot as plt\\nfrom openpyxl import load_workbook\\nfrom sklearn.model_selection import train_test_split\\nimport numpy as np\\nimport plotly as py'); }\n",
              "    "
            ],
            "text/plain": [
              "<IPython.core.display.Javascript object>"
            ]
          },
          "metadata": {
            "tags": []
          }
        },
        {
          "output_type": "display_data",
          "data": {
            "application/javascript": [
              "\n",
              "        if (window._pyforest_update_imports_cell) { window._pyforest_update_imports_cell('import lightgbm as lgb\\nimport plotly.express as px\\nimport pydot\\nimport tensorflow as tf\\nimport re\\nimport pandas as pd\\nimport sklearn\\nimport tqdm\\nimport matplotlib.pyplot as plt\\nfrom openpyxl import load_workbook\\nfrom sklearn.model_selection import train_test_split\\nimport numpy as np\\nimport plotly as py'); }\n",
              "    "
            ],
            "text/plain": [
              "<IPython.core.display.Javascript object>"
            ]
          },
          "metadata": {
            "tags": []
          }
        },
        {
          "output_type": "display_data",
          "data": {
            "application/javascript": [
              "\n",
              "        if (window._pyforest_update_imports_cell) { window._pyforest_update_imports_cell('import lightgbm as lgb\\nimport plotly.express as px\\nimport pydot\\nimport tensorflow as tf\\nimport re\\nimport pandas as pd\\nimport sklearn\\nimport tqdm\\nimport matplotlib.pyplot as plt\\nfrom openpyxl import load_workbook\\nfrom sklearn.model_selection import train_test_split\\nimport numpy as np\\nimport plotly as py'); }\n",
              "    "
            ],
            "text/plain": [
              "<IPython.core.display.Javascript object>"
            ]
          },
          "metadata": {
            "tags": []
          }
        },
        {
          "output_type": "display_data",
          "data": {
            "application/javascript": [
              "\n",
              "        if (window._pyforest_update_imports_cell) { window._pyforest_update_imports_cell('import lightgbm as lgb\\nimport plotly.express as px\\nimport pydot\\nimport tensorflow as tf\\nimport re\\nimport pandas as pd\\nimport sklearn\\nimport tqdm\\nimport matplotlib.pyplot as plt\\nfrom openpyxl import load_workbook\\nfrom sklearn.model_selection import train_test_split\\nimport numpy as np\\nimport plotly as py'); }\n",
              "    "
            ],
            "text/plain": [
              "<IPython.core.display.Javascript object>"
            ]
          },
          "metadata": {
            "tags": []
          }
        },
        {
          "output_type": "display_data",
          "data": {
            "application/javascript": [
              "\n",
              "        if (window._pyforest_update_imports_cell) { window._pyforest_update_imports_cell('import lightgbm as lgb\\nimport plotly.express as px\\nimport pydot\\nimport tensorflow as tf\\nimport re\\nimport pandas as pd\\nimport sklearn\\nimport tqdm\\nimport matplotlib.pyplot as plt\\nfrom openpyxl import load_workbook\\nfrom sklearn.model_selection import train_test_split\\nimport numpy as np\\nimport plotly as py'); }\n",
              "    "
            ],
            "text/plain": [
              "<IPython.core.display.Javascript object>"
            ]
          },
          "metadata": {
            "tags": []
          }
        },
        {
          "output_type": "display_data",
          "data": {
            "application/javascript": [
              "\n",
              "        if (window._pyforest_update_imports_cell) { window._pyforest_update_imports_cell('import lightgbm as lgb\\nimport plotly.express as px\\nimport pydot\\nimport tensorflow as tf\\nimport re\\nimport pandas as pd\\nimport sklearn\\nimport tqdm\\nimport matplotlib.pyplot as plt\\nfrom openpyxl import load_workbook\\nfrom sklearn.model_selection import train_test_split\\nimport numpy as np\\nimport plotly as py'); }\n",
              "    "
            ],
            "text/plain": [
              "<IPython.core.display.Javascript object>"
            ]
          },
          "metadata": {
            "tags": []
          }
        },
        {
          "output_type": "stream",
          "text": [
            "Accuracy metrics:\n",
            "                         Accuracy metrics :    EURUSD    GBPUSD        USDJPY   NQ   ES   GC\n",
            "Mean Absolute Error                            868.56    386.78      34983.03 0.92 0.13 0.29\n",
            "Mean squared error                         1735882.38 372681.25 2249267212.82 1.68 0.04 0.12\n",
            "Root mean squared error                       1317.53    610.48      47426.44 1.30 0.21 0.35\n",
            "Mean absolute % error                            0.08      0.03          0.03 0.01 0.00 0.02\n",
            "Mean squared log Error                           0.00      0.00          0.00 0.00 0.00 0.00\n"
          ],
          "name": "stdout"
        }
      ]
    },
    {
      "cell_type": "markdown",
      "metadata": {
        "id": "_9rhPkwMModd"
      },
      "source": [
        "# **4 VAR model fitting with lag 12:**"
      ]
    },
    {
      "cell_type": "code",
      "metadata": {
        "id": "8WzX8mfEM4xn",
        "outputId": "cbc31444-62cd-40e4-9faf-5fef4bbfb40e",
        "colab": {
          "base_uri": "https://localhost:8080/",
          "height": 534
        }
      },
      "source": [
        "df = pd.read_csv(\"AL_final_data.csv\")\n",
        "df.drop(columns = ['Unnamed: 0'], axis=1, inplace=True)\n",
        "df = df.set_index('timestamp')\n",
        "df.index = pd.to_datetime(df.index)\n",
        "\n",
        "# spliting train/test\n",
        "nobs = 10 # keeping 10 mins observations aside for validation\n",
        "train_var, test_var = df[0:- nobs], df[- nobs:]\n",
        "\n",
        "# Check size\n",
        "#print(train_var.shape); print(test_var.shape);\n",
        "\n",
        "# transfoming training data set\n",
        "train_trans = train_var.diff().dropna() # differencing\n",
        "#print('Description of diff data:'); print(train_trans.describe());\n",
        "\n",
        "import statsmodels.tsa.api as smt\n",
        "from statsmodels.tsa.api import VAR\n",
        "\n",
        "# pass \"1min\" frequency\n",
        "train_trans.index = pd.DatetimeIndex(train_trans.index).to_period('1min')\n",
        "\n",
        "# fitting VAR model with associated freq & lags\n",
        "model_l_12 = VAR(endog = train_trans).fit(maxlags = 12)\n",
        "\n",
        "from statsmodels.stats.stattools import durbin_watson\n",
        "print('Durbin Watson statistic:')\n",
        "out = durbin_watson(model_l_12.resid)\n",
        "\n",
        "for col, val in zip(train_var.columns, out):\n",
        "    print((col), ':', round(val, 2))\n",
        "print()\n",
        "\n",
        "residuals = model_l_12.resid\n",
        "residuals.plot(figsize=(14,5))\n",
        "plt.title('Residuals plot = VAR lag 12')\n",
        "plt.show()\n",
        "print()\n",
        "\n",
        "# Forecasting\n",
        "pd.options.display.float_format = \"{:.2f}\".format\n",
        "# Get the lag order\n",
        "lag_order = model_l_12.k_ar\n",
        "#print(lag_order) \n",
        "\n",
        "# Input data for forecasting\n",
        "input_data = train_trans.values[-lag_order:]\n",
        "#print(input_data)\n",
        "\n",
        "# Inversing difference\n",
        "def inverse_diff(train, df_pred):\n",
        "    \"\"\"Revert back the differencing to get the forecast to original scale.\"\"\"\n",
        "    df_fc = df_pred.copy()\n",
        "    columns = train_var.columns\n",
        "    for col in columns:        \n",
        "        # Roll back 1st Diff\n",
        "        df_fc[str(col)+'_fcast'] = train_var[col].iloc[-1] + df_fc[str(col)+'_1d'].cumsum()\n",
        "    return df_fc\n",
        "\n",
        "df_results = inverse_diff(train_var, df_pred)        \n",
        "t = df_results.loc[:, ['es_fcast', 'eurusd_fcast', 'gbpusd_fcast', \n",
        "                       'gc_fcast','nq_fcast', 'usdjpy_fcast']]\n"
      ],
      "execution_count": 130,
      "outputs": [
        {
          "output_type": "display_data",
          "data": {
            "application/javascript": [
              "\n",
              "        if (window._pyforest_update_imports_cell) { window._pyforest_update_imports_cell('import lightgbm as lgb\\nimport plotly.express as px\\nimport pydot\\nimport tensorflow as tf\\nimport re\\nimport pandas as pd\\nimport sklearn\\nimport tqdm\\nimport matplotlib.pyplot as plt\\nfrom openpyxl import load_workbook\\nfrom sklearn.model_selection import train_test_split\\nimport numpy as np\\nimport plotly as py'); }\n",
              "    "
            ],
            "text/plain": [
              "<IPython.core.display.Javascript object>"
            ]
          },
          "metadata": {
            "tags": []
          }
        },
        {
          "output_type": "display_data",
          "data": {
            "application/javascript": [
              "\n",
              "        if (window._pyforest_update_imports_cell) { window._pyforest_update_imports_cell('import lightgbm as lgb\\nimport plotly.express as px\\nimport pydot\\nimport tensorflow as tf\\nimport re\\nimport pandas as pd\\nimport sklearn\\nimport tqdm\\nimport matplotlib.pyplot as plt\\nfrom openpyxl import load_workbook\\nfrom sklearn.model_selection import train_test_split\\nimport numpy as np\\nimport plotly as py'); }\n",
              "    "
            ],
            "text/plain": [
              "<IPython.core.display.Javascript object>"
            ]
          },
          "metadata": {
            "tags": []
          }
        },
        {
          "output_type": "display_data",
          "data": {
            "application/javascript": [
              "\n",
              "        if (window._pyforest_update_imports_cell) { window._pyforest_update_imports_cell('import lightgbm as lgb\\nimport plotly.express as px\\nimport pydot\\nimport tensorflow as tf\\nimport re\\nimport pandas as pd\\nimport sklearn\\nimport tqdm\\nimport matplotlib.pyplot as plt\\nfrom openpyxl import load_workbook\\nfrom sklearn.model_selection import train_test_split\\nimport numpy as np\\nimport plotly as py'); }\n",
              "    "
            ],
            "text/plain": [
              "<IPython.core.display.Javascript object>"
            ]
          },
          "metadata": {
            "tags": []
          }
        },
        {
          "output_type": "stream",
          "text": [
            "Durbin Watson statistic:\n",
            "es : 2.0\n",
            "eurusd : 2.0\n",
            "gbpusd : 2.0\n",
            "gc : 2.0\n",
            "nq : 2.0\n",
            "usdjpy : 2.0\n",
            "\n"
          ],
          "name": "stdout"
        },
        {
          "output_type": "display_data",
          "data": {
            "application/javascript": [
              "\n",
              "        if (window._pyforest_update_imports_cell) { window._pyforest_update_imports_cell('import lightgbm as lgb\\nimport plotly.express as px\\nimport pydot\\nimport tensorflow as tf\\nimport re\\nimport pandas as pd\\nimport sklearn\\nimport tqdm\\nimport matplotlib.pyplot as plt\\nfrom openpyxl import load_workbook\\nfrom sklearn.model_selection import train_test_split\\nimport numpy as np\\nimport plotly as py'); }\n",
              "    "
            ],
            "text/plain": [
              "<IPython.core.display.Javascript object>"
            ]
          },
          "metadata": {
            "tags": []
          }
        },
        {
          "output_type": "display_data",
          "data": {
            "application/javascript": [
              "\n",
              "        if (window._pyforest_update_imports_cell) { window._pyforest_update_imports_cell('import lightgbm as lgb\\nimport plotly.express as px\\nimport pydot\\nimport tensorflow as tf\\nimport re\\nimport pandas as pd\\nimport sklearn\\nimport tqdm\\nimport matplotlib.pyplot as plt\\nfrom openpyxl import load_workbook\\nfrom sklearn.model_selection import train_test_split\\nimport numpy as np\\nimport plotly as py'); }\n",
              "    "
            ],
            "text/plain": [
              "<IPython.core.display.Javascript object>"
            ]
          },
          "metadata": {
            "tags": []
          }
        },
        {
          "output_type": "display_data",
          "data": {
            "image/png": "[encoded data removed]",
            "text/plain": [
              "<Figure size 1008x360 with 1 Axes>"
            ]
          },
          "metadata": {
            "tags": []
          }
        },
        {
          "output_type": "stream",
          "text": [
            "\n"
          ],
          "name": "stdout"
        },
        {
          "output_type": "display_data",
          "data": {
            "application/javascript": [
              "\n",
              "        if (window._pyforest_update_imports_cell) { window._pyforest_update_imports_cell('import lightgbm as lgb\\nimport plotly.express as px\\nimport pydot\\nimport tensorflow as tf\\nimport re\\nimport pandas as pd\\nimport sklearn\\nimport tqdm\\nimport matplotlib.pyplot as plt\\nfrom openpyxl import load_workbook\\nfrom sklearn.model_selection import train_test_split\\nimport numpy as np\\nimport plotly as py'); }\n",
              "    "
            ],
            "text/plain": [
              "<IPython.core.display.Javascript object>"
            ]
          },
          "metadata": {
            "tags": []
          }
        }
      ]
    },
    {
      "cell_type": "code",
      "metadata": {
        "id": "ckvT0gfZNEre",
        "outputId": "0796ea26-6a37-4e74-a9d2-c5d197a6aa52",
        "colab": {
          "base_uri": "https://localhost:8080/",
          "height": 631
        }
      },
      "source": [
        "print('Actual vs forecast:')\n",
        "t.index = test_var.index\n",
        "lag12 = pd.concat([test_var, t], axis=1)\n",
        "lag12 = lag12[['eurusd','eurusd_fcast','gbpusd','gbpusd_fcast','usdjpy','usdjpy_fcast',\n",
        "                 'es','es_fcast','gc','gc_fcast','nq','nq_fcast']]\n",
        "lag12 = lag12.sort_values(by='timestamp', ascending=False)\n",
        "def highlight_cols(s):\n",
        "    color = 'yellow'\n",
        "    return 'background-color: %s' % color\n",
        "lag12.style.applymap(highlight_cols, subset=pd.IndexSlice[:, ['eurusd_fcast','gbpusd_fcast','usdjpy_fcast',\n",
        "                                                               'nq_fcast','es_fcast','gc_fcast']])"
      ],
      "execution_count": 131,
      "outputs": [
        {
          "output_type": "stream",
          "text": [
            "Actual vs forecast:\n"
          ],
          "name": "stdout"
        },
        {
          "output_type": "display_data",
          "data": {
            "application/javascript": [
              "\n",
              "        if (window._pyforest_update_imports_cell) { window._pyforest_update_imports_cell('import lightgbm as lgb\\nimport plotly.express as px\\nimport pydot\\nimport tensorflow as tf\\nimport re\\nimport pandas as pd\\nimport sklearn\\nimport tqdm\\nimport matplotlib.pyplot as plt\\nfrom openpyxl import load_workbook\\nfrom sklearn.model_selection import train_test_split\\nimport numpy as np\\nimport plotly as py'); }\n",
              "    "
            ],
            "text/plain": [
              "<IPython.core.display.Javascript object>"
            ]
          },
          "metadata": {
            "tags": []
          }
        },
        {
          "output_type": "display_data",
          "data": {
            "application/javascript": [
              "\n",
              "        if (window._pyforest_update_imports_cell) { window._pyforest_update_imports_cell('import lightgbm as lgb\\nimport plotly.express as px\\nimport pydot\\nimport tensorflow as tf\\nimport re\\nimport pandas as pd\\nimport sklearn\\nimport tqdm\\nimport matplotlib.pyplot as plt\\nfrom openpyxl import load_workbook\\nfrom sklearn.model_selection import train_test_split\\nimport numpy as np\\nimport plotly as py'); }\n",
              "    "
            ],
            "text/plain": [
              "<IPython.core.display.Javascript object>"
            ]
          },
          "metadata": {
            "tags": []
          }
        },
        {
          "output_type": "execute_result",
          "data": {
            "text/html": [
              "<style  type=\"text/css\" >\n",
              "#T_267a193c_1f3a_11eb_9b24_0242ac1c0002row0_col1,#T_267a193c_1f3a_11eb_9b24_0242ac1c0002row0_col3,#T_267a193c_1f3a_11eb_9b24_0242ac1c0002row0_col5,#T_267a193c_1f3a_11eb_9b24_0242ac1c0002row0_col7,#T_267a193c_1f3a_11eb_9b24_0242ac1c0002row0_col9,#T_267a193c_1f3a_11eb_9b24_0242ac1c0002row0_col11,#T_267a193c_1f3a_11eb_9b24_0242ac1c0002row1_col1,#T_267a193c_1f3a_11eb_9b24_0242ac1c0002row1_col3,#T_267a193c_1f3a_11eb_9b24_0242ac1c0002row1_col5,#T_267a193c_1f3a_11eb_9b24_0242ac1c0002row1_col7,#T_267a193c_1f3a_11eb_9b24_0242ac1c0002row1_col9,#T_267a193c_1f3a_11eb_9b24_0242ac1c0002row1_col11,#T_267a193c_1f3a_11eb_9b24_0242ac1c0002row2_col1,#T_267a193c_1f3a_11eb_9b24_0242ac1c0002row2_col3,#T_267a193c_1f3a_11eb_9b24_0242ac1c0002row2_col5,#T_267a193c_1f3a_11eb_9b24_0242ac1c0002row2_col7,#T_267a193c_1f3a_11eb_9b24_0242ac1c0002row2_col9,#T_267a193c_1f3a_11eb_9b24_0242ac1c0002row2_col11,#T_267a193c_1f3a_11eb_9b24_0242ac1c0002row3_col1,#T_267a193c_1f3a_11eb_9b24_0242ac1c0002row3_col3,#T_267a193c_1f3a_11eb_9b24_0242ac1c0002row3_col5,#T_267a193c_1f3a_11eb_9b24_0242ac1c0002row3_col7,#T_267a193c_1f3a_11eb_9b24_0242ac1c0002row3_col9,#T_267a193c_1f3a_11eb_9b24_0242ac1c0002row3_col11,#T_267a193c_1f3a_11eb_9b24_0242ac1c0002row4_col1,#T_267a193c_1f3a_11eb_9b24_0242ac1c0002row4_col3,#T_267a193c_1f3a_11eb_9b24_0242ac1c0002row4_col5,#T_267a193c_1f3a_11eb_9b24_0242ac1c0002row4_col7,#T_267a193c_1f3a_11eb_9b24_0242ac1c0002row4_col9,#T_267a193c_1f3a_11eb_9b24_0242ac1c0002row4_col11,#T_267a193c_1f3a_11eb_9b24_0242ac1c0002row5_col1,#T_267a193c_1f3a_11eb_9b24_0242ac1c0002row5_col3,#T_267a193c_1f3a_11eb_9b24_0242ac1c0002row5_col5,#T_267a193c_1f3a_11eb_9b24_0242ac1c0002row5_col7,#T_267a193c_1f3a_11eb_9b24_0242ac1c0002row5_col9,#T_267a193c_1f3a_11eb_9b24_0242ac1c0002row5_col11,#T_267a193c_1f3a_11eb_9b24_0242ac1c0002row6_col1,#T_267a193c_1f3a_11eb_9b24_0242ac1c0002row6_col3,#T_267a193c_1f3a_11eb_9b24_0242ac1c0002row6_col5,#T_267a193c_1f3a_11eb_9b24_0242ac1c0002row6_col7,#T_267a193c_1f3a_11eb_9b24_0242ac1c0002row6_col9,#T_267a193c_1f3a_11eb_9b24_0242ac1c0002row6_col11,#T_267a193c_1f3a_11eb_9b24_0242ac1c0002row7_col1,#T_267a193c_1f3a_11eb_9b24_0242ac1c0002row7_col3,#T_267a193c_1f3a_11eb_9b24_0242ac1c0002row7_col5,#T_267a193c_1f3a_11eb_9b24_0242ac1c0002row7_col7,#T_267a193c_1f3a_11eb_9b24_0242ac1c0002row7_col9,#T_267a193c_1f3a_11eb_9b24_0242ac1c0002row7_col11,#T_267a193c_1f3a_11eb_9b24_0242ac1c0002row8_col1,#T_267a193c_1f3a_11eb_9b24_0242ac1c0002row8_col3,#T_267a193c_1f3a_11eb_9b24_0242ac1c0002row8_col5,#T_267a193c_1f3a_11eb_9b24_0242ac1c0002row8_col7,#T_267a193c_1f3a_11eb_9b24_0242ac1c0002row8_col9,#T_267a193c_1f3a_11eb_9b24_0242ac1c0002row8_col11,#T_267a193c_1f3a_11eb_9b24_0242ac1c0002row9_col1,#T_267a193c_1f3a_11eb_9b24_0242ac1c0002row9_col3,#T_267a193c_1f3a_11eb_9b24_0242ac1c0002row9_col5,#T_267a193c_1f3a_11eb_9b24_0242ac1c0002row9_col7,#T_267a193c_1f3a_11eb_9b24_0242ac1c0002row9_col9,#T_267a193c_1f3a_11eb_9b24_0242ac1c0002row9_col11{\n",
              "            background-color:  yellow;\n",
              "        }</style><table id=\"T_267a193c_1f3a_11eb_9b24_0242ac1c0002\" ><thead>    <tr>        <th class=\"blank level0\" ></th>        <th class=\"col_heading level0 col0\" >eurusd</th>        <th class=\"col_heading level0 col1\" >eurusd_fcast</th>        <th class=\"col_heading level0 col2\" >gbpusd</th>        <th class=\"col_heading level0 col3\" >gbpusd_fcast</th>        <th class=\"col_heading level0 col4\" >usdjpy</th>        <th class=\"col_heading level0 col5\" >usdjpy_fcast</th>        <th class=\"col_heading level0 col6\" >es</th>        <th class=\"col_heading level0 col7\" >es_fcast</th>        <th class=\"col_heading level0 col8\" >gc</th>        <th class=\"col_heading level0 col9\" >gc_fcast</th>        <th class=\"col_heading level0 col10\" >nq</th>        <th class=\"col_heading level0 col11\" >nq_fcast</th>    </tr>    <tr>        <th class=\"index_name level0\" >timestamp</th>        <th class=\"blank\" ></th>        <th class=\"blank\" ></th>        <th class=\"blank\" ></th>        <th class=\"blank\" ></th>        <th class=\"blank\" ></th>        <th class=\"blank\" ></th>        <th class=\"blank\" ></th>        <th class=\"blank\" ></th>        <th class=\"blank\" ></th>        <th class=\"blank\" ></th>        <th class=\"blank\" ></th>        <th class=\"blank\" ></th>    </tr></thead><tbody>\n",
              "                <tr>\n",
              "                        <th id=\"T_267a193c_1f3a_11eb_9b24_0242ac1c0002level0_row0\" class=\"row_heading level0 row0\" >2020-05-29 21:00:00</th>\n",
              "                        <td id=\"T_267a193c_1f3a_11eb_9b24_0242ac1c0002row0_col0\" class=\"data row0 col0\" >1113400.000000</td>\n",
              "                        <td id=\"T_267a193c_1f3a_11eb_9b24_0242ac1c0002row0_col1\" class=\"data row0 col1\" >1110720.673475</td>\n",
              "                        <td id=\"T_267a193c_1f3a_11eb_9b24_0242ac1c0002row0_col2\" class=\"data row0 col2\" >1237150.000000</td>\n",
              "                        <td id=\"T_267a193c_1f3a_11eb_9b24_0242ac1c0002row0_col3\" class=\"data row0 col3\" >1235472.134980</td>\n",
              "                        <td id=\"T_267a193c_1f3a_11eb_9b24_0242ac1c0002row0_col4\" class=\"data row0 col4\" >107835000.000000</td>\n",
              "                        <td id=\"T_267a193c_1f3a_11eb_9b24_0242ac1c0002row0_col5\" class=\"data row0 col5\" >107779474.610216</td>\n",
              "                        <td id=\"T_267a193c_1f3a_11eb_9b24_0242ac1c0002row0_col6\" class=\"data row0 col6\" >3027.250000</td>\n",
              "                        <td id=\"T_267a193c_1f3a_11eb_9b24_0242ac1c0002row0_col7\" class=\"data row0 col7\" >3027.219550</td>\n",
              "                        <td id=\"T_267a193c_1f3a_11eb_9b24_0242ac1c0002row0_col8\" class=\"data row0 col8\" >1731.350000</td>\n",
              "                        <td id=\"T_267a193c_1f3a_11eb_9b24_0242ac1c0002row0_col9\" class=\"data row0 col9\" >1731.809730</td>\n",
              "                        <td id=\"T_267a193c_1f3a_11eb_9b24_0242ac1c0002row0_col10\" class=\"data row0 col10\" >9591.125000</td>\n",
              "                        <td id=\"T_267a193c_1f3a_11eb_9b24_0242ac1c0002row0_col11\" class=\"data row0 col11\" >9587.682855</td>\n",
              "            </tr>\n",
              "            <tr>\n",
              "                        <th id=\"T_267a193c_1f3a_11eb_9b24_0242ac1c0002level0_row1\" class=\"row_heading level0 row1\" >2020-05-29 20:59:00</th>\n",
              "                        <td id=\"T_267a193c_1f3a_11eb_9b24_0242ac1c0002row1_col0\" class=\"data row1 col0\" >1113400.000000</td>\n",
              "                        <td id=\"T_267a193c_1f3a_11eb_9b24_0242ac1c0002row1_col1\" class=\"data row1 col1\" >1110720.189034</td>\n",
              "                        <td id=\"T_267a193c_1f3a_11eb_9b24_0242ac1c0002row1_col2\" class=\"data row1 col2\" >1235450.000000</td>\n",
              "                        <td id=\"T_267a193c_1f3a_11eb_9b24_0242ac1c0002row1_col3\" class=\"data row1 col3\" >1235472.841678</td>\n",
              "                        <td id=\"T_267a193c_1f3a_11eb_9b24_0242ac1c0002row1_col4\" class=\"data row1 col4\" >107835000.000000</td>\n",
              "                        <td id=\"T_267a193c_1f3a_11eb_9b24_0242ac1c0002row1_col5\" class=\"data row1 col5\" >107779461.003842</td>\n",
              "                        <td id=\"T_267a193c_1f3a_11eb_9b24_0242ac1c0002row1_col6\" class=\"data row1 col6\" >3027.250000</td>\n",
              "                        <td id=\"T_267a193c_1f3a_11eb_9b24_0242ac1c0002row1_col7\" class=\"data row1 col7\" >3027.214354</td>\n",
              "                        <td id=\"T_267a193c_1f3a_11eb_9b24_0242ac1c0002row1_col8\" class=\"data row1 col8\" >1731.300000</td>\n",
              "                        <td id=\"T_267a193c_1f3a_11eb_9b24_0242ac1c0002row1_col9\" class=\"data row1 col9\" >1731.808504</td>\n",
              "                        <td id=\"T_267a193c_1f3a_11eb_9b24_0242ac1c0002row1_col10\" class=\"data row1 col10\" >9587.375000</td>\n",
              "                        <td id=\"T_267a193c_1f3a_11eb_9b24_0242ac1c0002row1_col11\" class=\"data row1 col11\" >9587.657311</td>\n",
              "            </tr>\n",
              "            <tr>\n",
              "                        <th id=\"T_267a193c_1f3a_11eb_9b24_0242ac1c0002level0_row2\" class=\"row_heading level0 row2\" >2020-05-29 20:58:00</th>\n",
              "                        <td id=\"T_267a193c_1f3a_11eb_9b24_0242ac1c0002row2_col0\" class=\"data row2 col0\" >1111650.000000</td>\n",
              "                        <td id=\"T_267a193c_1f3a_11eb_9b24_0242ac1c0002row2_col1\" class=\"data row2 col1\" >1110719.440317</td>\n",
              "                        <td id=\"T_267a193c_1f3a_11eb_9b24_0242ac1c0002row2_col2\" class=\"data row2 col2\" >1235450.000000</td>\n",
              "                        <td id=\"T_267a193c_1f3a_11eb_9b24_0242ac1c0002row2_col3\" class=\"data row2 col3\" >1235473.743868</td>\n",
              "                        <td id=\"T_267a193c_1f3a_11eb_9b24_0242ac1c0002row2_col4\" class=\"data row2 col4\" >107830000.000000</td>\n",
              "                        <td id=\"T_267a193c_1f3a_11eb_9b24_0242ac1c0002row2_col5\" class=\"data row2 col5\" >107779446.790772</td>\n",
              "                        <td id=\"T_267a193c_1f3a_11eb_9b24_0242ac1c0002row2_col6\" class=\"data row2 col6\" >3027.250000</td>\n",
              "                        <td id=\"T_267a193c_1f3a_11eb_9b24_0242ac1c0002row2_col7\" class=\"data row2 col7\" >3027.209330</td>\n",
              "                        <td id=\"T_267a193c_1f3a_11eb_9b24_0242ac1c0002row2_col8\" class=\"data row2 col8\" >1731.450000</td>\n",
              "                        <td id=\"T_267a193c_1f3a_11eb_9b24_0242ac1c0002row2_col9\" class=\"data row2 col9\" >1731.807275</td>\n",
              "                        <td id=\"T_267a193c_1f3a_11eb_9b24_0242ac1c0002row2_col10\" class=\"data row2 col10\" >9588.625000</td>\n",
              "                        <td id=\"T_267a193c_1f3a_11eb_9b24_0242ac1c0002row2_col11\" class=\"data row2 col11\" >9587.632369</td>\n",
              "            </tr>\n",
              "            <tr>\n",
              "                        <th id=\"T_267a193c_1f3a_11eb_9b24_0242ac1c0002level0_row3\" class=\"row_heading level0 row3\" >2020-05-29 20:57:00</th>\n",
              "                        <td id=\"T_267a193c_1f3a_11eb_9b24_0242ac1c0002row3_col0\" class=\"data row3 col0\" >1111750.000000</td>\n",
              "                        <td id=\"T_267a193c_1f3a_11eb_9b24_0242ac1c0002row3_col1\" class=\"data row3 col1\" >1110718.919549</td>\n",
              "                        <td id=\"T_267a193c_1f3a_11eb_9b24_0242ac1c0002row3_col2\" class=\"data row3 col2\" >1235450.000000</td>\n",
              "                        <td id=\"T_267a193c_1f3a_11eb_9b24_0242ac1c0002row3_col3\" class=\"data row3 col3\" >1235474.450519</td>\n",
              "                        <td id=\"T_267a193c_1f3a_11eb_9b24_0242ac1c0002row3_col4\" class=\"data row3 col4\" >107830000.000000</td>\n",
              "                        <td id=\"T_267a193c_1f3a_11eb_9b24_0242ac1c0002row3_col5\" class=\"data row3 col5\" >107779432.871366</td>\n",
              "                        <td id=\"T_267a193c_1f3a_11eb_9b24_0242ac1c0002row3_col6\" class=\"data row3 col6\" >3027.250000</td>\n",
              "                        <td id=\"T_267a193c_1f3a_11eb_9b24_0242ac1c0002row3_col7\" class=\"data row3 col7\" >3027.203692</td>\n",
              "                        <td id=\"T_267a193c_1f3a_11eb_9b24_0242ac1c0002row3_col8\" class=\"data row3 col8\" >1731.200000</td>\n",
              "                        <td id=\"T_267a193c_1f3a_11eb_9b24_0242ac1c0002row3_col9\" class=\"data row3 col9\" >1731.806015</td>\n",
              "                        <td id=\"T_267a193c_1f3a_11eb_9b24_0242ac1c0002row3_col10\" class=\"data row3 col10\" >9588.500000</td>\n",
              "                        <td id=\"T_267a193c_1f3a_11eb_9b24_0242ac1c0002row3_col11\" class=\"data row3 col11\" >9587.605301</td>\n",
              "            </tr>\n",
              "            <tr>\n",
              "                        <th id=\"T_267a193c_1f3a_11eb_9b24_0242ac1c0002level0_row4\" class=\"row_heading level0 row4\" >2020-05-29 20:56:00</th>\n",
              "                        <td id=\"T_267a193c_1f3a_11eb_9b24_0242ac1c0002row4_col0\" class=\"data row4 col0\" >1111740.000000</td>\n",
              "                        <td id=\"T_267a193c_1f3a_11eb_9b24_0242ac1c0002row4_col1\" class=\"data row4 col1\" >1110719.134196</td>\n",
              "                        <td id=\"T_267a193c_1f3a_11eb_9b24_0242ac1c0002row4_col2\" class=\"data row4 col2\" >1235400.000000</td>\n",
              "                        <td id=\"T_267a193c_1f3a_11eb_9b24_0242ac1c0002row4_col3\" class=\"data row4 col3\" >1235474.667358</td>\n",
              "                        <td id=\"T_267a193c_1f3a_11eb_9b24_0242ac1c0002row4_col4\" class=\"data row4 col4\" >107675000.000000</td>\n",
              "                        <td id=\"T_267a193c_1f3a_11eb_9b24_0242ac1c0002row4_col5\" class=\"data row4 col5\" >107779421.346578</td>\n",
              "                        <td id=\"T_267a193c_1f3a_11eb_9b24_0242ac1c0002row4_col6\" class=\"data row4 col6\" >3027.250000</td>\n",
              "                        <td id=\"T_267a193c_1f3a_11eb_9b24_0242ac1c0002row4_col7\" class=\"data row4 col7\" >3027.198638</td>\n",
              "                        <td id=\"T_267a193c_1f3a_11eb_9b24_0242ac1c0002row4_col8\" class=\"data row4 col8\" >1731.500000</td>\n",
              "                        <td id=\"T_267a193c_1f3a_11eb_9b24_0242ac1c0002row4_col9\" class=\"data row4 col9\" >1731.804841</td>\n",
              "                        <td id=\"T_267a193c_1f3a_11eb_9b24_0242ac1c0002row4_col10\" class=\"data row4 col10\" >9588.625000</td>\n",
              "                        <td id=\"T_267a193c_1f3a_11eb_9b24_0242ac1c0002row4_col11\" class=\"data row4 col11\" >9587.580201</td>\n",
              "            </tr>\n",
              "            <tr>\n",
              "                        <th id=\"T_267a193c_1f3a_11eb_9b24_0242ac1c0002level0_row5\" class=\"row_heading level0 row5\" >2020-05-29 20:55:00</th>\n",
              "                        <td id=\"T_267a193c_1f3a_11eb_9b24_0242ac1c0002row5_col0\" class=\"data row5 col0\" >1110660.000000</td>\n",
              "                        <td id=\"T_267a193c_1f3a_11eb_9b24_0242ac1c0002row5_col1\" class=\"data row5 col1\" >1110716.619451</td>\n",
              "                        <td id=\"T_267a193c_1f3a_11eb_9b24_0242ac1c0002row5_col2\" class=\"data row5 col2\" >1234990.000000</td>\n",
              "                        <td id=\"T_267a193c_1f3a_11eb_9b24_0242ac1c0002row5_col3\" class=\"data row5 col3\" >1235476.844851</td>\n",
              "                        <td id=\"T_267a193c_1f3a_11eb_9b24_0242ac1c0002row5_col4\" class=\"data row5 col4\" >107766500.000000</td>\n",
              "                        <td id=\"T_267a193c_1f3a_11eb_9b24_0242ac1c0002row5_col5\" class=\"data row5 col5\" >107779402.377704</td>\n",
              "                        <td id=\"T_267a193c_1f3a_11eb_9b24_0242ac1c0002row5_col6\" class=\"data row5 col6\" >3027.000000</td>\n",
              "                        <td id=\"T_267a193c_1f3a_11eb_9b24_0242ac1c0002row5_col7\" class=\"data row5 col7\" >3027.195158</td>\n",
              "                        <td id=\"T_267a193c_1f3a_11eb_9b24_0242ac1c0002row5_col8\" class=\"data row5 col8\" >1731.550000</td>\n",
              "                        <td id=\"T_267a193c_1f3a_11eb_9b24_0242ac1c0002row5_col9\" class=\"data row5 col9\" >1731.803617</td>\n",
              "                        <td id=\"T_267a193c_1f3a_11eb_9b24_0242ac1c0002row5_col10\" class=\"data row5 col10\" >9587.875000</td>\n",
              "                        <td id=\"T_267a193c_1f3a_11eb_9b24_0242ac1c0002row5_col11\" class=\"data row5 col11\" >9587.560653</td>\n",
              "            </tr>\n",
              "            <tr>\n",
              "                        <th id=\"T_267a193c_1f3a_11eb_9b24_0242ac1c0002level0_row6\" class=\"row_heading level0 row6\" >2020-05-29 20:54:00</th>\n",
              "                        <td id=\"T_267a193c_1f3a_11eb_9b24_0242ac1c0002row6_col0\" class=\"data row6 col0\" >1110785.000000</td>\n",
              "                        <td id=\"T_267a193c_1f3a_11eb_9b24_0242ac1c0002row6_col1\" class=\"data row6 col1\" >1110716.796679</td>\n",
              "                        <td id=\"T_267a193c_1f3a_11eb_9b24_0242ac1c0002row6_col2\" class=\"data row6 col2\" >1235090.000000</td>\n",
              "                        <td id=\"T_267a193c_1f3a_11eb_9b24_0242ac1c0002row6_col3\" class=\"data row6 col3\" >1235477.137286</td>\n",
              "                        <td id=\"T_267a193c_1f3a_11eb_9b24_0242ac1c0002row6_col4\" class=\"data row6 col4\" >107788500.000000</td>\n",
              "                        <td id=\"T_267a193c_1f3a_11eb_9b24_0242ac1c0002row6_col5\" class=\"data row6 col5\" >107779388.780687</td>\n",
              "                        <td id=\"T_267a193c_1f3a_11eb_9b24_0242ac1c0002row6_col6\" class=\"data row6 col6\" >3026.625000</td>\n",
              "                        <td id=\"T_267a193c_1f3a_11eb_9b24_0242ac1c0002row6_col7\" class=\"data row6 col7\" >3027.185194</td>\n",
              "                        <td id=\"T_267a193c_1f3a_11eb_9b24_0242ac1c0002row6_col8\" class=\"data row6 col8\" >1731.750000</td>\n",
              "                        <td id=\"T_267a193c_1f3a_11eb_9b24_0242ac1c0002row6_col9\" class=\"data row6 col9\" >1731.802118</td>\n",
              "                        <td id=\"T_267a193c_1f3a_11eb_9b24_0242ac1c0002row6_col10\" class=\"data row6 col10\" >9586.375000</td>\n",
              "                        <td id=\"T_267a193c_1f3a_11eb_9b24_0242ac1c0002row6_col11\" class=\"data row6 col11\" >9587.518859</td>\n",
              "            </tr>\n",
              "            <tr>\n",
              "                        <th id=\"T_267a193c_1f3a_11eb_9b24_0242ac1c0002level0_row7\" class=\"row_heading level0 row7\" >2020-05-29 20:53:00</th>\n",
              "                        <td id=\"T_267a193c_1f3a_11eb_9b24_0242ac1c0002row7_col0\" class=\"data row7 col0\" >1110845.000000</td>\n",
              "                        <td id=\"T_267a193c_1f3a_11eb_9b24_0242ac1c0002row7_col1\" class=\"data row7 col1\" >1110723.816640</td>\n",
              "                        <td id=\"T_267a193c_1f3a_11eb_9b24_0242ac1c0002row7_col2\" class=\"data row7 col2\" >1234890.000000</td>\n",
              "                        <td id=\"T_267a193c_1f3a_11eb_9b24_0242ac1c0002row7_col3\" class=\"data row7 col3\" >1235472.373105</td>\n",
              "                        <td id=\"T_267a193c_1f3a_11eb_9b24_0242ac1c0002row7_col4\" class=\"data row7 col4\" >107784500.000000</td>\n",
              "                        <td id=\"T_267a193c_1f3a_11eb_9b24_0242ac1c0002row7_col5\" class=\"data row7 col5\" >107779399.978182</td>\n",
              "                        <td id=\"T_267a193c_1f3a_11eb_9b24_0242ac1c0002row7_col6\" class=\"data row7 col6\" >3027.000000</td>\n",
              "                        <td id=\"T_267a193c_1f3a_11eb_9b24_0242ac1c0002row7_col7\" class=\"data row7 col7\" >3027.183327</td>\n",
              "                        <td id=\"T_267a193c_1f3a_11eb_9b24_0242ac1c0002row7_col8\" class=\"data row7 col8\" >1731.750000</td>\n",
              "                        <td id=\"T_267a193c_1f3a_11eb_9b24_0242ac1c0002row7_col9\" class=\"data row7 col9\" >1731.801320</td>\n",
              "                        <td id=\"T_267a193c_1f3a_11eb_9b24_0242ac1c0002row7_col10\" class=\"data row7 col10\" >9587.875000</td>\n",
              "                        <td id=\"T_267a193c_1f3a_11eb_9b24_0242ac1c0002row7_col11\" class=\"data row7 col11\" >9587.503955</td>\n",
              "            </tr>\n",
              "            <tr>\n",
              "                        <th id=\"T_267a193c_1f3a_11eb_9b24_0242ac1c0002level0_row8\" class=\"row_heading level0 row8\" >2020-05-29 20:52:00</th>\n",
              "                        <td id=\"T_267a193c_1f3a_11eb_9b24_0242ac1c0002row8_col0\" class=\"data row8 col0\" >1110745.000000</td>\n",
              "                        <td id=\"T_267a193c_1f3a_11eb_9b24_0242ac1c0002row8_col1\" class=\"data row8 col1\" >1110702.119943</td>\n",
              "                        <td id=\"T_267a193c_1f3a_11eb_9b24_0242ac1c0002row8_col2\" class=\"data row8 col2\" >1235140.000000</td>\n",
              "                        <td id=\"T_267a193c_1f3a_11eb_9b24_0242ac1c0002row8_col3\" class=\"data row8 col3\" >1235486.357076</td>\n",
              "                        <td id=\"T_267a193c_1f3a_11eb_9b24_0242ac1c0002row8_col4\" class=\"data row8 col4\" >107779000.000000</td>\n",
              "                        <td id=\"T_267a193c_1f3a_11eb_9b24_0242ac1c0002row8_col5\" class=\"data row8 col5\" >107779373.988008</td>\n",
              "                        <td id=\"T_267a193c_1f3a_11eb_9b24_0242ac1c0002row8_col6\" class=\"data row8 col6\" >3027.000000</td>\n",
              "                        <td id=\"T_267a193c_1f3a_11eb_9b24_0242ac1c0002row8_col7\" class=\"data row8 col7\" >3027.195394</td>\n",
              "                        <td id=\"T_267a193c_1f3a_11eb_9b24_0242ac1c0002row8_col8\" class=\"data row8 col8\" >1731.500000</td>\n",
              "                        <td id=\"T_267a193c_1f3a_11eb_9b24_0242ac1c0002row8_col9\" class=\"data row8 col9\" >1731.799854</td>\n",
              "                        <td id=\"T_267a193c_1f3a_11eb_9b24_0242ac1c0002row8_col10\" class=\"data row8 col10\" >9586.875000</td>\n",
              "                        <td id=\"T_267a193c_1f3a_11eb_9b24_0242ac1c0002row8_col11\" class=\"data row8 col11\" >9587.535450</td>\n",
              "            </tr>\n",
              "            <tr>\n",
              "                        <th id=\"T_267a193c_1f3a_11eb_9b24_0242ac1c0002level0_row9\" class=\"row_heading level0 row9\" >2020-05-29 20:51:00</th>\n",
              "                        <td id=\"T_267a193c_1f3a_11eb_9b24_0242ac1c0002row9_col0\" class=\"data row9 col0\" >1110660.000000</td>\n",
              "                        <td id=\"T_267a193c_1f3a_11eb_9b24_0242ac1c0002row9_col1\" class=\"data row9 col1\" >1110715.042027</td>\n",
              "                        <td id=\"T_267a193c_1f3a_11eb_9b24_0242ac1c0002row9_col2\" class=\"data row9 col2\" >1235245.000000</td>\n",
              "                        <td id=\"T_267a193c_1f3a_11eb_9b24_0242ac1c0002row9_col3\" class=\"data row9 col3\" >1235486.470572</td>\n",
              "                        <td id=\"T_267a193c_1f3a_11eb_9b24_0242ac1c0002row9_col4\" class=\"data row9 col4\" >107773500.000000</td>\n",
              "                        <td id=\"T_267a193c_1f3a_11eb_9b24_0242ac1c0002row9_col5\" class=\"data row9 col5\" >107779236.574187</td>\n",
              "                        <td id=\"T_267a193c_1f3a_11eb_9b24_0242ac1c0002row9_col6\" class=\"data row9 col6\" >3027.125000</td>\n",
              "                        <td id=\"T_267a193c_1f3a_11eb_9b24_0242ac1c0002row9_col7\" class=\"data row9 col7\" >3027.114832</td>\n",
              "                        <td id=\"T_267a193c_1f3a_11eb_9b24_0242ac1c0002row9_col8\" class=\"data row9 col8\" >1731.850000</td>\n",
              "                        <td id=\"T_267a193c_1f3a_11eb_9b24_0242ac1c0002row9_col9\" class=\"data row9 col9\" >1731.806088</td>\n",
              "                        <td id=\"T_267a193c_1f3a_11eb_9b24_0242ac1c0002row9_col10\" class=\"data row9 col10\" >9587.375000</td>\n",
              "                        <td id=\"T_267a193c_1f3a_11eb_9b24_0242ac1c0002row9_col11\" class=\"data row9 col11\" >9587.274870</td>\n",
              "            </tr>\n",
              "    </tbody></table>"
            ],
            "text/plain": [
              "<pandas.io.formats.style.Styler at 0x7f6a1b98c2e8>"
            ]
          },
          "metadata": {
            "tags": []
          },
          "execution_count": 131
        }
      ]
    },
    {
      "cell_type": "code",
      "metadata": {
        "id": "iVejy27KNWYm",
        "outputId": "c8167ebf-7164-4b32-8dcf-2ae6885526cd",
        "colab": {
          "base_uri": "https://localhost:8080/",
          "height": 544
        }
      },
      "source": [
        "# EURUSD forcast validation\n",
        "print('EURUSD forcast validation:')\n",
        "m = lag12[['eurusd', 'eurusd_fcast']]\n",
        "m['accuracy'] = round(m.apply(lambda row: row.eurusd_fcast / \n",
        "                                            row.eurusd *100, axis = 1),2)\n",
        "m['accuracy'] = pd.Series([\"{0:.2f}%\".format(val) for val in m['accuracy']], \n",
        "                                     index = m.index)\n",
        "m = m.round(decimals=3)\n",
        "m = m.head(10)\n",
        "def highlight_cols(s):\n",
        "    color = 'yellow'\n",
        "    return 'background-color: %s' % color\n",
        "m.style.applymap(highlight_cols, subset=pd.IndexSlice[:, ['eurusd_fcast']])\n"
      ],
      "execution_count": 132,
      "outputs": [
        {
          "output_type": "stream",
          "text": [
            "EURUSD forcast validation:\n"
          ],
          "name": "stdout"
        },
        {
          "output_type": "stream",
          "text": [
            "/usr/local/lib/python3.6/dist-packages/pyforest/__init__.py:5: SettingWithCopyWarning:\n",
            "\n",
            "\n",
            "A value is trying to be set on a copy of a slice from a DataFrame.\n",
            "Try using .loc[row_indexer,col_indexer] = value instead\n",
            "\n",
            "See the caveats in the documentation: https://pandas.pydata.org/pandas-docs/stable/user_guide/indexing.html#returning-a-view-versus-a-copy\n",
            "\n"
          ],
          "name": "stderr"
        },
        {
          "output_type": "display_data",
          "data": {
            "application/javascript": [
              "\n",
              "        if (window._pyforest_update_imports_cell) { window._pyforest_update_imports_cell('import lightgbm as lgb\\nimport plotly.express as px\\nimport pydot\\nimport tensorflow as tf\\nimport re\\nimport pandas as pd\\nimport sklearn\\nimport tqdm\\nimport matplotlib.pyplot as plt\\nfrom openpyxl import load_workbook\\nfrom sklearn.model_selection import train_test_split\\nimport numpy as np\\nimport plotly as py'); }\n",
              "    "
            ],
            "text/plain": [
              "<IPython.core.display.Javascript object>"
            ]
          },
          "metadata": {
            "tags": []
          }
        },
        {
          "output_type": "stream",
          "text": [
            "/usr/local/lib/python3.6/dist-packages/pyforest/__init__.py:7: SettingWithCopyWarning:\n",
            "\n",
            "\n",
            "A value is trying to be set on a copy of a slice from a DataFrame.\n",
            "Try using .loc[row_indexer,col_indexer] = value instead\n",
            "\n",
            "See the caveats in the documentation: https://pandas.pydata.org/pandas-docs/stable/user_guide/indexing.html#returning-a-view-versus-a-copy\n",
            "\n"
          ],
          "name": "stderr"
        },
        {
          "output_type": "display_data",
          "data": {
            "application/javascript": [
              "\n",
              "        if (window._pyforest_update_imports_cell) { window._pyforest_update_imports_cell('import lightgbm as lgb\\nimport plotly.express as px\\nimport pydot\\nimport tensorflow as tf\\nimport re\\nimport pandas as pd\\nimport sklearn\\nimport tqdm\\nimport matplotlib.pyplot as plt\\nfrom openpyxl import load_workbook\\nfrom sklearn.model_selection import train_test_split\\nimport numpy as np\\nimport plotly as py'); }\n",
              "    "
            ],
            "text/plain": [
              "<IPython.core.display.Javascript object>"
            ]
          },
          "metadata": {
            "tags": []
          }
        },
        {
          "output_type": "execute_result",
          "data": {
            "text/html": [
              "<style  type=\"text/css\" >\n",
              "#T_267f7468_1f3a_11eb_9b24_0242ac1c0002row0_col1,#T_267f7468_1f3a_11eb_9b24_0242ac1c0002row1_col1,#T_267f7468_1f3a_11eb_9b24_0242ac1c0002row2_col1,#T_267f7468_1f3a_11eb_9b24_0242ac1c0002row3_col1,#T_267f7468_1f3a_11eb_9b24_0242ac1c0002row4_col1,#T_267f7468_1f3a_11eb_9b24_0242ac1c0002row5_col1,#T_267f7468_1f3a_11eb_9b24_0242ac1c0002row6_col1,#T_267f7468_1f3a_11eb_9b24_0242ac1c0002row7_col1,#T_267f7468_1f3a_11eb_9b24_0242ac1c0002row8_col1,#T_267f7468_1f3a_11eb_9b24_0242ac1c0002row9_col1{\n",
              "            background-color:  yellow;\n",
              "        }</style><table id=\"T_267f7468_1f3a_11eb_9b24_0242ac1c0002\" ><thead>    <tr>        <th class=\"blank level0\" ></th>        <th class=\"col_heading level0 col0\" >eurusd</th>        <th class=\"col_heading level0 col1\" >eurusd_fcast</th>        <th class=\"col_heading level0 col2\" >accuracy</th>    </tr>    <tr>        <th class=\"index_name level0\" >timestamp</th>        <th class=\"blank\" ></th>        <th class=\"blank\" ></th>        <th class=\"blank\" ></th>    </tr></thead><tbody>\n",
              "                <tr>\n",
              "                        <th id=\"T_267f7468_1f3a_11eb_9b24_0242ac1c0002level0_row0\" class=\"row_heading level0 row0\" >2020-05-29 21:00:00</th>\n",
              "                        <td id=\"T_267f7468_1f3a_11eb_9b24_0242ac1c0002row0_col0\" class=\"data row0 col0\" >1113400.000000</td>\n",
              "                        <td id=\"T_267f7468_1f3a_11eb_9b24_0242ac1c0002row0_col1\" class=\"data row0 col1\" >1110720.673000</td>\n",
              "                        <td id=\"T_267f7468_1f3a_11eb_9b24_0242ac1c0002row0_col2\" class=\"data row0 col2\" >99.76%</td>\n",
              "            </tr>\n",
              "            <tr>\n",
              "                        <th id=\"T_267f7468_1f3a_11eb_9b24_0242ac1c0002level0_row1\" class=\"row_heading level0 row1\" >2020-05-29 20:59:00</th>\n",
              "                        <td id=\"T_267f7468_1f3a_11eb_9b24_0242ac1c0002row1_col0\" class=\"data row1 col0\" >1113400.000000</td>\n",
              "                        <td id=\"T_267f7468_1f3a_11eb_9b24_0242ac1c0002row1_col1\" class=\"data row1 col1\" >1110720.189000</td>\n",
              "                        <td id=\"T_267f7468_1f3a_11eb_9b24_0242ac1c0002row1_col2\" class=\"data row1 col2\" >99.76%</td>\n",
              "            </tr>\n",
              "            <tr>\n",
              "                        <th id=\"T_267f7468_1f3a_11eb_9b24_0242ac1c0002level0_row2\" class=\"row_heading level0 row2\" >2020-05-29 20:58:00</th>\n",
              "                        <td id=\"T_267f7468_1f3a_11eb_9b24_0242ac1c0002row2_col0\" class=\"data row2 col0\" >1111650.000000</td>\n",
              "                        <td id=\"T_267f7468_1f3a_11eb_9b24_0242ac1c0002row2_col1\" class=\"data row2 col1\" >1110719.440000</td>\n",
              "                        <td id=\"T_267f7468_1f3a_11eb_9b24_0242ac1c0002row2_col2\" class=\"data row2 col2\" >99.92%</td>\n",
              "            </tr>\n",
              "            <tr>\n",
              "                        <th id=\"T_267f7468_1f3a_11eb_9b24_0242ac1c0002level0_row3\" class=\"row_heading level0 row3\" >2020-05-29 20:57:00</th>\n",
              "                        <td id=\"T_267f7468_1f3a_11eb_9b24_0242ac1c0002row3_col0\" class=\"data row3 col0\" >1111750.000000</td>\n",
              "                        <td id=\"T_267f7468_1f3a_11eb_9b24_0242ac1c0002row3_col1\" class=\"data row3 col1\" >1110718.920000</td>\n",
              "                        <td id=\"T_267f7468_1f3a_11eb_9b24_0242ac1c0002row3_col2\" class=\"data row3 col2\" >99.91%</td>\n",
              "            </tr>\n",
              "            <tr>\n",
              "                        <th id=\"T_267f7468_1f3a_11eb_9b24_0242ac1c0002level0_row4\" class=\"row_heading level0 row4\" >2020-05-29 20:56:00</th>\n",
              "                        <td id=\"T_267f7468_1f3a_11eb_9b24_0242ac1c0002row4_col0\" class=\"data row4 col0\" >1111740.000000</td>\n",
              "                        <td id=\"T_267f7468_1f3a_11eb_9b24_0242ac1c0002row4_col1\" class=\"data row4 col1\" >1110719.134000</td>\n",
              "                        <td id=\"T_267f7468_1f3a_11eb_9b24_0242ac1c0002row4_col2\" class=\"data row4 col2\" >99.91%</td>\n",
              "            </tr>\n",
              "            <tr>\n",
              "                        <th id=\"T_267f7468_1f3a_11eb_9b24_0242ac1c0002level0_row5\" class=\"row_heading level0 row5\" >2020-05-29 20:55:00</th>\n",
              "                        <td id=\"T_267f7468_1f3a_11eb_9b24_0242ac1c0002row5_col0\" class=\"data row5 col0\" >1110660.000000</td>\n",
              "                        <td id=\"T_267f7468_1f3a_11eb_9b24_0242ac1c0002row5_col1\" class=\"data row5 col1\" >1110716.619000</td>\n",
              "                        <td id=\"T_267f7468_1f3a_11eb_9b24_0242ac1c0002row5_col2\" class=\"data row5 col2\" >100.01%</td>\n",
              "            </tr>\n",
              "            <tr>\n",
              "                        <th id=\"T_267f7468_1f3a_11eb_9b24_0242ac1c0002level0_row6\" class=\"row_heading level0 row6\" >2020-05-29 20:54:00</th>\n",
              "                        <td id=\"T_267f7468_1f3a_11eb_9b24_0242ac1c0002row6_col0\" class=\"data row6 col0\" >1110785.000000</td>\n",
              "                        <td id=\"T_267f7468_1f3a_11eb_9b24_0242ac1c0002row6_col1\" class=\"data row6 col1\" >1110716.797000</td>\n",
              "                        <td id=\"T_267f7468_1f3a_11eb_9b24_0242ac1c0002row6_col2\" class=\"data row6 col2\" >99.99%</td>\n",
              "            </tr>\n",
              "            <tr>\n",
              "                        <th id=\"T_267f7468_1f3a_11eb_9b24_0242ac1c0002level0_row7\" class=\"row_heading level0 row7\" >2020-05-29 20:53:00</th>\n",
              "                        <td id=\"T_267f7468_1f3a_11eb_9b24_0242ac1c0002row7_col0\" class=\"data row7 col0\" >1110845.000000</td>\n",
              "                        <td id=\"T_267f7468_1f3a_11eb_9b24_0242ac1c0002row7_col1\" class=\"data row7 col1\" >1110723.817000</td>\n",
              "                        <td id=\"T_267f7468_1f3a_11eb_9b24_0242ac1c0002row7_col2\" class=\"data row7 col2\" >99.99%</td>\n",
              "            </tr>\n",
              "            <tr>\n",
              "                        <th id=\"T_267f7468_1f3a_11eb_9b24_0242ac1c0002level0_row8\" class=\"row_heading level0 row8\" >2020-05-29 20:52:00</th>\n",
              "                        <td id=\"T_267f7468_1f3a_11eb_9b24_0242ac1c0002row8_col0\" class=\"data row8 col0\" >1110745.000000</td>\n",
              "                        <td id=\"T_267f7468_1f3a_11eb_9b24_0242ac1c0002row8_col1\" class=\"data row8 col1\" >1110702.120000</td>\n",
              "                        <td id=\"T_267f7468_1f3a_11eb_9b24_0242ac1c0002row8_col2\" class=\"data row8 col2\" >100.00%</td>\n",
              "            </tr>\n",
              "            <tr>\n",
              "                        <th id=\"T_267f7468_1f3a_11eb_9b24_0242ac1c0002level0_row9\" class=\"row_heading level0 row9\" >2020-05-29 20:51:00</th>\n",
              "                        <td id=\"T_267f7468_1f3a_11eb_9b24_0242ac1c0002row9_col0\" class=\"data row9 col0\" >1110660.000000</td>\n",
              "                        <td id=\"T_267f7468_1f3a_11eb_9b24_0242ac1c0002row9_col1\" class=\"data row9 col1\" >1110715.042000</td>\n",
              "                        <td id=\"T_267f7468_1f3a_11eb_9b24_0242ac1c0002row9_col2\" class=\"data row9 col2\" >100.00%</td>\n",
              "            </tr>\n",
              "    </tbody></table>"
            ],
            "text/plain": [
              "<pandas.io.formats.style.Styler at 0x7f6a1b98cf60>"
            ]
          },
          "metadata": {
            "tags": []
          },
          "execution_count": 132
        }
      ]
    },
    {
      "cell_type": "code",
      "metadata": {
        "id": "NJynFgn9Nhtk",
        "outputId": "863177c5-36a2-4b58-fe73-0d65a3d8a75e",
        "colab": {
          "base_uri": "https://localhost:8080/",
          "height": 134
        }
      },
      "source": [
        "# Accuracy metrics\n",
        "from sklearn.metrics import r2_score, mean_absolute_error, mean_squared_error, mean_absolute_error, mean_squared_log_error\n",
        "\n",
        "# score EURUSD\n",
        "mae = mean_absolute_error(lag12.eurusd, lag12.eurusd_fcast)\n",
        "mse = mean_squared_error(lag12.eurusd, lag12.eurusd_fcast)\n",
        "rmse = np.sqrt(mse)\n",
        "mape = np.mean(np.abs((lag12['eurusd'].values - lag12['eurusd_fcast'].values) / lag12['eurusd'].values)) * 100\n",
        "msle = mean_squared_log_error(lag12.eurusd, lag12.eurusd_fcast)\n",
        "sum = DataFrame(index = ['Mean Absolute Error', 'Mean squared error', 'Root mean squared error',\n",
        "                            'Mean absolute % error','Mean squared log Error'])\n",
        "sum['Accuracy metrics :    EURUSD'] = [mae, mse, rmse, mape, msle]\n",
        "\n",
        "# score GBPUSD\n",
        "mae = mean_absolute_error(lag12.gbpusd, lag12.gbpusd_fcast)\n",
        "mse = mean_squared_error(lag12.gbpusd, lag12.gbpusd_fcast)\n",
        "rmse = np.sqrt(mse)\n",
        "mape = np.mean(np.abs((lag12['gbpusd'].values - lag12['gbpusd_fcast'].values) / lag12['gbpusd'].values)) * 100\n",
        "msle = mean_squared_log_error(lag12.gbpusd, lag12.gbpusd_fcast)\n",
        "sum['GBPUSD'] = [mae, mse, rmse, mape, msle]\n",
        "\n",
        "# score USDJPY\n",
        "mae = mean_absolute_error(lag12.usdjpy, lag12.usdjpy_fcast)\n",
        "mse = mean_squared_error(lag12.usdjpy, lag12.usdjpy_fcast)\n",
        "rmse = np.sqrt(mse)\n",
        "mape = np.mean(np.abs((lag12['usdjpy'].values - lag12['usdjpy_fcast'].values) / lag12['usdjpy'].values)) * 100\n",
        "msle = mean_squared_log_error(lag12.usdjpy, lag12.usdjpy_fcast)\n",
        "sum['USDJPY'] = [mae, mse, rmse, mape, msle]\n",
        "\n",
        "# score NQ\n",
        "mae = mean_absolute_error(lag12.nq, lag12.nq_fcast)\n",
        "mse = mean_squared_error(lag12.nq, lag12.nq_fcast)\n",
        "rmse = np.sqrt(mse)\n",
        "mape = np.mean(np.abs((lag12['nq'].values - lag12['nq_fcast'].values) / lag12['nq'].values)) * 100\n",
        "msle = mean_squared_log_error(lag12.nq, lag12.nq_fcast)\n",
        "sum['NQ'] = [mae, mse, rmse, mape, msle]\n",
        "\n",
        "# score ES\n",
        "mae = mean_absolute_error(lag12.es, lag12.es_fcast)\n",
        "mse = mean_squared_error(lag12.es, lag12.es_fcast)\n",
        "rmse = np.sqrt(mse)\n",
        "mape = np.mean(np.abs((lag12['es'].values - lag12['es_fcast'].values) / lag12['es'].values)) * 100\n",
        "msle = mean_squared_log_error(lag12.es, lag12.es_fcast)\n",
        "sum['ES'] = [mae, mse, rmse, mape, msle]\n",
        "\n",
        "# score GC\n",
        "mae = mean_absolute_error(lag12.gc, lag12.gc_fcast)\n",
        "mse = mean_squared_error(lag12.gc, lag12.gc_fcast)\n",
        "rmse = np.sqrt(mse)\n",
        "mape = np.mean(np.abs((lag12['gc'].values - lag12['gc_fcast'].values) / lag12['gc'].values)) * 100\n",
        "msle = mean_squared_log_error(lag12.gc, lag12.gc_fcast)\n",
        "sum['GC'] = [mae, mse, rmse, mape, msle]\n",
        "print('Accuracy metrics:')\n",
        "print(sum)\n"
      ],
      "execution_count": 133,
      "outputs": [
        {
          "output_type": "display_data",
          "data": {
            "application/javascript": [
              "\n",
              "        if (window._pyforest_update_imports_cell) { window._pyforest_update_imports_cell('import lightgbm as lgb\\nimport plotly.express as px\\nimport pydot\\nimport tensorflow as tf\\nimport re\\nimport pandas as pd\\nimport sklearn\\nimport tqdm\\nimport matplotlib.pyplot as plt\\nfrom openpyxl import load_workbook\\nfrom sklearn.model_selection import train_test_split\\nimport numpy as np\\nimport plotly as py'); }\n",
              "    "
            ],
            "text/plain": [
              "<IPython.core.display.Javascript object>"
            ]
          },
          "metadata": {
            "tags": []
          }
        },
        {
          "output_type": "display_data",
          "data": {
            "application/javascript": [
              "\n",
              "        if (window._pyforest_update_imports_cell) { window._pyforest_update_imports_cell('import lightgbm as lgb\\nimport plotly.express as px\\nimport pydot\\nimport tensorflow as tf\\nimport re\\nimport pandas as pd\\nimport sklearn\\nimport tqdm\\nimport matplotlib.pyplot as plt\\nfrom openpyxl import load_workbook\\nfrom sklearn.model_selection import train_test_split\\nimport numpy as np\\nimport plotly as py'); }\n",
              "    "
            ],
            "text/plain": [
              "<IPython.core.display.Javascript object>"
            ]
          },
          "metadata": {
            "tags": []
          }
        },
        {
          "output_type": "display_data",
          "data": {
            "application/javascript": [
              "\n",
              "        if (window._pyforest_update_imports_cell) { window._pyforest_update_imports_cell('import lightgbm as lgb\\nimport plotly.express as px\\nimport pydot\\nimport tensorflow as tf\\nimport re\\nimport pandas as pd\\nimport sklearn\\nimport tqdm\\nimport matplotlib.pyplot as plt\\nfrom openpyxl import load_workbook\\nfrom sklearn.model_selection import train_test_split\\nimport numpy as np\\nimport plotly as py'); }\n",
              "    "
            ],
            "text/plain": [
              "<IPython.core.display.Javascript object>"
            ]
          },
          "metadata": {
            "tags": []
          }
        },
        {
          "output_type": "display_data",
          "data": {
            "application/javascript": [
              "\n",
              "        if (window._pyforest_update_imports_cell) { window._pyforest_update_imports_cell('import lightgbm as lgb\\nimport plotly.express as px\\nimport pydot\\nimport tensorflow as tf\\nimport re\\nimport pandas as pd\\nimport sklearn\\nimport tqdm\\nimport matplotlib.pyplot as plt\\nfrom openpyxl import load_workbook\\nfrom sklearn.model_selection import train_test_split\\nimport numpy as np\\nimport plotly as py'); }\n",
              "    "
            ],
            "text/plain": [
              "<IPython.core.display.Javascript object>"
            ]
          },
          "metadata": {
            "tags": []
          }
        },
        {
          "output_type": "display_data",
          "data": {
            "application/javascript": [
              "\n",
              "        if (window._pyforest_update_imports_cell) { window._pyforest_update_imports_cell('import lightgbm as lgb\\nimport plotly.express as px\\nimport pydot\\nimport tensorflow as tf\\nimport re\\nimport pandas as pd\\nimport sklearn\\nimport tqdm\\nimport matplotlib.pyplot as plt\\nfrom openpyxl import load_workbook\\nfrom sklearn.model_selection import train_test_split\\nimport numpy as np\\nimport plotly as py'); }\n",
              "    "
            ],
            "text/plain": [
              "<IPython.core.display.Javascript object>"
            ]
          },
          "metadata": {
            "tags": []
          }
        },
        {
          "output_type": "display_data",
          "data": {
            "application/javascript": [
              "\n",
              "        if (window._pyforest_update_imports_cell) { window._pyforest_update_imports_cell('import lightgbm as lgb\\nimport plotly.express as px\\nimport pydot\\nimport tensorflow as tf\\nimport re\\nimport pandas as pd\\nimport sklearn\\nimport tqdm\\nimport matplotlib.pyplot as plt\\nfrom openpyxl import load_workbook\\nfrom sklearn.model_selection import train_test_split\\nimport numpy as np\\nimport plotly as py'); }\n",
              "    "
            ],
            "text/plain": [
              "<IPython.core.display.Javascript object>"
            ]
          },
          "metadata": {
            "tags": []
          }
        },
        {
          "output_type": "display_data",
          "data": {
            "application/javascript": [
              "\n",
              "        if (window._pyforest_update_imports_cell) { window._pyforest_update_imports_cell('import lightgbm as lgb\\nimport plotly.express as px\\nimport pydot\\nimport tensorflow as tf\\nimport re\\nimport pandas as pd\\nimport sklearn\\nimport tqdm\\nimport matplotlib.pyplot as plt\\nfrom openpyxl import load_workbook\\nfrom sklearn.model_selection import train_test_split\\nimport numpy as np\\nimport plotly as py'); }\n",
              "    "
            ],
            "text/plain": [
              "<IPython.core.display.Javascript object>"
            ]
          },
          "metadata": {
            "tags": []
          }
        },
        {
          "output_type": "display_data",
          "data": {
            "application/javascript": [
              "\n",
              "        if (window._pyforest_update_imports_cell) { window._pyforest_update_imports_cell('import lightgbm as lgb\\nimport plotly.express as px\\nimport pydot\\nimport tensorflow as tf\\nimport re\\nimport pandas as pd\\nimport sklearn\\nimport tqdm\\nimport matplotlib.pyplot as plt\\nfrom openpyxl import load_workbook\\nfrom sklearn.model_selection import train_test_split\\nimport numpy as np\\nimport plotly as py'); }\n",
              "    "
            ],
            "text/plain": [
              "<IPython.core.display.Javascript object>"
            ]
          },
          "metadata": {
            "tags": []
          }
        },
        {
          "output_type": "display_data",
          "data": {
            "application/javascript": [
              "\n",
              "        if (window._pyforest_update_imports_cell) { window._pyforest_update_imports_cell('import lightgbm as lgb\\nimport plotly.express as px\\nimport pydot\\nimport tensorflow as tf\\nimport re\\nimport pandas as pd\\nimport sklearn\\nimport tqdm\\nimport matplotlib.pyplot as plt\\nfrom openpyxl import load_workbook\\nfrom sklearn.model_selection import train_test_split\\nimport numpy as np\\nimport plotly as py'); }\n",
              "    "
            ],
            "text/plain": [
              "<IPython.core.display.Javascript object>"
            ]
          },
          "metadata": {
            "tags": []
          }
        },
        {
          "output_type": "display_data",
          "data": {
            "application/javascript": [
              "\n",
              "        if (window._pyforest_update_imports_cell) { window._pyforest_update_imports_cell('import lightgbm as lgb\\nimport plotly.express as px\\nimport pydot\\nimport tensorflow as tf\\nimport re\\nimport pandas as pd\\nimport sklearn\\nimport tqdm\\nimport matplotlib.pyplot as plt\\nfrom openpyxl import load_workbook\\nfrom sklearn.model_selection import train_test_split\\nimport numpy as np\\nimport plotly as py'); }\n",
              "    "
            ],
            "text/plain": [
              "<IPython.core.display.Javascript object>"
            ]
          },
          "metadata": {
            "tags": []
          }
        },
        {
          "output_type": "display_data",
          "data": {
            "application/javascript": [
              "\n",
              "        if (window._pyforest_update_imports_cell) { window._pyforest_update_imports_cell('import lightgbm as lgb\\nimport plotly.express as px\\nimport pydot\\nimport tensorflow as tf\\nimport re\\nimport pandas as pd\\nimport sklearn\\nimport tqdm\\nimport matplotlib.pyplot as plt\\nfrom openpyxl import load_workbook\\nfrom sklearn.model_selection import train_test_split\\nimport numpy as np\\nimport plotly as py'); }\n",
              "    "
            ],
            "text/plain": [
              "<IPython.core.display.Javascript object>"
            ]
          },
          "metadata": {
            "tags": []
          }
        },
        {
          "output_type": "display_data",
          "data": {
            "application/javascript": [
              "\n",
              "        if (window._pyforest_update_imports_cell) { window._pyforest_update_imports_cell('import lightgbm as lgb\\nimport plotly.express as px\\nimport pydot\\nimport tensorflow as tf\\nimport re\\nimport pandas as pd\\nimport sklearn\\nimport tqdm\\nimport matplotlib.pyplot as plt\\nfrom openpyxl import load_workbook\\nfrom sklearn.model_selection import train_test_split\\nimport numpy as np\\nimport plotly as py'); }\n",
              "    "
            ],
            "text/plain": [
              "<IPython.core.display.Javascript object>"
            ]
          },
          "metadata": {
            "tags": []
          }
        },
        {
          "output_type": "display_data",
          "data": {
            "application/javascript": [
              "\n",
              "        if (window._pyforest_update_imports_cell) { window._pyforest_update_imports_cell('import lightgbm as lgb\\nimport plotly.express as px\\nimport pydot\\nimport tensorflow as tf\\nimport re\\nimport pandas as pd\\nimport sklearn\\nimport tqdm\\nimport matplotlib.pyplot as plt\\nfrom openpyxl import load_workbook\\nfrom sklearn.model_selection import train_test_split\\nimport numpy as np\\nimport plotly as py'); }\n",
              "    "
            ],
            "text/plain": [
              "<IPython.core.display.Javascript object>"
            ]
          },
          "metadata": {
            "tags": []
          }
        },
        {
          "output_type": "display_data",
          "data": {
            "application/javascript": [
              "\n",
              "        if (window._pyforest_update_imports_cell) { window._pyforest_update_imports_cell('import lightgbm as lgb\\nimport plotly.express as px\\nimport pydot\\nimport tensorflow as tf\\nimport re\\nimport pandas as pd\\nimport sklearn\\nimport tqdm\\nimport matplotlib.pyplot as plt\\nfrom openpyxl import load_workbook\\nfrom sklearn.model_selection import train_test_split\\nimport numpy as np\\nimport plotly as py'); }\n",
              "    "
            ],
            "text/plain": [
              "<IPython.core.display.Javascript object>"
            ]
          },
          "metadata": {
            "tags": []
          }
        },
        {
          "output_type": "display_data",
          "data": {
            "application/javascript": [
              "\n",
              "        if (window._pyforest_update_imports_cell) { window._pyforest_update_imports_cell('import lightgbm as lgb\\nimport plotly.express as px\\nimport pydot\\nimport tensorflow as tf\\nimport re\\nimport pandas as pd\\nimport sklearn\\nimport tqdm\\nimport matplotlib.pyplot as plt\\nfrom openpyxl import load_workbook\\nfrom sklearn.model_selection import train_test_split\\nimport numpy as np\\nimport plotly as py'); }\n",
              "    "
            ],
            "text/plain": [
              "<IPython.core.display.Javascript object>"
            ]
          },
          "metadata": {
            "tags": []
          }
        },
        {
          "output_type": "display_data",
          "data": {
            "application/javascript": [
              "\n",
              "        if (window._pyforest_update_imports_cell) { window._pyforest_update_imports_cell('import lightgbm as lgb\\nimport plotly.express as px\\nimport pydot\\nimport tensorflow as tf\\nimport re\\nimport pandas as pd\\nimport sklearn\\nimport tqdm\\nimport matplotlib.pyplot as plt\\nfrom openpyxl import load_workbook\\nfrom sklearn.model_selection import train_test_split\\nimport numpy as np\\nimport plotly as py'); }\n",
              "    "
            ],
            "text/plain": [
              "<IPython.core.display.Javascript object>"
            ]
          },
          "metadata": {
            "tags": []
          }
        },
        {
          "output_type": "display_data",
          "data": {
            "application/javascript": [
              "\n",
              "        if (window._pyforest_update_imports_cell) { window._pyforest_update_imports_cell('import lightgbm as lgb\\nimport plotly.express as px\\nimport pydot\\nimport tensorflow as tf\\nimport re\\nimport pandas as pd\\nimport sklearn\\nimport tqdm\\nimport matplotlib.pyplot as plt\\nfrom openpyxl import load_workbook\\nfrom sklearn.model_selection import train_test_split\\nimport numpy as np\\nimport plotly as py'); }\n",
              "    "
            ],
            "text/plain": [
              "<IPython.core.display.Javascript object>"
            ]
          },
          "metadata": {
            "tags": []
          }
        },
        {
          "output_type": "display_data",
          "data": {
            "application/javascript": [
              "\n",
              "        if (window._pyforest_update_imports_cell) { window._pyforest_update_imports_cell('import lightgbm as lgb\\nimport plotly.express as px\\nimport pydot\\nimport tensorflow as tf\\nimport re\\nimport pandas as pd\\nimport sklearn\\nimport tqdm\\nimport matplotlib.pyplot as plt\\nfrom openpyxl import load_workbook\\nfrom sklearn.model_selection import train_test_split\\nimport numpy as np\\nimport plotly as py'); }\n",
              "    "
            ],
            "text/plain": [
              "<IPython.core.display.Javascript object>"
            ]
          },
          "metadata": {
            "tags": []
          }
        },
        {
          "output_type": "stream",
          "text": [
            "Accuracy metrics:\n",
            "                         Accuracy metrics :    EURUSD    GBPUSD        USDJPY   NQ   ES   GC\n",
            "Mean Absolute Error                            868.56    386.78      34983.03 0.92 0.13 0.29\n",
            "Mean squared error                         1735882.38 372681.25 2249267212.82 1.68 0.04 0.12\n",
            "Root mean squared error                       1317.53    610.48      47426.44 1.30 0.21 0.35\n",
            "Mean absolute % error                            0.08      0.03          0.03 0.01 0.00 0.02\n",
            "Mean squared log Error                           0.00      0.00          0.00 0.00 0.00 0.00\n"
          ],
          "name": "stdout"
        }
      ]
    },
    {
      "cell_type": "markdown",
      "metadata": {
        "id": "fk8kzok2Pi_o"
      },
      "source": [
        "# **5 VAR model fitting with lag 31:**"
      ]
    },
    {
      "cell_type": "code",
      "metadata": {
        "id": "6SOdyL-1PmNE",
        "outputId": "e91bb79d-ec12-4c75-9e33-6a5d155953a8",
        "colab": {
          "base_uri": "https://localhost:8080/",
          "height": 534
        }
      },
      "source": [
        "df = pd.read_csv(\"AL_final_data.csv\")\n",
        "df.drop(columns = ['Unnamed: 0'], axis=1, inplace=True)\n",
        "df = df.set_index('timestamp')\n",
        "df.index = pd.to_datetime(df.index)\n",
        "\n",
        "# spliting train/test\n",
        "nobs = 10 # keeping 10 mins observations aside for validation\n",
        "train_var, test_var = df[0:- nobs], df[- nobs:]\n",
        "\n",
        "# Check size\n",
        "#print(train_var.shape); print(test_var.shape);\n",
        "\n",
        "# transfoming training data set\n",
        "train_trans = train_var.diff().dropna() # differencing\n",
        "#print('Description of diff data:'); print(train_trans.describe());\n",
        "\n",
        "import statsmodels.tsa.api as smt\n",
        "from statsmodels.tsa.api import VAR\n",
        "\n",
        "# pass \"1min\" frequency\n",
        "train_trans.index = pd.DatetimeIndex(train_trans.index).to_period('1min')\n",
        "\n",
        "# fitting VAR model with associated freq & lags\n",
        "model_l_31 = VAR(endog = train_trans).fit(maxlags = 31)\n",
        "\n",
        "from statsmodels.stats.stattools import durbin_watson\n",
        "print('Durbin Watson statistic:')\n",
        "out = durbin_watson(model_l_12.resid)\n",
        "\n",
        "for col, val in zip(train_var.columns, out):\n",
        "    print((col), ':', round(val, 2))\n",
        "print()\n",
        "\n",
        "residuals = model_l_31.resid\n",
        "residuals.plot(figsize=(14,5))\n",
        "plt.title('Residuals plot = VAR lag 12')\n",
        "plt.show()\n",
        "print()\n",
        "\n",
        "# Forecasting\n",
        "pd.options.display.float_format = \"{:.2f}\".format\n",
        "# Get the lag order\n",
        "lag_order = model_l_31.k_ar\n",
        "#print(lag_order) \n",
        "\n",
        "# Input data for forecasting\n",
        "input_data = train_trans.values[-lag_order:]\n",
        "#print(input_data)\n",
        "\n",
        "# Inversing difference\n",
        "def inverse_diff(train, df_pred):\n",
        "    \"\"\"Revert back the differencing to get the forecast to original scale.\"\"\"\n",
        "    df_fc = df_pred.copy()\n",
        "    columns = train_var.columns\n",
        "    for col in columns:        \n",
        "        # Roll back 1st Diff\n",
        "        df_fc[str(col)+'_fcast'] = train_var[col].iloc[-1] + df_fc[str(col)+'_1d'].cumsum()\n",
        "    return df_fc\n",
        "\n",
        "df_results = inverse_diff(train_var, df_pred)        \n",
        "t = df_results.loc[:, ['es_fcast', 'eurusd_fcast', 'gbpusd_fcast', \n",
        "                       'gc_fcast','nq_fcast', 'usdjpy_fcast']]\n"
      ],
      "execution_count": 134,
      "outputs": [
        {
          "output_type": "display_data",
          "data": {
            "application/javascript": [
              "\n",
              "        if (window._pyforest_update_imports_cell) { window._pyforest_update_imports_cell('import lightgbm as lgb\\nimport plotly.express as px\\nimport pydot\\nimport tensorflow as tf\\nimport re\\nimport pandas as pd\\nimport sklearn\\nimport tqdm\\nimport matplotlib.pyplot as plt\\nfrom openpyxl import load_workbook\\nfrom sklearn.model_selection import train_test_split\\nimport numpy as np\\nimport plotly as py'); }\n",
              "    "
            ],
            "text/plain": [
              "<IPython.core.display.Javascript object>"
            ]
          },
          "metadata": {
            "tags": []
          }
        },
        {
          "output_type": "display_data",
          "data": {
            "application/javascript": [
              "\n",
              "        if (window._pyforest_update_imports_cell) { window._pyforest_update_imports_cell('import lightgbm as lgb\\nimport plotly.express as px\\nimport pydot\\nimport tensorflow as tf\\nimport re\\nimport pandas as pd\\nimport sklearn\\nimport tqdm\\nimport matplotlib.pyplot as plt\\nfrom openpyxl import load_workbook\\nfrom sklearn.model_selection import train_test_split\\nimport numpy as np\\nimport plotly as py'); }\n",
              "    "
            ],
            "text/plain": [
              "<IPython.core.display.Javascript object>"
            ]
          },
          "metadata": {
            "tags": []
          }
        },
        {
          "output_type": "display_data",
          "data": {
            "application/javascript": [
              "\n",
              "        if (window._pyforest_update_imports_cell) { window._pyforest_update_imports_cell('import lightgbm as lgb\\nimport plotly.express as px\\nimport pydot\\nimport tensorflow as tf\\nimport re\\nimport pandas as pd\\nimport sklearn\\nimport tqdm\\nimport matplotlib.pyplot as plt\\nfrom openpyxl import load_workbook\\nfrom sklearn.model_selection import train_test_split\\nimport numpy as np\\nimport plotly as py'); }\n",
              "    "
            ],
            "text/plain": [
              "<IPython.core.display.Javascript object>"
            ]
          },
          "metadata": {
            "tags": []
          }
        },
        {
          "output_type": "stream",
          "text": [
            "Durbin Watson statistic:\n",
            "es : 2.0\n",
            "eurusd : 2.0\n",
            "gbpusd : 2.0\n",
            "gc : 2.0\n",
            "nq : 2.0\n",
            "usdjpy : 2.0\n",
            "\n"
          ],
          "name": "stdout"
        },
        {
          "output_type": "display_data",
          "data": {
            "application/javascript": [
              "\n",
              "        if (window._pyforest_update_imports_cell) { window._pyforest_update_imports_cell('import lightgbm as lgb\\nimport plotly.express as px\\nimport pydot\\nimport tensorflow as tf\\nimport re\\nimport pandas as pd\\nimport sklearn\\nimport tqdm\\nimport matplotlib.pyplot as plt\\nfrom openpyxl import load_workbook\\nfrom sklearn.model_selection import train_test_split\\nimport numpy as np\\nimport plotly as py'); }\n",
              "    "
            ],
            "text/plain": [
              "<IPython.core.display.Javascript object>"
            ]
          },
          "metadata": {
            "tags": []
          }
        },
        {
          "output_type": "display_data",
          "data": {
            "application/javascript": [
              "\n",
              "        if (window._pyforest_update_imports_cell) { window._pyforest_update_imports_cell('import lightgbm as lgb\\nimport plotly.express as px\\nimport pydot\\nimport tensorflow as tf\\nimport re\\nimport pandas as pd\\nimport sklearn\\nimport tqdm\\nimport matplotlib.pyplot as plt\\nfrom openpyxl import load_workbook\\nfrom sklearn.model_selection import train_test_split\\nimport numpy as np\\nimport plotly as py'); }\n",
              "    "
            ],
            "text/plain": [
              "<IPython.core.display.Javascript object>"
            ]
          },
          "metadata": {
            "tags": []
          }
        },
        {
          "output_type": "display_data",
          "data": {
            "image/png": "[encoded data removed]",
            "text/plain": [
              "<Figure size 1008x360 with 1 Axes>"
            ]
          },
          "metadata": {
            "tags": []
          }
        },
        {
          "output_type": "stream",
          "text": [
            "\n"
          ],
          "name": "stdout"
        },
        {
          "output_type": "display_data",
          "data": {
            "application/javascript": [
              "\n",
              "        if (window._pyforest_update_imports_cell) { window._pyforest_update_imports_cell('import lightgbm as lgb\\nimport plotly.express as px\\nimport pydot\\nimport tensorflow as tf\\nimport re\\nimport pandas as pd\\nimport sklearn\\nimport tqdm\\nimport matplotlib.pyplot as plt\\nfrom openpyxl import load_workbook\\nfrom sklearn.model_selection import train_test_split\\nimport numpy as np\\nimport plotly as py'); }\n",
              "    "
            ],
            "text/plain": [
              "<IPython.core.display.Javascript object>"
            ]
          },
          "metadata": {
            "tags": []
          }
        }
      ]
    },
    {
      "cell_type": "code",
      "metadata": {
        "id": "7Xb-P9sGP8Or",
        "outputId": "fb0da6dc-0cff-40d5-9711-52a190023c2b",
        "colab": {
          "base_uri": "https://localhost:8080/",
          "height": 631
        }
      },
      "source": [
        "print('Actual vs forecast:')\n",
        "t.index = test_var.index\n",
        "lag31 = pd.concat([test_var, t], axis=1)\n",
        "lag31 = lag31[['eurusd','eurusd_fcast','gbpusd','gbpusd_fcast','usdjpy','usdjpy_fcast',\n",
        "                 'es','es_fcast','gc','gc_fcast','nq','nq_fcast']]\n",
        "lag31 = lag31.sort_values(by='timestamp', ascending=False)\n",
        "def highlight_cols(s):\n",
        "    color = 'yellow'\n",
        "    return 'background-color: %s' % color\n",
        "lag31.style.applymap(highlight_cols, subset=pd.IndexSlice[:, ['eurusd_fcast','gbpusd_fcast','usdjpy_fcast',\n",
        "                                                               'nq_fcast','es_fcast','gc_fcast']])"
      ],
      "execution_count": 135,
      "outputs": [
        {
          "output_type": "stream",
          "text": [
            "Actual vs forecast:\n"
          ],
          "name": "stdout"
        },
        {
          "output_type": "display_data",
          "data": {
            "application/javascript": [
              "\n",
              "        if (window._pyforest_update_imports_cell) { window._pyforest_update_imports_cell('import lightgbm as lgb\\nimport plotly.express as px\\nimport pydot\\nimport tensorflow as tf\\nimport re\\nimport pandas as pd\\nimport sklearn\\nimport tqdm\\nimport matplotlib.pyplot as plt\\nfrom openpyxl import load_workbook\\nfrom sklearn.model_selection import train_test_split\\nimport numpy as np\\nimport plotly as py'); }\n",
              "    "
            ],
            "text/plain": [
              "<IPython.core.display.Javascript object>"
            ]
          },
          "metadata": {
            "tags": []
          }
        },
        {
          "output_type": "display_data",
          "data": {
            "application/javascript": [
              "\n",
              "        if (window._pyforest_update_imports_cell) { window._pyforest_update_imports_cell('import lightgbm as lgb\\nimport plotly.express as px\\nimport pydot\\nimport tensorflow as tf\\nimport re\\nimport pandas as pd\\nimport sklearn\\nimport tqdm\\nimport matplotlib.pyplot as plt\\nfrom openpyxl import load_workbook\\nfrom sklearn.model_selection import train_test_split\\nimport numpy as np\\nimport plotly as py'); }\n",
              "    "
            ],
            "text/plain": [
              "<IPython.core.display.Javascript object>"
            ]
          },
          "metadata": {
            "tags": []
          }
        },
        {
          "output_type": "execute_result",
          "data": {
            "text/html": [
              "<style  type=\"text/css\" >\n",
              "#T_276f94b6_1f3a_11eb_9b24_0242ac1c0002row0_col1,#T_276f94b6_1f3a_11eb_9b24_0242ac1c0002row0_col3,#T_276f94b6_1f3a_11eb_9b24_0242ac1c0002row0_col5,#T_276f94b6_1f3a_11eb_9b24_0242ac1c0002row0_col7,#T_276f94b6_1f3a_11eb_9b24_0242ac1c0002row0_col9,#T_276f94b6_1f3a_11eb_9b24_0242ac1c0002row0_col11,#T_276f94b6_1f3a_11eb_9b24_0242ac1c0002row1_col1,#T_276f94b6_1f3a_11eb_9b24_0242ac1c0002row1_col3,#T_276f94b6_1f3a_11eb_9b24_0242ac1c0002row1_col5,#T_276f94b6_1f3a_11eb_9b24_0242ac1c0002row1_col7,#T_276f94b6_1f3a_11eb_9b24_0242ac1c0002row1_col9,#T_276f94b6_1f3a_11eb_9b24_0242ac1c0002row1_col11,#T_276f94b6_1f3a_11eb_9b24_0242ac1c0002row2_col1,#T_276f94b6_1f3a_11eb_9b24_0242ac1c0002row2_col3,#T_276f94b6_1f3a_11eb_9b24_0242ac1c0002row2_col5,#T_276f94b6_1f3a_11eb_9b24_0242ac1c0002row2_col7,#T_276f94b6_1f3a_11eb_9b24_0242ac1c0002row2_col9,#T_276f94b6_1f3a_11eb_9b24_0242ac1c0002row2_col11,#T_276f94b6_1f3a_11eb_9b24_0242ac1c0002row3_col1,#T_276f94b6_1f3a_11eb_9b24_0242ac1c0002row3_col3,#T_276f94b6_1f3a_11eb_9b24_0242ac1c0002row3_col5,#T_276f94b6_1f3a_11eb_9b24_0242ac1c0002row3_col7,#T_276f94b6_1f3a_11eb_9b24_0242ac1c0002row3_col9,#T_276f94b6_1f3a_11eb_9b24_0242ac1c0002row3_col11,#T_276f94b6_1f3a_11eb_9b24_0242ac1c0002row4_col1,#T_276f94b6_1f3a_11eb_9b24_0242ac1c0002row4_col3,#T_276f94b6_1f3a_11eb_9b24_0242ac1c0002row4_col5,#T_276f94b6_1f3a_11eb_9b24_0242ac1c0002row4_col7,#T_276f94b6_1f3a_11eb_9b24_0242ac1c0002row4_col9,#T_276f94b6_1f3a_11eb_9b24_0242ac1c0002row4_col11,#T_276f94b6_1f3a_11eb_9b24_0242ac1c0002row5_col1,#T_276f94b6_1f3a_11eb_9b24_0242ac1c0002row5_col3,#T_276f94b6_1f3a_11eb_9b24_0242ac1c0002row5_col5,#T_276f94b6_1f3a_11eb_9b24_0242ac1c0002row5_col7,#T_276f94b6_1f3a_11eb_9b24_0242ac1c0002row5_col9,#T_276f94b6_1f3a_11eb_9b24_0242ac1c0002row5_col11,#T_276f94b6_1f3a_11eb_9b24_0242ac1c0002row6_col1,#T_276f94b6_1f3a_11eb_9b24_0242ac1c0002row6_col3,#T_276f94b6_1f3a_11eb_9b24_0242ac1c0002row6_col5,#T_276f94b6_1f3a_11eb_9b24_0242ac1c0002row6_col7,#T_276f94b6_1f3a_11eb_9b24_0242ac1c0002row6_col9,#T_276f94b6_1f3a_11eb_9b24_0242ac1c0002row6_col11,#T_276f94b6_1f3a_11eb_9b24_0242ac1c0002row7_col1,#T_276f94b6_1f3a_11eb_9b24_0242ac1c0002row7_col3,#T_276f94b6_1f3a_11eb_9b24_0242ac1c0002row7_col5,#T_276f94b6_1f3a_11eb_9b24_0242ac1c0002row7_col7,#T_276f94b6_1f3a_11eb_9b24_0242ac1c0002row7_col9,#T_276f94b6_1f3a_11eb_9b24_0242ac1c0002row7_col11,#T_276f94b6_1f3a_11eb_9b24_0242ac1c0002row8_col1,#T_276f94b6_1f3a_11eb_9b24_0242ac1c0002row8_col3,#T_276f94b6_1f3a_11eb_9b24_0242ac1c0002row8_col5,#T_276f94b6_1f3a_11eb_9b24_0242ac1c0002row8_col7,#T_276f94b6_1f3a_11eb_9b24_0242ac1c0002row8_col9,#T_276f94b6_1f3a_11eb_9b24_0242ac1c0002row8_col11,#T_276f94b6_1f3a_11eb_9b24_0242ac1c0002row9_col1,#T_276f94b6_1f3a_11eb_9b24_0242ac1c0002row9_col3,#T_276f94b6_1f3a_11eb_9b24_0242ac1c0002row9_col5,#T_276f94b6_1f3a_11eb_9b24_0242ac1c0002row9_col7,#T_276f94b6_1f3a_11eb_9b24_0242ac1c0002row9_col9,#T_276f94b6_1f3a_11eb_9b24_0242ac1c0002row9_col11{\n",
              "            background-color:  yellow;\n",
              "        }</style><table id=\"T_276f94b6_1f3a_11eb_9b24_0242ac1c0002\" ><thead>    <tr>        <th class=\"blank level0\" ></th>        <th class=\"col_heading level0 col0\" >eurusd</th>        <th class=\"col_heading level0 col1\" >eurusd_fcast</th>        <th class=\"col_heading level0 col2\" >gbpusd</th>        <th class=\"col_heading level0 col3\" >gbpusd_fcast</th>        <th class=\"col_heading level0 col4\" >usdjpy</th>        <th class=\"col_heading level0 col5\" >usdjpy_fcast</th>        <th class=\"col_heading level0 col6\" >es</th>        <th class=\"col_heading level0 col7\" >es_fcast</th>        <th class=\"col_heading level0 col8\" >gc</th>        <th class=\"col_heading level0 col9\" >gc_fcast</th>        <th class=\"col_heading level0 col10\" >nq</th>        <th class=\"col_heading level0 col11\" >nq_fcast</th>    </tr>    <tr>        <th class=\"index_name level0\" >timestamp</th>        <th class=\"blank\" ></th>        <th class=\"blank\" ></th>        <th class=\"blank\" ></th>        <th class=\"blank\" ></th>        <th class=\"blank\" ></th>        <th class=\"blank\" ></th>        <th class=\"blank\" ></th>        <th class=\"blank\" ></th>        <th class=\"blank\" ></th>        <th class=\"blank\" ></th>        <th class=\"blank\" ></th>        <th class=\"blank\" ></th>    </tr></thead><tbody>\n",
              "                <tr>\n",
              "                        <th id=\"T_276f94b6_1f3a_11eb_9b24_0242ac1c0002level0_row0\" class=\"row_heading level0 row0\" >2020-05-29 21:00:00</th>\n",
              "                        <td id=\"T_276f94b6_1f3a_11eb_9b24_0242ac1c0002row0_col0\" class=\"data row0 col0\" >1113400.000000</td>\n",
              "                        <td id=\"T_276f94b6_1f3a_11eb_9b24_0242ac1c0002row0_col1\" class=\"data row0 col1\" >1110720.673475</td>\n",
              "                        <td id=\"T_276f94b6_1f3a_11eb_9b24_0242ac1c0002row0_col2\" class=\"data row0 col2\" >1237150.000000</td>\n",
              "                        <td id=\"T_276f94b6_1f3a_11eb_9b24_0242ac1c0002row0_col3\" class=\"data row0 col3\" >1235472.134980</td>\n",
              "                        <td id=\"T_276f94b6_1f3a_11eb_9b24_0242ac1c0002row0_col4\" class=\"data row0 col4\" >107835000.000000</td>\n",
              "                        <td id=\"T_276f94b6_1f3a_11eb_9b24_0242ac1c0002row0_col5\" class=\"data row0 col5\" >107779474.610216</td>\n",
              "                        <td id=\"T_276f94b6_1f3a_11eb_9b24_0242ac1c0002row0_col6\" class=\"data row0 col6\" >3027.250000</td>\n",
              "                        <td id=\"T_276f94b6_1f3a_11eb_9b24_0242ac1c0002row0_col7\" class=\"data row0 col7\" >3027.219550</td>\n",
              "                        <td id=\"T_276f94b6_1f3a_11eb_9b24_0242ac1c0002row0_col8\" class=\"data row0 col8\" >1731.350000</td>\n",
              "                        <td id=\"T_276f94b6_1f3a_11eb_9b24_0242ac1c0002row0_col9\" class=\"data row0 col9\" >1731.809730</td>\n",
              "                        <td id=\"T_276f94b6_1f3a_11eb_9b24_0242ac1c0002row0_col10\" class=\"data row0 col10\" >9591.125000</td>\n",
              "                        <td id=\"T_276f94b6_1f3a_11eb_9b24_0242ac1c0002row0_col11\" class=\"data row0 col11\" >9587.682855</td>\n",
              "            </tr>\n",
              "            <tr>\n",
              "                        <th id=\"T_276f94b6_1f3a_11eb_9b24_0242ac1c0002level0_row1\" class=\"row_heading level0 row1\" >2020-05-29 20:59:00</th>\n",
              "                        <td id=\"T_276f94b6_1f3a_11eb_9b24_0242ac1c0002row1_col0\" class=\"data row1 col0\" >1113400.000000</td>\n",
              "                        <td id=\"T_276f94b6_1f3a_11eb_9b24_0242ac1c0002row1_col1\" class=\"data row1 col1\" >1110720.189034</td>\n",
              "                        <td id=\"T_276f94b6_1f3a_11eb_9b24_0242ac1c0002row1_col2\" class=\"data row1 col2\" >1235450.000000</td>\n",
              "                        <td id=\"T_276f94b6_1f3a_11eb_9b24_0242ac1c0002row1_col3\" class=\"data row1 col3\" >1235472.841678</td>\n",
              "                        <td id=\"T_276f94b6_1f3a_11eb_9b24_0242ac1c0002row1_col4\" class=\"data row1 col4\" >107835000.000000</td>\n",
              "                        <td id=\"T_276f94b6_1f3a_11eb_9b24_0242ac1c0002row1_col5\" class=\"data row1 col5\" >107779461.003842</td>\n",
              "                        <td id=\"T_276f94b6_1f3a_11eb_9b24_0242ac1c0002row1_col6\" class=\"data row1 col6\" >3027.250000</td>\n",
              "                        <td id=\"T_276f94b6_1f3a_11eb_9b24_0242ac1c0002row1_col7\" class=\"data row1 col7\" >3027.214354</td>\n",
              "                        <td id=\"T_276f94b6_1f3a_11eb_9b24_0242ac1c0002row1_col8\" class=\"data row1 col8\" >1731.300000</td>\n",
              "                        <td id=\"T_276f94b6_1f3a_11eb_9b24_0242ac1c0002row1_col9\" class=\"data row1 col9\" >1731.808504</td>\n",
              "                        <td id=\"T_276f94b6_1f3a_11eb_9b24_0242ac1c0002row1_col10\" class=\"data row1 col10\" >9587.375000</td>\n",
              "                        <td id=\"T_276f94b6_1f3a_11eb_9b24_0242ac1c0002row1_col11\" class=\"data row1 col11\" >9587.657311</td>\n",
              "            </tr>\n",
              "            <tr>\n",
              "                        <th id=\"T_276f94b6_1f3a_11eb_9b24_0242ac1c0002level0_row2\" class=\"row_heading level0 row2\" >2020-05-29 20:58:00</th>\n",
              "                        <td id=\"T_276f94b6_1f3a_11eb_9b24_0242ac1c0002row2_col0\" class=\"data row2 col0\" >1111650.000000</td>\n",
              "                        <td id=\"T_276f94b6_1f3a_11eb_9b24_0242ac1c0002row2_col1\" class=\"data row2 col1\" >1110719.440317</td>\n",
              "                        <td id=\"T_276f94b6_1f3a_11eb_9b24_0242ac1c0002row2_col2\" class=\"data row2 col2\" >1235450.000000</td>\n",
              "                        <td id=\"T_276f94b6_1f3a_11eb_9b24_0242ac1c0002row2_col3\" class=\"data row2 col3\" >1235473.743868</td>\n",
              "                        <td id=\"T_276f94b6_1f3a_11eb_9b24_0242ac1c0002row2_col4\" class=\"data row2 col4\" >107830000.000000</td>\n",
              "                        <td id=\"T_276f94b6_1f3a_11eb_9b24_0242ac1c0002row2_col5\" class=\"data row2 col5\" >107779446.790772</td>\n",
              "                        <td id=\"T_276f94b6_1f3a_11eb_9b24_0242ac1c0002row2_col6\" class=\"data row2 col6\" >3027.250000</td>\n",
              "                        <td id=\"T_276f94b6_1f3a_11eb_9b24_0242ac1c0002row2_col7\" class=\"data row2 col7\" >3027.209330</td>\n",
              "                        <td id=\"T_276f94b6_1f3a_11eb_9b24_0242ac1c0002row2_col8\" class=\"data row2 col8\" >1731.450000</td>\n",
              "                        <td id=\"T_276f94b6_1f3a_11eb_9b24_0242ac1c0002row2_col9\" class=\"data row2 col9\" >1731.807275</td>\n",
              "                        <td id=\"T_276f94b6_1f3a_11eb_9b24_0242ac1c0002row2_col10\" class=\"data row2 col10\" >9588.625000</td>\n",
              "                        <td id=\"T_276f94b6_1f3a_11eb_9b24_0242ac1c0002row2_col11\" class=\"data row2 col11\" >9587.632369</td>\n",
              "            </tr>\n",
              "            <tr>\n",
              "                        <th id=\"T_276f94b6_1f3a_11eb_9b24_0242ac1c0002level0_row3\" class=\"row_heading level0 row3\" >2020-05-29 20:57:00</th>\n",
              "                        <td id=\"T_276f94b6_1f3a_11eb_9b24_0242ac1c0002row3_col0\" class=\"data row3 col0\" >1111750.000000</td>\n",
              "                        <td id=\"T_276f94b6_1f3a_11eb_9b24_0242ac1c0002row3_col1\" class=\"data row3 col1\" >1110718.919549</td>\n",
              "                        <td id=\"T_276f94b6_1f3a_11eb_9b24_0242ac1c0002row3_col2\" class=\"data row3 col2\" >1235450.000000</td>\n",
              "                        <td id=\"T_276f94b6_1f3a_11eb_9b24_0242ac1c0002row3_col3\" class=\"data row3 col3\" >1235474.450519</td>\n",
              "                        <td id=\"T_276f94b6_1f3a_11eb_9b24_0242ac1c0002row3_col4\" class=\"data row3 col4\" >107830000.000000</td>\n",
              "                        <td id=\"T_276f94b6_1f3a_11eb_9b24_0242ac1c0002row3_col5\" class=\"data row3 col5\" >107779432.871366</td>\n",
              "                        <td id=\"T_276f94b6_1f3a_11eb_9b24_0242ac1c0002row3_col6\" class=\"data row3 col6\" >3027.250000</td>\n",
              "                        <td id=\"T_276f94b6_1f3a_11eb_9b24_0242ac1c0002row3_col7\" class=\"data row3 col7\" >3027.203692</td>\n",
              "                        <td id=\"T_276f94b6_1f3a_11eb_9b24_0242ac1c0002row3_col8\" class=\"data row3 col8\" >1731.200000</td>\n",
              "                        <td id=\"T_276f94b6_1f3a_11eb_9b24_0242ac1c0002row3_col9\" class=\"data row3 col9\" >1731.806015</td>\n",
              "                        <td id=\"T_276f94b6_1f3a_11eb_9b24_0242ac1c0002row3_col10\" class=\"data row3 col10\" >9588.500000</td>\n",
              "                        <td id=\"T_276f94b6_1f3a_11eb_9b24_0242ac1c0002row3_col11\" class=\"data row3 col11\" >9587.605301</td>\n",
              "            </tr>\n",
              "            <tr>\n",
              "                        <th id=\"T_276f94b6_1f3a_11eb_9b24_0242ac1c0002level0_row4\" class=\"row_heading level0 row4\" >2020-05-29 20:56:00</th>\n",
              "                        <td id=\"T_276f94b6_1f3a_11eb_9b24_0242ac1c0002row4_col0\" class=\"data row4 col0\" >1111740.000000</td>\n",
              "                        <td id=\"T_276f94b6_1f3a_11eb_9b24_0242ac1c0002row4_col1\" class=\"data row4 col1\" >1110719.134196</td>\n",
              "                        <td id=\"T_276f94b6_1f3a_11eb_9b24_0242ac1c0002row4_col2\" class=\"data row4 col2\" >1235400.000000</td>\n",
              "                        <td id=\"T_276f94b6_1f3a_11eb_9b24_0242ac1c0002row4_col3\" class=\"data row4 col3\" >1235474.667358</td>\n",
              "                        <td id=\"T_276f94b6_1f3a_11eb_9b24_0242ac1c0002row4_col4\" class=\"data row4 col4\" >107675000.000000</td>\n",
              "                        <td id=\"T_276f94b6_1f3a_11eb_9b24_0242ac1c0002row4_col5\" class=\"data row4 col5\" >107779421.346578</td>\n",
              "                        <td id=\"T_276f94b6_1f3a_11eb_9b24_0242ac1c0002row4_col6\" class=\"data row4 col6\" >3027.250000</td>\n",
              "                        <td id=\"T_276f94b6_1f3a_11eb_9b24_0242ac1c0002row4_col7\" class=\"data row4 col7\" >3027.198638</td>\n",
              "                        <td id=\"T_276f94b6_1f3a_11eb_9b24_0242ac1c0002row4_col8\" class=\"data row4 col8\" >1731.500000</td>\n",
              "                        <td id=\"T_276f94b6_1f3a_11eb_9b24_0242ac1c0002row4_col9\" class=\"data row4 col9\" >1731.804841</td>\n",
              "                        <td id=\"T_276f94b6_1f3a_11eb_9b24_0242ac1c0002row4_col10\" class=\"data row4 col10\" >9588.625000</td>\n",
              "                        <td id=\"T_276f94b6_1f3a_11eb_9b24_0242ac1c0002row4_col11\" class=\"data row4 col11\" >9587.580201</td>\n",
              "            </tr>\n",
              "            <tr>\n",
              "                        <th id=\"T_276f94b6_1f3a_11eb_9b24_0242ac1c0002level0_row5\" class=\"row_heading level0 row5\" >2020-05-29 20:55:00</th>\n",
              "                        <td id=\"T_276f94b6_1f3a_11eb_9b24_0242ac1c0002row5_col0\" class=\"data row5 col0\" >1110660.000000</td>\n",
              "                        <td id=\"T_276f94b6_1f3a_11eb_9b24_0242ac1c0002row5_col1\" class=\"data row5 col1\" >1110716.619451</td>\n",
              "                        <td id=\"T_276f94b6_1f3a_11eb_9b24_0242ac1c0002row5_col2\" class=\"data row5 col2\" >1234990.000000</td>\n",
              "                        <td id=\"T_276f94b6_1f3a_11eb_9b24_0242ac1c0002row5_col3\" class=\"data row5 col3\" >1235476.844851</td>\n",
              "                        <td id=\"T_276f94b6_1f3a_11eb_9b24_0242ac1c0002row5_col4\" class=\"data row5 col4\" >107766500.000000</td>\n",
              "                        <td id=\"T_276f94b6_1f3a_11eb_9b24_0242ac1c0002row5_col5\" class=\"data row5 col5\" >107779402.377704</td>\n",
              "                        <td id=\"T_276f94b6_1f3a_11eb_9b24_0242ac1c0002row5_col6\" class=\"data row5 col6\" >3027.000000</td>\n",
              "                        <td id=\"T_276f94b6_1f3a_11eb_9b24_0242ac1c0002row5_col7\" class=\"data row5 col7\" >3027.195158</td>\n",
              "                        <td id=\"T_276f94b6_1f3a_11eb_9b24_0242ac1c0002row5_col8\" class=\"data row5 col8\" >1731.550000</td>\n",
              "                        <td id=\"T_276f94b6_1f3a_11eb_9b24_0242ac1c0002row5_col9\" class=\"data row5 col9\" >1731.803617</td>\n",
              "                        <td id=\"T_276f94b6_1f3a_11eb_9b24_0242ac1c0002row5_col10\" class=\"data row5 col10\" >9587.875000</td>\n",
              "                        <td id=\"T_276f94b6_1f3a_11eb_9b24_0242ac1c0002row5_col11\" class=\"data row5 col11\" >9587.560653</td>\n",
              "            </tr>\n",
              "            <tr>\n",
              "                        <th id=\"T_276f94b6_1f3a_11eb_9b24_0242ac1c0002level0_row6\" class=\"row_heading level0 row6\" >2020-05-29 20:54:00</th>\n",
              "                        <td id=\"T_276f94b6_1f3a_11eb_9b24_0242ac1c0002row6_col0\" class=\"data row6 col0\" >1110785.000000</td>\n",
              "                        <td id=\"T_276f94b6_1f3a_11eb_9b24_0242ac1c0002row6_col1\" class=\"data row6 col1\" >1110716.796679</td>\n",
              "                        <td id=\"T_276f94b6_1f3a_11eb_9b24_0242ac1c0002row6_col2\" class=\"data row6 col2\" >1235090.000000</td>\n",
              "                        <td id=\"T_276f94b6_1f3a_11eb_9b24_0242ac1c0002row6_col3\" class=\"data row6 col3\" >1235477.137286</td>\n",
              "                        <td id=\"T_276f94b6_1f3a_11eb_9b24_0242ac1c0002row6_col4\" class=\"data row6 col4\" >107788500.000000</td>\n",
              "                        <td id=\"T_276f94b6_1f3a_11eb_9b24_0242ac1c0002row6_col5\" class=\"data row6 col5\" >107779388.780687</td>\n",
              "                        <td id=\"T_276f94b6_1f3a_11eb_9b24_0242ac1c0002row6_col6\" class=\"data row6 col6\" >3026.625000</td>\n",
              "                        <td id=\"T_276f94b6_1f3a_11eb_9b24_0242ac1c0002row6_col7\" class=\"data row6 col7\" >3027.185194</td>\n",
              "                        <td id=\"T_276f94b6_1f3a_11eb_9b24_0242ac1c0002row6_col8\" class=\"data row6 col8\" >1731.750000</td>\n",
              "                        <td id=\"T_276f94b6_1f3a_11eb_9b24_0242ac1c0002row6_col9\" class=\"data row6 col9\" >1731.802118</td>\n",
              "                        <td id=\"T_276f94b6_1f3a_11eb_9b24_0242ac1c0002row6_col10\" class=\"data row6 col10\" >9586.375000</td>\n",
              "                        <td id=\"T_276f94b6_1f3a_11eb_9b24_0242ac1c0002row6_col11\" class=\"data row6 col11\" >9587.518859</td>\n",
              "            </tr>\n",
              "            <tr>\n",
              "                        <th id=\"T_276f94b6_1f3a_11eb_9b24_0242ac1c0002level0_row7\" class=\"row_heading level0 row7\" >2020-05-29 20:53:00</th>\n",
              "                        <td id=\"T_276f94b6_1f3a_11eb_9b24_0242ac1c0002row7_col0\" class=\"data row7 col0\" >1110845.000000</td>\n",
              "                        <td id=\"T_276f94b6_1f3a_11eb_9b24_0242ac1c0002row7_col1\" class=\"data row7 col1\" >1110723.816640</td>\n",
              "                        <td id=\"T_276f94b6_1f3a_11eb_9b24_0242ac1c0002row7_col2\" class=\"data row7 col2\" >1234890.000000</td>\n",
              "                        <td id=\"T_276f94b6_1f3a_11eb_9b24_0242ac1c0002row7_col3\" class=\"data row7 col3\" >1235472.373105</td>\n",
              "                        <td id=\"T_276f94b6_1f3a_11eb_9b24_0242ac1c0002row7_col4\" class=\"data row7 col4\" >107784500.000000</td>\n",
              "                        <td id=\"T_276f94b6_1f3a_11eb_9b24_0242ac1c0002row7_col5\" class=\"data row7 col5\" >107779399.978182</td>\n",
              "                        <td id=\"T_276f94b6_1f3a_11eb_9b24_0242ac1c0002row7_col6\" class=\"data row7 col6\" >3027.000000</td>\n",
              "                        <td id=\"T_276f94b6_1f3a_11eb_9b24_0242ac1c0002row7_col7\" class=\"data row7 col7\" >3027.183327</td>\n",
              "                        <td id=\"T_276f94b6_1f3a_11eb_9b24_0242ac1c0002row7_col8\" class=\"data row7 col8\" >1731.750000</td>\n",
              "                        <td id=\"T_276f94b6_1f3a_11eb_9b24_0242ac1c0002row7_col9\" class=\"data row7 col9\" >1731.801320</td>\n",
              "                        <td id=\"T_276f94b6_1f3a_11eb_9b24_0242ac1c0002row7_col10\" class=\"data row7 col10\" >9587.875000</td>\n",
              "                        <td id=\"T_276f94b6_1f3a_11eb_9b24_0242ac1c0002row7_col11\" class=\"data row7 col11\" >9587.503955</td>\n",
              "            </tr>\n",
              "            <tr>\n",
              "                        <th id=\"T_276f94b6_1f3a_11eb_9b24_0242ac1c0002level0_row8\" class=\"row_heading level0 row8\" >2020-05-29 20:52:00</th>\n",
              "                        <td id=\"T_276f94b6_1f3a_11eb_9b24_0242ac1c0002row8_col0\" class=\"data row8 col0\" >1110745.000000</td>\n",
              "                        <td id=\"T_276f94b6_1f3a_11eb_9b24_0242ac1c0002row8_col1\" class=\"data row8 col1\" >1110702.119943</td>\n",
              "                        <td id=\"T_276f94b6_1f3a_11eb_9b24_0242ac1c0002row8_col2\" class=\"data row8 col2\" >1235140.000000</td>\n",
              "                        <td id=\"T_276f94b6_1f3a_11eb_9b24_0242ac1c0002row8_col3\" class=\"data row8 col3\" >1235486.357076</td>\n",
              "                        <td id=\"T_276f94b6_1f3a_11eb_9b24_0242ac1c0002row8_col4\" class=\"data row8 col4\" >107779000.000000</td>\n",
              "                        <td id=\"T_276f94b6_1f3a_11eb_9b24_0242ac1c0002row8_col5\" class=\"data row8 col5\" >107779373.988008</td>\n",
              "                        <td id=\"T_276f94b6_1f3a_11eb_9b24_0242ac1c0002row8_col6\" class=\"data row8 col6\" >3027.000000</td>\n",
              "                        <td id=\"T_276f94b6_1f3a_11eb_9b24_0242ac1c0002row8_col7\" class=\"data row8 col7\" >3027.195394</td>\n",
              "                        <td id=\"T_276f94b6_1f3a_11eb_9b24_0242ac1c0002row8_col8\" class=\"data row8 col8\" >1731.500000</td>\n",
              "                        <td id=\"T_276f94b6_1f3a_11eb_9b24_0242ac1c0002row8_col9\" class=\"data row8 col9\" >1731.799854</td>\n",
              "                        <td id=\"T_276f94b6_1f3a_11eb_9b24_0242ac1c0002row8_col10\" class=\"data row8 col10\" >9586.875000</td>\n",
              "                        <td id=\"T_276f94b6_1f3a_11eb_9b24_0242ac1c0002row8_col11\" class=\"data row8 col11\" >9587.535450</td>\n",
              "            </tr>\n",
              "            <tr>\n",
              "                        <th id=\"T_276f94b6_1f3a_11eb_9b24_0242ac1c0002level0_row9\" class=\"row_heading level0 row9\" >2020-05-29 20:51:00</th>\n",
              "                        <td id=\"T_276f94b6_1f3a_11eb_9b24_0242ac1c0002row9_col0\" class=\"data row9 col0\" >1110660.000000</td>\n",
              "                        <td id=\"T_276f94b6_1f3a_11eb_9b24_0242ac1c0002row9_col1\" class=\"data row9 col1\" >1110715.042027</td>\n",
              "                        <td id=\"T_276f94b6_1f3a_11eb_9b24_0242ac1c0002row9_col2\" class=\"data row9 col2\" >1235245.000000</td>\n",
              "                        <td id=\"T_276f94b6_1f3a_11eb_9b24_0242ac1c0002row9_col3\" class=\"data row9 col3\" >1235486.470572</td>\n",
              "                        <td id=\"T_276f94b6_1f3a_11eb_9b24_0242ac1c0002row9_col4\" class=\"data row9 col4\" >107773500.000000</td>\n",
              "                        <td id=\"T_276f94b6_1f3a_11eb_9b24_0242ac1c0002row9_col5\" class=\"data row9 col5\" >107779236.574187</td>\n",
              "                        <td id=\"T_276f94b6_1f3a_11eb_9b24_0242ac1c0002row9_col6\" class=\"data row9 col6\" >3027.125000</td>\n",
              "                        <td id=\"T_276f94b6_1f3a_11eb_9b24_0242ac1c0002row9_col7\" class=\"data row9 col7\" >3027.114832</td>\n",
              "                        <td id=\"T_276f94b6_1f3a_11eb_9b24_0242ac1c0002row9_col8\" class=\"data row9 col8\" >1731.850000</td>\n",
              "                        <td id=\"T_276f94b6_1f3a_11eb_9b24_0242ac1c0002row9_col9\" class=\"data row9 col9\" >1731.806088</td>\n",
              "                        <td id=\"T_276f94b6_1f3a_11eb_9b24_0242ac1c0002row9_col10\" class=\"data row9 col10\" >9587.375000</td>\n",
              "                        <td id=\"T_276f94b6_1f3a_11eb_9b24_0242ac1c0002row9_col11\" class=\"data row9 col11\" >9587.274870</td>\n",
              "            </tr>\n",
              "    </tbody></table>"
            ],
            "text/plain": [
              "<pandas.io.formats.style.Styler at 0x7f6a1bd02588>"
            ]
          },
          "metadata": {
            "tags": []
          },
          "execution_count": 135
        }
      ]
    },
    {
      "cell_type": "code",
      "metadata": {
        "id": "e_Dj8A93Qa-w",
        "outputId": "62d01fad-ca8b-44f2-f16e-a339ea64ba66",
        "colab": {
          "base_uri": "https://localhost:8080/",
          "height": 544
        }
      },
      "source": [
        "# EURUSD forcast validation\n",
        "print('EURUSD forcast validation:')\n",
        "m = lag31[['eurusd', 'eurusd_fcast']]\n",
        "m['accuracy'] = round(m.apply(lambda row: row.eurusd_fcast / \n",
        "                                            row.eurusd *100, axis = 1),2)\n",
        "m['accuracy'] = pd.Series([\"{0:.2f}%\".format(val) for val in m['accuracy']], \n",
        "                                     index = m.index)\n",
        "m = m.round(decimals=3)\n",
        "m = m.head(10)\n",
        "def highlight_cols(s):\n",
        "    color = 'yellow'\n",
        "    return 'background-color: %s' % color\n",
        "m.style.applymap(highlight_cols, subset=pd.IndexSlice[:, ['eurusd_fcast']])\n"
      ],
      "execution_count": 136,
      "outputs": [
        {
          "output_type": "stream",
          "text": [
            "EURUSD forcast validation:\n"
          ],
          "name": "stdout"
        },
        {
          "output_type": "stream",
          "text": [
            "/usr/local/lib/python3.6/dist-packages/pyforest/__init__.py:5: SettingWithCopyWarning:\n",
            "\n",
            "\n",
            "A value is trying to be set on a copy of a slice from a DataFrame.\n",
            "Try using .loc[row_indexer,col_indexer] = value instead\n",
            "\n",
            "See the caveats in the documentation: https://pandas.pydata.org/pandas-docs/stable/user_guide/indexing.html#returning-a-view-versus-a-copy\n",
            "\n"
          ],
          "name": "stderr"
        },
        {
          "output_type": "display_data",
          "data": {
            "application/javascript": [
              "\n",
              "        if (window._pyforest_update_imports_cell) { window._pyforest_update_imports_cell('import lightgbm as lgb\\nimport plotly.express as px\\nimport pydot\\nimport tensorflow as tf\\nimport re\\nimport pandas as pd\\nimport sklearn\\nimport tqdm\\nimport matplotlib.pyplot as plt\\nfrom openpyxl import load_workbook\\nfrom sklearn.model_selection import train_test_split\\nimport numpy as np\\nimport plotly as py'); }\n",
              "    "
            ],
            "text/plain": [
              "<IPython.core.display.Javascript object>"
            ]
          },
          "metadata": {
            "tags": []
          }
        },
        {
          "output_type": "stream",
          "text": [
            "/usr/local/lib/python3.6/dist-packages/pyforest/__init__.py:7: SettingWithCopyWarning:\n",
            "\n",
            "\n",
            "A value is trying to be set on a copy of a slice from a DataFrame.\n",
            "Try using .loc[row_indexer,col_indexer] = value instead\n",
            "\n",
            "See the caveats in the documentation: https://pandas.pydata.org/pandas-docs/stable/user_guide/indexing.html#returning-a-view-versus-a-copy\n",
            "\n"
          ],
          "name": "stderr"
        },
        {
          "output_type": "display_data",
          "data": {
            "application/javascript": [
              "\n",
              "        if (window._pyforest_update_imports_cell) { window._pyforest_update_imports_cell('import lightgbm as lgb\\nimport plotly.express as px\\nimport pydot\\nimport tensorflow as tf\\nimport re\\nimport pandas as pd\\nimport sklearn\\nimport tqdm\\nimport matplotlib.pyplot as plt\\nfrom openpyxl import load_workbook\\nfrom sklearn.model_selection import train_test_split\\nimport numpy as np\\nimport plotly as py'); }\n",
              "    "
            ],
            "text/plain": [
              "<IPython.core.display.Javascript object>"
            ]
          },
          "metadata": {
            "tags": []
          }
        },
        {
          "output_type": "execute_result",
          "data": {
            "text/html": [
              "<style  type=\"text/css\" >\n",
              "#T_2774977c_1f3a_11eb_9b24_0242ac1c0002row0_col1,#T_2774977c_1f3a_11eb_9b24_0242ac1c0002row1_col1,#T_2774977c_1f3a_11eb_9b24_0242ac1c0002row2_col1,#T_2774977c_1f3a_11eb_9b24_0242ac1c0002row3_col1,#T_2774977c_1f3a_11eb_9b24_0242ac1c0002row4_col1,#T_2774977c_1f3a_11eb_9b24_0242ac1c0002row5_col1,#T_2774977c_1f3a_11eb_9b24_0242ac1c0002row6_col1,#T_2774977c_1f3a_11eb_9b24_0242ac1c0002row7_col1,#T_2774977c_1f3a_11eb_9b24_0242ac1c0002row8_col1,#T_2774977c_1f3a_11eb_9b24_0242ac1c0002row9_col1{\n",
              "            background-color:  yellow;\n",
              "        }</style><table id=\"T_2774977c_1f3a_11eb_9b24_0242ac1c0002\" ><thead>    <tr>        <th class=\"blank level0\" ></th>        <th class=\"col_heading level0 col0\" >eurusd</th>        <th class=\"col_heading level0 col1\" >eurusd_fcast</th>        <th class=\"col_heading level0 col2\" >accuracy</th>    </tr>    <tr>        <th class=\"index_name level0\" >timestamp</th>        <th class=\"blank\" ></th>        <th class=\"blank\" ></th>        <th class=\"blank\" ></th>    </tr></thead><tbody>\n",
              "                <tr>\n",
              "                        <th id=\"T_2774977c_1f3a_11eb_9b24_0242ac1c0002level0_row0\" class=\"row_heading level0 row0\" >2020-05-29 21:00:00</th>\n",
              "                        <td id=\"T_2774977c_1f3a_11eb_9b24_0242ac1c0002row0_col0\" class=\"data row0 col0\" >1113400.000000</td>\n",
              "                        <td id=\"T_2774977c_1f3a_11eb_9b24_0242ac1c0002row0_col1\" class=\"data row0 col1\" >1110720.673000</td>\n",
              "                        <td id=\"T_2774977c_1f3a_11eb_9b24_0242ac1c0002row0_col2\" class=\"data row0 col2\" >99.76%</td>\n",
              "            </tr>\n",
              "            <tr>\n",
              "                        <th id=\"T_2774977c_1f3a_11eb_9b24_0242ac1c0002level0_row1\" class=\"row_heading level0 row1\" >2020-05-29 20:59:00</th>\n",
              "                        <td id=\"T_2774977c_1f3a_11eb_9b24_0242ac1c0002row1_col0\" class=\"data row1 col0\" >1113400.000000</td>\n",
              "                        <td id=\"T_2774977c_1f3a_11eb_9b24_0242ac1c0002row1_col1\" class=\"data row1 col1\" >1110720.189000</td>\n",
              "                        <td id=\"T_2774977c_1f3a_11eb_9b24_0242ac1c0002row1_col2\" class=\"data row1 col2\" >99.76%</td>\n",
              "            </tr>\n",
              "            <tr>\n",
              "                        <th id=\"T_2774977c_1f3a_11eb_9b24_0242ac1c0002level0_row2\" class=\"row_heading level0 row2\" >2020-05-29 20:58:00</th>\n",
              "                        <td id=\"T_2774977c_1f3a_11eb_9b24_0242ac1c0002row2_col0\" class=\"data row2 col0\" >1111650.000000</td>\n",
              "                        <td id=\"T_2774977c_1f3a_11eb_9b24_0242ac1c0002row2_col1\" class=\"data row2 col1\" >1110719.440000</td>\n",
              "                        <td id=\"T_2774977c_1f3a_11eb_9b24_0242ac1c0002row2_col2\" class=\"data row2 col2\" >99.92%</td>\n",
              "            </tr>\n",
              "            <tr>\n",
              "                        <th id=\"T_2774977c_1f3a_11eb_9b24_0242ac1c0002level0_row3\" class=\"row_heading level0 row3\" >2020-05-29 20:57:00</th>\n",
              "                        <td id=\"T_2774977c_1f3a_11eb_9b24_0242ac1c0002row3_col0\" class=\"data row3 col0\" >1111750.000000</td>\n",
              "                        <td id=\"T_2774977c_1f3a_11eb_9b24_0242ac1c0002row3_col1\" class=\"data row3 col1\" >1110718.920000</td>\n",
              "                        <td id=\"T_2774977c_1f3a_11eb_9b24_0242ac1c0002row3_col2\" class=\"data row3 col2\" >99.91%</td>\n",
              "            </tr>\n",
              "            <tr>\n",
              "                        <th id=\"T_2774977c_1f3a_11eb_9b24_0242ac1c0002level0_row4\" class=\"row_heading level0 row4\" >2020-05-29 20:56:00</th>\n",
              "                        <td id=\"T_2774977c_1f3a_11eb_9b24_0242ac1c0002row4_col0\" class=\"data row4 col0\" >1111740.000000</td>\n",
              "                        <td id=\"T_2774977c_1f3a_11eb_9b24_0242ac1c0002row4_col1\" class=\"data row4 col1\" >1110719.134000</td>\n",
              "                        <td id=\"T_2774977c_1f3a_11eb_9b24_0242ac1c0002row4_col2\" class=\"data row4 col2\" >99.91%</td>\n",
              "            </tr>\n",
              "            <tr>\n",
              "                        <th id=\"T_2774977c_1f3a_11eb_9b24_0242ac1c0002level0_row5\" class=\"row_heading level0 row5\" >2020-05-29 20:55:00</th>\n",
              "                        <td id=\"T_2774977c_1f3a_11eb_9b24_0242ac1c0002row5_col0\" class=\"data row5 col0\" >1110660.000000</td>\n",
              "                        <td id=\"T_2774977c_1f3a_11eb_9b24_0242ac1c0002row5_col1\" class=\"data row5 col1\" >1110716.619000</td>\n",
              "                        <td id=\"T_2774977c_1f3a_11eb_9b24_0242ac1c0002row5_col2\" class=\"data row5 col2\" >100.01%</td>\n",
              "            </tr>\n",
              "            <tr>\n",
              "                        <th id=\"T_2774977c_1f3a_11eb_9b24_0242ac1c0002level0_row6\" class=\"row_heading level0 row6\" >2020-05-29 20:54:00</th>\n",
              "                        <td id=\"T_2774977c_1f3a_11eb_9b24_0242ac1c0002row6_col0\" class=\"data row6 col0\" >1110785.000000</td>\n",
              "                        <td id=\"T_2774977c_1f3a_11eb_9b24_0242ac1c0002row6_col1\" class=\"data row6 col1\" >1110716.797000</td>\n",
              "                        <td id=\"T_2774977c_1f3a_11eb_9b24_0242ac1c0002row6_col2\" class=\"data row6 col2\" >99.99%</td>\n",
              "            </tr>\n",
              "            <tr>\n",
              "                        <th id=\"T_2774977c_1f3a_11eb_9b24_0242ac1c0002level0_row7\" class=\"row_heading level0 row7\" >2020-05-29 20:53:00</th>\n",
              "                        <td id=\"T_2774977c_1f3a_11eb_9b24_0242ac1c0002row7_col0\" class=\"data row7 col0\" >1110845.000000</td>\n",
              "                        <td id=\"T_2774977c_1f3a_11eb_9b24_0242ac1c0002row7_col1\" class=\"data row7 col1\" >1110723.817000</td>\n",
              "                        <td id=\"T_2774977c_1f3a_11eb_9b24_0242ac1c0002row7_col2\" class=\"data row7 col2\" >99.99%</td>\n",
              "            </tr>\n",
              "            <tr>\n",
              "                        <th id=\"T_2774977c_1f3a_11eb_9b24_0242ac1c0002level0_row8\" class=\"row_heading level0 row8\" >2020-05-29 20:52:00</th>\n",
              "                        <td id=\"T_2774977c_1f3a_11eb_9b24_0242ac1c0002row8_col0\" class=\"data row8 col0\" >1110745.000000</td>\n",
              "                        <td id=\"T_2774977c_1f3a_11eb_9b24_0242ac1c0002row8_col1\" class=\"data row8 col1\" >1110702.120000</td>\n",
              "                        <td id=\"T_2774977c_1f3a_11eb_9b24_0242ac1c0002row8_col2\" class=\"data row8 col2\" >100.00%</td>\n",
              "            </tr>\n",
              "            <tr>\n",
              "                        <th id=\"T_2774977c_1f3a_11eb_9b24_0242ac1c0002level0_row9\" class=\"row_heading level0 row9\" >2020-05-29 20:51:00</th>\n",
              "                        <td id=\"T_2774977c_1f3a_11eb_9b24_0242ac1c0002row9_col0\" class=\"data row9 col0\" >1110660.000000</td>\n",
              "                        <td id=\"T_2774977c_1f3a_11eb_9b24_0242ac1c0002row9_col1\" class=\"data row9 col1\" >1110715.042000</td>\n",
              "                        <td id=\"T_2774977c_1f3a_11eb_9b24_0242ac1c0002row9_col2\" class=\"data row9 col2\" >100.00%</td>\n",
              "            </tr>\n",
              "    </tbody></table>"
            ],
            "text/plain": [
              "<pandas.io.formats.style.Styler at 0x7f6a1b9b9320>"
            ]
          },
          "metadata": {
            "tags": []
          },
          "execution_count": 136
        }
      ]
    },
    {
      "cell_type": "code",
      "metadata": {
        "id": "ILGTlb4BQogu",
        "outputId": "23b5e8bb-fb25-4c22-e887-05c573c258a6",
        "colab": {
          "base_uri": "https://localhost:8080/",
          "height": 134
        }
      },
      "source": [
        "# Accuracy metrics\n",
        "from sklearn.metrics import r2_score, mean_absolute_error, mean_squared_error, mean_absolute_error, mean_squared_log_error\n",
        "\n",
        "# score EURUSD\n",
        "mae = mean_absolute_error(lag31.eurusd, lag31.eurusd_fcast)\n",
        "mse = mean_squared_error(lag31.eurusd, lag31.eurusd_fcast)\n",
        "rmse = np.sqrt(mse)\n",
        "mape = np.mean(np.abs((lag31['eurusd'].values - lag31['eurusd_fcast'].values) / lag31['eurusd'].values)) * 100\n",
        "msle = mean_squared_log_error(lag31.eurusd, lag31.eurusd_fcast)\n",
        "sum = DataFrame(index = ['Mean Absolute Error', 'Mean squared error', 'Root mean squared error',\n",
        "                            'Mean absolute % error','Mean squared log Error'])\n",
        "sum['Accuracy metrics :    EURUSD'] = [mae, mse, rmse, mape, msle]\n",
        "\n",
        "# score GBPUSD\n",
        "mae = mean_absolute_error(lag31.gbpusd, lag31.gbpusd_fcast)\n",
        "mse = mean_squared_error(lag31.gbpusd, lag31.gbpusd_fcast)\n",
        "rmse = np.sqrt(mse)\n",
        "mape = np.mean(np.abs((lag31['gbpusd'].values - lag31['gbpusd_fcast'].values) / lag31['gbpusd'].values)) * 100\n",
        "msle = mean_squared_log_error(lag31.gbpusd, lag31.gbpusd_fcast)\n",
        "sum['GBPUSD'] = [mae, mse, rmse, mape, msle]\n",
        "\n",
        "# score USDJPY\n",
        "mae = mean_absolute_error(lag31.usdjpy, lag31.usdjpy_fcast)\n",
        "mse = mean_squared_error(lag31.usdjpy, lag31.usdjpy_fcast)\n",
        "rmse = np.sqrt(mse)\n",
        "mape = np.mean(np.abs((lag31['usdjpy'].values - lag31['usdjpy_fcast'].values) / lag31['usdjpy'].values)) * 100\n",
        "msle = mean_squared_log_error(lag31.usdjpy, lag31.usdjpy_fcast)\n",
        "sum['USDJPY'] = [mae, mse, rmse, mape, msle]\n",
        "\n",
        "# score NQ\n",
        "mae = mean_absolute_error(lag31.nq, lag31.nq_fcast)\n",
        "mse = mean_squared_error(lag31.nq, lag31.nq_fcast)\n",
        "rmse = np.sqrt(mse)\n",
        "mape = np.mean(np.abs((lag31['nq'].values - lag31['nq_fcast'].values) / lag31['nq'].values)) * 100\n",
        "msle = mean_squared_log_error(lag31.nq, lag31.nq_fcast)\n",
        "sum['NQ'] = [mae, mse, rmse, mape, msle]\n",
        "\n",
        "# score ES\n",
        "mae = mean_absolute_error(lag31.es, lag31.es_fcast)\n",
        "mse = mean_squared_error(lag31.es, lag31.es_fcast)\n",
        "rmse = np.sqrt(mse)\n",
        "mape = np.mean(np.abs((lag31['es'].values - lag31['es_fcast'].values) / lag31['es'].values)) * 100\n",
        "msle = mean_squared_log_error(lag31.es, lag31.es_fcast)\n",
        "sum['ES'] = [mae, mse, rmse, mape, msle]\n",
        "\n",
        "# score GC\n",
        "mae = mean_absolute_error(lag31.gc, lag31.gc_fcast)\n",
        "mse = mean_squared_error(lag31.gc, lag31.gc_fcast)\n",
        "rmse = np.sqrt(mse)\n",
        "mape = np.mean(np.abs((lag31['gc'].values - lag31['gc_fcast'].values) / lag31['gc'].values)) * 100\n",
        "msle = mean_squared_log_error(lag31.gc, lag31.gc_fcast)\n",
        "sum['GC'] = [mae, mse, rmse, mape, msle]\n",
        "print('Accuracy metrics:')\n",
        "print(sum)\n"
      ],
      "execution_count": 137,
      "outputs": [
        {
          "output_type": "display_data",
          "data": {
            "application/javascript": [
              "\n",
              "        if (window._pyforest_update_imports_cell) { window._pyforest_update_imports_cell('import lightgbm as lgb\\nimport plotly.express as px\\nimport pydot\\nimport tensorflow as tf\\nimport re\\nimport pandas as pd\\nimport sklearn\\nimport tqdm\\nimport matplotlib.pyplot as plt\\nfrom openpyxl import load_workbook\\nfrom sklearn.model_selection import train_test_split\\nimport numpy as np\\nimport plotly as py'); }\n",
              "    "
            ],
            "text/plain": [
              "<IPython.core.display.Javascript object>"
            ]
          },
          "metadata": {
            "tags": []
          }
        },
        {
          "output_type": "display_data",
          "data": {
            "application/javascript": [
              "\n",
              "        if (window._pyforest_update_imports_cell) { window._pyforest_update_imports_cell('import lightgbm as lgb\\nimport plotly.express as px\\nimport pydot\\nimport tensorflow as tf\\nimport re\\nimport pandas as pd\\nimport sklearn\\nimport tqdm\\nimport matplotlib.pyplot as plt\\nfrom openpyxl import load_workbook\\nfrom sklearn.model_selection import train_test_split\\nimport numpy as np\\nimport plotly as py'); }\n",
              "    "
            ],
            "text/plain": [
              "<IPython.core.display.Javascript object>"
            ]
          },
          "metadata": {
            "tags": []
          }
        },
        {
          "output_type": "display_data",
          "data": {
            "application/javascript": [
              "\n",
              "        if (window._pyforest_update_imports_cell) { window._pyforest_update_imports_cell('import lightgbm as lgb\\nimport plotly.express as px\\nimport pydot\\nimport tensorflow as tf\\nimport re\\nimport pandas as pd\\nimport sklearn\\nimport tqdm\\nimport matplotlib.pyplot as plt\\nfrom openpyxl import load_workbook\\nfrom sklearn.model_selection import train_test_split\\nimport numpy as np\\nimport plotly as py'); }\n",
              "    "
            ],
            "text/plain": [
              "<IPython.core.display.Javascript object>"
            ]
          },
          "metadata": {
            "tags": []
          }
        },
        {
          "output_type": "display_data",
          "data": {
            "application/javascript": [
              "\n",
              "        if (window._pyforest_update_imports_cell) { window._pyforest_update_imports_cell('import lightgbm as lgb\\nimport plotly.express as px\\nimport pydot\\nimport tensorflow as tf\\nimport re\\nimport pandas as pd\\nimport sklearn\\nimport tqdm\\nimport matplotlib.pyplot as plt\\nfrom openpyxl import load_workbook\\nfrom sklearn.model_selection import train_test_split\\nimport numpy as np\\nimport plotly as py'); }\n",
              "    "
            ],
            "text/plain": [
              "<IPython.core.display.Javascript object>"
            ]
          },
          "metadata": {
            "tags": []
          }
        },
        {
          "output_type": "display_data",
          "data": {
            "application/javascript": [
              "\n",
              "        if (window._pyforest_update_imports_cell) { window._pyforest_update_imports_cell('import lightgbm as lgb\\nimport plotly.express as px\\nimport pydot\\nimport tensorflow as tf\\nimport re\\nimport pandas as pd\\nimport sklearn\\nimport tqdm\\nimport matplotlib.pyplot as plt\\nfrom openpyxl import load_workbook\\nfrom sklearn.model_selection import train_test_split\\nimport numpy as np\\nimport plotly as py'); }\n",
              "    "
            ],
            "text/plain": [
              "<IPython.core.display.Javascript object>"
            ]
          },
          "metadata": {
            "tags": []
          }
        },
        {
          "output_type": "display_data",
          "data": {
            "application/javascript": [
              "\n",
              "        if (window._pyforest_update_imports_cell) { window._pyforest_update_imports_cell('import lightgbm as lgb\\nimport plotly.express as px\\nimport pydot\\nimport tensorflow as tf\\nimport re\\nimport pandas as pd\\nimport sklearn\\nimport tqdm\\nimport matplotlib.pyplot as plt\\nfrom openpyxl import load_workbook\\nfrom sklearn.model_selection import train_test_split\\nimport numpy as np\\nimport plotly as py'); }\n",
              "    "
            ],
            "text/plain": [
              "<IPython.core.display.Javascript object>"
            ]
          },
          "metadata": {
            "tags": []
          }
        },
        {
          "output_type": "display_data",
          "data": {
            "application/javascript": [
              "\n",
              "        if (window._pyforest_update_imports_cell) { window._pyforest_update_imports_cell('import lightgbm as lgb\\nimport plotly.express as px\\nimport pydot\\nimport tensorflow as tf\\nimport re\\nimport pandas as pd\\nimport sklearn\\nimport tqdm\\nimport matplotlib.pyplot as plt\\nfrom openpyxl import load_workbook\\nfrom sklearn.model_selection import train_test_split\\nimport numpy as np\\nimport plotly as py'); }\n",
              "    "
            ],
            "text/plain": [
              "<IPython.core.display.Javascript object>"
            ]
          },
          "metadata": {
            "tags": []
          }
        },
        {
          "output_type": "display_data",
          "data": {
            "application/javascript": [
              "\n",
              "        if (window._pyforest_update_imports_cell) { window._pyforest_update_imports_cell('import lightgbm as lgb\\nimport plotly.express as px\\nimport pydot\\nimport tensorflow as tf\\nimport re\\nimport pandas as pd\\nimport sklearn\\nimport tqdm\\nimport matplotlib.pyplot as plt\\nfrom openpyxl import load_workbook\\nfrom sklearn.model_selection import train_test_split\\nimport numpy as np\\nimport plotly as py'); }\n",
              "    "
            ],
            "text/plain": [
              "<IPython.core.display.Javascript object>"
            ]
          },
          "metadata": {
            "tags": []
          }
        },
        {
          "output_type": "display_data",
          "data": {
            "application/javascript": [
              "\n",
              "        if (window._pyforest_update_imports_cell) { window._pyforest_update_imports_cell('import lightgbm as lgb\\nimport plotly.express as px\\nimport pydot\\nimport tensorflow as tf\\nimport re\\nimport pandas as pd\\nimport sklearn\\nimport tqdm\\nimport matplotlib.pyplot as plt\\nfrom openpyxl import load_workbook\\nfrom sklearn.model_selection import train_test_split\\nimport numpy as np\\nimport plotly as py'); }\n",
              "    "
            ],
            "text/plain": [
              "<IPython.core.display.Javascript object>"
            ]
          },
          "metadata": {
            "tags": []
          }
        },
        {
          "output_type": "display_data",
          "data": {
            "application/javascript": [
              "\n",
              "        if (window._pyforest_update_imports_cell) { window._pyforest_update_imports_cell('import lightgbm as lgb\\nimport plotly.express as px\\nimport pydot\\nimport tensorflow as tf\\nimport re\\nimport pandas as pd\\nimport sklearn\\nimport tqdm\\nimport matplotlib.pyplot as plt\\nfrom openpyxl import load_workbook\\nfrom sklearn.model_selection import train_test_split\\nimport numpy as np\\nimport plotly as py'); }\n",
              "    "
            ],
            "text/plain": [
              "<IPython.core.display.Javascript object>"
            ]
          },
          "metadata": {
            "tags": []
          }
        },
        {
          "output_type": "display_data",
          "data": {
            "application/javascript": [
              "\n",
              "        if (window._pyforest_update_imports_cell) { window._pyforest_update_imports_cell('import lightgbm as lgb\\nimport plotly.express as px\\nimport pydot\\nimport tensorflow as tf\\nimport re\\nimport pandas as pd\\nimport sklearn\\nimport tqdm\\nimport matplotlib.pyplot as plt\\nfrom openpyxl import load_workbook\\nfrom sklearn.model_selection import train_test_split\\nimport numpy as np\\nimport plotly as py'); }\n",
              "    "
            ],
            "text/plain": [
              "<IPython.core.display.Javascript object>"
            ]
          },
          "metadata": {
            "tags": []
          }
        },
        {
          "output_type": "display_data",
          "data": {
            "application/javascript": [
              "\n",
              "        if (window._pyforest_update_imports_cell) { window._pyforest_update_imports_cell('import lightgbm as lgb\\nimport plotly.express as px\\nimport pydot\\nimport tensorflow as tf\\nimport re\\nimport pandas as pd\\nimport sklearn\\nimport tqdm\\nimport matplotlib.pyplot as plt\\nfrom openpyxl import load_workbook\\nfrom sklearn.model_selection import train_test_split\\nimport numpy as np\\nimport plotly as py'); }\n",
              "    "
            ],
            "text/plain": [
              "<IPython.core.display.Javascript object>"
            ]
          },
          "metadata": {
            "tags": []
          }
        },
        {
          "output_type": "display_data",
          "data": {
            "application/javascript": [
              "\n",
              "        if (window._pyforest_update_imports_cell) { window._pyforest_update_imports_cell('import lightgbm as lgb\\nimport plotly.express as px\\nimport pydot\\nimport tensorflow as tf\\nimport re\\nimport pandas as pd\\nimport sklearn\\nimport tqdm\\nimport matplotlib.pyplot as plt\\nfrom openpyxl import load_workbook\\nfrom sklearn.model_selection import train_test_split\\nimport numpy as np\\nimport plotly as py'); }\n",
              "    "
            ],
            "text/plain": [
              "<IPython.core.display.Javascript object>"
            ]
          },
          "metadata": {
            "tags": []
          }
        },
        {
          "output_type": "display_data",
          "data": {
            "application/javascript": [
              "\n",
              "        if (window._pyforest_update_imports_cell) { window._pyforest_update_imports_cell('import lightgbm as lgb\\nimport plotly.express as px\\nimport pydot\\nimport tensorflow as tf\\nimport re\\nimport pandas as pd\\nimport sklearn\\nimport tqdm\\nimport matplotlib.pyplot as plt\\nfrom openpyxl import load_workbook\\nfrom sklearn.model_selection import train_test_split\\nimport numpy as np\\nimport plotly as py'); }\n",
              "    "
            ],
            "text/plain": [
              "<IPython.core.display.Javascript object>"
            ]
          },
          "metadata": {
            "tags": []
          }
        },
        {
          "output_type": "display_data",
          "data": {
            "application/javascript": [
              "\n",
              "        if (window._pyforest_update_imports_cell) { window._pyforest_update_imports_cell('import lightgbm as lgb\\nimport plotly.express as px\\nimport pydot\\nimport tensorflow as tf\\nimport re\\nimport pandas as pd\\nimport sklearn\\nimport tqdm\\nimport matplotlib.pyplot as plt\\nfrom openpyxl import load_workbook\\nfrom sklearn.model_selection import train_test_split\\nimport numpy as np\\nimport plotly as py'); }\n",
              "    "
            ],
            "text/plain": [
              "<IPython.core.display.Javascript object>"
            ]
          },
          "metadata": {
            "tags": []
          }
        },
        {
          "output_type": "display_data",
          "data": {
            "application/javascript": [
              "\n",
              "        if (window._pyforest_update_imports_cell) { window._pyforest_update_imports_cell('import lightgbm as lgb\\nimport plotly.express as px\\nimport pydot\\nimport tensorflow as tf\\nimport re\\nimport pandas as pd\\nimport sklearn\\nimport tqdm\\nimport matplotlib.pyplot as plt\\nfrom openpyxl import load_workbook\\nfrom sklearn.model_selection import train_test_split\\nimport numpy as np\\nimport plotly as py'); }\n",
              "    "
            ],
            "text/plain": [
              "<IPython.core.display.Javascript object>"
            ]
          },
          "metadata": {
            "tags": []
          }
        },
        {
          "output_type": "display_data",
          "data": {
            "application/javascript": [
              "\n",
              "        if (window._pyforest_update_imports_cell) { window._pyforest_update_imports_cell('import lightgbm as lgb\\nimport plotly.express as px\\nimport pydot\\nimport tensorflow as tf\\nimport re\\nimport pandas as pd\\nimport sklearn\\nimport tqdm\\nimport matplotlib.pyplot as plt\\nfrom openpyxl import load_workbook\\nfrom sklearn.model_selection import train_test_split\\nimport numpy as np\\nimport plotly as py'); }\n",
              "    "
            ],
            "text/plain": [
              "<IPython.core.display.Javascript object>"
            ]
          },
          "metadata": {
            "tags": []
          }
        },
        {
          "output_type": "display_data",
          "data": {
            "application/javascript": [
              "\n",
              "        if (window._pyforest_update_imports_cell) { window._pyforest_update_imports_cell('import lightgbm as lgb\\nimport plotly.express as px\\nimport pydot\\nimport tensorflow as tf\\nimport re\\nimport pandas as pd\\nimport sklearn\\nimport tqdm\\nimport matplotlib.pyplot as plt\\nfrom openpyxl import load_workbook\\nfrom sklearn.model_selection import train_test_split\\nimport numpy as np\\nimport plotly as py'); }\n",
              "    "
            ],
            "text/plain": [
              "<IPython.core.display.Javascript object>"
            ]
          },
          "metadata": {
            "tags": []
          }
        },
        {
          "output_type": "stream",
          "text": [
            "Accuracy metrics:\n",
            "                         Accuracy metrics :    EURUSD    GBPUSD        USDJPY   NQ   ES   GC\n",
            "Mean Absolute Error                            868.56    386.78      34983.03 0.92 0.13 0.29\n",
            "Mean squared error                         1735882.38 372681.25 2249267212.82 1.68 0.04 0.12\n",
            "Root mean squared error                       1317.53    610.48      47426.44 1.30 0.21 0.35\n",
            "Mean absolute % error                            0.08      0.03          0.03 0.01 0.00 0.02\n",
            "Mean squared log Error                           0.00      0.00          0.00 0.00 0.00 0.00\n"
          ],
          "name": "stdout"
        }
      ]
    }
  ]
}
