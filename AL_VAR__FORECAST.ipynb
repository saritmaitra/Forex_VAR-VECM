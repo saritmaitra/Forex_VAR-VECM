{
  "nbformat": 4,
  "nbformat_minor": 0,
  "metadata": {
    "colab": {
      "name": "AL_VAR_ FORECAST.ipynb",
      "provenance": [],
      "collapsed_sections": [],
      "authorship_tag": "ABX9TyNiPsBXFSNhBa+pEBkOffxC",
      "include_colab_link": true
    },
    "kernelspec": {
      "name": "python3",
      "display_name": "Python 3"
    },
    "accelerator": "GPU"
  },
  "cells": [
    {
      "cell_type": "markdown",
      "metadata": {
        "id": "view-in-github",
        "colab_type": "text"
      },
      "source": [
        "<a href=\"https://colab.research.google.com/github/saritmaitra/AL-VAR-VECM-/blob/main/AL_VAR__FORECAST.ipynb\" target=\"_parent\"><img src=\"https://colab.research.google.com/assets/colab-badge.svg\" alt=\"Open In Colab\"/></a>"
      ]
    },
    {
      "cell_type": "code",
      "metadata": {
        "id": "m4S1KhHqeKqi",
        "outputId": "c8f08620-fdae-4e02-e318-65d0770b4847",
        "colab": {
          "base_uri": "https://localhost:8080/"
        }
      },
      "source": [
        "!pip install pyforest\n",
        "from pyforest import *\n",
        "import datetime, pickle, copy, warnings\n",
        "from pandas import DataFrame, merge, concat"
      ],
      "execution_count": 1,
      "outputs": [
        {
          "output_type": "stream",
          "text": [
            "Collecting pyforest\n",
            "  Downloading https://files.pythonhosted.org/packages/8f/85/77a9d2d9ff240822039f3dfd7a3b374d0621a0df5feb5d270a2151f6bb6d/pyforest-1.0.3.tar.gz\n",
            "Building wheels for collected packages: pyforest\n",
            "  Building wheel for pyforest (setup.py) ... \u001b[?25l\u001b[?25hdone\n",
            "  Created wheel for pyforest: filename=pyforest-1.0.3-py2.py3-none-any.whl size=13716 sha256=42522cc51be9c2ba76ad5c25d4b1262da48459778076a527854a760f2bf04c74\n",
            "  Stored in directory: /root/.cache/pip/wheels/af/0b/39/340a7f15fc8d4ff5ab50847b28789afea04452a9d51b9721b5\n",
            "Successfully built pyforest\n",
            "Installing collected packages: pyforest\n",
            "Successfully installed pyforest-1.0.3\n"
          ],
          "name": "stdout"
        }
      ]
    },
    {
      "cell_type": "code",
      "metadata": {
        "id": "Vk1Qu4zreWjK",
        "outputId": "05a36f71-1dab-4c16-b379-d101104abe14",
        "colab": {
          "resources": {
            "http://localhost:8080/nbextensions/google.colab/files.js": {
              "data": "Ly8gQ29weXJpZ2h0IDIwMTcgR29vZ2xlIExMQwovLwovLyBMaWNlbnNlZCB1bmRlciB0aGUgQXBhY2hlIExpY2Vuc2UsIFZlcnNpb24gMi4wICh0aGUgIkxpY2Vuc2UiKTsKLy8geW91IG1heSBub3QgdXNlIHRoaXMgZmlsZSBleGNlcHQgaW4gY29tcGxpYW5jZSB3aXRoIHRoZSBMaWNlbnNlLgovLyBZb3UgbWF5IG9idGFpbiBhIGNvcHkgb2YgdGhlIExpY2Vuc2UgYXQKLy8KLy8gICAgICBodHRwOi8vd3d3LmFwYWNoZS5vcmcvbGljZW5zZXMvTElDRU5TRS0yLjAKLy8KLy8gVW5sZXNzIHJlcXVpcmVkIGJ5IGFwcGxpY2FibGUgbGF3IG9yIGFncmVlZCB0byBpbiB3cml0aW5nLCBzb2Z0d2FyZQovLyBkaXN0cmlidXRlZCB1bmRlciB0aGUgTGljZW5zZSBpcyBkaXN0cmlidXRlZCBvbiBhbiAiQVMgSVMiIEJBU0lTLAovLyBXSVRIT1VUIFdBUlJBTlRJRVMgT1IgQ09ORElUSU9OUyBPRiBBTlkgS0lORCwgZWl0aGVyIGV4cHJlc3Mgb3IgaW1wbGllZC4KLy8gU2VlIHRoZSBMaWNlbnNlIGZvciB0aGUgc3BlY2lmaWMgbGFuZ3VhZ2UgZ292ZXJuaW5nIHBlcm1pc3Npb25zIGFuZAovLyBsaW1pdGF0aW9ucyB1bmRlciB0aGUgTGljZW5zZS4KCi8qKgogKiBAZmlsZW92ZXJ2aWV3IEhlbHBlcnMgZm9yIGdvb2dsZS5jb2xhYiBQeXRob24gbW9kdWxlLgogKi8KKGZ1bmN0aW9uKHNjb3BlKSB7CmZ1bmN0aW9uIHNwYW4odGV4dCwgc3R5bGVBdHRyaWJ1dGVzID0ge30pIHsKICBjb25zdCBlbGVtZW50ID0gZG9jdW1lbnQuY3JlYXRlRWxlbWVudCgnc3BhbicpOwogIGVsZW1lbnQudGV4dENvbnRlbnQgPSB0ZXh0OwogIGZvciAoY29uc3Qga2V5IG9mIE9iamVjdC5rZXlzKHN0eWxlQXR0cmlidXRlcykpIHsKICAgIGVsZW1lbnQuc3R5bGVba2V5XSA9IHN0eWxlQXR0cmlidXRlc1trZXldOwogIH0KICByZXR1cm4gZWxlbWVudDsKfQoKLy8gTWF4IG51bWJlciBvZiBieXRlcyB3aGljaCB3aWxsIGJlIHVwbG9hZGVkIGF0IGEgdGltZS4KY29uc3QgTUFYX1BBWUxPQURfU0laRSA9IDEwMCAqIDEwMjQ7CgpmdW5jdGlvbiBfdXBsb2FkRmlsZXMoaW5wdXRJZCwgb3V0cHV0SWQpIHsKICBjb25zdCBzdGVwcyA9IHVwbG9hZEZpbGVzU3RlcChpbnB1dElkLCBvdXRwdXRJZCk7CiAgY29uc3Qgb3V0cHV0RWxlbWVudCA9IGRvY3VtZW50LmdldEVsZW1lbnRCeUlkKG91dHB1dElkKTsKICAvLyBDYWNoZSBzdGVwcyBvbiB0aGUgb3V0cHV0RWxlbWVudCB0byBtYWtlIGl0IGF2YWlsYWJsZSBmb3IgdGhlIG5leHQgY2FsbAogIC8vIHRvIHVwbG9hZEZpbGVzQ29udGludWUgZnJvbSBQeXRob24uCiAgb3V0cHV0RWxlbWVudC5zdGVwcyA9IHN0ZXBzOwoKICByZXR1cm4gX3VwbG9hZEZpbGVzQ29udGludWUob3V0cHV0SWQpOwp9CgovLyBUaGlzIGlzIHJvdWdobHkgYW4gYXN5bmMgZ2VuZXJhdG9yIChub3Qgc3VwcG9ydGVkIGluIHRoZSBicm93c2VyIHlldCksCi8vIHdoZXJlIHRoZXJlIGFyZSBtdWx0aXBsZSBhc3luY2hyb25vdXMgc3RlcHMgYW5kIHRoZSBQeXRob24gc2lkZSBpcyBnb2luZwovLyB0byBwb2xsIGZvciBjb21wbGV0aW9uIG9mIGVhY2ggc3RlcC4KLy8gVGhpcyB1c2VzIGEgUHJvbWlzZSB0byBibG9jayB0aGUgcHl0aG9uIHNpZGUgb24gY29tcGxldGlvbiBvZiBlYWNoIHN0ZXAsCi8vIHRoZW4gcGFzc2VzIHRoZSByZXN1bHQgb2YgdGhlIHByZXZpb3VzIHN0ZXAgYXMgdGhlIGlucHV0IHRvIHRoZSBuZXh0IHN0ZXAuCmZ1bmN0aW9uIF91cGxvYWRGaWxlc0NvbnRpbnVlKG91dHB1dElkKSB7CiAgY29uc3Qgb3V0cHV0RWxlbWVudCA9IGRvY3VtZW50LmdldEVsZW1lbnRCeUlkKG91dHB1dElkKTsKICBjb25zdCBzdGVwcyA9IG91dHB1dEVsZW1lbnQuc3RlcHM7CgogIGNvbnN0IG5leHQgPSBzdGVwcy5uZXh0KG91dHB1dEVsZW1lbnQubGFzdFByb21pc2VWYWx1ZSk7CiAgcmV0dXJuIFByb21pc2UucmVzb2x2ZShuZXh0LnZhbHVlLnByb21pc2UpLnRoZW4oKHZhbHVlKSA9PiB7CiAgICAvLyBDYWNoZSB0aGUgbGFzdCBwcm9taXNlIHZhbHVlIHRvIG1ha2UgaXQgYXZhaWxhYmxlIHRvIHRoZSBuZXh0CiAgICAvLyBzdGVwIG9mIHRoZSBnZW5lcmF0b3IuCiAgICBvdXRwdXRFbGVtZW50Lmxhc3RQcm9taXNlVmFsdWUgPSB2YWx1ZTsKICAgIHJldHVybiBuZXh0LnZhbHVlLnJlc3BvbnNlOwogIH0pOwp9CgovKioKICogR2VuZXJhdG9yIGZ1bmN0aW9uIHdoaWNoIGlzIGNhbGxlZCBiZXR3ZWVuIGVhY2ggYXN5bmMgc3RlcCBvZiB0aGUgdXBsb2FkCiAqIHByb2Nlc3MuCiAqIEBwYXJhbSB7c3RyaW5nfSBpbnB1dElkIEVsZW1lbnQgSUQgb2YgdGhlIGlucHV0IGZpbGUgcGlja2VyIGVsZW1lbnQuCiAqIEBwYXJhbSB7c3RyaW5nfSBvdXRwdXRJZCBFbGVtZW50IElEIG9mIHRoZSBvdXRwdXQgZGlzcGxheS4KICogQHJldHVybiB7IUl0ZXJhYmxlPCFPYmplY3Q+fSBJdGVyYWJsZSBvZiBuZXh0IHN0ZXBzLgogKi8KZnVuY3Rpb24qIHVwbG9hZEZpbGVzU3RlcChpbnB1dElkLCBvdXRwdXRJZCkgewogIGNvbnN0IGlucHV0RWxlbWVudCA9IGRvY3VtZW50LmdldEVsZW1lbnRCeUlkKGlucHV0SWQpOwogIGlucHV0RWxlbWVudC5kaXNhYmxlZCA9IGZhbHNlOwoKICBjb25zdCBvdXRwdXRFbGVtZW50ID0gZG9jdW1lbnQuZ2V0RWxlbWVudEJ5SWQob3V0cHV0SWQpOwogIG91dHB1dEVsZW1lbnQuaW5uZXJIVE1MID0gJyc7CgogIGNvbnN0IHBpY2tlZFByb21pc2UgPSBuZXcgUHJvbWlzZSgocmVzb2x2ZSkgPT4gewogICAgaW5wdXRFbGVtZW50LmFkZEV2ZW50TGlzdGVuZXIoJ2NoYW5nZScsIChlKSA9PiB7CiAgICAgIHJlc29sdmUoZS50YXJnZXQuZmlsZXMpOwogICAgfSk7CiAgfSk7CgogIGNvbnN0IGNhbmNlbCA9IGRvY3VtZW50LmNyZWF0ZUVsZW1lbnQoJ2J1dHRvbicpOwogIGlucHV0RWxlbWVudC5wYXJlbnRFbGVtZW50LmFwcGVuZENoaWxkKGNhbmNlbCk7CiAgY2FuY2VsLnRleHRDb250ZW50ID0gJ0NhbmNlbCB1cGxvYWQnOwogIGNvbnN0IGNhbmNlbFByb21pc2UgPSBuZXcgUHJvbWlzZSgocmVzb2x2ZSkgPT4gewogICAgY2FuY2VsLm9uY2xpY2sgPSAoKSA9PiB7CiAgICAgIHJlc29sdmUobnVsbCk7CiAgICB9OwogIH0pOwoKICAvLyBXYWl0IGZvciB0aGUgdXNlciB0byBwaWNrIHRoZSBmaWxlcy4KICBjb25zdCBmaWxlcyA9IHlpZWxkIHsKICAgIHByb21pc2U6IFByb21pc2UucmFjZShbcGlja2VkUHJvbWlzZSwgY2FuY2VsUHJvbWlzZV0pLAogICAgcmVzcG9uc2U6IHsKICAgICAgYWN0aW9uOiAnc3RhcnRpbmcnLAogICAgfQogIH07CgogIGNhbmNlbC5yZW1vdmUoKTsKCiAgLy8gRGlzYWJsZSB0aGUgaW5wdXQgZWxlbWVudCBzaW5jZSBmdXJ0aGVyIHBpY2tzIGFyZSBub3QgYWxsb3dlZC4KICBpbnB1dEVsZW1lbnQuZGlzYWJsZWQgPSB0cnVlOwoKICBpZiAoIWZpbGVzKSB7CiAgICByZXR1cm4gewogICAgICByZXNwb25zZTogewogICAgICAgIGFjdGlvbjogJ2NvbXBsZXRlJywKICAgICAgfQogICAgfTsKICB9CgogIGZvciAoY29uc3QgZmlsZSBvZiBmaWxlcykgewogICAgY29uc3QgbGkgPSBkb2N1bWVudC5jcmVhdGVFbGVtZW50KCdsaScpOwogICAgbGkuYXBwZW5kKHNwYW4oZmlsZS5uYW1lLCB7Zm9udFdlaWdodDogJ2JvbGQnfSkpOwogICAgbGkuYXBwZW5kKHNwYW4oCiAgICAgICAgYCgke2ZpbGUudHlwZSB8fCAnbi9hJ30pIC0gJHtmaWxlLnNpemV9IGJ5dGVzLCBgICsKICAgICAgICBgbGFzdCBtb2RpZmllZDogJHsKICAgICAgICAgICAgZmlsZS5sYXN0TW9kaWZpZWREYXRlID8gZmlsZS5sYXN0TW9kaWZpZWREYXRlLnRvTG9jYWxlRGF0ZVN0cmluZygpIDoKICAgICAgICAgICAgICAgICAgICAgICAgICAgICAgICAgICAgJ24vYSd9IC0gYCkpOwogICAgY29uc3QgcGVyY2VudCA9IHNwYW4oJzAlIGRvbmUnKTsKICAgIGxpLmFwcGVuZENoaWxkKHBlcmNlbnQpOwoKICAgIG91dHB1dEVsZW1lbnQuYXBwZW5kQ2hpbGQobGkpOwoKICAgIGNvbnN0IGZpbGVEYXRhUHJvbWlzZSA9IG5ldyBQcm9taXNlKChyZXNvbHZlKSA9PiB7CiAgICAgIGNvbnN0IHJlYWRlciA9IG5ldyBGaWxlUmVhZGVyKCk7CiAgICAgIHJlYWRlci5vbmxvYWQgPSAoZSkgPT4gewogICAgICAgIHJlc29sdmUoZS50YXJnZXQucmVzdWx0KTsKICAgICAgfTsKICAgICAgcmVhZGVyLnJlYWRBc0FycmF5QnVmZmVyKGZpbGUpOwogICAgfSk7CiAgICAvLyBXYWl0IGZvciB0aGUgZGF0YSB0byBiZSByZWFkeS4KICAgIGxldCBmaWxlRGF0YSA9IHlpZWxkIHsKICAgICAgcHJvbWlzZTogZmlsZURhdGFQcm9taXNlLAogICAgICByZXNwb25zZTogewogICAgICAgIGFjdGlvbjogJ2NvbnRpbnVlJywKICAgICAgfQogICAgfTsKCiAgICAvLyBVc2UgYSBjaHVua2VkIHNlbmRpbmcgdG8gYXZvaWQgbWVzc2FnZSBzaXplIGxpbWl0cy4gU2VlIGIvNjIxMTU2NjAuCiAgICBsZXQgcG9zaXRpb24gPSAwOwogICAgd2hpbGUgKHBvc2l0aW9uIDwgZmlsZURhdGEuYnl0ZUxlbmd0aCkgewogICAgICBjb25zdCBsZW5ndGggPSBNYXRoLm1pbihmaWxlRGF0YS5ieXRlTGVuZ3RoIC0gcG9zaXRpb24sIE1BWF9QQVlMT0FEX1NJWkUpOwogICAgICBjb25zdCBjaHVuayA9IG5ldyBVaW50OEFycmF5KGZpbGVEYXRhLCBwb3NpdGlvbiwgbGVuZ3RoKTsKICAgICAgcG9zaXRpb24gKz0gbGVuZ3RoOwoKICAgICAgY29uc3QgYmFzZTY0ID0gYnRvYShTdHJpbmcuZnJvbUNoYXJDb2RlLmFwcGx5KG51bGwsIGNodW5rKSk7CiAgICAgIHlpZWxkIHsKICAgICAgICByZXNwb25zZTogewogICAgICAgICAgYWN0aW9uOiAnYXBwZW5kJywKICAgICAgICAgIGZpbGU6IGZpbGUubmFtZSwKICAgICAgICAgIGRhdGE6IGJhc2U2NCwKICAgICAgICB9LAogICAgICB9OwogICAgICBwZXJjZW50LnRleHRDb250ZW50ID0KICAgICAgICAgIGAke01hdGgucm91bmQoKHBvc2l0aW9uIC8gZmlsZURhdGEuYnl0ZUxlbmd0aCkgKiAxMDApfSUgZG9uZWA7CiAgICB9CiAgfQoKICAvLyBBbGwgZG9uZS4KICB5aWVsZCB7CiAgICByZXNwb25zZTogewogICAgICBhY3Rpb246ICdjb21wbGV0ZScsCiAgICB9CiAgfTsKfQoKc2NvcGUuZ29vZ2xlID0gc2NvcGUuZ29vZ2xlIHx8IHt9OwpzY29wZS5nb29nbGUuY29sYWIgPSBzY29wZS5nb29nbGUuY29sYWIgfHwge307CnNjb3BlLmdvb2dsZS5jb2xhYi5fZmlsZXMgPSB7CiAgX3VwbG9hZEZpbGVzLAogIF91cGxvYWRGaWxlc0NvbnRpbnVlLAp9Owp9KShzZWxmKTsK",
              "ok": true,
              "headers": [
                [
                  "content-type",
                  "application/javascript"
                ]
              ],
              "status": 200,
              "status_text": ""
            }
          },
          "base_uri": "https://localhost:8080/",
          "height": 73
        }
      },
      "source": [
        "from google.colab import files\n",
        "uploaded = files.upload()"
      ],
      "execution_count": 2,
      "outputs": [
        {
          "output_type": "display_data",
          "data": {
            "text/html": [
              "\n",
              "     <input type=\"file\" id=\"files-046ad3b4-aa69-4bee-a4e7-4ea7691b4a5e\" name=\"files[]\" multiple disabled\n",
              "        style=\"border:none\" />\n",
              "     <output id=\"result-046ad3b4-aa69-4bee-a4e7-4ea7691b4a5e\">\n",
              "      Upload widget is only available when the cell has been executed in the\n",
              "      current browser session. Please rerun this cell to enable.\n",
              "      </output>\n",
              "      <script src=\"/nbextensions/google.colab/files.js\"></script> "
            ],
            "text/plain": [
              "<IPython.core.display.HTML object>"
            ]
          },
          "metadata": {
            "tags": []
          }
        },
        {
          "output_type": "stream",
          "text": [
            "Saving AL_final_data.csv to AL_final_data.csv\n"
          ],
          "name": "stdout"
        }
      ]
    },
    {
      "cell_type": "code",
      "metadata": {
        "id": "7CJe5av0ea1B",
        "outputId": "3bc216e3-8b44-452e-ec02-d112217824f1",
        "colab": {
          "base_uri": "https://localhost:8080/",
          "height": 195
        }
      },
      "source": [
        "df = pd.read_csv(\"AL_final_data.csv\")\n",
        "df.head()"
      ],
      "execution_count": 3,
      "outputs": [
        {
          "output_type": "display_data",
          "data": {
            "application/javascript": [
              "\n",
              "        if (window._pyforest_update_imports_cell) { window._pyforest_update_imports_cell('import pandas as pd'); }\n",
              "    "
            ],
            "text/plain": [
              "<IPython.core.display.Javascript object>"
            ]
          },
          "metadata": {
            "tags": []
          }
        },
        {
          "output_type": "execute_result",
          "data": {
            "text/html": [
              "<div>\n",
              "<style scoped>\n",
              "    .dataframe tbody tr th:only-of-type {\n",
              "        vertical-align: middle;\n",
              "    }\n",
              "\n",
              "    .dataframe tbody tr th {\n",
              "        vertical-align: top;\n",
              "    }\n",
              "\n",
              "    .dataframe thead th {\n",
              "        text-align: right;\n",
              "    }\n",
              "</style>\n",
              "<table border=\"1\" class=\"dataframe\">\n",
              "  <thead>\n",
              "    <tr style=\"text-align: right;\">\n",
              "      <th></th>\n",
              "      <th>Unnamed: 0</th>\n",
              "      <th>timestamp</th>\n",
              "      <th>es</th>\n",
              "      <th>eurusd</th>\n",
              "      <th>gbpusd</th>\n",
              "      <th>gc</th>\n",
              "      <th>nq</th>\n",
              "      <th>usdjpy</th>\n",
              "    </tr>\n",
              "  </thead>\n",
              "  <tbody>\n",
              "    <tr>\n",
              "      <th>0</th>\n",
              "      <td>0</td>\n",
              "      <td>2020-05-01 00:00:00</td>\n",
              "      <td>2877.125</td>\n",
              "      <td>1094465.0</td>\n",
              "      <td>1258140.0</td>\n",
              "      <td>1695.85</td>\n",
              "      <td>8846.125</td>\n",
              "      <td>107301000.0</td>\n",
              "    </tr>\n",
              "    <tr>\n",
              "      <th>1</th>\n",
              "      <td>1</td>\n",
              "      <td>2020-05-01 00:01:00</td>\n",
              "      <td>2875.375</td>\n",
              "      <td>1094215.0</td>\n",
              "      <td>1257935.0</td>\n",
              "      <td>1695.60</td>\n",
              "      <td>8841.250</td>\n",
              "      <td>107368000.0</td>\n",
              "    </tr>\n",
              "    <tr>\n",
              "      <th>2</th>\n",
              "      <td>2</td>\n",
              "      <td>2020-05-01 00:02:00</td>\n",
              "      <td>2874.625</td>\n",
              "      <td>1094165.0</td>\n",
              "      <td>1257765.0</td>\n",
              "      <td>1695.65</td>\n",
              "      <td>8837.750</td>\n",
              "      <td>107376500.0</td>\n",
              "    </tr>\n",
              "    <tr>\n",
              "      <th>3</th>\n",
              "      <td>3</td>\n",
              "      <td>2020-05-01 00:03:00</td>\n",
              "      <td>2874.125</td>\n",
              "      <td>1094115.0</td>\n",
              "      <td>1257565.0</td>\n",
              "      <td>1695.40</td>\n",
              "      <td>8836.750</td>\n",
              "      <td>107381500.0</td>\n",
              "    </tr>\n",
              "    <tr>\n",
              "      <th>4</th>\n",
              "      <td>4</td>\n",
              "      <td>2020-05-01 00:04:00</td>\n",
              "      <td>2875.250</td>\n",
              "      <td>1094190.0</td>\n",
              "      <td>1257535.0</td>\n",
              "      <td>1694.85</td>\n",
              "      <td>8841.125</td>\n",
              "      <td>107376500.0</td>\n",
              "    </tr>\n",
              "  </tbody>\n",
              "</table>\n",
              "</div>"
            ],
            "text/plain": [
              "   Unnamed: 0            timestamp        es  ...       gc        nq       usdjpy\n",
              "0           0  2020-05-01 00:00:00  2877.125  ...  1695.85  8846.125  107301000.0\n",
              "1           1  2020-05-01 00:01:00  2875.375  ...  1695.60  8841.250  107368000.0\n",
              "2           2  2020-05-01 00:02:00  2874.625  ...  1695.65  8837.750  107376500.0\n",
              "3           3  2020-05-01 00:03:00  2874.125  ...  1695.40  8836.750  107381500.0\n",
              "4           4  2020-05-01 00:04:00  2875.250  ...  1694.85  8841.125  107376500.0\n",
              "\n",
              "[5 rows x 8 columns]"
            ]
          },
          "metadata": {
            "tags": []
          },
          "execution_count": 3
        }
      ]
    },
    {
      "cell_type": "code",
      "metadata": {
        "id": "udYxZAQoelBs",
        "outputId": "80fa9289-c119-4511-aadd-eab67e456d8e",
        "colab": {
          "base_uri": "https://localhost:8080/",
          "height": 195
        }
      },
      "source": [
        "df.drop(columns = ['Unnamed: 0'], axis=1, inplace=True)\n",
        "df.tail()"
      ],
      "execution_count": 4,
      "outputs": [
        {
          "output_type": "execute_result",
          "data": {
            "text/html": [
              "<div>\n",
              "<style scoped>\n",
              "    .dataframe tbody tr th:only-of-type {\n",
              "        vertical-align: middle;\n",
              "    }\n",
              "\n",
              "    .dataframe tbody tr th {\n",
              "        vertical-align: top;\n",
              "    }\n",
              "\n",
              "    .dataframe thead th {\n",
              "        text-align: right;\n",
              "    }\n",
              "</style>\n",
              "<table border=\"1\" class=\"dataframe\">\n",
              "  <thead>\n",
              "    <tr style=\"text-align: right;\">\n",
              "      <th></th>\n",
              "      <th>timestamp</th>\n",
              "      <th>es</th>\n",
              "      <th>eurusd</th>\n",
              "      <th>gbpusd</th>\n",
              "      <th>gc</th>\n",
              "      <th>nq</th>\n",
              "      <th>usdjpy</th>\n",
              "    </tr>\n",
              "  </thead>\n",
              "  <tbody>\n",
              "    <tr>\n",
              "      <th>29340</th>\n",
              "      <td>2020-05-29 20:56:00</td>\n",
              "      <td>3027.25</td>\n",
              "      <td>1111740.0</td>\n",
              "      <td>1235400.0</td>\n",
              "      <td>1731.50</td>\n",
              "      <td>9588.625</td>\n",
              "      <td>107675000.0</td>\n",
              "    </tr>\n",
              "    <tr>\n",
              "      <th>29341</th>\n",
              "      <td>2020-05-29 20:57:00</td>\n",
              "      <td>3027.25</td>\n",
              "      <td>1111750.0</td>\n",
              "      <td>1235450.0</td>\n",
              "      <td>1731.20</td>\n",
              "      <td>9588.500</td>\n",
              "      <td>107830000.0</td>\n",
              "    </tr>\n",
              "    <tr>\n",
              "      <th>29342</th>\n",
              "      <td>2020-05-29 20:58:00</td>\n",
              "      <td>3027.25</td>\n",
              "      <td>1111650.0</td>\n",
              "      <td>1235450.0</td>\n",
              "      <td>1731.45</td>\n",
              "      <td>9588.625</td>\n",
              "      <td>107830000.0</td>\n",
              "    </tr>\n",
              "    <tr>\n",
              "      <th>29343</th>\n",
              "      <td>2020-05-29 20:59:00</td>\n",
              "      <td>3027.25</td>\n",
              "      <td>1113400.0</td>\n",
              "      <td>1235450.0</td>\n",
              "      <td>1731.30</td>\n",
              "      <td>9587.375</td>\n",
              "      <td>107835000.0</td>\n",
              "    </tr>\n",
              "    <tr>\n",
              "      <th>29344</th>\n",
              "      <td>2020-05-29 21:00:00</td>\n",
              "      <td>3027.25</td>\n",
              "      <td>1113400.0</td>\n",
              "      <td>1237150.0</td>\n",
              "      <td>1731.35</td>\n",
              "      <td>9591.125</td>\n",
              "      <td>107835000.0</td>\n",
              "    </tr>\n",
              "  </tbody>\n",
              "</table>\n",
              "</div>"
            ],
            "text/plain": [
              "                 timestamp       es     eurusd  ...       gc        nq       usdjpy\n",
              "29340  2020-05-29 20:56:00  3027.25  1111740.0  ...  1731.50  9588.625  107675000.0\n",
              "29341  2020-05-29 20:57:00  3027.25  1111750.0  ...  1731.20  9588.500  107830000.0\n",
              "29342  2020-05-29 20:58:00  3027.25  1111650.0  ...  1731.45  9588.625  107830000.0\n",
              "29343  2020-05-29 20:59:00  3027.25  1113400.0  ...  1731.30  9587.375  107835000.0\n",
              "29344  2020-05-29 21:00:00  3027.25  1113400.0  ...  1731.35  9591.125  107835000.0\n",
              "\n",
              "[5 rows x 7 columns]"
            ]
          },
          "metadata": {
            "tags": []
          },
          "execution_count": 4
        }
      ]
    },
    {
      "cell_type": "code",
      "metadata": {
        "id": "p7O-bZ7me2dh",
        "outputId": "70ce7c00-91f3-4c4c-de28-41e15405ceff",
        "colab": {
          "base_uri": "https://localhost:8080/",
          "height": 235
        }
      },
      "source": [
        "df = df.set_index('timestamp')\n",
        "df.index = pd.to_datetime(df.index)\n",
        "df.info()"
      ],
      "execution_count": 5,
      "outputs": [
        {
          "output_type": "display_data",
          "data": {
            "application/javascript": [
              "\n",
              "        if (window._pyforest_update_imports_cell) { window._pyforest_update_imports_cell('import pandas as pd'); }\n",
              "    "
            ],
            "text/plain": [
              "<IPython.core.display.Javascript object>"
            ]
          },
          "metadata": {
            "tags": []
          }
        },
        {
          "output_type": "stream",
          "text": [
            "<class 'pandas.core.frame.DataFrame'>\n",
            "DatetimeIndex: 29345 entries, 2020-05-01 00:00:00 to 2020-05-29 21:00:00\n",
            "Data columns (total 6 columns):\n",
            " #   Column  Non-Null Count  Dtype  \n",
            "---  ------  --------------  -----  \n",
            " 0   es      29345 non-null  float64\n",
            " 1   eurusd  29345 non-null  float64\n",
            " 2   gbpusd  29345 non-null  float64\n",
            " 3   gc      29345 non-null  float64\n",
            " 4   nq      29345 non-null  float64\n",
            " 5   usdjpy  29345 non-null  float64\n",
            "dtypes: float64(6)\n",
            "memory usage: 1.6 MB\n"
          ],
          "name": "stdout"
        }
      ]
    },
    {
      "cell_type": "code",
      "metadata": {
        "id": "HG1vsFyQSfLZ",
        "outputId": "ed788da3-7632-4338-e608-ff91753e68a0",
        "colab": {
          "base_uri": "https://localhost:8080/"
        }
      },
      "source": [
        "# spliting train/test\n",
        "nobs = 120 # keeping 60 mins observations aside for validation\n",
        "train_var, test_var = df[0:- nobs], df[- nobs:]\n",
        "\n",
        "# Check size\n",
        "print(train_var.shape); print(test_var.shape);\n",
        "\n",
        "# transfoming training data set\n",
        "train_trans = train_var.diff().dropna() # differencing\n",
        "print('Description of diff data:'); print(train_trans.describe());"
      ],
      "execution_count": 6,
      "outputs": [
        {
          "output_type": "stream",
          "text": [
            "(29225, 6)\n",
            "(120, 6)\n",
            "Description of diff data:\n",
            "                 es        eurusd  ...            nq        usdjpy\n",
            "count  29224.000000  29224.000000  ...  29224.000000  2.922400e+04\n",
            "mean       0.004821      0.545613  ...      0.022841  1.618533e+01\n",
            "std        1.119611    289.069688  ...      3.712902  4.800882e+04\n",
            "min      -37.750000 -18615.000000  ...   -131.500000 -4.778500e+06\n",
            "25%       -0.500000    -50.000000  ...     -1.500000 -5.500000e+03\n",
            "50%        0.000000      0.000000  ...      0.000000  0.000000e+00\n",
            "75%        0.500000     50.000000  ...      1.625000  5.500000e+03\n",
            "max       26.875000  18290.000000  ...     84.750000  4.752500e+06\n",
            "\n",
            "[8 rows x 6 columns]\n"
          ],
          "name": "stdout"
        }
      ]
    },
    {
      "cell_type": "code",
      "metadata": {
        "id": "H0XL9P3WPD2a",
        "outputId": "8483552a-54e3-4dc0-a2d3-1cbad72c9a1f",
        "colab": {
          "base_uri": "https://localhost:8080/"
        }
      },
      "source": [
        "print(train_trans.corr())"
      ],
      "execution_count": 7,
      "outputs": [
        {
          "output_type": "stream",
          "text": [
            "              es    eurusd    gbpusd        gc        nq    usdjpy\n",
            "es      1.000000  0.057666  0.168732  0.089168  0.884779  0.047760\n",
            "eurusd  0.057666  1.000000  0.151638  0.058257  0.050090 -0.024220\n",
            "gbpusd  0.168732  0.151638  1.000000  0.077996  0.162460 -0.026121\n",
            "gc      0.089168  0.058257  0.077996  1.000000  0.108914 -0.042493\n",
            "nq      0.884779  0.050090  0.162460  0.108914  1.000000  0.043127\n",
            "usdjpy  0.047760 -0.024220 -0.026121 -0.042493  0.043127  1.000000\n"
          ],
          "name": "stdout"
        }
      ]
    },
    {
      "cell_type": "code",
      "metadata": {
        "id": "yW2cjntpScQJ",
        "outputId": "06d3c034-15fe-4c3d-87bc-fb606a577aed",
        "colab": {
          "base_uri": "https://localhost:8080/",
          "height": 369
        }
      },
      "source": [
        "from statsmodels.tsa.stattools import acf, pacf\n",
        "\n",
        "lag_acf = acf(train_trans.eurusd, nlags=36, fft=False)\n",
        "lag_pacf = pacf(train_trans.eurusd, method = 'ols', nlags=36) \n",
        "\n",
        "plt.figure(figsize=(14,5))\n",
        "#Plot ACF:\n",
        "plt.subplot(121)\n",
        "plt.plot(lag_acf)\n",
        "plt.axhline(y=0,linestyle='--',color='gray')\n",
        "plt.axhline(y=-1.96/np.sqrt(len(train_trans.eurusd)),linestyle='--',color='gray')\n",
        "plt.axhline(y=1.96/np.sqrt(len(train_trans.eurusd)),linestyle='--',color='gray')\n",
        "plt.title('ACF:EURUSD')\n",
        "\n",
        "#Plot PACF:\n",
        "plt.subplot(122)\n",
        "plt.plot(lag_pacf)\n",
        "plt.axhline(y=0,linestyle='--',color='gray')\n",
        "plt.axhline(y=-1.96/np.sqrt(len(train_trans.eurusd)),linestyle='--',color='gray')\n",
        "plt.axhline(y=1.96/np.sqrt(len(train_trans.eurusd)),linestyle='--',color='gray')\n",
        "plt.title('PACF:EURUSD')\n",
        "plt.tight_layout()"
      ],
      "execution_count": 43,
      "outputs": [
        {
          "output_type": "display_data",
          "data": {
            "application/javascript": [
              "\n",
              "        if (window._pyforest_update_imports_cell) { window._pyforest_update_imports_cell('import plotly.express as px\\nimport tensorflow as tf\\nimport plotly as py\\nimport pandas as pd\\nimport pydot\\nimport numpy as np\\nimport matplotlib as mpl\\nfrom sklearn.model_selection import train_test_split\\nimport tqdm\\nimport matplotlib.pyplot as plt'); }\n",
              "    "
            ],
            "text/plain": [
              "<IPython.core.display.Javascript object>"
            ]
          },
          "metadata": {
            "tags": []
          }
        },
        {
          "output_type": "display_data",
          "data": {
            "application/javascript": [
              "\n",
              "        if (window._pyforest_update_imports_cell) { window._pyforest_update_imports_cell('import plotly.express as px\\nimport tensorflow as tf\\nimport plotly as py\\nimport pandas as pd\\nimport pydot\\nimport numpy as np\\nimport matplotlib as mpl\\nfrom sklearn.model_selection import train_test_split\\nimport tqdm\\nimport matplotlib.pyplot as plt'); }\n",
              "    "
            ],
            "text/plain": [
              "<IPython.core.display.Javascript object>"
            ]
          },
          "metadata": {
            "tags": []
          }
        },
        {
          "output_type": "display_data",
          "data": {
            "application/javascript": [
              "\n",
              "        if (window._pyforest_update_imports_cell) { window._pyforest_update_imports_cell('import plotly.express as px\\nimport tensorflow as tf\\nimport plotly as py\\nimport pandas as pd\\nimport pydot\\nimport numpy as np\\nimport matplotlib as mpl\\nfrom sklearn.model_selection import train_test_split\\nimport tqdm\\nimport matplotlib.pyplot as plt'); }\n",
              "    "
            ],
            "text/plain": [
              "<IPython.core.display.Javascript object>"
            ]
          },
          "metadata": {
            "tags": []
          }
        },
        {
          "output_type": "display_data",
          "data": {
            "application/javascript": [
              "\n",
              "        if (window._pyforest_update_imports_cell) { window._pyforest_update_imports_cell('import plotly.express as px\\nimport tensorflow as tf\\nimport plotly as py\\nimport pandas as pd\\nimport pydot\\nimport numpy as np\\nimport matplotlib as mpl\\nfrom sklearn.model_selection import train_test_split\\nimport tqdm\\nimport matplotlib.pyplot as plt'); }\n",
              "    "
            ],
            "text/plain": [
              "<IPython.core.display.Javascript object>"
            ]
          },
          "metadata": {
            "tags": []
          }
        },
        {
          "output_type": "display_data",
          "data": {
            "application/javascript": [
              "\n",
              "        if (window._pyforest_update_imports_cell) { window._pyforest_update_imports_cell('import plotly.express as px\\nimport tensorflow as tf\\nimport plotly as py\\nimport pandas as pd\\nimport pydot\\nimport numpy as np\\nimport matplotlib as mpl\\nfrom sklearn.model_selection import train_test_split\\nimport tqdm\\nimport matplotlib.pyplot as plt'); }\n",
              "    "
            ],
            "text/plain": [
              "<IPython.core.display.Javascript object>"
            ]
          },
          "metadata": {
            "tags": []
          }
        },
        {
          "output_type": "display_data",
          "data": {
            "application/javascript": [
              "\n",
              "        if (window._pyforest_update_imports_cell) { window._pyforest_update_imports_cell('import plotly.express as px\\nimport tensorflow as tf\\nimport plotly as py\\nimport pandas as pd\\nimport pydot\\nimport numpy as np\\nimport matplotlib as mpl\\nfrom sklearn.model_selection import train_test_split\\nimport tqdm\\nimport matplotlib.pyplot as plt'); }\n",
              "    "
            ],
            "text/plain": [
              "<IPython.core.display.Javascript object>"
            ]
          },
          "metadata": {
            "tags": []
          }
        },
        {
          "output_type": "display_data",
          "data": {
            "application/javascript": [
              "\n",
              "        if (window._pyforest_update_imports_cell) { window._pyforest_update_imports_cell('import plotly.express as px\\nimport tensorflow as tf\\nimport plotly as py\\nimport pandas as pd\\nimport pydot\\nimport numpy as np\\nimport matplotlib as mpl\\nfrom sklearn.model_selection import train_test_split\\nimport tqdm\\nimport matplotlib.pyplot as plt'); }\n",
              "    "
            ],
            "text/plain": [
              "<IPython.core.display.Javascript object>"
            ]
          },
          "metadata": {
            "tags": []
          }
        },
        {
          "output_type": "display_data",
          "data": {
            "application/javascript": [
              "\n",
              "        if (window._pyforest_update_imports_cell) { window._pyforest_update_imports_cell('import plotly.express as px\\nimport tensorflow as tf\\nimport plotly as py\\nimport pandas as pd\\nimport pydot\\nimport numpy as np\\nimport matplotlib as mpl\\nfrom sklearn.model_selection import train_test_split\\nimport tqdm\\nimport matplotlib.pyplot as plt'); }\n",
              "    "
            ],
            "text/plain": [
              "<IPython.core.display.Javascript object>"
            ]
          },
          "metadata": {
            "tags": []
          }
        },
        {
          "output_type": "display_data",
          "data": {
            "application/javascript": [
              "\n",
              "        if (window._pyforest_update_imports_cell) { window._pyforest_update_imports_cell('import plotly.express as px\\nimport tensorflow as tf\\nimport plotly as py\\nimport pandas as pd\\nimport pydot\\nimport numpy as np\\nimport matplotlib as mpl\\nfrom sklearn.model_selection import train_test_split\\nimport tqdm\\nimport matplotlib.pyplot as plt'); }\n",
              "    "
            ],
            "text/plain": [
              "<IPython.core.display.Javascript object>"
            ]
          },
          "metadata": {
            "tags": []
          }
        },
        {
          "output_type": "display_data",
          "data": {
            "application/javascript": [
              "\n",
              "        if (window._pyforest_update_imports_cell) { window._pyforest_update_imports_cell('import plotly.express as px\\nimport tensorflow as tf\\nimport plotly as py\\nimport pandas as pd\\nimport pydot\\nimport numpy as np\\nimport matplotlib as mpl\\nfrom sklearn.model_selection import train_test_split\\nimport tqdm\\nimport matplotlib.pyplot as plt'); }\n",
              "    "
            ],
            "text/plain": [
              "<IPython.core.display.Javascript object>"
            ]
          },
          "metadata": {
            "tags": []
          }
        },
        {
          "output_type": "display_data",
          "data": {
            "application/javascript": [
              "\n",
              "        if (window._pyforest_update_imports_cell) { window._pyforest_update_imports_cell('import plotly.express as px\\nimport tensorflow as tf\\nimport plotly as py\\nimport pandas as pd\\nimport pydot\\nimport numpy as np\\nimport matplotlib as mpl\\nfrom sklearn.model_selection import train_test_split\\nimport tqdm\\nimport matplotlib.pyplot as plt'); }\n",
              "    "
            ],
            "text/plain": [
              "<IPython.core.display.Javascript object>"
            ]
          },
          "metadata": {
            "tags": []
          }
        },
        {
          "output_type": "display_data",
          "data": {
            "application/javascript": [
              "\n",
              "        if (window._pyforest_update_imports_cell) { window._pyforest_update_imports_cell('import plotly.express as px\\nimport tensorflow as tf\\nimport plotly as py\\nimport pandas as pd\\nimport pydot\\nimport numpy as np\\nimport matplotlib as mpl\\nfrom sklearn.model_selection import train_test_split\\nimport tqdm\\nimport matplotlib.pyplot as plt'); }\n",
              "    "
            ],
            "text/plain": [
              "<IPython.core.display.Javascript object>"
            ]
          },
          "metadata": {
            "tags": []
          }
        },
        {
          "output_type": "display_data",
          "data": {
            "application/javascript": [
              "\n",
              "        if (window._pyforest_update_imports_cell) { window._pyforest_update_imports_cell('import plotly.express as px\\nimport tensorflow as tf\\nimport plotly as py\\nimport pandas as pd\\nimport pydot\\nimport numpy as np\\nimport matplotlib as mpl\\nfrom sklearn.model_selection import train_test_split\\nimport tqdm\\nimport matplotlib.pyplot as plt'); }\n",
              "    "
            ],
            "text/plain": [
              "<IPython.core.display.Javascript object>"
            ]
          },
          "metadata": {
            "tags": []
          }
        },
        {
          "output_type": "display_data",
          "data": {
            "application/javascript": [
              "\n",
              "        if (window._pyforest_update_imports_cell) { window._pyforest_update_imports_cell('import plotly.express as px\\nimport tensorflow as tf\\nimport plotly as py\\nimport pandas as pd\\nimport pydot\\nimport numpy as np\\nimport matplotlib as mpl\\nfrom sklearn.model_selection import train_test_split\\nimport tqdm\\nimport matplotlib.pyplot as plt'); }\n",
              "    "
            ],
            "text/plain": [
              "<IPython.core.display.Javascript object>"
            ]
          },
          "metadata": {
            "tags": []
          }
        },
        {
          "output_type": "display_data",
          "data": {
            "application/javascript": [
              "\n",
              "        if (window._pyforest_update_imports_cell) { window._pyforest_update_imports_cell('import plotly.express as px\\nimport tensorflow as tf\\nimport plotly as py\\nimport pandas as pd\\nimport pydot\\nimport numpy as np\\nimport matplotlib as mpl\\nfrom sklearn.model_selection import train_test_split\\nimport tqdm\\nimport matplotlib.pyplot as plt'); }\n",
              "    "
            ],
            "text/plain": [
              "<IPython.core.display.Javascript object>"
            ]
          },
          "metadata": {
            "tags": []
          }
        },
        {
          "output_type": "display_data",
          "data": {
            "application/javascript": [
              "\n",
              "        if (window._pyforest_update_imports_cell) { window._pyforest_update_imports_cell('import plotly.express as px\\nimport tensorflow as tf\\nimport plotly as py\\nimport pandas as pd\\nimport pydot\\nimport numpy as np\\nimport matplotlib as mpl\\nfrom sklearn.model_selection import train_test_split\\nimport tqdm\\nimport matplotlib.pyplot as plt'); }\n",
              "    "
            ],
            "text/plain": [
              "<IPython.core.display.Javascript object>"
            ]
          },
          "metadata": {
            "tags": []
          }
        },
        {
          "output_type": "display_data",
          "data": {
            "application/javascript": [
              "\n",
              "        if (window._pyforest_update_imports_cell) { window._pyforest_update_imports_cell('import plotly.express as px\\nimport tensorflow as tf\\nimport plotly as py\\nimport pandas as pd\\nimport pydot\\nimport numpy as np\\nimport matplotlib as mpl\\nfrom sklearn.model_selection import train_test_split\\nimport tqdm\\nimport matplotlib.pyplot as plt'); }\n",
              "    "
            ],
            "text/plain": [
              "<IPython.core.display.Javascript object>"
            ]
          },
          "metadata": {
            "tags": []
          }
        },
        {
          "output_type": "display_data",
          "data": {
            "application/javascript": [
              "\n",
              "        if (window._pyforest_update_imports_cell) { window._pyforest_update_imports_cell('import plotly.express as px\\nimport tensorflow as tf\\nimport plotly as py\\nimport pandas as pd\\nimport pydot\\nimport numpy as np\\nimport matplotlib as mpl\\nfrom sklearn.model_selection import train_test_split\\nimport tqdm\\nimport matplotlib.pyplot as plt'); }\n",
              "    "
            ],
            "text/plain": [
              "<IPython.core.display.Javascript object>"
            ]
          },
          "metadata": {
            "tags": []
          }
        },
        {
          "output_type": "display_data",
          "data": {
            "image/png": "[encoded data removed]",
            "text/plain": [
              "<Figure size 1008x360 with 2 Axes>"
            ]
          },
          "metadata": {
            "tags": []
          }
        }
      ]
    },
    {
      "cell_type": "code",
      "metadata": {
        "id": "yWs8q-nUTmkN",
        "outputId": "6d2c5f64-36b2-4a18-c56a-47a4804ad908",
        "colab": {
          "base_uri": "https://localhost:8080/",
          "height": 369
        }
      },
      "source": [
        "plt.figure(figsize=(14,5))\n",
        "\n",
        "lag_acf = acf(train_trans.gbpusd, nlags=36, fft=False)\n",
        "lag_pacf = pacf(train_trans.gbpusd, method = 'ols', nlags=36) \n",
        "\n",
        "#Plot ACF:\n",
        "plt.subplot(121)\n",
        "plt.plot(lag_acf)\n",
        "plt.axhline(y=0,linestyle='--',color='gray')\n",
        "plt.axhline(y=-1.96/np.sqrt(len(train_trans.gbpusd)),linestyle='--',color='gray')\n",
        "plt.axhline(y=1.96/np.sqrt(len(train_trans.gbpusd)),linestyle='--',color='gray')\n",
        "plt.title('ACF:GBPUSD')\n",
        "\n",
        "#Plot PACF:\n",
        "plt.subplot(122)\n",
        "plt.plot(lag_pacf)\n",
        "plt.axhline(y=0,linestyle='--',color='gray')\n",
        "plt.axhline(y=-1.96/np.sqrt(len(train_trans.gbpusd)),linestyle='--',color='gray')\n",
        "plt.axhline(y=1.96/np.sqrt(len(train_trans.gbpusd)),linestyle='--',color='gray')\n",
        "plt.title('PACF:GBPUSD')\n",
        "plt.tight_layout()"
      ],
      "execution_count": 42,
      "outputs": [
        {
          "output_type": "display_data",
          "data": {
            "application/javascript": [
              "\n",
              "        if (window._pyforest_update_imports_cell) { window._pyforest_update_imports_cell('import plotly.express as px\\nimport tensorflow as tf\\nimport plotly as py\\nimport pandas as pd\\nimport pydot\\nimport numpy as np\\nimport matplotlib as mpl\\nfrom sklearn.model_selection import train_test_split\\nimport tqdm\\nimport matplotlib.pyplot as plt'); }\n",
              "    "
            ],
            "text/plain": [
              "<IPython.core.display.Javascript object>"
            ]
          },
          "metadata": {
            "tags": []
          }
        },
        {
          "output_type": "display_data",
          "data": {
            "application/javascript": [
              "\n",
              "        if (window._pyforest_update_imports_cell) { window._pyforest_update_imports_cell('import plotly.express as px\\nimport tensorflow as tf\\nimport plotly as py\\nimport pandas as pd\\nimport pydot\\nimport numpy as np\\nimport matplotlib as mpl\\nfrom sklearn.model_selection import train_test_split\\nimport tqdm\\nimport matplotlib.pyplot as plt'); }\n",
              "    "
            ],
            "text/plain": [
              "<IPython.core.display.Javascript object>"
            ]
          },
          "metadata": {
            "tags": []
          }
        },
        {
          "output_type": "display_data",
          "data": {
            "application/javascript": [
              "\n",
              "        if (window._pyforest_update_imports_cell) { window._pyforest_update_imports_cell('import plotly.express as px\\nimport tensorflow as tf\\nimport plotly as py\\nimport pandas as pd\\nimport pydot\\nimport numpy as np\\nimport matplotlib as mpl\\nfrom sklearn.model_selection import train_test_split\\nimport tqdm\\nimport matplotlib.pyplot as plt'); }\n",
              "    "
            ],
            "text/plain": [
              "<IPython.core.display.Javascript object>"
            ]
          },
          "metadata": {
            "tags": []
          }
        },
        {
          "output_type": "display_data",
          "data": {
            "application/javascript": [
              "\n",
              "        if (window._pyforest_update_imports_cell) { window._pyforest_update_imports_cell('import plotly.express as px\\nimport tensorflow as tf\\nimport plotly as py\\nimport pandas as pd\\nimport pydot\\nimport numpy as np\\nimport matplotlib as mpl\\nfrom sklearn.model_selection import train_test_split\\nimport tqdm\\nimport matplotlib.pyplot as plt'); }\n",
              "    "
            ],
            "text/plain": [
              "<IPython.core.display.Javascript object>"
            ]
          },
          "metadata": {
            "tags": []
          }
        },
        {
          "output_type": "display_data",
          "data": {
            "application/javascript": [
              "\n",
              "        if (window._pyforest_update_imports_cell) { window._pyforest_update_imports_cell('import plotly.express as px\\nimport tensorflow as tf\\nimport plotly as py\\nimport pandas as pd\\nimport pydot\\nimport numpy as np\\nimport matplotlib as mpl\\nfrom sklearn.model_selection import train_test_split\\nimport tqdm\\nimport matplotlib.pyplot as plt'); }\n",
              "    "
            ],
            "text/plain": [
              "<IPython.core.display.Javascript object>"
            ]
          },
          "metadata": {
            "tags": []
          }
        },
        {
          "output_type": "display_data",
          "data": {
            "application/javascript": [
              "\n",
              "        if (window._pyforest_update_imports_cell) { window._pyforest_update_imports_cell('import plotly.express as px\\nimport tensorflow as tf\\nimport plotly as py\\nimport pandas as pd\\nimport pydot\\nimport numpy as np\\nimport matplotlib as mpl\\nfrom sklearn.model_selection import train_test_split\\nimport tqdm\\nimport matplotlib.pyplot as plt'); }\n",
              "    "
            ],
            "text/plain": [
              "<IPython.core.display.Javascript object>"
            ]
          },
          "metadata": {
            "tags": []
          }
        },
        {
          "output_type": "display_data",
          "data": {
            "application/javascript": [
              "\n",
              "        if (window._pyforest_update_imports_cell) { window._pyforest_update_imports_cell('import plotly.express as px\\nimport tensorflow as tf\\nimport plotly as py\\nimport pandas as pd\\nimport pydot\\nimport numpy as np\\nimport matplotlib as mpl\\nfrom sklearn.model_selection import train_test_split\\nimport tqdm\\nimport matplotlib.pyplot as plt'); }\n",
              "    "
            ],
            "text/plain": [
              "<IPython.core.display.Javascript object>"
            ]
          },
          "metadata": {
            "tags": []
          }
        },
        {
          "output_type": "display_data",
          "data": {
            "application/javascript": [
              "\n",
              "        if (window._pyforest_update_imports_cell) { window._pyforest_update_imports_cell('import plotly.express as px\\nimport tensorflow as tf\\nimport plotly as py\\nimport pandas as pd\\nimport pydot\\nimport numpy as np\\nimport matplotlib as mpl\\nfrom sklearn.model_selection import train_test_split\\nimport tqdm\\nimport matplotlib.pyplot as plt'); }\n",
              "    "
            ],
            "text/plain": [
              "<IPython.core.display.Javascript object>"
            ]
          },
          "metadata": {
            "tags": []
          }
        },
        {
          "output_type": "display_data",
          "data": {
            "application/javascript": [
              "\n",
              "        if (window._pyforest_update_imports_cell) { window._pyforest_update_imports_cell('import plotly.express as px\\nimport tensorflow as tf\\nimport plotly as py\\nimport pandas as pd\\nimport pydot\\nimport numpy as np\\nimport matplotlib as mpl\\nfrom sklearn.model_selection import train_test_split\\nimport tqdm\\nimport matplotlib.pyplot as plt'); }\n",
              "    "
            ],
            "text/plain": [
              "<IPython.core.display.Javascript object>"
            ]
          },
          "metadata": {
            "tags": []
          }
        },
        {
          "output_type": "display_data",
          "data": {
            "application/javascript": [
              "\n",
              "        if (window._pyforest_update_imports_cell) { window._pyforest_update_imports_cell('import plotly.express as px\\nimport tensorflow as tf\\nimport plotly as py\\nimport pandas as pd\\nimport pydot\\nimport numpy as np\\nimport matplotlib as mpl\\nfrom sklearn.model_selection import train_test_split\\nimport tqdm\\nimport matplotlib.pyplot as plt'); }\n",
              "    "
            ],
            "text/plain": [
              "<IPython.core.display.Javascript object>"
            ]
          },
          "metadata": {
            "tags": []
          }
        },
        {
          "output_type": "display_data",
          "data": {
            "application/javascript": [
              "\n",
              "        if (window._pyforest_update_imports_cell) { window._pyforest_update_imports_cell('import plotly.express as px\\nimport tensorflow as tf\\nimport plotly as py\\nimport pandas as pd\\nimport pydot\\nimport numpy as np\\nimport matplotlib as mpl\\nfrom sklearn.model_selection import train_test_split\\nimport tqdm\\nimport matplotlib.pyplot as plt'); }\n",
              "    "
            ],
            "text/plain": [
              "<IPython.core.display.Javascript object>"
            ]
          },
          "metadata": {
            "tags": []
          }
        },
        {
          "output_type": "display_data",
          "data": {
            "application/javascript": [
              "\n",
              "        if (window._pyforest_update_imports_cell) { window._pyforest_update_imports_cell('import plotly.express as px\\nimport tensorflow as tf\\nimport plotly as py\\nimport pandas as pd\\nimport pydot\\nimport numpy as np\\nimport matplotlib as mpl\\nfrom sklearn.model_selection import train_test_split\\nimport tqdm\\nimport matplotlib.pyplot as plt'); }\n",
              "    "
            ],
            "text/plain": [
              "<IPython.core.display.Javascript object>"
            ]
          },
          "metadata": {
            "tags": []
          }
        },
        {
          "output_type": "display_data",
          "data": {
            "application/javascript": [
              "\n",
              "        if (window._pyforest_update_imports_cell) { window._pyforest_update_imports_cell('import plotly.express as px\\nimport tensorflow as tf\\nimport plotly as py\\nimport pandas as pd\\nimport pydot\\nimport numpy as np\\nimport matplotlib as mpl\\nfrom sklearn.model_selection import train_test_split\\nimport tqdm\\nimport matplotlib.pyplot as plt'); }\n",
              "    "
            ],
            "text/plain": [
              "<IPython.core.display.Javascript object>"
            ]
          },
          "metadata": {
            "tags": []
          }
        },
        {
          "output_type": "display_data",
          "data": {
            "application/javascript": [
              "\n",
              "        if (window._pyforest_update_imports_cell) { window._pyforest_update_imports_cell('import plotly.express as px\\nimport tensorflow as tf\\nimport plotly as py\\nimport pandas as pd\\nimport pydot\\nimport numpy as np\\nimport matplotlib as mpl\\nfrom sklearn.model_selection import train_test_split\\nimport tqdm\\nimport matplotlib.pyplot as plt'); }\n",
              "    "
            ],
            "text/plain": [
              "<IPython.core.display.Javascript object>"
            ]
          },
          "metadata": {
            "tags": []
          }
        },
        {
          "output_type": "display_data",
          "data": {
            "application/javascript": [
              "\n",
              "        if (window._pyforest_update_imports_cell) { window._pyforest_update_imports_cell('import plotly.express as px\\nimport tensorflow as tf\\nimport plotly as py\\nimport pandas as pd\\nimport pydot\\nimport numpy as np\\nimport matplotlib as mpl\\nfrom sklearn.model_selection import train_test_split\\nimport tqdm\\nimport matplotlib.pyplot as plt'); }\n",
              "    "
            ],
            "text/plain": [
              "<IPython.core.display.Javascript object>"
            ]
          },
          "metadata": {
            "tags": []
          }
        },
        {
          "output_type": "display_data",
          "data": {
            "application/javascript": [
              "\n",
              "        if (window._pyforest_update_imports_cell) { window._pyforest_update_imports_cell('import plotly.express as px\\nimport tensorflow as tf\\nimport plotly as py\\nimport pandas as pd\\nimport pydot\\nimport numpy as np\\nimport matplotlib as mpl\\nfrom sklearn.model_selection import train_test_split\\nimport tqdm\\nimport matplotlib.pyplot as plt'); }\n",
              "    "
            ],
            "text/plain": [
              "<IPython.core.display.Javascript object>"
            ]
          },
          "metadata": {
            "tags": []
          }
        },
        {
          "output_type": "display_data",
          "data": {
            "application/javascript": [
              "\n",
              "        if (window._pyforest_update_imports_cell) { window._pyforest_update_imports_cell('import plotly.express as px\\nimport tensorflow as tf\\nimport plotly as py\\nimport pandas as pd\\nimport pydot\\nimport numpy as np\\nimport matplotlib as mpl\\nfrom sklearn.model_selection import train_test_split\\nimport tqdm\\nimport matplotlib.pyplot as plt'); }\n",
              "    "
            ],
            "text/plain": [
              "<IPython.core.display.Javascript object>"
            ]
          },
          "metadata": {
            "tags": []
          }
        },
        {
          "output_type": "display_data",
          "data": {
            "application/javascript": [
              "\n",
              "        if (window._pyforest_update_imports_cell) { window._pyforest_update_imports_cell('import plotly.express as px\\nimport tensorflow as tf\\nimport plotly as py\\nimport pandas as pd\\nimport pydot\\nimport numpy as np\\nimport matplotlib as mpl\\nfrom sklearn.model_selection import train_test_split\\nimport tqdm\\nimport matplotlib.pyplot as plt'); }\n",
              "    "
            ],
            "text/plain": [
              "<IPython.core.display.Javascript object>"
            ]
          },
          "metadata": {
            "tags": []
          }
        },
        {
          "output_type": "display_data",
          "data": {
            "image/png": "[encoded data removed]",
            "text/plain": [
              "<Figure size 1008x360 with 2 Axes>"
            ]
          },
          "metadata": {
            "tags": []
          }
        }
      ]
    },
    {
      "cell_type": "code",
      "metadata": {
        "id": "LEAvvaBET0Qy",
        "outputId": "95397d95-10df-4a40-f669-9befd1a785c9",
        "colab": {
          "base_uri": "https://localhost:8080/",
          "height": 369
        }
      },
      "source": [
        "plt.figure(figsize=(14,5))\n",
        "\n",
        "lag_acf = acf(train_trans.usdjpy, nlags=36, fft=False)\n",
        "lag_pacf = pacf(train_trans.eurusd, method = 'ols', nlags=36)\n",
        "\n",
        "#Plot ACF:\n",
        "plt.subplot(121)\n",
        "plt.plot(lag_acf)\n",
        "plt.axhline(y=0,linestyle='--',color='gray')\n",
        "plt.axhline(y=-1.96/np.sqrt(len(train_trans.usdjpy)),linestyle='--',color='gray')\n",
        "plt.axhline(y=1.96/np.sqrt(len(train_trans.usdjpy)),linestyle='--',color='gray')\n",
        "plt.title('ACF: USDJPY')\n",
        "\n",
        "#Plot PACF:\n",
        "plt.subplot(122)\n",
        "plt.plot(lag_pacf)\n",
        "plt.axhline(y=0,linestyle='--',color='gray')\n",
        "plt.axhline(y=-1.96/np.sqrt(len(train_trans.usdjpy)),linestyle='--',color='gray')\n",
        "plt.axhline(y=1.96/np.sqrt(len(train_trans.usdjpy)),linestyle='--',color='gray')\n",
        "plt.title('PACF: USDJPY')\n",
        "plt.tight_layout()"
      ],
      "execution_count": 41,
      "outputs": [
        {
          "output_type": "display_data",
          "data": {
            "application/javascript": [
              "\n",
              "        if (window._pyforest_update_imports_cell) { window._pyforest_update_imports_cell('import plotly.express as px\\nimport tensorflow as tf\\nimport plotly as py\\nimport pandas as pd\\nimport pydot\\nimport numpy as np\\nimport matplotlib as mpl\\nfrom sklearn.model_selection import train_test_split\\nimport tqdm\\nimport matplotlib.pyplot as plt'); }\n",
              "    "
            ],
            "text/plain": [
              "<IPython.core.display.Javascript object>"
            ]
          },
          "metadata": {
            "tags": []
          }
        },
        {
          "output_type": "display_data",
          "data": {
            "application/javascript": [
              "\n",
              "        if (window._pyforest_update_imports_cell) { window._pyforest_update_imports_cell('import plotly.express as px\\nimport tensorflow as tf\\nimport plotly as py\\nimport pandas as pd\\nimport pydot\\nimport numpy as np\\nimport matplotlib as mpl\\nfrom sklearn.model_selection import train_test_split\\nimport tqdm\\nimport matplotlib.pyplot as plt'); }\n",
              "    "
            ],
            "text/plain": [
              "<IPython.core.display.Javascript object>"
            ]
          },
          "metadata": {
            "tags": []
          }
        },
        {
          "output_type": "display_data",
          "data": {
            "application/javascript": [
              "\n",
              "        if (window._pyforest_update_imports_cell) { window._pyforest_update_imports_cell('import plotly.express as px\\nimport tensorflow as tf\\nimport plotly as py\\nimport pandas as pd\\nimport pydot\\nimport numpy as np\\nimport matplotlib as mpl\\nfrom sklearn.model_selection import train_test_split\\nimport tqdm\\nimport matplotlib.pyplot as plt'); }\n",
              "    "
            ],
            "text/plain": [
              "<IPython.core.display.Javascript object>"
            ]
          },
          "metadata": {
            "tags": []
          }
        },
        {
          "output_type": "display_data",
          "data": {
            "application/javascript": [
              "\n",
              "        if (window._pyforest_update_imports_cell) { window._pyforest_update_imports_cell('import plotly.express as px\\nimport tensorflow as tf\\nimport plotly as py\\nimport pandas as pd\\nimport pydot\\nimport numpy as np\\nimport matplotlib as mpl\\nfrom sklearn.model_selection import train_test_split\\nimport tqdm\\nimport matplotlib.pyplot as plt'); }\n",
              "    "
            ],
            "text/plain": [
              "<IPython.core.display.Javascript object>"
            ]
          },
          "metadata": {
            "tags": []
          }
        },
        {
          "output_type": "display_data",
          "data": {
            "application/javascript": [
              "\n",
              "        if (window._pyforest_update_imports_cell) { window._pyforest_update_imports_cell('import plotly.express as px\\nimport tensorflow as tf\\nimport plotly as py\\nimport pandas as pd\\nimport pydot\\nimport numpy as np\\nimport matplotlib as mpl\\nfrom sklearn.model_selection import train_test_split\\nimport tqdm\\nimport matplotlib.pyplot as plt'); }\n",
              "    "
            ],
            "text/plain": [
              "<IPython.core.display.Javascript object>"
            ]
          },
          "metadata": {
            "tags": []
          }
        },
        {
          "output_type": "display_data",
          "data": {
            "application/javascript": [
              "\n",
              "        if (window._pyforest_update_imports_cell) { window._pyforest_update_imports_cell('import plotly.express as px\\nimport tensorflow as tf\\nimport plotly as py\\nimport pandas as pd\\nimport pydot\\nimport numpy as np\\nimport matplotlib as mpl\\nfrom sklearn.model_selection import train_test_split\\nimport tqdm\\nimport matplotlib.pyplot as plt'); }\n",
              "    "
            ],
            "text/plain": [
              "<IPython.core.display.Javascript object>"
            ]
          },
          "metadata": {
            "tags": []
          }
        },
        {
          "output_type": "display_data",
          "data": {
            "application/javascript": [
              "\n",
              "        if (window._pyforest_update_imports_cell) { window._pyforest_update_imports_cell('import plotly.express as px\\nimport tensorflow as tf\\nimport plotly as py\\nimport pandas as pd\\nimport pydot\\nimport numpy as np\\nimport matplotlib as mpl\\nfrom sklearn.model_selection import train_test_split\\nimport tqdm\\nimport matplotlib.pyplot as plt'); }\n",
              "    "
            ],
            "text/plain": [
              "<IPython.core.display.Javascript object>"
            ]
          },
          "metadata": {
            "tags": []
          }
        },
        {
          "output_type": "display_data",
          "data": {
            "application/javascript": [
              "\n",
              "        if (window._pyforest_update_imports_cell) { window._pyforest_update_imports_cell('import plotly.express as px\\nimport tensorflow as tf\\nimport plotly as py\\nimport pandas as pd\\nimport pydot\\nimport numpy as np\\nimport matplotlib as mpl\\nfrom sklearn.model_selection import train_test_split\\nimport tqdm\\nimport matplotlib.pyplot as plt'); }\n",
              "    "
            ],
            "text/plain": [
              "<IPython.core.display.Javascript object>"
            ]
          },
          "metadata": {
            "tags": []
          }
        },
        {
          "output_type": "display_data",
          "data": {
            "application/javascript": [
              "\n",
              "        if (window._pyforest_update_imports_cell) { window._pyforest_update_imports_cell('import plotly.express as px\\nimport tensorflow as tf\\nimport plotly as py\\nimport pandas as pd\\nimport pydot\\nimport numpy as np\\nimport matplotlib as mpl\\nfrom sklearn.model_selection import train_test_split\\nimport tqdm\\nimport matplotlib.pyplot as plt'); }\n",
              "    "
            ],
            "text/plain": [
              "<IPython.core.display.Javascript object>"
            ]
          },
          "metadata": {
            "tags": []
          }
        },
        {
          "output_type": "display_data",
          "data": {
            "application/javascript": [
              "\n",
              "        if (window._pyforest_update_imports_cell) { window._pyforest_update_imports_cell('import plotly.express as px\\nimport tensorflow as tf\\nimport plotly as py\\nimport pandas as pd\\nimport pydot\\nimport numpy as np\\nimport matplotlib as mpl\\nfrom sklearn.model_selection import train_test_split\\nimport tqdm\\nimport matplotlib.pyplot as plt'); }\n",
              "    "
            ],
            "text/plain": [
              "<IPython.core.display.Javascript object>"
            ]
          },
          "metadata": {
            "tags": []
          }
        },
        {
          "output_type": "display_data",
          "data": {
            "application/javascript": [
              "\n",
              "        if (window._pyforest_update_imports_cell) { window._pyforest_update_imports_cell('import plotly.express as px\\nimport tensorflow as tf\\nimport plotly as py\\nimport pandas as pd\\nimport pydot\\nimport numpy as np\\nimport matplotlib as mpl\\nfrom sklearn.model_selection import train_test_split\\nimport tqdm\\nimport matplotlib.pyplot as plt'); }\n",
              "    "
            ],
            "text/plain": [
              "<IPython.core.display.Javascript object>"
            ]
          },
          "metadata": {
            "tags": []
          }
        },
        {
          "output_type": "display_data",
          "data": {
            "application/javascript": [
              "\n",
              "        if (window._pyforest_update_imports_cell) { window._pyforest_update_imports_cell('import plotly.express as px\\nimport tensorflow as tf\\nimport plotly as py\\nimport pandas as pd\\nimport pydot\\nimport numpy as np\\nimport matplotlib as mpl\\nfrom sklearn.model_selection import train_test_split\\nimport tqdm\\nimport matplotlib.pyplot as plt'); }\n",
              "    "
            ],
            "text/plain": [
              "<IPython.core.display.Javascript object>"
            ]
          },
          "metadata": {
            "tags": []
          }
        },
        {
          "output_type": "display_data",
          "data": {
            "application/javascript": [
              "\n",
              "        if (window._pyforest_update_imports_cell) { window._pyforest_update_imports_cell('import plotly.express as px\\nimport tensorflow as tf\\nimport plotly as py\\nimport pandas as pd\\nimport pydot\\nimport numpy as np\\nimport matplotlib as mpl\\nfrom sklearn.model_selection import train_test_split\\nimport tqdm\\nimport matplotlib.pyplot as plt'); }\n",
              "    "
            ],
            "text/plain": [
              "<IPython.core.display.Javascript object>"
            ]
          },
          "metadata": {
            "tags": []
          }
        },
        {
          "output_type": "display_data",
          "data": {
            "application/javascript": [
              "\n",
              "        if (window._pyforest_update_imports_cell) { window._pyforest_update_imports_cell('import plotly.express as px\\nimport tensorflow as tf\\nimport plotly as py\\nimport pandas as pd\\nimport pydot\\nimport numpy as np\\nimport matplotlib as mpl\\nfrom sklearn.model_selection import train_test_split\\nimport tqdm\\nimport matplotlib.pyplot as plt'); }\n",
              "    "
            ],
            "text/plain": [
              "<IPython.core.display.Javascript object>"
            ]
          },
          "metadata": {
            "tags": []
          }
        },
        {
          "output_type": "display_data",
          "data": {
            "application/javascript": [
              "\n",
              "        if (window._pyforest_update_imports_cell) { window._pyforest_update_imports_cell('import plotly.express as px\\nimport tensorflow as tf\\nimport plotly as py\\nimport pandas as pd\\nimport pydot\\nimport numpy as np\\nimport matplotlib as mpl\\nfrom sklearn.model_selection import train_test_split\\nimport tqdm\\nimport matplotlib.pyplot as plt'); }\n",
              "    "
            ],
            "text/plain": [
              "<IPython.core.display.Javascript object>"
            ]
          },
          "metadata": {
            "tags": []
          }
        },
        {
          "output_type": "display_data",
          "data": {
            "application/javascript": [
              "\n",
              "        if (window._pyforest_update_imports_cell) { window._pyforest_update_imports_cell('import plotly.express as px\\nimport tensorflow as tf\\nimport plotly as py\\nimport pandas as pd\\nimport pydot\\nimport numpy as np\\nimport matplotlib as mpl\\nfrom sklearn.model_selection import train_test_split\\nimport tqdm\\nimport matplotlib.pyplot as plt'); }\n",
              "    "
            ],
            "text/plain": [
              "<IPython.core.display.Javascript object>"
            ]
          },
          "metadata": {
            "tags": []
          }
        },
        {
          "output_type": "display_data",
          "data": {
            "application/javascript": [
              "\n",
              "        if (window._pyforest_update_imports_cell) { window._pyforest_update_imports_cell('import plotly.express as px\\nimport tensorflow as tf\\nimport plotly as py\\nimport pandas as pd\\nimport pydot\\nimport numpy as np\\nimport matplotlib as mpl\\nfrom sklearn.model_selection import train_test_split\\nimport tqdm\\nimport matplotlib.pyplot as plt'); }\n",
              "    "
            ],
            "text/plain": [
              "<IPython.core.display.Javascript object>"
            ]
          },
          "metadata": {
            "tags": []
          }
        },
        {
          "output_type": "display_data",
          "data": {
            "application/javascript": [
              "\n",
              "        if (window._pyforest_update_imports_cell) { window._pyforest_update_imports_cell('import plotly.express as px\\nimport tensorflow as tf\\nimport plotly as py\\nimport pandas as pd\\nimport pydot\\nimport numpy as np\\nimport matplotlib as mpl\\nfrom sklearn.model_selection import train_test_split\\nimport tqdm\\nimport matplotlib.pyplot as plt'); }\n",
              "    "
            ],
            "text/plain": [
              "<IPython.core.display.Javascript object>"
            ]
          },
          "metadata": {
            "tags": []
          }
        },
        {
          "output_type": "display_data",
          "data": {
            "image/png": "[encoded data removed]",
            "text/plain": [
              "<Figure size 1008x360 with 2 Axes>"
            ]
          },
          "metadata": {
            "tags": []
          }
        }
      ]
    },
    {
      "cell_type": "code",
      "metadata": {
        "id": "BTRbiXFOUF0P",
        "outputId": "5d085cad-fe7a-46c6-9dd5-b44443d2160f",
        "colab": {
          "base_uri": "https://localhost:8080/",
          "height": 369
        }
      },
      "source": [
        "plt.figure(figsize=(14,5))\n",
        "\n",
        "lag_acf = acf(train_trans.es, nlags=36, fft=False) \n",
        "lag_pacf = pacf(train_trans.es, method = 'ols', nlags=36)\n",
        "\n",
        "#Plot ACF:\n",
        "plt.subplot(121)\n",
        "plt.plot(lag_acf)\n",
        "plt.axhline(y=0,linestyle='--',color='gray')\n",
        "plt.axhline(y=-1.96/np.sqrt(len(train_trans.es)),linestyle='--',color='gray')\n",
        "plt.axhline(y=1.96/np.sqrt(len(train_trans.es)),linestyle='--',color='gray')\n",
        "plt.title('ACF: ES')\n",
        "\n",
        "#Plot PACF:\n",
        "plt.subplot(122)\n",
        "plt.plot(lag_pacf)\n",
        "plt.axhline(y=0,linestyle='--',color='gray')\n",
        "plt.axhline(y=-1.96/np.sqrt(len(train_trans.es)),linestyle='--',color='gray')\n",
        "plt.axhline(y=1.96/np.sqrt(len(train_trans.es)),linestyle='--',color='gray')\n",
        "plt.title('PACF:ES')\n",
        "plt.tight_layout()"
      ],
      "execution_count": 40,
      "outputs": [
        {
          "output_type": "display_data",
          "data": {
            "application/javascript": [
              "\n",
              "        if (window._pyforest_update_imports_cell) { window._pyforest_update_imports_cell('import plotly.express as px\\nimport tensorflow as tf\\nimport plotly as py\\nimport pandas as pd\\nimport pydot\\nimport numpy as np\\nimport matplotlib as mpl\\nfrom sklearn.model_selection import train_test_split\\nimport tqdm\\nimport matplotlib.pyplot as plt'); }\n",
              "    "
            ],
            "text/plain": [
              "<IPython.core.display.Javascript object>"
            ]
          },
          "metadata": {
            "tags": []
          }
        },
        {
          "output_type": "display_data",
          "data": {
            "application/javascript": [
              "\n",
              "        if (window._pyforest_update_imports_cell) { window._pyforest_update_imports_cell('import plotly.express as px\\nimport tensorflow as tf\\nimport plotly as py\\nimport pandas as pd\\nimport pydot\\nimport numpy as np\\nimport matplotlib as mpl\\nfrom sklearn.model_selection import train_test_split\\nimport tqdm\\nimport matplotlib.pyplot as plt'); }\n",
              "    "
            ],
            "text/plain": [
              "<IPython.core.display.Javascript object>"
            ]
          },
          "metadata": {
            "tags": []
          }
        },
        {
          "output_type": "display_data",
          "data": {
            "application/javascript": [
              "\n",
              "        if (window._pyforest_update_imports_cell) { window._pyforest_update_imports_cell('import plotly.express as px\\nimport tensorflow as tf\\nimport plotly as py\\nimport pandas as pd\\nimport pydot\\nimport numpy as np\\nimport matplotlib as mpl\\nfrom sklearn.model_selection import train_test_split\\nimport tqdm\\nimport matplotlib.pyplot as plt'); }\n",
              "    "
            ],
            "text/plain": [
              "<IPython.core.display.Javascript object>"
            ]
          },
          "metadata": {
            "tags": []
          }
        },
        {
          "output_type": "display_data",
          "data": {
            "application/javascript": [
              "\n",
              "        if (window._pyforest_update_imports_cell) { window._pyforest_update_imports_cell('import plotly.express as px\\nimport tensorflow as tf\\nimport plotly as py\\nimport pandas as pd\\nimport pydot\\nimport numpy as np\\nimport matplotlib as mpl\\nfrom sklearn.model_selection import train_test_split\\nimport tqdm\\nimport matplotlib.pyplot as plt'); }\n",
              "    "
            ],
            "text/plain": [
              "<IPython.core.display.Javascript object>"
            ]
          },
          "metadata": {
            "tags": []
          }
        },
        {
          "output_type": "display_data",
          "data": {
            "application/javascript": [
              "\n",
              "        if (window._pyforest_update_imports_cell) { window._pyforest_update_imports_cell('import plotly.express as px\\nimport tensorflow as tf\\nimport plotly as py\\nimport pandas as pd\\nimport pydot\\nimport numpy as np\\nimport matplotlib as mpl\\nfrom sklearn.model_selection import train_test_split\\nimport tqdm\\nimport matplotlib.pyplot as plt'); }\n",
              "    "
            ],
            "text/plain": [
              "<IPython.core.display.Javascript object>"
            ]
          },
          "metadata": {
            "tags": []
          }
        },
        {
          "output_type": "display_data",
          "data": {
            "application/javascript": [
              "\n",
              "        if (window._pyforest_update_imports_cell) { window._pyforest_update_imports_cell('import plotly.express as px\\nimport tensorflow as tf\\nimport plotly as py\\nimport pandas as pd\\nimport pydot\\nimport numpy as np\\nimport matplotlib as mpl\\nfrom sklearn.model_selection import train_test_split\\nimport tqdm\\nimport matplotlib.pyplot as plt'); }\n",
              "    "
            ],
            "text/plain": [
              "<IPython.core.display.Javascript object>"
            ]
          },
          "metadata": {
            "tags": []
          }
        },
        {
          "output_type": "display_data",
          "data": {
            "application/javascript": [
              "\n",
              "        if (window._pyforest_update_imports_cell) { window._pyforest_update_imports_cell('import plotly.express as px\\nimport tensorflow as tf\\nimport plotly as py\\nimport pandas as pd\\nimport pydot\\nimport numpy as np\\nimport matplotlib as mpl\\nfrom sklearn.model_selection import train_test_split\\nimport tqdm\\nimport matplotlib.pyplot as plt'); }\n",
              "    "
            ],
            "text/plain": [
              "<IPython.core.display.Javascript object>"
            ]
          },
          "metadata": {
            "tags": []
          }
        },
        {
          "output_type": "display_data",
          "data": {
            "application/javascript": [
              "\n",
              "        if (window._pyforest_update_imports_cell) { window._pyforest_update_imports_cell('import plotly.express as px\\nimport tensorflow as tf\\nimport plotly as py\\nimport pandas as pd\\nimport pydot\\nimport numpy as np\\nimport matplotlib as mpl\\nfrom sklearn.model_selection import train_test_split\\nimport tqdm\\nimport matplotlib.pyplot as plt'); }\n",
              "    "
            ],
            "text/plain": [
              "<IPython.core.display.Javascript object>"
            ]
          },
          "metadata": {
            "tags": []
          }
        },
        {
          "output_type": "display_data",
          "data": {
            "application/javascript": [
              "\n",
              "        if (window._pyforest_update_imports_cell) { window._pyforest_update_imports_cell('import plotly.express as px\\nimport tensorflow as tf\\nimport plotly as py\\nimport pandas as pd\\nimport pydot\\nimport numpy as np\\nimport matplotlib as mpl\\nfrom sklearn.model_selection import train_test_split\\nimport tqdm\\nimport matplotlib.pyplot as plt'); }\n",
              "    "
            ],
            "text/plain": [
              "<IPython.core.display.Javascript object>"
            ]
          },
          "metadata": {
            "tags": []
          }
        },
        {
          "output_type": "display_data",
          "data": {
            "application/javascript": [
              "\n",
              "        if (window._pyforest_update_imports_cell) { window._pyforest_update_imports_cell('import plotly.express as px\\nimport tensorflow as tf\\nimport plotly as py\\nimport pandas as pd\\nimport pydot\\nimport numpy as np\\nimport matplotlib as mpl\\nfrom sklearn.model_selection import train_test_split\\nimport tqdm\\nimport matplotlib.pyplot as plt'); }\n",
              "    "
            ],
            "text/plain": [
              "<IPython.core.display.Javascript object>"
            ]
          },
          "metadata": {
            "tags": []
          }
        },
        {
          "output_type": "display_data",
          "data": {
            "application/javascript": [
              "\n",
              "        if (window._pyforest_update_imports_cell) { window._pyforest_update_imports_cell('import plotly.express as px\\nimport tensorflow as tf\\nimport plotly as py\\nimport pandas as pd\\nimport pydot\\nimport numpy as np\\nimport matplotlib as mpl\\nfrom sklearn.model_selection import train_test_split\\nimport tqdm\\nimport matplotlib.pyplot as plt'); }\n",
              "    "
            ],
            "text/plain": [
              "<IPython.core.display.Javascript object>"
            ]
          },
          "metadata": {
            "tags": []
          }
        },
        {
          "output_type": "display_data",
          "data": {
            "application/javascript": [
              "\n",
              "        if (window._pyforest_update_imports_cell) { window._pyforest_update_imports_cell('import plotly.express as px\\nimport tensorflow as tf\\nimport plotly as py\\nimport pandas as pd\\nimport pydot\\nimport numpy as np\\nimport matplotlib as mpl\\nfrom sklearn.model_selection import train_test_split\\nimport tqdm\\nimport matplotlib.pyplot as plt'); }\n",
              "    "
            ],
            "text/plain": [
              "<IPython.core.display.Javascript object>"
            ]
          },
          "metadata": {
            "tags": []
          }
        },
        {
          "output_type": "display_data",
          "data": {
            "application/javascript": [
              "\n",
              "        if (window._pyforest_update_imports_cell) { window._pyforest_update_imports_cell('import plotly.express as px\\nimport tensorflow as tf\\nimport plotly as py\\nimport pandas as pd\\nimport pydot\\nimport numpy as np\\nimport matplotlib as mpl\\nfrom sklearn.model_selection import train_test_split\\nimport tqdm\\nimport matplotlib.pyplot as plt'); }\n",
              "    "
            ],
            "text/plain": [
              "<IPython.core.display.Javascript object>"
            ]
          },
          "metadata": {
            "tags": []
          }
        },
        {
          "output_type": "display_data",
          "data": {
            "application/javascript": [
              "\n",
              "        if (window._pyforest_update_imports_cell) { window._pyforest_update_imports_cell('import plotly.express as px\\nimport tensorflow as tf\\nimport plotly as py\\nimport pandas as pd\\nimport pydot\\nimport numpy as np\\nimport matplotlib as mpl\\nfrom sklearn.model_selection import train_test_split\\nimport tqdm\\nimport matplotlib.pyplot as plt'); }\n",
              "    "
            ],
            "text/plain": [
              "<IPython.core.display.Javascript object>"
            ]
          },
          "metadata": {
            "tags": []
          }
        },
        {
          "output_type": "display_data",
          "data": {
            "application/javascript": [
              "\n",
              "        if (window._pyforest_update_imports_cell) { window._pyforest_update_imports_cell('import plotly.express as px\\nimport tensorflow as tf\\nimport plotly as py\\nimport pandas as pd\\nimport pydot\\nimport numpy as np\\nimport matplotlib as mpl\\nfrom sklearn.model_selection import train_test_split\\nimport tqdm\\nimport matplotlib.pyplot as plt'); }\n",
              "    "
            ],
            "text/plain": [
              "<IPython.core.display.Javascript object>"
            ]
          },
          "metadata": {
            "tags": []
          }
        },
        {
          "output_type": "display_data",
          "data": {
            "application/javascript": [
              "\n",
              "        if (window._pyforest_update_imports_cell) { window._pyforest_update_imports_cell('import plotly.express as px\\nimport tensorflow as tf\\nimport plotly as py\\nimport pandas as pd\\nimport pydot\\nimport numpy as np\\nimport matplotlib as mpl\\nfrom sklearn.model_selection import train_test_split\\nimport tqdm\\nimport matplotlib.pyplot as plt'); }\n",
              "    "
            ],
            "text/plain": [
              "<IPython.core.display.Javascript object>"
            ]
          },
          "metadata": {
            "tags": []
          }
        },
        {
          "output_type": "display_data",
          "data": {
            "application/javascript": [
              "\n",
              "        if (window._pyforest_update_imports_cell) { window._pyforest_update_imports_cell('import plotly.express as px\\nimport tensorflow as tf\\nimport plotly as py\\nimport pandas as pd\\nimport pydot\\nimport numpy as np\\nimport matplotlib as mpl\\nfrom sklearn.model_selection import train_test_split\\nimport tqdm\\nimport matplotlib.pyplot as plt'); }\n",
              "    "
            ],
            "text/plain": [
              "<IPython.core.display.Javascript object>"
            ]
          },
          "metadata": {
            "tags": []
          }
        },
        {
          "output_type": "display_data",
          "data": {
            "application/javascript": [
              "\n",
              "        if (window._pyforest_update_imports_cell) { window._pyforest_update_imports_cell('import plotly.express as px\\nimport tensorflow as tf\\nimport plotly as py\\nimport pandas as pd\\nimport pydot\\nimport numpy as np\\nimport matplotlib as mpl\\nfrom sklearn.model_selection import train_test_split\\nimport tqdm\\nimport matplotlib.pyplot as plt'); }\n",
              "    "
            ],
            "text/plain": [
              "<IPython.core.display.Javascript object>"
            ]
          },
          "metadata": {
            "tags": []
          }
        },
        {
          "output_type": "display_data",
          "data": {
            "image/png": "[encoded data removed]",
            "text/plain": [
              "<Figure size 1008x360 with 2 Axes>"
            ]
          },
          "metadata": {
            "tags": []
          }
        }
      ]
    },
    {
      "cell_type": "code",
      "metadata": {
        "id": "0wgHQZ7VUTeb",
        "outputId": "8705f92b-74f8-4fda-b88f-b6c6094c8618",
        "colab": {
          "base_uri": "https://localhost:8080/",
          "height": 369
        }
      },
      "source": [
        "plt.figure(figsize=(14,5))\n",
        "\n",
        "lag_acf = acf(train_trans.gc, nlags=36, fft=False) \n",
        "lag_pacf = pacf(train_trans.gc, method = 'ols', nlags=36)\n",
        "\n",
        "#Plot ACF:\n",
        "plt.subplot(121)\n",
        "plt.plot(lag_acf)\n",
        "plt.axhline(y=0,linestyle='--',color='gray')\n",
        "plt.axhline(y=-1.96/np.sqrt(len(train_trans.gc)),linestyle='--',color='gray')\n",
        "plt.axhline(y=1.96/np.sqrt(len(train_trans.gc)),linestyle='--',color='gray')\n",
        "plt.title('ACF:GC')\n",
        "\n",
        "#Plot PACF:\n",
        "plt.subplot(122)\n",
        "plt.plot(lag_pacf)\n",
        "plt.axhline(y=0,linestyle='--',color='gray')\n",
        "plt.axhline(y=-1.96/np.sqrt(len(train_trans.gc)),linestyle='--',color='gray')\n",
        "plt.axhline(y=1.96/np.sqrt(len(train_trans.gc)),linestyle='--',color='gray')\n",
        "plt.title('PACF:GC')\n",
        "plt.tight_layout()"
      ],
      "execution_count": 39,
      "outputs": [
        {
          "output_type": "display_data",
          "data": {
            "application/javascript": [
              "\n",
              "        if (window._pyforest_update_imports_cell) { window._pyforest_update_imports_cell('import plotly.express as px\\nimport tensorflow as tf\\nimport plotly as py\\nimport pandas as pd\\nimport pydot\\nimport numpy as np\\nfrom sklearn.model_selection import train_test_split\\nimport tqdm\\nimport matplotlib.pyplot as plt'); }\n",
              "    "
            ],
            "text/plain": [
              "<IPython.core.display.Javascript object>"
            ]
          },
          "metadata": {
            "tags": []
          }
        },
        {
          "output_type": "display_data",
          "data": {
            "application/javascript": [
              "\n",
              "        if (window._pyforest_update_imports_cell) { window._pyforest_update_imports_cell('import plotly.express as px\\nimport tensorflow as tf\\nimport plotly as py\\nimport pandas as pd\\nimport pydot\\nimport numpy as np\\nfrom sklearn.model_selection import train_test_split\\nimport tqdm\\nimport matplotlib.pyplot as plt'); }\n",
              "    "
            ],
            "text/plain": [
              "<IPython.core.display.Javascript object>"
            ]
          },
          "metadata": {
            "tags": []
          }
        },
        {
          "output_type": "display_data",
          "data": {
            "application/javascript": [
              "\n",
              "        if (window._pyforest_update_imports_cell) { window._pyforest_update_imports_cell('import plotly.express as px\\nimport tensorflow as tf\\nimport plotly as py\\nimport pandas as pd\\nimport pydot\\nimport numpy as np\\nfrom sklearn.model_selection import train_test_split\\nimport tqdm\\nimport matplotlib.pyplot as plt'); }\n",
              "    "
            ],
            "text/plain": [
              "<IPython.core.display.Javascript object>"
            ]
          },
          "metadata": {
            "tags": []
          }
        },
        {
          "output_type": "display_data",
          "data": {
            "application/javascript": [
              "\n",
              "        if (window._pyforest_update_imports_cell) { window._pyforest_update_imports_cell('import plotly.express as px\\nimport tensorflow as tf\\nimport plotly as py\\nimport pandas as pd\\nimport pydot\\nimport numpy as np\\nfrom sklearn.model_selection import train_test_split\\nimport tqdm\\nimport matplotlib.pyplot as plt'); }\n",
              "    "
            ],
            "text/plain": [
              "<IPython.core.display.Javascript object>"
            ]
          },
          "metadata": {
            "tags": []
          }
        },
        {
          "output_type": "display_data",
          "data": {
            "application/javascript": [
              "\n",
              "        if (window._pyforest_update_imports_cell) { window._pyforest_update_imports_cell('import plotly.express as px\\nimport tensorflow as tf\\nimport plotly as py\\nimport pandas as pd\\nimport pydot\\nimport numpy as np\\nfrom sklearn.model_selection import train_test_split\\nimport tqdm\\nimport matplotlib.pyplot as plt'); }\n",
              "    "
            ],
            "text/plain": [
              "<IPython.core.display.Javascript object>"
            ]
          },
          "metadata": {
            "tags": []
          }
        },
        {
          "output_type": "display_data",
          "data": {
            "application/javascript": [
              "\n",
              "        if (window._pyforest_update_imports_cell) { window._pyforest_update_imports_cell('import plotly.express as px\\nimport tensorflow as tf\\nimport plotly as py\\nimport pandas as pd\\nimport pydot\\nimport numpy as np\\nfrom sklearn.model_selection import train_test_split\\nimport tqdm\\nimport matplotlib.pyplot as plt'); }\n",
              "    "
            ],
            "text/plain": [
              "<IPython.core.display.Javascript object>"
            ]
          },
          "metadata": {
            "tags": []
          }
        },
        {
          "output_type": "display_data",
          "data": {
            "application/javascript": [
              "\n",
              "        if (window._pyforest_update_imports_cell) { window._pyforest_update_imports_cell('import plotly.express as px\\nimport tensorflow as tf\\nimport plotly as py\\nimport pandas as pd\\nimport pydot\\nimport numpy as np\\nfrom sklearn.model_selection import train_test_split\\nimport tqdm\\nimport matplotlib.pyplot as plt'); }\n",
              "    "
            ],
            "text/plain": [
              "<IPython.core.display.Javascript object>"
            ]
          },
          "metadata": {
            "tags": []
          }
        },
        {
          "output_type": "display_data",
          "data": {
            "application/javascript": [
              "\n",
              "        if (window._pyforest_update_imports_cell) { window._pyforest_update_imports_cell('import plotly.express as px\\nimport tensorflow as tf\\nimport plotly as py\\nimport pandas as pd\\nimport pydot\\nimport numpy as np\\nfrom sklearn.model_selection import train_test_split\\nimport tqdm\\nimport matplotlib.pyplot as plt'); }\n",
              "    "
            ],
            "text/plain": [
              "<IPython.core.display.Javascript object>"
            ]
          },
          "metadata": {
            "tags": []
          }
        },
        {
          "output_type": "display_data",
          "data": {
            "application/javascript": [
              "\n",
              "        if (window._pyforest_update_imports_cell) { window._pyforest_update_imports_cell('import plotly.express as px\\nimport tensorflow as tf\\nimport plotly as py\\nimport pandas as pd\\nimport pydot\\nimport numpy as np\\nfrom sklearn.model_selection import train_test_split\\nimport tqdm\\nimport matplotlib.pyplot as plt'); }\n",
              "    "
            ],
            "text/plain": [
              "<IPython.core.display.Javascript object>"
            ]
          },
          "metadata": {
            "tags": []
          }
        },
        {
          "output_type": "display_data",
          "data": {
            "application/javascript": [
              "\n",
              "        if (window._pyforest_update_imports_cell) { window._pyforest_update_imports_cell('import plotly.express as px\\nimport tensorflow as tf\\nimport plotly as py\\nimport pandas as pd\\nimport pydot\\nimport numpy as np\\nfrom sklearn.model_selection import train_test_split\\nimport tqdm\\nimport matplotlib.pyplot as plt'); }\n",
              "    "
            ],
            "text/plain": [
              "<IPython.core.display.Javascript object>"
            ]
          },
          "metadata": {
            "tags": []
          }
        },
        {
          "output_type": "display_data",
          "data": {
            "application/javascript": [
              "\n",
              "        if (window._pyforest_update_imports_cell) { window._pyforest_update_imports_cell('import plotly.express as px\\nimport tensorflow as tf\\nimport plotly as py\\nimport pandas as pd\\nimport pydot\\nimport numpy as np\\nfrom sklearn.model_selection import train_test_split\\nimport tqdm\\nimport matplotlib.pyplot as plt'); }\n",
              "    "
            ],
            "text/plain": [
              "<IPython.core.display.Javascript object>"
            ]
          },
          "metadata": {
            "tags": []
          }
        },
        {
          "output_type": "display_data",
          "data": {
            "application/javascript": [
              "\n",
              "        if (window._pyforest_update_imports_cell) { window._pyforest_update_imports_cell('import plotly.express as px\\nimport tensorflow as tf\\nimport plotly as py\\nimport pandas as pd\\nimport pydot\\nimport numpy as np\\nfrom sklearn.model_selection import train_test_split\\nimport tqdm\\nimport matplotlib.pyplot as plt'); }\n",
              "    "
            ],
            "text/plain": [
              "<IPython.core.display.Javascript object>"
            ]
          },
          "metadata": {
            "tags": []
          }
        },
        {
          "output_type": "display_data",
          "data": {
            "application/javascript": [
              "\n",
              "        if (window._pyforest_update_imports_cell) { window._pyforest_update_imports_cell('import plotly.express as px\\nimport tensorflow as tf\\nimport plotly as py\\nimport pandas as pd\\nimport pydot\\nimport numpy as np\\nfrom sklearn.model_selection import train_test_split\\nimport tqdm\\nimport matplotlib.pyplot as plt'); }\n",
              "    "
            ],
            "text/plain": [
              "<IPython.core.display.Javascript object>"
            ]
          },
          "metadata": {
            "tags": []
          }
        },
        {
          "output_type": "display_data",
          "data": {
            "application/javascript": [
              "\n",
              "        if (window._pyforest_update_imports_cell) { window._pyforest_update_imports_cell('import plotly.express as px\\nimport tensorflow as tf\\nimport plotly as py\\nimport pandas as pd\\nimport pydot\\nimport numpy as np\\nfrom sklearn.model_selection import train_test_split\\nimport tqdm\\nimport matplotlib.pyplot as plt'); }\n",
              "    "
            ],
            "text/plain": [
              "<IPython.core.display.Javascript object>"
            ]
          },
          "metadata": {
            "tags": []
          }
        },
        {
          "output_type": "display_data",
          "data": {
            "application/javascript": [
              "\n",
              "        if (window._pyforest_update_imports_cell) { window._pyforest_update_imports_cell('import plotly.express as px\\nimport tensorflow as tf\\nimport plotly as py\\nimport pandas as pd\\nimport pydot\\nimport numpy as np\\nfrom sklearn.model_selection import train_test_split\\nimport tqdm\\nimport matplotlib.pyplot as plt'); }\n",
              "    "
            ],
            "text/plain": [
              "<IPython.core.display.Javascript object>"
            ]
          },
          "metadata": {
            "tags": []
          }
        },
        {
          "output_type": "display_data",
          "data": {
            "application/javascript": [
              "\n",
              "        if (window._pyforest_update_imports_cell) { window._pyforest_update_imports_cell('import plotly.express as px\\nimport tensorflow as tf\\nimport plotly as py\\nimport pandas as pd\\nimport pydot\\nimport numpy as np\\nfrom sklearn.model_selection import train_test_split\\nimport tqdm\\nimport matplotlib.pyplot as plt'); }\n",
              "    "
            ],
            "text/plain": [
              "<IPython.core.display.Javascript object>"
            ]
          },
          "metadata": {
            "tags": []
          }
        },
        {
          "output_type": "display_data",
          "data": {
            "application/javascript": [
              "\n",
              "        if (window._pyforest_update_imports_cell) { window._pyforest_update_imports_cell('import plotly.express as px\\nimport tensorflow as tf\\nimport plotly as py\\nimport pandas as pd\\nimport pydot\\nimport numpy as np\\nfrom sklearn.model_selection import train_test_split\\nimport tqdm\\nimport matplotlib.pyplot as plt'); }\n",
              "    "
            ],
            "text/plain": [
              "<IPython.core.display.Javascript object>"
            ]
          },
          "metadata": {
            "tags": []
          }
        },
        {
          "output_type": "display_data",
          "data": {
            "application/javascript": [
              "\n",
              "        if (window._pyforest_update_imports_cell) { window._pyforest_update_imports_cell('import plotly.express as px\\nimport tensorflow as tf\\nimport plotly as py\\nimport pandas as pd\\nimport pydot\\nimport numpy as np\\nfrom sklearn.model_selection import train_test_split\\nimport tqdm\\nimport matplotlib.pyplot as plt'); }\n",
              "    "
            ],
            "text/plain": [
              "<IPython.core.display.Javascript object>"
            ]
          },
          "metadata": {
            "tags": []
          }
        },
        {
          "output_type": "display_data",
          "data": {
            "image/png": "[encoded data removed]",
            "text/plain": [
              "<Figure size 1008x360 with 2 Axes>"
            ]
          },
          "metadata": {
            "tags": []
          }
        }
      ]
    },
    {
      "cell_type": "code",
      "metadata": {
        "id": "739QbXT1Ufob",
        "outputId": "515655ef-e86f-4a4c-ffc3-fc26581b9d95",
        "colab": {
          "base_uri": "https://localhost:8080/",
          "height": 369
        }
      },
      "source": [
        "plt.figure(figsize=(14,5))\n",
        "\n",
        "lag_acf = acf(train_trans.nq, nlags=36,fft=False) \n",
        "lag_pacf = pacf(train_trans.nq, method = 'ols', nlags=36)\n",
        "\n",
        "#Plot ACF:\n",
        "plt.subplot(121)\n",
        "plt.plot(lag_acf)\n",
        "plt.axhline(y=0,linestyle='--',color='gray')\n",
        "plt.axhline(y=-1.96/np.sqrt(len(train_trans.nq)),linestyle='--',color='gray')\n",
        "plt.axhline(y=1.96/np.sqrt(len(train_trans.nq)),linestyle='--',color='gray')\n",
        "plt.title('ACF:NQ')\n",
        "\n",
        "#Plot PACF:\n",
        "plt.subplot(122)\n",
        "plt.plot(lag_pacf)\n",
        "plt.axhline(y=0,linestyle='--',color='gray')\n",
        "plt.axhline(y=-1.96/np.sqrt(len(train_trans.nq)),linestyle='--',color='gray')\n",
        "plt.axhline(y=1.96/np.sqrt(len(train_trans.nq)),linestyle='--',color='gray')\n",
        "plt.title('PACF:NQ')\n",
        "plt.tight_layout()"
      ],
      "execution_count": 37,
      "outputs": [
        {
          "output_type": "display_data",
          "data": {
            "application/javascript": [
              "\n",
              "        if (window._pyforest_update_imports_cell) { window._pyforest_update_imports_cell('import plotly.express as px\\nimport tensorflow as tf\\nimport plotly as py\\nimport pandas as pd\\nimport pydot\\nimport numpy as np\\nfrom sklearn.model_selection import train_test_split\\nimport tqdm\\nimport matplotlib.pyplot as plt'); }\n",
              "    "
            ],
            "text/plain": [
              "<IPython.core.display.Javascript object>"
            ]
          },
          "metadata": {
            "tags": []
          }
        },
        {
          "output_type": "display_data",
          "data": {
            "application/javascript": [
              "\n",
              "        if (window._pyforest_update_imports_cell) { window._pyforest_update_imports_cell('import plotly.express as px\\nimport tensorflow as tf\\nimport plotly as py\\nimport pandas as pd\\nimport pydot\\nimport numpy as np\\nfrom sklearn.model_selection import train_test_split\\nimport tqdm\\nimport matplotlib.pyplot as plt'); }\n",
              "    "
            ],
            "text/plain": [
              "<IPython.core.display.Javascript object>"
            ]
          },
          "metadata": {
            "tags": []
          }
        },
        {
          "output_type": "display_data",
          "data": {
            "application/javascript": [
              "\n",
              "        if (window._pyforest_update_imports_cell) { window._pyforest_update_imports_cell('import plotly.express as px\\nimport tensorflow as tf\\nimport plotly as py\\nimport pandas as pd\\nimport pydot\\nimport numpy as np\\nfrom sklearn.model_selection import train_test_split\\nimport tqdm\\nimport matplotlib.pyplot as plt'); }\n",
              "    "
            ],
            "text/plain": [
              "<IPython.core.display.Javascript object>"
            ]
          },
          "metadata": {
            "tags": []
          }
        },
        {
          "output_type": "display_data",
          "data": {
            "application/javascript": [
              "\n",
              "        if (window._pyforest_update_imports_cell) { window._pyforest_update_imports_cell('import plotly.express as px\\nimport tensorflow as tf\\nimport plotly as py\\nimport pandas as pd\\nimport pydot\\nimport numpy as np\\nfrom sklearn.model_selection import train_test_split\\nimport tqdm\\nimport matplotlib.pyplot as plt'); }\n",
              "    "
            ],
            "text/plain": [
              "<IPython.core.display.Javascript object>"
            ]
          },
          "metadata": {
            "tags": []
          }
        },
        {
          "output_type": "display_data",
          "data": {
            "application/javascript": [
              "\n",
              "        if (window._pyforest_update_imports_cell) { window._pyforest_update_imports_cell('import plotly.express as px\\nimport tensorflow as tf\\nimport plotly as py\\nimport pandas as pd\\nimport pydot\\nimport numpy as np\\nfrom sklearn.model_selection import train_test_split\\nimport tqdm\\nimport matplotlib.pyplot as plt'); }\n",
              "    "
            ],
            "text/plain": [
              "<IPython.core.display.Javascript object>"
            ]
          },
          "metadata": {
            "tags": []
          }
        },
        {
          "output_type": "display_data",
          "data": {
            "application/javascript": [
              "\n",
              "        if (window._pyforest_update_imports_cell) { window._pyforest_update_imports_cell('import plotly.express as px\\nimport tensorflow as tf\\nimport plotly as py\\nimport pandas as pd\\nimport pydot\\nimport numpy as np\\nfrom sklearn.model_selection import train_test_split\\nimport tqdm\\nimport matplotlib.pyplot as plt'); }\n",
              "    "
            ],
            "text/plain": [
              "<IPython.core.display.Javascript object>"
            ]
          },
          "metadata": {
            "tags": []
          }
        },
        {
          "output_type": "display_data",
          "data": {
            "application/javascript": [
              "\n",
              "        if (window._pyforest_update_imports_cell) { window._pyforest_update_imports_cell('import plotly.express as px\\nimport tensorflow as tf\\nimport plotly as py\\nimport pandas as pd\\nimport pydot\\nimport numpy as np\\nfrom sklearn.model_selection import train_test_split\\nimport tqdm\\nimport matplotlib.pyplot as plt'); }\n",
              "    "
            ],
            "text/plain": [
              "<IPython.core.display.Javascript object>"
            ]
          },
          "metadata": {
            "tags": []
          }
        },
        {
          "output_type": "display_data",
          "data": {
            "application/javascript": [
              "\n",
              "        if (window._pyforest_update_imports_cell) { window._pyforest_update_imports_cell('import plotly.express as px\\nimport tensorflow as tf\\nimport plotly as py\\nimport pandas as pd\\nimport pydot\\nimport numpy as np\\nfrom sklearn.model_selection import train_test_split\\nimport tqdm\\nimport matplotlib.pyplot as plt'); }\n",
              "    "
            ],
            "text/plain": [
              "<IPython.core.display.Javascript object>"
            ]
          },
          "metadata": {
            "tags": []
          }
        },
        {
          "output_type": "display_data",
          "data": {
            "application/javascript": [
              "\n",
              "        if (window._pyforest_update_imports_cell) { window._pyforest_update_imports_cell('import plotly.express as px\\nimport tensorflow as tf\\nimport plotly as py\\nimport pandas as pd\\nimport pydot\\nimport numpy as np\\nfrom sklearn.model_selection import train_test_split\\nimport tqdm\\nimport matplotlib.pyplot as plt'); }\n",
              "    "
            ],
            "text/plain": [
              "<IPython.core.display.Javascript object>"
            ]
          },
          "metadata": {
            "tags": []
          }
        },
        {
          "output_type": "display_data",
          "data": {
            "application/javascript": [
              "\n",
              "        if (window._pyforest_update_imports_cell) { window._pyforest_update_imports_cell('import plotly.express as px\\nimport tensorflow as tf\\nimport plotly as py\\nimport pandas as pd\\nimport pydot\\nimport numpy as np\\nfrom sklearn.model_selection import train_test_split\\nimport tqdm\\nimport matplotlib.pyplot as plt'); }\n",
              "    "
            ],
            "text/plain": [
              "<IPython.core.display.Javascript object>"
            ]
          },
          "metadata": {
            "tags": []
          }
        },
        {
          "output_type": "display_data",
          "data": {
            "application/javascript": [
              "\n",
              "        if (window._pyforest_update_imports_cell) { window._pyforest_update_imports_cell('import plotly.express as px\\nimport tensorflow as tf\\nimport plotly as py\\nimport pandas as pd\\nimport pydot\\nimport numpy as np\\nfrom sklearn.model_selection import train_test_split\\nimport tqdm\\nimport matplotlib.pyplot as plt'); }\n",
              "    "
            ],
            "text/plain": [
              "<IPython.core.display.Javascript object>"
            ]
          },
          "metadata": {
            "tags": []
          }
        },
        {
          "output_type": "display_data",
          "data": {
            "application/javascript": [
              "\n",
              "        if (window._pyforest_update_imports_cell) { window._pyforest_update_imports_cell('import plotly.express as px\\nimport tensorflow as tf\\nimport plotly as py\\nimport pandas as pd\\nimport pydot\\nimport numpy as np\\nfrom sklearn.model_selection import train_test_split\\nimport tqdm\\nimport matplotlib.pyplot as plt'); }\n",
              "    "
            ],
            "text/plain": [
              "<IPython.core.display.Javascript object>"
            ]
          },
          "metadata": {
            "tags": []
          }
        },
        {
          "output_type": "display_data",
          "data": {
            "application/javascript": [
              "\n",
              "        if (window._pyforest_update_imports_cell) { window._pyforest_update_imports_cell('import plotly.express as px\\nimport tensorflow as tf\\nimport plotly as py\\nimport pandas as pd\\nimport pydot\\nimport numpy as np\\nfrom sklearn.model_selection import train_test_split\\nimport tqdm\\nimport matplotlib.pyplot as plt'); }\n",
              "    "
            ],
            "text/plain": [
              "<IPython.core.display.Javascript object>"
            ]
          },
          "metadata": {
            "tags": []
          }
        },
        {
          "output_type": "display_data",
          "data": {
            "application/javascript": [
              "\n",
              "        if (window._pyforest_update_imports_cell) { window._pyforest_update_imports_cell('import plotly.express as px\\nimport tensorflow as tf\\nimport plotly as py\\nimport pandas as pd\\nimport pydot\\nimport numpy as np\\nfrom sklearn.model_selection import train_test_split\\nimport tqdm\\nimport matplotlib.pyplot as plt'); }\n",
              "    "
            ],
            "text/plain": [
              "<IPython.core.display.Javascript object>"
            ]
          },
          "metadata": {
            "tags": []
          }
        },
        {
          "output_type": "display_data",
          "data": {
            "application/javascript": [
              "\n",
              "        if (window._pyforest_update_imports_cell) { window._pyforest_update_imports_cell('import plotly.express as px\\nimport tensorflow as tf\\nimport plotly as py\\nimport pandas as pd\\nimport pydot\\nimport numpy as np\\nfrom sklearn.model_selection import train_test_split\\nimport tqdm\\nimport matplotlib.pyplot as plt'); }\n",
              "    "
            ],
            "text/plain": [
              "<IPython.core.display.Javascript object>"
            ]
          },
          "metadata": {
            "tags": []
          }
        },
        {
          "output_type": "display_data",
          "data": {
            "application/javascript": [
              "\n",
              "        if (window._pyforest_update_imports_cell) { window._pyforest_update_imports_cell('import plotly.express as px\\nimport tensorflow as tf\\nimport plotly as py\\nimport pandas as pd\\nimport pydot\\nimport numpy as np\\nfrom sklearn.model_selection import train_test_split\\nimport tqdm\\nimport matplotlib.pyplot as plt'); }\n",
              "    "
            ],
            "text/plain": [
              "<IPython.core.display.Javascript object>"
            ]
          },
          "metadata": {
            "tags": []
          }
        },
        {
          "output_type": "display_data",
          "data": {
            "application/javascript": [
              "\n",
              "        if (window._pyforest_update_imports_cell) { window._pyforest_update_imports_cell('import plotly.express as px\\nimport tensorflow as tf\\nimport plotly as py\\nimport pandas as pd\\nimport pydot\\nimport numpy as np\\nfrom sklearn.model_selection import train_test_split\\nimport tqdm\\nimport matplotlib.pyplot as plt'); }\n",
              "    "
            ],
            "text/plain": [
              "<IPython.core.display.Javascript object>"
            ]
          },
          "metadata": {
            "tags": []
          }
        },
        {
          "output_type": "display_data",
          "data": {
            "application/javascript": [
              "\n",
              "        if (window._pyforest_update_imports_cell) { window._pyforest_update_imports_cell('import plotly.express as px\\nimport tensorflow as tf\\nimport plotly as py\\nimport pandas as pd\\nimport pydot\\nimport numpy as np\\nfrom sklearn.model_selection import train_test_split\\nimport tqdm\\nimport matplotlib.pyplot as plt'); }\n",
              "    "
            ],
            "text/plain": [
              "<IPython.core.display.Javascript object>"
            ]
          },
          "metadata": {
            "tags": []
          }
        },
        {
          "output_type": "display_data",
          "data": {
            "image/png": "[encoded data removed]",
            "text/plain": [
              "<Figure size 1008x360 with 2 Axes>"
            ]
          },
          "metadata": {
            "tags": []
          }
        }
      ]
    },
    {
      "cell_type": "markdown",
      "metadata": {
        "id": "3NTh_AiMSPvz"
      },
      "source": [
        "We can conclude that the time series is correlated with itself shifted by 2 minutes.\n",
        "\n",
        "\n",
        "## Lag order selection\n",
        "\n",
        "Iteratively fitting increasing orders of VAR model to identify the order that gives a model with least AIC."
      ]
    },
    {
      "cell_type": "code",
      "metadata": {
        "id": "E58XvXn6SQuw",
        "outputId": "7db86caa-5537-4c66-e091-13375b80eb15",
        "colab": {
          "base_uri": "https://localhost:8080/",
          "height": 924
        }
      },
      "source": [
        "from statsmodels.tsa.api import VAR\n",
        "pd.options.display.float_format = \"{:.2f}\".format\n",
        "model = VAR(train_trans.values)\n",
        "for i in [1,2,3,4,5,6,7,8,9]:\n",
        "    res = model.fit(i)\n",
        "    print('Lag Order =', i)\n",
        "    print('AIC : ', res.aic)\n",
        "    print('BIC : ', res.bic)\n",
        "    print('FPE : ', res.fpe)\n",
        "    print('HQIC: ', res.hqic, '\\n')"
      ],
      "execution_count": 35,
      "outputs": [
        {
          "output_type": "display_data",
          "data": {
            "application/javascript": [
              "\n",
              "        if (window._pyforest_update_imports_cell) { window._pyforest_update_imports_cell('import plotly.express as px\\nimport tensorflow as tf\\nimport plotly as py\\nimport pandas as pd\\nimport pydot\\nimport numpy as np\\nfrom sklearn.model_selection import train_test_split\\nimport tqdm\\nimport matplotlib.pyplot as plt'); }\n",
              "    "
            ],
            "text/plain": [
              "<IPython.core.display.Javascript object>"
            ]
          },
          "metadata": {
            "tags": []
          }
        },
        {
          "output_type": "stream",
          "text": [
            "Lag Order = 1\n",
            "AIC :  44.19562983789861\n",
            "BIC :  44.207533950298995\n",
            "FPE :  1.5628531155798278e+19\n",
            "HQIC:  44.19945418768872 \n",
            "\n",
            "Lag Order = 2\n",
            "AIC :  44.13410656826821\n",
            "BIC :  44.156214870782755\n",
            "FPE :  1.4695993339990856e+19\n",
            "HQIC:  44.141209157446625 \n",
            "\n",
            "Lag Order = 3\n",
            "AIC :  44.11592521550747\n",
            "BIC :  44.1482383222285\n",
            "FPE :  1.4431214623184474e+19\n",
            "HQIC:  44.12630625204882 \n",
            "\n",
            "Lag Order = 4\n",
            "AIC :  44.10859715820085\n",
            "BIC :  44.15111568327942\n",
            "FPE :  1.4325848411965825e+19\n",
            "HQIC:  44.1222568501002 \n",
            "\n",
            "Lag Order = 5\n",
            "AIC :  44.106030196989614\n",
            "BIC :  44.15875475463548\n",
            "FPE :  1.4289121705459634e+19\n",
            "HQIC:  44.122968752262445 \n",
            "\n",
            "Lag Order = 6\n",
            "AIC :  44.104889110681995\n",
            "BIC :  44.16782031516368\n",
            "FPE :  1.4272825931328674e+19\n",
            "HQIC:  44.12510673736424 \n",
            "\n",
            "Lag Order = 7\n",
            "AIC :  44.103883961707965\n",
            "BIC :  44.1770224273527\n",
            "FPE :  1.425848688865977e+19\n",
            "HQIC:  44.127380867855976 \n",
            "\n",
            "Lag Order = 8\n",
            "AIC :  44.10371089313335\n",
            "BIC :  44.187057234327156\n",
            "FPE :  1.4256019493421416e+19\n",
            "HQIC:  44.13048728682394 \n",
            "\n",
            "Lag Order = 9\n",
            "AIC :  44.10486198147496\n",
            "BIC :  44.19841681266258\n",
            "FPE :  1.427243899111314e+19\n",
            "HQIC:  44.13491807080537 \n",
            "\n"
          ],
          "name": "stdout"
        }
      ]
    },
    {
      "cell_type": "markdown",
      "metadata": {
        "id": "LHLoJfwPS35e"
      },
      "source": [
        "- AIC drops to lowest at lag 8, then increases at lag 9 and then keeps increrasing. We will fo with lag 8 model.\n",
        "- BIC drops to lowest at lag 3\n",
        "- FPE drops to lowest at lag 8\n",
        "- HQIC drops to lowest at lag 4\n",
        "\n",
        "We shall try with lag 8 and lag3 to check which models proves better output."
      ]
    },
    {
      "cell_type": "code",
      "metadata": {
        "id": "z7HkN165S5Wu",
        "outputId": "8c2c7faa-9674-432c-e809-a979577d2a8c",
        "colab": {
          "base_uri": "https://localhost:8080/",
          "height": 332
        }
      },
      "source": [
        "x = model.select_order(maxlags=12)\n",
        "x.summary()"
      ],
      "execution_count": 10,
      "outputs": [
        {
          "output_type": "execute_result",
          "data": {
            "text/html": [
              "<table class=\"simpletable\">\n",
              "<caption>VAR Order Selection (* highlights the minimums)</caption>\n",
              "<tr>\n",
              "   <td></td>      <th>AIC</th>         <th>BIC</th>         <th>FPE</th>        <th>HQIC</th>    \n",
              "</tr>\n",
              "<tr>\n",
              "  <th>0</th>  <td>     44.45</td>  <td>     44.45</td>  <td> 2.017e+19</td>  <td>     44.45</td> \n",
              "</tr>\n",
              "<tr>\n",
              "  <th>1</th>  <td>     44.20</td>  <td>     44.21</td>  <td> 1.565e+19</td>  <td>     44.20</td> \n",
              "</tr>\n",
              "<tr>\n",
              "  <th>2</th>  <td>     44.14</td>  <td>     44.16</td>  <td> 1.471e+19</td>  <td>     44.14</td> \n",
              "</tr>\n",
              "<tr>\n",
              "  <th>3</th>  <td>     44.12</td>  <td>     44.15</td>  <td> 1.444e+19</td>  <td>     44.13</td> \n",
              "</tr>\n",
              "<tr>\n",
              "  <th>4</th>  <td>     44.11</td>  <td>     44.15</td>  <td> 1.434e+19</td>  <td>     44.12</td> \n",
              "</tr>\n",
              "<tr>\n",
              "  <th>5</th>  <td>     44.11</td>  <td>     44.16</td>  <td> 1.430e+19</td>  <td>     44.12</td> \n",
              "</tr>\n",
              "<tr>\n",
              "  <th>6</th>  <td>     44.11</td>  <td>     44.17</td>  <td> 1.428e+19</td>  <td>     44.13</td> \n",
              "</tr>\n",
              "<tr>\n",
              "  <th>7</th>  <td>     44.10</td>  <td>     44.18</td>  <td> 1.427e+19</td>  <td>     44.13</td> \n",
              "</tr>\n",
              "<tr>\n",
              "  <th>8</th>  <td>     44.10</td>  <td>     44.19</td>  <td> 1.426e+19</td>  <td>     44.13</td> \n",
              "</tr>\n",
              "<tr>\n",
              "  <th>9</th>  <td>     44.11</td>  <td>     44.20</td>  <td> 1.428e+19</td>  <td>     44.14</td> \n",
              "</tr>\n",
              "<tr>\n",
              "  <th>10</th> <td>     43.98</td>  <td>     44.08*</td> <td> 1.256e+19</td>  <td>     44.01</td> \n",
              "</tr>\n",
              "<tr>\n",
              "  <th>11</th> <td>     43.97</td>  <td>     44.08</td>  <td> 1.244e+19</td>  <td>     44.00*</td>\n",
              "</tr>\n",
              "<tr>\n",
              "  <th>12</th> <td>     43.96*</td> <td>     44.09</td>  <td> 1.241e+19*</td> <td>     44.00</td> \n",
              "</tr>\n",
              "</table>"
            ],
            "text/plain": [
              "<class 'statsmodels.iolib.table.SimpleTable'>"
            ]
          },
          "metadata": {
            "tags": []
          },
          "execution_count": 10
        }
      ]
    },
    {
      "cell_type": "code",
      "metadata": {
        "id": "gsW9ij4XmUxI",
        "outputId": "a44d7fe6-60a3-45f6-fe9e-f279d92fc5e7",
        "colab": {
          "base_uri": "https://localhost:8080/",
          "height": 34
        }
      },
      "source": [
        "### FIND BEST VAR ORDER ###\n",
        "AIC = {}\n",
        "best_aic, best_order = np.inf, 0\n",
        "\n",
        "for i in range(1,50):\n",
        "    model = VAR(endog=train_trans.values)\n",
        "    model_result = model.fit(maxlags=i)\n",
        "    AIC[i] = model_result.aic\n",
        "    \n",
        "    if AIC[i] < best_aic:\n",
        "        best_aic = AIC[i]\n",
        "        best_order = i\n",
        "        \n",
        "print('BEST ORDER', best_order, 'BEST AIC:', best_aic)"
      ],
      "execution_count": 31,
      "outputs": [
        {
          "output_type": "display_data",
          "data": {
            "application/javascript": [
              "\n",
              "        if (window._pyforest_update_imports_cell) { window._pyforest_update_imports_cell('import pandas as pd\\nimport tqdm\\nimport altair as alt\\nfrom sklearn.model_selection import train_test_split\\nimport tensorflow as tf\\nimport matplotlib.pyplot as plt\\nimport bokeh\\nimport numpy as np\\nimport nltk'); }\n",
              "    "
            ],
            "text/plain": [
              "<IPython.core.display.Javascript object>"
            ]
          },
          "metadata": {
            "tags": []
          }
        },
        {
          "output_type": "stream",
          "text": [
            "BEST ORDER 31 BEST AIC: 43.936840832184316\n"
          ],
          "name": "stdout"
        }
      ]
    },
    {
      "cell_type": "code",
      "metadata": {
        "id": "8jaqYhtYnid6",
        "outputId": "4cd31e64-b94e-48d3-ef59-f01362ded5cb",
        "colab": {
          "base_uri": "https://localhost:8080/",
          "height": 334
        }
      },
      "source": [
        "### PLOT AICs ### \n",
        "plt.style.use('dark_background')\n",
        "plt.figure(figsize=(14,5))\n",
        "plt.plot(range(len(AIC)), list(AIC.values()))\n",
        "plt.plot([best_order-1], [best_aic], marker='o', markersize=8, color=\"red\")\n",
        "plt.xticks(range(len(AIC)), range(1,50))\n",
        "plt.xlabel('lags'); plt.ylabel('AIC')\n",
        "np.set_printoptions(False)"
      ],
      "execution_count": 13,
      "outputs": [
        {
          "output_type": "display_data",
          "data": {
            "application/javascript": [
              "\n",
              "        if (window._pyforest_update_imports_cell) { window._pyforest_update_imports_cell('import numpy as np\\nimport matplotlib.pyplot as plt\\nimport pandas as pd'); }\n",
              "    "
            ],
            "text/plain": [
              "<IPython.core.display.Javascript object>"
            ]
          },
          "metadata": {
            "tags": []
          }
        },
        {
          "output_type": "display_data",
          "data": {
            "application/javascript": [
              "\n",
              "        if (window._pyforest_update_imports_cell) { window._pyforest_update_imports_cell('import numpy as np\\nimport matplotlib.pyplot as plt\\nimport pandas as pd'); }\n",
              "    "
            ],
            "text/plain": [
              "<IPython.core.display.Javascript object>"
            ]
          },
          "metadata": {
            "tags": []
          }
        },
        {
          "output_type": "display_data",
          "data": {
            "application/javascript": [
              "\n",
              "        if (window._pyforest_update_imports_cell) { window._pyforest_update_imports_cell('import numpy as np\\nimport matplotlib.pyplot as plt\\nimport pandas as pd'); }\n",
              "    "
            ],
            "text/plain": [
              "<IPython.core.display.Javascript object>"
            ]
          },
          "metadata": {
            "tags": []
          }
        },
        {
          "output_type": "display_data",
          "data": {
            "application/javascript": [
              "\n",
              "        if (window._pyforest_update_imports_cell) { window._pyforest_update_imports_cell('import numpy as np\\nimport matplotlib.pyplot as plt\\nimport pandas as pd'); }\n",
              "    "
            ],
            "text/plain": [
              "<IPython.core.display.Javascript object>"
            ]
          },
          "metadata": {
            "tags": []
          }
        },
        {
          "output_type": "display_data",
          "data": {
            "application/javascript": [
              "\n",
              "        if (window._pyforest_update_imports_cell) { window._pyforest_update_imports_cell('import numpy as np\\nimport matplotlib.pyplot as plt\\nimport pandas as pd'); }\n",
              "    "
            ],
            "text/plain": [
              "<IPython.core.display.Javascript object>"
            ]
          },
          "metadata": {
            "tags": []
          }
        },
        {
          "output_type": "display_data",
          "data": {
            "application/javascript": [
              "\n",
              "        if (window._pyforest_update_imports_cell) { window._pyforest_update_imports_cell('import numpy as np\\nimport matplotlib.pyplot as plt\\nimport pandas as pd'); }\n",
              "    "
            ],
            "text/plain": [
              "<IPython.core.display.Javascript object>"
            ]
          },
          "metadata": {
            "tags": []
          }
        },
        {
          "output_type": "display_data",
          "data": {
            "application/javascript": [
              "\n",
              "        if (window._pyforest_update_imports_cell) { window._pyforest_update_imports_cell('import numpy as np\\nimport matplotlib.pyplot as plt\\nimport pandas as pd'); }\n",
              "    "
            ],
            "text/plain": [
              "<IPython.core.display.Javascript object>"
            ]
          },
          "metadata": {
            "tags": []
          }
        },
        {
          "output_type": "display_data",
          "data": {
            "application/javascript": [
              "\n",
              "        if (window._pyforest_update_imports_cell) { window._pyforest_update_imports_cell('import numpy as np\\nimport matplotlib.pyplot as plt\\nimport pandas as pd'); }\n",
              "    "
            ],
            "text/plain": [
              "<IPython.core.display.Javascript object>"
            ]
          },
          "metadata": {
            "tags": []
          }
        },
        {
          "output_type": "display_data",
          "data": {
            "image/png": "[encoded data removed]",
            "text/plain": [
              "<Figure size 1008x360 with 1 Axes>"
            ]
          },
          "metadata": {
            "tags": []
          }
        }
      ]
    },
    {
      "cell_type": "markdown",
      "metadata": {
        "id": "PA6UG-h5zg2s"
      },
      "source": [
        "We have few lag values, let us try with 8 lags."
      ]
    },
    {
      "cell_type": "code",
      "metadata": {
        "id": "hodp-ydpTBDM",
        "outputId": "0428e625-ec65-407a-c628-f5125a6aa92d",
        "colab": {
          "base_uri": "https://localhost:8080/",
          "height": 1000
        }
      },
      "source": [
        "import statsmodels.tsa.api as smt\n",
        "# pass \"1min\" frequency\n",
        "train_trans.index = pd.DatetimeIndex(train_trans.index).to_period('1min')\n",
        "\n",
        "# fitting VAR model with associated freq & lags\n",
        "model = smt.VAR(endog = train_trans).fit(maxlags = 2)\n",
        "model.summary()"
      ],
      "execution_count": 44,
      "outputs": [
        {
          "output_type": "display_data",
          "data": {
            "application/javascript": [
              "\n",
              "        if (window._pyforest_update_imports_cell) { window._pyforest_update_imports_cell('import plotly.express as px\\nimport tensorflow as tf\\nimport plotly as py\\nimport pandas as pd\\nimport pydot\\nimport numpy as np\\nimport matplotlib as mpl\\nfrom sklearn.model_selection import train_test_split\\nimport tqdm\\nimport matplotlib.pyplot as plt'); }\n",
              "    "
            ],
            "text/plain": [
              "<IPython.core.display.Javascript object>"
            ]
          },
          "metadata": {
            "tags": []
          }
        },
        {
          "output_type": "execute_result",
          "data": {
            "text/plain": [
              "  Summary of Regression Results   \n",
              "==================================\n",
              "Model:                         VAR\n",
              "Method:                        OLS\n",
              "Date:           Wed, 04, Nov, 2020\n",
              "Time:                     13:04:45\n",
              "--------------------------------------------------------------------\n",
              "No. of Equations:         6.00000    BIC:                    44.1562\n",
              "Nobs:                     29222.0    HQIC:                   44.1412\n",
              "Log likelihood:          -893551.    FPE:                1.46960e+19\n",
              "AIC:                      44.1341    Det(Omega_mle):     1.46568e+19\n",
              "--------------------------------------------------------------------\n",
              "Results for equation es\n",
              "============================================================================\n",
              "               coefficient       std. error           t-stat            prob\n",
              "----------------------------------------------------------------------------\n",
              "const             0.004673         0.006533            0.715           0.474\n",
              "L1.es             0.010116         0.012564            0.805           0.421\n",
              "L1.eurusd         0.000093         0.000025            3.767           0.000\n",
              "L1.gbpusd         0.000012         0.000021            0.557           0.577\n",
              "L1.gc            -0.004301         0.012750           -0.337           0.736\n",
              "L1.nq             0.004013         0.003789            1.059           0.290\n",
              "L1.usdjpy        -0.000001         0.000000           -5.097           0.000\n",
              "L2.es            -0.042412         0.012568           -3.374           0.001\n",
              "L2.eurusd         0.000243         0.000025            9.912           0.000\n",
              "L2.gbpusd         0.000001         0.000021            0.064           0.949\n",
              "L2.gc            -0.010901         0.012745           -0.855           0.392\n",
              "L2.nq             0.007179         0.003788            1.895           0.058\n",
              "L2.usdjpy        -0.000000         0.000000           -0.552           0.581\n",
              "============================================================================\n",
              "\n",
              "Results for equation eurusd\n",
              "============================================================================\n",
              "               coefficient       std. error           t-stat            prob\n",
              "----------------------------------------------------------------------------\n",
              "const             0.930992         1.564600            0.595           0.552\n",
              "L1.es             0.854948         3.008841            0.284           0.776\n",
              "L1.eurusd        -0.410765         0.005884          -69.816           0.000\n",
              "L1.gbpusd         0.081580         0.005069           16.095           0.000\n",
              "L1.gc             5.225412         3.053275            1.711           0.087\n",
              "L1.nq             1.362064         0.907458            1.501           0.133\n",
              "L1.usdjpy        -0.000083         0.000033           -2.529           0.011\n",
              "L2.es            -4.686152         3.009857           -1.557           0.119\n",
              "L2.eurusd        -0.174406         0.005878          -29.669           0.000\n",
              "L2.gbpusd         0.047070         0.005073            9.278           0.000\n",
              "L2.gc             4.855537         3.052201            1.591           0.112\n",
              "L2.nq             1.135961         0.907191            1.252           0.211\n",
              "L2.usdjpy         0.000016         0.000033            0.481           0.630\n",
              "============================================================================\n",
              "\n",
              "Results for equation gbpusd\n",
              "============================================================================\n",
              "               coefficient       std. error           t-stat            prob\n",
              "----------------------------------------------------------------------------\n",
              "const            -1.516661         1.854774           -0.818           0.414\n",
              "L1.es            23.995698         3.566868            6.727           0.000\n",
              "L1.eurusd         0.086432         0.006975           12.392           0.000\n",
              "L1.gbpusd        -0.349318         0.006009          -58.135           0.000\n",
              "L1.gc             8.306647         3.619542            2.295           0.022\n",
              "L1.nq            -0.049719         1.075757           -0.046           0.963\n",
              "L1.usdjpy        -0.000137         0.000039           -3.504           0.000\n",
              "L2.es             9.590754         3.568071            2.688           0.007\n",
              "L2.eurusd         0.067707         0.006969            9.716           0.000\n",
              "L2.gbpusd        -0.138196         0.006014          -22.978           0.000\n",
              "L2.gc             8.913840         3.618269            2.464           0.014\n",
              "L2.nq            -0.619817         1.075441           -0.576           0.564\n",
              "L2.usdjpy        -0.000045         0.000039           -1.161           0.246\n",
              "============================================================================\n",
              "\n",
              "Results for equation gc\n",
              "============================================================================\n",
              "               coefficient       std. error           t-stat            prob\n",
              "----------------------------------------------------------------------------\n",
              "const             0.001396         0.003028            0.461           0.645\n",
              "L1.es            -0.011547         0.005823           -1.983           0.047\n",
              "L1.eurusd         0.000014         0.000011            1.204           0.229\n",
              "L1.gbpusd         0.000022         0.000010            2.290           0.022\n",
              "L1.gc            -0.009831         0.005909           -1.664           0.096\n",
              "L1.nq             0.002790         0.001756            1.589           0.112\n",
              "L1.usdjpy         0.000000         0.000000            1.688           0.092\n",
              "L2.es             0.000229         0.005825            0.039           0.969\n",
              "L2.eurusd         0.000003         0.000011            0.282           0.778\n",
              "L2.gbpusd        -0.000001         0.000010           -0.128           0.898\n",
              "L2.gc            -0.027350         0.005907           -4.630           0.000\n",
              "L2.nq            -0.002851         0.001756           -1.624           0.104\n",
              "L2.usdjpy         0.000000         0.000000            2.974           0.003\n",
              "============================================================================\n",
              "\n",
              "Results for equation nq\n",
              "============================================================================\n",
              "               coefficient       std. error           t-stat            prob\n",
              "----------------------------------------------------------------------------\n",
              "const             0.022156         0.021666            1.023           0.306\n",
              "L1.es             0.138763         0.041665            3.330           0.001\n",
              "L1.eurusd         0.000245         0.000081            3.003           0.003\n",
              "L1.gbpusd        -0.000050         0.000070           -0.719           0.472\n",
              "L1.gc            -0.030396         0.042281           -0.719           0.472\n",
              "L1.nq            -0.008136         0.012566           -0.647           0.517\n",
              "L1.usdjpy        -0.000002         0.000000           -4.127           0.000\n",
              "L2.es            -0.097262         0.041679           -2.334           0.020\n",
              "L2.eurusd         0.000817         0.000081           10.032           0.000\n",
              "L2.gbpusd        -0.000048         0.000070           -0.687           0.492\n",
              "L2.gc             0.003562         0.042266            0.084           0.933\n",
              "L2.nq             0.016575         0.012562            1.319           0.187\n",
              "L2.usdjpy        -0.000000         0.000000           -0.495           0.621\n",
              "============================================================================\n",
              "\n",
              "Results for equation usdjpy\n",
              "============================================================================\n",
              "               coefficient       std. error           t-stat            prob\n",
              "----------------------------------------------------------------------------\n",
              "const            14.535399       278.606093            0.052           0.958\n",
              "L1.es          1394.090533       535.780155            2.602           0.009\n",
              "L1.eurusd        -1.479810         1.047677           -1.412           0.158\n",
              "L1.gbpusd        -1.864734         0.902568           -2.066           0.039\n",
              "L1.gc         -1208.433504       543.692334           -2.223           0.026\n",
              "L1.nq          -188.584984       161.589791           -1.167           0.243\n",
              "L1.usdjpy        -0.127862         0.005868          -21.791           0.000\n",
              "L2.es           -18.252968       535.960920           -0.034           0.973\n",
              "L2.eurusd        -0.147921         1.046752           -0.141           0.888\n",
              "L2.gbpusd        -0.042460         0.903417           -0.047           0.963\n",
              "L2.gc           -66.241345       543.501127           -0.122           0.903\n",
              "L2.nq            -5.579307       161.542216           -0.035           0.972\n",
              "L2.usdjpy        -0.021678         0.005869           -3.693           0.000\n",
              "============================================================================\n",
              "\n",
              "Correlation matrix of residuals\n",
              "                es    eurusd    gbpusd        gc        nq    usdjpy\n",
              "es        1.000000  0.072269  0.178186  0.089434  0.884364  0.044324\n",
              "eurusd    0.072269  1.000000  0.209879  0.065381  0.062519 -0.030160\n",
              "gbpusd    0.178186  0.209879  1.000000  0.087425  0.168560 -0.033328\n",
              "gc        0.089434  0.065381  0.087425  1.000000  0.109713 -0.041274\n",
              "nq        0.884364  0.062519  0.168560  0.109713  1.000000  0.040041\n",
              "usdjpy    0.044324 -0.030160 -0.033328 -0.041274  0.040041  1.000000\n",
              "\n"
            ]
          },
          "metadata": {
            "tags": []
          },
          "execution_count": 44
        }
      ]
    },
    {
      "cell_type": "markdown",
      "metadata": {
        "id": "WVyTsoTmTif2"
      },
      "source": [
        "- Top of the table shows the information for the model as a whole, including values of the information criteria, \n",
        "- Further down we shows the coefficient estimates and goodness-of-fit measures for each of the equations separately. \n",
        "- Each regression equation is separated by a horizontal line.\n",
        "\n",
        "### Durbin Watson Statistic\n",
        "Checking for Serial Correlation of Residuals (Errors) using Durbin Watson Statistic. If there is any correlation left in the residuals, then, there is some pattern in the time series that is still left to be explained by the model. In that case, the typical course of action is to either increase the order of the model or induce more predictors into the system or look for a different algorithm to model the time series. So, checking for serial correlation is to ensure that the model is sufficiently able to explain the variances and patterns in the time series.\n"
      ]
    },
    {
      "cell_type": "code",
      "metadata": {
        "id": "5YcoIc9oTkEx",
        "outputId": "60a4a45d-83ee-4cc6-f42b-9af1aab28a93",
        "colab": {
          "base_uri": "https://localhost:8080/"
        }
      },
      "source": [
        "from statsmodels.stats.stattools import durbin_watson\n",
        "out = durbin_watson(model.resid)\n",
        "\n",
        "for col, val in zip(train_var.columns, out):\n",
        "    print((col), ':', round(val, 2))"
      ],
      "execution_count": 45,
      "outputs": [
        {
          "output_type": "stream",
          "text": [
            "es : 2.0\n",
            "eurusd : 2.04\n",
            "gbpusd : 2.01\n",
            "gc : 2.0\n",
            "nq : 2.0\n",
            "usdjpy : 2.0\n"
          ],
          "name": "stdout"
        }
      ]
    },
    {
      "cell_type": "markdown",
      "metadata": {
        "id": "eYbQuDGzTrE1"
      },
      "source": [
        "This is to determine the existence of multi-colinearity where variables are highly correlated. The statistic is a values between 0-4 and value 2 is idea, which means there is ni auto-correlation among the variables in the model.\n",
        "\n",
        "The serial correlation looks alright. Let’s proceed with the forecast."
      ]
    },
    {
      "cell_type": "code",
      "metadata": {
        "id": "7v6qlrtCTr8S",
        "outputId": "d2419493-d37a-4613-d2f1-217e4e4e4c2c",
        "colab": {
          "base_uri": "https://localhost:8080/"
        }
      },
      "source": [
        "print('GBPUSD-> EURUSD')\n",
        "ca_1 = model.test_causality(causing=['gbpusd'], caused=['eurusd'], kind='wald',signif=0.05 )\n",
        "print(ca_1)\n",
        "print(\"**********************\")\n",
        "print('GBPUSD-> USDJPY')\n",
        "ca_2 = model.test_causality(causing=['gbpusd'], caused=['usdjpy'], kind='wald',signif=0.05 )\n",
        "print(ca_2)\n",
        "print(\"**********************\")\n",
        "print('GBPUSD -> USDJPY, EURUSD')\n",
        "ca_3 = model.test_causality(causing=['gbpusd'], caused=['usdjpy', 'eurusd'], kind='wald',signif=0.05 )\n",
        "print(ca_3)\n",
        "print(\"**********************\")\n",
        "print('EURUSD -> USDJPY')\n",
        "ca_4 = model.test_causality(causing=['eurusd'], caused=['usdjpy'], kind='wald',signif=0.05 )\n",
        "print(ca_4)\n",
        "print(\"**********************\")\n",
        "print('EURUSD -> GBPUSD, USDJPY')\n",
        "ca_5 = model.test_causality(causing=['eurusd'], caused=['gbpusd', 'usdjpy'], kind='wald',signif=0.05 )\n",
        "print(ca_4)\n",
        "print(\"**********************\")"
      ],
      "execution_count": 46,
      "outputs": [
        {
          "output_type": "stream",
          "text": [
            "GBPUSD-> EURUSD\n",
            "<statsmodels.tsa.vector_ar.hypothesis_test_results.CausalityTestResults object. H_0: gbpusd does not Granger-cause eurusd: reject at 5% significance level. Test statistic: 278.360, critical value: 5.991>, p-value: 0.000>\n",
            "**********************\n",
            "GBPUSD-> USDJPY\n",
            "<statsmodels.tsa.vector_ar.hypothesis_test_results.CausalityTestResults object. H_0: gbpusd does not Granger-cause usdjpy: fail to reject at 5% significance level. Test statistic: 4.681, critical value: 5.991>, p-value: 0.096>\n",
            "**********************\n",
            "GBPUSD -> USDJPY, EURUSD\n",
            "<statsmodels.tsa.vector_ar.hypothesis_test_results.CausalityTestResults object. H_0: gbpusd does not Granger-cause [usdjpy, eurusd]: reject at 5% significance level. Test statistic: 281.461, critical value: 9.488>, p-value: 0.000>\n",
            "**********************\n",
            "EURUSD -> USDJPY\n",
            "<statsmodels.tsa.vector_ar.hypothesis_test_results.CausalityTestResults object. H_0: eurusd does not Granger-cause usdjpy: fail to reject at 5% significance level. Test statistic: 2.145, critical value: 5.991>, p-value: 0.342>\n",
            "**********************\n",
            "EURUSD -> GBPUSD, USDJPY\n",
            "<statsmodels.tsa.vector_ar.hypothesis_test_results.CausalityTestResults object. H_0: eurusd does not Granger-cause usdjpy: fail to reject at 5% significance level. Test statistic: 2.145, critical value: 5.991>, p-value: 0.342>\n",
            "**********************\n"
          ],
          "name": "stdout"
        }
      ]
    },
    {
      "cell_type": "markdown",
      "metadata": {
        "id": "iJBiqj5DT6PB"
      },
      "source": [
        "## Forecasting"
      ]
    },
    {
      "cell_type": "code",
      "metadata": {
        "id": "SXONXOXVT7GN",
        "outputId": "2d255765-9d1a-4727-e438-f97a71df91c8",
        "colab": {
          "base_uri": "https://localhost:8080/",
          "height": 67
        }
      },
      "source": [
        "#lag_order = res.k_ar\n",
        "#res.forecast(train_trans.values[-lag_order:], 30)\n",
        "\n",
        "pd.options.display.float_format = \"{:.2f}\".format\n",
        "# Get the lag order\n",
        "lag_order = model.k_ar\n",
        "print(lag_order) \n",
        "\n",
        "# Input data for forecasting\n",
        "input_data = train_trans.values[-lag_order:]\n",
        "print(input_data)"
      ],
      "execution_count": 47,
      "outputs": [
        {
          "output_type": "display_data",
          "data": {
            "application/javascript": [
              "\n",
              "        if (window._pyforest_update_imports_cell) { window._pyforest_update_imports_cell('import plotly.express as px\\nimport tensorflow as tf\\nimport plotly as py\\nimport pandas as pd\\nimport pydot\\nimport numpy as np\\nimport matplotlib as mpl\\nfrom sklearn.model_selection import train_test_split\\nimport tqdm\\nimport matplotlib.pyplot as plt'); }\n",
              "    "
            ],
            "text/plain": [
              "<IPython.core.display.Javascript object>"
            ]
          },
          "metadata": {
            "tags": []
          }
        },
        {
          "output_type": "stream",
          "text": [
            "2\n",
            "[[ 1.5000e+00  1.5000e+01 -4.5000e+02 -2.0000e+00  1.0125e+01  3.0000e+03]\n",
            " [ 3.1250e+00  4.4500e+02  4.0500e+02  2.0000e-01  1.6500e+01 -3.1500e+04]]\n"
          ],
          "name": "stdout"
        }
      ]
    },
    {
      "cell_type": "code",
      "metadata": {
        "id": "wmr2OwkzUBgN",
        "outputId": "f3ab26fd-5636-4cce-d1a5-f461b13e3d4e",
        "colab": {
          "base_uri": "https://localhost:8080/"
        }
      },
      "source": [
        "fc = model.forecast(y = input_data, steps = nobs)\n",
        "df_pred = DataFrame(fc, columns = train_var.columns + '_1d')\n",
        "print(df_pred)"
      ],
      "execution_count": 68,
      "outputs": [
        {
          "output_type": "stream",
          "text": [
            "     es_1d  eurusd_1d  gbpusd_1d  gc_1d  nq_1d  usdjpy_1d\n",
            "0     0.20    -148.99      28.96   0.05   0.51    3632.12\n",
            "1     0.09      11.34     -22.63  -0.06   0.32     282.49\n",
            "2    -0.03      21.88      -3.25  -0.00  -0.10      67.49\n",
            "3     0.01     -11.86       4.68   0.00   0.03     -54.84\n",
            "4     0.01       2.33      -2.31   0.00   0.04      29.08\n",
            "..     ...        ...        ...    ...    ...        ...\n",
            "115   0.00       0.55      -0.85   0.00   0.02      13.82\n",
            "116   0.00       0.55      -0.85   0.00   0.02      13.82\n",
            "117   0.00       0.55      -0.85   0.00   0.02      13.82\n",
            "118   0.00       0.55      -0.85   0.00   0.02      13.82\n",
            "119   0.00       0.55      -0.85   0.00   0.02      13.82\n",
            "\n",
            "[120 rows x 6 columns]\n"
          ],
          "name": "stdout"
        }
      ]
    },
    {
      "cell_type": "markdown",
      "metadata": {
        "id": "tOGzfT3TXA5W"
      },
      "source": [
        "### Inverse transformation"
      ]
    },
    {
      "cell_type": "code",
      "metadata": {
        "id": "cRNIlAPVqoBk",
        "outputId": "ec6aead6-2937-4f0d-a839-45932877f807",
        "colab": {
          "base_uri": "https://localhost:8080/"
        }
      },
      "source": [
        "def inverse_diff(train, df_pred):\n",
        "    \"\"\"Revert back the differencing to get the forecast to original scale.\"\"\"\n",
        "    df_fc = df_pred.copy()\n",
        "    columns = train_var.columns\n",
        "    for col in columns:        \n",
        "        # Roll back 1st Diff\n",
        "        df_fc[str(col)+'_fcast'] = train_var[col].iloc[-1] + df_fc[str(col)+'_1d'].cumsum()\n",
        "    return df_fc\n",
        "\n",
        "df_results = inverse_diff(train_var, df_pred)        \n",
        "z = df_results.loc[:, ['es_fcast', 'eurusd_fcast', 'gbpusd_fcast', \n",
        "                       'gc_fcast','nq_fcast', 'usdjpy_fcast']]\n",
        "print(z)"
      ],
      "execution_count": 73,
      "outputs": [
        {
          "output_type": "stream",
          "text": [
            "     es_fcast  eurusd_fcast  gbpusd_fcast  gc_fcast  nq_fcast  usdjpy_fcast\n",
            "0     3018.20    1110261.01    1233013.96   1733.35   9514.14  107777632.12\n",
            "1     3018.29    1110272.35    1232991.33   1733.29   9514.46  107777914.61\n",
            "2     3018.26    1110294.23    1232988.07   1733.29   9514.36  107777982.11\n",
            "3     3018.26    1110282.37    1232992.76   1733.29   9514.39  107777927.26\n",
            "4     3018.27    1110284.69    1232990.44   1733.29   9514.43  107777956.34\n",
            "..        ...           ...           ...       ...       ...           ...\n",
            "115   3018.82    1110346.56    1232895.98   1733.44   9516.99  107779491.59\n",
            "116   3018.82    1110347.11    1232895.13   1733.44   9517.02  107779505.41\n",
            "117   3018.83    1110347.66    1232894.28   1733.44   9517.04  107779519.23\n",
            "118   3018.83    1110348.21    1232893.43   1733.44   9517.06  107779533.05\n",
            "119   3018.84    1110348.76    1232892.59   1733.44   9517.09  107779546.86\n",
            "\n",
            "[120 rows x 6 columns]\n"
          ],
          "name": "stdout"
        }
      ]
    },
    {
      "cell_type": "code",
      "metadata": {
        "id": "W6BzicM-trAp",
        "outputId": "31dec579-6962-4808-9753-3a3166b78340",
        "colab": {
          "base_uri": "https://localhost:8080/",
          "height": 1000
        }
      },
      "source": [
        "z.index = test_var.index\n",
        "concat = pd.concat([test_var, z], axis=1)\n",
        "concat = concat[['eurusd','eurusd_fcast','gbpusd','gbpusd_fcast','usdjpy','usdjpy_fcast',\n",
        "                 'es','es_fcast','gc','gc_fcast','nq','nq_fcast']]\n",
        "concat = concat.sort_values(by='timestamp', ascending=False)\n",
        "def highlight_cols(s):\n",
        "    color = 'yellow'\n",
        "    return 'background-color: %s' % color\n",
        "concat.style.applymap(highlight_cols, subset=pd.IndexSlice[:, ['eurusd_fcast','gbpusd_fcast','usdjpy_fcast',\n",
        "                                                               'nq_fcast','es_fcast','gc_fcast']])"
      ],
      "execution_count": 83,
      "outputs": [
        {
          "output_type": "display_data",
          "data": {
            "application/javascript": [
              "\n",
              "        if (window._pyforest_update_imports_cell) { window._pyforest_update_imports_cell('import plotly.express as px\\nimport tensorflow as tf\\nimport plotly as py\\nimport pandas as pd\\nimport pydot\\nimport nltk\\nimport glob\\nimport altair as alt\\nimport numpy as np\\nimport matplotlib as mpl\\nimport gensim\\nimport bokeh\\nfrom sklearn.model_selection import train_test_split\\nimport matplotlib.pyplot as plt\\nimport tqdm\\nimport plotly.graph_objs as go\\nimport re'); }\n",
              "    "
            ],
            "text/plain": [
              "<IPython.core.display.Javascript object>"
            ]
          },
          "metadata": {
            "tags": []
          }
        },
        {
          "output_type": "display_data",
          "data": {
            "application/javascript": [
              "\n",
              "        if (window._pyforest_update_imports_cell) { window._pyforest_update_imports_cell('import plotly.express as px\\nimport tensorflow as tf\\nimport plotly as py\\nimport pandas as pd\\nimport pydot\\nimport nltk\\nimport glob\\nimport altair as alt\\nimport numpy as np\\nimport matplotlib as mpl\\nimport gensim\\nimport bokeh\\nfrom sklearn.model_selection import train_test_split\\nimport matplotlib.pyplot as plt\\nimport tqdm\\nimport plotly.graph_objs as go\\nimport re'); }\n",
              "    "
            ],
            "text/plain": [
              "<IPython.core.display.Javascript object>"
            ]
          },
          "metadata": {
            "tags": []
          }
        },
        {
          "output_type": "execute_result",
          "data": {
            "text/html": [
              "<style  type=\"text/css\" >\n",
              "#T_db3a6760_1ead_11eb_85ce_0242ac1c0002row0_col1,#T_db3a6760_1ead_11eb_85ce_0242ac1c0002row0_col3,#T_db3a6760_1ead_11eb_85ce_0242ac1c0002row0_col5,#T_db3a6760_1ead_11eb_85ce_0242ac1c0002row0_col7,#T_db3a6760_1ead_11eb_85ce_0242ac1c0002row0_col9,#T_db3a6760_1ead_11eb_85ce_0242ac1c0002row0_col11,#T_db3a6760_1ead_11eb_85ce_0242ac1c0002row1_col1,#T_db3a6760_1ead_11eb_85ce_0242ac1c0002row1_col3,#T_db3a6760_1ead_11eb_85ce_0242ac1c0002row1_col5,#T_db3a6760_1ead_11eb_85ce_0242ac1c0002row1_col7,#T_db3a6760_1ead_11eb_85ce_0242ac1c0002row1_col9,#T_db3a6760_1ead_11eb_85ce_0242ac1c0002row1_col11,#T_db3a6760_1ead_11eb_85ce_0242ac1c0002row2_col1,#T_db3a6760_1ead_11eb_85ce_0242ac1c0002row2_col3,#T_db3a6760_1ead_11eb_85ce_0242ac1c0002row2_col5,#T_db3a6760_1ead_11eb_85ce_0242ac1c0002row2_col7,#T_db3a6760_1ead_11eb_85ce_0242ac1c0002row2_col9,#T_db3a6760_1ead_11eb_85ce_0242ac1c0002row2_col11,#T_db3a6760_1ead_11eb_85ce_0242ac1c0002row3_col1,#T_db3a6760_1ead_11eb_85ce_0242ac1c0002row3_col3,#T_db3a6760_1ead_11eb_85ce_0242ac1c0002row3_col5,#T_db3a6760_1ead_11eb_85ce_0242ac1c0002row3_col7,#T_db3a6760_1ead_11eb_85ce_0242ac1c0002row3_col9,#T_db3a6760_1ead_11eb_85ce_0242ac1c0002row3_col11,#T_db3a6760_1ead_11eb_85ce_0242ac1c0002row4_col1,#T_db3a6760_1ead_11eb_85ce_0242ac1c0002row4_col3,#T_db3a6760_1ead_11eb_85ce_0242ac1c0002row4_col5,#T_db3a6760_1ead_11eb_85ce_0242ac1c0002row4_col7,#T_db3a6760_1ead_11eb_85ce_0242ac1c0002row4_col9,#T_db3a6760_1ead_11eb_85ce_0242ac1c0002row4_col11,#T_db3a6760_1ead_11eb_85ce_0242ac1c0002row5_col1,#T_db3a6760_1ead_11eb_85ce_0242ac1c0002row5_col3,#T_db3a6760_1ead_11eb_85ce_0242ac1c0002row5_col5,#T_db3a6760_1ead_11eb_85ce_0242ac1c0002row5_col7,#T_db3a6760_1ead_11eb_85ce_0242ac1c0002row5_col9,#T_db3a6760_1ead_11eb_85ce_0242ac1c0002row5_col11,#T_db3a6760_1ead_11eb_85ce_0242ac1c0002row6_col1,#T_db3a6760_1ead_11eb_85ce_0242ac1c0002row6_col3,#T_db3a6760_1ead_11eb_85ce_0242ac1c0002row6_col5,#T_db3a6760_1ead_11eb_85ce_0242ac1c0002row6_col7,#T_db3a6760_1ead_11eb_85ce_0242ac1c0002row6_col9,#T_db3a6760_1ead_11eb_85ce_0242ac1c0002row6_col11,#T_db3a6760_1ead_11eb_85ce_0242ac1c0002row7_col1,#T_db3a6760_1ead_11eb_85ce_0242ac1c0002row7_col3,#T_db3a6760_1ead_11eb_85ce_0242ac1c0002row7_col5,#T_db3a6760_1ead_11eb_85ce_0242ac1c0002row7_col7,#T_db3a6760_1ead_11eb_85ce_0242ac1c0002row7_col9,#T_db3a6760_1ead_11eb_85ce_0242ac1c0002row7_col11,#T_db3a6760_1ead_11eb_85ce_0242ac1c0002row8_col1,#T_db3a6760_1ead_11eb_85ce_0242ac1c0002row8_col3,#T_db3a6760_1ead_11eb_85ce_0242ac1c0002row8_col5,#T_db3a6760_1ead_11eb_85ce_0242ac1c0002row8_col7,#T_db3a6760_1ead_11eb_85ce_0242ac1c0002row8_col9,#T_db3a6760_1ead_11eb_85ce_0242ac1c0002row8_col11,#T_db3a6760_1ead_11eb_85ce_0242ac1c0002row9_col1,#T_db3a6760_1ead_11eb_85ce_0242ac1c0002row9_col3,#T_db3a6760_1ead_11eb_85ce_0242ac1c0002row9_col5,#T_db3a6760_1ead_11eb_85ce_0242ac1c0002row9_col7,#T_db3a6760_1ead_11eb_85ce_0242ac1c0002row9_col9,#T_db3a6760_1ead_11eb_85ce_0242ac1c0002row9_col11,#T_db3a6760_1ead_11eb_85ce_0242ac1c0002row10_col1,#T_db3a6760_1ead_11eb_85ce_0242ac1c0002row10_col3,#T_db3a6760_1ead_11eb_85ce_0242ac1c0002row10_col5,#T_db3a6760_1ead_11eb_85ce_0242ac1c0002row10_col7,#T_db3a6760_1ead_11eb_85ce_0242ac1c0002row10_col9,#T_db3a6760_1ead_11eb_85ce_0242ac1c0002row10_col11,#T_db3a6760_1ead_11eb_85ce_0242ac1c0002row11_col1,#T_db3a6760_1ead_11eb_85ce_0242ac1c0002row11_col3,#T_db3a6760_1ead_11eb_85ce_0242ac1c0002row11_col5,#T_db3a6760_1ead_11eb_85ce_0242ac1c0002row11_col7,#T_db3a6760_1ead_11eb_85ce_0242ac1c0002row11_col9,#T_db3a6760_1ead_11eb_85ce_0242ac1c0002row11_col11,#T_db3a6760_1ead_11eb_85ce_0242ac1c0002row12_col1,#T_db3a6760_1ead_11eb_85ce_0242ac1c0002row12_col3,#T_db3a6760_1ead_11eb_85ce_0242ac1c0002row12_col5,#T_db3a6760_1ead_11eb_85ce_0242ac1c0002row12_col7,#T_db3a6760_1ead_11eb_85ce_0242ac1c0002row12_col9,#T_db3a6760_1ead_11eb_85ce_0242ac1c0002row12_col11,#T_db3a6760_1ead_11eb_85ce_0242ac1c0002row13_col1,#T_db3a6760_1ead_11eb_85ce_0242ac1c0002row13_col3,#T_db3a6760_1ead_11eb_85ce_0242ac1c0002row13_col5,#T_db3a6760_1ead_11eb_85ce_0242ac1c0002row13_col7,#T_db3a6760_1ead_11eb_85ce_0242ac1c0002row13_col9,#T_db3a6760_1ead_11eb_85ce_0242ac1c0002row13_col11,#T_db3a6760_1ead_11eb_85ce_0242ac1c0002row14_col1,#T_db3a6760_1ead_11eb_85ce_0242ac1c0002row14_col3,#T_db3a6760_1ead_11eb_85ce_0242ac1c0002row14_col5,#T_db3a6760_1ead_11eb_85ce_0242ac1c0002row14_col7,#T_db3a6760_1ead_11eb_85ce_0242ac1c0002row14_col9,#T_db3a6760_1ead_11eb_85ce_0242ac1c0002row14_col11,#T_db3a6760_1ead_11eb_85ce_0242ac1c0002row15_col1,#T_db3a6760_1ead_11eb_85ce_0242ac1c0002row15_col3,#T_db3a6760_1ead_11eb_85ce_0242ac1c0002row15_col5,#T_db3a6760_1ead_11eb_85ce_0242ac1c0002row15_col7,#T_db3a6760_1ead_11eb_85ce_0242ac1c0002row15_col9,#T_db3a6760_1ead_11eb_85ce_0242ac1c0002row15_col11,#T_db3a6760_1ead_11eb_85ce_0242ac1c0002row16_col1,#T_db3a6760_1ead_11eb_85ce_0242ac1c0002row16_col3,#T_db3a6760_1ead_11eb_85ce_0242ac1c0002row16_col5,#T_db3a6760_1ead_11eb_85ce_0242ac1c0002row16_col7,#T_db3a6760_1ead_11eb_85ce_0242ac1c0002row16_col9,#T_db3a6760_1ead_11eb_85ce_0242ac1c0002row16_col11,#T_db3a6760_1ead_11eb_85ce_0242ac1c0002row17_col1,#T_db3a6760_1ead_11eb_85ce_0242ac1c0002row17_col3,#T_db3a6760_1ead_11eb_85ce_0242ac1c0002row17_col5,#T_db3a6760_1ead_11eb_85ce_0242ac1c0002row17_col7,#T_db3a6760_1ead_11eb_85ce_0242ac1c0002row17_col9,#T_db3a6760_1ead_11eb_85ce_0242ac1c0002row17_col11,#T_db3a6760_1ead_11eb_85ce_0242ac1c0002row18_col1,#T_db3a6760_1ead_11eb_85ce_0242ac1c0002row18_col3,#T_db3a6760_1ead_11eb_85ce_0242ac1c0002row18_col5,#T_db3a6760_1ead_11eb_85ce_0242ac1c0002row18_col7,#T_db3a6760_1ead_11eb_85ce_0242ac1c0002row18_col9,#T_db3a6760_1ead_11eb_85ce_0242ac1c0002row18_col11,#T_db3a6760_1ead_11eb_85ce_0242ac1c0002row19_col1,#T_db3a6760_1ead_11eb_85ce_0242ac1c0002row19_col3,#T_db3a6760_1ead_11eb_85ce_0242ac1c0002row19_col5,#T_db3a6760_1ead_11eb_85ce_0242ac1c0002row19_col7,#T_db3a6760_1ead_11eb_85ce_0242ac1c0002row19_col9,#T_db3a6760_1ead_11eb_85ce_0242ac1c0002row19_col11,#T_db3a6760_1ead_11eb_85ce_0242ac1c0002row20_col1,#T_db3a6760_1ead_11eb_85ce_0242ac1c0002row20_col3,#T_db3a6760_1ead_11eb_85ce_0242ac1c0002row20_col5,#T_db3a6760_1ead_11eb_85ce_0242ac1c0002row20_col7,#T_db3a6760_1ead_11eb_85ce_0242ac1c0002row20_col9,#T_db3a6760_1ead_11eb_85ce_0242ac1c0002row20_col11,#T_db3a6760_1ead_11eb_85ce_0242ac1c0002row21_col1,#T_db3a6760_1ead_11eb_85ce_0242ac1c0002row21_col3,#T_db3a6760_1ead_11eb_85ce_0242ac1c0002row21_col5,#T_db3a6760_1ead_11eb_85ce_0242ac1c0002row21_col7,#T_db3a6760_1ead_11eb_85ce_0242ac1c0002row21_col9,#T_db3a6760_1ead_11eb_85ce_0242ac1c0002row21_col11,#T_db3a6760_1ead_11eb_85ce_0242ac1c0002row22_col1,#T_db3a6760_1ead_11eb_85ce_0242ac1c0002row22_col3,#T_db3a6760_1ead_11eb_85ce_0242ac1c0002row22_col5,#T_db3a6760_1ead_11eb_85ce_0242ac1c0002row22_col7,#T_db3a6760_1ead_11eb_85ce_0242ac1c0002row22_col9,#T_db3a6760_1ead_11eb_85ce_0242ac1c0002row22_col11,#T_db3a6760_1ead_11eb_85ce_0242ac1c0002row23_col1,#T_db3a6760_1ead_11eb_85ce_0242ac1c0002row23_col3,#T_db3a6760_1ead_11eb_85ce_0242ac1c0002row23_col5,#T_db3a6760_1ead_11eb_85ce_0242ac1c0002row23_col7,#T_db3a6760_1ead_11eb_85ce_0242ac1c0002row23_col9,#T_db3a6760_1ead_11eb_85ce_0242ac1c0002row23_col11,#T_db3a6760_1ead_11eb_85ce_0242ac1c0002row24_col1,#T_db3a6760_1ead_11eb_85ce_0242ac1c0002row24_col3,#T_db3a6760_1ead_11eb_85ce_0242ac1c0002row24_col5,#T_db3a6760_1ead_11eb_85ce_0242ac1c0002row24_col7,#T_db3a6760_1ead_11eb_85ce_0242ac1c0002row24_col9,#T_db3a6760_1ead_11eb_85ce_0242ac1c0002row24_col11,#T_db3a6760_1ead_11eb_85ce_0242ac1c0002row25_col1,#T_db3a6760_1ead_11eb_85ce_0242ac1c0002row25_col3,#T_db3a6760_1ead_11eb_85ce_0242ac1c0002row25_col5,#T_db3a6760_1ead_11eb_85ce_0242ac1c0002row25_col7,#T_db3a6760_1ead_11eb_85ce_0242ac1c0002row25_col9,#T_db3a6760_1ead_11eb_85ce_0242ac1c0002row25_col11,#T_db3a6760_1ead_11eb_85ce_0242ac1c0002row26_col1,#T_db3a6760_1ead_11eb_85ce_0242ac1c0002row26_col3,#T_db3a6760_1ead_11eb_85ce_0242ac1c0002row26_col5,#T_db3a6760_1ead_11eb_85ce_0242ac1c0002row26_col7,#T_db3a6760_1ead_11eb_85ce_0242ac1c0002row26_col9,#T_db3a6760_1ead_11eb_85ce_0242ac1c0002row26_col11,#T_db3a6760_1ead_11eb_85ce_0242ac1c0002row27_col1,#T_db3a6760_1ead_11eb_85ce_0242ac1c0002row27_col3,#T_db3a6760_1ead_11eb_85ce_0242ac1c0002row27_col5,#T_db3a6760_1ead_11eb_85ce_0242ac1c0002row27_col7,#T_db3a6760_1ead_11eb_85ce_0242ac1c0002row27_col9,#T_db3a6760_1ead_11eb_85ce_0242ac1c0002row27_col11,#T_db3a6760_1ead_11eb_85ce_0242ac1c0002row28_col1,#T_db3a6760_1ead_11eb_85ce_0242ac1c0002row28_col3,#T_db3a6760_1ead_11eb_85ce_0242ac1c0002row28_col5,#T_db3a6760_1ead_11eb_85ce_0242ac1c0002row28_col7,#T_db3a6760_1ead_11eb_85ce_0242ac1c0002row28_col9,#T_db3a6760_1ead_11eb_85ce_0242ac1c0002row28_col11,#T_db3a6760_1ead_11eb_85ce_0242ac1c0002row29_col1,#T_db3a6760_1ead_11eb_85ce_0242ac1c0002row29_col3,#T_db3a6760_1ead_11eb_85ce_0242ac1c0002row29_col5,#T_db3a6760_1ead_11eb_85ce_0242ac1c0002row29_col7,#T_db3a6760_1ead_11eb_85ce_0242ac1c0002row29_col9,#T_db3a6760_1ead_11eb_85ce_0242ac1c0002row29_col11,#T_db3a6760_1ead_11eb_85ce_0242ac1c0002row30_col1,#T_db3a6760_1ead_11eb_85ce_0242ac1c0002row30_col3,#T_db3a6760_1ead_11eb_85ce_0242ac1c0002row30_col5,#T_db3a6760_1ead_11eb_85ce_0242ac1c0002row30_col7,#T_db3a6760_1ead_11eb_85ce_0242ac1c0002row30_col9,#T_db3a6760_1ead_11eb_85ce_0242ac1c0002row30_col11,#T_db3a6760_1ead_11eb_85ce_0242ac1c0002row31_col1,#T_db3a6760_1ead_11eb_85ce_0242ac1c0002row31_col3,#T_db3a6760_1ead_11eb_85ce_0242ac1c0002row31_col5,#T_db3a6760_1ead_11eb_85ce_0242ac1c0002row31_col7,#T_db3a6760_1ead_11eb_85ce_0242ac1c0002row31_col9,#T_db3a6760_1ead_11eb_85ce_0242ac1c0002row31_col11,#T_db3a6760_1ead_11eb_85ce_0242ac1c0002row32_col1,#T_db3a6760_1ead_11eb_85ce_0242ac1c0002row32_col3,#T_db3a6760_1ead_11eb_85ce_0242ac1c0002row32_col5,#T_db3a6760_1ead_11eb_85ce_0242ac1c0002row32_col7,#T_db3a6760_1ead_11eb_85ce_0242ac1c0002row32_col9,#T_db3a6760_1ead_11eb_85ce_0242ac1c0002row32_col11,#T_db3a6760_1ead_11eb_85ce_0242ac1c0002row33_col1,#T_db3a6760_1ead_11eb_85ce_0242ac1c0002row33_col3,#T_db3a6760_1ead_11eb_85ce_0242ac1c0002row33_col5,#T_db3a6760_1ead_11eb_85ce_0242ac1c0002row33_col7,#T_db3a6760_1ead_11eb_85ce_0242ac1c0002row33_col9,#T_db3a6760_1ead_11eb_85ce_0242ac1c0002row33_col11,#T_db3a6760_1ead_11eb_85ce_0242ac1c0002row34_col1,#T_db3a6760_1ead_11eb_85ce_0242ac1c0002row34_col3,#T_db3a6760_1ead_11eb_85ce_0242ac1c0002row34_col5,#T_db3a6760_1ead_11eb_85ce_0242ac1c0002row34_col7,#T_db3a6760_1ead_11eb_85ce_0242ac1c0002row34_col9,#T_db3a6760_1ead_11eb_85ce_0242ac1c0002row34_col11,#T_db3a6760_1ead_11eb_85ce_0242ac1c0002row35_col1,#T_db3a6760_1ead_11eb_85ce_0242ac1c0002row35_col3,#T_db3a6760_1ead_11eb_85ce_0242ac1c0002row35_col5,#T_db3a6760_1ead_11eb_85ce_0242ac1c0002row35_col7,#T_db3a6760_1ead_11eb_85ce_0242ac1c0002row35_col9,#T_db3a6760_1ead_11eb_85ce_0242ac1c0002row35_col11,#T_db3a6760_1ead_11eb_85ce_0242ac1c0002row36_col1,#T_db3a6760_1ead_11eb_85ce_0242ac1c0002row36_col3,#T_db3a6760_1ead_11eb_85ce_0242ac1c0002row36_col5,#T_db3a6760_1ead_11eb_85ce_0242ac1c0002row36_col7,#T_db3a6760_1ead_11eb_85ce_0242ac1c0002row36_col9,#T_db3a6760_1ead_11eb_85ce_0242ac1c0002row36_col11,#T_db3a6760_1ead_11eb_85ce_0242ac1c0002row37_col1,#T_db3a6760_1ead_11eb_85ce_0242ac1c0002row37_col3,#T_db3a6760_1ead_11eb_85ce_0242ac1c0002row37_col5,#T_db3a6760_1ead_11eb_85ce_0242ac1c0002row37_col7,#T_db3a6760_1ead_11eb_85ce_0242ac1c0002row37_col9,#T_db3a6760_1ead_11eb_85ce_0242ac1c0002row37_col11,#T_db3a6760_1ead_11eb_85ce_0242ac1c0002row38_col1,#T_db3a6760_1ead_11eb_85ce_0242ac1c0002row38_col3,#T_db3a6760_1ead_11eb_85ce_0242ac1c0002row38_col5,#T_db3a6760_1ead_11eb_85ce_0242ac1c0002row38_col7,#T_db3a6760_1ead_11eb_85ce_0242ac1c0002row38_col9,#T_db3a6760_1ead_11eb_85ce_0242ac1c0002row38_col11,#T_db3a6760_1ead_11eb_85ce_0242ac1c0002row39_col1,#T_db3a6760_1ead_11eb_85ce_0242ac1c0002row39_col3,#T_db3a6760_1ead_11eb_85ce_0242ac1c0002row39_col5,#T_db3a6760_1ead_11eb_85ce_0242ac1c0002row39_col7,#T_db3a6760_1ead_11eb_85ce_0242ac1c0002row39_col9,#T_db3a6760_1ead_11eb_85ce_0242ac1c0002row39_col11,#T_db3a6760_1ead_11eb_85ce_0242ac1c0002row40_col1,#T_db3a6760_1ead_11eb_85ce_0242ac1c0002row40_col3,#T_db3a6760_1ead_11eb_85ce_0242ac1c0002row40_col5,#T_db3a6760_1ead_11eb_85ce_0242ac1c0002row40_col7,#T_db3a6760_1ead_11eb_85ce_0242ac1c0002row40_col9,#T_db3a6760_1ead_11eb_85ce_0242ac1c0002row40_col11,#T_db3a6760_1ead_11eb_85ce_0242ac1c0002row41_col1,#T_db3a6760_1ead_11eb_85ce_0242ac1c0002row41_col3,#T_db3a6760_1ead_11eb_85ce_0242ac1c0002row41_col5,#T_db3a6760_1ead_11eb_85ce_0242ac1c0002row41_col7,#T_db3a6760_1ead_11eb_85ce_0242ac1c0002row41_col9,#T_db3a6760_1ead_11eb_85ce_0242ac1c0002row41_col11,#T_db3a6760_1ead_11eb_85ce_0242ac1c0002row42_col1,#T_db3a6760_1ead_11eb_85ce_0242ac1c0002row42_col3,#T_db3a6760_1ead_11eb_85ce_0242ac1c0002row42_col5,#T_db3a6760_1ead_11eb_85ce_0242ac1c0002row42_col7,#T_db3a6760_1ead_11eb_85ce_0242ac1c0002row42_col9,#T_db3a6760_1ead_11eb_85ce_0242ac1c0002row42_col11,#T_db3a6760_1ead_11eb_85ce_0242ac1c0002row43_col1,#T_db3a6760_1ead_11eb_85ce_0242ac1c0002row43_col3,#T_db3a6760_1ead_11eb_85ce_0242ac1c0002row43_col5,#T_db3a6760_1ead_11eb_85ce_0242ac1c0002row43_col7,#T_db3a6760_1ead_11eb_85ce_0242ac1c0002row43_col9,#T_db3a6760_1ead_11eb_85ce_0242ac1c0002row43_col11,#T_db3a6760_1ead_11eb_85ce_0242ac1c0002row44_col1,#T_db3a6760_1ead_11eb_85ce_0242ac1c0002row44_col3,#T_db3a6760_1ead_11eb_85ce_0242ac1c0002row44_col5,#T_db3a6760_1ead_11eb_85ce_0242ac1c0002row44_col7,#T_db3a6760_1ead_11eb_85ce_0242ac1c0002row44_col9,#T_db3a6760_1ead_11eb_85ce_0242ac1c0002row44_col11,#T_db3a6760_1ead_11eb_85ce_0242ac1c0002row45_col1,#T_db3a6760_1ead_11eb_85ce_0242ac1c0002row45_col3,#T_db3a6760_1ead_11eb_85ce_0242ac1c0002row45_col5,#T_db3a6760_1ead_11eb_85ce_0242ac1c0002row45_col7,#T_db3a6760_1ead_11eb_85ce_0242ac1c0002row45_col9,#T_db3a6760_1ead_11eb_85ce_0242ac1c0002row45_col11,#T_db3a6760_1ead_11eb_85ce_0242ac1c0002row46_col1,#T_db3a6760_1ead_11eb_85ce_0242ac1c0002row46_col3,#T_db3a6760_1ead_11eb_85ce_0242ac1c0002row46_col5,#T_db3a6760_1ead_11eb_85ce_0242ac1c0002row46_col7,#T_db3a6760_1ead_11eb_85ce_0242ac1c0002row46_col9,#T_db3a6760_1ead_11eb_85ce_0242ac1c0002row46_col11,#T_db3a6760_1ead_11eb_85ce_0242ac1c0002row47_col1,#T_db3a6760_1ead_11eb_85ce_0242ac1c0002row47_col3,#T_db3a6760_1ead_11eb_85ce_0242ac1c0002row47_col5,#T_db3a6760_1ead_11eb_85ce_0242ac1c0002row47_col7,#T_db3a6760_1ead_11eb_85ce_0242ac1c0002row47_col9,#T_db3a6760_1ead_11eb_85ce_0242ac1c0002row47_col11,#T_db3a6760_1ead_11eb_85ce_0242ac1c0002row48_col1,#T_db3a6760_1ead_11eb_85ce_0242ac1c0002row48_col3,#T_db3a6760_1ead_11eb_85ce_0242ac1c0002row48_col5,#T_db3a6760_1ead_11eb_85ce_0242ac1c0002row48_col7,#T_db3a6760_1ead_11eb_85ce_0242ac1c0002row48_col9,#T_db3a6760_1ead_11eb_85ce_0242ac1c0002row48_col11,#T_db3a6760_1ead_11eb_85ce_0242ac1c0002row49_col1,#T_db3a6760_1ead_11eb_85ce_0242ac1c0002row49_col3,#T_db3a6760_1ead_11eb_85ce_0242ac1c0002row49_col5,#T_db3a6760_1ead_11eb_85ce_0242ac1c0002row49_col7,#T_db3a6760_1ead_11eb_85ce_0242ac1c0002row49_col9,#T_db3a6760_1ead_11eb_85ce_0242ac1c0002row49_col11,#T_db3a6760_1ead_11eb_85ce_0242ac1c0002row50_col1,#T_db3a6760_1ead_11eb_85ce_0242ac1c0002row50_col3,#T_db3a6760_1ead_11eb_85ce_0242ac1c0002row50_col5,#T_db3a6760_1ead_11eb_85ce_0242ac1c0002row50_col7,#T_db3a6760_1ead_11eb_85ce_0242ac1c0002row50_col9,#T_db3a6760_1ead_11eb_85ce_0242ac1c0002row50_col11,#T_db3a6760_1ead_11eb_85ce_0242ac1c0002row51_col1,#T_db3a6760_1ead_11eb_85ce_0242ac1c0002row51_col3,#T_db3a6760_1ead_11eb_85ce_0242ac1c0002row51_col5,#T_db3a6760_1ead_11eb_85ce_0242ac1c0002row51_col7,#T_db3a6760_1ead_11eb_85ce_0242ac1c0002row51_col9,#T_db3a6760_1ead_11eb_85ce_0242ac1c0002row51_col11,#T_db3a6760_1ead_11eb_85ce_0242ac1c0002row52_col1,#T_db3a6760_1ead_11eb_85ce_0242ac1c0002row52_col3,#T_db3a6760_1ead_11eb_85ce_0242ac1c0002row52_col5,#T_db3a6760_1ead_11eb_85ce_0242ac1c0002row52_col7,#T_db3a6760_1ead_11eb_85ce_0242ac1c0002row52_col9,#T_db3a6760_1ead_11eb_85ce_0242ac1c0002row52_col11,#T_db3a6760_1ead_11eb_85ce_0242ac1c0002row53_col1,#T_db3a6760_1ead_11eb_85ce_0242ac1c0002row53_col3,#T_db3a6760_1ead_11eb_85ce_0242ac1c0002row53_col5,#T_db3a6760_1ead_11eb_85ce_0242ac1c0002row53_col7,#T_db3a6760_1ead_11eb_85ce_0242ac1c0002row53_col9,#T_db3a6760_1ead_11eb_85ce_0242ac1c0002row53_col11,#T_db3a6760_1ead_11eb_85ce_0242ac1c0002row54_col1,#T_db3a6760_1ead_11eb_85ce_0242ac1c0002row54_col3,#T_db3a6760_1ead_11eb_85ce_0242ac1c0002row54_col5,#T_db3a6760_1ead_11eb_85ce_0242ac1c0002row54_col7,#T_db3a6760_1ead_11eb_85ce_0242ac1c0002row54_col9,#T_db3a6760_1ead_11eb_85ce_0242ac1c0002row54_col11,#T_db3a6760_1ead_11eb_85ce_0242ac1c0002row55_col1,#T_db3a6760_1ead_11eb_85ce_0242ac1c0002row55_col3,#T_db3a6760_1ead_11eb_85ce_0242ac1c0002row55_col5,#T_db3a6760_1ead_11eb_85ce_0242ac1c0002row55_col7,#T_db3a6760_1ead_11eb_85ce_0242ac1c0002row55_col9,#T_db3a6760_1ead_11eb_85ce_0242ac1c0002row55_col11,#T_db3a6760_1ead_11eb_85ce_0242ac1c0002row56_col1,#T_db3a6760_1ead_11eb_85ce_0242ac1c0002row56_col3,#T_db3a6760_1ead_11eb_85ce_0242ac1c0002row56_col5,#T_db3a6760_1ead_11eb_85ce_0242ac1c0002row56_col7,#T_db3a6760_1ead_11eb_85ce_0242ac1c0002row56_col9,#T_db3a6760_1ead_11eb_85ce_0242ac1c0002row56_col11,#T_db3a6760_1ead_11eb_85ce_0242ac1c0002row57_col1,#T_db3a6760_1ead_11eb_85ce_0242ac1c0002row57_col3,#T_db3a6760_1ead_11eb_85ce_0242ac1c0002row57_col5,#T_db3a6760_1ead_11eb_85ce_0242ac1c0002row57_col7,#T_db3a6760_1ead_11eb_85ce_0242ac1c0002row57_col9,#T_db3a6760_1ead_11eb_85ce_0242ac1c0002row57_col11,#T_db3a6760_1ead_11eb_85ce_0242ac1c0002row58_col1,#T_db3a6760_1ead_11eb_85ce_0242ac1c0002row58_col3,#T_db3a6760_1ead_11eb_85ce_0242ac1c0002row58_col5,#T_db3a6760_1ead_11eb_85ce_0242ac1c0002row58_col7,#T_db3a6760_1ead_11eb_85ce_0242ac1c0002row58_col9,#T_db3a6760_1ead_11eb_85ce_0242ac1c0002row58_col11,#T_db3a6760_1ead_11eb_85ce_0242ac1c0002row59_col1,#T_db3a6760_1ead_11eb_85ce_0242ac1c0002row59_col3,#T_db3a6760_1ead_11eb_85ce_0242ac1c0002row59_col5,#T_db3a6760_1ead_11eb_85ce_0242ac1c0002row59_col7,#T_db3a6760_1ead_11eb_85ce_0242ac1c0002row59_col9,#T_db3a6760_1ead_11eb_85ce_0242ac1c0002row59_col11,#T_db3a6760_1ead_11eb_85ce_0242ac1c0002row60_col1,#T_db3a6760_1ead_11eb_85ce_0242ac1c0002row60_col3,#T_db3a6760_1ead_11eb_85ce_0242ac1c0002row60_col5,#T_db3a6760_1ead_11eb_85ce_0242ac1c0002row60_col7,#T_db3a6760_1ead_11eb_85ce_0242ac1c0002row60_col9,#T_db3a6760_1ead_11eb_85ce_0242ac1c0002row60_col11,#T_db3a6760_1ead_11eb_85ce_0242ac1c0002row61_col1,#T_db3a6760_1ead_11eb_85ce_0242ac1c0002row61_col3,#T_db3a6760_1ead_11eb_85ce_0242ac1c0002row61_col5,#T_db3a6760_1ead_11eb_85ce_0242ac1c0002row61_col7,#T_db3a6760_1ead_11eb_85ce_0242ac1c0002row61_col9,#T_db3a6760_1ead_11eb_85ce_0242ac1c0002row61_col11,#T_db3a6760_1ead_11eb_85ce_0242ac1c0002row62_col1,#T_db3a6760_1ead_11eb_85ce_0242ac1c0002row62_col3,#T_db3a6760_1ead_11eb_85ce_0242ac1c0002row62_col5,#T_db3a6760_1ead_11eb_85ce_0242ac1c0002row62_col7,#T_db3a6760_1ead_11eb_85ce_0242ac1c0002row62_col9,#T_db3a6760_1ead_11eb_85ce_0242ac1c0002row62_col11,#T_db3a6760_1ead_11eb_85ce_0242ac1c0002row63_col1,#T_db3a6760_1ead_11eb_85ce_0242ac1c0002row63_col3,#T_db3a6760_1ead_11eb_85ce_0242ac1c0002row63_col5,#T_db3a6760_1ead_11eb_85ce_0242ac1c0002row63_col7,#T_db3a6760_1ead_11eb_85ce_0242ac1c0002row63_col9,#T_db3a6760_1ead_11eb_85ce_0242ac1c0002row63_col11,#T_db3a6760_1ead_11eb_85ce_0242ac1c0002row64_col1,#T_db3a6760_1ead_11eb_85ce_0242ac1c0002row64_col3,#T_db3a6760_1ead_11eb_85ce_0242ac1c0002row64_col5,#T_db3a6760_1ead_11eb_85ce_0242ac1c0002row64_col7,#T_db3a6760_1ead_11eb_85ce_0242ac1c0002row64_col9,#T_db3a6760_1ead_11eb_85ce_0242ac1c0002row64_col11,#T_db3a6760_1ead_11eb_85ce_0242ac1c0002row65_col1,#T_db3a6760_1ead_11eb_85ce_0242ac1c0002row65_col3,#T_db3a6760_1ead_11eb_85ce_0242ac1c0002row65_col5,#T_db3a6760_1ead_11eb_85ce_0242ac1c0002row65_col7,#T_db3a6760_1ead_11eb_85ce_0242ac1c0002row65_col9,#T_db3a6760_1ead_11eb_85ce_0242ac1c0002row65_col11,#T_db3a6760_1ead_11eb_85ce_0242ac1c0002row66_col1,#T_db3a6760_1ead_11eb_85ce_0242ac1c0002row66_col3,#T_db3a6760_1ead_11eb_85ce_0242ac1c0002row66_col5,#T_db3a6760_1ead_11eb_85ce_0242ac1c0002row66_col7,#T_db3a6760_1ead_11eb_85ce_0242ac1c0002row66_col9,#T_db3a6760_1ead_11eb_85ce_0242ac1c0002row66_col11,#T_db3a6760_1ead_11eb_85ce_0242ac1c0002row67_col1,#T_db3a6760_1ead_11eb_85ce_0242ac1c0002row67_col3,#T_db3a6760_1ead_11eb_85ce_0242ac1c0002row67_col5,#T_db3a6760_1ead_11eb_85ce_0242ac1c0002row67_col7,#T_db3a6760_1ead_11eb_85ce_0242ac1c0002row67_col9,#T_db3a6760_1ead_11eb_85ce_0242ac1c0002row67_col11,#T_db3a6760_1ead_11eb_85ce_0242ac1c0002row68_col1,#T_db3a6760_1ead_11eb_85ce_0242ac1c0002row68_col3,#T_db3a6760_1ead_11eb_85ce_0242ac1c0002row68_col5,#T_db3a6760_1ead_11eb_85ce_0242ac1c0002row68_col7,#T_db3a6760_1ead_11eb_85ce_0242ac1c0002row68_col9,#T_db3a6760_1ead_11eb_85ce_0242ac1c0002row68_col11,#T_db3a6760_1ead_11eb_85ce_0242ac1c0002row69_col1,#T_db3a6760_1ead_11eb_85ce_0242ac1c0002row69_col3,#T_db3a6760_1ead_11eb_85ce_0242ac1c0002row69_col5,#T_db3a6760_1ead_11eb_85ce_0242ac1c0002row69_col7,#T_db3a6760_1ead_11eb_85ce_0242ac1c0002row69_col9,#T_db3a6760_1ead_11eb_85ce_0242ac1c0002row69_col11,#T_db3a6760_1ead_11eb_85ce_0242ac1c0002row70_col1,#T_db3a6760_1ead_11eb_85ce_0242ac1c0002row70_col3,#T_db3a6760_1ead_11eb_85ce_0242ac1c0002row70_col5,#T_db3a6760_1ead_11eb_85ce_0242ac1c0002row70_col7,#T_db3a6760_1ead_11eb_85ce_0242ac1c0002row70_col9,#T_db3a6760_1ead_11eb_85ce_0242ac1c0002row70_col11,#T_db3a6760_1ead_11eb_85ce_0242ac1c0002row71_col1,#T_db3a6760_1ead_11eb_85ce_0242ac1c0002row71_col3,#T_db3a6760_1ead_11eb_85ce_0242ac1c0002row71_col5,#T_db3a6760_1ead_11eb_85ce_0242ac1c0002row71_col7,#T_db3a6760_1ead_11eb_85ce_0242ac1c0002row71_col9,#T_db3a6760_1ead_11eb_85ce_0242ac1c0002row71_col11,#T_db3a6760_1ead_11eb_85ce_0242ac1c0002row72_col1,#T_db3a6760_1ead_11eb_85ce_0242ac1c0002row72_col3,#T_db3a6760_1ead_11eb_85ce_0242ac1c0002row72_col5,#T_db3a6760_1ead_11eb_85ce_0242ac1c0002row72_col7,#T_db3a6760_1ead_11eb_85ce_0242ac1c0002row72_col9,#T_db3a6760_1ead_11eb_85ce_0242ac1c0002row72_col11,#T_db3a6760_1ead_11eb_85ce_0242ac1c0002row73_col1,#T_db3a6760_1ead_11eb_85ce_0242ac1c0002row73_col3,#T_db3a6760_1ead_11eb_85ce_0242ac1c0002row73_col5,#T_db3a6760_1ead_11eb_85ce_0242ac1c0002row73_col7,#T_db3a6760_1ead_11eb_85ce_0242ac1c0002row73_col9,#T_db3a6760_1ead_11eb_85ce_0242ac1c0002row73_col11,#T_db3a6760_1ead_11eb_85ce_0242ac1c0002row74_col1,#T_db3a6760_1ead_11eb_85ce_0242ac1c0002row74_col3,#T_db3a6760_1ead_11eb_85ce_0242ac1c0002row74_col5,#T_db3a6760_1ead_11eb_85ce_0242ac1c0002row74_col7,#T_db3a6760_1ead_11eb_85ce_0242ac1c0002row74_col9,#T_db3a6760_1ead_11eb_85ce_0242ac1c0002row74_col11,#T_db3a6760_1ead_11eb_85ce_0242ac1c0002row75_col1,#T_db3a6760_1ead_11eb_85ce_0242ac1c0002row75_col3,#T_db3a6760_1ead_11eb_85ce_0242ac1c0002row75_col5,#T_db3a6760_1ead_11eb_85ce_0242ac1c0002row75_col7,#T_db3a6760_1ead_11eb_85ce_0242ac1c0002row75_col9,#T_db3a6760_1ead_11eb_85ce_0242ac1c0002row75_col11,#T_db3a6760_1ead_11eb_85ce_0242ac1c0002row76_col1,#T_db3a6760_1ead_11eb_85ce_0242ac1c0002row76_col3,#T_db3a6760_1ead_11eb_85ce_0242ac1c0002row76_col5,#T_db3a6760_1ead_11eb_85ce_0242ac1c0002row76_col7,#T_db3a6760_1ead_11eb_85ce_0242ac1c0002row76_col9,#T_db3a6760_1ead_11eb_85ce_0242ac1c0002row76_col11,#T_db3a6760_1ead_11eb_85ce_0242ac1c0002row77_col1,#T_db3a6760_1ead_11eb_85ce_0242ac1c0002row77_col3,#T_db3a6760_1ead_11eb_85ce_0242ac1c0002row77_col5,#T_db3a6760_1ead_11eb_85ce_0242ac1c0002row77_col7,#T_db3a6760_1ead_11eb_85ce_0242ac1c0002row77_col9,#T_db3a6760_1ead_11eb_85ce_0242ac1c0002row77_col11,#T_db3a6760_1ead_11eb_85ce_0242ac1c0002row78_col1,#T_db3a6760_1ead_11eb_85ce_0242ac1c0002row78_col3,#T_db3a6760_1ead_11eb_85ce_0242ac1c0002row78_col5,#T_db3a6760_1ead_11eb_85ce_0242ac1c0002row78_col7,#T_db3a6760_1ead_11eb_85ce_0242ac1c0002row78_col9,#T_db3a6760_1ead_11eb_85ce_0242ac1c0002row78_col11,#T_db3a6760_1ead_11eb_85ce_0242ac1c0002row79_col1,#T_db3a6760_1ead_11eb_85ce_0242ac1c0002row79_col3,#T_db3a6760_1ead_11eb_85ce_0242ac1c0002row79_col5,#T_db3a6760_1ead_11eb_85ce_0242ac1c0002row79_col7,#T_db3a6760_1ead_11eb_85ce_0242ac1c0002row79_col9,#T_db3a6760_1ead_11eb_85ce_0242ac1c0002row79_col11,#T_db3a6760_1ead_11eb_85ce_0242ac1c0002row80_col1,#T_db3a6760_1ead_11eb_85ce_0242ac1c0002row80_col3,#T_db3a6760_1ead_11eb_85ce_0242ac1c0002row80_col5,#T_db3a6760_1ead_11eb_85ce_0242ac1c0002row80_col7,#T_db3a6760_1ead_11eb_85ce_0242ac1c0002row80_col9,#T_db3a6760_1ead_11eb_85ce_0242ac1c0002row80_col11,#T_db3a6760_1ead_11eb_85ce_0242ac1c0002row81_col1,#T_db3a6760_1ead_11eb_85ce_0242ac1c0002row81_col3,#T_db3a6760_1ead_11eb_85ce_0242ac1c0002row81_col5,#T_db3a6760_1ead_11eb_85ce_0242ac1c0002row81_col7,#T_db3a6760_1ead_11eb_85ce_0242ac1c0002row81_col9,#T_db3a6760_1ead_11eb_85ce_0242ac1c0002row81_col11,#T_db3a6760_1ead_11eb_85ce_0242ac1c0002row82_col1,#T_db3a6760_1ead_11eb_85ce_0242ac1c0002row82_col3,#T_db3a6760_1ead_11eb_85ce_0242ac1c0002row82_col5,#T_db3a6760_1ead_11eb_85ce_0242ac1c0002row82_col7,#T_db3a6760_1ead_11eb_85ce_0242ac1c0002row82_col9,#T_db3a6760_1ead_11eb_85ce_0242ac1c0002row82_col11,#T_db3a6760_1ead_11eb_85ce_0242ac1c0002row83_col1,#T_db3a6760_1ead_11eb_85ce_0242ac1c0002row83_col3,#T_db3a6760_1ead_11eb_85ce_0242ac1c0002row83_col5,#T_db3a6760_1ead_11eb_85ce_0242ac1c0002row83_col7,#T_db3a6760_1ead_11eb_85ce_0242ac1c0002row83_col9,#T_db3a6760_1ead_11eb_85ce_0242ac1c0002row83_col11,#T_db3a6760_1ead_11eb_85ce_0242ac1c0002row84_col1,#T_db3a6760_1ead_11eb_85ce_0242ac1c0002row84_col3,#T_db3a6760_1ead_11eb_85ce_0242ac1c0002row84_col5,#T_db3a6760_1ead_11eb_85ce_0242ac1c0002row84_col7,#T_db3a6760_1ead_11eb_85ce_0242ac1c0002row84_col9,#T_db3a6760_1ead_11eb_85ce_0242ac1c0002row84_col11,#T_db3a6760_1ead_11eb_85ce_0242ac1c0002row85_col1,#T_db3a6760_1ead_11eb_85ce_0242ac1c0002row85_col3,#T_db3a6760_1ead_11eb_85ce_0242ac1c0002row85_col5,#T_db3a6760_1ead_11eb_85ce_0242ac1c0002row85_col7,#T_db3a6760_1ead_11eb_85ce_0242ac1c0002row85_col9,#T_db3a6760_1ead_11eb_85ce_0242ac1c0002row85_col11,#T_db3a6760_1ead_11eb_85ce_0242ac1c0002row86_col1,#T_db3a6760_1ead_11eb_85ce_0242ac1c0002row86_col3,#T_db3a6760_1ead_11eb_85ce_0242ac1c0002row86_col5,#T_db3a6760_1ead_11eb_85ce_0242ac1c0002row86_col7,#T_db3a6760_1ead_11eb_85ce_0242ac1c0002row86_col9,#T_db3a6760_1ead_11eb_85ce_0242ac1c0002row86_col11,#T_db3a6760_1ead_11eb_85ce_0242ac1c0002row87_col1,#T_db3a6760_1ead_11eb_85ce_0242ac1c0002row87_col3,#T_db3a6760_1ead_11eb_85ce_0242ac1c0002row87_col5,#T_db3a6760_1ead_11eb_85ce_0242ac1c0002row87_col7,#T_db3a6760_1ead_11eb_85ce_0242ac1c0002row87_col9,#T_db3a6760_1ead_11eb_85ce_0242ac1c0002row87_col11,#T_db3a6760_1ead_11eb_85ce_0242ac1c0002row88_col1,#T_db3a6760_1ead_11eb_85ce_0242ac1c0002row88_col3,#T_db3a6760_1ead_11eb_85ce_0242ac1c0002row88_col5,#T_db3a6760_1ead_11eb_85ce_0242ac1c0002row88_col7,#T_db3a6760_1ead_11eb_85ce_0242ac1c0002row88_col9,#T_db3a6760_1ead_11eb_85ce_0242ac1c0002row88_col11,#T_db3a6760_1ead_11eb_85ce_0242ac1c0002row89_col1,#T_db3a6760_1ead_11eb_85ce_0242ac1c0002row89_col3,#T_db3a6760_1ead_11eb_85ce_0242ac1c0002row89_col5,#T_db3a6760_1ead_11eb_85ce_0242ac1c0002row89_col7,#T_db3a6760_1ead_11eb_85ce_0242ac1c0002row89_col9,#T_db3a6760_1ead_11eb_85ce_0242ac1c0002row89_col11,#T_db3a6760_1ead_11eb_85ce_0242ac1c0002row90_col1,#T_db3a6760_1ead_11eb_85ce_0242ac1c0002row90_col3,#T_db3a6760_1ead_11eb_85ce_0242ac1c0002row90_col5,#T_db3a6760_1ead_11eb_85ce_0242ac1c0002row90_col7,#T_db3a6760_1ead_11eb_85ce_0242ac1c0002row90_col9,#T_db3a6760_1ead_11eb_85ce_0242ac1c0002row90_col11,#T_db3a6760_1ead_11eb_85ce_0242ac1c0002row91_col1,#T_db3a6760_1ead_11eb_85ce_0242ac1c0002row91_col3,#T_db3a6760_1ead_11eb_85ce_0242ac1c0002row91_col5,#T_db3a6760_1ead_11eb_85ce_0242ac1c0002row91_col7,#T_db3a6760_1ead_11eb_85ce_0242ac1c0002row91_col9,#T_db3a6760_1ead_11eb_85ce_0242ac1c0002row91_col11,#T_db3a6760_1ead_11eb_85ce_0242ac1c0002row92_col1,#T_db3a6760_1ead_11eb_85ce_0242ac1c0002row92_col3,#T_db3a6760_1ead_11eb_85ce_0242ac1c0002row92_col5,#T_db3a6760_1ead_11eb_85ce_0242ac1c0002row92_col7,#T_db3a6760_1ead_11eb_85ce_0242ac1c0002row92_col9,#T_db3a6760_1ead_11eb_85ce_0242ac1c0002row92_col11,#T_db3a6760_1ead_11eb_85ce_0242ac1c0002row93_col1,#T_db3a6760_1ead_11eb_85ce_0242ac1c0002row93_col3,#T_db3a6760_1ead_11eb_85ce_0242ac1c0002row93_col5,#T_db3a6760_1ead_11eb_85ce_0242ac1c0002row93_col7,#T_db3a6760_1ead_11eb_85ce_0242ac1c0002row93_col9,#T_db3a6760_1ead_11eb_85ce_0242ac1c0002row93_col11,#T_db3a6760_1ead_11eb_85ce_0242ac1c0002row94_col1,#T_db3a6760_1ead_11eb_85ce_0242ac1c0002row94_col3,#T_db3a6760_1ead_11eb_85ce_0242ac1c0002row94_col5,#T_db3a6760_1ead_11eb_85ce_0242ac1c0002row94_col7,#T_db3a6760_1ead_11eb_85ce_0242ac1c0002row94_col9,#T_db3a6760_1ead_11eb_85ce_0242ac1c0002row94_col11,#T_db3a6760_1ead_11eb_85ce_0242ac1c0002row95_col1,#T_db3a6760_1ead_11eb_85ce_0242ac1c0002row95_col3,#T_db3a6760_1ead_11eb_85ce_0242ac1c0002row95_col5,#T_db3a6760_1ead_11eb_85ce_0242ac1c0002row95_col7,#T_db3a6760_1ead_11eb_85ce_0242ac1c0002row95_col9,#T_db3a6760_1ead_11eb_85ce_0242ac1c0002row95_col11,#T_db3a6760_1ead_11eb_85ce_0242ac1c0002row96_col1,#T_db3a6760_1ead_11eb_85ce_0242ac1c0002row96_col3,#T_db3a6760_1ead_11eb_85ce_0242ac1c0002row96_col5,#T_db3a6760_1ead_11eb_85ce_0242ac1c0002row96_col7,#T_db3a6760_1ead_11eb_85ce_0242ac1c0002row96_col9,#T_db3a6760_1ead_11eb_85ce_0242ac1c0002row96_col11,#T_db3a6760_1ead_11eb_85ce_0242ac1c0002row97_col1,#T_db3a6760_1ead_11eb_85ce_0242ac1c0002row97_col3,#T_db3a6760_1ead_11eb_85ce_0242ac1c0002row97_col5,#T_db3a6760_1ead_11eb_85ce_0242ac1c0002row97_col7,#T_db3a6760_1ead_11eb_85ce_0242ac1c0002row97_col9,#T_db3a6760_1ead_11eb_85ce_0242ac1c0002row97_col11,#T_db3a6760_1ead_11eb_85ce_0242ac1c0002row98_col1,#T_db3a6760_1ead_11eb_85ce_0242ac1c0002row98_col3,#T_db3a6760_1ead_11eb_85ce_0242ac1c0002row98_col5,#T_db3a6760_1ead_11eb_85ce_0242ac1c0002row98_col7,#T_db3a6760_1ead_11eb_85ce_0242ac1c0002row98_col9,#T_db3a6760_1ead_11eb_85ce_0242ac1c0002row98_col11,#T_db3a6760_1ead_11eb_85ce_0242ac1c0002row99_col1,#T_db3a6760_1ead_11eb_85ce_0242ac1c0002row99_col3,#T_db3a6760_1ead_11eb_85ce_0242ac1c0002row99_col5,#T_db3a6760_1ead_11eb_85ce_0242ac1c0002row99_col7,#T_db3a6760_1ead_11eb_85ce_0242ac1c0002row99_col9,#T_db3a6760_1ead_11eb_85ce_0242ac1c0002row99_col11,#T_db3a6760_1ead_11eb_85ce_0242ac1c0002row100_col1,#T_db3a6760_1ead_11eb_85ce_0242ac1c0002row100_col3,#T_db3a6760_1ead_11eb_85ce_0242ac1c0002row100_col5,#T_db3a6760_1ead_11eb_85ce_0242ac1c0002row100_col7,#T_db3a6760_1ead_11eb_85ce_0242ac1c0002row100_col9,#T_db3a6760_1ead_11eb_85ce_0242ac1c0002row100_col11,#T_db3a6760_1ead_11eb_85ce_0242ac1c0002row101_col1,#T_db3a6760_1ead_11eb_85ce_0242ac1c0002row101_col3,#T_db3a6760_1ead_11eb_85ce_0242ac1c0002row101_col5,#T_db3a6760_1ead_11eb_85ce_0242ac1c0002row101_col7,#T_db3a6760_1ead_11eb_85ce_0242ac1c0002row101_col9,#T_db3a6760_1ead_11eb_85ce_0242ac1c0002row101_col11,#T_db3a6760_1ead_11eb_85ce_0242ac1c0002row102_col1,#T_db3a6760_1ead_11eb_85ce_0242ac1c0002row102_col3,#T_db3a6760_1ead_11eb_85ce_0242ac1c0002row102_col5,#T_db3a6760_1ead_11eb_85ce_0242ac1c0002row102_col7,#T_db3a6760_1ead_11eb_85ce_0242ac1c0002row102_col9,#T_db3a6760_1ead_11eb_85ce_0242ac1c0002row102_col11,#T_db3a6760_1ead_11eb_85ce_0242ac1c0002row103_col1,#T_db3a6760_1ead_11eb_85ce_0242ac1c0002row103_col3,#T_db3a6760_1ead_11eb_85ce_0242ac1c0002row103_col5,#T_db3a6760_1ead_11eb_85ce_0242ac1c0002row103_col7,#T_db3a6760_1ead_11eb_85ce_0242ac1c0002row103_col9,#T_db3a6760_1ead_11eb_85ce_0242ac1c0002row103_col11,#T_db3a6760_1ead_11eb_85ce_0242ac1c0002row104_col1,#T_db3a6760_1ead_11eb_85ce_0242ac1c0002row104_col3,#T_db3a6760_1ead_11eb_85ce_0242ac1c0002row104_col5,#T_db3a6760_1ead_11eb_85ce_0242ac1c0002row104_col7,#T_db3a6760_1ead_11eb_85ce_0242ac1c0002row104_col9,#T_db3a6760_1ead_11eb_85ce_0242ac1c0002row104_col11,#T_db3a6760_1ead_11eb_85ce_0242ac1c0002row105_col1,#T_db3a6760_1ead_11eb_85ce_0242ac1c0002row105_col3,#T_db3a6760_1ead_11eb_85ce_0242ac1c0002row105_col5,#T_db3a6760_1ead_11eb_85ce_0242ac1c0002row105_col7,#T_db3a6760_1ead_11eb_85ce_0242ac1c0002row105_col9,#T_db3a6760_1ead_11eb_85ce_0242ac1c0002row105_col11,#T_db3a6760_1ead_11eb_85ce_0242ac1c0002row106_col1,#T_db3a6760_1ead_11eb_85ce_0242ac1c0002row106_col3,#T_db3a6760_1ead_11eb_85ce_0242ac1c0002row106_col5,#T_db3a6760_1ead_11eb_85ce_0242ac1c0002row106_col7,#T_db3a6760_1ead_11eb_85ce_0242ac1c0002row106_col9,#T_db3a6760_1ead_11eb_85ce_0242ac1c0002row106_col11,#T_db3a6760_1ead_11eb_85ce_0242ac1c0002row107_col1,#T_db3a6760_1ead_11eb_85ce_0242ac1c0002row107_col3,#T_db3a6760_1ead_11eb_85ce_0242ac1c0002row107_col5,#T_db3a6760_1ead_11eb_85ce_0242ac1c0002row107_col7,#T_db3a6760_1ead_11eb_85ce_0242ac1c0002row107_col9,#T_db3a6760_1ead_11eb_85ce_0242ac1c0002row107_col11,#T_db3a6760_1ead_11eb_85ce_0242ac1c0002row108_col1,#T_db3a6760_1ead_11eb_85ce_0242ac1c0002row108_col3,#T_db3a6760_1ead_11eb_85ce_0242ac1c0002row108_col5,#T_db3a6760_1ead_11eb_85ce_0242ac1c0002row108_col7,#T_db3a6760_1ead_11eb_85ce_0242ac1c0002row108_col9,#T_db3a6760_1ead_11eb_85ce_0242ac1c0002row108_col11,#T_db3a6760_1ead_11eb_85ce_0242ac1c0002row109_col1,#T_db3a6760_1ead_11eb_85ce_0242ac1c0002row109_col3,#T_db3a6760_1ead_11eb_85ce_0242ac1c0002row109_col5,#T_db3a6760_1ead_11eb_85ce_0242ac1c0002row109_col7,#T_db3a6760_1ead_11eb_85ce_0242ac1c0002row109_col9,#T_db3a6760_1ead_11eb_85ce_0242ac1c0002row109_col11,#T_db3a6760_1ead_11eb_85ce_0242ac1c0002row110_col1,#T_db3a6760_1ead_11eb_85ce_0242ac1c0002row110_col3,#T_db3a6760_1ead_11eb_85ce_0242ac1c0002row110_col5,#T_db3a6760_1ead_11eb_85ce_0242ac1c0002row110_col7,#T_db3a6760_1ead_11eb_85ce_0242ac1c0002row110_col9,#T_db3a6760_1ead_11eb_85ce_0242ac1c0002row110_col11,#T_db3a6760_1ead_11eb_85ce_0242ac1c0002row111_col1,#T_db3a6760_1ead_11eb_85ce_0242ac1c0002row111_col3,#T_db3a6760_1ead_11eb_85ce_0242ac1c0002row111_col5,#T_db3a6760_1ead_11eb_85ce_0242ac1c0002row111_col7,#T_db3a6760_1ead_11eb_85ce_0242ac1c0002row111_col9,#T_db3a6760_1ead_11eb_85ce_0242ac1c0002row111_col11,#T_db3a6760_1ead_11eb_85ce_0242ac1c0002row112_col1,#T_db3a6760_1ead_11eb_85ce_0242ac1c0002row112_col3,#T_db3a6760_1ead_11eb_85ce_0242ac1c0002row112_col5,#T_db3a6760_1ead_11eb_85ce_0242ac1c0002row112_col7,#T_db3a6760_1ead_11eb_85ce_0242ac1c0002row112_col9,#T_db3a6760_1ead_11eb_85ce_0242ac1c0002row112_col11,#T_db3a6760_1ead_11eb_85ce_0242ac1c0002row113_col1,#T_db3a6760_1ead_11eb_85ce_0242ac1c0002row113_col3,#T_db3a6760_1ead_11eb_85ce_0242ac1c0002row113_col5,#T_db3a6760_1ead_11eb_85ce_0242ac1c0002row113_col7,#T_db3a6760_1ead_11eb_85ce_0242ac1c0002row113_col9,#T_db3a6760_1ead_11eb_85ce_0242ac1c0002row113_col11,#T_db3a6760_1ead_11eb_85ce_0242ac1c0002row114_col1,#T_db3a6760_1ead_11eb_85ce_0242ac1c0002row114_col3,#T_db3a6760_1ead_11eb_85ce_0242ac1c0002row114_col5,#T_db3a6760_1ead_11eb_85ce_0242ac1c0002row114_col7,#T_db3a6760_1ead_11eb_85ce_0242ac1c0002row114_col9,#T_db3a6760_1ead_11eb_85ce_0242ac1c0002row114_col11,#T_db3a6760_1ead_11eb_85ce_0242ac1c0002row115_col1,#T_db3a6760_1ead_11eb_85ce_0242ac1c0002row115_col3,#T_db3a6760_1ead_11eb_85ce_0242ac1c0002row115_col5,#T_db3a6760_1ead_11eb_85ce_0242ac1c0002row115_col7,#T_db3a6760_1ead_11eb_85ce_0242ac1c0002row115_col9,#T_db3a6760_1ead_11eb_85ce_0242ac1c0002row115_col11,#T_db3a6760_1ead_11eb_85ce_0242ac1c0002row116_col1,#T_db3a6760_1ead_11eb_85ce_0242ac1c0002row116_col3,#T_db3a6760_1ead_11eb_85ce_0242ac1c0002row116_col5,#T_db3a6760_1ead_11eb_85ce_0242ac1c0002row116_col7,#T_db3a6760_1ead_11eb_85ce_0242ac1c0002row116_col9,#T_db3a6760_1ead_11eb_85ce_0242ac1c0002row116_col11,#T_db3a6760_1ead_11eb_85ce_0242ac1c0002row117_col1,#T_db3a6760_1ead_11eb_85ce_0242ac1c0002row117_col3,#T_db3a6760_1ead_11eb_85ce_0242ac1c0002row117_col5,#T_db3a6760_1ead_11eb_85ce_0242ac1c0002row117_col7,#T_db3a6760_1ead_11eb_85ce_0242ac1c0002row117_col9,#T_db3a6760_1ead_11eb_85ce_0242ac1c0002row117_col11,#T_db3a6760_1ead_11eb_85ce_0242ac1c0002row118_col1,#T_db3a6760_1ead_11eb_85ce_0242ac1c0002row118_col3,#T_db3a6760_1ead_11eb_85ce_0242ac1c0002row118_col5,#T_db3a6760_1ead_11eb_85ce_0242ac1c0002row118_col7,#T_db3a6760_1ead_11eb_85ce_0242ac1c0002row118_col9,#T_db3a6760_1ead_11eb_85ce_0242ac1c0002row118_col11,#T_db3a6760_1ead_11eb_85ce_0242ac1c0002row119_col1,#T_db3a6760_1ead_11eb_85ce_0242ac1c0002row119_col3,#T_db3a6760_1ead_11eb_85ce_0242ac1c0002row119_col5,#T_db3a6760_1ead_11eb_85ce_0242ac1c0002row119_col7,#T_db3a6760_1ead_11eb_85ce_0242ac1c0002row119_col9,#T_db3a6760_1ead_11eb_85ce_0242ac1c0002row119_col11{\n",
              "            background-color:  yellow;\n",
              "        }</style><table id=\"T_db3a6760_1ead_11eb_85ce_0242ac1c0002\" ><thead>    <tr>        <th class=\"blank level0\" ></th>        <th class=\"col_heading level0 col0\" >eurusd</th>        <th class=\"col_heading level0 col1\" >eurusd_fcast</th>        <th class=\"col_heading level0 col2\" >gbpusd</th>        <th class=\"col_heading level0 col3\" >gbpusd_fcast</th>        <th class=\"col_heading level0 col4\" >usdjpy</th>        <th class=\"col_heading level0 col5\" >usdjpy_fcast</th>        <th class=\"col_heading level0 col6\" >es</th>        <th class=\"col_heading level0 col7\" >es_fcast</th>        <th class=\"col_heading level0 col8\" >gc</th>        <th class=\"col_heading level0 col9\" >gc_fcast</th>        <th class=\"col_heading level0 col10\" >nq</th>        <th class=\"col_heading level0 col11\" >nq_fcast</th>    </tr>    <tr>        <th class=\"index_name level0\" >timestamp</th>        <th class=\"blank\" ></th>        <th class=\"blank\" ></th>        <th class=\"blank\" ></th>        <th class=\"blank\" ></th>        <th class=\"blank\" ></th>        <th class=\"blank\" ></th>        <th class=\"blank\" ></th>        <th class=\"blank\" ></th>        <th class=\"blank\" ></th>        <th class=\"blank\" ></th>        <th class=\"blank\" ></th>        <th class=\"blank\" ></th>    </tr></thead><tbody>\n",
              "                <tr>\n",
              "                        <th id=\"T_db3a6760_1ead_11eb_85ce_0242ac1c0002level0_row0\" class=\"row_heading level0 row0\" >2020-05-29 21:00:00</th>\n",
              "                        <td id=\"T_db3a6760_1ead_11eb_85ce_0242ac1c0002row0_col0\" class=\"data row0 col0\" >1113400.000000</td>\n",
              "                        <td id=\"T_db3a6760_1ead_11eb_85ce_0242ac1c0002row0_col1\" class=\"data row0 col1\" >1110348.761178</td>\n",
              "                        <td id=\"T_db3a6760_1ead_11eb_85ce_0242ac1c0002row0_col2\" class=\"data row0 col2\" >1237150.000000</td>\n",
              "                        <td id=\"T_db3a6760_1ead_11eb_85ce_0242ac1c0002row0_col3\" class=\"data row0 col3\" >1232892.585422</td>\n",
              "                        <td id=\"T_db3a6760_1ead_11eb_85ce_0242ac1c0002row0_col4\" class=\"data row0 col4\" >107835000.000000</td>\n",
              "                        <td id=\"T_db3a6760_1ead_11eb_85ce_0242ac1c0002row0_col5\" class=\"data row0 col5\" >107779546.864686</td>\n",
              "                        <td id=\"T_db3a6760_1ead_11eb_85ce_0242ac1c0002row0_col6\" class=\"data row0 col6\" >3027.250000</td>\n",
              "                        <td id=\"T_db3a6760_1ead_11eb_85ce_0242ac1c0002row0_col7\" class=\"data row0 col7\" >3018.837510</td>\n",
              "                        <td id=\"T_db3a6760_1ead_11eb_85ce_0242ac1c0002row0_col8\" class=\"data row0 col8\" >1731.350000</td>\n",
              "                        <td id=\"T_db3a6760_1ead_11eb_85ce_0242ac1c0002row0_col9\" class=\"data row0 col9\" >1733.441753</td>\n",
              "                        <td id=\"T_db3a6760_1ead_11eb_85ce_0242ac1c0002row0_col10\" class=\"data row0 col10\" >9591.125000</td>\n",
              "                        <td id=\"T_db3a6760_1ead_11eb_85ce_0242ac1c0002row0_col11\" class=\"data row0 col11\" >9517.085245</td>\n",
              "            </tr>\n",
              "            <tr>\n",
              "                        <th id=\"T_db3a6760_1ead_11eb_85ce_0242ac1c0002level0_row1\" class=\"row_heading level0 row1\" >2020-05-29 20:59:00</th>\n",
              "                        <td id=\"T_db3a6760_1ead_11eb_85ce_0242ac1c0002row1_col0\" class=\"data row1 col0\" >1113400.000000</td>\n",
              "                        <td id=\"T_db3a6760_1ead_11eb_85ce_0242ac1c0002row1_col1\" class=\"data row1 col1\" >1110348.210539</td>\n",
              "                        <td id=\"T_db3a6760_1ead_11eb_85ce_0242ac1c0002row1_col2\" class=\"data row1 col2\" >1235450.000000</td>\n",
              "                        <td id=\"T_db3a6760_1ead_11eb_85ce_0242ac1c0002row1_col3\" class=\"data row1 col3\" >1232893.434163</td>\n",
              "                        <td id=\"T_db3a6760_1ead_11eb_85ce_0242ac1c0002row1_col4\" class=\"data row1 col4\" >107835000.000000</td>\n",
              "                        <td id=\"T_db3a6760_1ead_11eb_85ce_0242ac1c0002row1_col5\" class=\"data row1 col5\" >107779533.045568</td>\n",
              "                        <td id=\"T_db3a6760_1ead_11eb_85ce_0242ac1c0002row1_col6\" class=\"data row1 col6\" >3027.250000</td>\n",
              "                        <td id=\"T_db3a6760_1ead_11eb_85ce_0242ac1c0002row1_col7\" class=\"data row1 col7\" >3018.832594</td>\n",
              "                        <td id=\"T_db3a6760_1ead_11eb_85ce_0242ac1c0002row1_col8\" class=\"data row1 col8\" >1731.300000</td>\n",
              "                        <td id=\"T_db3a6760_1ead_11eb_85ce_0242ac1c0002row1_col9\" class=\"data row1 col9\" >1733.440466</td>\n",
              "                        <td id=\"T_db3a6760_1ead_11eb_85ce_0242ac1c0002row1_col10\" class=\"data row1 col10\" >9587.375000</td>\n",
              "                        <td id=\"T_db3a6760_1ead_11eb_85ce_0242ac1c0002row1_col11\" class=\"data row1 col11\" >9517.062086</td>\n",
              "            </tr>\n",
              "            <tr>\n",
              "                        <th id=\"T_db3a6760_1ead_11eb_85ce_0242ac1c0002level0_row2\" class=\"row_heading level0 row2\" >2020-05-29 20:58:00</th>\n",
              "                        <td id=\"T_db3a6760_1ead_11eb_85ce_0242ac1c0002row2_col0\" class=\"data row2 col0\" >1111650.000000</td>\n",
              "                        <td id=\"T_db3a6760_1ead_11eb_85ce_0242ac1c0002row2_col1\" class=\"data row2 col1\" >1110347.659901</td>\n",
              "                        <td id=\"T_db3a6760_1ead_11eb_85ce_0242ac1c0002row2_col2\" class=\"data row2 col2\" >1235450.000000</td>\n",
              "                        <td id=\"T_db3a6760_1ead_11eb_85ce_0242ac1c0002row2_col3\" class=\"data row2 col3\" >1232894.282905</td>\n",
              "                        <td id=\"T_db3a6760_1ead_11eb_85ce_0242ac1c0002row2_col4\" class=\"data row2 col4\" >107830000.000000</td>\n",
              "                        <td id=\"T_db3a6760_1ead_11eb_85ce_0242ac1c0002row2_col5\" class=\"data row2 col5\" >107779519.226451</td>\n",
              "                        <td id=\"T_db3a6760_1ead_11eb_85ce_0242ac1c0002row2_col6\" class=\"data row2 col6\" >3027.250000</td>\n",
              "                        <td id=\"T_db3a6760_1ead_11eb_85ce_0242ac1c0002row2_col7\" class=\"data row2 col7\" >3018.827677</td>\n",
              "                        <td id=\"T_db3a6760_1ead_11eb_85ce_0242ac1c0002row2_col8\" class=\"data row2 col8\" >1731.450000</td>\n",
              "                        <td id=\"T_db3a6760_1ead_11eb_85ce_0242ac1c0002row2_col9\" class=\"data row2 col9\" >1733.439179</td>\n",
              "                        <td id=\"T_db3a6760_1ead_11eb_85ce_0242ac1c0002row2_col10\" class=\"data row2 col10\" >9588.625000</td>\n",
              "                        <td id=\"T_db3a6760_1ead_11eb_85ce_0242ac1c0002row2_col11\" class=\"data row2 col11\" >9517.038926</td>\n",
              "            </tr>\n",
              "            <tr>\n",
              "                        <th id=\"T_db3a6760_1ead_11eb_85ce_0242ac1c0002level0_row3\" class=\"row_heading level0 row3\" >2020-05-29 20:57:00</th>\n",
              "                        <td id=\"T_db3a6760_1ead_11eb_85ce_0242ac1c0002row3_col0\" class=\"data row3 col0\" >1111750.000000</td>\n",
              "                        <td id=\"T_db3a6760_1ead_11eb_85ce_0242ac1c0002row3_col1\" class=\"data row3 col1\" >1110347.109262</td>\n",
              "                        <td id=\"T_db3a6760_1ead_11eb_85ce_0242ac1c0002row3_col2\" class=\"data row3 col2\" >1235450.000000</td>\n",
              "                        <td id=\"T_db3a6760_1ead_11eb_85ce_0242ac1c0002row3_col3\" class=\"data row3 col3\" >1232895.131646</td>\n",
              "                        <td id=\"T_db3a6760_1ead_11eb_85ce_0242ac1c0002row3_col4\" class=\"data row3 col4\" >107830000.000000</td>\n",
              "                        <td id=\"T_db3a6760_1ead_11eb_85ce_0242ac1c0002row3_col5\" class=\"data row3 col5\" >107779505.407333</td>\n",
              "                        <td id=\"T_db3a6760_1ead_11eb_85ce_0242ac1c0002row3_col6\" class=\"data row3 col6\" >3027.250000</td>\n",
              "                        <td id=\"T_db3a6760_1ead_11eb_85ce_0242ac1c0002row3_col7\" class=\"data row3 col7\" >3018.822760</td>\n",
              "                        <td id=\"T_db3a6760_1ead_11eb_85ce_0242ac1c0002row3_col8\" class=\"data row3 col8\" >1731.200000</td>\n",
              "                        <td id=\"T_db3a6760_1ead_11eb_85ce_0242ac1c0002row3_col9\" class=\"data row3 col9\" >1733.437892</td>\n",
              "                        <td id=\"T_db3a6760_1ead_11eb_85ce_0242ac1c0002row3_col10\" class=\"data row3 col10\" >9588.500000</td>\n",
              "                        <td id=\"T_db3a6760_1ead_11eb_85ce_0242ac1c0002row3_col11\" class=\"data row3 col11\" >9517.015767</td>\n",
              "            </tr>\n",
              "            <tr>\n",
              "                        <th id=\"T_db3a6760_1ead_11eb_85ce_0242ac1c0002level0_row4\" class=\"row_heading level0 row4\" >2020-05-29 20:56:00</th>\n",
              "                        <td id=\"T_db3a6760_1ead_11eb_85ce_0242ac1c0002row4_col0\" class=\"data row4 col0\" >1111740.000000</td>\n",
              "                        <td id=\"T_db3a6760_1ead_11eb_85ce_0242ac1c0002row4_col1\" class=\"data row4 col1\" >1110346.558623</td>\n",
              "                        <td id=\"T_db3a6760_1ead_11eb_85ce_0242ac1c0002row4_col2\" class=\"data row4 col2\" >1235400.000000</td>\n",
              "                        <td id=\"T_db3a6760_1ead_11eb_85ce_0242ac1c0002row4_col3\" class=\"data row4 col3\" >1232895.980388</td>\n",
              "                        <td id=\"T_db3a6760_1ead_11eb_85ce_0242ac1c0002row4_col4\" class=\"data row4 col4\" >107675000.000000</td>\n",
              "                        <td id=\"T_db3a6760_1ead_11eb_85ce_0242ac1c0002row4_col5\" class=\"data row4 col5\" >107779491.588216</td>\n",
              "                        <td id=\"T_db3a6760_1ead_11eb_85ce_0242ac1c0002row4_col6\" class=\"data row4 col6\" >3027.250000</td>\n",
              "                        <td id=\"T_db3a6760_1ead_11eb_85ce_0242ac1c0002row4_col7\" class=\"data row4 col7\" >3018.817843</td>\n",
              "                        <td id=\"T_db3a6760_1ead_11eb_85ce_0242ac1c0002row4_col8\" class=\"data row4 col8\" >1731.500000</td>\n",
              "                        <td id=\"T_db3a6760_1ead_11eb_85ce_0242ac1c0002row4_col9\" class=\"data row4 col9\" >1733.436606</td>\n",
              "                        <td id=\"T_db3a6760_1ead_11eb_85ce_0242ac1c0002row4_col10\" class=\"data row4 col10\" >9588.625000</td>\n",
              "                        <td id=\"T_db3a6760_1ead_11eb_85ce_0242ac1c0002row4_col11\" class=\"data row4 col11\" >9516.992607</td>\n",
              "            </tr>\n",
              "            <tr>\n",
              "                        <th id=\"T_db3a6760_1ead_11eb_85ce_0242ac1c0002level0_row5\" class=\"row_heading level0 row5\" >2020-05-29 20:55:00</th>\n",
              "                        <td id=\"T_db3a6760_1ead_11eb_85ce_0242ac1c0002row5_col0\" class=\"data row5 col0\" >1110660.000000</td>\n",
              "                        <td id=\"T_db3a6760_1ead_11eb_85ce_0242ac1c0002row5_col1\" class=\"data row5 col1\" >1110346.007985</td>\n",
              "                        <td id=\"T_db3a6760_1ead_11eb_85ce_0242ac1c0002row5_col2\" class=\"data row5 col2\" >1234990.000000</td>\n",
              "                        <td id=\"T_db3a6760_1ead_11eb_85ce_0242ac1c0002row5_col3\" class=\"data row5 col3\" >1232896.829129</td>\n",
              "                        <td id=\"T_db3a6760_1ead_11eb_85ce_0242ac1c0002row5_col4\" class=\"data row5 col4\" >107766500.000000</td>\n",
              "                        <td id=\"T_db3a6760_1ead_11eb_85ce_0242ac1c0002row5_col5\" class=\"data row5 col5\" >107779477.769098</td>\n",
              "                        <td id=\"T_db3a6760_1ead_11eb_85ce_0242ac1c0002row5_col6\" class=\"data row5 col6\" >3027.000000</td>\n",
              "                        <td id=\"T_db3a6760_1ead_11eb_85ce_0242ac1c0002row5_col7\" class=\"data row5 col7\" >3018.812927</td>\n",
              "                        <td id=\"T_db3a6760_1ead_11eb_85ce_0242ac1c0002row5_col8\" class=\"data row5 col8\" >1731.550000</td>\n",
              "                        <td id=\"T_db3a6760_1ead_11eb_85ce_0242ac1c0002row5_col9\" class=\"data row5 col9\" >1733.435319</td>\n",
              "                        <td id=\"T_db3a6760_1ead_11eb_85ce_0242ac1c0002row5_col10\" class=\"data row5 col10\" >9587.875000</td>\n",
              "                        <td id=\"T_db3a6760_1ead_11eb_85ce_0242ac1c0002row5_col11\" class=\"data row5 col11\" >9516.969448</td>\n",
              "            </tr>\n",
              "            <tr>\n",
              "                        <th id=\"T_db3a6760_1ead_11eb_85ce_0242ac1c0002level0_row6\" class=\"row_heading level0 row6\" >2020-05-29 20:54:00</th>\n",
              "                        <td id=\"T_db3a6760_1ead_11eb_85ce_0242ac1c0002row6_col0\" class=\"data row6 col0\" >1110785.000000</td>\n",
              "                        <td id=\"T_db3a6760_1ead_11eb_85ce_0242ac1c0002row6_col1\" class=\"data row6 col1\" >1110345.457346</td>\n",
              "                        <td id=\"T_db3a6760_1ead_11eb_85ce_0242ac1c0002row6_col2\" class=\"data row6 col2\" >1235090.000000</td>\n",
              "                        <td id=\"T_db3a6760_1ead_11eb_85ce_0242ac1c0002row6_col3\" class=\"data row6 col3\" >1232897.677871</td>\n",
              "                        <td id=\"T_db3a6760_1ead_11eb_85ce_0242ac1c0002row6_col4\" class=\"data row6 col4\" >107788500.000000</td>\n",
              "                        <td id=\"T_db3a6760_1ead_11eb_85ce_0242ac1c0002row6_col5\" class=\"data row6 col5\" >107779463.949980</td>\n",
              "                        <td id=\"T_db3a6760_1ead_11eb_85ce_0242ac1c0002row6_col6\" class=\"data row6 col6\" >3026.625000</td>\n",
              "                        <td id=\"T_db3a6760_1ead_11eb_85ce_0242ac1c0002row6_col7\" class=\"data row6 col7\" >3018.808010</td>\n",
              "                        <td id=\"T_db3a6760_1ead_11eb_85ce_0242ac1c0002row6_col8\" class=\"data row6 col8\" >1731.750000</td>\n",
              "                        <td id=\"T_db3a6760_1ead_11eb_85ce_0242ac1c0002row6_col9\" class=\"data row6 col9\" >1733.434032</td>\n",
              "                        <td id=\"T_db3a6760_1ead_11eb_85ce_0242ac1c0002row6_col10\" class=\"data row6 col10\" >9586.375000</td>\n",
              "                        <td id=\"T_db3a6760_1ead_11eb_85ce_0242ac1c0002row6_col11\" class=\"data row6 col11\" >9516.946288</td>\n",
              "            </tr>\n",
              "            <tr>\n",
              "                        <th id=\"T_db3a6760_1ead_11eb_85ce_0242ac1c0002level0_row7\" class=\"row_heading level0 row7\" >2020-05-29 20:53:00</th>\n",
              "                        <td id=\"T_db3a6760_1ead_11eb_85ce_0242ac1c0002row7_col0\" class=\"data row7 col0\" >1110845.000000</td>\n",
              "                        <td id=\"T_db3a6760_1ead_11eb_85ce_0242ac1c0002row7_col1\" class=\"data row7 col1\" >1110344.906708</td>\n",
              "                        <td id=\"T_db3a6760_1ead_11eb_85ce_0242ac1c0002row7_col2\" class=\"data row7 col2\" >1234890.000000</td>\n",
              "                        <td id=\"T_db3a6760_1ead_11eb_85ce_0242ac1c0002row7_col3\" class=\"data row7 col3\" >1232898.526613</td>\n",
              "                        <td id=\"T_db3a6760_1ead_11eb_85ce_0242ac1c0002row7_col4\" class=\"data row7 col4\" >107784500.000000</td>\n",
              "                        <td id=\"T_db3a6760_1ead_11eb_85ce_0242ac1c0002row7_col5\" class=\"data row7 col5\" >107779450.130863</td>\n",
              "                        <td id=\"T_db3a6760_1ead_11eb_85ce_0242ac1c0002row7_col6\" class=\"data row7 col6\" >3027.000000</td>\n",
              "                        <td id=\"T_db3a6760_1ead_11eb_85ce_0242ac1c0002row7_col7\" class=\"data row7 col7\" >3018.803093</td>\n",
              "                        <td id=\"T_db3a6760_1ead_11eb_85ce_0242ac1c0002row7_col8\" class=\"data row7 col8\" >1731.750000</td>\n",
              "                        <td id=\"T_db3a6760_1ead_11eb_85ce_0242ac1c0002row7_col9\" class=\"data row7 col9\" >1733.432746</td>\n",
              "                        <td id=\"T_db3a6760_1ead_11eb_85ce_0242ac1c0002row7_col10\" class=\"data row7 col10\" >9587.875000</td>\n",
              "                        <td id=\"T_db3a6760_1ead_11eb_85ce_0242ac1c0002row7_col11\" class=\"data row7 col11\" >9516.923128</td>\n",
              "            </tr>\n",
              "            <tr>\n",
              "                        <th id=\"T_db3a6760_1ead_11eb_85ce_0242ac1c0002level0_row8\" class=\"row_heading level0 row8\" >2020-05-29 20:52:00</th>\n",
              "                        <td id=\"T_db3a6760_1ead_11eb_85ce_0242ac1c0002row8_col0\" class=\"data row8 col0\" >1110745.000000</td>\n",
              "                        <td id=\"T_db3a6760_1ead_11eb_85ce_0242ac1c0002row8_col1\" class=\"data row8 col1\" >1110344.356069</td>\n",
              "                        <td id=\"T_db3a6760_1ead_11eb_85ce_0242ac1c0002row8_col2\" class=\"data row8 col2\" >1235140.000000</td>\n",
              "                        <td id=\"T_db3a6760_1ead_11eb_85ce_0242ac1c0002row8_col3\" class=\"data row8 col3\" >1232899.375354</td>\n",
              "                        <td id=\"T_db3a6760_1ead_11eb_85ce_0242ac1c0002row8_col4\" class=\"data row8 col4\" >107779000.000000</td>\n",
              "                        <td id=\"T_db3a6760_1ead_11eb_85ce_0242ac1c0002row8_col5\" class=\"data row8 col5\" >107779436.311745</td>\n",
              "                        <td id=\"T_db3a6760_1ead_11eb_85ce_0242ac1c0002row8_col6\" class=\"data row8 col6\" >3027.000000</td>\n",
              "                        <td id=\"T_db3a6760_1ead_11eb_85ce_0242ac1c0002row8_col7\" class=\"data row8 col7\" >3018.798176</td>\n",
              "                        <td id=\"T_db3a6760_1ead_11eb_85ce_0242ac1c0002row8_col8\" class=\"data row8 col8\" >1731.500000</td>\n",
              "                        <td id=\"T_db3a6760_1ead_11eb_85ce_0242ac1c0002row8_col9\" class=\"data row8 col9\" >1733.431459</td>\n",
              "                        <td id=\"T_db3a6760_1ead_11eb_85ce_0242ac1c0002row8_col10\" class=\"data row8 col10\" >9586.875000</td>\n",
              "                        <td id=\"T_db3a6760_1ead_11eb_85ce_0242ac1c0002row8_col11\" class=\"data row8 col11\" >9516.899969</td>\n",
              "            </tr>\n",
              "            <tr>\n",
              "                        <th id=\"T_db3a6760_1ead_11eb_85ce_0242ac1c0002level0_row9\" class=\"row_heading level0 row9\" >2020-05-29 20:51:00</th>\n",
              "                        <td id=\"T_db3a6760_1ead_11eb_85ce_0242ac1c0002row9_col0\" class=\"data row9 col0\" >1110660.000000</td>\n",
              "                        <td id=\"T_db3a6760_1ead_11eb_85ce_0242ac1c0002row9_col1\" class=\"data row9 col1\" >1110343.805430</td>\n",
              "                        <td id=\"T_db3a6760_1ead_11eb_85ce_0242ac1c0002row9_col2\" class=\"data row9 col2\" >1235245.000000</td>\n",
              "                        <td id=\"T_db3a6760_1ead_11eb_85ce_0242ac1c0002row9_col3\" class=\"data row9 col3\" >1232900.224096</td>\n",
              "                        <td id=\"T_db3a6760_1ead_11eb_85ce_0242ac1c0002row9_col4\" class=\"data row9 col4\" >107773500.000000</td>\n",
              "                        <td id=\"T_db3a6760_1ead_11eb_85ce_0242ac1c0002row9_col5\" class=\"data row9 col5\" >107779422.492627</td>\n",
              "                        <td id=\"T_db3a6760_1ead_11eb_85ce_0242ac1c0002row9_col6\" class=\"data row9 col6\" >3027.125000</td>\n",
              "                        <td id=\"T_db3a6760_1ead_11eb_85ce_0242ac1c0002row9_col7\" class=\"data row9 col7\" >3018.793259</td>\n",
              "                        <td id=\"T_db3a6760_1ead_11eb_85ce_0242ac1c0002row9_col8\" class=\"data row9 col8\" >1731.850000</td>\n",
              "                        <td id=\"T_db3a6760_1ead_11eb_85ce_0242ac1c0002row9_col9\" class=\"data row9 col9\" >1733.430172</td>\n",
              "                        <td id=\"T_db3a6760_1ead_11eb_85ce_0242ac1c0002row9_col10\" class=\"data row9 col10\" >9587.375000</td>\n",
              "                        <td id=\"T_db3a6760_1ead_11eb_85ce_0242ac1c0002row9_col11\" class=\"data row9 col11\" >9516.876809</td>\n",
              "            </tr>\n",
              "            <tr>\n",
              "                        <th id=\"T_db3a6760_1ead_11eb_85ce_0242ac1c0002level0_row10\" class=\"row_heading level0 row10\" >2020-05-29 20:50:00</th>\n",
              "                        <td id=\"T_db3a6760_1ead_11eb_85ce_0242ac1c0002row10_col0\" class=\"data row10 col0\" >1110785.000000</td>\n",
              "                        <td id=\"T_db3a6760_1ead_11eb_85ce_0242ac1c0002row10_col1\" class=\"data row10 col1\" >1110343.254792</td>\n",
              "                        <td id=\"T_db3a6760_1ead_11eb_85ce_0242ac1c0002row10_col2\" class=\"data row10 col2\" >1235425.000000</td>\n",
              "                        <td id=\"T_db3a6760_1ead_11eb_85ce_0242ac1c0002row10_col3\" class=\"data row10 col3\" >1232901.072837</td>\n",
              "                        <td id=\"T_db3a6760_1ead_11eb_85ce_0242ac1c0002row10_col4\" class=\"data row10 col4\" >107776000.000000</td>\n",
              "                        <td id=\"T_db3a6760_1ead_11eb_85ce_0242ac1c0002row10_col5\" class=\"data row10 col5\" >107779408.673510</td>\n",
              "                        <td id=\"T_db3a6760_1ead_11eb_85ce_0242ac1c0002row10_col6\" class=\"data row10 col6\" >3027.125000</td>\n",
              "                        <td id=\"T_db3a6760_1ead_11eb_85ce_0242ac1c0002row10_col7\" class=\"data row10 col7\" >3018.788343</td>\n",
              "                        <td id=\"T_db3a6760_1ead_11eb_85ce_0242ac1c0002row10_col8\" class=\"data row10 col8\" >1731.800000</td>\n",
              "                        <td id=\"T_db3a6760_1ead_11eb_85ce_0242ac1c0002row10_col9\" class=\"data row10 col9\" >1733.428886</td>\n",
              "                        <td id=\"T_db3a6760_1ead_11eb_85ce_0242ac1c0002row10_col10\" class=\"data row10 col10\" >9587.375000</td>\n",
              "                        <td id=\"T_db3a6760_1ead_11eb_85ce_0242ac1c0002row10_col11\" class=\"data row10 col11\" >9516.853650</td>\n",
              "            </tr>\n",
              "            <tr>\n",
              "                        <th id=\"T_db3a6760_1ead_11eb_85ce_0242ac1c0002level0_row11\" class=\"row_heading level0 row11\" >2020-05-29 20:49:00</th>\n",
              "                        <td id=\"T_db3a6760_1ead_11eb_85ce_0242ac1c0002row11_col0\" class=\"data row11 col0\" >1110530.000000</td>\n",
              "                        <td id=\"T_db3a6760_1ead_11eb_85ce_0242ac1c0002row11_col1\" class=\"data row11 col1\" >1110342.704153</td>\n",
              "                        <td id=\"T_db3a6760_1ead_11eb_85ce_0242ac1c0002row11_col2\" class=\"data row11 col2\" >1235525.000000</td>\n",
              "                        <td id=\"T_db3a6760_1ead_11eb_85ce_0242ac1c0002row11_col3\" class=\"data row11 col3\" >1232901.921579</td>\n",
              "                        <td id=\"T_db3a6760_1ead_11eb_85ce_0242ac1c0002row11_col4\" class=\"data row11 col4\" >107803500.000000</td>\n",
              "                        <td id=\"T_db3a6760_1ead_11eb_85ce_0242ac1c0002row11_col5\" class=\"data row11 col5\" >107779394.854392</td>\n",
              "                        <td id=\"T_db3a6760_1ead_11eb_85ce_0242ac1c0002row11_col6\" class=\"data row11 col6\" >3027.125000</td>\n",
              "                        <td id=\"T_db3a6760_1ead_11eb_85ce_0242ac1c0002row11_col7\" class=\"data row11 col7\" >3018.783426</td>\n",
              "                        <td id=\"T_db3a6760_1ead_11eb_85ce_0242ac1c0002row11_col8\" class=\"data row11 col8\" >1731.950000</td>\n",
              "                        <td id=\"T_db3a6760_1ead_11eb_85ce_0242ac1c0002row11_col9\" class=\"data row11 col9\" >1733.427599</td>\n",
              "                        <td id=\"T_db3a6760_1ead_11eb_85ce_0242ac1c0002row11_col10\" class=\"data row11 col10\" >9584.750000</td>\n",
              "                        <td id=\"T_db3a6760_1ead_11eb_85ce_0242ac1c0002row11_col11\" class=\"data row11 col11\" >9516.830490</td>\n",
              "            </tr>\n",
              "            <tr>\n",
              "                        <th id=\"T_db3a6760_1ead_11eb_85ce_0242ac1c0002level0_row12\" class=\"row_heading level0 row12\" >2020-05-29 20:48:00</th>\n",
              "                        <td id=\"T_db3a6760_1ead_11eb_85ce_0242ac1c0002row12_col0\" class=\"data row12 col0\" >1110785.000000</td>\n",
              "                        <td id=\"T_db3a6760_1ead_11eb_85ce_0242ac1c0002row12_col1\" class=\"data row12 col1\" >1110342.153514</td>\n",
              "                        <td id=\"T_db3a6760_1ead_11eb_85ce_0242ac1c0002row12_col2\" class=\"data row12 col2\" >1235665.000000</td>\n",
              "                        <td id=\"T_db3a6760_1ead_11eb_85ce_0242ac1c0002row12_col3\" class=\"data row12 col3\" >1232902.770320</td>\n",
              "                        <td id=\"T_db3a6760_1ead_11eb_85ce_0242ac1c0002row12_col4\" class=\"data row12 col4\" >107811000.000000</td>\n",
              "                        <td id=\"T_db3a6760_1ead_11eb_85ce_0242ac1c0002row12_col5\" class=\"data row12 col5\" >107779381.035275</td>\n",
              "                        <td id=\"T_db3a6760_1ead_11eb_85ce_0242ac1c0002row12_col6\" class=\"data row12 col6\" >3026.750000</td>\n",
              "                        <td id=\"T_db3a6760_1ead_11eb_85ce_0242ac1c0002row12_col7\" class=\"data row12 col7\" >3018.778509</td>\n",
              "                        <td id=\"T_db3a6760_1ead_11eb_85ce_0242ac1c0002row12_col8\" class=\"data row12 col8\" >1732.100000</td>\n",
              "                        <td id=\"T_db3a6760_1ead_11eb_85ce_0242ac1c0002row12_col9\" class=\"data row12 col9\" >1733.426312</td>\n",
              "                        <td id=\"T_db3a6760_1ead_11eb_85ce_0242ac1c0002row12_col10\" class=\"data row12 col10\" >9583.250000</td>\n",
              "                        <td id=\"T_db3a6760_1ead_11eb_85ce_0242ac1c0002row12_col11\" class=\"data row12 col11\" >9516.807331</td>\n",
              "            </tr>\n",
              "            <tr>\n",
              "                        <th id=\"T_db3a6760_1ead_11eb_85ce_0242ac1c0002level0_row13\" class=\"row_heading level0 row13\" >2020-05-29 20:47:00</th>\n",
              "                        <td id=\"T_db3a6760_1ead_11eb_85ce_0242ac1c0002row13_col0\" class=\"data row13 col0\" >1110685.000000</td>\n",
              "                        <td id=\"T_db3a6760_1ead_11eb_85ce_0242ac1c0002row13_col1\" class=\"data row13 col1\" >1110341.602876</td>\n",
              "                        <td id=\"T_db3a6760_1ead_11eb_85ce_0242ac1c0002row13_col2\" class=\"data row13 col2\" >1235645.000000</td>\n",
              "                        <td id=\"T_db3a6760_1ead_11eb_85ce_0242ac1c0002row13_col3\" class=\"data row13 col3\" >1232903.619062</td>\n",
              "                        <td id=\"T_db3a6760_1ead_11eb_85ce_0242ac1c0002row13_col4\" class=\"data row13 col4\" >107824500.000000</td>\n",
              "                        <td id=\"T_db3a6760_1ead_11eb_85ce_0242ac1c0002row13_col5\" class=\"data row13 col5\" >107779367.216157</td>\n",
              "                        <td id=\"T_db3a6760_1ead_11eb_85ce_0242ac1c0002row13_col6\" class=\"data row13 col6\" >3026.750000</td>\n",
              "                        <td id=\"T_db3a6760_1ead_11eb_85ce_0242ac1c0002row13_col7\" class=\"data row13 col7\" >3018.773592</td>\n",
              "                        <td id=\"T_db3a6760_1ead_11eb_85ce_0242ac1c0002row13_col8\" class=\"data row13 col8\" >1732.200000</td>\n",
              "                        <td id=\"T_db3a6760_1ead_11eb_85ce_0242ac1c0002row13_col9\" class=\"data row13 col9\" >1733.425025</td>\n",
              "                        <td id=\"T_db3a6760_1ead_11eb_85ce_0242ac1c0002row13_col10\" class=\"data row13 col10\" >9584.000000</td>\n",
              "                        <td id=\"T_db3a6760_1ead_11eb_85ce_0242ac1c0002row13_col11\" class=\"data row13 col11\" >9516.784171</td>\n",
              "            </tr>\n",
              "            <tr>\n",
              "                        <th id=\"T_db3a6760_1ead_11eb_85ce_0242ac1c0002level0_row14\" class=\"row_heading level0 row14\" >2020-05-29 20:46:00</th>\n",
              "                        <td id=\"T_db3a6760_1ead_11eb_85ce_0242ac1c0002row14_col0\" class=\"data row14 col0\" >1110780.000000</td>\n",
              "                        <td id=\"T_db3a6760_1ead_11eb_85ce_0242ac1c0002row14_col1\" class=\"data row14 col1\" >1110341.052237</td>\n",
              "                        <td id=\"T_db3a6760_1ead_11eb_85ce_0242ac1c0002row14_col2\" class=\"data row14 col2\" >1235940.000000</td>\n",
              "                        <td id=\"T_db3a6760_1ead_11eb_85ce_0242ac1c0002row14_col3\" class=\"data row14 col3\" >1232904.467804</td>\n",
              "                        <td id=\"T_db3a6760_1ead_11eb_85ce_0242ac1c0002row14_col4\" class=\"data row14 col4\" >107826500.000000</td>\n",
              "                        <td id=\"T_db3a6760_1ead_11eb_85ce_0242ac1c0002row14_col5\" class=\"data row14 col5\" >107779353.397039</td>\n",
              "                        <td id=\"T_db3a6760_1ead_11eb_85ce_0242ac1c0002row14_col6\" class=\"data row14 col6\" >3027.375000</td>\n",
              "                        <td id=\"T_db3a6760_1ead_11eb_85ce_0242ac1c0002row14_col7\" class=\"data row14 col7\" >3018.768675</td>\n",
              "                        <td id=\"T_db3a6760_1ead_11eb_85ce_0242ac1c0002row14_col8\" class=\"data row14 col8\" >1732.250000</td>\n",
              "                        <td id=\"T_db3a6760_1ead_11eb_85ce_0242ac1c0002row14_col9\" class=\"data row14 col9\" >1733.423739</td>\n",
              "                        <td id=\"T_db3a6760_1ead_11eb_85ce_0242ac1c0002row14_col10\" class=\"data row14 col10\" >9587.500000</td>\n",
              "                        <td id=\"T_db3a6760_1ead_11eb_85ce_0242ac1c0002row14_col11\" class=\"data row14 col11\" >9516.761011</td>\n",
              "            </tr>\n",
              "            <tr>\n",
              "                        <th id=\"T_db3a6760_1ead_11eb_85ce_0242ac1c0002level0_row15\" class=\"row_heading level0 row15\" >2020-05-29 20:45:00</th>\n",
              "                        <td id=\"T_db3a6760_1ead_11eb_85ce_0242ac1c0002row15_col0\" class=\"data row15 col0\" >1110695.000000</td>\n",
              "                        <td id=\"T_db3a6760_1ead_11eb_85ce_0242ac1c0002row15_col1\" class=\"data row15 col1\" >1110340.501598</td>\n",
              "                        <td id=\"T_db3a6760_1ead_11eb_85ce_0242ac1c0002row15_col2\" class=\"data row15 col2\" >1235970.000000</td>\n",
              "                        <td id=\"T_db3a6760_1ead_11eb_85ce_0242ac1c0002row15_col3\" class=\"data row15 col3\" >1232905.316545</td>\n",
              "                        <td id=\"T_db3a6760_1ead_11eb_85ce_0242ac1c0002row15_col4\" class=\"data row15 col4\" >107832500.000000</td>\n",
              "                        <td id=\"T_db3a6760_1ead_11eb_85ce_0242ac1c0002row15_col5\" class=\"data row15 col5\" >107779339.577922</td>\n",
              "                        <td id=\"T_db3a6760_1ead_11eb_85ce_0242ac1c0002row15_col6\" class=\"data row15 col6\" >3027.500000</td>\n",
              "                        <td id=\"T_db3a6760_1ead_11eb_85ce_0242ac1c0002row15_col7\" class=\"data row15 col7\" >3018.763759</td>\n",
              "                        <td id=\"T_db3a6760_1ead_11eb_85ce_0242ac1c0002row15_col8\" class=\"data row15 col8\" >1732.150000</td>\n",
              "                        <td id=\"T_db3a6760_1ead_11eb_85ce_0242ac1c0002row15_col9\" class=\"data row15 col9\" >1733.422452</td>\n",
              "                        <td id=\"T_db3a6760_1ead_11eb_85ce_0242ac1c0002row15_col10\" class=\"data row15 col10\" >9587.125000</td>\n",
              "                        <td id=\"T_db3a6760_1ead_11eb_85ce_0242ac1c0002row15_col11\" class=\"data row15 col11\" >9516.737852</td>\n",
              "            </tr>\n",
              "            <tr>\n",
              "                        <th id=\"T_db3a6760_1ead_11eb_85ce_0242ac1c0002level0_row16\" class=\"row_heading level0 row16\" >2020-05-29 20:44:00</th>\n",
              "                        <td id=\"T_db3a6760_1ead_11eb_85ce_0242ac1c0002row16_col0\" class=\"data row16 col0\" >1110610.000000</td>\n",
              "                        <td id=\"T_db3a6760_1ead_11eb_85ce_0242ac1c0002row16_col1\" class=\"data row16 col1\" >1110339.950960</td>\n",
              "                        <td id=\"T_db3a6760_1ead_11eb_85ce_0242ac1c0002row16_col2\" class=\"data row16 col2\" >1235825.000000</td>\n",
              "                        <td id=\"T_db3a6760_1ead_11eb_85ce_0242ac1c0002row16_col3\" class=\"data row16 col3\" >1232906.165287</td>\n",
              "                        <td id=\"T_db3a6760_1ead_11eb_85ce_0242ac1c0002row16_col4\" class=\"data row16 col4\" >107833000.000000</td>\n",
              "                        <td id=\"T_db3a6760_1ead_11eb_85ce_0242ac1c0002row16_col5\" class=\"data row16 col5\" >107779325.758804</td>\n",
              "                        <td id=\"T_db3a6760_1ead_11eb_85ce_0242ac1c0002row16_col6\" class=\"data row16 col6\" >3026.875000</td>\n",
              "                        <td id=\"T_db3a6760_1ead_11eb_85ce_0242ac1c0002row16_col7\" class=\"data row16 col7\" >3018.758842</td>\n",
              "                        <td id=\"T_db3a6760_1ead_11eb_85ce_0242ac1c0002row16_col8\" class=\"data row16 col8\" >1732.450000</td>\n",
              "                        <td id=\"T_db3a6760_1ead_11eb_85ce_0242ac1c0002row16_col9\" class=\"data row16 col9\" >1733.421165</td>\n",
              "                        <td id=\"T_db3a6760_1ead_11eb_85ce_0242ac1c0002row16_col10\" class=\"data row16 col10\" >9581.875000</td>\n",
              "                        <td id=\"T_db3a6760_1ead_11eb_85ce_0242ac1c0002row16_col11\" class=\"data row16 col11\" >9516.714692</td>\n",
              "            </tr>\n",
              "            <tr>\n",
              "                        <th id=\"T_db3a6760_1ead_11eb_85ce_0242ac1c0002level0_row17\" class=\"row_heading level0 row17\" >2020-05-29 20:43:00</th>\n",
              "                        <td id=\"T_db3a6760_1ead_11eb_85ce_0242ac1c0002row17_col0\" class=\"data row17 col0\" >1110635.000000</td>\n",
              "                        <td id=\"T_db3a6760_1ead_11eb_85ce_0242ac1c0002row17_col1\" class=\"data row17 col1\" >1110339.400321</td>\n",
              "                        <td id=\"T_db3a6760_1ead_11eb_85ce_0242ac1c0002row17_col2\" class=\"data row17 col2\" >1235775.000000</td>\n",
              "                        <td id=\"T_db3a6760_1ead_11eb_85ce_0242ac1c0002row17_col3\" class=\"data row17 col3\" >1232907.014028</td>\n",
              "                        <td id=\"T_db3a6760_1ead_11eb_85ce_0242ac1c0002row17_col4\" class=\"data row17 col4\" >107836000.000000</td>\n",
              "                        <td id=\"T_db3a6760_1ead_11eb_85ce_0242ac1c0002row17_col5\" class=\"data row17 col5\" >107779311.939686</td>\n",
              "                        <td id=\"T_db3a6760_1ead_11eb_85ce_0242ac1c0002row17_col6\" class=\"data row17 col6\" >3027.000000</td>\n",
              "                        <td id=\"T_db3a6760_1ead_11eb_85ce_0242ac1c0002row17_col7\" class=\"data row17 col7\" >3018.753925</td>\n",
              "                        <td id=\"T_db3a6760_1ead_11eb_85ce_0242ac1c0002row17_col8\" class=\"data row17 col8\" >1732.350000</td>\n",
              "                        <td id=\"T_db3a6760_1ead_11eb_85ce_0242ac1c0002row17_col9\" class=\"data row17 col9\" >1733.419879</td>\n",
              "                        <td id=\"T_db3a6760_1ead_11eb_85ce_0242ac1c0002row17_col10\" class=\"data row17 col10\" >9582.500000</td>\n",
              "                        <td id=\"T_db3a6760_1ead_11eb_85ce_0242ac1c0002row17_col11\" class=\"data row17 col11\" >9516.691533</td>\n",
              "            </tr>\n",
              "            <tr>\n",
              "                        <th id=\"T_db3a6760_1ead_11eb_85ce_0242ac1c0002level0_row18\" class=\"row_heading level0 row18\" >2020-05-29 20:42:00</th>\n",
              "                        <td id=\"T_db3a6760_1ead_11eb_85ce_0242ac1c0002row18_col0\" class=\"data row18 col0\" >1110485.000000</td>\n",
              "                        <td id=\"T_db3a6760_1ead_11eb_85ce_0242ac1c0002row18_col1\" class=\"data row18 col1\" >1110338.849682</td>\n",
              "                        <td id=\"T_db3a6760_1ead_11eb_85ce_0242ac1c0002row18_col2\" class=\"data row18 col2\" >1235695.000000</td>\n",
              "                        <td id=\"T_db3a6760_1ead_11eb_85ce_0242ac1c0002row18_col3\" class=\"data row18 col3\" >1232907.862770</td>\n",
              "                        <td id=\"T_db3a6760_1ead_11eb_85ce_0242ac1c0002row18_col4\" class=\"data row18 col4\" >107850000.000000</td>\n",
              "                        <td id=\"T_db3a6760_1ead_11eb_85ce_0242ac1c0002row18_col5\" class=\"data row18 col5\" >107779298.120569</td>\n",
              "                        <td id=\"T_db3a6760_1ead_11eb_85ce_0242ac1c0002row18_col6\" class=\"data row18 col6\" >3027.750000</td>\n",
              "                        <td id=\"T_db3a6760_1ead_11eb_85ce_0242ac1c0002row18_col7\" class=\"data row18 col7\" >3018.749008</td>\n",
              "                        <td id=\"T_db3a6760_1ead_11eb_85ce_0242ac1c0002row18_col8\" class=\"data row18 col8\" >1732.050000</td>\n",
              "                        <td id=\"T_db3a6760_1ead_11eb_85ce_0242ac1c0002row18_col9\" class=\"data row18 col9\" >1733.418592</td>\n",
              "                        <td id=\"T_db3a6760_1ead_11eb_85ce_0242ac1c0002row18_col10\" class=\"data row18 col10\" >9587.375000</td>\n",
              "                        <td id=\"T_db3a6760_1ead_11eb_85ce_0242ac1c0002row18_col11\" class=\"data row18 col11\" >9516.668373</td>\n",
              "            </tr>\n",
              "            <tr>\n",
              "                        <th id=\"T_db3a6760_1ead_11eb_85ce_0242ac1c0002level0_row19\" class=\"row_heading level0 row19\" >2020-05-29 20:41:00</th>\n",
              "                        <td id=\"T_db3a6760_1ead_11eb_85ce_0242ac1c0002row19_col0\" class=\"data row19 col0\" >1110310.000000</td>\n",
              "                        <td id=\"T_db3a6760_1ead_11eb_85ce_0242ac1c0002row19_col1\" class=\"data row19 col1\" >1110338.299044</td>\n",
              "                        <td id=\"T_db3a6760_1ead_11eb_85ce_0242ac1c0002row19_col2\" class=\"data row19 col2\" >1235590.000000</td>\n",
              "                        <td id=\"T_db3a6760_1ead_11eb_85ce_0242ac1c0002row19_col3\" class=\"data row19 col3\" >1232908.711511</td>\n",
              "                        <td id=\"T_db3a6760_1ead_11eb_85ce_0242ac1c0002row19_col4\" class=\"data row19 col4\" >107856000.000000</td>\n",
              "                        <td id=\"T_db3a6760_1ead_11eb_85ce_0242ac1c0002row19_col5\" class=\"data row19 col5\" >107779284.301451</td>\n",
              "                        <td id=\"T_db3a6760_1ead_11eb_85ce_0242ac1c0002row19_col6\" class=\"data row19 col6\" >3027.750000</td>\n",
              "                        <td id=\"T_db3a6760_1ead_11eb_85ce_0242ac1c0002row19_col7\" class=\"data row19 col7\" >3018.744092</td>\n",
              "                        <td id=\"T_db3a6760_1ead_11eb_85ce_0242ac1c0002row19_col8\" class=\"data row19 col8\" >1732.000000</td>\n",
              "                        <td id=\"T_db3a6760_1ead_11eb_85ce_0242ac1c0002row19_col9\" class=\"data row19 col9\" >1733.417305</td>\n",
              "                        <td id=\"T_db3a6760_1ead_11eb_85ce_0242ac1c0002row19_col10\" class=\"data row19 col10\" >9588.125000</td>\n",
              "                        <td id=\"T_db3a6760_1ead_11eb_85ce_0242ac1c0002row19_col11\" class=\"data row19 col11\" >9516.645214</td>\n",
              "            </tr>\n",
              "            <tr>\n",
              "                        <th id=\"T_db3a6760_1ead_11eb_85ce_0242ac1c0002level0_row20\" class=\"row_heading level0 row20\" >2020-05-29 20:40:00</th>\n",
              "                        <td id=\"T_db3a6760_1ead_11eb_85ce_0242ac1c0002row20_col0\" class=\"data row20 col0\" >1110235.000000</td>\n",
              "                        <td id=\"T_db3a6760_1ead_11eb_85ce_0242ac1c0002row20_col1\" class=\"data row20 col1\" >1110337.748405</td>\n",
              "                        <td id=\"T_db3a6760_1ead_11eb_85ce_0242ac1c0002row20_col2\" class=\"data row20 col2\" >1235590.000000</td>\n",
              "                        <td id=\"T_db3a6760_1ead_11eb_85ce_0242ac1c0002row20_col3\" class=\"data row20 col3\" >1232909.560253</td>\n",
              "                        <td id=\"T_db3a6760_1ead_11eb_85ce_0242ac1c0002row20_col4\" class=\"data row20 col4\" >107868000.000000</td>\n",
              "                        <td id=\"T_db3a6760_1ead_11eb_85ce_0242ac1c0002row20_col5\" class=\"data row20 col5\" >107779270.482334</td>\n",
              "                        <td id=\"T_db3a6760_1ead_11eb_85ce_0242ac1c0002row20_col6\" class=\"data row20 col6\" >3027.500000</td>\n",
              "                        <td id=\"T_db3a6760_1ead_11eb_85ce_0242ac1c0002row20_col7\" class=\"data row20 col7\" >3018.739175</td>\n",
              "                        <td id=\"T_db3a6760_1ead_11eb_85ce_0242ac1c0002row20_col8\" class=\"data row20 col8\" >1732.000000</td>\n",
              "                        <td id=\"T_db3a6760_1ead_11eb_85ce_0242ac1c0002row20_col9\" class=\"data row20 col9\" >1733.416018</td>\n",
              "                        <td id=\"T_db3a6760_1ead_11eb_85ce_0242ac1c0002row20_col10\" class=\"data row20 col10\" >9587.500000</td>\n",
              "                        <td id=\"T_db3a6760_1ead_11eb_85ce_0242ac1c0002row20_col11\" class=\"data row20 col11\" >9516.622054</td>\n",
              "            </tr>\n",
              "            <tr>\n",
              "                        <th id=\"T_db3a6760_1ead_11eb_85ce_0242ac1c0002level0_row21\" class=\"row_heading level0 row21\" >2020-05-29 20:39:00</th>\n",
              "                        <td id=\"T_db3a6760_1ead_11eb_85ce_0242ac1c0002row21_col0\" class=\"data row21 col0\" >1110185.000000</td>\n",
              "                        <td id=\"T_db3a6760_1ead_11eb_85ce_0242ac1c0002row21_col1\" class=\"data row21 col1\" >1110337.197766</td>\n",
              "                        <td id=\"T_db3a6760_1ead_11eb_85ce_0242ac1c0002row21_col2\" class=\"data row21 col2\" >1235490.000000</td>\n",
              "                        <td id=\"T_db3a6760_1ead_11eb_85ce_0242ac1c0002row21_col3\" class=\"data row21 col3\" >1232910.408995</td>\n",
              "                        <td id=\"T_db3a6760_1ead_11eb_85ce_0242ac1c0002row21_col4\" class=\"data row21 col4\" >107879500.000000</td>\n",
              "                        <td id=\"T_db3a6760_1ead_11eb_85ce_0242ac1c0002row21_col5\" class=\"data row21 col5\" >107779256.663216</td>\n",
              "                        <td id=\"T_db3a6760_1ead_11eb_85ce_0242ac1c0002row21_col6\" class=\"data row21 col6\" >3027.375000</td>\n",
              "                        <td id=\"T_db3a6760_1ead_11eb_85ce_0242ac1c0002row21_col7\" class=\"data row21 col7\" >3018.734258</td>\n",
              "                        <td id=\"T_db3a6760_1ead_11eb_85ce_0242ac1c0002row21_col8\" class=\"data row21 col8\" >1731.950000</td>\n",
              "                        <td id=\"T_db3a6760_1ead_11eb_85ce_0242ac1c0002row21_col9\" class=\"data row21 col9\" >1733.414732</td>\n",
              "                        <td id=\"T_db3a6760_1ead_11eb_85ce_0242ac1c0002row21_col10\" class=\"data row21 col10\" >9588.250000</td>\n",
              "                        <td id=\"T_db3a6760_1ead_11eb_85ce_0242ac1c0002row21_col11\" class=\"data row21 col11\" >9516.598894</td>\n",
              "            </tr>\n",
              "            <tr>\n",
              "                        <th id=\"T_db3a6760_1ead_11eb_85ce_0242ac1c0002level0_row22\" class=\"row_heading level0 row22\" >2020-05-29 20:38:00</th>\n",
              "                        <td id=\"T_db3a6760_1ead_11eb_85ce_0242ac1c0002row22_col0\" class=\"data row22 col0\" >1110085.000000</td>\n",
              "                        <td id=\"T_db3a6760_1ead_11eb_85ce_0242ac1c0002row22_col1\" class=\"data row22 col1\" >1110336.647128</td>\n",
              "                        <td id=\"T_db3a6760_1ead_11eb_85ce_0242ac1c0002row22_col2\" class=\"data row22 col2\" >1235490.000000</td>\n",
              "                        <td id=\"T_db3a6760_1ead_11eb_85ce_0242ac1c0002row22_col3\" class=\"data row22 col3\" >1232911.257736</td>\n",
              "                        <td id=\"T_db3a6760_1ead_11eb_85ce_0242ac1c0002row22_col4\" class=\"data row22 col4\" >107885000.000000</td>\n",
              "                        <td id=\"T_db3a6760_1ead_11eb_85ce_0242ac1c0002row22_col5\" class=\"data row22 col5\" >107779242.844098</td>\n",
              "                        <td id=\"T_db3a6760_1ead_11eb_85ce_0242ac1c0002row22_col6\" class=\"data row22 col6\" >3027.000000</td>\n",
              "                        <td id=\"T_db3a6760_1ead_11eb_85ce_0242ac1c0002row22_col7\" class=\"data row22 col7\" >3018.729341</td>\n",
              "                        <td id=\"T_db3a6760_1ead_11eb_85ce_0242ac1c0002row22_col8\" class=\"data row22 col8\" >1732.000000</td>\n",
              "                        <td id=\"T_db3a6760_1ead_11eb_85ce_0242ac1c0002row22_col9\" class=\"data row22 col9\" >1733.413445</td>\n",
              "                        <td id=\"T_db3a6760_1ead_11eb_85ce_0242ac1c0002row22_col10\" class=\"data row22 col10\" >9587.750000</td>\n",
              "                        <td id=\"T_db3a6760_1ead_11eb_85ce_0242ac1c0002row22_col11\" class=\"data row22 col11\" >9516.575735</td>\n",
              "            </tr>\n",
              "            <tr>\n",
              "                        <th id=\"T_db3a6760_1ead_11eb_85ce_0242ac1c0002level0_row23\" class=\"row_heading level0 row23\" >2020-05-29 20:37:00</th>\n",
              "                        <td id=\"T_db3a6760_1ead_11eb_85ce_0242ac1c0002row23_col0\" class=\"data row23 col0\" >1110210.000000</td>\n",
              "                        <td id=\"T_db3a6760_1ead_11eb_85ce_0242ac1c0002row23_col1\" class=\"data row23 col1\" >1110336.096489</td>\n",
              "                        <td id=\"T_db3a6760_1ead_11eb_85ce_0242ac1c0002row23_col2\" class=\"data row23 col2\" >1235490.000000</td>\n",
              "                        <td id=\"T_db3a6760_1ead_11eb_85ce_0242ac1c0002row23_col3\" class=\"data row23 col3\" >1232912.106478</td>\n",
              "                        <td id=\"T_db3a6760_1ead_11eb_85ce_0242ac1c0002row23_col4\" class=\"data row23 col4\" >107885000.000000</td>\n",
              "                        <td id=\"T_db3a6760_1ead_11eb_85ce_0242ac1c0002row23_col5\" class=\"data row23 col5\" >107779229.024981</td>\n",
              "                        <td id=\"T_db3a6760_1ead_11eb_85ce_0242ac1c0002row23_col6\" class=\"data row23 col6\" >3027.250000</td>\n",
              "                        <td id=\"T_db3a6760_1ead_11eb_85ce_0242ac1c0002row23_col7\" class=\"data row23 col7\" >3018.724424</td>\n",
              "                        <td id=\"T_db3a6760_1ead_11eb_85ce_0242ac1c0002row23_col8\" class=\"data row23 col8\" >1732.100000</td>\n",
              "                        <td id=\"T_db3a6760_1ead_11eb_85ce_0242ac1c0002row23_col9\" class=\"data row23 col9\" >1733.412158</td>\n",
              "                        <td id=\"T_db3a6760_1ead_11eb_85ce_0242ac1c0002row23_col10\" class=\"data row23 col10\" >9588.750000</td>\n",
              "                        <td id=\"T_db3a6760_1ead_11eb_85ce_0242ac1c0002row23_col11\" class=\"data row23 col11\" >9516.552575</td>\n",
              "            </tr>\n",
              "            <tr>\n",
              "                        <th id=\"T_db3a6760_1ead_11eb_85ce_0242ac1c0002level0_row24\" class=\"row_heading level0 row24\" >2020-05-29 20:36:00</th>\n",
              "                        <td id=\"T_db3a6760_1ead_11eb_85ce_0242ac1c0002row24_col0\" class=\"data row24 col0\" >1110160.000000</td>\n",
              "                        <td id=\"T_db3a6760_1ead_11eb_85ce_0242ac1c0002row24_col1\" class=\"data row24 col1\" >1110335.545850</td>\n",
              "                        <td id=\"T_db3a6760_1ead_11eb_85ce_0242ac1c0002row24_col2\" class=\"data row24 col2\" >1235490.000000</td>\n",
              "                        <td id=\"T_db3a6760_1ead_11eb_85ce_0242ac1c0002row24_col3\" class=\"data row24 col3\" >1232912.955219</td>\n",
              "                        <td id=\"T_db3a6760_1ead_11eb_85ce_0242ac1c0002row24_col4\" class=\"data row24 col4\" >107892500.000000</td>\n",
              "                        <td id=\"T_db3a6760_1ead_11eb_85ce_0242ac1c0002row24_col5\" class=\"data row24 col5\" >107779215.205863</td>\n",
              "                        <td id=\"T_db3a6760_1ead_11eb_85ce_0242ac1c0002row24_col6\" class=\"data row24 col6\" >3026.625000</td>\n",
              "                        <td id=\"T_db3a6760_1ead_11eb_85ce_0242ac1c0002row24_col7\" class=\"data row24 col7\" >3018.719508</td>\n",
              "                        <td id=\"T_db3a6760_1ead_11eb_85ce_0242ac1c0002row24_col8\" class=\"data row24 col8\" >1732.200000</td>\n",
              "                        <td id=\"T_db3a6760_1ead_11eb_85ce_0242ac1c0002row24_col9\" class=\"data row24 col9\" >1733.410872</td>\n",
              "                        <td id=\"T_db3a6760_1ead_11eb_85ce_0242ac1c0002row24_col10\" class=\"data row24 col10\" >9585.750000</td>\n",
              "                        <td id=\"T_db3a6760_1ead_11eb_85ce_0242ac1c0002row24_col11\" class=\"data row24 col11\" >9516.529416</td>\n",
              "            </tr>\n",
              "            <tr>\n",
              "                        <th id=\"T_db3a6760_1ead_11eb_85ce_0242ac1c0002level0_row25\" class=\"row_heading level0 row25\" >2020-05-29 20:35:00</th>\n",
              "                        <td id=\"T_db3a6760_1ead_11eb_85ce_0242ac1c0002row25_col0\" class=\"data row25 col0\" >1110135.000000</td>\n",
              "                        <td id=\"T_db3a6760_1ead_11eb_85ce_0242ac1c0002row25_col1\" class=\"data row25 col1\" >1110334.995212</td>\n",
              "                        <td id=\"T_db3a6760_1ead_11eb_85ce_0242ac1c0002row25_col2\" class=\"data row25 col2\" >1235445.000000</td>\n",
              "                        <td id=\"T_db3a6760_1ead_11eb_85ce_0242ac1c0002row25_col3\" class=\"data row25 col3\" >1232913.803961</td>\n",
              "                        <td id=\"T_db3a6760_1ead_11eb_85ce_0242ac1c0002row25_col4\" class=\"data row25 col4\" >107893500.000000</td>\n",
              "                        <td id=\"T_db3a6760_1ead_11eb_85ce_0242ac1c0002row25_col5\" class=\"data row25 col5\" >107779201.386745</td>\n",
              "                        <td id=\"T_db3a6760_1ead_11eb_85ce_0242ac1c0002row25_col6\" class=\"data row25 col6\" >3026.625000</td>\n",
              "                        <td id=\"T_db3a6760_1ead_11eb_85ce_0242ac1c0002row25_col7\" class=\"data row25 col7\" >3018.714591</td>\n",
              "                        <td id=\"T_db3a6760_1ead_11eb_85ce_0242ac1c0002row25_col8\" class=\"data row25 col8\" >1732.300000</td>\n",
              "                        <td id=\"T_db3a6760_1ead_11eb_85ce_0242ac1c0002row25_col9\" class=\"data row25 col9\" >1733.409585</td>\n",
              "                        <td id=\"T_db3a6760_1ead_11eb_85ce_0242ac1c0002row25_col10\" class=\"data row25 col10\" >9584.875000</td>\n",
              "                        <td id=\"T_db3a6760_1ead_11eb_85ce_0242ac1c0002row25_col11\" class=\"data row25 col11\" >9516.506256</td>\n",
              "            </tr>\n",
              "            <tr>\n",
              "                        <th id=\"T_db3a6760_1ead_11eb_85ce_0242ac1c0002level0_row26\" class=\"row_heading level0 row26\" >2020-05-29 20:34:00</th>\n",
              "                        <td id=\"T_db3a6760_1ead_11eb_85ce_0242ac1c0002row26_col0\" class=\"data row26 col0\" >1110135.000000</td>\n",
              "                        <td id=\"T_db3a6760_1ead_11eb_85ce_0242ac1c0002row26_col1\" class=\"data row26 col1\" >1110334.444573</td>\n",
              "                        <td id=\"T_db3a6760_1ead_11eb_85ce_0242ac1c0002row26_col2\" class=\"data row26 col2\" >1235495.000000</td>\n",
              "                        <td id=\"T_db3a6760_1ead_11eb_85ce_0242ac1c0002row26_col3\" class=\"data row26 col3\" >1232914.652702</td>\n",
              "                        <td id=\"T_db3a6760_1ead_11eb_85ce_0242ac1c0002row26_col4\" class=\"data row26 col4\" >107895000.000000</td>\n",
              "                        <td id=\"T_db3a6760_1ead_11eb_85ce_0242ac1c0002row26_col5\" class=\"data row26 col5\" >107779187.567628</td>\n",
              "                        <td id=\"T_db3a6760_1ead_11eb_85ce_0242ac1c0002row26_col6\" class=\"data row26 col6\" >3026.750000</td>\n",
              "                        <td id=\"T_db3a6760_1ead_11eb_85ce_0242ac1c0002row26_col7\" class=\"data row26 col7\" >3018.709674</td>\n",
              "                        <td id=\"T_db3a6760_1ead_11eb_85ce_0242ac1c0002row26_col8\" class=\"data row26 col8\" >1732.250000</td>\n",
              "                        <td id=\"T_db3a6760_1ead_11eb_85ce_0242ac1c0002row26_col9\" class=\"data row26 col9\" >1733.408298</td>\n",
              "                        <td id=\"T_db3a6760_1ead_11eb_85ce_0242ac1c0002row26_col10\" class=\"data row26 col10\" >9587.625000</td>\n",
              "                        <td id=\"T_db3a6760_1ead_11eb_85ce_0242ac1c0002row26_col11\" class=\"data row26 col11\" >9516.483096</td>\n",
              "            </tr>\n",
              "            <tr>\n",
              "                        <th id=\"T_db3a6760_1ead_11eb_85ce_0242ac1c0002level0_row27\" class=\"row_heading level0 row27\" >2020-05-29 20:33:00</th>\n",
              "                        <td id=\"T_db3a6760_1ead_11eb_85ce_0242ac1c0002row27_col0\" class=\"data row27 col0\" >1110210.000000</td>\n",
              "                        <td id=\"T_db3a6760_1ead_11eb_85ce_0242ac1c0002row27_col1\" class=\"data row27 col1\" >1110333.893934</td>\n",
              "                        <td id=\"T_db3a6760_1ead_11eb_85ce_0242ac1c0002row27_col2\" class=\"data row27 col2\" >1235590.000000</td>\n",
              "                        <td id=\"T_db3a6760_1ead_11eb_85ce_0242ac1c0002row27_col3\" class=\"data row27 col3\" >1232915.501444</td>\n",
              "                        <td id=\"T_db3a6760_1ead_11eb_85ce_0242ac1c0002row27_col4\" class=\"data row27 col4\" >107894000.000000</td>\n",
              "                        <td id=\"T_db3a6760_1ead_11eb_85ce_0242ac1c0002row27_col5\" class=\"data row27 col5\" >107779173.748510</td>\n",
              "                        <td id=\"T_db3a6760_1ead_11eb_85ce_0242ac1c0002row27_col6\" class=\"data row27 col6\" >3026.875000</td>\n",
              "                        <td id=\"T_db3a6760_1ead_11eb_85ce_0242ac1c0002row27_col7\" class=\"data row27 col7\" >3018.704757</td>\n",
              "                        <td id=\"T_db3a6760_1ead_11eb_85ce_0242ac1c0002row27_col8\" class=\"data row27 col8\" >1732.450000</td>\n",
              "                        <td id=\"T_db3a6760_1ead_11eb_85ce_0242ac1c0002row27_col9\" class=\"data row27 col9\" >1733.407012</td>\n",
              "                        <td id=\"T_db3a6760_1ead_11eb_85ce_0242ac1c0002row27_col10\" class=\"data row27 col10\" >9587.625000</td>\n",
              "                        <td id=\"T_db3a6760_1ead_11eb_85ce_0242ac1c0002row27_col11\" class=\"data row27 col11\" >9516.459937</td>\n",
              "            </tr>\n",
              "            <tr>\n",
              "                        <th id=\"T_db3a6760_1ead_11eb_85ce_0242ac1c0002level0_row28\" class=\"row_heading level0 row28\" >2020-05-29 20:32:00</th>\n",
              "                        <td id=\"T_db3a6760_1ead_11eb_85ce_0242ac1c0002row28_col0\" class=\"data row28 col0\" >1110285.000000</td>\n",
              "                        <td id=\"T_db3a6760_1ead_11eb_85ce_0242ac1c0002row28_col1\" class=\"data row28 col1\" >1110333.343296</td>\n",
              "                        <td id=\"T_db3a6760_1ead_11eb_85ce_0242ac1c0002row28_col2\" class=\"data row28 col2\" >1235590.000000</td>\n",
              "                        <td id=\"T_db3a6760_1ead_11eb_85ce_0242ac1c0002row28_col3\" class=\"data row28 col3\" >1232916.350186</td>\n",
              "                        <td id=\"T_db3a6760_1ead_11eb_85ce_0242ac1c0002row28_col4\" class=\"data row28 col4\" >107891500.000000</td>\n",
              "                        <td id=\"T_db3a6760_1ead_11eb_85ce_0242ac1c0002row28_col5\" class=\"data row28 col5\" >107779159.929393</td>\n",
              "                        <td id=\"T_db3a6760_1ead_11eb_85ce_0242ac1c0002row28_col6\" class=\"data row28 col6\" >3026.750000</td>\n",
              "                        <td id=\"T_db3a6760_1ead_11eb_85ce_0242ac1c0002row28_col7\" class=\"data row28 col7\" >3018.699841</td>\n",
              "                        <td id=\"T_db3a6760_1ead_11eb_85ce_0242ac1c0002row28_col8\" class=\"data row28 col8\" >1732.500000</td>\n",
              "                        <td id=\"T_db3a6760_1ead_11eb_85ce_0242ac1c0002row28_col9\" class=\"data row28 col9\" >1733.405725</td>\n",
              "                        <td id=\"T_db3a6760_1ead_11eb_85ce_0242ac1c0002row28_col10\" class=\"data row28 col10\" >9588.500000</td>\n",
              "                        <td id=\"T_db3a6760_1ead_11eb_85ce_0242ac1c0002row28_col11\" class=\"data row28 col11\" >9516.436777</td>\n",
              "            </tr>\n",
              "            <tr>\n",
              "                        <th id=\"T_db3a6760_1ead_11eb_85ce_0242ac1c0002level0_row29\" class=\"row_heading level0 row29\" >2020-05-29 20:31:00</th>\n",
              "                        <td id=\"T_db3a6760_1ead_11eb_85ce_0242ac1c0002row29_col0\" class=\"data row29 col0\" >1110135.000000</td>\n",
              "                        <td id=\"T_db3a6760_1ead_11eb_85ce_0242ac1c0002row29_col1\" class=\"data row29 col1\" >1110332.792657</td>\n",
              "                        <td id=\"T_db3a6760_1ead_11eb_85ce_0242ac1c0002row29_col2\" class=\"data row29 col2\" >1235490.000000</td>\n",
              "                        <td id=\"T_db3a6760_1ead_11eb_85ce_0242ac1c0002row29_col3\" class=\"data row29 col3\" >1232917.198927</td>\n",
              "                        <td id=\"T_db3a6760_1ead_11eb_85ce_0242ac1c0002row29_col4\" class=\"data row29 col4\" >107880000.000000</td>\n",
              "                        <td id=\"T_db3a6760_1ead_11eb_85ce_0242ac1c0002row29_col5\" class=\"data row29 col5\" >107779146.110275</td>\n",
              "                        <td id=\"T_db3a6760_1ead_11eb_85ce_0242ac1c0002row29_col6\" class=\"data row29 col6\" >3026.250000</td>\n",
              "                        <td id=\"T_db3a6760_1ead_11eb_85ce_0242ac1c0002row29_col7\" class=\"data row29 col7\" >3018.694924</td>\n",
              "                        <td id=\"T_db3a6760_1ead_11eb_85ce_0242ac1c0002row29_col8\" class=\"data row29 col8\" >1732.550000</td>\n",
              "                        <td id=\"T_db3a6760_1ead_11eb_85ce_0242ac1c0002row29_col9\" class=\"data row29 col9\" >1733.404438</td>\n",
              "                        <td id=\"T_db3a6760_1ead_11eb_85ce_0242ac1c0002row29_col10\" class=\"data row29 col10\" >9584.750000</td>\n",
              "                        <td id=\"T_db3a6760_1ead_11eb_85ce_0242ac1c0002row29_col11\" class=\"data row29 col11\" >9516.413618</td>\n",
              "            </tr>\n",
              "            <tr>\n",
              "                        <th id=\"T_db3a6760_1ead_11eb_85ce_0242ac1c0002level0_row30\" class=\"row_heading level0 row30\" >2020-05-29 20:30:00</th>\n",
              "                        <td id=\"T_db3a6760_1ead_11eb_85ce_0242ac1c0002row30_col0\" class=\"data row30 col0\" >1110035.000000</td>\n",
              "                        <td id=\"T_db3a6760_1ead_11eb_85ce_0242ac1c0002row30_col1\" class=\"data row30 col1\" >1110332.242018</td>\n",
              "                        <td id=\"T_db3a6760_1ead_11eb_85ce_0242ac1c0002row30_col2\" class=\"data row30 col2\" >1235290.000000</td>\n",
              "                        <td id=\"T_db3a6760_1ead_11eb_85ce_0242ac1c0002row30_col3\" class=\"data row30 col3\" >1232918.047669</td>\n",
              "                        <td id=\"T_db3a6760_1ead_11eb_85ce_0242ac1c0002row30_col4\" class=\"data row30 col4\" >107868000.000000</td>\n",
              "                        <td id=\"T_db3a6760_1ead_11eb_85ce_0242ac1c0002row30_col5\" class=\"data row30 col5\" >107779132.291157</td>\n",
              "                        <td id=\"T_db3a6760_1ead_11eb_85ce_0242ac1c0002row30_col6\" class=\"data row30 col6\" >3025.000000</td>\n",
              "                        <td id=\"T_db3a6760_1ead_11eb_85ce_0242ac1c0002row30_col7\" class=\"data row30 col7\" >3018.690007</td>\n",
              "                        <td id=\"T_db3a6760_1ead_11eb_85ce_0242ac1c0002row30_col8\" class=\"data row30 col8\" >1732.350000</td>\n",
              "                        <td id=\"T_db3a6760_1ead_11eb_85ce_0242ac1c0002row30_col9\" class=\"data row30 col9\" >1733.403151</td>\n",
              "                        <td id=\"T_db3a6760_1ead_11eb_85ce_0242ac1c0002row30_col10\" class=\"data row30 col10\" >9578.375000</td>\n",
              "                        <td id=\"T_db3a6760_1ead_11eb_85ce_0242ac1c0002row30_col11\" class=\"data row30 col11\" >9516.390458</td>\n",
              "            </tr>\n",
              "            <tr>\n",
              "                        <th id=\"T_db3a6760_1ead_11eb_85ce_0242ac1c0002level0_row31\" class=\"row_heading level0 row31\" >2020-05-29 20:29:00</th>\n",
              "                        <td id=\"T_db3a6760_1ead_11eb_85ce_0242ac1c0002row31_col0\" class=\"data row31 col0\" >1109830.000000</td>\n",
              "                        <td id=\"T_db3a6760_1ead_11eb_85ce_0242ac1c0002row31_col1\" class=\"data row31 col1\" >1110331.691380</td>\n",
              "                        <td id=\"T_db3a6760_1ead_11eb_85ce_0242ac1c0002row31_col2\" class=\"data row31 col2\" >1234740.000000</td>\n",
              "                        <td id=\"T_db3a6760_1ead_11eb_85ce_0242ac1c0002row31_col3\" class=\"data row31 col3\" >1232918.896410</td>\n",
              "                        <td id=\"T_db3a6760_1ead_11eb_85ce_0242ac1c0002row31_col4\" class=\"data row31 col4\" >107863500.000000</td>\n",
              "                        <td id=\"T_db3a6760_1ead_11eb_85ce_0242ac1c0002row31_col5\" class=\"data row31 col5\" >107779118.472040</td>\n",
              "                        <td id=\"T_db3a6760_1ead_11eb_85ce_0242ac1c0002row31_col6\" class=\"data row31 col6\" >3026.500000</td>\n",
              "                        <td id=\"T_db3a6760_1ead_11eb_85ce_0242ac1c0002row31_col7\" class=\"data row31 col7\" >3018.685090</td>\n",
              "                        <td id=\"T_db3a6760_1ead_11eb_85ce_0242ac1c0002row31_col8\" class=\"data row31 col8\" >1732.300000</td>\n",
              "                        <td id=\"T_db3a6760_1ead_11eb_85ce_0242ac1c0002row31_col9\" class=\"data row31 col9\" >1733.401865</td>\n",
              "                        <td id=\"T_db3a6760_1ead_11eb_85ce_0242ac1c0002row31_col10\" class=\"data row31 col10\" >9574.500000</td>\n",
              "                        <td id=\"T_db3a6760_1ead_11eb_85ce_0242ac1c0002row31_col11\" class=\"data row31 col11\" >9516.367299</td>\n",
              "            </tr>\n",
              "            <tr>\n",
              "                        <th id=\"T_db3a6760_1ead_11eb_85ce_0242ac1c0002level0_row32\" class=\"row_heading level0 row32\" >2020-05-29 20:28:00</th>\n",
              "                        <td id=\"T_db3a6760_1ead_11eb_85ce_0242ac1c0002row32_col0\" class=\"data row32 col0\" >1110210.000000</td>\n",
              "                        <td id=\"T_db3a6760_1ead_11eb_85ce_0242ac1c0002row32_col1\" class=\"data row32 col1\" >1110331.140741</td>\n",
              "                        <td id=\"T_db3a6760_1ead_11eb_85ce_0242ac1c0002row32_col2\" class=\"data row32 col2\" >1235040.000000</td>\n",
              "                        <td id=\"T_db3a6760_1ead_11eb_85ce_0242ac1c0002row32_col3\" class=\"data row32 col3\" >1232919.745152</td>\n",
              "                        <td id=\"T_db3a6760_1ead_11eb_85ce_0242ac1c0002row32_col4\" class=\"data row32 col4\" >107847000.000000</td>\n",
              "                        <td id=\"T_db3a6760_1ead_11eb_85ce_0242ac1c0002row32_col5\" class=\"data row32 col5\" >107779104.652922</td>\n",
              "                        <td id=\"T_db3a6760_1ead_11eb_85ce_0242ac1c0002row32_col6\" class=\"data row32 col6\" >3026.500000</td>\n",
              "                        <td id=\"T_db3a6760_1ead_11eb_85ce_0242ac1c0002row32_col7\" class=\"data row32 col7\" >3018.680173</td>\n",
              "                        <td id=\"T_db3a6760_1ead_11eb_85ce_0242ac1c0002row32_col8\" class=\"data row32 col8\" >1732.550000</td>\n",
              "                        <td id=\"T_db3a6760_1ead_11eb_85ce_0242ac1c0002row32_col9\" class=\"data row32 col9\" >1733.400578</td>\n",
              "                        <td id=\"T_db3a6760_1ead_11eb_85ce_0242ac1c0002row32_col10\" class=\"data row32 col10\" >9573.875000</td>\n",
              "                        <td id=\"T_db3a6760_1ead_11eb_85ce_0242ac1c0002row32_col11\" class=\"data row32 col11\" >9516.344139</td>\n",
              "            </tr>\n",
              "            <tr>\n",
              "                        <th id=\"T_db3a6760_1ead_11eb_85ce_0242ac1c0002level0_row33\" class=\"row_heading level0 row33\" >2020-05-29 20:27:00</th>\n",
              "                        <td id=\"T_db3a6760_1ead_11eb_85ce_0242ac1c0002row33_col0\" class=\"data row33 col0\" >1110210.000000</td>\n",
              "                        <td id=\"T_db3a6760_1ead_11eb_85ce_0242ac1c0002row33_col1\" class=\"data row33 col1\" >1110330.590102</td>\n",
              "                        <td id=\"T_db3a6760_1ead_11eb_85ce_0242ac1c0002row33_col2\" class=\"data row33 col2\" >1235040.000000</td>\n",
              "                        <td id=\"T_db3a6760_1ead_11eb_85ce_0242ac1c0002row33_col3\" class=\"data row33 col3\" >1232920.593893</td>\n",
              "                        <td id=\"T_db3a6760_1ead_11eb_85ce_0242ac1c0002row33_col4\" class=\"data row33 col4\" >107844500.000000</td>\n",
              "                        <td id=\"T_db3a6760_1ead_11eb_85ce_0242ac1c0002row33_col5\" class=\"data row33 col5\" >107779090.833804</td>\n",
              "                        <td id=\"T_db3a6760_1ead_11eb_85ce_0242ac1c0002row33_col6\" class=\"data row33 col6\" >3026.500000</td>\n",
              "                        <td id=\"T_db3a6760_1ead_11eb_85ce_0242ac1c0002row33_col7\" class=\"data row33 col7\" >3018.675257</td>\n",
              "                        <td id=\"T_db3a6760_1ead_11eb_85ce_0242ac1c0002row33_col8\" class=\"data row33 col8\" >1732.650000</td>\n",
              "                        <td id=\"T_db3a6760_1ead_11eb_85ce_0242ac1c0002row33_col9\" class=\"data row33 col9\" >1733.399291</td>\n",
              "                        <td id=\"T_db3a6760_1ead_11eb_85ce_0242ac1c0002row33_col10\" class=\"data row33 col10\" >9573.875000</td>\n",
              "                        <td id=\"T_db3a6760_1ead_11eb_85ce_0242ac1c0002row33_col11\" class=\"data row33 col11\" >9516.320979</td>\n",
              "            </tr>\n",
              "            <tr>\n",
              "                        <th id=\"T_db3a6760_1ead_11eb_85ce_0242ac1c0002level0_row34\" class=\"row_heading level0 row34\" >2020-05-29 20:26:00</th>\n",
              "                        <td id=\"T_db3a6760_1ead_11eb_85ce_0242ac1c0002row34_col0\" class=\"data row34 col0\" >1110235.000000</td>\n",
              "                        <td id=\"T_db3a6760_1ead_11eb_85ce_0242ac1c0002row34_col1\" class=\"data row34 col1\" >1110330.039464</td>\n",
              "                        <td id=\"T_db3a6760_1ead_11eb_85ce_0242ac1c0002row34_col2\" class=\"data row34 col2\" >1235045.000000</td>\n",
              "                        <td id=\"T_db3a6760_1ead_11eb_85ce_0242ac1c0002row34_col3\" class=\"data row34 col3\" >1232921.442635</td>\n",
              "                        <td id=\"T_db3a6760_1ead_11eb_85ce_0242ac1c0002row34_col4\" class=\"data row34 col4\" >107838500.000000</td>\n",
              "                        <td id=\"T_db3a6760_1ead_11eb_85ce_0242ac1c0002row34_col5\" class=\"data row34 col5\" >107779077.014687</td>\n",
              "                        <td id=\"T_db3a6760_1ead_11eb_85ce_0242ac1c0002row34_col6\" class=\"data row34 col6\" >3026.500000</td>\n",
              "                        <td id=\"T_db3a6760_1ead_11eb_85ce_0242ac1c0002row34_col7\" class=\"data row34 col7\" >3018.670340</td>\n",
              "                        <td id=\"T_db3a6760_1ead_11eb_85ce_0242ac1c0002row34_col8\" class=\"data row34 col8\" >1732.600000</td>\n",
              "                        <td id=\"T_db3a6760_1ead_11eb_85ce_0242ac1c0002row34_col9\" class=\"data row34 col9\" >1733.398005</td>\n",
              "                        <td id=\"T_db3a6760_1ead_11eb_85ce_0242ac1c0002row34_col10\" class=\"data row34 col10\" >9573.875000</td>\n",
              "                        <td id=\"T_db3a6760_1ead_11eb_85ce_0242ac1c0002row34_col11\" class=\"data row34 col11\" >9516.297820</td>\n",
              "            </tr>\n",
              "            <tr>\n",
              "                        <th id=\"T_db3a6760_1ead_11eb_85ce_0242ac1c0002level0_row35\" class=\"row_heading level0 row35\" >2020-05-29 20:25:00</th>\n",
              "                        <td id=\"T_db3a6760_1ead_11eb_85ce_0242ac1c0002row35_col0\" class=\"data row35 col0\" >1110185.000000</td>\n",
              "                        <td id=\"T_db3a6760_1ead_11eb_85ce_0242ac1c0002row35_col1\" class=\"data row35 col1\" >1110329.488825</td>\n",
              "                        <td id=\"T_db3a6760_1ead_11eb_85ce_0242ac1c0002row35_col2\" class=\"data row35 col2\" >1235245.000000</td>\n",
              "                        <td id=\"T_db3a6760_1ead_11eb_85ce_0242ac1c0002row35_col3\" class=\"data row35 col3\" >1232922.291376</td>\n",
              "                        <td id=\"T_db3a6760_1ead_11eb_85ce_0242ac1c0002row35_col4\" class=\"data row35 col4\" >107835500.000000</td>\n",
              "                        <td id=\"T_db3a6760_1ead_11eb_85ce_0242ac1c0002row35_col5\" class=\"data row35 col5\" >107779063.195569</td>\n",
              "                        <td id=\"T_db3a6760_1ead_11eb_85ce_0242ac1c0002row35_col6\" class=\"data row35 col6\" >3026.500000</td>\n",
              "                        <td id=\"T_db3a6760_1ead_11eb_85ce_0242ac1c0002row35_col7\" class=\"data row35 col7\" >3018.665423</td>\n",
              "                        <td id=\"T_db3a6760_1ead_11eb_85ce_0242ac1c0002row35_col8\" class=\"data row35 col8\" >1732.650000</td>\n",
              "                        <td id=\"T_db3a6760_1ead_11eb_85ce_0242ac1c0002row35_col9\" class=\"data row35 col9\" >1733.396718</td>\n",
              "                        <td id=\"T_db3a6760_1ead_11eb_85ce_0242ac1c0002row35_col10\" class=\"data row35 col10\" >9573.875000</td>\n",
              "                        <td id=\"T_db3a6760_1ead_11eb_85ce_0242ac1c0002row35_col11\" class=\"data row35 col11\" >9516.274660</td>\n",
              "            </tr>\n",
              "            <tr>\n",
              "                        <th id=\"T_db3a6760_1ead_11eb_85ce_0242ac1c0002level0_row36\" class=\"row_heading level0 row36\" >2020-05-29 20:24:00</th>\n",
              "                        <td id=\"T_db3a6760_1ead_11eb_85ce_0242ac1c0002row36_col0\" class=\"data row36 col0\" >1110135.000000</td>\n",
              "                        <td id=\"T_db3a6760_1ead_11eb_85ce_0242ac1c0002row36_col1\" class=\"data row36 col1\" >1110328.938186</td>\n",
              "                        <td id=\"T_db3a6760_1ead_11eb_85ce_0242ac1c0002row36_col2\" class=\"data row36 col2\" >1235725.000000</td>\n",
              "                        <td id=\"T_db3a6760_1ead_11eb_85ce_0242ac1c0002row36_col3\" class=\"data row36 col3\" >1232923.140118</td>\n",
              "                        <td id=\"T_db3a6760_1ead_11eb_85ce_0242ac1c0002row36_col4\" class=\"data row36 col4\" >107850000.000000</td>\n",
              "                        <td id=\"T_db3a6760_1ead_11eb_85ce_0242ac1c0002row36_col5\" class=\"data row36 col5\" >107779049.376451</td>\n",
              "                        <td id=\"T_db3a6760_1ead_11eb_85ce_0242ac1c0002row36_col6\" class=\"data row36 col6\" >3026.500000</td>\n",
              "                        <td id=\"T_db3a6760_1ead_11eb_85ce_0242ac1c0002row36_col7\" class=\"data row36 col7\" >3018.660506</td>\n",
              "                        <td id=\"T_db3a6760_1ead_11eb_85ce_0242ac1c0002row36_col8\" class=\"data row36 col8\" >1732.500000</td>\n",
              "                        <td id=\"T_db3a6760_1ead_11eb_85ce_0242ac1c0002row36_col9\" class=\"data row36 col9\" >1733.395431</td>\n",
              "                        <td id=\"T_db3a6760_1ead_11eb_85ce_0242ac1c0002row36_col10\" class=\"data row36 col10\" >9573.875000</td>\n",
              "                        <td id=\"T_db3a6760_1ead_11eb_85ce_0242ac1c0002row36_col11\" class=\"data row36 col11\" >9516.251501</td>\n",
              "            </tr>\n",
              "            <tr>\n",
              "                        <th id=\"T_db3a6760_1ead_11eb_85ce_0242ac1c0002level0_row37\" class=\"row_heading level0 row37\" >2020-05-29 20:23:00</th>\n",
              "                        <td id=\"T_db3a6760_1ead_11eb_85ce_0242ac1c0002row37_col0\" class=\"data row37 col0\" >1110035.000000</td>\n",
              "                        <td id=\"T_db3a6760_1ead_11eb_85ce_0242ac1c0002row37_col1\" class=\"data row37 col1\" >1110328.387548</td>\n",
              "                        <td id=\"T_db3a6760_1ead_11eb_85ce_0242ac1c0002row37_col2\" class=\"data row37 col2\" >1235510.000000</td>\n",
              "                        <td id=\"T_db3a6760_1ead_11eb_85ce_0242ac1c0002row37_col3\" class=\"data row37 col3\" >1232923.988860</td>\n",
              "                        <td id=\"T_db3a6760_1ead_11eb_85ce_0242ac1c0002row37_col4\" class=\"data row37 col4\" >107879000.000000</td>\n",
              "                        <td id=\"T_db3a6760_1ead_11eb_85ce_0242ac1c0002row37_col5\" class=\"data row37 col5\" >107779035.557334</td>\n",
              "                        <td id=\"T_db3a6760_1ead_11eb_85ce_0242ac1c0002row37_col6\" class=\"data row37 col6\" >3026.500000</td>\n",
              "                        <td id=\"T_db3a6760_1ead_11eb_85ce_0242ac1c0002row37_col7\" class=\"data row37 col7\" >3018.655589</td>\n",
              "                        <td id=\"T_db3a6760_1ead_11eb_85ce_0242ac1c0002row37_col8\" class=\"data row37 col8\" >1732.500000</td>\n",
              "                        <td id=\"T_db3a6760_1ead_11eb_85ce_0242ac1c0002row37_col9\" class=\"data row37 col9\" >1733.394144</td>\n",
              "                        <td id=\"T_db3a6760_1ead_11eb_85ce_0242ac1c0002row37_col10\" class=\"data row37 col10\" >9573.875000</td>\n",
              "                        <td id=\"T_db3a6760_1ead_11eb_85ce_0242ac1c0002row37_col11\" class=\"data row37 col11\" >9516.228341</td>\n",
              "            </tr>\n",
              "            <tr>\n",
              "                        <th id=\"T_db3a6760_1ead_11eb_85ce_0242ac1c0002level0_row38\" class=\"row_heading level0 row38\" >2020-05-29 20:22:00</th>\n",
              "                        <td id=\"T_db3a6760_1ead_11eb_85ce_0242ac1c0002row38_col0\" class=\"data row38 col0\" >1110060.000000</td>\n",
              "                        <td id=\"T_db3a6760_1ead_11eb_85ce_0242ac1c0002row38_col1\" class=\"data row38 col1\" >1110327.836909</td>\n",
              "                        <td id=\"T_db3a6760_1ead_11eb_85ce_0242ac1c0002row38_col2\" class=\"data row38 col2\" >1235510.000000</td>\n",
              "                        <td id=\"T_db3a6760_1ead_11eb_85ce_0242ac1c0002row38_col3\" class=\"data row38 col3\" >1232924.837601</td>\n",
              "                        <td id=\"T_db3a6760_1ead_11eb_85ce_0242ac1c0002row38_col4\" class=\"data row38 col4\" >107870500.000000</td>\n",
              "                        <td id=\"T_db3a6760_1ead_11eb_85ce_0242ac1c0002row38_col5\" class=\"data row38 col5\" >107779021.738216</td>\n",
              "                        <td id=\"T_db3a6760_1ead_11eb_85ce_0242ac1c0002row38_col6\" class=\"data row38 col6\" >3026.500000</td>\n",
              "                        <td id=\"T_db3a6760_1ead_11eb_85ce_0242ac1c0002row38_col7\" class=\"data row38 col7\" >3018.650673</td>\n",
              "                        <td id=\"T_db3a6760_1ead_11eb_85ce_0242ac1c0002row38_col8\" class=\"data row38 col8\" >1732.550000</td>\n",
              "                        <td id=\"T_db3a6760_1ead_11eb_85ce_0242ac1c0002row38_col9\" class=\"data row38 col9\" >1733.392858</td>\n",
              "                        <td id=\"T_db3a6760_1ead_11eb_85ce_0242ac1c0002row38_col10\" class=\"data row38 col10\" >9573.875000</td>\n",
              "                        <td id=\"T_db3a6760_1ead_11eb_85ce_0242ac1c0002row38_col11\" class=\"data row38 col11\" >9516.205182</td>\n",
              "            </tr>\n",
              "            <tr>\n",
              "                        <th id=\"T_db3a6760_1ead_11eb_85ce_0242ac1c0002level0_row39\" class=\"row_heading level0 row39\" >2020-05-29 20:21:00</th>\n",
              "                        <td id=\"T_db3a6760_1ead_11eb_85ce_0242ac1c0002row39_col0\" class=\"data row39 col0\" >1110185.000000</td>\n",
              "                        <td id=\"T_db3a6760_1ead_11eb_85ce_0242ac1c0002row39_col1\" class=\"data row39 col1\" >1110327.286270</td>\n",
              "                        <td id=\"T_db3a6760_1ead_11eb_85ce_0242ac1c0002row39_col2\" class=\"data row39 col2\" >1235595.000000</td>\n",
              "                        <td id=\"T_db3a6760_1ead_11eb_85ce_0242ac1c0002row39_col3\" class=\"data row39 col3\" >1232925.686343</td>\n",
              "                        <td id=\"T_db3a6760_1ead_11eb_85ce_0242ac1c0002row39_col4\" class=\"data row39 col4\" >107864500.000000</td>\n",
              "                        <td id=\"T_db3a6760_1ead_11eb_85ce_0242ac1c0002row39_col5\" class=\"data row39 col5\" >107779007.919099</td>\n",
              "                        <td id=\"T_db3a6760_1ead_11eb_85ce_0242ac1c0002row39_col6\" class=\"data row39 col6\" >3026.500000</td>\n",
              "                        <td id=\"T_db3a6760_1ead_11eb_85ce_0242ac1c0002row39_col7\" class=\"data row39 col7\" >3018.645756</td>\n",
              "                        <td id=\"T_db3a6760_1ead_11eb_85ce_0242ac1c0002row39_col8\" class=\"data row39 col8\" >1732.550000</td>\n",
              "                        <td id=\"T_db3a6760_1ead_11eb_85ce_0242ac1c0002row39_col9\" class=\"data row39 col9\" >1733.391571</td>\n",
              "                        <td id=\"T_db3a6760_1ead_11eb_85ce_0242ac1c0002row39_col10\" class=\"data row39 col10\" >9573.875000</td>\n",
              "                        <td id=\"T_db3a6760_1ead_11eb_85ce_0242ac1c0002row39_col11\" class=\"data row39 col11\" >9516.182022</td>\n",
              "            </tr>\n",
              "            <tr>\n",
              "                        <th id=\"T_db3a6760_1ead_11eb_85ce_0242ac1c0002level0_row40\" class=\"row_heading level0 row40\" >2020-05-29 20:20:00</th>\n",
              "                        <td id=\"T_db3a6760_1ead_11eb_85ce_0242ac1c0002row40_col0\" class=\"data row40 col0\" >1110210.000000</td>\n",
              "                        <td id=\"T_db3a6760_1ead_11eb_85ce_0242ac1c0002row40_col1\" class=\"data row40 col1\" >1110326.735632</td>\n",
              "                        <td id=\"T_db3a6760_1ead_11eb_85ce_0242ac1c0002row40_col2\" class=\"data row40 col2\" >1235595.000000</td>\n",
              "                        <td id=\"T_db3a6760_1ead_11eb_85ce_0242ac1c0002row40_col3\" class=\"data row40 col3\" >1232926.535084</td>\n",
              "                        <td id=\"T_db3a6760_1ead_11eb_85ce_0242ac1c0002row40_col4\" class=\"data row40 col4\" >107861500.000000</td>\n",
              "                        <td id=\"T_db3a6760_1ead_11eb_85ce_0242ac1c0002row40_col5\" class=\"data row40 col5\" >107778994.099981</td>\n",
              "                        <td id=\"T_db3a6760_1ead_11eb_85ce_0242ac1c0002row40_col6\" class=\"data row40 col6\" >3026.500000</td>\n",
              "                        <td id=\"T_db3a6760_1ead_11eb_85ce_0242ac1c0002row40_col7\" class=\"data row40 col7\" >3018.640839</td>\n",
              "                        <td id=\"T_db3a6760_1ead_11eb_85ce_0242ac1c0002row40_col8\" class=\"data row40 col8\" >1732.550000</td>\n",
              "                        <td id=\"T_db3a6760_1ead_11eb_85ce_0242ac1c0002row40_col9\" class=\"data row40 col9\" >1733.390284</td>\n",
              "                        <td id=\"T_db3a6760_1ead_11eb_85ce_0242ac1c0002row40_col10\" class=\"data row40 col10\" >9573.875000</td>\n",
              "                        <td id=\"T_db3a6760_1ead_11eb_85ce_0242ac1c0002row40_col11\" class=\"data row40 col11\" >9516.158862</td>\n",
              "            </tr>\n",
              "            <tr>\n",
              "                        <th id=\"T_db3a6760_1ead_11eb_85ce_0242ac1c0002level0_row41\" class=\"row_heading level0 row41\" >2020-05-29 20:19:00</th>\n",
              "                        <td id=\"T_db3a6760_1ead_11eb_85ce_0242ac1c0002row41_col0\" class=\"data row41 col0\" >1110260.000000</td>\n",
              "                        <td id=\"T_db3a6760_1ead_11eb_85ce_0242ac1c0002row41_col1\" class=\"data row41 col1\" >1110326.184993</td>\n",
              "                        <td id=\"T_db3a6760_1ead_11eb_85ce_0242ac1c0002row41_col2\" class=\"data row41 col2\" >1235650.000000</td>\n",
              "                        <td id=\"T_db3a6760_1ead_11eb_85ce_0242ac1c0002row41_col3\" class=\"data row41 col3\" >1232927.383826</td>\n",
              "                        <td id=\"T_db3a6760_1ead_11eb_85ce_0242ac1c0002row41_col4\" class=\"data row41 col4\" >107850000.000000</td>\n",
              "                        <td id=\"T_db3a6760_1ead_11eb_85ce_0242ac1c0002row41_col5\" class=\"data row41 col5\" >107778980.280863</td>\n",
              "                        <td id=\"T_db3a6760_1ead_11eb_85ce_0242ac1c0002row41_col6\" class=\"data row41 col6\" >3026.500000</td>\n",
              "                        <td id=\"T_db3a6760_1ead_11eb_85ce_0242ac1c0002row41_col7\" class=\"data row41 col7\" >3018.635922</td>\n",
              "                        <td id=\"T_db3a6760_1ead_11eb_85ce_0242ac1c0002row41_col8\" class=\"data row41 col8\" >1732.500000</td>\n",
              "                        <td id=\"T_db3a6760_1ead_11eb_85ce_0242ac1c0002row41_col9\" class=\"data row41 col9\" >1733.388998</td>\n",
              "                        <td id=\"T_db3a6760_1ead_11eb_85ce_0242ac1c0002row41_col10\" class=\"data row41 col10\" >9573.875000</td>\n",
              "                        <td id=\"T_db3a6760_1ead_11eb_85ce_0242ac1c0002row41_col11\" class=\"data row41 col11\" >9516.135703</td>\n",
              "            </tr>\n",
              "            <tr>\n",
              "                        <th id=\"T_db3a6760_1ead_11eb_85ce_0242ac1c0002level0_row42\" class=\"row_heading level0 row42\" >2020-05-29 20:18:00</th>\n",
              "                        <td id=\"T_db3a6760_1ead_11eb_85ce_0242ac1c0002row42_col0\" class=\"data row42 col0\" >1110185.000000</td>\n",
              "                        <td id=\"T_db3a6760_1ead_11eb_85ce_0242ac1c0002row42_col1\" class=\"data row42 col1\" >1110325.634354</td>\n",
              "                        <td id=\"T_db3a6760_1ead_11eb_85ce_0242ac1c0002row42_col2\" class=\"data row42 col2\" >1235290.000000</td>\n",
              "                        <td id=\"T_db3a6760_1ead_11eb_85ce_0242ac1c0002row42_col3\" class=\"data row42 col3\" >1232928.232567</td>\n",
              "                        <td id=\"T_db3a6760_1ead_11eb_85ce_0242ac1c0002row42_col4\" class=\"data row42 col4\" >107850000.000000</td>\n",
              "                        <td id=\"T_db3a6760_1ead_11eb_85ce_0242ac1c0002row42_col5\" class=\"data row42 col5\" >107778966.461746</td>\n",
              "                        <td id=\"T_db3a6760_1ead_11eb_85ce_0242ac1c0002row42_col6\" class=\"data row42 col6\" >3026.500000</td>\n",
              "                        <td id=\"T_db3a6760_1ead_11eb_85ce_0242ac1c0002row42_col7\" class=\"data row42 col7\" >3018.631006</td>\n",
              "                        <td id=\"T_db3a6760_1ead_11eb_85ce_0242ac1c0002row42_col8\" class=\"data row42 col8\" >1732.400000</td>\n",
              "                        <td id=\"T_db3a6760_1ead_11eb_85ce_0242ac1c0002row42_col9\" class=\"data row42 col9\" >1733.387711</td>\n",
              "                        <td id=\"T_db3a6760_1ead_11eb_85ce_0242ac1c0002row42_col10\" class=\"data row42 col10\" >9573.875000</td>\n",
              "                        <td id=\"T_db3a6760_1ead_11eb_85ce_0242ac1c0002row42_col11\" class=\"data row42 col11\" >9516.112543</td>\n",
              "            </tr>\n",
              "            <tr>\n",
              "                        <th id=\"T_db3a6760_1ead_11eb_85ce_0242ac1c0002level0_row43\" class=\"row_heading level0 row43\" >2020-05-29 20:17:00</th>\n",
              "                        <td id=\"T_db3a6760_1ead_11eb_85ce_0242ac1c0002row43_col0\" class=\"data row43 col0\" >1110110.000000</td>\n",
              "                        <td id=\"T_db3a6760_1ead_11eb_85ce_0242ac1c0002row43_col1\" class=\"data row43 col1\" >1110325.083716</td>\n",
              "                        <td id=\"T_db3a6760_1ead_11eb_85ce_0242ac1c0002row43_col2\" class=\"data row43 col2\" >1235185.000000</td>\n",
              "                        <td id=\"T_db3a6760_1ead_11eb_85ce_0242ac1c0002row43_col3\" class=\"data row43 col3\" >1232929.081309</td>\n",
              "                        <td id=\"T_db3a6760_1ead_11eb_85ce_0242ac1c0002row43_col4\" class=\"data row43 col4\" >107844500.000000</td>\n",
              "                        <td id=\"T_db3a6760_1ead_11eb_85ce_0242ac1c0002row43_col5\" class=\"data row43 col5\" >107778952.642628</td>\n",
              "                        <td id=\"T_db3a6760_1ead_11eb_85ce_0242ac1c0002row43_col6\" class=\"data row43 col6\" >3026.500000</td>\n",
              "                        <td id=\"T_db3a6760_1ead_11eb_85ce_0242ac1c0002row43_col7\" class=\"data row43 col7\" >3018.626089</td>\n",
              "                        <td id=\"T_db3a6760_1ead_11eb_85ce_0242ac1c0002row43_col8\" class=\"data row43 col8\" >1732.450000</td>\n",
              "                        <td id=\"T_db3a6760_1ead_11eb_85ce_0242ac1c0002row43_col9\" class=\"data row43 col9\" >1733.386424</td>\n",
              "                        <td id=\"T_db3a6760_1ead_11eb_85ce_0242ac1c0002row43_col10\" class=\"data row43 col10\" >9573.875000</td>\n",
              "                        <td id=\"T_db3a6760_1ead_11eb_85ce_0242ac1c0002row43_col11\" class=\"data row43 col11\" >9516.089384</td>\n",
              "            </tr>\n",
              "            <tr>\n",
              "                        <th id=\"T_db3a6760_1ead_11eb_85ce_0242ac1c0002level0_row44\" class=\"row_heading level0 row44\" >2020-05-29 20:16:00</th>\n",
              "                        <td id=\"T_db3a6760_1ead_11eb_85ce_0242ac1c0002row44_col0\" class=\"data row44 col0\" >1109985.000000</td>\n",
              "                        <td id=\"T_db3a6760_1ead_11eb_85ce_0242ac1c0002row44_col1\" class=\"data row44 col1\" >1110324.533077</td>\n",
              "                        <td id=\"T_db3a6760_1ead_11eb_85ce_0242ac1c0002row44_col2\" class=\"data row44 col2\" >1235140.000000</td>\n",
              "                        <td id=\"T_db3a6760_1ead_11eb_85ce_0242ac1c0002row44_col3\" class=\"data row44 col3\" >1232929.930051</td>\n",
              "                        <td id=\"T_db3a6760_1ead_11eb_85ce_0242ac1c0002row44_col4\" class=\"data row44 col4\" >107836000.000000</td>\n",
              "                        <td id=\"T_db3a6760_1ead_11eb_85ce_0242ac1c0002row44_col5\" class=\"data row44 col5\" >107778938.823510</td>\n",
              "                        <td id=\"T_db3a6760_1ead_11eb_85ce_0242ac1c0002row44_col6\" class=\"data row44 col6\" >3026.500000</td>\n",
              "                        <td id=\"T_db3a6760_1ead_11eb_85ce_0242ac1c0002row44_col7\" class=\"data row44 col7\" >3018.621172</td>\n",
              "                        <td id=\"T_db3a6760_1ead_11eb_85ce_0242ac1c0002row44_col8\" class=\"data row44 col8\" >1732.200000</td>\n",
              "                        <td id=\"T_db3a6760_1ead_11eb_85ce_0242ac1c0002row44_col9\" class=\"data row44 col9\" >1733.385138</td>\n",
              "                        <td id=\"T_db3a6760_1ead_11eb_85ce_0242ac1c0002row44_col10\" class=\"data row44 col10\" >9572.750000</td>\n",
              "                        <td id=\"T_db3a6760_1ead_11eb_85ce_0242ac1c0002row44_col11\" class=\"data row44 col11\" >9516.066224</td>\n",
              "            </tr>\n",
              "            <tr>\n",
              "                        <th id=\"T_db3a6760_1ead_11eb_85ce_0242ac1c0002level0_row45\" class=\"row_heading level0 row45\" >2020-05-29 20:15:00</th>\n",
              "                        <td id=\"T_db3a6760_1ead_11eb_85ce_0242ac1c0002row45_col0\" class=\"data row45 col0\" >1110035.000000</td>\n",
              "                        <td id=\"T_db3a6760_1ead_11eb_85ce_0242ac1c0002row45_col1\" class=\"data row45 col1\" >1110323.982438</td>\n",
              "                        <td id=\"T_db3a6760_1ead_11eb_85ce_0242ac1c0002row45_col2\" class=\"data row45 col2\" >1235140.000000</td>\n",
              "                        <td id=\"T_db3a6760_1ead_11eb_85ce_0242ac1c0002row45_col3\" class=\"data row45 col3\" >1232930.778792</td>\n",
              "                        <td id=\"T_db3a6760_1ead_11eb_85ce_0242ac1c0002row45_col4\" class=\"data row45 col4\" >107826500.000000</td>\n",
              "                        <td id=\"T_db3a6760_1ead_11eb_85ce_0242ac1c0002row45_col5\" class=\"data row45 col5\" >107778925.004393</td>\n",
              "                        <td id=\"T_db3a6760_1ead_11eb_85ce_0242ac1c0002row45_col6\" class=\"data row45 col6\" >3026.500000</td>\n",
              "                        <td id=\"T_db3a6760_1ead_11eb_85ce_0242ac1c0002row45_col7\" class=\"data row45 col7\" >3018.616255</td>\n",
              "                        <td id=\"T_db3a6760_1ead_11eb_85ce_0242ac1c0002row45_col8\" class=\"data row45 col8\" >1732.300000</td>\n",
              "                        <td id=\"T_db3a6760_1ead_11eb_85ce_0242ac1c0002row45_col9\" class=\"data row45 col9\" >1733.383851</td>\n",
              "                        <td id=\"T_db3a6760_1ead_11eb_85ce_0242ac1c0002row45_col10\" class=\"data row45 col10\" >9572.750000</td>\n",
              "                        <td id=\"T_db3a6760_1ead_11eb_85ce_0242ac1c0002row45_col11\" class=\"data row45 col11\" >9516.043065</td>\n",
              "            </tr>\n",
              "            <tr>\n",
              "                        <th id=\"T_db3a6760_1ead_11eb_85ce_0242ac1c0002level0_row46\" class=\"row_heading level0 row46\" >2020-05-29 20:14:00</th>\n",
              "                        <td id=\"T_db3a6760_1ead_11eb_85ce_0242ac1c0002row46_col0\" class=\"data row46 col0\" >1109985.000000</td>\n",
              "                        <td id=\"T_db3a6760_1ead_11eb_85ce_0242ac1c0002row46_col1\" class=\"data row46 col1\" >1110323.431800</td>\n",
              "                        <td id=\"T_db3a6760_1ead_11eb_85ce_0242ac1c0002row46_col2\" class=\"data row46 col2\" >1235385.000000</td>\n",
              "                        <td id=\"T_db3a6760_1ead_11eb_85ce_0242ac1c0002row46_col3\" class=\"data row46 col3\" >1232931.627534</td>\n",
              "                        <td id=\"T_db3a6760_1ead_11eb_85ce_0242ac1c0002row46_col4\" class=\"data row46 col4\" >107821000.000000</td>\n",
              "                        <td id=\"T_db3a6760_1ead_11eb_85ce_0242ac1c0002row46_col5\" class=\"data row46 col5\" >107778911.185275</td>\n",
              "                        <td id=\"T_db3a6760_1ead_11eb_85ce_0242ac1c0002row46_col6\" class=\"data row46 col6\" >3025.750000</td>\n",
              "                        <td id=\"T_db3a6760_1ead_11eb_85ce_0242ac1c0002row46_col7\" class=\"data row46 col7\" >3018.611338</td>\n",
              "                        <td id=\"T_db3a6760_1ead_11eb_85ce_0242ac1c0002row46_col8\" class=\"data row46 col8\" >1732.050000</td>\n",
              "                        <td id=\"T_db3a6760_1ead_11eb_85ce_0242ac1c0002row46_col9\" class=\"data row46 col9\" >1733.382564</td>\n",
              "                        <td id=\"T_db3a6760_1ead_11eb_85ce_0242ac1c0002row46_col10\" class=\"data row46 col10\" >9576.625000</td>\n",
              "                        <td id=\"T_db3a6760_1ead_11eb_85ce_0242ac1c0002row46_col11\" class=\"data row46 col11\" >9516.019905</td>\n",
              "            </tr>\n",
              "            <tr>\n",
              "                        <th id=\"T_db3a6760_1ead_11eb_85ce_0242ac1c0002level0_row47\" class=\"row_heading level0 row47\" >2020-05-29 20:13:00</th>\n",
              "                        <td id=\"T_db3a6760_1ead_11eb_85ce_0242ac1c0002row47_col0\" class=\"data row47 col0\" >1110035.000000</td>\n",
              "                        <td id=\"T_db3a6760_1ead_11eb_85ce_0242ac1c0002row47_col1\" class=\"data row47 col1\" >1110322.881161</td>\n",
              "                        <td id=\"T_db3a6760_1ead_11eb_85ce_0242ac1c0002row47_col2\" class=\"data row47 col2\" >1235290.000000</td>\n",
              "                        <td id=\"T_db3a6760_1ead_11eb_85ce_0242ac1c0002row47_col3\" class=\"data row47 col3\" >1232932.476275</td>\n",
              "                        <td id=\"T_db3a6760_1ead_11eb_85ce_0242ac1c0002row47_col4\" class=\"data row47 col4\" >107824000.000000</td>\n",
              "                        <td id=\"T_db3a6760_1ead_11eb_85ce_0242ac1c0002row47_col5\" class=\"data row47 col5\" >107778897.366158</td>\n",
              "                        <td id=\"T_db3a6760_1ead_11eb_85ce_0242ac1c0002row47_col6\" class=\"data row47 col6\" >3025.250000</td>\n",
              "                        <td id=\"T_db3a6760_1ead_11eb_85ce_0242ac1c0002row47_col7\" class=\"data row47 col7\" >3018.606422</td>\n",
              "                        <td id=\"T_db3a6760_1ead_11eb_85ce_0242ac1c0002row47_col8\" class=\"data row47 col8\" >1732.350000</td>\n",
              "                        <td id=\"T_db3a6760_1ead_11eb_85ce_0242ac1c0002row47_col9\" class=\"data row47 col9\" >1733.381277</td>\n",
              "                        <td id=\"T_db3a6760_1ead_11eb_85ce_0242ac1c0002row47_col10\" class=\"data row47 col10\" >9574.250000</td>\n",
              "                        <td id=\"T_db3a6760_1ead_11eb_85ce_0242ac1c0002row47_col11\" class=\"data row47 col11\" >9515.996745</td>\n",
              "            </tr>\n",
              "            <tr>\n",
              "                        <th id=\"T_db3a6760_1ead_11eb_85ce_0242ac1c0002level0_row48\" class=\"row_heading level0 row48\" >2020-05-29 20:12:00</th>\n",
              "                        <td id=\"T_db3a6760_1ead_11eb_85ce_0242ac1c0002row48_col0\" class=\"data row48 col0\" >1110105.000000</td>\n",
              "                        <td id=\"T_db3a6760_1ead_11eb_85ce_0242ac1c0002row48_col1\" class=\"data row48 col1\" >1110322.330522</td>\n",
              "                        <td id=\"T_db3a6760_1ead_11eb_85ce_0242ac1c0002row48_col2\" class=\"data row48 col2\" >1235335.000000</td>\n",
              "                        <td id=\"T_db3a6760_1ead_11eb_85ce_0242ac1c0002row48_col3\" class=\"data row48 col3\" >1232933.325017</td>\n",
              "                        <td id=\"T_db3a6760_1ead_11eb_85ce_0242ac1c0002row48_col4\" class=\"data row48 col4\" >107824000.000000</td>\n",
              "                        <td id=\"T_db3a6760_1ead_11eb_85ce_0242ac1c0002row48_col5\" class=\"data row48 col5\" >107778883.547040</td>\n",
              "                        <td id=\"T_db3a6760_1ead_11eb_85ce_0242ac1c0002row48_col6\" class=\"data row48 col6\" >3025.625000</td>\n",
              "                        <td id=\"T_db3a6760_1ead_11eb_85ce_0242ac1c0002row48_col7\" class=\"data row48 col7\" >3018.601505</td>\n",
              "                        <td id=\"T_db3a6760_1ead_11eb_85ce_0242ac1c0002row48_col8\" class=\"data row48 col8\" >1732.450000</td>\n",
              "                        <td id=\"T_db3a6760_1ead_11eb_85ce_0242ac1c0002row48_col9\" class=\"data row48 col9\" >1733.379991</td>\n",
              "                        <td id=\"T_db3a6760_1ead_11eb_85ce_0242ac1c0002row48_col10\" class=\"data row48 col10\" >9581.000000</td>\n",
              "                        <td id=\"T_db3a6760_1ead_11eb_85ce_0242ac1c0002row48_col11\" class=\"data row48 col11\" >9515.973586</td>\n",
              "            </tr>\n",
              "            <tr>\n",
              "                        <th id=\"T_db3a6760_1ead_11eb_85ce_0242ac1c0002level0_row49\" class=\"row_heading level0 row49\" >2020-05-29 20:11:00</th>\n",
              "                        <td id=\"T_db3a6760_1ead_11eb_85ce_0242ac1c0002row49_col0\" class=\"data row49 col0\" >1110160.000000</td>\n",
              "                        <td id=\"T_db3a6760_1ead_11eb_85ce_0242ac1c0002row49_col1\" class=\"data row49 col1\" >1110321.779884</td>\n",
              "                        <td id=\"T_db3a6760_1ead_11eb_85ce_0242ac1c0002row49_col2\" class=\"data row49 col2\" >1235520.000000</td>\n",
              "                        <td id=\"T_db3a6760_1ead_11eb_85ce_0242ac1c0002row49_col3\" class=\"data row49 col3\" >1232934.173758</td>\n",
              "                        <td id=\"T_db3a6760_1ead_11eb_85ce_0242ac1c0002row49_col4\" class=\"data row49 col4\" >107826500.000000</td>\n",
              "                        <td id=\"T_db3a6760_1ead_11eb_85ce_0242ac1c0002row49_col5\" class=\"data row49 col5\" >107778869.727922</td>\n",
              "                        <td id=\"T_db3a6760_1ead_11eb_85ce_0242ac1c0002row49_col6\" class=\"data row49 col6\" >3024.750000</td>\n",
              "                        <td id=\"T_db3a6760_1ead_11eb_85ce_0242ac1c0002row49_col7\" class=\"data row49 col7\" >3018.596588</td>\n",
              "                        <td id=\"T_db3a6760_1ead_11eb_85ce_0242ac1c0002row49_col8\" class=\"data row49 col8\" >1732.500000</td>\n",
              "                        <td id=\"T_db3a6760_1ead_11eb_85ce_0242ac1c0002row49_col9\" class=\"data row49 col9\" >1733.378704</td>\n",
              "                        <td id=\"T_db3a6760_1ead_11eb_85ce_0242ac1c0002row49_col10\" class=\"data row49 col10\" >9573.500000</td>\n",
              "                        <td id=\"T_db3a6760_1ead_11eb_85ce_0242ac1c0002row49_col11\" class=\"data row49 col11\" >9515.950426</td>\n",
              "            </tr>\n",
              "            <tr>\n",
              "                        <th id=\"T_db3a6760_1ead_11eb_85ce_0242ac1c0002level0_row50\" class=\"row_heading level0 row50\" >2020-05-29 20:10:00</th>\n",
              "                        <td id=\"T_db3a6760_1ead_11eb_85ce_0242ac1c0002row50_col0\" class=\"data row50 col0\" >1110085.000000</td>\n",
              "                        <td id=\"T_db3a6760_1ead_11eb_85ce_0242ac1c0002row50_col1\" class=\"data row50 col1\" >1110321.229245</td>\n",
              "                        <td id=\"T_db3a6760_1ead_11eb_85ce_0242ac1c0002row50_col2\" class=\"data row50 col2\" >1235335.000000</td>\n",
              "                        <td id=\"T_db3a6760_1ead_11eb_85ce_0242ac1c0002row50_col3\" class=\"data row50 col3\" >1232935.022500</td>\n",
              "                        <td id=\"T_db3a6760_1ead_11eb_85ce_0242ac1c0002row50_col4\" class=\"data row50 col4\" >107821000.000000</td>\n",
              "                        <td id=\"T_db3a6760_1ead_11eb_85ce_0242ac1c0002row50_col5\" class=\"data row50 col5\" >107778855.908805</td>\n",
              "                        <td id=\"T_db3a6760_1ead_11eb_85ce_0242ac1c0002row50_col6\" class=\"data row50 col6\" >3024.375000</td>\n",
              "                        <td id=\"T_db3a6760_1ead_11eb_85ce_0242ac1c0002row50_col7\" class=\"data row50 col7\" >3018.591671</td>\n",
              "                        <td id=\"T_db3a6760_1ead_11eb_85ce_0242ac1c0002row50_col8\" class=\"data row50 col8\" >1732.550000</td>\n",
              "                        <td id=\"T_db3a6760_1ead_11eb_85ce_0242ac1c0002row50_col9\" class=\"data row50 col9\" >1733.377417</td>\n",
              "                        <td id=\"T_db3a6760_1ead_11eb_85ce_0242ac1c0002row50_col10\" class=\"data row50 col10\" >9573.625000</td>\n",
              "                        <td id=\"T_db3a6760_1ead_11eb_85ce_0242ac1c0002row50_col11\" class=\"data row50 col11\" >9515.927267</td>\n",
              "            </tr>\n",
              "            <tr>\n",
              "                        <th id=\"T_db3a6760_1ead_11eb_85ce_0242ac1c0002level0_row51\" class=\"row_heading level0 row51\" >2020-05-29 20:09:00</th>\n",
              "                        <td id=\"T_db3a6760_1ead_11eb_85ce_0242ac1c0002row51_col0\" class=\"data row51 col0\" >1110010.000000</td>\n",
              "                        <td id=\"T_db3a6760_1ead_11eb_85ce_0242ac1c0002row51_col1\" class=\"data row51 col1\" >1110320.678607</td>\n",
              "                        <td id=\"T_db3a6760_1ead_11eb_85ce_0242ac1c0002row51_col2\" class=\"data row51 col2\" >1235140.000000</td>\n",
              "                        <td id=\"T_db3a6760_1ead_11eb_85ce_0242ac1c0002row51_col3\" class=\"data row51 col3\" >1232935.871242</td>\n",
              "                        <td id=\"T_db3a6760_1ead_11eb_85ce_0242ac1c0002row51_col4\" class=\"data row51 col4\" >107818000.000000</td>\n",
              "                        <td id=\"T_db3a6760_1ead_11eb_85ce_0242ac1c0002row51_col5\" class=\"data row51 col5\" >107778842.089687</td>\n",
              "                        <td id=\"T_db3a6760_1ead_11eb_85ce_0242ac1c0002row51_col6\" class=\"data row51 col6\" >3025.000000</td>\n",
              "                        <td id=\"T_db3a6760_1ead_11eb_85ce_0242ac1c0002row51_col7\" class=\"data row51 col7\" >3018.586755</td>\n",
              "                        <td id=\"T_db3a6760_1ead_11eb_85ce_0242ac1c0002row51_col8\" class=\"data row51 col8\" >1732.600000</td>\n",
              "                        <td id=\"T_db3a6760_1ead_11eb_85ce_0242ac1c0002row51_col9\" class=\"data row51 col9\" >1733.376131</td>\n",
              "                        <td id=\"T_db3a6760_1ead_11eb_85ce_0242ac1c0002row51_col10\" class=\"data row51 col10\" >9577.875000</td>\n",
              "                        <td id=\"T_db3a6760_1ead_11eb_85ce_0242ac1c0002row51_col11\" class=\"data row51 col11\" >9515.904107</td>\n",
              "            </tr>\n",
              "            <tr>\n",
              "                        <th id=\"T_db3a6760_1ead_11eb_85ce_0242ac1c0002level0_row52\" class=\"row_heading level0 row52\" >2020-05-29 20:08:00</th>\n",
              "                        <td id=\"T_db3a6760_1ead_11eb_85ce_0242ac1c0002row52_col0\" class=\"data row52 col0\" >1110085.000000</td>\n",
              "                        <td id=\"T_db3a6760_1ead_11eb_85ce_0242ac1c0002row52_col1\" class=\"data row52 col1\" >1110320.127968</td>\n",
              "                        <td id=\"T_db3a6760_1ead_11eb_85ce_0242ac1c0002row52_col2\" class=\"data row52 col2\" >1235295.000000</td>\n",
              "                        <td id=\"T_db3a6760_1ead_11eb_85ce_0242ac1c0002row52_col3\" class=\"data row52 col3\" >1232936.719983</td>\n",
              "                        <td id=\"T_db3a6760_1ead_11eb_85ce_0242ac1c0002row52_col4\" class=\"data row52 col4\" >107815500.000000</td>\n",
              "                        <td id=\"T_db3a6760_1ead_11eb_85ce_0242ac1c0002row52_col5\" class=\"data row52 col5\" >107778828.270569</td>\n",
              "                        <td id=\"T_db3a6760_1ead_11eb_85ce_0242ac1c0002row52_col6\" class=\"data row52 col6\" >3024.500000</td>\n",
              "                        <td id=\"T_db3a6760_1ead_11eb_85ce_0242ac1c0002row52_col7\" class=\"data row52 col7\" >3018.581838</td>\n",
              "                        <td id=\"T_db3a6760_1ead_11eb_85ce_0242ac1c0002row52_col8\" class=\"data row52 col8\" >1732.450000</td>\n",
              "                        <td id=\"T_db3a6760_1ead_11eb_85ce_0242ac1c0002row52_col9\" class=\"data row52 col9\" >1733.374844</td>\n",
              "                        <td id=\"T_db3a6760_1ead_11eb_85ce_0242ac1c0002row52_col10\" class=\"data row52 col10\" >9577.500000</td>\n",
              "                        <td id=\"T_db3a6760_1ead_11eb_85ce_0242ac1c0002row52_col11\" class=\"data row52 col11\" >9515.880948</td>\n",
              "            </tr>\n",
              "            <tr>\n",
              "                        <th id=\"T_db3a6760_1ead_11eb_85ce_0242ac1c0002level0_row53\" class=\"row_heading level0 row53\" >2020-05-29 20:07:00</th>\n",
              "                        <td id=\"T_db3a6760_1ead_11eb_85ce_0242ac1c0002row53_col0\" class=\"data row53 col0\" >1109985.000000</td>\n",
              "                        <td id=\"T_db3a6760_1ead_11eb_85ce_0242ac1c0002row53_col1\" class=\"data row53 col1\" >1110319.577329</td>\n",
              "                        <td id=\"T_db3a6760_1ead_11eb_85ce_0242ac1c0002row53_col2\" class=\"data row53 col2\" >1234890.000000</td>\n",
              "                        <td id=\"T_db3a6760_1ead_11eb_85ce_0242ac1c0002row53_col3\" class=\"data row53 col3\" >1232937.568725</td>\n",
              "                        <td id=\"T_db3a6760_1ead_11eb_85ce_0242ac1c0002row53_col4\" class=\"data row53 col4\" >107812500.000000</td>\n",
              "                        <td id=\"T_db3a6760_1ead_11eb_85ce_0242ac1c0002row53_col5\" class=\"data row53 col5\" >107778814.451452</td>\n",
              "                        <td id=\"T_db3a6760_1ead_11eb_85ce_0242ac1c0002row53_col6\" class=\"data row53 col6\" >3024.625000</td>\n",
              "                        <td id=\"T_db3a6760_1ead_11eb_85ce_0242ac1c0002row53_col7\" class=\"data row53 col7\" >3018.576921</td>\n",
              "                        <td id=\"T_db3a6760_1ead_11eb_85ce_0242ac1c0002row53_col8\" class=\"data row53 col8\" >1732.400000</td>\n",
              "                        <td id=\"T_db3a6760_1ead_11eb_85ce_0242ac1c0002row53_col9\" class=\"data row53 col9\" >1733.373557</td>\n",
              "                        <td id=\"T_db3a6760_1ead_11eb_85ce_0242ac1c0002row53_col10\" class=\"data row53 col10\" >9578.250000</td>\n",
              "                        <td id=\"T_db3a6760_1ead_11eb_85ce_0242ac1c0002row53_col11\" class=\"data row53 col11\" >9515.857788</td>\n",
              "            </tr>\n",
              "            <tr>\n",
              "                        <th id=\"T_db3a6760_1ead_11eb_85ce_0242ac1c0002level0_row54\" class=\"row_heading level0 row54\" >2020-05-29 20:06:00</th>\n",
              "                        <td id=\"T_db3a6760_1ead_11eb_85ce_0242ac1c0002row54_col0\" class=\"data row54 col0\" >1110135.000000</td>\n",
              "                        <td id=\"T_db3a6760_1ead_11eb_85ce_0242ac1c0002row54_col1\" class=\"data row54 col1\" >1110319.026691</td>\n",
              "                        <td id=\"T_db3a6760_1ead_11eb_85ce_0242ac1c0002row54_col2\" class=\"data row54 col2\" >1234990.000000</td>\n",
              "                        <td id=\"T_db3a6760_1ead_11eb_85ce_0242ac1c0002row54_col3\" class=\"data row54 col3\" >1232938.417466</td>\n",
              "                        <td id=\"T_db3a6760_1ead_11eb_85ce_0242ac1c0002row54_col4\" class=\"data row54 col4\" >107800500.000000</td>\n",
              "                        <td id=\"T_db3a6760_1ead_11eb_85ce_0242ac1c0002row54_col5\" class=\"data row54 col5\" >107778800.632334</td>\n",
              "                        <td id=\"T_db3a6760_1ead_11eb_85ce_0242ac1c0002row54_col6\" class=\"data row54 col6\" >3024.250000</td>\n",
              "                        <td id=\"T_db3a6760_1ead_11eb_85ce_0242ac1c0002row54_col7\" class=\"data row54 col7\" >3018.572004</td>\n",
              "                        <td id=\"T_db3a6760_1ead_11eb_85ce_0242ac1c0002row54_col8\" class=\"data row54 col8\" >1732.300000</td>\n",
              "                        <td id=\"T_db3a6760_1ead_11eb_85ce_0242ac1c0002row54_col9\" class=\"data row54 col9\" >1733.372271</td>\n",
              "                        <td id=\"T_db3a6760_1ead_11eb_85ce_0242ac1c0002row54_col10\" class=\"data row54 col10\" >9571.375000</td>\n",
              "                        <td id=\"T_db3a6760_1ead_11eb_85ce_0242ac1c0002row54_col11\" class=\"data row54 col11\" >9515.834628</td>\n",
              "            </tr>\n",
              "            <tr>\n",
              "                        <th id=\"T_db3a6760_1ead_11eb_85ce_0242ac1c0002level0_row55\" class=\"row_heading level0 row55\" >2020-05-29 20:05:00</th>\n",
              "                        <td id=\"T_db3a6760_1ead_11eb_85ce_0242ac1c0002row55_col0\" class=\"data row55 col0\" >1110010.000000</td>\n",
              "                        <td id=\"T_db3a6760_1ead_11eb_85ce_0242ac1c0002row55_col1\" class=\"data row55 col1\" >1110318.476052</td>\n",
              "                        <td id=\"T_db3a6760_1ead_11eb_85ce_0242ac1c0002row55_col2\" class=\"data row55 col2\" >1235090.000000</td>\n",
              "                        <td id=\"T_db3a6760_1ead_11eb_85ce_0242ac1c0002row55_col3\" class=\"data row55 col3\" >1232939.266208</td>\n",
              "                        <td id=\"T_db3a6760_1ead_11eb_85ce_0242ac1c0002row55_col4\" class=\"data row55 col4\" >107800500.000000</td>\n",
              "                        <td id=\"T_db3a6760_1ead_11eb_85ce_0242ac1c0002row55_col5\" class=\"data row55 col5\" >107778786.813217</td>\n",
              "                        <td id=\"T_db3a6760_1ead_11eb_85ce_0242ac1c0002row55_col6\" class=\"data row55 col6\" >3023.875000</td>\n",
              "                        <td id=\"T_db3a6760_1ead_11eb_85ce_0242ac1c0002row55_col7\" class=\"data row55 col7\" >3018.567087</td>\n",
              "                        <td id=\"T_db3a6760_1ead_11eb_85ce_0242ac1c0002row55_col8\" class=\"data row55 col8\" >1732.350000</td>\n",
              "                        <td id=\"T_db3a6760_1ead_11eb_85ce_0242ac1c0002row55_col9\" class=\"data row55 col9\" >1733.370984</td>\n",
              "                        <td id=\"T_db3a6760_1ead_11eb_85ce_0242ac1c0002row55_col10\" class=\"data row55 col10\" >9565.625000</td>\n",
              "                        <td id=\"T_db3a6760_1ead_11eb_85ce_0242ac1c0002row55_col11\" class=\"data row55 col11\" >9515.811469</td>\n",
              "            </tr>\n",
              "            <tr>\n",
              "                        <th id=\"T_db3a6760_1ead_11eb_85ce_0242ac1c0002level0_row56\" class=\"row_heading level0 row56\" >2020-05-29 20:04:00</th>\n",
              "                        <td id=\"T_db3a6760_1ead_11eb_85ce_0242ac1c0002row56_col0\" class=\"data row56 col0\" >1109910.000000</td>\n",
              "                        <td id=\"T_db3a6760_1ead_11eb_85ce_0242ac1c0002row56_col1\" class=\"data row56 col1\" >1110317.925413</td>\n",
              "                        <td id=\"T_db3a6760_1ead_11eb_85ce_0242ac1c0002row56_col2\" class=\"data row56 col2\" >1234990.000000</td>\n",
              "                        <td id=\"T_db3a6760_1ead_11eb_85ce_0242ac1c0002row56_col3\" class=\"data row56 col3\" >1232940.114949</td>\n",
              "                        <td id=\"T_db3a6760_1ead_11eb_85ce_0242ac1c0002row56_col4\" class=\"data row56 col4\" >107812500.000000</td>\n",
              "                        <td id=\"T_db3a6760_1ead_11eb_85ce_0242ac1c0002row56_col5\" class=\"data row56 col5\" >107778772.994099</td>\n",
              "                        <td id=\"T_db3a6760_1ead_11eb_85ce_0242ac1c0002row56_col6\" class=\"data row56 col6\" >3022.875000</td>\n",
              "                        <td id=\"T_db3a6760_1ead_11eb_85ce_0242ac1c0002row56_col7\" class=\"data row56 col7\" >3018.562171</td>\n",
              "                        <td id=\"T_db3a6760_1ead_11eb_85ce_0242ac1c0002row56_col8\" class=\"data row56 col8\" >1732.150000</td>\n",
              "                        <td id=\"T_db3a6760_1ead_11eb_85ce_0242ac1c0002row56_col9\" class=\"data row56 col9\" >1733.369697</td>\n",
              "                        <td id=\"T_db3a6760_1ead_11eb_85ce_0242ac1c0002row56_col10\" class=\"data row56 col10\" >9564.500000</td>\n",
              "                        <td id=\"T_db3a6760_1ead_11eb_85ce_0242ac1c0002row56_col11\" class=\"data row56 col11\" >9515.788309</td>\n",
              "            </tr>\n",
              "            <tr>\n",
              "                        <th id=\"T_db3a6760_1ead_11eb_85ce_0242ac1c0002level0_row57\" class=\"row_heading level0 row57\" >2020-05-29 20:03:00</th>\n",
              "                        <td id=\"T_db3a6760_1ead_11eb_85ce_0242ac1c0002row57_col0\" class=\"data row57 col0\" >1110165.000000</td>\n",
              "                        <td id=\"T_db3a6760_1ead_11eb_85ce_0242ac1c0002row57_col1\" class=\"data row57 col1\" >1110317.374775</td>\n",
              "                        <td id=\"T_db3a6760_1ead_11eb_85ce_0242ac1c0002row57_col2\" class=\"data row57 col2\" >1235185.000000</td>\n",
              "                        <td id=\"T_db3a6760_1ead_11eb_85ce_0242ac1c0002row57_col3\" class=\"data row57 col3\" >1232940.963691</td>\n",
              "                        <td id=\"T_db3a6760_1ead_11eb_85ce_0242ac1c0002row57_col4\" class=\"data row57 col4\" >107812500.000000</td>\n",
              "                        <td id=\"T_db3a6760_1ead_11eb_85ce_0242ac1c0002row57_col5\" class=\"data row57 col5\" >107778759.174981</td>\n",
              "                        <td id=\"T_db3a6760_1ead_11eb_85ce_0242ac1c0002row57_col6\" class=\"data row57 col6\" >3023.000000</td>\n",
              "                        <td id=\"T_db3a6760_1ead_11eb_85ce_0242ac1c0002row57_col7\" class=\"data row57 col7\" >3018.557254</td>\n",
              "                        <td id=\"T_db3a6760_1ead_11eb_85ce_0242ac1c0002row57_col8\" class=\"data row57 col8\" >1732.150000</td>\n",
              "                        <td id=\"T_db3a6760_1ead_11eb_85ce_0242ac1c0002row57_col9\" class=\"data row57 col9\" >1733.368410</td>\n",
              "                        <td id=\"T_db3a6760_1ead_11eb_85ce_0242ac1c0002row57_col10\" class=\"data row57 col10\" >9567.500000</td>\n",
              "                        <td id=\"T_db3a6760_1ead_11eb_85ce_0242ac1c0002row57_col11\" class=\"data row57 col11\" >9515.765150</td>\n",
              "            </tr>\n",
              "            <tr>\n",
              "                        <th id=\"T_db3a6760_1ead_11eb_85ce_0242ac1c0002level0_row58\" class=\"row_heading level0 row58\" >2020-05-29 20:02:00</th>\n",
              "                        <td id=\"T_db3a6760_1ead_11eb_85ce_0242ac1c0002row58_col0\" class=\"data row58 col0\" >1110345.000000</td>\n",
              "                        <td id=\"T_db3a6760_1ead_11eb_85ce_0242ac1c0002row58_col1\" class=\"data row58 col1\" >1110316.824136</td>\n",
              "                        <td id=\"T_db3a6760_1ead_11eb_85ce_0242ac1c0002row58_col2\" class=\"data row58 col2\" >1235190.000000</td>\n",
              "                        <td id=\"T_db3a6760_1ead_11eb_85ce_0242ac1c0002row58_col3\" class=\"data row58 col3\" >1232941.812432</td>\n",
              "                        <td id=\"T_db3a6760_1ead_11eb_85ce_0242ac1c0002row58_col4\" class=\"data row58 col4\" >107822000.000000</td>\n",
              "                        <td id=\"T_db3a6760_1ead_11eb_85ce_0242ac1c0002row58_col5\" class=\"data row58 col5\" >107778745.355864</td>\n",
              "                        <td id=\"T_db3a6760_1ead_11eb_85ce_0242ac1c0002row58_col6\" class=\"data row58 col6\" >3023.500000</td>\n",
              "                        <td id=\"T_db3a6760_1ead_11eb_85ce_0242ac1c0002row58_col7\" class=\"data row58 col7\" >3018.552337</td>\n",
              "                        <td id=\"T_db3a6760_1ead_11eb_85ce_0242ac1c0002row58_col8\" class=\"data row58 col8\" >1731.950000</td>\n",
              "                        <td id=\"T_db3a6760_1ead_11eb_85ce_0242ac1c0002row58_col9\" class=\"data row58 col9\" >1733.367124</td>\n",
              "                        <td id=\"T_db3a6760_1ead_11eb_85ce_0242ac1c0002row58_col10\" class=\"data row58 col10\" >9575.750000</td>\n",
              "                        <td id=\"T_db3a6760_1ead_11eb_85ce_0242ac1c0002row58_col11\" class=\"data row58 col11\" >9515.741990</td>\n",
              "            </tr>\n",
              "            <tr>\n",
              "                        <th id=\"T_db3a6760_1ead_11eb_85ce_0242ac1c0002level0_row59\" class=\"row_heading level0 row59\" >2020-05-29 20:01:00</th>\n",
              "                        <td id=\"T_db3a6760_1ead_11eb_85ce_0242ac1c0002row59_col0\" class=\"data row59 col0\" >1110405.000000</td>\n",
              "                        <td id=\"T_db3a6760_1ead_11eb_85ce_0242ac1c0002row59_col1\" class=\"data row59 col1\" >1110316.273497</td>\n",
              "                        <td id=\"T_db3a6760_1ead_11eb_85ce_0242ac1c0002row59_col2\" class=\"data row59 col2\" >1235470.000000</td>\n",
              "                        <td id=\"T_db3a6760_1ead_11eb_85ce_0242ac1c0002row59_col3\" class=\"data row59 col3\" >1232942.661174</td>\n",
              "                        <td id=\"T_db3a6760_1ead_11eb_85ce_0242ac1c0002row59_col4\" class=\"data row59 col4\" >107846500.000000</td>\n",
              "                        <td id=\"T_db3a6760_1ead_11eb_85ce_0242ac1c0002row59_col5\" class=\"data row59 col5\" >107778731.536746</td>\n",
              "                        <td id=\"T_db3a6760_1ead_11eb_85ce_0242ac1c0002row59_col6\" class=\"data row59 col6\" >3022.750000</td>\n",
              "                        <td id=\"T_db3a6760_1ead_11eb_85ce_0242ac1c0002row59_col7\" class=\"data row59 col7\" >3018.547420</td>\n",
              "                        <td id=\"T_db3a6760_1ead_11eb_85ce_0242ac1c0002row59_col8\" class=\"data row59 col8\" >1731.950000</td>\n",
              "                        <td id=\"T_db3a6760_1ead_11eb_85ce_0242ac1c0002row59_col9\" class=\"data row59 col9\" >1733.365837</td>\n",
              "                        <td id=\"T_db3a6760_1ead_11eb_85ce_0242ac1c0002row59_col10\" class=\"data row59 col10\" >9571.125000</td>\n",
              "                        <td id=\"T_db3a6760_1ead_11eb_85ce_0242ac1c0002row59_col11\" class=\"data row59 col11\" >9515.718831</td>\n",
              "            </tr>\n",
              "            <tr>\n",
              "                        <th id=\"T_db3a6760_1ead_11eb_85ce_0242ac1c0002level0_row60\" class=\"row_heading level0 row60\" >2020-05-29 20:00:00</th>\n",
              "                        <td id=\"T_db3a6760_1ead_11eb_85ce_0242ac1c0002row60_col0\" class=\"data row60 col0\" >1110245.000000</td>\n",
              "                        <td id=\"T_db3a6760_1ead_11eb_85ce_0242ac1c0002row60_col1\" class=\"data row60 col1\" >1110315.722859</td>\n",
              "                        <td id=\"T_db3a6760_1ead_11eb_85ce_0242ac1c0002row60_col2\" class=\"data row60 col2\" >1235340.000000</td>\n",
              "                        <td id=\"T_db3a6760_1ead_11eb_85ce_0242ac1c0002row60_col3\" class=\"data row60 col3\" >1232943.509916</td>\n",
              "                        <td id=\"T_db3a6760_1ead_11eb_85ce_0242ac1c0002row60_col4\" class=\"data row60 col4\" >107841000.000000</td>\n",
              "                        <td id=\"T_db3a6760_1ead_11eb_85ce_0242ac1c0002row60_col5\" class=\"data row60 col5\" >107778717.717628</td>\n",
              "                        <td id=\"T_db3a6760_1ead_11eb_85ce_0242ac1c0002row60_col6\" class=\"data row60 col6\" >3020.750000</td>\n",
              "                        <td id=\"T_db3a6760_1ead_11eb_85ce_0242ac1c0002row60_col7\" class=\"data row60 col7\" >3018.542504</td>\n",
              "                        <td id=\"T_db3a6760_1ead_11eb_85ce_0242ac1c0002row60_col8\" class=\"data row60 col8\" >1732.100000</td>\n",
              "                        <td id=\"T_db3a6760_1ead_11eb_85ce_0242ac1c0002row60_col9\" class=\"data row60 col9\" >1733.364550</td>\n",
              "                        <td id=\"T_db3a6760_1ead_11eb_85ce_0242ac1c0002row60_col10\" class=\"data row60 col10\" >9562.750000</td>\n",
              "                        <td id=\"T_db3a6760_1ead_11eb_85ce_0242ac1c0002row60_col11\" class=\"data row60 col11\" >9515.695671</td>\n",
              "            </tr>\n",
              "            <tr>\n",
              "                        <th id=\"T_db3a6760_1ead_11eb_85ce_0242ac1c0002level0_row61\" class=\"row_heading level0 row61\" >2020-05-29 19:59:00</th>\n",
              "                        <td id=\"T_db3a6760_1ead_11eb_85ce_0242ac1c0002row61_col0\" class=\"data row61 col0\" >1109950.000000</td>\n",
              "                        <td id=\"T_db3a6760_1ead_11eb_85ce_0242ac1c0002row61_col1\" class=\"data row61 col1\" >1110315.172220</td>\n",
              "                        <td id=\"T_db3a6760_1ead_11eb_85ce_0242ac1c0002row61_col2\" class=\"data row61 col2\" >1234790.000000</td>\n",
              "                        <td id=\"T_db3a6760_1ead_11eb_85ce_0242ac1c0002row61_col3\" class=\"data row61 col3\" >1232944.358657</td>\n",
              "                        <td id=\"T_db3a6760_1ead_11eb_85ce_0242ac1c0002row61_col4\" class=\"data row61 col4\" >107842000.000000</td>\n",
              "                        <td id=\"T_db3a6760_1ead_11eb_85ce_0242ac1c0002row61_col5\" class=\"data row61 col5\" >107778703.898511</td>\n",
              "                        <td id=\"T_db3a6760_1ead_11eb_85ce_0242ac1c0002row61_col6\" class=\"data row61 col6\" >3017.875000</td>\n",
              "                        <td id=\"T_db3a6760_1ead_11eb_85ce_0242ac1c0002row61_col7\" class=\"data row61 col7\" >3018.537587</td>\n",
              "                        <td id=\"T_db3a6760_1ead_11eb_85ce_0242ac1c0002row61_col8\" class=\"data row61 col8\" >1731.950000</td>\n",
              "                        <td id=\"T_db3a6760_1ead_11eb_85ce_0242ac1c0002row61_col9\" class=\"data row61 col9\" >1733.363264</td>\n",
              "                        <td id=\"T_db3a6760_1ead_11eb_85ce_0242ac1c0002row61_col10\" class=\"data row61 col10\" >9542.750000</td>\n",
              "                        <td id=\"T_db3a6760_1ead_11eb_85ce_0242ac1c0002row61_col11\" class=\"data row61 col11\" >9515.672511</td>\n",
              "            </tr>\n",
              "            <tr>\n",
              "                        <th id=\"T_db3a6760_1ead_11eb_85ce_0242ac1c0002level0_row62\" class=\"row_heading level0 row62\" >2020-05-29 19:58:00</th>\n",
              "                        <td id=\"T_db3a6760_1ead_11eb_85ce_0242ac1c0002row62_col0\" class=\"data row62 col0\" >1109890.000000</td>\n",
              "                        <td id=\"T_db3a6760_1ead_11eb_85ce_0242ac1c0002row62_col1\" class=\"data row62 col1\" >1110314.621581</td>\n",
              "                        <td id=\"T_db3a6760_1ead_11eb_85ce_0242ac1c0002row62_col2\" class=\"data row62 col2\" >1234595.000000</td>\n",
              "                        <td id=\"T_db3a6760_1ead_11eb_85ce_0242ac1c0002row62_col3\" class=\"data row62 col3\" >1232945.207399</td>\n",
              "                        <td id=\"T_db3a6760_1ead_11eb_85ce_0242ac1c0002row62_col4\" class=\"data row62 col4\" >107839000.000000</td>\n",
              "                        <td id=\"T_db3a6760_1ead_11eb_85ce_0242ac1c0002row62_col5\" class=\"data row62 col5\" >107778690.079393</td>\n",
              "                        <td id=\"T_db3a6760_1ead_11eb_85ce_0242ac1c0002row62_col6\" class=\"data row62 col6\" >3020.750000</td>\n",
              "                        <td id=\"T_db3a6760_1ead_11eb_85ce_0242ac1c0002row62_col7\" class=\"data row62 col7\" >3018.532670</td>\n",
              "                        <td id=\"T_db3a6760_1ead_11eb_85ce_0242ac1c0002row62_col8\" class=\"data row62 col8\" >1732.100000</td>\n",
              "                        <td id=\"T_db3a6760_1ead_11eb_85ce_0242ac1c0002row62_col9\" class=\"data row62 col9\" >1733.361977</td>\n",
              "                        <td id=\"T_db3a6760_1ead_11eb_85ce_0242ac1c0002row62_col10\" class=\"data row62 col10\" >9562.125000</td>\n",
              "                        <td id=\"T_db3a6760_1ead_11eb_85ce_0242ac1c0002row62_col11\" class=\"data row62 col11\" >9515.649352</td>\n",
              "            </tr>\n",
              "            <tr>\n",
              "                        <th id=\"T_db3a6760_1ead_11eb_85ce_0242ac1c0002level0_row63\" class=\"row_heading level0 row63\" >2020-05-29 19:57:00</th>\n",
              "                        <td id=\"T_db3a6760_1ead_11eb_85ce_0242ac1c0002row63_col0\" class=\"data row63 col0\" >1109880.000000</td>\n",
              "                        <td id=\"T_db3a6760_1ead_11eb_85ce_0242ac1c0002row63_col1\" class=\"data row63 col1\" >1110314.070943</td>\n",
              "                        <td id=\"T_db3a6760_1ead_11eb_85ce_0242ac1c0002row63_col2\" class=\"data row63 col2\" >1234485.000000</td>\n",
              "                        <td id=\"T_db3a6760_1ead_11eb_85ce_0242ac1c0002row63_col3\" class=\"data row63 col3\" >1232946.056140</td>\n",
              "                        <td id=\"T_db3a6760_1ead_11eb_85ce_0242ac1c0002row63_col4\" class=\"data row63 col4\" >107834500.000000</td>\n",
              "                        <td id=\"T_db3a6760_1ead_11eb_85ce_0242ac1c0002row63_col5\" class=\"data row63 col5\" >107778676.260276</td>\n",
              "                        <td id=\"T_db3a6760_1ead_11eb_85ce_0242ac1c0002row63_col6\" class=\"data row63 col6\" >3021.125000</td>\n",
              "                        <td id=\"T_db3a6760_1ead_11eb_85ce_0242ac1c0002row63_col7\" class=\"data row63 col7\" >3018.527753</td>\n",
              "                        <td id=\"T_db3a6760_1ead_11eb_85ce_0242ac1c0002row63_col8\" class=\"data row63 col8\" >1732.000000</td>\n",
              "                        <td id=\"T_db3a6760_1ead_11eb_85ce_0242ac1c0002row63_col9\" class=\"data row63 col9\" >1733.360690</td>\n",
              "                        <td id=\"T_db3a6760_1ead_11eb_85ce_0242ac1c0002row63_col10\" class=\"data row63 col10\" >9563.000000</td>\n",
              "                        <td id=\"T_db3a6760_1ead_11eb_85ce_0242ac1c0002row63_col11\" class=\"data row63 col11\" >9515.626192</td>\n",
              "            </tr>\n",
              "            <tr>\n",
              "                        <th id=\"T_db3a6760_1ead_11eb_85ce_0242ac1c0002level0_row64\" class=\"row_heading level0 row64\" >2020-05-29 19:56:00</th>\n",
              "                        <td id=\"T_db3a6760_1ead_11eb_85ce_0242ac1c0002row64_col0\" class=\"data row64 col0\" >1109630.000000</td>\n",
              "                        <td id=\"T_db3a6760_1ead_11eb_85ce_0242ac1c0002row64_col1\" class=\"data row64 col1\" >1110313.520304</td>\n",
              "                        <td id=\"T_db3a6760_1ead_11eb_85ce_0242ac1c0002row64_col2\" class=\"data row64 col2\" >1234240.000000</td>\n",
              "                        <td id=\"T_db3a6760_1ead_11eb_85ce_0242ac1c0002row64_col3\" class=\"data row64 col3\" >1232946.904882</td>\n",
              "                        <td id=\"T_db3a6760_1ead_11eb_85ce_0242ac1c0002row64_col4\" class=\"data row64 col4\" >107818000.000000</td>\n",
              "                        <td id=\"T_db3a6760_1ead_11eb_85ce_0242ac1c0002row64_col5\" class=\"data row64 col5\" >107778662.441158</td>\n",
              "                        <td id=\"T_db3a6760_1ead_11eb_85ce_0242ac1c0002row64_col6\" class=\"data row64 col6\" >3020.750000</td>\n",
              "                        <td id=\"T_db3a6760_1ead_11eb_85ce_0242ac1c0002row64_col7\" class=\"data row64 col7\" >3018.522836</td>\n",
              "                        <td id=\"T_db3a6760_1ead_11eb_85ce_0242ac1c0002row64_col8\" class=\"data row64 col8\" >1732.150000</td>\n",
              "                        <td id=\"T_db3a6760_1ead_11eb_85ce_0242ac1c0002row64_col9\" class=\"data row64 col9\" >1733.359403</td>\n",
              "                        <td id=\"T_db3a6760_1ead_11eb_85ce_0242ac1c0002row64_col10\" class=\"data row64 col10\" >9561.000000</td>\n",
              "                        <td id=\"T_db3a6760_1ead_11eb_85ce_0242ac1c0002row64_col11\" class=\"data row64 col11\" >9515.603033</td>\n",
              "            </tr>\n",
              "            <tr>\n",
              "                        <th id=\"T_db3a6760_1ead_11eb_85ce_0242ac1c0002level0_row65\" class=\"row_heading level0 row65\" >2020-05-29 19:55:00</th>\n",
              "                        <td id=\"T_db3a6760_1ead_11eb_85ce_0242ac1c0002row65_col0\" class=\"data row65 col0\" >1109530.000000</td>\n",
              "                        <td id=\"T_db3a6760_1ead_11eb_85ce_0242ac1c0002row65_col1\" class=\"data row65 col1\" >1110312.969665</td>\n",
              "                        <td id=\"T_db3a6760_1ead_11eb_85ce_0242ac1c0002row65_col2\" class=\"data row65 col2\" >1233695.000000</td>\n",
              "                        <td id=\"T_db3a6760_1ead_11eb_85ce_0242ac1c0002row65_col3\" class=\"data row65 col3\" >1232947.753623</td>\n",
              "                        <td id=\"T_db3a6760_1ead_11eb_85ce_0242ac1c0002row65_col4\" class=\"data row65 col4\" >107820000.000000</td>\n",
              "                        <td id=\"T_db3a6760_1ead_11eb_85ce_0242ac1c0002row65_col5\" class=\"data row65 col5\" >107778648.622040</td>\n",
              "                        <td id=\"T_db3a6760_1ead_11eb_85ce_0242ac1c0002row65_col6\" class=\"data row65 col6\" >3021.125000</td>\n",
              "                        <td id=\"T_db3a6760_1ead_11eb_85ce_0242ac1c0002row65_col7\" class=\"data row65 col7\" >3018.517920</td>\n",
              "                        <td id=\"T_db3a6760_1ead_11eb_85ce_0242ac1c0002row65_col8\" class=\"data row65 col8\" >1732.400000</td>\n",
              "                        <td id=\"T_db3a6760_1ead_11eb_85ce_0242ac1c0002row65_col9\" class=\"data row65 col9\" >1733.358117</td>\n",
              "                        <td id=\"T_db3a6760_1ead_11eb_85ce_0242ac1c0002row65_col10\" class=\"data row65 col10\" >9566.500000</td>\n",
              "                        <td id=\"T_db3a6760_1ead_11eb_85ce_0242ac1c0002row65_col11\" class=\"data row65 col11\" >9515.579873</td>\n",
              "            </tr>\n",
              "            <tr>\n",
              "                        <th id=\"T_db3a6760_1ead_11eb_85ce_0242ac1c0002level0_row66\" class=\"row_heading level0 row66\" >2020-05-29 19:54:00</th>\n",
              "                        <td id=\"T_db3a6760_1ead_11eb_85ce_0242ac1c0002row66_col0\" class=\"data row66 col0\" >1109530.000000</td>\n",
              "                        <td id=\"T_db3a6760_1ead_11eb_85ce_0242ac1c0002row66_col1\" class=\"data row66 col1\" >1110312.419027</td>\n",
              "                        <td id=\"T_db3a6760_1ead_11eb_85ce_0242ac1c0002row66_col2\" class=\"data row66 col2\" >1233440.000000</td>\n",
              "                        <td id=\"T_db3a6760_1ead_11eb_85ce_0242ac1c0002row66_col3\" class=\"data row66 col3\" >1232948.602365</td>\n",
              "                        <td id=\"T_db3a6760_1ead_11eb_85ce_0242ac1c0002row66_col4\" class=\"data row66 col4\" >107808000.000000</td>\n",
              "                        <td id=\"T_db3a6760_1ead_11eb_85ce_0242ac1c0002row66_col5\" class=\"data row66 col5\" >107778634.802923</td>\n",
              "                        <td id=\"T_db3a6760_1ead_11eb_85ce_0242ac1c0002row66_col6\" class=\"data row66 col6\" >3020.125000</td>\n",
              "                        <td id=\"T_db3a6760_1ead_11eb_85ce_0242ac1c0002row66_col7\" class=\"data row66 col7\" >3018.513003</td>\n",
              "                        <td id=\"T_db3a6760_1ead_11eb_85ce_0242ac1c0002row66_col8\" class=\"data row66 col8\" >1732.550000</td>\n",
              "                        <td id=\"T_db3a6760_1ead_11eb_85ce_0242ac1c0002row66_col9\" class=\"data row66 col9\" >1733.356830</td>\n",
              "                        <td id=\"T_db3a6760_1ead_11eb_85ce_0242ac1c0002row66_col10\" class=\"data row66 col10\" >9562.750000</td>\n",
              "                        <td id=\"T_db3a6760_1ead_11eb_85ce_0242ac1c0002row66_col11\" class=\"data row66 col11\" >9515.556714</td>\n",
              "            </tr>\n",
              "            <tr>\n",
              "                        <th id=\"T_db3a6760_1ead_11eb_85ce_0242ac1c0002level0_row67\" class=\"row_heading level0 row67\" >2020-05-29 19:53:00</th>\n",
              "                        <td id=\"T_db3a6760_1ead_11eb_85ce_0242ac1c0002row67_col0\" class=\"data row67 col0\" >1109695.000000</td>\n",
              "                        <td id=\"T_db3a6760_1ead_11eb_85ce_0242ac1c0002row67_col1\" class=\"data row67 col1\" >1110311.868388</td>\n",
              "                        <td id=\"T_db3a6760_1ead_11eb_85ce_0242ac1c0002row67_col2\" class=\"data row67 col2\" >1233740.000000</td>\n",
              "                        <td id=\"T_db3a6760_1ead_11eb_85ce_0242ac1c0002row67_col3\" class=\"data row67 col3\" >1232949.451107</td>\n",
              "                        <td id=\"T_db3a6760_1ead_11eb_85ce_0242ac1c0002row67_col4\" class=\"data row67 col4\" >107791000.000000</td>\n",
              "                        <td id=\"T_db3a6760_1ead_11eb_85ce_0242ac1c0002row67_col5\" class=\"data row67 col5\" >107778620.983805</td>\n",
              "                        <td id=\"T_db3a6760_1ead_11eb_85ce_0242ac1c0002row67_col6\" class=\"data row67 col6\" >3020.375000</td>\n",
              "                        <td id=\"T_db3a6760_1ead_11eb_85ce_0242ac1c0002row67_col7\" class=\"data row67 col7\" >3018.508086</td>\n",
              "                        <td id=\"T_db3a6760_1ead_11eb_85ce_0242ac1c0002row67_col8\" class=\"data row67 col8\" >1732.650000</td>\n",
              "                        <td id=\"T_db3a6760_1ead_11eb_85ce_0242ac1c0002row67_col9\" class=\"data row67 col9\" >1733.355543</td>\n",
              "                        <td id=\"T_db3a6760_1ead_11eb_85ce_0242ac1c0002row67_col10\" class=\"data row67 col10\" >9557.000000</td>\n",
              "                        <td id=\"T_db3a6760_1ead_11eb_85ce_0242ac1c0002row67_col11\" class=\"data row67 col11\" >9515.533554</td>\n",
              "            </tr>\n",
              "            <tr>\n",
              "                        <th id=\"T_db3a6760_1ead_11eb_85ce_0242ac1c0002level0_row68\" class=\"row_heading level0 row68\" >2020-05-29 19:52:00</th>\n",
              "                        <td id=\"T_db3a6760_1ead_11eb_85ce_0242ac1c0002row68_col0\" class=\"data row68 col0\" >1109535.000000</td>\n",
              "                        <td id=\"T_db3a6760_1ead_11eb_85ce_0242ac1c0002row68_col1\" class=\"data row68 col1\" >1110311.317749</td>\n",
              "                        <td id=\"T_db3a6760_1ead_11eb_85ce_0242ac1c0002row68_col2\" class=\"data row68 col2\" >1233540.000000</td>\n",
              "                        <td id=\"T_db3a6760_1ead_11eb_85ce_0242ac1c0002row68_col3\" class=\"data row68 col3\" >1232950.299848</td>\n",
              "                        <td id=\"T_db3a6760_1ead_11eb_85ce_0242ac1c0002row68_col4\" class=\"data row68 col4\" >107797000.000000</td>\n",
              "                        <td id=\"T_db3a6760_1ead_11eb_85ce_0242ac1c0002row68_col5\" class=\"data row68 col5\" >107778607.164687</td>\n",
              "                        <td id=\"T_db3a6760_1ead_11eb_85ce_0242ac1c0002row68_col6\" class=\"data row68 col6\" >3020.000000</td>\n",
              "                        <td id=\"T_db3a6760_1ead_11eb_85ce_0242ac1c0002row68_col7\" class=\"data row68 col7\" >3018.503169</td>\n",
              "                        <td id=\"T_db3a6760_1ead_11eb_85ce_0242ac1c0002row68_col8\" class=\"data row68 col8\" >1732.700000</td>\n",
              "                        <td id=\"T_db3a6760_1ead_11eb_85ce_0242ac1c0002row68_col9\" class=\"data row68 col9\" >1733.354257</td>\n",
              "                        <td id=\"T_db3a6760_1ead_11eb_85ce_0242ac1c0002row68_col10\" class=\"data row68 col10\" >9556.500000</td>\n",
              "                        <td id=\"T_db3a6760_1ead_11eb_85ce_0242ac1c0002row68_col11\" class=\"data row68 col11\" >9515.510394</td>\n",
              "            </tr>\n",
              "            <tr>\n",
              "                        <th id=\"T_db3a6760_1ead_11eb_85ce_0242ac1c0002level0_row69\" class=\"row_heading level0 row69\" >2020-05-29 19:51:00</th>\n",
              "                        <td id=\"T_db3a6760_1ead_11eb_85ce_0242ac1c0002row69_col0\" class=\"data row69 col0\" >1109535.000000</td>\n",
              "                        <td id=\"T_db3a6760_1ead_11eb_85ce_0242ac1c0002row69_col1\" class=\"data row69 col1\" >1110310.767111</td>\n",
              "                        <td id=\"T_db3a6760_1ead_11eb_85ce_0242ac1c0002row69_col2\" class=\"data row69 col2\" >1233595.000000</td>\n",
              "                        <td id=\"T_db3a6760_1ead_11eb_85ce_0242ac1c0002row69_col3\" class=\"data row69 col3\" >1232951.148590</td>\n",
              "                        <td id=\"T_db3a6760_1ead_11eb_85ce_0242ac1c0002row69_col4\" class=\"data row69 col4\" >107779500.000000</td>\n",
              "                        <td id=\"T_db3a6760_1ead_11eb_85ce_0242ac1c0002row69_col5\" class=\"data row69 col5\" >107778593.345570</td>\n",
              "                        <td id=\"T_db3a6760_1ead_11eb_85ce_0242ac1c0002row69_col6\" class=\"data row69 col6\" >3020.000000</td>\n",
              "                        <td id=\"T_db3a6760_1ead_11eb_85ce_0242ac1c0002row69_col7\" class=\"data row69 col7\" >3018.498252</td>\n",
              "                        <td id=\"T_db3a6760_1ead_11eb_85ce_0242ac1c0002row69_col8\" class=\"data row69 col8\" >1732.800000</td>\n",
              "                        <td id=\"T_db3a6760_1ead_11eb_85ce_0242ac1c0002row69_col9\" class=\"data row69 col9\" >1733.352970</td>\n",
              "                        <td id=\"T_db3a6760_1ead_11eb_85ce_0242ac1c0002row69_col10\" class=\"data row69 col10\" >9554.375000</td>\n",
              "                        <td id=\"T_db3a6760_1ead_11eb_85ce_0242ac1c0002row69_col11\" class=\"data row69 col11\" >9515.487235</td>\n",
              "            </tr>\n",
              "            <tr>\n",
              "                        <th id=\"T_db3a6760_1ead_11eb_85ce_0242ac1c0002level0_row70\" class=\"row_heading level0 row70\" >2020-05-29 19:50:00</th>\n",
              "                        <td id=\"T_db3a6760_1ead_11eb_85ce_0242ac1c0002row70_col0\" class=\"data row70 col0\" >1109235.000000</td>\n",
              "                        <td id=\"T_db3a6760_1ead_11eb_85ce_0242ac1c0002row70_col1\" class=\"data row70 col1\" >1110310.216472</td>\n",
              "                        <td id=\"T_db3a6760_1ead_11eb_85ce_0242ac1c0002row70_col2\" class=\"data row70 col2\" >1233340.000000</td>\n",
              "                        <td id=\"T_db3a6760_1ead_11eb_85ce_0242ac1c0002row70_col3\" class=\"data row70 col3\" >1232951.997331</td>\n",
              "                        <td id=\"T_db3a6760_1ead_11eb_85ce_0242ac1c0002row70_col4\" class=\"data row70 col4\" >107781000.000000</td>\n",
              "                        <td id=\"T_db3a6760_1ead_11eb_85ce_0242ac1c0002row70_col5\" class=\"data row70 col5\" >107778579.526452</td>\n",
              "                        <td id=\"T_db3a6760_1ead_11eb_85ce_0242ac1c0002row70_col6\" class=\"data row70 col6\" >3017.375000</td>\n",
              "                        <td id=\"T_db3a6760_1ead_11eb_85ce_0242ac1c0002row70_col7\" class=\"data row70 col7\" >3018.493336</td>\n",
              "                        <td id=\"T_db3a6760_1ead_11eb_85ce_0242ac1c0002row70_col8\" class=\"data row70 col8\" >1733.000000</td>\n",
              "                        <td id=\"T_db3a6760_1ead_11eb_85ce_0242ac1c0002row70_col9\" class=\"data row70 col9\" >1733.351683</td>\n",
              "                        <td id=\"T_db3a6760_1ead_11eb_85ce_0242ac1c0002row70_col10\" class=\"data row70 col10\" >9543.375000</td>\n",
              "                        <td id=\"T_db3a6760_1ead_11eb_85ce_0242ac1c0002row70_col11\" class=\"data row70 col11\" >9515.464075</td>\n",
              "            </tr>\n",
              "            <tr>\n",
              "                        <th id=\"T_db3a6760_1ead_11eb_85ce_0242ac1c0002level0_row71\" class=\"row_heading level0 row71\" >2020-05-29 19:49:00</th>\n",
              "                        <td id=\"T_db3a6760_1ead_11eb_85ce_0242ac1c0002row71_col0\" class=\"data row71 col0\" >1109135.000000</td>\n",
              "                        <td id=\"T_db3a6760_1ead_11eb_85ce_0242ac1c0002row71_col1\" class=\"data row71 col1\" >1110309.665833</td>\n",
              "                        <td id=\"T_db3a6760_1ead_11eb_85ce_0242ac1c0002row71_col2\" class=\"data row71 col2\" >1233240.000000</td>\n",
              "                        <td id=\"T_db3a6760_1ead_11eb_85ce_0242ac1c0002row71_col3\" class=\"data row71 col3\" >1232952.846073</td>\n",
              "                        <td id=\"T_db3a6760_1ead_11eb_85ce_0242ac1c0002row71_col4\" class=\"data row71 col4\" >107780000.000000</td>\n",
              "                        <td id=\"T_db3a6760_1ead_11eb_85ce_0242ac1c0002row71_col5\" class=\"data row71 col5\" >107778565.707335</td>\n",
              "                        <td id=\"T_db3a6760_1ead_11eb_85ce_0242ac1c0002row71_col6\" class=\"data row71 col6\" >3014.250000</td>\n",
              "                        <td id=\"T_db3a6760_1ead_11eb_85ce_0242ac1c0002row71_col7\" class=\"data row71 col7\" >3018.488419</td>\n",
              "                        <td id=\"T_db3a6760_1ead_11eb_85ce_0242ac1c0002row71_col8\" class=\"data row71 col8\" >1732.650000</td>\n",
              "                        <td id=\"T_db3a6760_1ead_11eb_85ce_0242ac1c0002row71_col9\" class=\"data row71 col9\" >1733.350397</td>\n",
              "                        <td id=\"T_db3a6760_1ead_11eb_85ce_0242ac1c0002row71_col10\" class=\"data row71 col10\" >9521.750000</td>\n",
              "                        <td id=\"T_db3a6760_1ead_11eb_85ce_0242ac1c0002row71_col11\" class=\"data row71 col11\" >9515.440916</td>\n",
              "            </tr>\n",
              "            <tr>\n",
              "                        <th id=\"T_db3a6760_1ead_11eb_85ce_0242ac1c0002level0_row72\" class=\"row_heading level0 row72\" >2020-05-29 19:48:00</th>\n",
              "                        <td id=\"T_db3a6760_1ead_11eb_85ce_0242ac1c0002row72_col0\" class=\"data row72 col0\" >1108935.000000</td>\n",
              "                        <td id=\"T_db3a6760_1ead_11eb_85ce_0242ac1c0002row72_col1\" class=\"data row72 col1\" >1110309.115195</td>\n",
              "                        <td id=\"T_db3a6760_1ead_11eb_85ce_0242ac1c0002row72_col2\" class=\"data row72 col2\" >1232940.000000</td>\n",
              "                        <td id=\"T_db3a6760_1ead_11eb_85ce_0242ac1c0002row72_col3\" class=\"data row72 col3\" >1232953.694814</td>\n",
              "                        <td id=\"T_db3a6760_1ead_11eb_85ce_0242ac1c0002row72_col4\" class=\"data row72 col4\" >107780000.000000</td>\n",
              "                        <td id=\"T_db3a6760_1ead_11eb_85ce_0242ac1c0002row72_col5\" class=\"data row72 col5\" >107778551.888217</td>\n",
              "                        <td id=\"T_db3a6760_1ead_11eb_85ce_0242ac1c0002row72_col6\" class=\"data row72 col6\" >3014.875000</td>\n",
              "                        <td id=\"T_db3a6760_1ead_11eb_85ce_0242ac1c0002row72_col7\" class=\"data row72 col7\" >3018.483502</td>\n",
              "                        <td id=\"T_db3a6760_1ead_11eb_85ce_0242ac1c0002row72_col8\" class=\"data row72 col8\" >1732.450000</td>\n",
              "                        <td id=\"T_db3a6760_1ead_11eb_85ce_0242ac1c0002row72_col9\" class=\"data row72 col9\" >1733.349110</td>\n",
              "                        <td id=\"T_db3a6760_1ead_11eb_85ce_0242ac1c0002row72_col10\" class=\"data row72 col10\" >9527.500000</td>\n",
              "                        <td id=\"T_db3a6760_1ead_11eb_85ce_0242ac1c0002row72_col11\" class=\"data row72 col11\" >9515.417756</td>\n",
              "            </tr>\n",
              "            <tr>\n",
              "                        <th id=\"T_db3a6760_1ead_11eb_85ce_0242ac1c0002level0_row73\" class=\"row_heading level0 row73\" >2020-05-29 19:47:00</th>\n",
              "                        <td id=\"T_db3a6760_1ead_11eb_85ce_0242ac1c0002row73_col0\" class=\"data row73 col0\" >1109235.000000</td>\n",
              "                        <td id=\"T_db3a6760_1ead_11eb_85ce_0242ac1c0002row73_col1\" class=\"data row73 col1\" >1110308.564556</td>\n",
              "                        <td id=\"T_db3a6760_1ead_11eb_85ce_0242ac1c0002row73_col2\" class=\"data row73 col2\" >1233140.000000</td>\n",
              "                        <td id=\"T_db3a6760_1ead_11eb_85ce_0242ac1c0002row73_col3\" class=\"data row73 col3\" >1232954.543556</td>\n",
              "                        <td id=\"T_db3a6760_1ead_11eb_85ce_0242ac1c0002row73_col4\" class=\"data row73 col4\" >107779500.000000</td>\n",
              "                        <td id=\"T_db3a6760_1ead_11eb_85ce_0242ac1c0002row73_col5\" class=\"data row73 col5\" >107778538.069099</td>\n",
              "                        <td id=\"T_db3a6760_1ead_11eb_85ce_0242ac1c0002row73_col6\" class=\"data row73 col6\" >3016.000000</td>\n",
              "                        <td id=\"T_db3a6760_1ead_11eb_85ce_0242ac1c0002row73_col7\" class=\"data row73 col7\" >3018.478585</td>\n",
              "                        <td id=\"T_db3a6760_1ead_11eb_85ce_0242ac1c0002row73_col8\" class=\"data row73 col8\" >1732.500000</td>\n",
              "                        <td id=\"T_db3a6760_1ead_11eb_85ce_0242ac1c0002row73_col9\" class=\"data row73 col9\" >1733.347823</td>\n",
              "                        <td id=\"T_db3a6760_1ead_11eb_85ce_0242ac1c0002row73_col10\" class=\"data row73 col10\" >9534.500000</td>\n",
              "                        <td id=\"T_db3a6760_1ead_11eb_85ce_0242ac1c0002row73_col11\" class=\"data row73 col11\" >9515.394596</td>\n",
              "            </tr>\n",
              "            <tr>\n",
              "                        <th id=\"T_db3a6760_1ead_11eb_85ce_0242ac1c0002level0_row74\" class=\"row_heading level0 row74\" >2020-05-29 19:46:00</th>\n",
              "                        <td id=\"T_db3a6760_1ead_11eb_85ce_0242ac1c0002row74_col0\" class=\"data row74 col0\" >1109435.000000</td>\n",
              "                        <td id=\"T_db3a6760_1ead_11eb_85ce_0242ac1c0002row74_col1\" class=\"data row74 col1\" >1110308.013917</td>\n",
              "                        <td id=\"T_db3a6760_1ead_11eb_85ce_0242ac1c0002row74_col2\" class=\"data row74 col2\" >1233340.000000</td>\n",
              "                        <td id=\"T_db3a6760_1ead_11eb_85ce_0242ac1c0002row74_col3\" class=\"data row74 col3\" >1232955.392298</td>\n",
              "                        <td id=\"T_db3a6760_1ead_11eb_85ce_0242ac1c0002row74_col4\" class=\"data row74 col4\" >107772500.000000</td>\n",
              "                        <td id=\"T_db3a6760_1ead_11eb_85ce_0242ac1c0002row74_col5\" class=\"data row74 col5\" >107778524.249982</td>\n",
              "                        <td id=\"T_db3a6760_1ead_11eb_85ce_0242ac1c0002row74_col6\" class=\"data row74 col6\" >3016.750000</td>\n",
              "                        <td id=\"T_db3a6760_1ead_11eb_85ce_0242ac1c0002row74_col7\" class=\"data row74 col7\" >3018.473669</td>\n",
              "                        <td id=\"T_db3a6760_1ead_11eb_85ce_0242ac1c0002row74_col8\" class=\"data row74 col8\" >1732.600000</td>\n",
              "                        <td id=\"T_db3a6760_1ead_11eb_85ce_0242ac1c0002row74_col9\" class=\"data row74 col9\" >1733.346536</td>\n",
              "                        <td id=\"T_db3a6760_1ead_11eb_85ce_0242ac1c0002row74_col10\" class=\"data row74 col10\" >9537.250000</td>\n",
              "                        <td id=\"T_db3a6760_1ead_11eb_85ce_0242ac1c0002row74_col11\" class=\"data row74 col11\" >9515.371437</td>\n",
              "            </tr>\n",
              "            <tr>\n",
              "                        <th id=\"T_db3a6760_1ead_11eb_85ce_0242ac1c0002level0_row75\" class=\"row_heading level0 row75\" >2020-05-29 19:45:00</th>\n",
              "                        <td id=\"T_db3a6760_1ead_11eb_85ce_0242ac1c0002row75_col0\" class=\"data row75 col0\" >1109510.000000</td>\n",
              "                        <td id=\"T_db3a6760_1ead_11eb_85ce_0242ac1c0002row75_col1\" class=\"data row75 col1\" >1110307.463279</td>\n",
              "                        <td id=\"T_db3a6760_1ead_11eb_85ce_0242ac1c0002row75_col2\" class=\"data row75 col2\" >1233240.000000</td>\n",
              "                        <td id=\"T_db3a6760_1ead_11eb_85ce_0242ac1c0002row75_col3\" class=\"data row75 col3\" >1232956.241039</td>\n",
              "                        <td id=\"T_db3a6760_1ead_11eb_85ce_0242ac1c0002row75_col4\" class=\"data row75 col4\" >107773500.000000</td>\n",
              "                        <td id=\"T_db3a6760_1ead_11eb_85ce_0242ac1c0002row75_col5\" class=\"data row75 col5\" >107778510.430864</td>\n",
              "                        <td id=\"T_db3a6760_1ead_11eb_85ce_0242ac1c0002row75_col6\" class=\"data row75 col6\" >3015.750000</td>\n",
              "                        <td id=\"T_db3a6760_1ead_11eb_85ce_0242ac1c0002row75_col7\" class=\"data row75 col7\" >3018.468752</td>\n",
              "                        <td id=\"T_db3a6760_1ead_11eb_85ce_0242ac1c0002row75_col8\" class=\"data row75 col8\" >1732.350000</td>\n",
              "                        <td id=\"T_db3a6760_1ead_11eb_85ce_0242ac1c0002row75_col9\" class=\"data row75 col9\" >1733.345250</td>\n",
              "                        <td id=\"T_db3a6760_1ead_11eb_85ce_0242ac1c0002row75_col10\" class=\"data row75 col10\" >9532.000000</td>\n",
              "                        <td id=\"T_db3a6760_1ead_11eb_85ce_0242ac1c0002row75_col11\" class=\"data row75 col11\" >9515.348277</td>\n",
              "            </tr>\n",
              "            <tr>\n",
              "                        <th id=\"T_db3a6760_1ead_11eb_85ce_0242ac1c0002level0_row76\" class=\"row_heading level0 row76\" >2020-05-29 19:44:00</th>\n",
              "                        <td id=\"T_db3a6760_1ead_11eb_85ce_0242ac1c0002row76_col0\" class=\"data row76 col0\" >1109535.000000</td>\n",
              "                        <td id=\"T_db3a6760_1ead_11eb_85ce_0242ac1c0002row76_col1\" class=\"data row76 col1\" >1110306.912640</td>\n",
              "                        <td id=\"T_db3a6760_1ead_11eb_85ce_0242ac1c0002row76_col2\" class=\"data row76 col2\" >1233495.000000</td>\n",
              "                        <td id=\"T_db3a6760_1ead_11eb_85ce_0242ac1c0002row76_col3\" class=\"data row76 col3\" >1232957.089781</td>\n",
              "                        <td id=\"T_db3a6760_1ead_11eb_85ce_0242ac1c0002row76_col4\" class=\"data row76 col4\" >107780000.000000</td>\n",
              "                        <td id=\"T_db3a6760_1ead_11eb_85ce_0242ac1c0002row76_col5\" class=\"data row76 col5\" >107778496.611746</td>\n",
              "                        <td id=\"T_db3a6760_1ead_11eb_85ce_0242ac1c0002row76_col6\" class=\"data row76 col6\" >3016.750000</td>\n",
              "                        <td id=\"T_db3a6760_1ead_11eb_85ce_0242ac1c0002row76_col7\" class=\"data row76 col7\" >3018.463835</td>\n",
              "                        <td id=\"T_db3a6760_1ead_11eb_85ce_0242ac1c0002row76_col8\" class=\"data row76 col8\" >1732.100000</td>\n",
              "                        <td id=\"T_db3a6760_1ead_11eb_85ce_0242ac1c0002row76_col9\" class=\"data row76 col9\" >1733.343963</td>\n",
              "                        <td id=\"T_db3a6760_1ead_11eb_85ce_0242ac1c0002row76_col10\" class=\"data row76 col10\" >9534.500000</td>\n",
              "                        <td id=\"T_db3a6760_1ead_11eb_85ce_0242ac1c0002row76_col11\" class=\"data row76 col11\" >9515.325118</td>\n",
              "            </tr>\n",
              "            <tr>\n",
              "                        <th id=\"T_db3a6760_1ead_11eb_85ce_0242ac1c0002level0_row77\" class=\"row_heading level0 row77\" >2020-05-29 19:43:00</th>\n",
              "                        <td id=\"T_db3a6760_1ead_11eb_85ce_0242ac1c0002row77_col0\" class=\"data row77 col0\" >1109335.000000</td>\n",
              "                        <td id=\"T_db3a6760_1ead_11eb_85ce_0242ac1c0002row77_col1\" class=\"data row77 col1\" >1110306.362001</td>\n",
              "                        <td id=\"T_db3a6760_1ead_11eb_85ce_0242ac1c0002row77_col2\" class=\"data row77 col2\" >1233180.000000</td>\n",
              "                        <td id=\"T_db3a6760_1ead_11eb_85ce_0242ac1c0002row77_col3\" class=\"data row77 col3\" >1232957.938522</td>\n",
              "                        <td id=\"T_db3a6760_1ead_11eb_85ce_0242ac1c0002row77_col4\" class=\"data row77 col4\" >107780000.000000</td>\n",
              "                        <td id=\"T_db3a6760_1ead_11eb_85ce_0242ac1c0002row77_col5\" class=\"data row77 col5\" >107778482.792629</td>\n",
              "                        <td id=\"T_db3a6760_1ead_11eb_85ce_0242ac1c0002row77_col6\" class=\"data row77 col6\" >3015.750000</td>\n",
              "                        <td id=\"T_db3a6760_1ead_11eb_85ce_0242ac1c0002row77_col7\" class=\"data row77 col7\" >3018.458918</td>\n",
              "                        <td id=\"T_db3a6760_1ead_11eb_85ce_0242ac1c0002row77_col8\" class=\"data row77 col8\" >1732.100000</td>\n",
              "                        <td id=\"T_db3a6760_1ead_11eb_85ce_0242ac1c0002row77_col9\" class=\"data row77 col9\" >1733.342676</td>\n",
              "                        <td id=\"T_db3a6760_1ead_11eb_85ce_0242ac1c0002row77_col10\" class=\"data row77 col10\" >9530.500000</td>\n",
              "                        <td id=\"T_db3a6760_1ead_11eb_85ce_0242ac1c0002row77_col11\" class=\"data row77 col11\" >9515.301958</td>\n",
              "            </tr>\n",
              "            <tr>\n",
              "                        <th id=\"T_db3a6760_1ead_11eb_85ce_0242ac1c0002level0_row78\" class=\"row_heading level0 row78\" >2020-05-29 19:42:00</th>\n",
              "                        <td id=\"T_db3a6760_1ead_11eb_85ce_0242ac1c0002row78_col0\" class=\"data row78 col0\" >1109385.000000</td>\n",
              "                        <td id=\"T_db3a6760_1ead_11eb_85ce_0242ac1c0002row78_col1\" class=\"data row78 col1\" >1110305.811363</td>\n",
              "                        <td id=\"T_db3a6760_1ead_11eb_85ce_0242ac1c0002row78_col2\" class=\"data row78 col2\" >1232940.000000</td>\n",
              "                        <td id=\"T_db3a6760_1ead_11eb_85ce_0242ac1c0002row78_col3\" class=\"data row78 col3\" >1232958.787264</td>\n",
              "                        <td id=\"T_db3a6760_1ead_11eb_85ce_0242ac1c0002row78_col4\" class=\"data row78 col4\" >107785500.000000</td>\n",
              "                        <td id=\"T_db3a6760_1ead_11eb_85ce_0242ac1c0002row78_col5\" class=\"data row78 col5\" >107778468.973511</td>\n",
              "                        <td id=\"T_db3a6760_1ead_11eb_85ce_0242ac1c0002row78_col6\" class=\"data row78 col6\" >3015.875000</td>\n",
              "                        <td id=\"T_db3a6760_1ead_11eb_85ce_0242ac1c0002row78_col7\" class=\"data row78 col7\" >3018.454001</td>\n",
              "                        <td id=\"T_db3a6760_1ead_11eb_85ce_0242ac1c0002row78_col8\" class=\"data row78 col8\" >1732.300000</td>\n",
              "                        <td id=\"T_db3a6760_1ead_11eb_85ce_0242ac1c0002row78_col9\" class=\"data row78 col9\" >1733.341390</td>\n",
              "                        <td id=\"T_db3a6760_1ead_11eb_85ce_0242ac1c0002row78_col10\" class=\"data row78 col10\" >9530.750000</td>\n",
              "                        <td id=\"T_db3a6760_1ead_11eb_85ce_0242ac1c0002row78_col11\" class=\"data row78 col11\" >9515.278799</td>\n",
              "            </tr>\n",
              "            <tr>\n",
              "                        <th id=\"T_db3a6760_1ead_11eb_85ce_0242ac1c0002level0_row79\" class=\"row_heading level0 row79\" >2020-05-29 19:41:00</th>\n",
              "                        <td id=\"T_db3a6760_1ead_11eb_85ce_0242ac1c0002row79_col0\" class=\"data row79 col0\" >1109335.000000</td>\n",
              "                        <td id=\"T_db3a6760_1ead_11eb_85ce_0242ac1c0002row79_col1\" class=\"data row79 col1\" >1110305.260724</td>\n",
              "                        <td id=\"T_db3a6760_1ead_11eb_85ce_0242ac1c0002row79_col2\" class=\"data row79 col2\" >1232930.000000</td>\n",
              "                        <td id=\"T_db3a6760_1ead_11eb_85ce_0242ac1c0002row79_col3\" class=\"data row79 col3\" >1232959.636005</td>\n",
              "                        <td id=\"T_db3a6760_1ead_11eb_85ce_0242ac1c0002row79_col4\" class=\"data row79 col4\" >107776500.000000</td>\n",
              "                        <td id=\"T_db3a6760_1ead_11eb_85ce_0242ac1c0002row79_col5\" class=\"data row79 col5\" >107778455.154394</td>\n",
              "                        <td id=\"T_db3a6760_1ead_11eb_85ce_0242ac1c0002row79_col6\" class=\"data row79 col6\" >3016.125000</td>\n",
              "                        <td id=\"T_db3a6760_1ead_11eb_85ce_0242ac1c0002row79_col7\" class=\"data row79 col7\" >3018.449085</td>\n",
              "                        <td id=\"T_db3a6760_1ead_11eb_85ce_0242ac1c0002row79_col8\" class=\"data row79 col8\" >1732.250000</td>\n",
              "                        <td id=\"T_db3a6760_1ead_11eb_85ce_0242ac1c0002row79_col9\" class=\"data row79 col9\" >1733.340103</td>\n",
              "                        <td id=\"T_db3a6760_1ead_11eb_85ce_0242ac1c0002row79_col10\" class=\"data row79 col10\" >9529.750000</td>\n",
              "                        <td id=\"T_db3a6760_1ead_11eb_85ce_0242ac1c0002row79_col11\" class=\"data row79 col11\" >9515.255639</td>\n",
              "            </tr>\n",
              "            <tr>\n",
              "                        <th id=\"T_db3a6760_1ead_11eb_85ce_0242ac1c0002level0_row80\" class=\"row_heading level0 row80\" >2020-05-29 19:40:00</th>\n",
              "                        <td id=\"T_db3a6760_1ead_11eb_85ce_0242ac1c0002row80_col0\" class=\"data row80 col0\" >1109235.000000</td>\n",
              "                        <td id=\"T_db3a6760_1ead_11eb_85ce_0242ac1c0002row80_col1\" class=\"data row80 col1\" >1110304.710085</td>\n",
              "                        <td id=\"T_db3a6760_1ead_11eb_85ce_0242ac1c0002row80_col2\" class=\"data row80 col2\" >1232390.000000</td>\n",
              "                        <td id=\"T_db3a6760_1ead_11eb_85ce_0242ac1c0002row80_col3\" class=\"data row80 col3\" >1232960.484747</td>\n",
              "                        <td id=\"T_db3a6760_1ead_11eb_85ce_0242ac1c0002row80_col4\" class=\"data row80 col4\" >107779500.000000</td>\n",
              "                        <td id=\"T_db3a6760_1ead_11eb_85ce_0242ac1c0002row80_col5\" class=\"data row80 col5\" >107778441.335276</td>\n",
              "                        <td id=\"T_db3a6760_1ead_11eb_85ce_0242ac1c0002row80_col6\" class=\"data row80 col6\" >3016.375000</td>\n",
              "                        <td id=\"T_db3a6760_1ead_11eb_85ce_0242ac1c0002row80_col7\" class=\"data row80 col7\" >3018.444168</td>\n",
              "                        <td id=\"T_db3a6760_1ead_11eb_85ce_0242ac1c0002row80_col8\" class=\"data row80 col8\" >1732.200000</td>\n",
              "                        <td id=\"T_db3a6760_1ead_11eb_85ce_0242ac1c0002row80_col9\" class=\"data row80 col9\" >1733.338816</td>\n",
              "                        <td id=\"T_db3a6760_1ead_11eb_85ce_0242ac1c0002row80_col10\" class=\"data row80 col10\" >9529.750000</td>\n",
              "                        <td id=\"T_db3a6760_1ead_11eb_85ce_0242ac1c0002row80_col11\" class=\"data row80 col11\" >9515.232479</td>\n",
              "            </tr>\n",
              "            <tr>\n",
              "                        <th id=\"T_db3a6760_1ead_11eb_85ce_0242ac1c0002level0_row81\" class=\"row_heading level0 row81\" >2020-05-29 19:39:00</th>\n",
              "                        <td id=\"T_db3a6760_1ead_11eb_85ce_0242ac1c0002row81_col0\" class=\"data row81 col0\" >1109285.000000</td>\n",
              "                        <td id=\"T_db3a6760_1ead_11eb_85ce_0242ac1c0002row81_col1\" class=\"data row81 col1\" >1110304.159447</td>\n",
              "                        <td id=\"T_db3a6760_1ead_11eb_85ce_0242ac1c0002row81_col2\" class=\"data row81 col2\" >1232285.000000</td>\n",
              "                        <td id=\"T_db3a6760_1ead_11eb_85ce_0242ac1c0002row81_col3\" class=\"data row81 col3\" >1232961.333488</td>\n",
              "                        <td id=\"T_db3a6760_1ead_11eb_85ce_0242ac1c0002row81_col4\" class=\"data row81 col4\" >107780000.000000</td>\n",
              "                        <td id=\"T_db3a6760_1ead_11eb_85ce_0242ac1c0002row81_col5\" class=\"data row81 col5\" >107778427.516158</td>\n",
              "                        <td id=\"T_db3a6760_1ead_11eb_85ce_0242ac1c0002row81_col6\" class=\"data row81 col6\" >3016.500000</td>\n",
              "                        <td id=\"T_db3a6760_1ead_11eb_85ce_0242ac1c0002row81_col7\" class=\"data row81 col7\" >3018.439251</td>\n",
              "                        <td id=\"T_db3a6760_1ead_11eb_85ce_0242ac1c0002row81_col8\" class=\"data row81 col8\" >1732.150000</td>\n",
              "                        <td id=\"T_db3a6760_1ead_11eb_85ce_0242ac1c0002row81_col9\" class=\"data row81 col9\" >1733.337530</td>\n",
              "                        <td id=\"T_db3a6760_1ead_11eb_85ce_0242ac1c0002row81_col10\" class=\"data row81 col10\" >9529.250000</td>\n",
              "                        <td id=\"T_db3a6760_1ead_11eb_85ce_0242ac1c0002row81_col11\" class=\"data row81 col11\" >9515.209320</td>\n",
              "            </tr>\n",
              "            <tr>\n",
              "                        <th id=\"T_db3a6760_1ead_11eb_85ce_0242ac1c0002level0_row82\" class=\"row_heading level0 row82\" >2020-05-29 19:38:00</th>\n",
              "                        <td id=\"T_db3a6760_1ead_11eb_85ce_0242ac1c0002row82_col0\" class=\"data row82 col0\" >1109335.000000</td>\n",
              "                        <td id=\"T_db3a6760_1ead_11eb_85ce_0242ac1c0002row82_col1\" class=\"data row82 col1\" >1110303.608808</td>\n",
              "                        <td id=\"T_db3a6760_1ead_11eb_85ce_0242ac1c0002row82_col2\" class=\"data row82 col2\" >1232280.000000</td>\n",
              "                        <td id=\"T_db3a6760_1ead_11eb_85ce_0242ac1c0002row82_col3\" class=\"data row82 col3\" >1232962.182230</td>\n",
              "                        <td id=\"T_db3a6760_1ead_11eb_85ce_0242ac1c0002row82_col4\" class=\"data row82 col4\" >107778000.000000</td>\n",
              "                        <td id=\"T_db3a6760_1ead_11eb_85ce_0242ac1c0002row82_col5\" class=\"data row82 col5\" >107778413.697041</td>\n",
              "                        <td id=\"T_db3a6760_1ead_11eb_85ce_0242ac1c0002row82_col6\" class=\"data row82 col6\" >3015.375000</td>\n",
              "                        <td id=\"T_db3a6760_1ead_11eb_85ce_0242ac1c0002row82_col7\" class=\"data row82 col7\" >3018.434334</td>\n",
              "                        <td id=\"T_db3a6760_1ead_11eb_85ce_0242ac1c0002row82_col8\" class=\"data row82 col8\" >1732.050000</td>\n",
              "                        <td id=\"T_db3a6760_1ead_11eb_85ce_0242ac1c0002row82_col9\" class=\"data row82 col9\" >1733.336243</td>\n",
              "                        <td id=\"T_db3a6760_1ead_11eb_85ce_0242ac1c0002row82_col10\" class=\"data row82 col10\" >9521.000000</td>\n",
              "                        <td id=\"T_db3a6760_1ead_11eb_85ce_0242ac1c0002row82_col11\" class=\"data row82 col11\" >9515.186160</td>\n",
              "            </tr>\n",
              "            <tr>\n",
              "                        <th id=\"T_db3a6760_1ead_11eb_85ce_0242ac1c0002level0_row83\" class=\"row_heading level0 row83\" >2020-05-29 19:37:00</th>\n",
              "                        <td id=\"T_db3a6760_1ead_11eb_85ce_0242ac1c0002row83_col0\" class=\"data row83 col0\" >1109285.000000</td>\n",
              "                        <td id=\"T_db3a6760_1ead_11eb_85ce_0242ac1c0002row83_col1\" class=\"data row83 col1\" >1110303.058169</td>\n",
              "                        <td id=\"T_db3a6760_1ead_11eb_85ce_0242ac1c0002row83_col2\" class=\"data row83 col2\" >1232190.000000</td>\n",
              "                        <td id=\"T_db3a6760_1ead_11eb_85ce_0242ac1c0002row83_col3\" class=\"data row83 col3\" >1232963.030972</td>\n",
              "                        <td id=\"T_db3a6760_1ead_11eb_85ce_0242ac1c0002row83_col4\" class=\"data row83 col4\" >107779500.000000</td>\n",
              "                        <td id=\"T_db3a6760_1ead_11eb_85ce_0242ac1c0002row83_col5\" class=\"data row83 col5\" >107778399.877923</td>\n",
              "                        <td id=\"T_db3a6760_1ead_11eb_85ce_0242ac1c0002row83_col6\" class=\"data row83 col6\" >3014.625000</td>\n",
              "                        <td id=\"T_db3a6760_1ead_11eb_85ce_0242ac1c0002row83_col7\" class=\"data row83 col7\" >3018.429418</td>\n",
              "                        <td id=\"T_db3a6760_1ead_11eb_85ce_0242ac1c0002row83_col8\" class=\"data row83 col8\" >1731.950000</td>\n",
              "                        <td id=\"T_db3a6760_1ead_11eb_85ce_0242ac1c0002row83_col9\" class=\"data row83 col9\" >1733.334956</td>\n",
              "                        <td id=\"T_db3a6760_1ead_11eb_85ce_0242ac1c0002row83_col10\" class=\"data row83 col10\" >9518.750000</td>\n",
              "                        <td id=\"T_db3a6760_1ead_11eb_85ce_0242ac1c0002row83_col11\" class=\"data row83 col11\" >9515.163001</td>\n",
              "            </tr>\n",
              "            <tr>\n",
              "                        <th id=\"T_db3a6760_1ead_11eb_85ce_0242ac1c0002level0_row84\" class=\"row_heading level0 row84\" >2020-05-29 19:36:00</th>\n",
              "                        <td id=\"T_db3a6760_1ead_11eb_85ce_0242ac1c0002row84_col0\" class=\"data row84 col0\" >1109285.000000</td>\n",
              "                        <td id=\"T_db3a6760_1ead_11eb_85ce_0242ac1c0002row84_col1\" class=\"data row84 col1\" >1110302.507531</td>\n",
              "                        <td id=\"T_db3a6760_1ead_11eb_85ce_0242ac1c0002row84_col2\" class=\"data row84 col2\" >1232185.000000</td>\n",
              "                        <td id=\"T_db3a6760_1ead_11eb_85ce_0242ac1c0002row84_col3\" class=\"data row84 col3\" >1232963.879713</td>\n",
              "                        <td id=\"T_db3a6760_1ead_11eb_85ce_0242ac1c0002row84_col4\" class=\"data row84 col4\" >107779500.000000</td>\n",
              "                        <td id=\"T_db3a6760_1ead_11eb_85ce_0242ac1c0002row84_col5\" class=\"data row84 col5\" >107778386.058805</td>\n",
              "                        <td id=\"T_db3a6760_1ead_11eb_85ce_0242ac1c0002row84_col6\" class=\"data row84 col6\" >3015.250000</td>\n",
              "                        <td id=\"T_db3a6760_1ead_11eb_85ce_0242ac1c0002row84_col7\" class=\"data row84 col7\" >3018.424501</td>\n",
              "                        <td id=\"T_db3a6760_1ead_11eb_85ce_0242ac1c0002row84_col8\" class=\"data row84 col8\" >1732.000000</td>\n",
              "                        <td id=\"T_db3a6760_1ead_11eb_85ce_0242ac1c0002row84_col9\" class=\"data row84 col9\" >1733.333669</td>\n",
              "                        <td id=\"T_db3a6760_1ead_11eb_85ce_0242ac1c0002row84_col10\" class=\"data row84 col10\" >9521.500000</td>\n",
              "                        <td id=\"T_db3a6760_1ead_11eb_85ce_0242ac1c0002row84_col11\" class=\"data row84 col11\" >9515.139841</td>\n",
              "            </tr>\n",
              "            <tr>\n",
              "                        <th id=\"T_db3a6760_1ead_11eb_85ce_0242ac1c0002level0_row85\" class=\"row_heading level0 row85\" >2020-05-29 19:35:00</th>\n",
              "                        <td id=\"T_db3a6760_1ead_11eb_85ce_0242ac1c0002row85_col0\" class=\"data row85 col0\" >1109185.000000</td>\n",
              "                        <td id=\"T_db3a6760_1ead_11eb_85ce_0242ac1c0002row85_col1\" class=\"data row85 col1\" >1110301.956892</td>\n",
              "                        <td id=\"T_db3a6760_1ead_11eb_85ce_0242ac1c0002row85_col2\" class=\"data row85 col2\" >1232490.000000</td>\n",
              "                        <td id=\"T_db3a6760_1ead_11eb_85ce_0242ac1c0002row85_col3\" class=\"data row85 col3\" >1232964.728455</td>\n",
              "                        <td id=\"T_db3a6760_1ead_11eb_85ce_0242ac1c0002row85_col4\" class=\"data row85 col4\" >107790000.000000</td>\n",
              "                        <td id=\"T_db3a6760_1ead_11eb_85ce_0242ac1c0002row85_col5\" class=\"data row85 col5\" >107778372.239688</td>\n",
              "                        <td id=\"T_db3a6760_1ead_11eb_85ce_0242ac1c0002row85_col6\" class=\"data row85 col6\" >3015.500000</td>\n",
              "                        <td id=\"T_db3a6760_1ead_11eb_85ce_0242ac1c0002row85_col7\" class=\"data row85 col7\" >3018.419584</td>\n",
              "                        <td id=\"T_db3a6760_1ead_11eb_85ce_0242ac1c0002row85_col8\" class=\"data row85 col8\" >1732.000000</td>\n",
              "                        <td id=\"T_db3a6760_1ead_11eb_85ce_0242ac1c0002row85_col9\" class=\"data row85 col9\" >1733.332383</td>\n",
              "                        <td id=\"T_db3a6760_1ead_11eb_85ce_0242ac1c0002row85_col10\" class=\"data row85 col10\" >9519.875000</td>\n",
              "                        <td id=\"T_db3a6760_1ead_11eb_85ce_0242ac1c0002row85_col11\" class=\"data row85 col11\" >9515.116682</td>\n",
              "            </tr>\n",
              "            <tr>\n",
              "                        <th id=\"T_db3a6760_1ead_11eb_85ce_0242ac1c0002level0_row86\" class=\"row_heading level0 row86\" >2020-05-29 19:34:00</th>\n",
              "                        <td id=\"T_db3a6760_1ead_11eb_85ce_0242ac1c0002row86_col0\" class=\"data row86 col0\" >1109235.000000</td>\n",
              "                        <td id=\"T_db3a6760_1ead_11eb_85ce_0242ac1c0002row86_col1\" class=\"data row86 col1\" >1110301.406253</td>\n",
              "                        <td id=\"T_db3a6760_1ead_11eb_85ce_0242ac1c0002row86_col2\" class=\"data row86 col2\" >1232290.000000</td>\n",
              "                        <td id=\"T_db3a6760_1ead_11eb_85ce_0242ac1c0002row86_col3\" class=\"data row86 col3\" >1232965.577196</td>\n",
              "                        <td id=\"T_db3a6760_1ead_11eb_85ce_0242ac1c0002row86_col4\" class=\"data row86 col4\" >107791000.000000</td>\n",
              "                        <td id=\"T_db3a6760_1ead_11eb_85ce_0242ac1c0002row86_col5\" class=\"data row86 col5\" >107778358.420570</td>\n",
              "                        <td id=\"T_db3a6760_1ead_11eb_85ce_0242ac1c0002row86_col6\" class=\"data row86 col6\" >3015.125000</td>\n",
              "                        <td id=\"T_db3a6760_1ead_11eb_85ce_0242ac1c0002row86_col7\" class=\"data row86 col7\" >3018.414667</td>\n",
              "                        <td id=\"T_db3a6760_1ead_11eb_85ce_0242ac1c0002row86_col8\" class=\"data row86 col8\" >1732.100000</td>\n",
              "                        <td id=\"T_db3a6760_1ead_11eb_85ce_0242ac1c0002row86_col9\" class=\"data row86 col9\" >1733.331096</td>\n",
              "                        <td id=\"T_db3a6760_1ead_11eb_85ce_0242ac1c0002row86_col10\" class=\"data row86 col10\" >9517.000000</td>\n",
              "                        <td id=\"T_db3a6760_1ead_11eb_85ce_0242ac1c0002row86_col11\" class=\"data row86 col11\" >9515.093522</td>\n",
              "            </tr>\n",
              "            <tr>\n",
              "                        <th id=\"T_db3a6760_1ead_11eb_85ce_0242ac1c0002level0_row87\" class=\"row_heading level0 row87\" >2020-05-29 19:33:00</th>\n",
              "                        <td id=\"T_db3a6760_1ead_11eb_85ce_0242ac1c0002row87_col0\" class=\"data row87 col0\" >1109010.000000</td>\n",
              "                        <td id=\"T_db3a6760_1ead_11eb_85ce_0242ac1c0002row87_col1\" class=\"data row87 col1\" >1110300.855615</td>\n",
              "                        <td id=\"T_db3a6760_1ead_11eb_85ce_0242ac1c0002row87_col2\" class=\"data row87 col2\" >1232090.000000</td>\n",
              "                        <td id=\"T_db3a6760_1ead_11eb_85ce_0242ac1c0002row87_col3\" class=\"data row87 col3\" >1232966.425938</td>\n",
              "                        <td id=\"T_db3a6760_1ead_11eb_85ce_0242ac1c0002row87_col4\" class=\"data row87 col4\" >107785000.000000</td>\n",
              "                        <td id=\"T_db3a6760_1ead_11eb_85ce_0242ac1c0002row87_col5\" class=\"data row87 col5\" >107778344.601452</td>\n",
              "                        <td id=\"T_db3a6760_1ead_11eb_85ce_0242ac1c0002row87_col6\" class=\"data row87 col6\" >3015.125000</td>\n",
              "                        <td id=\"T_db3a6760_1ead_11eb_85ce_0242ac1c0002row87_col7\" class=\"data row87 col7\" >3018.409750</td>\n",
              "                        <td id=\"T_db3a6760_1ead_11eb_85ce_0242ac1c0002row87_col8\" class=\"data row87 col8\" >1732.150000</td>\n",
              "                        <td id=\"T_db3a6760_1ead_11eb_85ce_0242ac1c0002row87_col9\" class=\"data row87 col9\" >1733.329809</td>\n",
              "                        <td id=\"T_db3a6760_1ead_11eb_85ce_0242ac1c0002row87_col10\" class=\"data row87 col10\" >9513.000000</td>\n",
              "                        <td id=\"T_db3a6760_1ead_11eb_85ce_0242ac1c0002row87_col11\" class=\"data row87 col11\" >9515.070362</td>\n",
              "            </tr>\n",
              "            <tr>\n",
              "                        <th id=\"T_db3a6760_1ead_11eb_85ce_0242ac1c0002level0_row88\" class=\"row_heading level0 row88\" >2020-05-29 19:32:00</th>\n",
              "                        <td id=\"T_db3a6760_1ead_11eb_85ce_0242ac1c0002row88_col0\" class=\"data row88 col0\" >1108960.000000</td>\n",
              "                        <td id=\"T_db3a6760_1ead_11eb_85ce_0242ac1c0002row88_col1\" class=\"data row88 col1\" >1110300.304976</td>\n",
              "                        <td id=\"T_db3a6760_1ead_11eb_85ce_0242ac1c0002row88_col2\" class=\"data row88 col2\" >1232240.000000</td>\n",
              "                        <td id=\"T_db3a6760_1ead_11eb_85ce_0242ac1c0002row88_col3\" class=\"data row88 col3\" >1232967.274679</td>\n",
              "                        <td id=\"T_db3a6760_1ead_11eb_85ce_0242ac1c0002row88_col4\" class=\"data row88 col4\" >107780000.000000</td>\n",
              "                        <td id=\"T_db3a6760_1ead_11eb_85ce_0242ac1c0002row88_col5\" class=\"data row88 col5\" >107778330.782335</td>\n",
              "                        <td id=\"T_db3a6760_1ead_11eb_85ce_0242ac1c0002row88_col6\" class=\"data row88 col6\" >3017.125000</td>\n",
              "                        <td id=\"T_db3a6760_1ead_11eb_85ce_0242ac1c0002row88_col7\" class=\"data row88 col7\" >3018.404834</td>\n",
              "                        <td id=\"T_db3a6760_1ead_11eb_85ce_0242ac1c0002row88_col8\" class=\"data row88 col8\" >1732.300000</td>\n",
              "                        <td id=\"T_db3a6760_1ead_11eb_85ce_0242ac1c0002row88_col9\" class=\"data row88 col9\" >1733.328523</td>\n",
              "                        <td id=\"T_db3a6760_1ead_11eb_85ce_0242ac1c0002row88_col10\" class=\"data row88 col10\" >9522.375000</td>\n",
              "                        <td id=\"T_db3a6760_1ead_11eb_85ce_0242ac1c0002row88_col11\" class=\"data row88 col11\" >9515.047203</td>\n",
              "            </tr>\n",
              "            <tr>\n",
              "                        <th id=\"T_db3a6760_1ead_11eb_85ce_0242ac1c0002level0_row89\" class=\"row_heading level0 row89\" >2020-05-29 19:31:00</th>\n",
              "                        <td id=\"T_db3a6760_1ead_11eb_85ce_0242ac1c0002row89_col0\" class=\"data row89 col0\" >1109010.000000</td>\n",
              "                        <td id=\"T_db3a6760_1ead_11eb_85ce_0242ac1c0002row89_col1\" class=\"data row89 col1\" >1110299.754337</td>\n",
              "                        <td id=\"T_db3a6760_1ead_11eb_85ce_0242ac1c0002row89_col2\" class=\"data row89 col2\" >1232140.000000</td>\n",
              "                        <td id=\"T_db3a6760_1ead_11eb_85ce_0242ac1c0002row89_col3\" class=\"data row89 col3\" >1232968.123421</td>\n",
              "                        <td id=\"T_db3a6760_1ead_11eb_85ce_0242ac1c0002row89_col4\" class=\"data row89 col4\" >107796500.000000</td>\n",
              "                        <td id=\"T_db3a6760_1ead_11eb_85ce_0242ac1c0002row89_col5\" class=\"data row89 col5\" >107778316.963217</td>\n",
              "                        <td id=\"T_db3a6760_1ead_11eb_85ce_0242ac1c0002row89_col6\" class=\"data row89 col6\" >3016.625000</td>\n",
              "                        <td id=\"T_db3a6760_1ead_11eb_85ce_0242ac1c0002row89_col7\" class=\"data row89 col7\" >3018.399917</td>\n",
              "                        <td id=\"T_db3a6760_1ead_11eb_85ce_0242ac1c0002row89_col8\" class=\"data row89 col8\" >1732.300000</td>\n",
              "                        <td id=\"T_db3a6760_1ead_11eb_85ce_0242ac1c0002row89_col9\" class=\"data row89 col9\" >1733.327236</td>\n",
              "                        <td id=\"T_db3a6760_1ead_11eb_85ce_0242ac1c0002row89_col10\" class=\"data row89 col10\" >9519.375000</td>\n",
              "                        <td id=\"T_db3a6760_1ead_11eb_85ce_0242ac1c0002row89_col11\" class=\"data row89 col11\" >9515.024043</td>\n",
              "            </tr>\n",
              "            <tr>\n",
              "                        <th id=\"T_db3a6760_1ead_11eb_85ce_0242ac1c0002level0_row90\" class=\"row_heading level0 row90\" >2020-05-29 19:30:00</th>\n",
              "                        <td id=\"T_db3a6760_1ead_11eb_85ce_0242ac1c0002row90_col0\" class=\"data row90 col0\" >1108985.000000</td>\n",
              "                        <td id=\"T_db3a6760_1ead_11eb_85ce_0242ac1c0002row90_col1\" class=\"data row90 col1\" >1110299.203699</td>\n",
              "                        <td id=\"T_db3a6760_1ead_11eb_85ce_0242ac1c0002row90_col2\" class=\"data row90 col2\" >1232340.000000</td>\n",
              "                        <td id=\"T_db3a6760_1ead_11eb_85ce_0242ac1c0002row90_col3\" class=\"data row90 col3\" >1232968.972163</td>\n",
              "                        <td id=\"T_db3a6760_1ead_11eb_85ce_0242ac1c0002row90_col4\" class=\"data row90 col4\" >107799500.000000</td>\n",
              "                        <td id=\"T_db3a6760_1ead_11eb_85ce_0242ac1c0002row90_col5\" class=\"data row90 col5\" >107778303.144100</td>\n",
              "                        <td id=\"T_db3a6760_1ead_11eb_85ce_0242ac1c0002row90_col6\" class=\"data row90 col6\" >3017.375000</td>\n",
              "                        <td id=\"T_db3a6760_1ead_11eb_85ce_0242ac1c0002row90_col7\" class=\"data row90 col7\" >3018.395000</td>\n",
              "                        <td id=\"T_db3a6760_1ead_11eb_85ce_0242ac1c0002row90_col8\" class=\"data row90 col8\" >1732.100000</td>\n",
              "                        <td id=\"T_db3a6760_1ead_11eb_85ce_0242ac1c0002row90_col9\" class=\"data row90 col9\" >1733.325949</td>\n",
              "                        <td id=\"T_db3a6760_1ead_11eb_85ce_0242ac1c0002row90_col10\" class=\"data row90 col10\" >9524.250000</td>\n",
              "                        <td id=\"T_db3a6760_1ead_11eb_85ce_0242ac1c0002row90_col11\" class=\"data row90 col11\" >9515.000884</td>\n",
              "            </tr>\n",
              "            <tr>\n",
              "                        <th id=\"T_db3a6760_1ead_11eb_85ce_0242ac1c0002level0_row91\" class=\"row_heading level0 row91\" >2020-05-29 19:29:00</th>\n",
              "                        <td id=\"T_db3a6760_1ead_11eb_85ce_0242ac1c0002row91_col0\" class=\"data row91 col0\" >1108885.000000</td>\n",
              "                        <td id=\"T_db3a6760_1ead_11eb_85ce_0242ac1c0002row91_col1\" class=\"data row91 col1\" >1110298.653060</td>\n",
              "                        <td id=\"T_db3a6760_1ead_11eb_85ce_0242ac1c0002row91_col2\" class=\"data row91 col2\" >1231890.000000</td>\n",
              "                        <td id=\"T_db3a6760_1ead_11eb_85ce_0242ac1c0002row91_col3\" class=\"data row91 col3\" >1232969.820904</td>\n",
              "                        <td id=\"T_db3a6760_1ead_11eb_85ce_0242ac1c0002row91_col4\" class=\"data row91 col4\" >107809000.000000</td>\n",
              "                        <td id=\"T_db3a6760_1ead_11eb_85ce_0242ac1c0002row91_col5\" class=\"data row91 col5\" >107778289.324982</td>\n",
              "                        <td id=\"T_db3a6760_1ead_11eb_85ce_0242ac1c0002row91_col6\" class=\"data row91 col6\" >3015.375000</td>\n",
              "                        <td id=\"T_db3a6760_1ead_11eb_85ce_0242ac1c0002row91_col7\" class=\"data row91 col7\" >3018.390083</td>\n",
              "                        <td id=\"T_db3a6760_1ead_11eb_85ce_0242ac1c0002row91_col8\" class=\"data row91 col8\" >1731.850000</td>\n",
              "                        <td id=\"T_db3a6760_1ead_11eb_85ce_0242ac1c0002row91_col9\" class=\"data row91 col9\" >1733.324662</td>\n",
              "                        <td id=\"T_db3a6760_1ead_11eb_85ce_0242ac1c0002row91_col10\" class=\"data row91 col10\" >9513.125000</td>\n",
              "                        <td id=\"T_db3a6760_1ead_11eb_85ce_0242ac1c0002row91_col11\" class=\"data row91 col11\" >9514.977724</td>\n",
              "            </tr>\n",
              "            <tr>\n",
              "                        <th id=\"T_db3a6760_1ead_11eb_85ce_0242ac1c0002level0_row92\" class=\"row_heading level0 row92\" >2020-05-29 19:28:00</th>\n",
              "                        <td id=\"T_db3a6760_1ead_11eb_85ce_0242ac1c0002row92_col0\" class=\"data row92 col0\" >1108860.000000</td>\n",
              "                        <td id=\"T_db3a6760_1ead_11eb_85ce_0242ac1c0002row92_col1\" class=\"data row92 col1\" >1110298.102421</td>\n",
              "                        <td id=\"T_db3a6760_1ead_11eb_85ce_0242ac1c0002row92_col2\" class=\"data row92 col2\" >1231940.000000</td>\n",
              "                        <td id=\"T_db3a6760_1ead_11eb_85ce_0242ac1c0002row92_col3\" class=\"data row92 col3\" >1232970.669646</td>\n",
              "                        <td id=\"T_db3a6760_1ead_11eb_85ce_0242ac1c0002row92_col4\" class=\"data row92 col4\" >107807500.000000</td>\n",
              "                        <td id=\"T_db3a6760_1ead_11eb_85ce_0242ac1c0002row92_col5\" class=\"data row92 col5\" >107778275.505864</td>\n",
              "                        <td id=\"T_db3a6760_1ead_11eb_85ce_0242ac1c0002row92_col6\" class=\"data row92 col6\" >3015.750000</td>\n",
              "                        <td id=\"T_db3a6760_1ead_11eb_85ce_0242ac1c0002row92_col7\" class=\"data row92 col7\" >3018.385166</td>\n",
              "                        <td id=\"T_db3a6760_1ead_11eb_85ce_0242ac1c0002row92_col8\" class=\"data row92 col8\" >1731.700000</td>\n",
              "                        <td id=\"T_db3a6760_1ead_11eb_85ce_0242ac1c0002row92_col9\" class=\"data row92 col9\" >1733.323376</td>\n",
              "                        <td id=\"T_db3a6760_1ead_11eb_85ce_0242ac1c0002row92_col10\" class=\"data row92 col10\" >9514.250000</td>\n",
              "                        <td id=\"T_db3a6760_1ead_11eb_85ce_0242ac1c0002row92_col11\" class=\"data row92 col11\" >9514.954565</td>\n",
              "            </tr>\n",
              "            <tr>\n",
              "                        <th id=\"T_db3a6760_1ead_11eb_85ce_0242ac1c0002level0_row93\" class=\"row_heading level0 row93\" >2020-05-29 19:27:00</th>\n",
              "                        <td id=\"T_db3a6760_1ead_11eb_85ce_0242ac1c0002row93_col0\" class=\"data row93 col0\" >1109035.000000</td>\n",
              "                        <td id=\"T_db3a6760_1ead_11eb_85ce_0242ac1c0002row93_col1\" class=\"data row93 col1\" >1110297.551783</td>\n",
              "                        <td id=\"T_db3a6760_1ead_11eb_85ce_0242ac1c0002row93_col2\" class=\"data row93 col2\" >1232290.000000</td>\n",
              "                        <td id=\"T_db3a6760_1ead_11eb_85ce_0242ac1c0002row93_col3\" class=\"data row93 col3\" >1232971.518387</td>\n",
              "                        <td id=\"T_db3a6760_1ead_11eb_85ce_0242ac1c0002row93_col4\" class=\"data row93 col4\" >107808500.000000</td>\n",
              "                        <td id=\"T_db3a6760_1ead_11eb_85ce_0242ac1c0002row93_col5\" class=\"data row93 col5\" >107778261.686747</td>\n",
              "                        <td id=\"T_db3a6760_1ead_11eb_85ce_0242ac1c0002row93_col6\" class=\"data row93 col6\" >3016.500000</td>\n",
              "                        <td id=\"T_db3a6760_1ead_11eb_85ce_0242ac1c0002row93_col7\" class=\"data row93 col7\" >3018.380250</td>\n",
              "                        <td id=\"T_db3a6760_1ead_11eb_85ce_0242ac1c0002row93_col8\" class=\"data row93 col8\" >1731.700000</td>\n",
              "                        <td id=\"T_db3a6760_1ead_11eb_85ce_0242ac1c0002row93_col9\" class=\"data row93 col9\" >1733.322089</td>\n",
              "                        <td id=\"T_db3a6760_1ead_11eb_85ce_0242ac1c0002row93_col10\" class=\"data row93 col10\" >9520.125000</td>\n",
              "                        <td id=\"T_db3a6760_1ead_11eb_85ce_0242ac1c0002row93_col11\" class=\"data row93 col11\" >9514.931405</td>\n",
              "            </tr>\n",
              "            <tr>\n",
              "                        <th id=\"T_db3a6760_1ead_11eb_85ce_0242ac1c0002level0_row94\" class=\"row_heading level0 row94\" >2020-05-29 19:26:00</th>\n",
              "                        <td id=\"T_db3a6760_1ead_11eb_85ce_0242ac1c0002row94_col0\" class=\"data row94 col0\" >1109285.000000</td>\n",
              "                        <td id=\"T_db3a6760_1ead_11eb_85ce_0242ac1c0002row94_col1\" class=\"data row94 col1\" >1110297.001144</td>\n",
              "                        <td id=\"T_db3a6760_1ead_11eb_85ce_0242ac1c0002row94_col2\" class=\"data row94 col2\" >1232185.000000</td>\n",
              "                        <td id=\"T_db3a6760_1ead_11eb_85ce_0242ac1c0002row94_col3\" class=\"data row94 col3\" >1232972.367129</td>\n",
              "                        <td id=\"T_db3a6760_1ead_11eb_85ce_0242ac1c0002row94_col4\" class=\"data row94 col4\" >107802000.000000</td>\n",
              "                        <td id=\"T_db3a6760_1ead_11eb_85ce_0242ac1c0002row94_col5\" class=\"data row94 col5\" >107778247.867629</td>\n",
              "                        <td id=\"T_db3a6760_1ead_11eb_85ce_0242ac1c0002row94_col6\" class=\"data row94 col6\" >3017.125000</td>\n",
              "                        <td id=\"T_db3a6760_1ead_11eb_85ce_0242ac1c0002row94_col7\" class=\"data row94 col7\" >3018.375333</td>\n",
              "                        <td id=\"T_db3a6760_1ead_11eb_85ce_0242ac1c0002row94_col8\" class=\"data row94 col8\" >1731.500000</td>\n",
              "                        <td id=\"T_db3a6760_1ead_11eb_85ce_0242ac1c0002row94_col9\" class=\"data row94 col9\" >1733.320802</td>\n",
              "                        <td id=\"T_db3a6760_1ead_11eb_85ce_0242ac1c0002row94_col10\" class=\"data row94 col10\" >9521.125000</td>\n",
              "                        <td id=\"T_db3a6760_1ead_11eb_85ce_0242ac1c0002row94_col11\" class=\"data row94 col11\" >9514.908245</td>\n",
              "            </tr>\n",
              "            <tr>\n",
              "                        <th id=\"T_db3a6760_1ead_11eb_85ce_0242ac1c0002level0_row95\" class=\"row_heading level0 row95\" >2020-05-29 19:25:00</th>\n",
              "                        <td id=\"T_db3a6760_1ead_11eb_85ce_0242ac1c0002row95_col0\" class=\"data row95 col0\" >1109535.000000</td>\n",
              "                        <td id=\"T_db3a6760_1ead_11eb_85ce_0242ac1c0002row95_col1\" class=\"data row95 col1\" >1110296.450505</td>\n",
              "                        <td id=\"T_db3a6760_1ead_11eb_85ce_0242ac1c0002row95_col2\" class=\"data row95 col2\" >1232230.000000</td>\n",
              "                        <td id=\"T_db3a6760_1ead_11eb_85ce_0242ac1c0002row95_col3\" class=\"data row95 col3\" >1232973.215871</td>\n",
              "                        <td id=\"T_db3a6760_1ead_11eb_85ce_0242ac1c0002row95_col4\" class=\"data row95 col4\" >107797500.000000</td>\n",
              "                        <td id=\"T_db3a6760_1ead_11eb_85ce_0242ac1c0002row95_col5\" class=\"data row95 col5\" >107778234.048511</td>\n",
              "                        <td id=\"T_db3a6760_1ead_11eb_85ce_0242ac1c0002row95_col6\" class=\"data row95 col6\" >3017.625000</td>\n",
              "                        <td id=\"T_db3a6760_1ead_11eb_85ce_0242ac1c0002row95_col7\" class=\"data row95 col7\" >3018.370416</td>\n",
              "                        <td id=\"T_db3a6760_1ead_11eb_85ce_0242ac1c0002row95_col8\" class=\"data row95 col8\" >1731.250000</td>\n",
              "                        <td id=\"T_db3a6760_1ead_11eb_85ce_0242ac1c0002row95_col9\" class=\"data row95 col9\" >1733.319516</td>\n",
              "                        <td id=\"T_db3a6760_1ead_11eb_85ce_0242ac1c0002row95_col10\" class=\"data row95 col10\" >9523.625000</td>\n",
              "                        <td id=\"T_db3a6760_1ead_11eb_85ce_0242ac1c0002row95_col11\" class=\"data row95 col11\" >9514.885086</td>\n",
              "            </tr>\n",
              "            <tr>\n",
              "                        <th id=\"T_db3a6760_1ead_11eb_85ce_0242ac1c0002level0_row96\" class=\"row_heading level0 row96\" >2020-05-29 19:24:00</th>\n",
              "                        <td id=\"T_db3a6760_1ead_11eb_85ce_0242ac1c0002row96_col0\" class=\"data row96 col0\" >1109810.000000</td>\n",
              "                        <td id=\"T_db3a6760_1ead_11eb_85ce_0242ac1c0002row96_col1\" class=\"data row96 col1\" >1110295.899868</td>\n",
              "                        <td id=\"T_db3a6760_1ead_11eb_85ce_0242ac1c0002row96_col2\" class=\"data row96 col2\" >1232580.000000</td>\n",
              "                        <td id=\"T_db3a6760_1ead_11eb_85ce_0242ac1c0002row96_col3\" class=\"data row96 col3\" >1232974.064611</td>\n",
              "                        <td id=\"T_db3a6760_1ead_11eb_85ce_0242ac1c0002row96_col4\" class=\"data row96 col4\" >107791500.000000</td>\n",
              "                        <td id=\"T_db3a6760_1ead_11eb_85ce_0242ac1c0002row96_col5\" class=\"data row96 col5\" >107778220.229395</td>\n",
              "                        <td id=\"T_db3a6760_1ead_11eb_85ce_0242ac1c0002row96_col6\" class=\"data row96 col6\" >3018.625000</td>\n",
              "                        <td id=\"T_db3a6760_1ead_11eb_85ce_0242ac1c0002row96_col7\" class=\"data row96 col7\" >3018.365499</td>\n",
              "                        <td id=\"T_db3a6760_1ead_11eb_85ce_0242ac1c0002row96_col8\" class=\"data row96 col8\" >1731.850000</td>\n",
              "                        <td id=\"T_db3a6760_1ead_11eb_85ce_0242ac1c0002row96_col9\" class=\"data row96 col9\" >1733.318229</td>\n",
              "                        <td id=\"T_db3a6760_1ead_11eb_85ce_0242ac1c0002row96_col10\" class=\"data row96 col10\" >9528.500000</td>\n",
              "                        <td id=\"T_db3a6760_1ead_11eb_85ce_0242ac1c0002row96_col11\" class=\"data row96 col11\" >9514.861926</td>\n",
              "            </tr>\n",
              "            <tr>\n",
              "                        <th id=\"T_db3a6760_1ead_11eb_85ce_0242ac1c0002level0_row97\" class=\"row_heading level0 row97\" >2020-05-29 19:23:00</th>\n",
              "                        <td id=\"T_db3a6760_1ead_11eb_85ce_0242ac1c0002row97_col0\" class=\"data row97 col0\" >1109535.000000</td>\n",
              "                        <td id=\"T_db3a6760_1ead_11eb_85ce_0242ac1c0002row97_col1\" class=\"data row97 col1\" >1110295.349228</td>\n",
              "                        <td id=\"T_db3a6760_1ead_11eb_85ce_0242ac1c0002row97_col2\" class=\"data row97 col2\" >1232230.000000</td>\n",
              "                        <td id=\"T_db3a6760_1ead_11eb_85ce_0242ac1c0002row97_col3\" class=\"data row97 col3\" >1232974.913354</td>\n",
              "                        <td id=\"T_db3a6760_1ead_11eb_85ce_0242ac1c0002row97_col4\" class=\"data row97 col4\" >107796500.000000</td>\n",
              "                        <td id=\"T_db3a6760_1ead_11eb_85ce_0242ac1c0002row97_col5\" class=\"data row97 col5\" >107778206.410277</td>\n",
              "                        <td id=\"T_db3a6760_1ead_11eb_85ce_0242ac1c0002row97_col6\" class=\"data row97 col6\" >3016.625000</td>\n",
              "                        <td id=\"T_db3a6760_1ead_11eb_85ce_0242ac1c0002row97_col7\" class=\"data row97 col7\" >3018.360583</td>\n",
              "                        <td id=\"T_db3a6760_1ead_11eb_85ce_0242ac1c0002row97_col8\" class=\"data row97 col8\" >1731.950000</td>\n",
              "                        <td id=\"T_db3a6760_1ead_11eb_85ce_0242ac1c0002row97_col9\" class=\"data row97 col9\" >1733.316942</td>\n",
              "                        <td id=\"T_db3a6760_1ead_11eb_85ce_0242ac1c0002row97_col10\" class=\"data row97 col10\" >9521.250000</td>\n",
              "                        <td id=\"T_db3a6760_1ead_11eb_85ce_0242ac1c0002row97_col11\" class=\"data row97 col11\" >9514.838767</td>\n",
              "            </tr>\n",
              "            <tr>\n",
              "                        <th id=\"T_db3a6760_1ead_11eb_85ce_0242ac1c0002level0_row98\" class=\"row_heading level0 row98\" >2020-05-29 19:22:00</th>\n",
              "                        <td id=\"T_db3a6760_1ead_11eb_85ce_0242ac1c0002row98_col0\" class=\"data row98 col0\" >1109635.000000</td>\n",
              "                        <td id=\"T_db3a6760_1ead_11eb_85ce_0242ac1c0002row98_col1\" class=\"data row98 col1\" >1110294.798587</td>\n",
              "                        <td id=\"T_db3a6760_1ead_11eb_85ce_0242ac1c0002row98_col2\" class=\"data row98 col2\" >1232185.000000</td>\n",
              "                        <td id=\"T_db3a6760_1ead_11eb_85ce_0242ac1c0002row98_col3\" class=\"data row98 col3\" >1232975.762097</td>\n",
              "                        <td id=\"T_db3a6760_1ead_11eb_85ce_0242ac1c0002row98_col4\" class=\"data row98 col4\" >107801500.000000</td>\n",
              "                        <td id=\"T_db3a6760_1ead_11eb_85ce_0242ac1c0002row98_col5\" class=\"data row98 col5\" >107778192.591151</td>\n",
              "                        <td id=\"T_db3a6760_1ead_11eb_85ce_0242ac1c0002row98_col6\" class=\"data row98 col6\" >3017.250000</td>\n",
              "                        <td id=\"T_db3a6760_1ead_11eb_85ce_0242ac1c0002row98_col7\" class=\"data row98 col7\" >3018.355666</td>\n",
              "                        <td id=\"T_db3a6760_1ead_11eb_85ce_0242ac1c0002row98_col8\" class=\"data row98 col8\" >1732.150000</td>\n",
              "                        <td id=\"T_db3a6760_1ead_11eb_85ce_0242ac1c0002row98_col9\" class=\"data row98 col9\" >1733.315656</td>\n",
              "                        <td id=\"T_db3a6760_1ead_11eb_85ce_0242ac1c0002row98_col10\" class=\"data row98 col10\" >9523.750000</td>\n",
              "                        <td id=\"T_db3a6760_1ead_11eb_85ce_0242ac1c0002row98_col11\" class=\"data row98 col11\" >9514.815607</td>\n",
              "            </tr>\n",
              "            <tr>\n",
              "                        <th id=\"T_db3a6760_1ead_11eb_85ce_0242ac1c0002level0_row99\" class=\"row_heading level0 row99\" >2020-05-29 19:21:00</th>\n",
              "                        <td id=\"T_db3a6760_1ead_11eb_85ce_0242ac1c0002row99_col0\" class=\"data row99 col0\" >1109485.000000</td>\n",
              "                        <td id=\"T_db3a6760_1ead_11eb_85ce_0242ac1c0002row99_col1\" class=\"data row99 col1\" >1110294.247958</td>\n",
              "                        <td id=\"T_db3a6760_1ead_11eb_85ce_0242ac1c0002row99_col2\" class=\"data row99 col2\" >1232030.000000</td>\n",
              "                        <td id=\"T_db3a6760_1ead_11eb_85ce_0242ac1c0002row99_col3\" class=\"data row99 col3\" >1232976.610831</td>\n",
              "                        <td id=\"T_db3a6760_1ead_11eb_85ce_0242ac1c0002row99_col4\" class=\"data row99 col4\" >107801500.000000</td>\n",
              "                        <td id=\"T_db3a6760_1ead_11eb_85ce_0242ac1c0002row99_col5\" class=\"data row99 col5\" >107778178.772054</td>\n",
              "                        <td id=\"T_db3a6760_1ead_11eb_85ce_0242ac1c0002row99_col6\" class=\"data row99 col6\" >3015.375000</td>\n",
              "                        <td id=\"T_db3a6760_1ead_11eb_85ce_0242ac1c0002row99_col7\" class=\"data row99 col7\" >3018.350749</td>\n",
              "                        <td id=\"T_db3a6760_1ead_11eb_85ce_0242ac1c0002row99_col8\" class=\"data row99 col8\" >1732.200000</td>\n",
              "                        <td id=\"T_db3a6760_1ead_11eb_85ce_0242ac1c0002row99_col9\" class=\"data row99 col9\" >1733.314369</td>\n",
              "                        <td id=\"T_db3a6760_1ead_11eb_85ce_0242ac1c0002row99_col10\" class=\"data row99 col10\" >9511.750000</td>\n",
              "                        <td id=\"T_db3a6760_1ead_11eb_85ce_0242ac1c0002row99_col11\" class=\"data row99 col11\" >9514.792448</td>\n",
              "            </tr>\n",
              "            <tr>\n",
              "                        <th id=\"T_db3a6760_1ead_11eb_85ce_0242ac1c0002level0_row100\" class=\"row_heading level0 row100\" >2020-05-29 19:20:00</th>\n",
              "                        <td id=\"T_db3a6760_1ead_11eb_85ce_0242ac1c0002row100_col0\" class=\"data row100 col0\" >1109900.000000</td>\n",
              "                        <td id=\"T_db3a6760_1ead_11eb_85ce_0242ac1c0002row100_col1\" class=\"data row100 col1\" >1110293.697310</td>\n",
              "                        <td id=\"T_db3a6760_1ead_11eb_85ce_0242ac1c0002row100_col2\" class=\"data row100 col2\" >1232575.000000</td>\n",
              "                        <td id=\"T_db3a6760_1ead_11eb_85ce_0242ac1c0002row100_col3\" class=\"data row100 col3\" >1232977.459581</td>\n",
              "                        <td id=\"T_db3a6760_1ead_11eb_85ce_0242ac1c0002row100_col4\" class=\"data row100 col4\" >107791000.000000</td>\n",
              "                        <td id=\"T_db3a6760_1ead_11eb_85ce_0242ac1c0002row100_col5\" class=\"data row100 col5\" >107778164.952929</td>\n",
              "                        <td id=\"T_db3a6760_1ead_11eb_85ce_0242ac1c0002row100_col6\" class=\"data row100 col6\" >3017.750000</td>\n",
              "                        <td id=\"T_db3a6760_1ead_11eb_85ce_0242ac1c0002row100_col7\" class=\"data row100 col7\" >3018.345832</td>\n",
              "                        <td id=\"T_db3a6760_1ead_11eb_85ce_0242ac1c0002row100_col8\" class=\"data row100 col8\" >1732.300000</td>\n",
              "                        <td id=\"T_db3a6760_1ead_11eb_85ce_0242ac1c0002row100_col9\" class=\"data row100 col9\" >1733.313082</td>\n",
              "                        <td id=\"T_db3a6760_1ead_11eb_85ce_0242ac1c0002row100_col10\" class=\"data row100 col10\" >9524.750000</td>\n",
              "                        <td id=\"T_db3a6760_1ead_11eb_85ce_0242ac1c0002row100_col11\" class=\"data row100 col11\" >9514.769288</td>\n",
              "            </tr>\n",
              "            <tr>\n",
              "                        <th id=\"T_db3a6760_1ead_11eb_85ce_0242ac1c0002level0_row101\" class=\"row_heading level0 row101\" >2020-05-29 19:19:00</th>\n",
              "                        <td id=\"T_db3a6760_1ead_11eb_85ce_0242ac1c0002row101_col0\" class=\"data row101 col0\" >1109835.000000</td>\n",
              "                        <td id=\"T_db3a6760_1ead_11eb_85ce_0242ac1c0002row101_col1\" class=\"data row101 col1\" >1110293.146645</td>\n",
              "                        <td id=\"T_db3a6760_1ead_11eb_85ce_0242ac1c0002row101_col2\" class=\"data row101 col2\" >1232630.000000</td>\n",
              "                        <td id=\"T_db3a6760_1ead_11eb_85ce_0242ac1c0002row101_col3\" class=\"data row101 col3\" >1232978.308339</td>\n",
              "                        <td id=\"T_db3a6760_1ead_11eb_85ce_0242ac1c0002row101_col4\" class=\"data row101 col4\" >107801500.000000</td>\n",
              "                        <td id=\"T_db3a6760_1ead_11eb_85ce_0242ac1c0002row101_col5\" class=\"data row101 col5\" >107778151.133732</td>\n",
              "                        <td id=\"T_db3a6760_1ead_11eb_85ce_0242ac1c0002row101_col6\" class=\"data row101 col6\" >3015.750000</td>\n",
              "                        <td id=\"T_db3a6760_1ead_11eb_85ce_0242ac1c0002row101_col7\" class=\"data row101 col7\" >3018.340915</td>\n",
              "                        <td id=\"T_db3a6760_1ead_11eb_85ce_0242ac1c0002row101_col8\" class=\"data row101 col8\" >1732.250000</td>\n",
              "                        <td id=\"T_db3a6760_1ead_11eb_85ce_0242ac1c0002row101_col9\" class=\"data row101 col9\" >1733.311795</td>\n",
              "                        <td id=\"T_db3a6760_1ead_11eb_85ce_0242ac1c0002row101_col10\" class=\"data row101 col10\" >9513.750000</td>\n",
              "                        <td id=\"T_db3a6760_1ead_11eb_85ce_0242ac1c0002row101_col11\" class=\"data row101 col11\" >9514.746128</td>\n",
              "            </tr>\n",
              "            <tr>\n",
              "                        <th id=\"T_db3a6760_1ead_11eb_85ce_0242ac1c0002level0_row102\" class=\"row_heading level0 row102\" >2020-05-29 19:18:00</th>\n",
              "                        <td id=\"T_db3a6760_1ead_11eb_85ce_0242ac1c0002row102_col0\" class=\"data row102 col0\" >1109685.000000</td>\n",
              "                        <td id=\"T_db3a6760_1ead_11eb_85ce_0242ac1c0002row102_col1\" class=\"data row102 col1\" >1110292.596106</td>\n",
              "                        <td id=\"T_db3a6760_1ead_11eb_85ce_0242ac1c0002row102_col2\" class=\"data row102 col2\" >1232335.000000</td>\n",
              "                        <td id=\"T_db3a6760_1ead_11eb_85ce_0242ac1c0002row102_col3\" class=\"data row102 col3\" >1232979.157007</td>\n",
              "                        <td id=\"T_db3a6760_1ead_11eb_85ce_0242ac1c0002row102_col4\" class=\"data row102 col4\" >107797500.000000</td>\n",
              "                        <td id=\"T_db3a6760_1ead_11eb_85ce_0242ac1c0002row102_col5\" class=\"data row102 col5\" >107778137.314824</td>\n",
              "                        <td id=\"T_db3a6760_1ead_11eb_85ce_0242ac1c0002row102_col6\" class=\"data row102 col6\" >3015.625000</td>\n",
              "                        <td id=\"T_db3a6760_1ead_11eb_85ce_0242ac1c0002row102_col7\" class=\"data row102 col7\" >3018.335999</td>\n",
              "                        <td id=\"T_db3a6760_1ead_11eb_85ce_0242ac1c0002row102_col8\" class=\"data row102 col8\" >1732.000000</td>\n",
              "                        <td id=\"T_db3a6760_1ead_11eb_85ce_0242ac1c0002row102_col9\" class=\"data row102 col9\" >1733.310509</td>\n",
              "                        <td id=\"T_db3a6760_1ead_11eb_85ce_0242ac1c0002row102_col10\" class=\"data row102 col10\" >9512.375000</td>\n",
              "                        <td id=\"T_db3a6760_1ead_11eb_85ce_0242ac1c0002row102_col11\" class=\"data row102 col11\" >9514.722969</td>\n",
              "            </tr>\n",
              "            <tr>\n",
              "                        <th id=\"T_db3a6760_1ead_11eb_85ce_0242ac1c0002level0_row103\" class=\"row_heading level0 row103\" >2020-05-29 19:17:00</th>\n",
              "                        <td id=\"T_db3a6760_1ead_11eb_85ce_0242ac1c0002row103_col0\" class=\"data row103 col0\" >1109485.000000</td>\n",
              "                        <td id=\"T_db3a6760_1ead_11eb_85ce_0242ac1c0002row103_col1\" class=\"data row103 col1\" >1110292.045370</td>\n",
              "                        <td id=\"T_db3a6760_1ead_11eb_85ce_0242ac1c0002row103_col2\" class=\"data row103 col2\" >1232230.000000</td>\n",
              "                        <td id=\"T_db3a6760_1ead_11eb_85ce_0242ac1c0002row103_col3\" class=\"data row103 col3\" >1232980.005836</td>\n",
              "                        <td id=\"T_db3a6760_1ead_11eb_85ce_0242ac1c0002row103_col4\" class=\"data row103 col4\" >107796500.000000</td>\n",
              "                        <td id=\"T_db3a6760_1ead_11eb_85ce_0242ac1c0002row103_col5\" class=\"data row103 col5\" >107778123.495616</td>\n",
              "                        <td id=\"T_db3a6760_1ead_11eb_85ce_0242ac1c0002row103_col6\" class=\"data row103 col6\" >3014.250000</td>\n",
              "                        <td id=\"T_db3a6760_1ead_11eb_85ce_0242ac1c0002row103_col7\" class=\"data row103 col7\" >3018.331082</td>\n",
              "                        <td id=\"T_db3a6760_1ead_11eb_85ce_0242ac1c0002row103_col8\" class=\"data row103 col8\" >1732.400000</td>\n",
              "                        <td id=\"T_db3a6760_1ead_11eb_85ce_0242ac1c0002row103_col9\" class=\"data row103 col9\" >1733.309222</td>\n",
              "                        <td id=\"T_db3a6760_1ead_11eb_85ce_0242ac1c0002row103_col10\" class=\"data row103 col10\" >9502.250000</td>\n",
              "                        <td id=\"T_db3a6760_1ead_11eb_85ce_0242ac1c0002row103_col11\" class=\"data row103 col11\" >9514.699810</td>\n",
              "            </tr>\n",
              "            <tr>\n",
              "                        <th id=\"T_db3a6760_1ead_11eb_85ce_0242ac1c0002level0_row104\" class=\"row_heading level0 row104\" >2020-05-29 19:16:00</th>\n",
              "                        <td id=\"T_db3a6760_1ead_11eb_85ce_0242ac1c0002row104_col0\" class=\"data row104 col0\" >1109335.000000</td>\n",
              "                        <td id=\"T_db3a6760_1ead_11eb_85ce_0242ac1c0002row104_col1\" class=\"data row104 col1\" >1110291.494479</td>\n",
              "                        <td id=\"T_db3a6760_1ead_11eb_85ce_0242ac1c0002row104_col2\" class=\"data row104 col2\" >1232030.000000</td>\n",
              "                        <td id=\"T_db3a6760_1ead_11eb_85ce_0242ac1c0002row104_col3\" class=\"data row104 col3\" >1232980.854730</td>\n",
              "                        <td id=\"T_db3a6760_1ead_11eb_85ce_0242ac1c0002row104_col4\" class=\"data row104 col4\" >107802500.000000</td>\n",
              "                        <td id=\"T_db3a6760_1ead_11eb_85ce_0242ac1c0002row104_col5\" class=\"data row104 col5\" >107778109.675707</td>\n",
              "                        <td id=\"T_db3a6760_1ead_11eb_85ce_0242ac1c0002row104_col6\" class=\"data row104 col6\" >3015.000000</td>\n",
              "                        <td id=\"T_db3a6760_1ead_11eb_85ce_0242ac1c0002row104_col7\" class=\"data row104 col7\" >3018.326165</td>\n",
              "                        <td id=\"T_db3a6760_1ead_11eb_85ce_0242ac1c0002row104_col8\" class=\"data row104 col8\" >1732.300000</td>\n",
              "                        <td id=\"T_db3a6760_1ead_11eb_85ce_0242ac1c0002row104_col9\" class=\"data row104 col9\" >1733.307935</td>\n",
              "                        <td id=\"T_db3a6760_1ead_11eb_85ce_0242ac1c0002row104_col10\" class=\"data row104 col10\" >9505.125000</td>\n",
              "                        <td id=\"T_db3a6760_1ead_11eb_85ce_0242ac1c0002row104_col11\" class=\"data row104 col11\" >9514.676649</td>\n",
              "            </tr>\n",
              "            <tr>\n",
              "                        <th id=\"T_db3a6760_1ead_11eb_85ce_0242ac1c0002level0_row105\" class=\"row_heading level0 row105\" >2020-05-29 19:15:00</th>\n",
              "                        <td id=\"T_db3a6760_1ead_11eb_85ce_0242ac1c0002row105_col0\" class=\"data row105 col0\" >1109235.000000</td>\n",
              "                        <td id=\"T_db3a6760_1ead_11eb_85ce_0242ac1c0002row105_col1\" class=\"data row105 col1\" >1110290.944859</td>\n",
              "                        <td id=\"T_db3a6760_1ead_11eb_85ce_0242ac1c0002row105_col2\" class=\"data row105 col2\" >1231830.000000</td>\n",
              "                        <td id=\"T_db3a6760_1ead_11eb_85ce_0242ac1c0002row105_col3\" class=\"data row105 col3\" >1232981.702725</td>\n",
              "                        <td id=\"T_db3a6760_1ead_11eb_85ce_0242ac1c0002row105_col4\" class=\"data row105 col4\" >107796500.000000</td>\n",
              "                        <td id=\"T_db3a6760_1ead_11eb_85ce_0242ac1c0002row105_col5\" class=\"data row105 col5\" >107778095.858804</td>\n",
              "                        <td id=\"T_db3a6760_1ead_11eb_85ce_0242ac1c0002row105_col6\" class=\"data row105 col6\" >3013.750000</td>\n",
              "                        <td id=\"T_db3a6760_1ead_11eb_85ce_0242ac1c0002row105_col7\" class=\"data row105 col7\" >3018.321248</td>\n",
              "                        <td id=\"T_db3a6760_1ead_11eb_85ce_0242ac1c0002row105_col8\" class=\"data row105 col8\" >1732.150000</td>\n",
              "                        <td id=\"T_db3a6760_1ead_11eb_85ce_0242ac1c0002row105_col9\" class=\"data row105 col9\" >1733.306649</td>\n",
              "                        <td id=\"T_db3a6760_1ead_11eb_85ce_0242ac1c0002row105_col10\" class=\"data row105 col10\" >9498.375000</td>\n",
              "                        <td id=\"T_db3a6760_1ead_11eb_85ce_0242ac1c0002row105_col11\" class=\"data row105 col11\" >9514.653488</td>\n",
              "            </tr>\n",
              "            <tr>\n",
              "                        <th id=\"T_db3a6760_1ead_11eb_85ce_0242ac1c0002level0_row106\" class=\"row_heading level0 row106\" >2020-05-29 19:14:00</th>\n",
              "                        <td id=\"T_db3a6760_1ead_11eb_85ce_0242ac1c0002row106_col0\" class=\"data row106 col0\" >1109255.000000</td>\n",
              "                        <td id=\"T_db3a6760_1ead_11eb_85ce_0242ac1c0002row106_col1\" class=\"data row106 col1\" >1110290.393147</td>\n",
              "                        <td id=\"T_db3a6760_1ead_11eb_85ce_0242ac1c0002row106_col2\" class=\"data row106 col2\" >1231830.000000</td>\n",
              "                        <td id=\"T_db3a6760_1ead_11eb_85ce_0242ac1c0002row106_col3\" class=\"data row106 col3\" >1232982.552397</td>\n",
              "                        <td id=\"T_db3a6760_1ead_11eb_85ce_0242ac1c0002row106_col4\" class=\"data row106 col4\" >107801500.000000</td>\n",
              "                        <td id=\"T_db3a6760_1ead_11eb_85ce_0242ac1c0002row106_col5\" class=\"data row106 col5\" >107778082.038456</td>\n",
              "                        <td id=\"T_db3a6760_1ead_11eb_85ce_0242ac1c0002row106_col6\" class=\"data row106 col6\" >3014.750000</td>\n",
              "                        <td id=\"T_db3a6760_1ead_11eb_85ce_0242ac1c0002row106_col7\" class=\"data row106 col7\" >3018.316333</td>\n",
              "                        <td id=\"T_db3a6760_1ead_11eb_85ce_0242ac1c0002row106_col8\" class=\"data row106 col8\" >1731.900000</td>\n",
              "                        <td id=\"T_db3a6760_1ead_11eb_85ce_0242ac1c0002row106_col9\" class=\"data row106 col9\" >1733.305362</td>\n",
              "                        <td id=\"T_db3a6760_1ead_11eb_85ce_0242ac1c0002row106_col10\" class=\"data row106 col10\" >9500.250000</td>\n",
              "                        <td id=\"T_db3a6760_1ead_11eb_85ce_0242ac1c0002row106_col11\" class=\"data row106 col11\" >9514.630336</td>\n",
              "            </tr>\n",
              "            <tr>\n",
              "                        <th id=\"T_db3a6760_1ead_11eb_85ce_0242ac1c0002level0_row107\" class=\"row_heading level0 row107\" >2020-05-29 19:13:00</th>\n",
              "                        <td id=\"T_db3a6760_1ead_11eb_85ce_0242ac1c0002row107_col0\" class=\"data row107 col0\" >1109525.000000</td>\n",
              "                        <td id=\"T_db3a6760_1ead_11eb_85ce_0242ac1c0002row107_col1\" class=\"data row107 col1\" >1110289.840099</td>\n",
              "                        <td id=\"T_db3a6760_1ead_11eb_85ce_0242ac1c0002row107_col2\" class=\"data row107 col2\" >1232030.000000</td>\n",
              "                        <td id=\"T_db3a6760_1ead_11eb_85ce_0242ac1c0002row107_col3\" class=\"data row107 col3\" >1232983.402590</td>\n",
              "                        <td id=\"T_db3a6760_1ead_11eb_85ce_0242ac1c0002row107_col4\" class=\"data row107 col4\" >107799500.000000</td>\n",
              "                        <td id=\"T_db3a6760_1ead_11eb_85ce_0242ac1c0002row107_col5\" class=\"data row107 col5\" >107778068.211430</td>\n",
              "                        <td id=\"T_db3a6760_1ead_11eb_85ce_0242ac1c0002row107_col6\" class=\"data row107 col6\" >3016.250000</td>\n",
              "                        <td id=\"T_db3a6760_1ead_11eb_85ce_0242ac1c0002row107_col7\" class=\"data row107 col7\" >3018.311414</td>\n",
              "                        <td id=\"T_db3a6760_1ead_11eb_85ce_0242ac1c0002row107_col8\" class=\"data row107 col8\" >1732.200000</td>\n",
              "                        <td id=\"T_db3a6760_1ead_11eb_85ce_0242ac1c0002row107_col9\" class=\"data row107 col9\" >1733.304075</td>\n",
              "                        <td id=\"T_db3a6760_1ead_11eb_85ce_0242ac1c0002row107_col10\" class=\"data row107 col10\" >9509.875000</td>\n",
              "                        <td id=\"T_db3a6760_1ead_11eb_85ce_0242ac1c0002row107_col11\" class=\"data row107 col11\" >9514.607168</td>\n",
              "            </tr>\n",
              "            <tr>\n",
              "                        <th id=\"T_db3a6760_1ead_11eb_85ce_0242ac1c0002level0_row108\" class=\"row_heading level0 row108\" >2020-05-29 19:12:00</th>\n",
              "                        <td id=\"T_db3a6760_1ead_11eb_85ce_0242ac1c0002row108_col0\" class=\"data row108 col0\" >1109625.000000</td>\n",
              "                        <td id=\"T_db3a6760_1ead_11eb_85ce_0242ac1c0002row108_col1\" class=\"data row108 col1\" >1110289.299878</td>\n",
              "                        <td id=\"T_db3a6760_1ead_11eb_85ce_0242ac1c0002row108_col2\" class=\"data row108 col2\" >1232230.000000</td>\n",
              "                        <td id=\"T_db3a6760_1ead_11eb_85ce_0242ac1c0002row108_col3\" class=\"data row108 col3\" >1232984.243792</td>\n",
              "                        <td id=\"T_db3a6760_1ead_11eb_85ce_0242ac1c0002row108_col4\" class=\"data row108 col4\" >107813500.000000</td>\n",
              "                        <td id=\"T_db3a6760_1ead_11eb_85ce_0242ac1c0002row108_col5\" class=\"data row108 col5\" >107778054.416652</td>\n",
              "                        <td id=\"T_db3a6760_1ead_11eb_85ce_0242ac1c0002row108_col6\" class=\"data row108 col6\" >3016.500000</td>\n",
              "                        <td id=\"T_db3a6760_1ead_11eb_85ce_0242ac1c0002row108_col7\" class=\"data row108 col7\" >3018.306492</td>\n",
              "                        <td id=\"T_db3a6760_1ead_11eb_85ce_0242ac1c0002row108_col8\" class=\"data row108 col8\" >1732.000000</td>\n",
              "                        <td id=\"T_db3a6760_1ead_11eb_85ce_0242ac1c0002row108_col9\" class=\"data row108 col9\" >1733.302789</td>\n",
              "                        <td id=\"T_db3a6760_1ead_11eb_85ce_0242ac1c0002row108_col10\" class=\"data row108 col10\" >9511.500000</td>\n",
              "                        <td id=\"T_db3a6760_1ead_11eb_85ce_0242ac1c0002row108_col11\" class=\"data row108 col11\" >9514.583990</td>\n",
              "            </tr>\n",
              "            <tr>\n",
              "                        <th id=\"T_db3a6760_1ead_11eb_85ce_0242ac1c0002level0_row109\" class=\"row_heading level0 row109\" >2020-05-29 19:11:00</th>\n",
              "                        <td id=\"T_db3a6760_1ead_11eb_85ce_0242ac1c0002row109_col0\" class=\"data row109 col0\" >1109980.000000</td>\n",
              "                        <td id=\"T_db3a6760_1ead_11eb_85ce_0242ac1c0002row109_col1\" class=\"data row109 col1\" >1110288.737354</td>\n",
              "                        <td id=\"T_db3a6760_1ead_11eb_85ce_0242ac1c0002row109_col2\" class=\"data row109 col2\" >1232730.000000</td>\n",
              "                        <td id=\"T_db3a6760_1ead_11eb_85ce_0242ac1c0002row109_col3\" class=\"data row109 col3\" >1232985.102229</td>\n",
              "                        <td id=\"T_db3a6760_1ead_11eb_85ce_0242ac1c0002row109_col4\" class=\"data row109 col4\" >107796500.000000</td>\n",
              "                        <td id=\"T_db3a6760_1ead_11eb_85ce_0242ac1c0002row109_col5\" class=\"data row109 col5\" >107778040.580024</td>\n",
              "                        <td id=\"T_db3a6760_1ead_11eb_85ce_0242ac1c0002row109_col6\" class=\"data row109 col6\" >3017.625000</td>\n",
              "                        <td id=\"T_db3a6760_1ead_11eb_85ce_0242ac1c0002row109_col7\" class=\"data row109 col7\" >3018.301599</td>\n",
              "                        <td id=\"T_db3a6760_1ead_11eb_85ce_0242ac1c0002row109_col8\" class=\"data row109 col8\" >1731.850000</td>\n",
              "                        <td id=\"T_db3a6760_1ead_11eb_85ce_0242ac1c0002row109_col9\" class=\"data row109 col9\" >1733.301503</td>\n",
              "                        <td id=\"T_db3a6760_1ead_11eb_85ce_0242ac1c0002row109_col10\" class=\"data row109 col10\" >9516.125000</td>\n",
              "                        <td id=\"T_db3a6760_1ead_11eb_85ce_0242ac1c0002row109_col11\" class=\"data row109 col11\" >9514.560914</td>\n",
              "            </tr>\n",
              "            <tr>\n",
              "                        <th id=\"T_db3a6760_1ead_11eb_85ce_0242ac1c0002level0_row110\" class=\"row_heading level0 row110\" >2020-05-29 19:10:00</th>\n",
              "                        <td id=\"T_db3a6760_1ead_11eb_85ce_0242ac1c0002row110_col0\" class=\"data row110 col0\" >1109950.000000</td>\n",
              "                        <td id=\"T_db3a6760_1ead_11eb_85ce_0242ac1c0002row110_col1\" class=\"data row110 col1\" >1110288.164135</td>\n",
              "                        <td id=\"T_db3a6760_1ead_11eb_85ce_0242ac1c0002row110_col2\" class=\"data row110 col2\" >1232375.000000</td>\n",
              "                        <td id=\"T_db3a6760_1ead_11eb_85ce_0242ac1c0002row110_col3\" class=\"data row110 col3\" >1232985.964970</td>\n",
              "                        <td id=\"T_db3a6760_1ead_11eb_85ce_0242ac1c0002row110_col4\" class=\"data row110 col4\" >107814500.000000</td>\n",
              "                        <td id=\"T_db3a6760_1ead_11eb_85ce_0242ac1c0002row110_col5\" class=\"data row110 col5\" >107778026.677687</td>\n",
              "                        <td id=\"T_db3a6760_1ead_11eb_85ce_0242ac1c0002row110_col6\" class=\"data row110 col6\" >3017.375000</td>\n",
              "                        <td id=\"T_db3a6760_1ead_11eb_85ce_0242ac1c0002row110_col7\" class=\"data row110 col7\" >3018.296653</td>\n",
              "                        <td id=\"T_db3a6760_1ead_11eb_85ce_0242ac1c0002row110_col8\" class=\"data row110 col8\" >1731.400000</td>\n",
              "                        <td id=\"T_db3a6760_1ead_11eb_85ce_0242ac1c0002row110_col9\" class=\"data row110 col9\" >1733.300213</td>\n",
              "                        <td id=\"T_db3a6760_1ead_11eb_85ce_0242ac1c0002row110_col10\" class=\"data row110 col10\" >9513.125000</td>\n",
              "                        <td id=\"T_db3a6760_1ead_11eb_85ce_0242ac1c0002row110_col11\" class=\"data row110 col11\" >9514.537654</td>\n",
              "            </tr>\n",
              "            <tr>\n",
              "                        <th id=\"T_db3a6760_1ead_11eb_85ce_0242ac1c0002level0_row111\" class=\"row_heading level0 row111\" >2020-05-29 19:09:00</th>\n",
              "                        <td id=\"T_db3a6760_1ead_11eb_85ce_0242ac1c0002row111_col0\" class=\"data row111 col0\" >1110025.000000</td>\n",
              "                        <td id=\"T_db3a6760_1ead_11eb_85ce_0242ac1c0002row111_col1\" class=\"data row111 col1\" >1110287.720458</td>\n",
              "                        <td id=\"T_db3a6760_1ead_11eb_85ce_0242ac1c0002row111_col2\" class=\"data row111 col2\" >1232230.000000</td>\n",
              "                        <td id=\"T_db3a6760_1ead_11eb_85ce_0242ac1c0002row111_col3\" class=\"data row111 col3\" >1232986.738775</td>\n",
              "                        <td id=\"T_db3a6760_1ead_11eb_85ce_0242ac1c0002row111_col4\" class=\"data row111 col4\" >107797000.000000</td>\n",
              "                        <td id=\"T_db3a6760_1ead_11eb_85ce_0242ac1c0002row111_col5\" class=\"data row111 col5\" >107778013.153377</td>\n",
              "                        <td id=\"T_db3a6760_1ead_11eb_85ce_0242ac1c0002row111_col6\" class=\"data row111 col6\" >3016.250000</td>\n",
              "                        <td id=\"T_db3a6760_1ead_11eb_85ce_0242ac1c0002row111_col7\" class=\"data row111 col7\" >3018.291688</td>\n",
              "                        <td id=\"T_db3a6760_1ead_11eb_85ce_0242ac1c0002row111_col8\" class=\"data row111 col8\" >1731.350000</td>\n",
              "                        <td id=\"T_db3a6760_1ead_11eb_85ce_0242ac1c0002row111_col9\" class=\"data row111 col9\" >1733.298929</td>\n",
              "                        <td id=\"T_db3a6760_1ead_11eb_85ce_0242ac1c0002row111_col10\" class=\"data row111 col10\" >9506.125000</td>\n",
              "                        <td id=\"T_db3a6760_1ead_11eb_85ce_0242ac1c0002row111_col11\" class=\"data row111 col11\" >9514.514325</td>\n",
              "            </tr>\n",
              "            <tr>\n",
              "                        <th id=\"T_db3a6760_1ead_11eb_85ce_0242ac1c0002level0_row112\" class=\"row_heading level0 row112\" >2020-05-29 19:08:00</th>\n",
              "                        <td id=\"T_db3a6760_1ead_11eb_85ce_0242ac1c0002row112_col0\" class=\"data row112 col0\" >1110125.000000</td>\n",
              "                        <td id=\"T_db3a6760_1ead_11eb_85ce_0242ac1c0002row112_col1\" class=\"data row112 col1\" >1110287.035522</td>\n",
              "                        <td id=\"T_db3a6760_1ead_11eb_85ce_0242ac1c0002row112_col2\" class=\"data row112 col2\" >1233030.000000</td>\n",
              "                        <td id=\"T_db3a6760_1ead_11eb_85ce_0242ac1c0002row112_col3\" class=\"data row112 col3\" >1232987.682721</td>\n",
              "                        <td id=\"T_db3a6760_1ead_11eb_85ce_0242ac1c0002row112_col4\" class=\"data row112 col4\" >107791000.000000</td>\n",
              "                        <td id=\"T_db3a6760_1ead_11eb_85ce_0242ac1c0002row112_col5\" class=\"data row112 col5\" >107777999.065609</td>\n",
              "                        <td id=\"T_db3a6760_1ead_11eb_85ce_0242ac1c0002row112_col6\" class=\"data row112 col6\" >3016.625000</td>\n",
              "                        <td id=\"T_db3a6760_1ead_11eb_85ce_0242ac1c0002row112_col7\" class=\"data row112 col7\" >3018.287024</td>\n",
              "                        <td id=\"T_db3a6760_1ead_11eb_85ce_0242ac1c0002row112_col8\" class=\"data row112 col8\" >1731.650000</td>\n",
              "                        <td id=\"T_db3a6760_1ead_11eb_85ce_0242ac1c0002row112_col9\" class=\"data row112 col9\" >1733.297652</td>\n",
              "                        <td id=\"T_db3a6760_1ead_11eb_85ce_0242ac1c0002row112_col10\" class=\"data row112 col10\" >9507.750000</td>\n",
              "                        <td id=\"T_db3a6760_1ead_11eb_85ce_0242ac1c0002row112_col11\" class=\"data row112 col11\" >9514.492035</td>\n",
              "            </tr>\n",
              "            <tr>\n",
              "                        <th id=\"T_db3a6760_1ead_11eb_85ce_0242ac1c0002level0_row113\" class=\"row_heading level0 row113\" >2020-05-29 19:07:00</th>\n",
              "                        <td id=\"T_db3a6760_1ead_11eb_85ce_0242ac1c0002row113_col0\" class=\"data row113 col0\" >1109925.000000</td>\n",
              "                        <td id=\"T_db3a6760_1ead_11eb_85ce_0242ac1c0002row113_col1\" class=\"data row113 col1\" >1110286.279248</td>\n",
              "                        <td id=\"T_db3a6760_1ead_11eb_85ce_0242ac1c0002row113_col2\" class=\"data row113 col2\" >1232830.000000</td>\n",
              "                        <td id=\"T_db3a6760_1ead_11eb_85ce_0242ac1c0002row113_col3\" class=\"data row113 col3\" >1232988.671138</td>\n",
              "                        <td id=\"T_db3a6760_1ead_11eb_85ce_0242ac1c0002row113_col4\" class=\"data row113 col4\" >107779500.000000</td>\n",
              "                        <td id=\"T_db3a6760_1ead_11eb_85ce_0242ac1c0002row113_col5\" class=\"data row113 col5\" >107777984.219672</td>\n",
              "                        <td id=\"T_db3a6760_1ead_11eb_85ce_0242ac1c0002row113_col6\" class=\"data row113 col6\" >3017.250000</td>\n",
              "                        <td id=\"T_db3a6760_1ead_11eb_85ce_0242ac1c0002row113_col7\" class=\"data row113 col7\" >3018.281748</td>\n",
              "                        <td id=\"T_db3a6760_1ead_11eb_85ce_0242ac1c0002row113_col8\" class=\"data row113 col8\" >1732.300000</td>\n",
              "                        <td id=\"T_db3a6760_1ead_11eb_85ce_0242ac1c0002row113_col9\" class=\"data row113 col9\" >1733.296328</td>\n",
              "                        <td id=\"T_db3a6760_1ead_11eb_85ce_0242ac1c0002row113_col10\" class=\"data row113 col10\" >9511.625000</td>\n",
              "                        <td id=\"T_db3a6760_1ead_11eb_85ce_0242ac1c0002row113_col11\" class=\"data row113 col11\" >9514.467668</td>\n",
              "            </tr>\n",
              "            <tr>\n",
              "                        <th id=\"T_db3a6760_1ead_11eb_85ce_0242ac1c0002level0_row114\" class=\"row_heading level0 row114\" >2020-05-29 19:06:00</th>\n",
              "                        <td id=\"T_db3a6760_1ead_11eb_85ce_0242ac1c0002row114_col0\" class=\"data row114 col0\" >1109925.000000</td>\n",
              "                        <td id=\"T_db3a6760_1ead_11eb_85ce_0242ac1c0002row114_col1\" class=\"data row114 col1\" >1110286.848902</td>\n",
              "                        <td id=\"T_db3a6760_1ead_11eb_85ce_0242ac1c0002row114_col2\" class=\"data row114 col2\" >1232575.000000</td>\n",
              "                        <td id=\"T_db3a6760_1ead_11eb_85ce_0242ac1c0002row114_col3\" class=\"data row114 col3\" >1232988.814317</td>\n",
              "                        <td id=\"T_db3a6760_1ead_11eb_85ce_0242ac1c0002row114_col4\" class=\"data row114 col4\" >107784500.000000</td>\n",
              "                        <td id=\"T_db3a6760_1ead_11eb_85ce_0242ac1c0002row114_col5\" class=\"data row114 col5\" >107777974.626811</td>\n",
              "                        <td id=\"T_db3a6760_1ead_11eb_85ce_0242ac1c0002row114_col6\" class=\"data row114 col6\" >3016.250000</td>\n",
              "                        <td id=\"T_db3a6760_1ead_11eb_85ce_0242ac1c0002row114_col7\" class=\"data row114 col7\" >3018.276431</td>\n",
              "                        <td id=\"T_db3a6760_1ead_11eb_85ce_0242ac1c0002row114_col8\" class=\"data row114 col8\" >1732.050000</td>\n",
              "                        <td id=\"T_db3a6760_1ead_11eb_85ce_0242ac1c0002row114_col9\" class=\"data row114 col9\" >1733.295075</td>\n",
              "                        <td id=\"T_db3a6760_1ead_11eb_85ce_0242ac1c0002row114_col10\" class=\"data row114 col10\" >9507.625000</td>\n",
              "                        <td id=\"T_db3a6760_1ead_11eb_85ce_0242ac1c0002row114_col11\" class=\"data row114 col11\" >9514.443093</td>\n",
              "            </tr>\n",
              "            <tr>\n",
              "                        <th id=\"T_db3a6760_1ead_11eb_85ce_0242ac1c0002level0_row115\" class=\"row_heading level0 row115\" >2020-05-29 19:05:00</th>\n",
              "                        <td id=\"T_db3a6760_1ead_11eb_85ce_0242ac1c0002row115_col0\" class=\"data row115 col0\" >1110175.000000</td>\n",
              "                        <td id=\"T_db3a6760_1ead_11eb_85ce_0242ac1c0002row115_col1\" class=\"data row115 col1\" >1110284.694767</td>\n",
              "                        <td id=\"T_db3a6760_1ead_11eb_85ce_0242ac1c0002row115_col2\" class=\"data row115 col2\" >1232875.000000</td>\n",
              "                        <td id=\"T_db3a6760_1ead_11eb_85ce_0242ac1c0002row115_col3\" class=\"data row115 col3\" >1232990.444613</td>\n",
              "                        <td id=\"T_db3a6760_1ead_11eb_85ce_0242ac1c0002row115_col4\" class=\"data row115 col4\" >107779000.000000</td>\n",
              "                        <td id=\"T_db3a6760_1ead_11eb_85ce_0242ac1c0002row115_col5\" class=\"data row115 col5\" >107777956.338765</td>\n",
              "                        <td id=\"T_db3a6760_1ead_11eb_85ce_0242ac1c0002row115_col6\" class=\"data row115 col6\" >3017.250000</td>\n",
              "                        <td id=\"T_db3a6760_1ead_11eb_85ce_0242ac1c0002row115_col7\" class=\"data row115 col7\" >3018.274354</td>\n",
              "                        <td id=\"T_db3a6760_1ead_11eb_85ce_0242ac1c0002row115_col8\" class=\"data row115 col8\" >1731.750000</td>\n",
              "                        <td id=\"T_db3a6760_1ead_11eb_85ce_0242ac1c0002row115_col9\" class=\"data row115 col9\" >1733.293927</td>\n",
              "                        <td id=\"T_db3a6760_1ead_11eb_85ce_0242ac1c0002row115_col10\" class=\"data row115 col10\" >9514.375000</td>\n",
              "                        <td id=\"T_db3a6760_1ead_11eb_85ce_0242ac1c0002row115_col11\" class=\"data row115 col11\" >9514.429447</td>\n",
              "            </tr>\n",
              "            <tr>\n",
              "                        <th id=\"T_db3a6760_1ead_11eb_85ce_0242ac1c0002level0_row116\" class=\"row_heading level0 row116\" >2020-05-29 19:04:00</th>\n",
              "                        <td id=\"T_db3a6760_1ead_11eb_85ce_0242ac1c0002row116_col0\" class=\"data row116 col0\" >1110050.000000</td>\n",
              "                        <td id=\"T_db3a6760_1ead_11eb_85ce_0242ac1c0002row116_col1\" class=\"data row116 col1\" >1110282.367463</td>\n",
              "                        <td id=\"T_db3a6760_1ead_11eb_85ce_0242ac1c0002row116_col2\" class=\"data row116 col2\" >1233080.000000</td>\n",
              "                        <td id=\"T_db3a6760_1ead_11eb_85ce_0242ac1c0002row116_col3\" class=\"data row116 col3\" >1232992.756836</td>\n",
              "                        <td id=\"T_db3a6760_1ead_11eb_85ce_0242ac1c0002row116_col4\" class=\"data row116 col4\" >107787000.000000</td>\n",
              "                        <td id=\"T_db3a6760_1ead_11eb_85ce_0242ac1c0002row116_col5\" class=\"data row116 col5\" >107777927.263115</td>\n",
              "                        <td id=\"T_db3a6760_1ead_11eb_85ce_0242ac1c0002row116_col6\" class=\"data row116 col6\" >3019.250000</td>\n",
              "                        <td id=\"T_db3a6760_1ead_11eb_85ce_0242ac1c0002row116_col7\" class=\"data row116 col7\" >3018.264419</td>\n",
              "                        <td id=\"T_db3a6760_1ead_11eb_85ce_0242ac1c0002row116_col8\" class=\"data row116 col8\" >1731.050000</td>\n",
              "                        <td id=\"T_db3a6760_1ead_11eb_85ce_0242ac1c0002row116_col9\" class=\"data row116 col9\" >1733.292237</td>\n",
              "                        <td id=\"T_db3a6760_1ead_11eb_85ce_0242ac1c0002row116_col10\" class=\"data row116 col10\" >9522.875000</td>\n",
              "                        <td id=\"T_db3a6760_1ead_11eb_85ce_0242ac1c0002row116_col11\" class=\"data row116 col11\" >9514.389853</td>\n",
              "            </tr>\n",
              "            <tr>\n",
              "                        <th id=\"T_db3a6760_1ead_11eb_85ce_0242ac1c0002level0_row117\" class=\"row_heading level0 row117\" >2020-05-29 19:03:00</th>\n",
              "                        <td id=\"T_db3a6760_1ead_11eb_85ce_0242ac1c0002row117_col0\" class=\"data row117 col0\" >1109725.000000</td>\n",
              "                        <td id=\"T_db3a6760_1ead_11eb_85ce_0242ac1c0002row117_col1\" class=\"data row117 col1\" >1110294.229496</td>\n",
              "                        <td id=\"T_db3a6760_1ead_11eb_85ce_0242ac1c0002row117_col2\" class=\"data row117 col2\" >1233075.000000</td>\n",
              "                        <td id=\"T_db3a6760_1ead_11eb_85ce_0242ac1c0002row117_col3\" class=\"data row117 col3\" >1232988.073848</td>\n",
              "                        <td id=\"T_db3a6760_1ead_11eb_85ce_0242ac1c0002row117_col4\" class=\"data row117 col4\" >107786000.000000</td>\n",
              "                        <td id=\"T_db3a6760_1ead_11eb_85ce_0242ac1c0002row117_col5\" class=\"data row117 col5\" >107777982.105818</td>\n",
              "                        <td id=\"T_db3a6760_1ead_11eb_85ce_0242ac1c0002row117_col6\" class=\"data row117 col6\" >3017.500000</td>\n",
              "                        <td id=\"T_db3a6760_1ead_11eb_85ce_0242ac1c0002row117_col7\" class=\"data row117 col7\" >3018.256612</td>\n",
              "                        <td id=\"T_db3a6760_1ead_11eb_85ce_0242ac1c0002row117_col8\" class=\"data row117 col8\" >1732.100000</td>\n",
              "                        <td id=\"T_db3a6760_1ead_11eb_85ce_0242ac1c0002row117_col9\" class=\"data row117 col9\" >1733.289669</td>\n",
              "                        <td id=\"T_db3a6760_1ead_11eb_85ce_0242ac1c0002row117_col10\" class=\"data row117 col10\" >9514.750000</td>\n",
              "                        <td id=\"T_db3a6760_1ead_11eb_85ce_0242ac1c0002row117_col11\" class=\"data row117 col11\" >9514.359341</td>\n",
              "            </tr>\n",
              "            <tr>\n",
              "                        <th id=\"T_db3a6760_1ead_11eb_85ce_0242ac1c0002level0_row118\" class=\"row_heading level0 row118\" >2020-05-29 19:02:00</th>\n",
              "                        <td id=\"T_db3a6760_1ead_11eb_85ce_0242ac1c0002row118_col0\" class=\"data row118 col0\" >1110580.000000</td>\n",
              "                        <td id=\"T_db3a6760_1ead_11eb_85ce_0242ac1c0002row118_col1\" class=\"data row118 col1\" >1110272.346660</td>\n",
              "                        <td id=\"T_db3a6760_1ead_11eb_85ce_0242ac1c0002row118_col2\" class=\"data row118 col2\" >1233430.000000</td>\n",
              "                        <td id=\"T_db3a6760_1ead_11eb_85ce_0242ac1c0002row118_col3\" class=\"data row118 col3\" >1232991.327318</td>\n",
              "                        <td id=\"T_db3a6760_1ead_11eb_85ce_0242ac1c0002row118_col4\" class=\"data row118 col4\" >107773000.000000</td>\n",
              "                        <td id=\"T_db3a6760_1ead_11eb_85ce_0242ac1c0002row118_col5\" class=\"data row118 col5\" >107777914.611562</td>\n",
              "                        <td id=\"T_db3a6760_1ead_11eb_85ce_0242ac1c0002row118_col6\" class=\"data row118 col6\" >3018.000000</td>\n",
              "                        <td id=\"T_db3a6760_1ead_11eb_85ce_0242ac1c0002row118_col7\" class=\"data row118 col7\" >3018.290904</td>\n",
              "                        <td id=\"T_db3a6760_1ead_11eb_85ce_0242ac1c0002row118_col8\" class=\"data row118 col8\" >1732.200000</td>\n",
              "                        <td id=\"T_db3a6760_1ead_11eb_85ce_0242ac1c0002row118_col9\" class=\"data row118 col9\" >1733.290706</td>\n",
              "                        <td id=\"T_db3a6760_1ead_11eb_85ce_0242ac1c0002row118_col10\" class=\"data row118 col10\" >9516.750000</td>\n",
              "                        <td id=\"T_db3a6760_1ead_11eb_85ce_0242ac1c0002row118_col11\" class=\"data row118 col11\" >9514.457534</td>\n",
              "            </tr>\n",
              "            <tr>\n",
              "                        <th id=\"T_db3a6760_1ead_11eb_85ce_0242ac1c0002level0_row119\" class=\"row_heading level0 row119\" >2020-05-29 19:01:00</th>\n",
              "                        <td id=\"T_db3a6760_1ead_11eb_85ce_0242ac1c0002row119_col0\" class=\"data row119 col0\" >1110360.000000</td>\n",
              "                        <td id=\"T_db3a6760_1ead_11eb_85ce_0242ac1c0002row119_col1\" class=\"data row119 col1\" >1110261.007204</td>\n",
              "                        <td id=\"T_db3a6760_1ead_11eb_85ce_0242ac1c0002row119_col2\" class=\"data row119 col2\" >1232905.000000</td>\n",
              "                        <td id=\"T_db3a6760_1ead_11eb_85ce_0242ac1c0002row119_col3\" class=\"data row119 col3\" >1233013.961475</td>\n",
              "                        <td id=\"T_db3a6760_1ead_11eb_85ce_0242ac1c0002row119_col4\" class=\"data row119 col4\" >107779000.000000</td>\n",
              "                        <td id=\"T_db3a6760_1ead_11eb_85ce_0242ac1c0002row119_col5\" class=\"data row119 col5\" >107777632.118637</td>\n",
              "                        <td id=\"T_db3a6760_1ead_11eb_85ce_0242ac1c0002row119_col6\" class=\"data row119 col6\" >3015.500000</td>\n",
              "                        <td id=\"T_db3a6760_1ead_11eb_85ce_0242ac1c0002row119_col7\" class=\"data row119 col7\" >3018.203375</td>\n",
              "                        <td id=\"T_db3a6760_1ead_11eb_85ce_0242ac1c0002row119_col8\" class=\"data row119 col8\" >1733.050000</td>\n",
              "                        <td id=\"T_db3a6760_1ead_11eb_85ce_0242ac1c0002row119_col9\" class=\"data row119 col9\" >1733.348558</td>\n",
              "                        <td id=\"T_db3a6760_1ead_11eb_85ce_0242ac1c0002row119_col10\" class=\"data row119 col10\" >9503.375000</td>\n",
              "                        <td id=\"T_db3a6760_1ead_11eb_85ce_0242ac1c0002row119_col11\" class=\"data row119 col11\" >9514.136331</td>\n",
              "            </tr>\n",
              "    </tbody></table>"
            ],
            "text/plain": [
              "<pandas.io.formats.style.Styler at 0x7f080eb237f0>"
            ]
          },
          "metadata": {
            "tags": []
          },
          "execution_count": 83
        }
      ]
    },
    {
      "cell_type": "code",
      "metadata": {
        "id": "yXtAufHnmey_"
      },
      "source": [
        "#def inverse_diff(actual_df, pred_df):\n",
        "  #df_res = pred_df.copy()\n",
        "  #columns = actual_df.columns\n",
        "  #for col in columns:\n",
        "    #df_res[str(col)+'_pred'] = actual_\n",
        "    #df[col].iloc[-1] + df_res[str(col)].cumsum()\n",
        "  #return df_res\n",
        "\n",
        "#res = inverse_diff(df[['es','eurusd','gbpusd','gc','nq', 'usdjpy']], df_pred)\n",
        "#res"
      ],
      "execution_count": null,
      "outputs": []
    },
    {
      "cell_type": "markdown",
      "metadata": {
        "id": "u2IMo52oW31v"
      },
      "source": [
        "## Forcast validation"
      ]
    },
    {
      "cell_type": "code",
      "metadata": {
        "id": "gKXyWq45UJ0t",
        "outputId": "0ecdca3a-3998-49fb-d805-4132aaff858b",
        "colab": {
          "base_uri": "https://localhost:8080/",
          "height": 527
        }
      },
      "source": [
        "# EURUSD forcast validation\n",
        "m = concat[['eurusd', 'eurusd_fcast']]\n",
        "m['accuracy'] = round(m.apply(lambda row: row.eurusd_fcast / \n",
        "                                            row.eurusd *100, axis = 1),2)\n",
        "m['accuracy'] = pd.Series([\"{0:.2f}%\".format(val) for val in m['accuracy']], \n",
        "                                     index = m.index)\n",
        "m = m.round(decimals=3)\n",
        "m = m.head(10)\n",
        "def highlight_cols(s):\n",
        "    color = 'yellow'\n",
        "    return 'background-color: %s' % color\n",
        "m.style.applymap(highlight_cols, subset=pd.IndexSlice[:, ['eurusd_fcast']])\n"
      ],
      "execution_count": 86,
      "outputs": [
        {
          "output_type": "stream",
          "text": [
            "/usr/local/lib/python3.6/dist-packages/pyforest/__init__.py:4: SettingWithCopyWarning:\n",
            "\n",
            "\n",
            "A value is trying to be set on a copy of a slice from a DataFrame.\n",
            "Try using .loc[row_indexer,col_indexer] = value instead\n",
            "\n",
            "See the caveats in the documentation: https://pandas.pydata.org/pandas-docs/stable/user_guide/indexing.html#returning-a-view-versus-a-copy\n",
            "\n"
          ],
          "name": "stderr"
        },
        {
          "output_type": "display_data",
          "data": {
            "application/javascript": [
              "\n",
              "        if (window._pyforest_update_imports_cell) { window._pyforest_update_imports_cell('import plotly.express as px\\nimport tensorflow as tf\\nimport pandas as pd\\nimport plotly as py\\nimport pydot\\nimport nltk\\nimport glob\\nimport altair as alt\\nimport numpy as np\\nimport matplotlib as mpl\\nimport gensim\\nimport bokeh\\nfrom sklearn.model_selection import train_test_split\\nimport matplotlib.pyplot as plt\\nimport tqdm\\nimport plotly.graph_objs as go\\nimport re\\nimport lightgbm as lgb\\nfrom openpyxl import load_workbook'); }\n",
              "    "
            ],
            "text/plain": [
              "<IPython.core.display.Javascript object>"
            ]
          },
          "metadata": {
            "tags": []
          }
        },
        {
          "output_type": "stream",
          "text": [
            "/usr/local/lib/python3.6/dist-packages/pyforest/__init__.py:6: SettingWithCopyWarning:\n",
            "\n",
            "\n",
            "A value is trying to be set on a copy of a slice from a DataFrame.\n",
            "Try using .loc[row_indexer,col_indexer] = value instead\n",
            "\n",
            "See the caveats in the documentation: https://pandas.pydata.org/pandas-docs/stable/user_guide/indexing.html#returning-a-view-versus-a-copy\n",
            "\n"
          ],
          "name": "stderr"
        },
        {
          "output_type": "display_data",
          "data": {
            "application/javascript": [
              "\n",
              "        if (window._pyforest_update_imports_cell) { window._pyforest_update_imports_cell('import plotly.express as px\\nimport tensorflow as tf\\nimport pandas as pd\\nimport plotly as py\\nimport pydot\\nimport nltk\\nimport glob\\nimport altair as alt\\nimport numpy as np\\nimport matplotlib as mpl\\nimport gensim\\nimport bokeh\\nfrom sklearn.model_selection import train_test_split\\nimport matplotlib.pyplot as plt\\nimport tqdm\\nimport plotly.graph_objs as go\\nimport re\\nimport lightgbm as lgb\\nfrom openpyxl import load_workbook'); }\n",
              "    "
            ],
            "text/plain": [
              "<IPython.core.display.Javascript object>"
            ]
          },
          "metadata": {
            "tags": []
          }
        },
        {
          "output_type": "execute_result",
          "data": {
            "text/html": [
              "<style  type=\"text/css\" >\n",
              "#T_a8c6c5ac_1eae_11eb_85ce_0242ac1c0002row0_col1,#T_a8c6c5ac_1eae_11eb_85ce_0242ac1c0002row1_col1,#T_a8c6c5ac_1eae_11eb_85ce_0242ac1c0002row2_col1,#T_a8c6c5ac_1eae_11eb_85ce_0242ac1c0002row3_col1,#T_a8c6c5ac_1eae_11eb_85ce_0242ac1c0002row4_col1,#T_a8c6c5ac_1eae_11eb_85ce_0242ac1c0002row5_col1,#T_a8c6c5ac_1eae_11eb_85ce_0242ac1c0002row6_col1,#T_a8c6c5ac_1eae_11eb_85ce_0242ac1c0002row7_col1,#T_a8c6c5ac_1eae_11eb_85ce_0242ac1c0002row8_col1,#T_a8c6c5ac_1eae_11eb_85ce_0242ac1c0002row9_col1{\n",
              "            background-color:  yellow;\n",
              "        }</style><table id=\"T_a8c6c5ac_1eae_11eb_85ce_0242ac1c0002\" ><thead>    <tr>        <th class=\"blank level0\" ></th>        <th class=\"col_heading level0 col0\" >eurusd</th>        <th class=\"col_heading level0 col1\" >eurusd_fcast</th>        <th class=\"col_heading level0 col2\" >accuracy</th>    </tr>    <tr>        <th class=\"index_name level0\" >timestamp</th>        <th class=\"blank\" ></th>        <th class=\"blank\" ></th>        <th class=\"blank\" ></th>    </tr></thead><tbody>\n",
              "                <tr>\n",
              "                        <th id=\"T_a8c6c5ac_1eae_11eb_85ce_0242ac1c0002level0_row0\" class=\"row_heading level0 row0\" >2020-05-29 21:00:00</th>\n",
              "                        <td id=\"T_a8c6c5ac_1eae_11eb_85ce_0242ac1c0002row0_col0\" class=\"data row0 col0\" >1113400.000000</td>\n",
              "                        <td id=\"T_a8c6c5ac_1eae_11eb_85ce_0242ac1c0002row0_col1\" class=\"data row0 col1\" >1110348.761000</td>\n",
              "                        <td id=\"T_a8c6c5ac_1eae_11eb_85ce_0242ac1c0002row0_col2\" class=\"data row0 col2\" >99.73%</td>\n",
              "            </tr>\n",
              "            <tr>\n",
              "                        <th id=\"T_a8c6c5ac_1eae_11eb_85ce_0242ac1c0002level0_row1\" class=\"row_heading level0 row1\" >2020-05-29 20:59:00</th>\n",
              "                        <td id=\"T_a8c6c5ac_1eae_11eb_85ce_0242ac1c0002row1_col0\" class=\"data row1 col0\" >1113400.000000</td>\n",
              "                        <td id=\"T_a8c6c5ac_1eae_11eb_85ce_0242ac1c0002row1_col1\" class=\"data row1 col1\" >1110348.211000</td>\n",
              "                        <td id=\"T_a8c6c5ac_1eae_11eb_85ce_0242ac1c0002row1_col2\" class=\"data row1 col2\" >99.73%</td>\n",
              "            </tr>\n",
              "            <tr>\n",
              "                        <th id=\"T_a8c6c5ac_1eae_11eb_85ce_0242ac1c0002level0_row2\" class=\"row_heading level0 row2\" >2020-05-29 20:58:00</th>\n",
              "                        <td id=\"T_a8c6c5ac_1eae_11eb_85ce_0242ac1c0002row2_col0\" class=\"data row2 col0\" >1111650.000000</td>\n",
              "                        <td id=\"T_a8c6c5ac_1eae_11eb_85ce_0242ac1c0002row2_col1\" class=\"data row2 col1\" >1110347.660000</td>\n",
              "                        <td id=\"T_a8c6c5ac_1eae_11eb_85ce_0242ac1c0002row2_col2\" class=\"data row2 col2\" >99.88%</td>\n",
              "            </tr>\n",
              "            <tr>\n",
              "                        <th id=\"T_a8c6c5ac_1eae_11eb_85ce_0242ac1c0002level0_row3\" class=\"row_heading level0 row3\" >2020-05-29 20:57:00</th>\n",
              "                        <td id=\"T_a8c6c5ac_1eae_11eb_85ce_0242ac1c0002row3_col0\" class=\"data row3 col0\" >1111750.000000</td>\n",
              "                        <td id=\"T_a8c6c5ac_1eae_11eb_85ce_0242ac1c0002row3_col1\" class=\"data row3 col1\" >1110347.109000</td>\n",
              "                        <td id=\"T_a8c6c5ac_1eae_11eb_85ce_0242ac1c0002row3_col2\" class=\"data row3 col2\" >99.87%</td>\n",
              "            </tr>\n",
              "            <tr>\n",
              "                        <th id=\"T_a8c6c5ac_1eae_11eb_85ce_0242ac1c0002level0_row4\" class=\"row_heading level0 row4\" >2020-05-29 20:56:00</th>\n",
              "                        <td id=\"T_a8c6c5ac_1eae_11eb_85ce_0242ac1c0002row4_col0\" class=\"data row4 col0\" >1111740.000000</td>\n",
              "                        <td id=\"T_a8c6c5ac_1eae_11eb_85ce_0242ac1c0002row4_col1\" class=\"data row4 col1\" >1110346.559000</td>\n",
              "                        <td id=\"T_a8c6c5ac_1eae_11eb_85ce_0242ac1c0002row4_col2\" class=\"data row4 col2\" >99.87%</td>\n",
              "            </tr>\n",
              "            <tr>\n",
              "                        <th id=\"T_a8c6c5ac_1eae_11eb_85ce_0242ac1c0002level0_row5\" class=\"row_heading level0 row5\" >2020-05-29 20:55:00</th>\n",
              "                        <td id=\"T_a8c6c5ac_1eae_11eb_85ce_0242ac1c0002row5_col0\" class=\"data row5 col0\" >1110660.000000</td>\n",
              "                        <td id=\"T_a8c6c5ac_1eae_11eb_85ce_0242ac1c0002row5_col1\" class=\"data row5 col1\" >1110346.008000</td>\n",
              "                        <td id=\"T_a8c6c5ac_1eae_11eb_85ce_0242ac1c0002row5_col2\" class=\"data row5 col2\" >99.97%</td>\n",
              "            </tr>\n",
              "            <tr>\n",
              "                        <th id=\"T_a8c6c5ac_1eae_11eb_85ce_0242ac1c0002level0_row6\" class=\"row_heading level0 row6\" >2020-05-29 20:54:00</th>\n",
              "                        <td id=\"T_a8c6c5ac_1eae_11eb_85ce_0242ac1c0002row6_col0\" class=\"data row6 col0\" >1110785.000000</td>\n",
              "                        <td id=\"T_a8c6c5ac_1eae_11eb_85ce_0242ac1c0002row6_col1\" class=\"data row6 col1\" >1110345.457000</td>\n",
              "                        <td id=\"T_a8c6c5ac_1eae_11eb_85ce_0242ac1c0002row6_col2\" class=\"data row6 col2\" >99.96%</td>\n",
              "            </tr>\n",
              "            <tr>\n",
              "                        <th id=\"T_a8c6c5ac_1eae_11eb_85ce_0242ac1c0002level0_row7\" class=\"row_heading level0 row7\" >2020-05-29 20:53:00</th>\n",
              "                        <td id=\"T_a8c6c5ac_1eae_11eb_85ce_0242ac1c0002row7_col0\" class=\"data row7 col0\" >1110845.000000</td>\n",
              "                        <td id=\"T_a8c6c5ac_1eae_11eb_85ce_0242ac1c0002row7_col1\" class=\"data row7 col1\" >1110344.907000</td>\n",
              "                        <td id=\"T_a8c6c5ac_1eae_11eb_85ce_0242ac1c0002row7_col2\" class=\"data row7 col2\" >99.95%</td>\n",
              "            </tr>\n",
              "            <tr>\n",
              "                        <th id=\"T_a8c6c5ac_1eae_11eb_85ce_0242ac1c0002level0_row8\" class=\"row_heading level0 row8\" >2020-05-29 20:52:00</th>\n",
              "                        <td id=\"T_a8c6c5ac_1eae_11eb_85ce_0242ac1c0002row8_col0\" class=\"data row8 col0\" >1110745.000000</td>\n",
              "                        <td id=\"T_a8c6c5ac_1eae_11eb_85ce_0242ac1c0002row8_col1\" class=\"data row8 col1\" >1110344.356000</td>\n",
              "                        <td id=\"T_a8c6c5ac_1eae_11eb_85ce_0242ac1c0002row8_col2\" class=\"data row8 col2\" >99.96%</td>\n",
              "            </tr>\n",
              "            <tr>\n",
              "                        <th id=\"T_a8c6c5ac_1eae_11eb_85ce_0242ac1c0002level0_row9\" class=\"row_heading level0 row9\" >2020-05-29 20:51:00</th>\n",
              "                        <td id=\"T_a8c6c5ac_1eae_11eb_85ce_0242ac1c0002row9_col0\" class=\"data row9 col0\" >1110660.000000</td>\n",
              "                        <td id=\"T_a8c6c5ac_1eae_11eb_85ce_0242ac1c0002row9_col1\" class=\"data row9 col1\" >1110343.805000</td>\n",
              "                        <td id=\"T_a8c6c5ac_1eae_11eb_85ce_0242ac1c0002row9_col2\" class=\"data row9 col2\" >99.97%</td>\n",
              "            </tr>\n",
              "    </tbody></table>"
            ],
            "text/plain": [
              "<pandas.io.formats.style.Styler at 0x7f080d4695f8>"
            ]
          },
          "metadata": {
            "tags": []
          },
          "execution_count": 86
        }
      ]
    },
    {
      "cell_type": "markdown",
      "metadata": {
        "id": "UNoVI8PpWw5S"
      },
      "source": [
        "## Accuracy Metrics:"
      ]
    },
    {
      "cell_type": "code",
      "metadata": {
        "id": "u7I1z987VTek",
        "outputId": "17438656-6a75-491f-db28-34a92ec6d15c",
        "colab": {
          "base_uri": "https://localhost:8080/",
          "height": 225
        }
      },
      "source": [
        "from sklearn.metrics import r2_score, mean_absolute_error, mean_squared_error\n",
        "from sklearn.metrics import mean_absolute_error, mean_squared_log_error\n",
        "\n",
        "# score eur_usd\n",
        "r_squared = r2_score(concat.eurusd, concat.eurusd_fcast)\n",
        "mae = mean_absolute_error(concat.eurusd, concat.eurusd_fcast)\n",
        "mse = mean_squared_error(concat.eurusd, concat.eurusd_fcast)\n",
        "rmse = np.sqrt(mse)\n",
        "mape = np.mean(np.abs((concat['eurusd'].values - concat['eurusd_fcast'].values) / concat['eurusd'].values)) * 100\n",
        "msle = mean_squared_log_error(concat.eurusd, concat.eurusd_fcast)\n",
        "sum = DataFrame(index = ['R-squared', 'Mean Absolute Error', 'Mean squared error', 'Root mean squared error',\n",
        "                            'Mean absolute % error','Mean squared log Error'])\n",
        "sum['Accuracy metrics :    EURUSD'] = [r_squared, mae, mse, rmse, mape, msle]\n",
        "\n",
        "# score gbp_usd\n",
        "r_squared = r2_score(concat.gbpusd, concat.gbpusd_fcast)\n",
        "mae = mean_absolute_error(concat.gbpusd, concat.gbpusd_fcast)\n",
        "mse = mean_squared_error(concat.gbpusd, concat.gbpusd_fcast)\n",
        "rmse = np.sqrt(mse)\n",
        "mape = np.mean(np.abs((concat['gbpusd'].values - concat['gbpusd_fcast'].values) / concat['gbpusd'].values)) * 100\n",
        "msle = mean_squared_log_error(concat.gbpusd, concat.gbpusd_fcast)\n",
        "sum['GBPUSD'] = [r_squared, mae, mse, rmse, mape, msle]\n",
        "\n",
        "# score usd_jpy\n",
        "r_squared = r2_score(concat.usdjpy, concat.usdjpy_fcast)\n",
        "mae = mean_absolute_error(concat.usdjpy, concat.usdjpy_fcast)\n",
        "mse = mean_squared_error(concat.usdjpy, concat.usdjpy_fcast)\n",
        "rmse = np.sqrt(mse)\n",
        "mape = np.mean(np.abs((concat['usdjpy'].values - concat['usdjpy_fcast'].values) / concat['usdjpy'].values)) * 100\n",
        "msle = mean_squared_log_error(concat.usdjpy, concat.usdjpy_fcast)\n",
        "sum['USDJPY'] = [r_squared, mae, mse, rmse, mape, msle]\n",
        "\n",
        "# score NQ\n",
        "r_squared = r2_score(concat.nq, concat.nq_fcast)\n",
        "mae = mean_absolute_error(concat.nq, concat.nq_fcast)\n",
        "mse = mean_squared_error(concat.nq, concat.nq_fcast)\n",
        "rmse = np.sqrt(mse)\n",
        "mape = np.mean(np.abs((concat['nq'].values - concat['nq_fcast'].values) / concat['nq'].values)) * 100\n",
        "msle = mean_squared_log_error(concat.nq, concat.nq_fcast)\n",
        "sum['NQ'] = [r_squared, mae, mse, rmse, mape, msle]\n",
        "\n",
        "# score ES\n",
        "r_squared = r2_score(concat.es, concat.es_fcast)\n",
        "mae = mean_absolute_error(concat.es, concat.es_fcast)\n",
        "mse = mean_squared_error(concat.es, concat.es_fcast)\n",
        "rmse = np.sqrt(mse)\n",
        "mape = np.mean(np.abs((concat['es'].values - concat['es_fcast'].values) / concat['es'].values)) * 100\n",
        "msle = mean_squared_log_error(concat.es, concat.es_fcast)\n",
        "sum['ES'] = [r_squared, mae, mse, rmse, mape, msle]\n",
        "\n",
        "# score GC\n",
        "r_squared = r2_score(concat.gc, concat.gc_fcast)\n",
        "mae = mean_absolute_error(concat.gc, concat.gc_fcast)\n",
        "mse = mean_squared_error(concat.gc, concat.gc_fcast)\n",
        "rmse = np.sqrt(mse)\n",
        "mape = np.mean(np.abs((concat['gc'].values - concat['gc_fcast'].values) / concat['gc'].values)) * 100\n",
        "msle = mean_squared_log_error(concat.gc, concat.gc_fcast)\n",
        "sum['GC'] = [r_squared, mae, mse, rmse, mape, msle]\n",
        "sum\n"
      ],
      "execution_count": 92,
      "outputs": [
        {
          "output_type": "display_data",
          "data": {
            "application/javascript": [
              "\n",
              "        if (window._pyforest_update_imports_cell) { window._pyforest_update_imports_cell('import sklearn\\nimport seaborn as sns\\nimport matplotlib as mpl\\nimport tensorflow as tf\\nimport nltk\\nimport altair as alt\\nimport sys\\nimport spacy\\nimport plotly.graph_objs as go\\nimport re\\nimport pandas as pd\\nimport pydot\\nimport glob\\nimport numpy as np\\nimport gensim\\nfrom sklearn.model_selection import train_test_split\\nimport matplotlib.pyplot as plt\\nimport statistics\\nfrom openpyxl import load_workbook\\nimport plotly.express as px\\nimport plotly as py\\nimport bokeh\\nimport tqdm\\nfrom sklearn import svm\\nimport lightgbm as lgb'); }\n",
              "    "
            ],
            "text/plain": [
              "<IPython.core.display.Javascript object>"
            ]
          },
          "metadata": {
            "tags": []
          }
        },
        {
          "output_type": "display_data",
          "data": {
            "application/javascript": [
              "\n",
              "        if (window._pyforest_update_imports_cell) { window._pyforest_update_imports_cell('import sklearn\\nimport seaborn as sns\\nimport matplotlib as mpl\\nimport tensorflow as tf\\nimport nltk\\nimport altair as alt\\nimport sys\\nimport spacy\\nimport plotly.graph_objs as go\\nimport re\\nimport pandas as pd\\nimport pydot\\nimport glob\\nimport numpy as np\\nimport gensim\\nfrom sklearn.model_selection import train_test_split\\nimport matplotlib.pyplot as plt\\nimport statistics\\nfrom openpyxl import load_workbook\\nimport plotly.express as px\\nimport plotly as py\\nimport bokeh\\nimport tqdm\\nfrom sklearn import svm\\nimport lightgbm as lgb'); }\n",
              "    "
            ],
            "text/plain": [
              "<IPython.core.display.Javascript object>"
            ]
          },
          "metadata": {
            "tags": []
          }
        },
        {
          "output_type": "display_data",
          "data": {
            "application/javascript": [
              "\n",
              "        if (window._pyforest_update_imports_cell) { window._pyforest_update_imports_cell('import sklearn\\nimport seaborn as sns\\nimport matplotlib as mpl\\nimport tensorflow as tf\\nimport nltk\\nimport altair as alt\\nimport sys\\nimport spacy\\nimport plotly.graph_objs as go\\nimport re\\nimport pandas as pd\\nimport pydot\\nimport glob\\nimport numpy as np\\nimport gensim\\nfrom sklearn.model_selection import train_test_split\\nimport matplotlib.pyplot as plt\\nimport statistics\\nfrom openpyxl import load_workbook\\nimport plotly.express as px\\nimport plotly as py\\nimport bokeh\\nimport tqdm\\nfrom sklearn import svm\\nimport lightgbm as lgb'); }\n",
              "    "
            ],
            "text/plain": [
              "<IPython.core.display.Javascript object>"
            ]
          },
          "metadata": {
            "tags": []
          }
        },
        {
          "output_type": "display_data",
          "data": {
            "application/javascript": [
              "\n",
              "        if (window._pyforest_update_imports_cell) { window._pyforest_update_imports_cell('import sklearn\\nimport seaborn as sns\\nimport matplotlib as mpl\\nimport tensorflow as tf\\nimport nltk\\nimport altair as alt\\nimport sys\\nimport spacy\\nimport plotly.graph_objs as go\\nimport re\\nimport pandas as pd\\nimport pydot\\nimport glob\\nimport numpy as np\\nimport gensim\\nfrom sklearn.model_selection import train_test_split\\nimport matplotlib.pyplot as plt\\nimport statistics\\nfrom openpyxl import load_workbook\\nimport plotly.express as px\\nimport plotly as py\\nimport bokeh\\nimport tqdm\\nfrom sklearn import svm\\nimport lightgbm as lgb'); }\n",
              "    "
            ],
            "text/plain": [
              "<IPython.core.display.Javascript object>"
            ]
          },
          "metadata": {
            "tags": []
          }
        },
        {
          "output_type": "display_data",
          "data": {
            "application/javascript": [
              "\n",
              "        if (window._pyforest_update_imports_cell) { window._pyforest_update_imports_cell('import sklearn\\nimport seaborn as sns\\nimport matplotlib as mpl\\nimport tensorflow as tf\\nimport nltk\\nimport altair as alt\\nimport sys\\nimport spacy\\nimport plotly.graph_objs as go\\nimport re\\nimport pandas as pd\\nimport pydot\\nimport glob\\nimport numpy as np\\nimport gensim\\nfrom sklearn.model_selection import train_test_split\\nimport matplotlib.pyplot as plt\\nimport statistics\\nfrom openpyxl import load_workbook\\nimport plotly.express as px\\nimport plotly as py\\nimport bokeh\\nimport tqdm\\nfrom sklearn import svm\\nimport lightgbm as lgb'); }\n",
              "    "
            ],
            "text/plain": [
              "<IPython.core.display.Javascript object>"
            ]
          },
          "metadata": {
            "tags": []
          }
        },
        {
          "output_type": "display_data",
          "data": {
            "application/javascript": [
              "\n",
              "        if (window._pyforest_update_imports_cell) { window._pyforest_update_imports_cell('import sklearn\\nimport seaborn as sns\\nimport matplotlib as mpl\\nimport tensorflow as tf\\nimport nltk\\nimport altair as alt\\nimport sys\\nimport spacy\\nimport plotly.graph_objs as go\\nimport re\\nimport pandas as pd\\nimport pydot\\nimport glob\\nimport numpy as np\\nimport gensim\\nfrom sklearn.model_selection import train_test_split\\nimport matplotlib.pyplot as plt\\nimport statistics\\nfrom openpyxl import load_workbook\\nimport plotly.express as px\\nimport plotly as py\\nimport bokeh\\nimport tqdm\\nfrom sklearn import svm\\nimport lightgbm as lgb'); }\n",
              "    "
            ],
            "text/plain": [
              "<IPython.core.display.Javascript object>"
            ]
          },
          "metadata": {
            "tags": []
          }
        },
        {
          "output_type": "display_data",
          "data": {
            "application/javascript": [
              "\n",
              "        if (window._pyforest_update_imports_cell) { window._pyforest_update_imports_cell('import sklearn\\nimport seaborn as sns\\nimport matplotlib as mpl\\nimport tensorflow as tf\\nimport nltk\\nimport altair as alt\\nimport sys\\nimport spacy\\nimport plotly.graph_objs as go\\nimport re\\nimport pandas as pd\\nimport pydot\\nimport glob\\nimport numpy as np\\nimport gensim\\nfrom sklearn.model_selection import train_test_split\\nimport matplotlib.pyplot as plt\\nimport statistics\\nfrom openpyxl import load_workbook\\nimport plotly.express as px\\nimport plotly as py\\nimport bokeh\\nimport tqdm\\nfrom sklearn import svm\\nimport lightgbm as lgb'); }\n",
              "    "
            ],
            "text/plain": [
              "<IPython.core.display.Javascript object>"
            ]
          },
          "metadata": {
            "tags": []
          }
        },
        {
          "output_type": "display_data",
          "data": {
            "application/javascript": [
              "\n",
              "        if (window._pyforest_update_imports_cell) { window._pyforest_update_imports_cell('import sklearn\\nimport seaborn as sns\\nimport matplotlib as mpl\\nimport tensorflow as tf\\nimport nltk\\nimport altair as alt\\nimport sys\\nimport spacy\\nimport plotly.graph_objs as go\\nimport re\\nimport pandas as pd\\nimport pydot\\nimport glob\\nimport numpy as np\\nimport gensim\\nfrom sklearn.model_selection import train_test_split\\nimport matplotlib.pyplot as plt\\nimport statistics\\nfrom openpyxl import load_workbook\\nimport plotly.express as px\\nimport plotly as py\\nimport bokeh\\nimport tqdm\\nfrom sklearn import svm\\nimport lightgbm as lgb'); }\n",
              "    "
            ],
            "text/plain": [
              "<IPython.core.display.Javascript object>"
            ]
          },
          "metadata": {
            "tags": []
          }
        },
        {
          "output_type": "display_data",
          "data": {
            "application/javascript": [
              "\n",
              "        if (window._pyforest_update_imports_cell) { window._pyforest_update_imports_cell('import sklearn\\nimport seaborn as sns\\nimport matplotlib as mpl\\nimport tensorflow as tf\\nimport nltk\\nimport altair as alt\\nimport sys\\nimport spacy\\nimport plotly.graph_objs as go\\nimport re\\nimport pandas as pd\\nimport pydot\\nimport glob\\nimport numpy as np\\nimport gensim\\nfrom sklearn.model_selection import train_test_split\\nimport matplotlib.pyplot as plt\\nimport statistics\\nfrom openpyxl import load_workbook\\nimport plotly.express as px\\nimport plotly as py\\nimport bokeh\\nimport tqdm\\nfrom sklearn import svm\\nimport lightgbm as lgb'); }\n",
              "    "
            ],
            "text/plain": [
              "<IPython.core.display.Javascript object>"
            ]
          },
          "metadata": {
            "tags": []
          }
        },
        {
          "output_type": "display_data",
          "data": {
            "application/javascript": [
              "\n",
              "        if (window._pyforest_update_imports_cell) { window._pyforest_update_imports_cell('import sklearn\\nimport seaborn as sns\\nimport matplotlib as mpl\\nimport tensorflow as tf\\nimport nltk\\nimport altair as alt\\nimport sys\\nimport spacy\\nimport plotly.graph_objs as go\\nimport re\\nimport pandas as pd\\nimport pydot\\nimport glob\\nimport numpy as np\\nimport gensim\\nfrom sklearn.model_selection import train_test_split\\nimport matplotlib.pyplot as plt\\nimport statistics\\nfrom openpyxl import load_workbook\\nimport plotly.express as px\\nimport plotly as py\\nimport bokeh\\nimport tqdm\\nfrom sklearn import svm\\nimport lightgbm as lgb'); }\n",
              "    "
            ],
            "text/plain": [
              "<IPython.core.display.Javascript object>"
            ]
          },
          "metadata": {
            "tags": []
          }
        },
        {
          "output_type": "display_data",
          "data": {
            "application/javascript": [
              "\n",
              "        if (window._pyforest_update_imports_cell) { window._pyforest_update_imports_cell('import sklearn\\nimport seaborn as sns\\nimport matplotlib as mpl\\nimport tensorflow as tf\\nimport nltk\\nimport altair as alt\\nimport sys\\nimport spacy\\nimport plotly.graph_objs as go\\nimport re\\nimport pandas as pd\\nimport pydot\\nimport glob\\nimport numpy as np\\nimport gensim\\nfrom sklearn.model_selection import train_test_split\\nimport matplotlib.pyplot as plt\\nimport statistics\\nfrom openpyxl import load_workbook\\nimport plotly.express as px\\nimport plotly as py\\nimport bokeh\\nimport tqdm\\nfrom sklearn import svm\\nimport lightgbm as lgb'); }\n",
              "    "
            ],
            "text/plain": [
              "<IPython.core.display.Javascript object>"
            ]
          },
          "metadata": {
            "tags": []
          }
        },
        {
          "output_type": "display_data",
          "data": {
            "application/javascript": [
              "\n",
              "        if (window._pyforest_update_imports_cell) { window._pyforest_update_imports_cell('import sklearn\\nimport seaborn as sns\\nimport matplotlib as mpl\\nimport tensorflow as tf\\nimport nltk\\nimport altair as alt\\nimport sys\\nimport spacy\\nimport plotly.graph_objs as go\\nimport re\\nimport pandas as pd\\nimport pydot\\nimport glob\\nimport numpy as np\\nimport gensim\\nfrom sklearn.model_selection import train_test_split\\nimport matplotlib.pyplot as plt\\nimport statistics\\nfrom openpyxl import load_workbook\\nimport plotly.express as px\\nimport plotly as py\\nimport bokeh\\nimport tqdm\\nfrom sklearn import svm\\nimport lightgbm as lgb'); }\n",
              "    "
            ],
            "text/plain": [
              "<IPython.core.display.Javascript object>"
            ]
          },
          "metadata": {
            "tags": []
          }
        },
        {
          "output_type": "display_data",
          "data": {
            "application/javascript": [
              "\n",
              "        if (window._pyforest_update_imports_cell) { window._pyforest_update_imports_cell('import sklearn\\nimport seaborn as sns\\nimport matplotlib as mpl\\nimport tensorflow as tf\\nimport nltk\\nimport altair as alt\\nimport sys\\nimport spacy\\nimport plotly.graph_objs as go\\nimport re\\nimport pandas as pd\\nimport pydot\\nimport glob\\nimport numpy as np\\nimport gensim\\nfrom sklearn.model_selection import train_test_split\\nimport matplotlib.pyplot as plt\\nimport statistics\\nfrom openpyxl import load_workbook\\nimport plotly.express as px\\nimport plotly as py\\nimport bokeh\\nimport tqdm\\nfrom sklearn import svm\\nimport lightgbm as lgb'); }\n",
              "    "
            ],
            "text/plain": [
              "<IPython.core.display.Javascript object>"
            ]
          },
          "metadata": {
            "tags": []
          }
        },
        {
          "output_type": "display_data",
          "data": {
            "application/javascript": [
              "\n",
              "        if (window._pyforest_update_imports_cell) { window._pyforest_update_imports_cell('import sklearn\\nimport seaborn as sns\\nimport matplotlib as mpl\\nimport tensorflow as tf\\nimport nltk\\nimport altair as alt\\nimport sys\\nimport spacy\\nimport plotly.graph_objs as go\\nimport re\\nimport pandas as pd\\nimport pydot\\nimport glob\\nimport numpy as np\\nimport gensim\\nfrom sklearn.model_selection import train_test_split\\nimport matplotlib.pyplot as plt\\nimport statistics\\nfrom openpyxl import load_workbook\\nimport plotly.express as px\\nimport plotly as py\\nimport bokeh\\nimport tqdm\\nfrom sklearn import svm\\nimport lightgbm as lgb'); }\n",
              "    "
            ],
            "text/plain": [
              "<IPython.core.display.Javascript object>"
            ]
          },
          "metadata": {
            "tags": []
          }
        },
        {
          "output_type": "display_data",
          "data": {
            "application/javascript": [
              "\n",
              "        if (window._pyforest_update_imports_cell) { window._pyforest_update_imports_cell('import sklearn\\nimport seaborn as sns\\nimport matplotlib as mpl\\nimport tensorflow as tf\\nimport nltk\\nimport altair as alt\\nimport sys\\nimport spacy\\nimport plotly.graph_objs as go\\nimport re\\nimport pandas as pd\\nimport pydot\\nimport glob\\nimport numpy as np\\nimport gensim\\nfrom sklearn.model_selection import train_test_split\\nimport matplotlib.pyplot as plt\\nimport statistics\\nfrom openpyxl import load_workbook\\nimport plotly.express as px\\nimport plotly as py\\nimport bokeh\\nimport tqdm\\nfrom sklearn import svm\\nimport lightgbm as lgb'); }\n",
              "    "
            ],
            "text/plain": [
              "<IPython.core.display.Javascript object>"
            ]
          },
          "metadata": {
            "tags": []
          }
        },
        {
          "output_type": "display_data",
          "data": {
            "application/javascript": [
              "\n",
              "        if (window._pyforest_update_imports_cell) { window._pyforest_update_imports_cell('import sklearn\\nimport seaborn as sns\\nimport matplotlib as mpl\\nimport tensorflow as tf\\nimport nltk\\nimport altair as alt\\nimport sys\\nimport spacy\\nimport plotly.graph_objs as go\\nimport re\\nimport pandas as pd\\nimport pydot\\nimport glob\\nimport numpy as np\\nimport gensim\\nfrom sklearn.model_selection import train_test_split\\nimport matplotlib.pyplot as plt\\nimport statistics\\nfrom openpyxl import load_workbook\\nimport plotly.express as px\\nimport plotly as py\\nimport bokeh\\nimport tqdm\\nfrom sklearn import svm\\nimport lightgbm as lgb'); }\n",
              "    "
            ],
            "text/plain": [
              "<IPython.core.display.Javascript object>"
            ]
          },
          "metadata": {
            "tags": []
          }
        },
        {
          "output_type": "display_data",
          "data": {
            "application/javascript": [
              "\n",
              "        if (window._pyforest_update_imports_cell) { window._pyforest_update_imports_cell('import sklearn\\nimport seaborn as sns\\nimport matplotlib as mpl\\nimport tensorflow as tf\\nimport nltk\\nimport altair as alt\\nimport sys\\nimport spacy\\nimport plotly.graph_objs as go\\nimport re\\nimport pandas as pd\\nimport pydot\\nimport glob\\nimport numpy as np\\nimport gensim\\nfrom sklearn.model_selection import train_test_split\\nimport matplotlib.pyplot as plt\\nimport statistics\\nfrom openpyxl import load_workbook\\nimport plotly.express as px\\nimport plotly as py\\nimport bokeh\\nimport tqdm\\nfrom sklearn import svm\\nimport lightgbm as lgb'); }\n",
              "    "
            ],
            "text/plain": [
              "<IPython.core.display.Javascript object>"
            ]
          },
          "metadata": {
            "tags": []
          }
        },
        {
          "output_type": "display_data",
          "data": {
            "application/javascript": [
              "\n",
              "        if (window._pyforest_update_imports_cell) { window._pyforest_update_imports_cell('import sklearn\\nimport seaborn as sns\\nimport matplotlib as mpl\\nimport tensorflow as tf\\nimport nltk\\nimport altair as alt\\nimport sys\\nimport spacy\\nimport plotly.graph_objs as go\\nimport re\\nimport pandas as pd\\nimport pydot\\nimport glob\\nimport numpy as np\\nimport gensim\\nfrom sklearn.model_selection import train_test_split\\nimport matplotlib.pyplot as plt\\nimport statistics\\nfrom openpyxl import load_workbook\\nimport plotly.express as px\\nimport plotly as py\\nimport bokeh\\nimport tqdm\\nfrom sklearn import svm\\nimport lightgbm as lgb'); }\n",
              "    "
            ],
            "text/plain": [
              "<IPython.core.display.Javascript object>"
            ]
          },
          "metadata": {
            "tags": []
          }
        },
        {
          "output_type": "execute_result",
          "data": {
            "text/html": [
              "<div>\n",
              "<style scoped>\n",
              "    .dataframe tbody tr th:only-of-type {\n",
              "        vertical-align: middle;\n",
              "    }\n",
              "\n",
              "    .dataframe tbody tr th {\n",
              "        vertical-align: top;\n",
              "    }\n",
              "\n",
              "    .dataframe thead th {\n",
              "        text-align: right;\n",
              "    }\n",
              "</style>\n",
              "<table border=\"1\" class=\"dataframe\">\n",
              "  <thead>\n",
              "    <tr style=\"text-align: right;\">\n",
              "      <th></th>\n",
              "      <th>Accuracy metrics :    EURUSD</th>\n",
              "      <th>GBPUSD</th>\n",
              "      <th>USDJPY</th>\n",
              "      <th>NQ</th>\n",
              "      <th>ES</th>\n",
              "      <th>GC</th>\n",
              "    </tr>\n",
              "  </thead>\n",
              "  <tbody>\n",
              "    <tr>\n",
              "      <th>R-squared</th>\n",
              "      <td>-0.17</td>\n",
              "      <td>-0.70</td>\n",
              "      <td>-1.00</td>\n",
              "      <td>-1.45</td>\n",
              "      <td>-0.32</td>\n",
              "      <td>-10.56</td>\n",
              "    </tr>\n",
              "    <tr>\n",
              "      <th>Mean Absolute Error</th>\n",
              "      <td>583.51</td>\n",
              "      <td>1572.24</td>\n",
              "      <td>38503.25</td>\n",
              "      <td>39.07</td>\n",
              "      <td>4.83</td>\n",
              "      <td>1.22</td>\n",
              "    </tr>\n",
              "    <tr>\n",
              "      <th>Mean squared error</th>\n",
              "      <td>603625.34</td>\n",
              "      <td>3475801.49</td>\n",
              "      <td>2567748041.42</td>\n",
              "      <td>2271.15</td>\n",
              "      <td>31.94</td>\n",
              "      <td>1.62</td>\n",
              "    </tr>\n",
              "    <tr>\n",
              "      <th>Root mean squared error</th>\n",
              "      <td>776.93</td>\n",
              "      <td>1864.35</td>\n",
              "      <td>50672.95</td>\n",
              "      <td>47.66</td>\n",
              "      <td>5.65</td>\n",
              "      <td>1.27</td>\n",
              "    </tr>\n",
              "    <tr>\n",
              "      <th>Mean absolute % error</th>\n",
              "      <td>0.05</td>\n",
              "      <td>0.13</td>\n",
              "      <td>0.04</td>\n",
              "      <td>0.41</td>\n",
              "      <td>0.16</td>\n",
              "      <td>0.07</td>\n",
              "    </tr>\n",
              "    <tr>\n",
              "      <th>Mean squared log Error</th>\n",
              "      <td>0.00</td>\n",
              "      <td>0.00</td>\n",
              "      <td>0.00</td>\n",
              "      <td>0.00</td>\n",
              "      <td>0.00</td>\n",
              "      <td>0.00</td>\n",
              "    </tr>\n",
              "  </tbody>\n",
              "</table>\n",
              "</div>"
            ],
            "text/plain": [
              "                         Accuracy metrics :    EURUSD     GBPUSD  ...    ES     GC\n",
              "R-squared                                       -0.17      -0.70  ... -0.32 -10.56\n",
              "Mean Absolute Error                            583.51    1572.24  ...  4.83   1.22\n",
              "Mean squared error                          603625.34 3475801.49  ... 31.94   1.62\n",
              "Root mean squared error                        776.93    1864.35  ...  5.65   1.27\n",
              "Mean absolute % error                            0.05       0.13  ...  0.16   0.07\n",
              "Mean squared log Error                           0.00       0.00  ...  0.00   0.00\n",
              "\n",
              "[6 rows x 6 columns]"
            ]
          },
          "metadata": {
            "tags": []
          },
          "execution_count": 92
        }
      ]
    }
  ]
}